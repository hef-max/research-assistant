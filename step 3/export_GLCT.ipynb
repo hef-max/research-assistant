{
 "cells": [
  {
   "cell_type": "code",
   "execution_count": 1,
   "metadata": {},
   "outputs": [],
   "source": [
    "import numpy as np\n",
    "import pandas as pd\n",
    "import xarray"
   ]
  },
  {
   "cell_type": "code",
   "execution_count": 2,
   "metadata": {},
   "outputs": [],
   "source": [
    "GLCT_string = xarray.open_dataset(\"D:/kerja/asisten riset/vol/milkunC/achaidir/IMAGE PBL/SSP2/GLCT_trans.nc\", engine=\"netcdf4\")"
   ]
  },
  {
   "cell_type": "code",
   "execution_count": 3,
   "metadata": {},
   "outputs": [],
   "source": [
    "glct_trans = np.zeros((10, 2160, 4320), dtype='<U14')\n",
    "\n",
    "for i in range(10):\n",
    "    prev_nicknames_with_to = np.add(GLCT_string['GLCT_trans'].isel(time=i), '_to_')\n",
    "    glct_trans[i] = np.add(prev_nicknames_with_to, GLCT_string['GLCT_trans'].isel(time=i+1))"
   ]
  },
  {
   "cell_type": "markdown",
   "metadata": {},
   "source": [
    "#### GLCT Transisi"
   ]
  },
  {
   "cell_type": "code",
   "execution_count": 4,
   "metadata": {},
   "outputs": [],
   "source": [
    "glct_trans_netcdf = xarray.Dataset({\n",
    "        \"GLCT_trans\":([\"time\", \"latitude\", \"longitude\"], glct_trans)\n",
    "    },\n",
    "    coords={\n",
    "        \"time\": pd.date_range(start='1975-01-01', end='2020-01-01', freq='5YS'),\n",
    "        \"latitude\": GLCT_string.coords[\"latitude\"].to_numpy(),\n",
    "        \"longitude\": GLCT_string.coords[\"longitude\"].to_numpy()\n",
    "    })\n",
    "glct_trans_netcdf.to_netcdf(\"D:/kerja/asisten riset/vol/milkunC/achaidir/IMAGE PBL/SSP2/GLCTtrans.nc\", mode=\"w\", format=\"NETCDF4\")"
   ]
  },
  {
   "cell_type": "code",
   "execution_count": 7,
   "metadata": {},
   "outputs": [
    {
     "data": {
      "text/plain": [
       "array('tuwd_to_tuwd', dtype='<U14')"
      ]
     },
     "execution_count": 7,
     "metadata": {},
     "output_type": "execute_result"
    }
   ],
   "source": [
    "glct_trans_netcdf[\"GLCT_trans\"].isel(time=0, latitude=163, longitude=3498).values"
   ]
  },
  {
   "cell_type": "code",
   "execution_count": 5,
   "metadata": {},
   "outputs": [],
   "source": [
    "glctdf = pd.read_excel(\"D:/kerja/asisten riset/vol/milkunC/achaidir/IMAGE PBL/SSP2/GLCT_FINAL.xlsx\", sheet_name=\"Sheet5\", index_col=False, engine=\"openpyxl\",)\n",
    "land_use_transitions = dict(glctdf[['trans_name', 'Classification_1st']].values)"
   ]
  },
  {
   "cell_type": "markdown",
   "metadata": {},
   "source": [
    "#### GLCT Level 1"
   ]
  },
  {
   "cell_type": "code",
   "execution_count": 6,
   "metadata": {},
   "outputs": [
    {
     "name": "stderr",
     "output_type": "stream",
     "text": [
      "C:\\Users\\HEFRYA~1\\AppData\\Local\\Temp/ipykernel_6392/2775561661.py:7: FutureWarning: 'AS' is deprecated and will be removed in a future version, please use 'YS' instead.\n",
      "  \"time\": pd.date_range(start='1975-01-01', end='2020-01-01', freq='5AS'),\n"
     ]
    }
   ],
   "source": [
    "GLCT_1st = np.array([land_use_transitions.get(label_id, 'ocean_to_ocean') for label_id in glct_trans.ravel()], dtype='<U16').reshape(glct_trans.shape)\n",
    "\n",
    "trans_glct1st_netcdf = xarray.Dataset({\n",
    "        \"GLCT_1st\":([\"time\", \"latitude\", \"longitude\"], GLCT_1st)\n",
    "    },\n",
    "    coords={\n",
    "        \"time\": pd.date_range(start='1975-01-01', end='2020-01-01', freq='5YS'),\n",
    "        \"latitude\": glct_trans_netcdf.coords[\"latitude\"].to_numpy(),\n",
    "        \"longitude\": glct_trans_netcdf.coords[\"longitude\"].to_numpy()\n",
    "    })\n",
    "trans_glct1st_netcdf.to_netcdf('D:/kerja/asisten riset/vol/milkunC/achaidir/IMAGE PBL/SSP2/GLCT_trans1st.nc',mode=\"w\", format=\"NETCDF4\")"
   ]
  }
 ],
 "metadata": {
  "kernelspec": {
   "display_name": "Python 3",
   "language": "python",
   "name": "python3"
  },
  "language_info": {
   "codemirror_mode": {
    "name": "ipython",
    "version": 3
   },
   "file_extension": ".py",
   "mimetype": "text/x-python",
   "name": "python",
   "nbconvert_exporter": "python",
   "pygments_lexer": "ipython3",
   "version": "3.9.7"
  }
 },
 "nbformat": 4,
 "nbformat_minor": 2
}
