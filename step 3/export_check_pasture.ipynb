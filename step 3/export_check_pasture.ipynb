{
 "cells": [
  {
   "cell_type": "code",
   "execution_count": 1,
   "metadata": {},
   "outputs": [],
   "source": [
    "import numpy as np\n",
    "import xarray\n",
    "import pandas as pd"
   ]
  },
  {
   "cell_type": "code",
   "execution_count": 2,
   "metadata": {},
   "outputs": [],
   "source": [
    "GFRAC = xarray.open_dataset(\"D:/kerja/asisten riset/vol/milkunC/achaidir/IMAGE PBL/SSP2/GFRAC_NEW.nc\", engine=\"netcdf4\")\n",
    "GAREA = xarray.open_dataset(\"D:/kerja/asisten riset/vol/milkunarc/cadlan/Analysis1_slidingwindows/GAREA.NC\", engine=\"netcdf4\")\n",
    "GLCT = xarray.open_dataset(\"D:/kerja/asisten riset/vol/milkunC/achaidir/IMAGE PBL/SSP2/GLCT_trans.nc\", engine=\"netcdf4\")\n",
    "GLCT_1st = xarray.open_dataset('D:/kerja/asisten riset/vol/milkunC/achaidir/IMAGE PBL/SSP2/GLCT_trans1st.nc', engine=\"netcdf4\")"
   ]
  },
  {
   "cell_type": "markdown",
   "metadata": {},
   "source": [
    "array(['trof', 'trof', 'trof', 'agri', 'agri', 'agri'], dtype=object)"
   ]
  },
  {
   "cell_type": "code",
   "execution_count": 3,
   "metadata": {},
   "outputs": [],
   "source": [
    "glct_array = np.where(GLCT['GLCT_trans'].isel(time=slice(0,11)).to_numpy() == \"agri\", 1, 0)"
   ]
  },
  {
   "cell_type": "code",
   "execution_count": 22,
   "metadata": {},
   "outputs": [],
   "source": [
    "# asumsi glct_array sudah didefinisikan sebelumnya\n",
    "area_pasture_thn1st = np.zeros((1, 2160, 4320), dtype='float32')\n",
    "\n",
    "for n in range(1, 11):\n",
    "    # jika tahun awal == 0 (bukan agri) dan tahun depan == 1 (agri)\n",
    "    area_pasture_thn1st[0] += np.where(GFRAC['GFRAC_new'].isel(time=n, NGFBFC=0).to_numpy() > 0,\n",
    "                                        np.where(glct_array[n-1] == 0, GFRAC['GFRAC_new'].isel(time=n, NGFBFC=0).to_numpy(), 0), 0)"
   ]
  },
  {
   "cell_type": "code",
   "execution_count": 31,
   "metadata": {},
   "outputs": [],
   "source": [
    "area_pasture_thn1st_netcdf = xarray.Dataset({\n",
    "    \"area_pasture\":([\"latitude\", \"longitude\"], area_pasture_thn1st[0])\n",
    "},coords={\n",
    "        \"latitude\": GFRAC.coords[\"latitude\"].to_numpy(),\n",
    "        \"longitude\": GFRAC.coords[\"longitude\"].to_numpy()\n",
    "})"
   ]
  },
  {
   "cell_type": "code",
   "execution_count": 33,
   "metadata": {},
   "outputs": [
    {
     "data": {
      "text/plain": [
       "array(0.6818724, dtype=float32)"
      ]
     },
     "execution_count": 33,
     "metadata": {},
     "output_type": "execute_result"
    }
   ],
   "source": [
    "x = [-51.706, -55.974643, 101.457, 109.38, -96.6289, 48.966]\n",
    "y = [-22.698, -21.208333, 31.4420, -7.11, 18.549639, -18.07]\n",
    "n = 1\n",
    "\n",
    "area_pasture_thn1st_netcdf['area_pasture'].sel(latitude=y[n], longitude=x[n], method='nearest').to_pandas()"
   ]
  },
  {
   "cell_type": "code",
   "execution_count": 30,
   "metadata": {},
   "outputs": [],
   "source": [
    "# asumsi glct_array sudah didefinisikan sebelumnya\n",
    "area_pasture_thn1end = np.zeros((1, 2160, 4320), dtype='float32')\n",
    " \n",
    "area_pasture_thn1end[0] = np.where(GFRAC['GFRAC_new'].isel(time=11, NGFBFC=0).to_numpy() > 0, GFRAC['GFRAC_new'].isel(time=11, NGFBFC=0).to_numpy(), 0)"
   ]
  },
  {
   "cell_type": "code",
   "execution_count": 44,
   "metadata": {},
   "outputs": [],
   "source": [
    "# if pasture tahun pertama true dan tahun terakhir true:\n",
    "#  ambil nilai tahun pertama sebagai tahun pertama dan ambil nilai terakhir sebagai tahun terakhir\n",
    "result_kondisi_a_tahunawal = np.where(area_pasture_thn1st[0] > 0, np.where(area_pasture_thn1end[0] > 0, area_pasture_thn1st[0], 0), 0).sum()\n",
    "result_kondisi_a_tahunakhir = np.where(area_pasture_thn1st[0] > 0, np.where(area_pasture_thn1end[0] > 0, area_pasture_thn1end[0], 0), 0).sum()"
   ]
  },
  {
   "cell_type": "code",
   "execution_count": 45,
   "metadata": {},
   "outputs": [],
   "source": [
    "result_kondisi_b_tahunawal = np.where(area_pasture_thn1st[0] > 0, np.where(area_pasture_thn1end[0] == 0, area_pasture_thn1st[0], 0), 0).sum()\n",
    "result_kondisi_b_tahunakhir = np.where(area_pasture_thn1st[0] > 0, np.where(area_pasture_thn1end[0] == 0, area_pasture_thn1end[0], 0), 0).sum()"
   ]
  },
  {
   "cell_type": "code",
   "execution_count": 48,
   "metadata": {},
   "outputs": [],
   "source": [
    "# asumsi glct_array sudah didefinisikan sebelumnya\n",
    "area_pasture_dari_awal = np.zeros((1, 2160, 4320), dtype='float32')\n",
    "\n",
    "area_pasture_dari_awal[0] = np.where(GFRAC['GFRAC_new'].isel(time=0, NGFBFC=0).to_numpy() > 0, GFRAC['GFRAC_new'].isel(time=0, NGFBFC=0).to_numpy(), 0)"
   ]
  },
  {
   "cell_type": "code",
   "execution_count": 49,
   "metadata": {},
   "outputs": [],
   "source": [
    "result_kondisi_c_tahunawal = np.where(area_pasture_dari_awal[0] > 0, np.where(area_pasture_thn1end[0] > 0, area_pasture_thn1st[0], 0), 0).sum()\n",
    "result_kondisi_c_tahunakhir = np.where(area_pasture_dari_awal[0] > 0, np.where(area_pasture_thn1end[0] > 0, area_pasture_thn1end[0], 0), 0).sum()"
   ]
  },
  {
   "cell_type": "code",
   "execution_count": 53,
   "metadata": {},
   "outputs": [
    {
     "data": {
      "text/html": [
       "<div>\n",
       "<style scoped>\n",
       "    .dataframe tbody tr th:only-of-type {\n",
       "        vertical-align: middle;\n",
       "    }\n",
       "\n",
       "    .dataframe tbody tr th {\n",
       "        vertical-align: top;\n",
       "    }\n",
       "\n",
       "    .dataframe thead th {\n",
       "        text-align: right;\n",
       "    }\n",
       "</style>\n",
       "<table border=\"1\" class=\"dataframe\">\n",
       "  <thead>\n",
       "    <tr style=\"text-align: right;\">\n",
       "      <th></th>\n",
       "      <th>Tahun Awal</th>\n",
       "      <th>Tahun Akhir</th>\n",
       "    </tr>\n",
       "  </thead>\n",
       "  <tbody>\n",
       "    <tr>\n",
       "      <th>Kondisi A</th>\n",
       "      <td>1.651735e+06</td>\n",
       "      <td>208988.078125</td>\n",
       "    </tr>\n",
       "    <tr>\n",
       "      <th>Kondisi B</th>\n",
       "      <td>3.679683e+03</td>\n",
       "      <td>0.000000</td>\n",
       "    </tr>\n",
       "    <tr>\n",
       "      <th>Kondisi C</th>\n",
       "      <td>1.604261e+06</td>\n",
       "      <td>415406.250000</td>\n",
       "    </tr>\n",
       "  </tbody>\n",
       "</table>\n",
       "</div>"
      ],
      "text/plain": [
       "             Tahun Awal    Tahun Akhir\n",
       "Kondisi A  1.651735e+06  208988.078125\n",
       "Kondisi B  3.679683e+03       0.000000\n",
       "Kondisi C  1.604261e+06  415406.250000"
      ]
     },
     "execution_count": 53,
     "metadata": {},
     "output_type": "execute_result"
    }
   ],
   "source": [
    "df = pd.DataFrame({\n",
    "    \"Tahun Awal\": [result_kondisi_a_tahunawal, result_kondisi_b_tahunawal, result_kondisi_c_tahunawal],\n",
    "    \"Tahun Akhir\": [result_kondisi_a_tahunakhir, result_kondisi_b_tahunakhir, result_kondisi_c_tahunakhir]\n",
    "}, index=[\"Kondisi A\", \"Kondisi B\", \"Kondisi C\"])\n",
    "df"
   ]
  }
 ],
 "metadata": {
  "kernelspec": {
   "display_name": "Python 3",
   "language": "python",
   "name": "python3"
  },
  "language_info": {
   "codemirror_mode": {
    "name": "ipython",
    "version": 3
   },
   "file_extension": ".py",
   "mimetype": "text/x-python",
   "name": "python",
   "nbconvert_exporter": "python",
   "pygments_lexer": "ipython3",
   "version": "3.9.7"
  }
 },
 "nbformat": 4,
 "nbformat_minor": 2
}
