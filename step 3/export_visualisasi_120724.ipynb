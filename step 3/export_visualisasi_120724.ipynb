{
 "cells": [
  {
   "cell_type": "code",
   "execution_count": 452,
   "metadata": {},
   "outputs": [],
   "source": [
    "import numpy as np\n",
    "import pandas as pd\n",
    "import xarray\n",
    "import seaborn as sns\n",
    "import matplotlib.pyplot as plt"
   ]
  },
  {
   "cell_type": "code",
   "execution_count": 477,
   "metadata": {},
   "outputs": [],
   "source": [
    "df1 = pd.read_excel(\"D:/kerja/asisten riset/vol/milkunarc/cadlan/Analysis3_LUC/crop_footprint_image_region_v2.xlsx\")\n",
    "df1b = pd.read_csv(\"D:/kerja/asisten riset/vol/milkunC/achaidir/FAO/carbon_footprint_am3.csv\")\n",
    "df2 = pd.read_csv(\"D:/kerja/asisten riset/vol/milkunC/achaidir/IMAGE PBL/SSP2/GFRAC Area Harvested.csv\")\n",
    "df3 = pd.read_csv(\"D:/kerja/asisten riset/vol/milkunC/achaidir/IMAGE PBL/SSP2/GFRAC Area HarvestedRegionType_fulll.csv\")"
   ]
  },
  {
   "cell_type": "code",
   "execution_count": 478,
   "metadata": {},
   "outputs": [
    {
     "data": {
      "text/html": [
       "<div>\n",
       "<style scoped>\n",
       "    .dataframe tbody tr th:only-of-type {\n",
       "        vertical-align: middle;\n",
       "    }\n",
       "\n",
       "    .dataframe tbody tr th {\n",
       "        vertical-align: top;\n",
       "    }\n",
       "\n",
       "    .dataframe thead th {\n",
       "        text-align: right;\n",
       "    }\n",
       "</style>\n",
       "<table border=\"1\" class=\"dataframe\">\n",
       "  <thead>\n",
       "    <tr style=\"text-align: right;\">\n",
       "      <th></th>\n",
       "      <th>IMAGE Region Name</th>\n",
       "      <th>NGFBFC</th>\n",
       "      <th>time</th>\n",
       "      <th>value</th>\n",
       "    </tr>\n",
       "  </thead>\n",
       "  <tbody>\n",
       "    <tr>\n",
       "      <th>187</th>\n",
       "      <td>C. Europe</td>\n",
       "      <td>Oil &amp; palm fruit</td>\n",
       "      <td>1970</td>\n",
       "      <td>0.0</td>\n",
       "    </tr>\n",
       "    <tr>\n",
       "      <th>188</th>\n",
       "      <td>C. Europe</td>\n",
       "      <td>Oil &amp; palm fruit</td>\n",
       "      <td>1975</td>\n",
       "      <td>0.0</td>\n",
       "    </tr>\n",
       "    <tr>\n",
       "      <th>189</th>\n",
       "      <td>C. Europe</td>\n",
       "      <td>Oil &amp; palm fruit</td>\n",
       "      <td>1980</td>\n",
       "      <td>0.0</td>\n",
       "    </tr>\n",
       "    <tr>\n",
       "      <th>190</th>\n",
       "      <td>C. Europe</td>\n",
       "      <td>Oil &amp; palm fruit</td>\n",
       "      <td>1985</td>\n",
       "      <td>0.0</td>\n",
       "    </tr>\n",
       "    <tr>\n",
       "      <th>191</th>\n",
       "      <td>C. Europe</td>\n",
       "      <td>Oil &amp; palm fruit</td>\n",
       "      <td>1990</td>\n",
       "      <td>0.0</td>\n",
       "    </tr>\n",
       "    <tr>\n",
       "      <th>...</th>\n",
       "      <td>...</td>\n",
       "      <td>...</td>\n",
       "      <td>...</td>\n",
       "      <td>...</td>\n",
       "    </tr>\n",
       "    <tr>\n",
       "      <th>4594</th>\n",
       "      <td>W. Europe</td>\n",
       "      <td>Oil &amp; palm fruit</td>\n",
       "      <td>2005</td>\n",
       "      <td>0.0</td>\n",
       "    </tr>\n",
       "    <tr>\n",
       "      <th>4595</th>\n",
       "      <td>W. Europe</td>\n",
       "      <td>Oil &amp; palm fruit</td>\n",
       "      <td>2010</td>\n",
       "      <td>0.0</td>\n",
       "    </tr>\n",
       "    <tr>\n",
       "      <th>4596</th>\n",
       "      <td>W. Europe</td>\n",
       "      <td>Oil &amp; palm fruit</td>\n",
       "      <td>2015</td>\n",
       "      <td>0.0</td>\n",
       "    </tr>\n",
       "    <tr>\n",
       "      <th>4597</th>\n",
       "      <td>W. Europe</td>\n",
       "      <td>Oil &amp; palm fruit</td>\n",
       "      <td>2020</td>\n",
       "      <td>0.0</td>\n",
       "    </tr>\n",
       "    <tr>\n",
       "      <th>4664</th>\n",
       "      <td>W. Europe</td>\n",
       "      <td>Sugar crops</td>\n",
       "      <td>1970</td>\n",
       "      <td>0.0</td>\n",
       "    </tr>\n",
       "  </tbody>\n",
       "</table>\n",
       "<p>390 rows × 4 columns</p>\n",
       "</div>"
      ],
      "text/plain": [
       "     IMAGE Region Name            NGFBFC  time  value\n",
       "187          C. Europe  Oil & palm fruit  1970    0.0\n",
       "188          C. Europe  Oil & palm fruit  1975    0.0\n",
       "189          C. Europe  Oil & palm fruit  1980    0.0\n",
       "190          C. Europe  Oil & palm fruit  1985    0.0\n",
       "191          C. Europe  Oil & palm fruit  1990    0.0\n",
       "...                ...               ...   ...    ...\n",
       "4594         W. Europe  Oil & palm fruit  2005    0.0\n",
       "4595         W. Europe  Oil & palm fruit  2010    0.0\n",
       "4596         W. Europe  Oil & palm fruit  2015    0.0\n",
       "4597         W. Europe  Oil & palm fruit  2020    0.0\n",
       "4664         W. Europe       Sugar crops  1970    0.0\n",
       "\n",
       "[390 rows x 4 columns]"
      ]
     },
     "execution_count": 478,
     "metadata": {},
     "output_type": "execute_result"
    }
   ],
   "source": [
    "df3[df3['value'] <= 0]"
   ]
  },
  {
   "cell_type": "markdown",
   "metadata": {},
   "source": [
    "np.average"
   ]
  },
  {
   "cell_type": "markdown",
   "metadata": {},
   "source": [
    "## opsi 1 2020 saja maize"
   ]
  },
  {
   "cell_type": "code",
   "execution_count": 463,
   "metadata": {},
   "outputs": [
    {
     "data": {
      "text/plain": [
       "array(['Brazil', 'C. Europe', 'Canada', 'China', 'E. Africa', 'India',\n",
       "       'Indonesia', 'Japan', 'Kazakhstan region', 'Korea', 'Mexico',\n",
       "       'Middle East', 'N. Africa', 'N|A', 'Oceania', 'Rest C. America',\n",
       "       'Rest S. Africa', 'Rest S. America', 'Rest S. Asia', 'Russia',\n",
       "       'SE. Asia', 'South Africa', 'Turkey', 'USA', 'Ukraine region',\n",
       "       'W. Africa', 'W. Europe'], dtype=object)"
      ]
     },
     "execution_count": 463,
     "metadata": {},
     "output_type": "execute_result"
    }
   ],
   "source": [
    "df3['IMAGE Region Name'].unique()"
   ]
  },
  {
   "cell_type": "code",
   "execution_count": 479,
   "metadata": {},
   "outputs": [],
   "source": [
    "df1b = df1b[df1b['IMAGE Region Name'] != 'N|A']\n",
    "df3 = df3[df3['IMAGE Region Name'] != 'N|A']"
   ]
  },
  {
   "cell_type": "code",
   "execution_count": 465,
   "metadata": {},
   "outputs": [
    {
     "data": {
      "text/plain": [
       "array([2.27406998e+07, 5.73037587e+06, 1.71724345e+06, 3.93398969e+07,\n",
       "       7.04040149e+06, 9.98872051e+06, 3.70717925e+06, 9.93457673e+01,\n",
       "       3.08699665e+05, 5.82823372e+05, 7.95845506e+06, 3.96376099e+05,\n",
       "       1.33617597e+05, 1.09280804e+05, 2.32609176e+06, 1.25594909e+07,\n",
       "       8.54387264e+06, 2.62275836e+06, 3.18686012e+06, 5.88958286e+06,\n",
       "       2.87844317e+06, 7.48217488e+05, 3.14146925e+07, 5.72547113e+06,\n",
       "       1.74939017e+07, 3.83883826e+06])"
      ]
     },
     "execution_count": 465,
     "metadata": {},
     "output_type": "execute_result"
    }
   ],
   "source": [
    "maize_areaharvested1 = df3[(df3['NGFBFC'] ==  \"Maize\") & (df3['time'] == 2020)]['value'].to_numpy()\n",
    "maize_areaharvested1"
   ]
  },
  {
   "cell_type": "code",
   "execution_count": 466,
   "metadata": {},
   "outputs": [
    {
     "data": {
      "text/plain": [
       "array([1.83600089e+01, 4.78026885e-01, 6.86013727e-02, 8.87766764e-02,\n",
       "       2.87203545e+00, 4.72459330e-01, 3.58579722e-01, 4.15232866e+01,\n",
       "       2.05374004e-01, 2.99379197e+00, 7.64660709e-01, 3.91246907e-02,\n",
       "       2.46882339e+00, 1.00977679e+00, 4.76788703e+01, 1.80262138e+00,\n",
       "       4.13776801e+00, 5.09851840e-01, 1.37436008e-01, 2.99202155e+01,\n",
       "       2.66691912e-01, 2.51909505e+00, 5.90489439e-01, 6.90784703e-02,\n",
       "       3.84817020e-02, 2.06069018e-01])"
      ]
     },
     "execution_count": 466,
     "metadata": {},
     "output_type": "execute_result"
    }
   ],
   "source": [
    "maize = np.nan_to_num(df1b[df1b['NGFBFC'] == \"Maize\"]['Carbon Footprint'].to_numpy())\n",
    "maize"
   ]
  },
  {
   "cell_type": "code",
   "execution_count": 467,
   "metadata": {},
   "outputs": [
    {
     "data": {
      "text/plain": [
       "4.20568480588941"
      ]
     },
     "execution_count": 467,
     "metadata": {},
     "output_type": "execute_result"
    }
   ],
   "source": [
    "opsi1 = np.average(maize, weights=maize_areaharvested1)\n",
    "opsi1"
   ]
  },
  {
   "cell_type": "code",
   "execution_count": 480,
   "metadata": {},
   "outputs": [],
   "source": [
    "data1 = np.zeros((16, 26), dtype='float32')\n",
    "weight1 = np.zeros((16, 26), dtype='float32')\n",
    "result_avg = np.zeros((16), dtype='float32')\n",
    "\n",
    "for i, ngfbfc in enumerate(df1b['NGFBFC'].unique()):\n",
    "    NGFBFC_areaharves2020 = df3[(df3['NGFBFC'] ==  ngfbfc) & (df3['time'] == 2020)]['value'].replace([np.inf, -np.inf], np.nan).to_numpy()\n",
    "    cf = df1b[df1b['NGFBFC'] == ngfbfc]['Carbon Footprint'].replace([np.inf, -np.inf], np.nan).to_numpy()\n",
    "    data1[i] = np.nan_to_num(cf)\n",
    "    weight1[i] = np.nan_to_num(NGFBFC_areaharves2020)\n",
    "\n",
    "for x in range(0, 16):\n",
    "    result_avg[x] = np.average(data1[x], weights=weight1[x])\n"
   ]
  },
  {
   "cell_type": "code",
   "execution_count": 482,
   "metadata": {},
   "outputs": [
    {
     "data": {
      "text/html": [
       "<div>\n",
       "<style scoped>\n",
       "    .dataframe tbody tr th:only-of-type {\n",
       "        vertical-align: middle;\n",
       "    }\n",
       "\n",
       "    .dataframe tbody tr th {\n",
       "        vertical-align: top;\n",
       "    }\n",
       "\n",
       "    .dataframe thead th {\n",
       "        text-align: right;\n",
       "    }\n",
       "</style>\n",
       "<table border=\"1\" class=\"dataframe\">\n",
       "  <thead>\n",
       "    <tr style=\"text-align: right;\">\n",
       "      <th></th>\n",
       "      <th>NGFBFC</th>\n",
       "      <th>value</th>\n",
       "    </tr>\n",
       "  </thead>\n",
       "  <tbody>\n",
       "    <tr>\n",
       "      <th>8</th>\n",
       "      <td>Sugar crops</td>\n",
       "      <td>30.043146</td>\n",
       "    </tr>\n",
       "    <tr>\n",
       "      <th>2</th>\n",
       "      <td>Other non-food &amp; luxury &amp; spices</td>\n",
       "      <td>11.098939</td>\n",
       "    </tr>\n",
       "    <tr>\n",
       "      <th>6</th>\n",
       "      <td>Rice</td>\n",
       "      <td>9.997065</td>\n",
       "    </tr>\n",
       "    <tr>\n",
       "      <th>4</th>\n",
       "      <td>Plant based fibres</td>\n",
       "      <td>8.480935</td>\n",
       "    </tr>\n",
       "    <tr>\n",
       "      <th>12</th>\n",
       "      <td>Tropical oil crops</td>\n",
       "      <td>8.452772</td>\n",
       "    </tr>\n",
       "    <tr>\n",
       "      <th>5</th>\n",
       "      <td>Pulses</td>\n",
       "      <td>7.975793</td>\n",
       "    </tr>\n",
       "    <tr>\n",
       "      <th>13</th>\n",
       "      <td>Tropical roots &amp; tubers</td>\n",
       "      <td>7.604362</td>\n",
       "    </tr>\n",
       "    <tr>\n",
       "      <th>11</th>\n",
       "      <td>Tropical cereals</td>\n",
       "      <td>6.101604</td>\n",
       "    </tr>\n",
       "    <tr>\n",
       "      <th>7</th>\n",
       "      <td>Soybeans</td>\n",
       "      <td>5.845153</td>\n",
       "    </tr>\n",
       "    <tr>\n",
       "      <th>0</th>\n",
       "      <td>Maize</td>\n",
       "      <td>4.205685</td>\n",
       "    </tr>\n",
       "    <tr>\n",
       "      <th>14</th>\n",
       "      <td>Vegetables &amp; fruits</td>\n",
       "      <td>2.534662</td>\n",
       "    </tr>\n",
       "    <tr>\n",
       "      <th>3</th>\n",
       "      <td>Other temperate cereals</td>\n",
       "      <td>1.828109</td>\n",
       "    </tr>\n",
       "    <tr>\n",
       "      <th>15</th>\n",
       "      <td>Wheat</td>\n",
       "      <td>1.695017</td>\n",
       "    </tr>\n",
       "    <tr>\n",
       "      <th>10</th>\n",
       "      <td>Temperate roots &amp; tubers</td>\n",
       "      <td>1.280526</td>\n",
       "    </tr>\n",
       "    <tr>\n",
       "      <th>1</th>\n",
       "      <td>Oil &amp; palm fruit</td>\n",
       "      <td>1.094651</td>\n",
       "    </tr>\n",
       "    <tr>\n",
       "      <th>9</th>\n",
       "      <td>Temperate oil crops</td>\n",
       "      <td>0.991720</td>\n",
       "    </tr>\n",
       "  </tbody>\n",
       "</table>\n",
       "</div>"
      ],
      "text/plain": [
       "                              NGFBFC      value\n",
       "8                        Sugar crops  30.043146\n",
       "2   Other non-food & luxury & spices  11.098939\n",
       "6                               Rice   9.997065\n",
       "4                 Plant based fibres   8.480935\n",
       "12                Tropical oil crops   8.452772\n",
       "5                             Pulses   7.975793\n",
       "13           Tropical roots & tubers   7.604362\n",
       "11                  Tropical cereals   6.101604\n",
       "7                           Soybeans   5.845153\n",
       "0                              Maize   4.205685\n",
       "14               Vegetables & fruits   2.534662\n",
       "3            Other temperate cereals   1.828109\n",
       "15                             Wheat   1.695017\n",
       "10          Temperate roots & tubers   1.280526\n",
       "1                   Oil & palm fruit   1.094651\n",
       "9                Temperate oil crops   0.991720"
      ]
     },
     "execution_count": 482,
     "metadata": {},
     "output_type": "execute_result"
    }
   ],
   "source": [
    "df_avg = pd.DataFrame(result_avg, index=df3['NGFBFC'].unique())\n",
    "df_avg = df_avg.reset_index()\n",
    "df_avg = df_avg.rename(columns={\"index\":'NGFBFC', 0:\"value\"})\n",
    "df_avg = df_avg.sort_values(by=['value'], ascending=[False])\n",
    "df_avg"
   ]
  },
  {
   "cell_type": "markdown",
   "metadata": {},
   "source": [
    "### opsi 2 sum 75-20"
   ]
  },
  {
   "cell_type": "code",
   "execution_count": 53,
   "metadata": {},
   "outputs": [
    {
     "data": {
      "text/plain": [
       "array([1.65233191e+08, 7.11894143e+07, 1.47740506e+07, 2.73985771e+08,\n",
       "       4.49402770e+07, 7.75700314e+07, 3.51947654e+07, 2.01845600e+04,\n",
       "       3.73172828e+06, 6.89735351e+06, 8.01685402e+07, 2.50908282e+06,\n",
       "       1.95938768e+06, 0.00000000e+00, 1.89363997e+06, 2.27596898e+07,\n",
       "       8.84936510e+07, 6.75475853e+07, 2.21359946e+07, 1.69938839e+07,\n",
       "       5.67917878e+07, 4.16384648e+07, 6.80389880e+06, 3.22585162e+08,\n",
       "       3.09298380e+07, 9.79018314e+07, 4.51438495e+07])"
      ]
     },
     "execution_count": 53,
     "metadata": {},
     "output_type": "execute_result"
    }
   ],
   "source": [
    "maize_areaharvested2 = df3[df3['NGFBFC'] ==  \"Maize\"].groupby(['IMAGE Region Name']).sum()['value'].to_numpy()\n",
    "maize_areaharvested2"
   ]
  },
  {
   "cell_type": "code",
   "execution_count": 54,
   "metadata": {},
   "outputs": [
    {
     "data": {
      "text/plain": [
       "4.271017381944207"
      ]
     },
     "execution_count": 54,
     "metadata": {},
     "output_type": "execute_result"
    }
   ],
   "source": [
    "opsi2 = np.average(maize, weights=maize_areaharvested2)\n",
    "opsi2"
   ]
  },
  {
   "cell_type": "code",
   "execution_count": 125,
   "metadata": {},
   "outputs": [
    {
     "name": "stdout",
     "output_type": "stream",
     "text": [
      "nilai tersebut 0\n"
     ]
    }
   ],
   "source": [
    "data2 = np.zeros((16, 26), dtype='float32')\n",
    "weight2 = np.zeros((16, 26), dtype='float32')\n",
    "result_avg2 = np.zeros((16), dtype='float32')\n",
    "\n",
    "for i, ngfbfc in enumerate(df1b['NGFBFC'].unique()):\n",
    "    NGFBFC_areaharves2020 = df3[df3['NGFBFC'] ==  ngfbfc].groupby(['IMAGE Region Name']).sum()['value'].replace([np.inf, -np.inf], np.nan).to_numpy()\n",
    "    cf = df1b[df1b['NGFBFC'] == ngfbfc]['Carbon Footprint'].replace([np.inf, -np.inf], np.nan).to_numpy()\n",
    "    data2[i] = np.nan_to_num(cf)\n",
    "    weight2[i] = np.nan_to_num(NGFBFC_areaharves2020)\n",
    "\n",
    "for x in range(0, 16):\n",
    "    try:\n",
    "        result_avg2[x] = np.average(data2[x], weights=weight2[x])\n",
    "    except:\n",
    "        print(\"nilai tersebut 0\")"
   ]
  },
  {
   "cell_type": "code",
   "execution_count": 484,
   "metadata": {},
   "outputs": [],
   "source": [
    "df_footprint_region = df1b.replace([np.inf, -np.inf], np.nan).fillna(0)\n",
    "df_footprint_region['NGFBFC'] = df_footprint_region['NGFBFC'].replace('grass', 'pasture').replace('oil & palm fruit', 'palm oil').replace('other non-food & luxury & spices', 'non food, luxury, spices')\n",
    "df_footprint_region['NGFBFC'] = df_footprint_region['NGFBFC'].replace('other temperate cereals', 'temperate cereals')\n",
    "df_footprint_region['IMAGE Region Name'] = df_footprint_region['IMAGE Region Name'].replace('Kazakhstan region', 'Central Asia').replace('C. Europe', 'Central Europe').replace('E. Africa', 'Eastern Africa').replace('N. Africa', 'Northern Africa')\n",
    "df_footprint_region['IMAGE Region Name'] = df_footprint_region['IMAGE Region Name'].replace('Rest C. America', 'Central America').replace('Rest S. Africa', 'Rest of Southern Africa').replace('Rest S. America', 'Rest of South America')\n",
    "df_footprint_region['IMAGE Region Name'] = df_footprint_region['IMAGE Region Name'].replace('Rest S. Asia', 'Rest of South Asia').replace('SE. Asia', 'Southeast Asia').replace('Rest S. America', 'Rest of South America')\n",
    "df_footprint_region['IMAGE Region Name'] = df_footprint_region['IMAGE Region Name'].replace('W. Africa', 'Western Africa').replace('W. Europe', 'Western Europe').replace('Russia', 'Russia region')\n",
    "df_footprint_region['IMAGE Region Name'] = df_footprint_region['IMAGE Region Name'].replace('Indonesia', 'Indonesia region').replace('China', 'China region').replace('Korea', 'Korea region')\n",
    "# average = df_footprint_region.groupby(['IMAGE Region Name', 'NGFBFC'])['Carbon Footprint'].mean().to_frame('Mean')\n",
    "# average1 = average.reset_index()\n",
    "# average1_filtered = average1[average1['Mean'] < 100]\n",
    "# results = {}\n",
    "\n",
    "# average = average1.sort_values(by=['Mean', 'NGFBFC'], ascending=[True, True])\n",
    "\n",
    "# for country in average['IMAGE Region Name'].unique():\n",
    "#     for category in average['NGFBFC'].unique():\n",
    "#         filtered_data = average[average['NGFBFC'] == category]\n",
    "#         sorted_data = filtered_data.sort_values(by='Mean', ascending=False)\n",
    "#         top_5_data = sorted_data.head(5)\n",
    "#         results[category] = top_5_data\n",
    "\n",
    "# df_footprint_df = pd.concat([pd.concat(results.values())])\n",
    "\n",
    "# df_footprint_df_filtered = df_footprint_df[df_footprint_df['Mean'] < 100]"
   ]
  },
  {
   "cell_type": "code",
   "execution_count": 485,
   "metadata": {},
   "outputs": [
    {
     "data": {
      "text/html": [
       "<div>\n",
       "<style scoped>\n",
       "    .dataframe tbody tr th:only-of-type {\n",
       "        vertical-align: middle;\n",
       "    }\n",
       "\n",
       "    .dataframe tbody tr th {\n",
       "        vertical-align: top;\n",
       "    }\n",
       "\n",
       "    .dataframe thead th {\n",
       "        text-align: right;\n",
       "    }\n",
       "</style>\n",
       "<table border=\"1\" class=\"dataframe\">\n",
       "  <thead>\n",
       "    <tr style=\"text-align: right;\">\n",
       "      <th></th>\n",
       "      <th>NGFBFC</th>\n",
       "      <th>IMAGE Region Name</th>\n",
       "      <th>value</th>\n",
       "    </tr>\n",
       "  </thead>\n",
       "  <tbody>\n",
       "    <tr>\n",
       "      <th>0</th>\n",
       "      <td>Sugar crops</td>\n",
       "      <td>Brazil</td>\n",
       "      <td>4.448221</td>\n",
       "    </tr>\n",
       "    <tr>\n",
       "      <th>1</th>\n",
       "      <td>Other non-food &amp; luxury &amp; spices</td>\n",
       "      <td>Brazil</td>\n",
       "      <td>23.705179</td>\n",
       "    </tr>\n",
       "    <tr>\n",
       "      <th>2</th>\n",
       "      <td>Rice</td>\n",
       "      <td>Brazil</td>\n",
       "      <td>61.346283</td>\n",
       "    </tr>\n",
       "    <tr>\n",
       "      <th>3</th>\n",
       "      <td>Plant based fibres</td>\n",
       "      <td>Brazil</td>\n",
       "      <td>108.937989</td>\n",
       "    </tr>\n",
       "    <tr>\n",
       "      <th>4</th>\n",
       "      <td>Tropical oil crops</td>\n",
       "      <td>Brazil</td>\n",
       "      <td>59.946962</td>\n",
       "    </tr>\n",
       "    <tr>\n",
       "      <th>5</th>\n",
       "      <td>Pulses</td>\n",
       "      <td>Brazil</td>\n",
       "      <td>43.577523</td>\n",
       "    </tr>\n",
       "    <tr>\n",
       "      <th>6</th>\n",
       "      <td>Tropical roots &amp; tubers</td>\n",
       "      <td>Brazil</td>\n",
       "      <td>45.833408</td>\n",
       "    </tr>\n",
       "    <tr>\n",
       "      <th>7</th>\n",
       "      <td>Tropical cereals</td>\n",
       "      <td>Brazil</td>\n",
       "      <td>4.477166</td>\n",
       "    </tr>\n",
       "    <tr>\n",
       "      <th>8</th>\n",
       "      <td>Soybeans</td>\n",
       "      <td>Brazil</td>\n",
       "      <td>7.896657</td>\n",
       "    </tr>\n",
       "    <tr>\n",
       "      <th>9</th>\n",
       "      <td>Maize</td>\n",
       "      <td>Brazil</td>\n",
       "      <td>18.360009</td>\n",
       "    </tr>\n",
       "    <tr>\n",
       "      <th>10</th>\n",
       "      <td>Vegetables &amp; fruits</td>\n",
       "      <td>Brazil</td>\n",
       "      <td>17.484685</td>\n",
       "    </tr>\n",
       "    <tr>\n",
       "      <th>11</th>\n",
       "      <td>Other temperate cereals</td>\n",
       "      <td>Brazil</td>\n",
       "      <td>20.854009</td>\n",
       "    </tr>\n",
       "    <tr>\n",
       "      <th>12</th>\n",
       "      <td>Wheat</td>\n",
       "      <td>Brazil</td>\n",
       "      <td>35.482526</td>\n",
       "    </tr>\n",
       "    <tr>\n",
       "      <th>13</th>\n",
       "      <td>Temperate roots &amp; tubers</td>\n",
       "      <td>Brazil</td>\n",
       "      <td>12.885380</td>\n",
       "    </tr>\n",
       "    <tr>\n",
       "      <th>14</th>\n",
       "      <td>Oil &amp; palm fruit</td>\n",
       "      <td>Brazil</td>\n",
       "      <td>1.575948</td>\n",
       "    </tr>\n",
       "    <tr>\n",
       "      <th>15</th>\n",
       "      <td>Temperate oil crops</td>\n",
       "      <td>Brazil</td>\n",
       "      <td>6.149346</td>\n",
       "    </tr>\n",
       "    <tr>\n",
       "      <th>17</th>\n",
       "      <td>Other non-food &amp; luxury &amp; spices</td>\n",
       "      <td>Canada</td>\n",
       "      <td>0.542646</td>\n",
       "    </tr>\n",
       "  </tbody>\n",
       "</table>\n",
       "</div>"
      ],
      "text/plain": [
       "                              NGFBFC IMAGE Region Name       value\n",
       "0                        Sugar crops            Brazil    4.448221\n",
       "1   Other non-food & luxury & spices            Brazil   23.705179\n",
       "2                               Rice            Brazil   61.346283\n",
       "3                 Plant based fibres            Brazil  108.937989\n",
       "4                 Tropical oil crops            Brazil   59.946962\n",
       "5                             Pulses            Brazil   43.577523\n",
       "6            Tropical roots & tubers            Brazil   45.833408\n",
       "7                   Tropical cereals            Brazil    4.477166\n",
       "8                           Soybeans            Brazil    7.896657\n",
       "9                              Maize            Brazil   18.360009\n",
       "10               Vegetables & fruits            Brazil   17.484685\n",
       "11           Other temperate cereals            Brazil   20.854009\n",
       "12                             Wheat            Brazil   35.482526\n",
       "13          Temperate roots & tubers            Brazil   12.885380\n",
       "14                  Oil & palm fruit            Brazil    1.575948\n",
       "15               Temperate oil crops            Brazil    6.149346\n",
       "17  Other non-food & luxury & spices            Canada    0.542646"
      ]
     },
     "execution_count": 485,
     "metadata": {},
     "output_type": "execute_result"
    }
   ],
   "source": [
    "# average1_filtered.index = average1_filtered['NGFBFC'].values\n",
    "# average1_filtered.reindex()\n",
    "\n",
    "df_footprint_region_table = pd.pivot_table(data=df_footprint_region, index=['NGFBFC', 'time'], columns=['IMAGE Region Name'])\n",
    "df_footprint_region_index = df_footprint_region_table.stack(level=0, future_stack=True)\n",
    "df_footprint_region_index = df_footprint_region_index.reset_index()\n",
    "df_footprint_region_index = df_footprint_region_index.drop(columns=['level_2'])\n",
    "df_footprint_region_index = df_footprint_region_index.drop(columns=['time'])\n",
    "df_footprint_region_index.index = df_footprint_region_index['NGFBFC'].values\n",
    "df_footprint_region_index = df_footprint_region_index.reindex(df_avg['NGFBFC'].values)\n",
    "average1_melt = df_footprint_region_index.melt(id_vars=['NGFBFC'], value_name='value') \n",
    "\n",
    "# average = average1_melt.groupby(['IMAGE Region Name', 'NGFBFC'])['value'].mean().to_frame('Mean')\n",
    "# average1 = average.reset_index()\n",
    "\n",
    "average1_filtered = average1_melt[average1_melt['value'] < 110]\n",
    "\n",
    "results = {}\n",
    "average = average1_melt.sort_values(by=['value', 'NGFBFC'], ascending=[True, True])\n",
    "\n",
    "for country in average1_melt['IMAGE Region Name'].unique():\n",
    "    for category in average['NGFBFC'].unique():\n",
    "        filtered_data = average[average['NGFBFC'] == category]\n",
    "        sorted_data = filtered_data.sort_values(by='value', ascending=False)\n",
    "        top_5_data = sorted_data.head(5)\n",
    "        results[category] = top_5_data\n",
    "\n",
    "df_footprint_df = pd.concat([pd.concat(results.values())])\n",
    "\n",
    "df_footprint_df_filtered = df_footprint_df[df_footprint_df['value'] < 100]\n",
    "\n",
    "average1_filtered[0:17]"
   ]
  },
  {
   "cell_type": "code",
   "execution_count": 486,
   "metadata": {},
   "outputs": [],
   "source": [
    "from scipy.interpolate import make_interp_spline"
   ]
  },
  {
   "cell_type": "code",
   "execution_count": 487,
   "metadata": {},
   "outputs": [
    {
     "data": {
      "image/png": "[encoded data removed]",
      "text/plain": [
       "<Figure size 1440x792 with 1 Axes>"
      ]
     },
     "metadata": {
      "needs_background": "light"
     },
     "output_type": "display_data"
    }
   ],
   "source": [
    "from scipy.interpolate import make_interp_spline\n",
    "\n",
    "fig, ax = plt.subplots(figsize=(20, 11))\n",
    "\n",
    "palettes = {'Oceania': '#B3C8CF','Japan':'#E5E483','Korea region':'#D2D180','China region':'#B2B377','Rest of South Asia':'#EF9595',\n",
    "                'India':'#EFB495','Indonesia region':'#FF8A08','Southeast Asia':'#FFC100','Middle East':'#1B1A55','Central Asia':'#535C91',\n",
    "                'Russia region':'#9290C3',\n",
    "                'Rest of Southern Africa':'#FF0000','South Africa':'#710019','Eastern Africa':'#D43790','Western Africa':'#EC8FD0','Northern Africa':'#F2C5E0',\n",
    "                'Turkey':'#6F4E37','Ukraine region':'#A67B5B','Central Europe':'#ECB176','Western Europe':'#FED8B1',\n",
    "                'Rest of South America':'#254336','Brazil':'#00b2b2','Central America':'#B3E2A7','Mexico':'#003285','USA':'#40A2E3','Canada':'#BBE2EC'}\n",
    "\n",
    "ax.set_xlabel('Crop Footprint ($ton~CO_2/~hectare$)')\n",
    "ax.set_ylabel('Crop Categories')\n",
    "sns.scatterplot(x=\"value\", y=\"NGFBFC\", color='grey',\n",
    "                sizes=(100, 300), alpha=.3, data=average1_filtered)\n",
    "\n",
    "sns.scatterplot(x=\"value\", y=\"NGFBFC\", hue='IMAGE Region Name',\n",
    "                sizes=(100, 300), alpha=.8, palette=palettes, data=df_footprint_df_filtered)\n",
    "ax.legend(bbox_to_anchor=(1.01, 1), ncol=1, loc='upper left')\n",
    "\n",
    "categories = average1_filtered['NGFBFC'].unique()\n",
    "\n",
    "# Mapping kategori ke indeks\n",
    "category_indices = np.arange(len(categories))\n",
    "category_to_index = {category: index for index, category in enumerate(categories)}\n",
    "\n",
    "# Mengonversi kategori ke indeks\n",
    "y_indices = np.array([category_to_index[category] for category in categories])\n",
    "\n",
    "# Interpolasi spline untuk membuat garis lebih halus\n",
    "xnew = np.linspace(y_indices.min(), y_indices.max(), 300)\n",
    "spl = make_interp_spline(y_indices, df_avg['value'].to_numpy(), k=3)\n",
    "y_smooth = spl(xnew)\n",
    "\n",
    "# Plotting garis yang diinterpolasi\n",
    "ax.plot(y_smooth, xnew, linestyle='-', color='red', label='Line')\n",
    "ax.plot(df_avg['value'].to_numpy(), df_avg['NGFBFC'].to_numpy(), 'o', color='red', label='Average Line')\n",
    "\n",
    "plt.show()"
   ]
  }
 ],
 "metadata": {
  "kernelspec": {
   "display_name": "Python 3",
   "language": "python",
   "name": "python3"
  },
  "language_info": {
   "codemirror_mode": {
    "name": "ipython",
    "version": 3
   },
   "file_extension": ".py",
   "mimetype": "text/x-python",
   "name": "python",
   "nbconvert_exporter": "python",
   "pygments_lexer": "ipython3",
   "version": "3.9.7"
  }
 },
 "nbformat": 4,
 "nbformat_minor": 2
}
