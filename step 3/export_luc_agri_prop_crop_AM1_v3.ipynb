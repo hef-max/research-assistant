{
 "cells": [
  {
   "cell_type": "code",
   "execution_count": 1,
   "metadata": {},
   "outputs": [],
   "source": [
    "import pandas as pd\n",
    "import numpy as np\n",
    "import xarray\n",
    "from functools import reduce\n",
    "\n",
    "am1crop_emisioncrops_gfrac = pd.read_excel(\"D:/kerja/asisten riset/code v/step 3/GbGlct/dataset/luc_agri_prop_crop_AM1_v3.xlsx\")\n",
    "ccode_iso = pd.read_excel(\"D:/kerja/asisten riset/vol/milkunC/achaidir/LUH2 2022/ISO-3166-Country-Code_Final.xlsx\")"
   ]
  },
  {
   "cell_type": "code",
   "execution_count": 2,
   "metadata": {},
   "outputs": [
    {
     "data": {
      "text/plain": [
       "ISO Country          0\n",
       "alpha-2              1\n",
       "alpha-3              0\n",
       "country-code         0\n",
       "iso_3166-2           0\n",
       "Sub Region           0\n",
       "ISO Region           0\n",
       "IMAGE Region Code    0\n",
       "IMAGE Region Name    0\n",
       "dtype: int64"
      ]
     },
     "execution_count": 2,
     "metadata": {},
     "output_type": "execute_result"
    }
   ],
   "source": [
    "ccode_iso.isna().sum()"
   ]
  },
  {
   "cell_type": "code",
   "execution_count": 3,
   "metadata": {},
   "outputs": [],
   "source": [
    "am1crop_emisioncrops_gfrac_merge = pd.merge(left=ccode_iso, right=am1crop_emisioncrops_gfrac, how=\"left\", left_on=\"ISO Country\", right_on=\"country_name\")"
   ]
  },
  {
   "cell_type": "code",
   "execution_count": 6,
   "metadata": {},
   "outputs": [
    {
     "data": {
      "text/html": [
       "<div>\n",
       "<style scoped>\n",
       "    .dataframe tbody tr th:only-of-type {\n",
       "        vertical-align: middle;\n",
       "    }\n",
       "\n",
       "    .dataframe tbody tr th {\n",
       "        vertical-align: top;\n",
       "    }\n",
       "\n",
       "    .dataframe thead th {\n",
       "        text-align: right;\n",
       "    }\n",
       "</style>\n",
       "<table border=\"1\" class=\"dataframe\">\n",
       "  <thead>\n",
       "    <tr style=\"text-align: right;\">\n",
       "      <th></th>\n",
       "      <th>IMAGE Region Name</th>\n",
       "      <th>type</th>\n",
       "      <th>1975</th>\n",
       "      <th>1980</th>\n",
       "      <th>1985</th>\n",
       "      <th>1990</th>\n",
       "      <th>1995</th>\n",
       "      <th>2000</th>\n",
       "      <th>2005</th>\n",
       "      <th>2010</th>\n",
       "      <th>2015</th>\n",
       "      <th>2020</th>\n",
       "    </tr>\n",
       "  </thead>\n",
       "  <tbody>\n",
       "    <tr>\n",
       "      <th>0</th>\n",
       "      <td>Rest S. Asia</td>\n",
       "      <td>grass</td>\n",
       "      <td>0.000186</td>\n",
       "      <td>0.000364</td>\n",
       "      <td>0.0</td>\n",
       "      <td>0.0</td>\n",
       "      <td>0.0</td>\n",
       "      <td>0.0</td>\n",
       "      <td>0.0</td>\n",
       "      <td>0.0</td>\n",
       "      <td>0.0</td>\n",
       "      <td>1.704972e-05</td>\n",
       "    </tr>\n",
       "    <tr>\n",
       "      <th>1</th>\n",
       "      <td>Rest S. Asia</td>\n",
       "      <td>maize</td>\n",
       "      <td>0.000030</td>\n",
       "      <td>0.000000</td>\n",
       "      <td>0.0</td>\n",
       "      <td>0.0</td>\n",
       "      <td>0.0</td>\n",
       "      <td>0.0</td>\n",
       "      <td>0.0</td>\n",
       "      <td>0.0</td>\n",
       "      <td>0.0</td>\n",
       "      <td>0.000000e+00</td>\n",
       "    </tr>\n",
       "    <tr>\n",
       "      <th>2</th>\n",
       "      <td>Rest S. Asia</td>\n",
       "      <td>oil &amp; palm fruit</td>\n",
       "      <td>0.000000</td>\n",
       "      <td>0.000000</td>\n",
       "      <td>0.0</td>\n",
       "      <td>0.0</td>\n",
       "      <td>0.0</td>\n",
       "      <td>0.0</td>\n",
       "      <td>0.0</td>\n",
       "      <td>0.0</td>\n",
       "      <td>0.0</td>\n",
       "      <td>0.000000e+00</td>\n",
       "    </tr>\n",
       "    <tr>\n",
       "      <th>3</th>\n",
       "      <td>Rest S. Asia</td>\n",
       "      <td>other non-food &amp; luxury &amp; spices</td>\n",
       "      <td>0.005571</td>\n",
       "      <td>0.001914</td>\n",
       "      <td>0.0</td>\n",
       "      <td>0.0</td>\n",
       "      <td>0.0</td>\n",
       "      <td>0.0</td>\n",
       "      <td>0.0</td>\n",
       "      <td>0.0</td>\n",
       "      <td>0.0</td>\n",
       "      <td>5.489770e-07</td>\n",
       "    </tr>\n",
       "    <tr>\n",
       "      <th>4</th>\n",
       "      <td>Rest S. Asia</td>\n",
       "      <td>other temperate cereals</td>\n",
       "      <td>0.000000</td>\n",
       "      <td>0.000000</td>\n",
       "      <td>0.0</td>\n",
       "      <td>0.0</td>\n",
       "      <td>0.0</td>\n",
       "      <td>0.0</td>\n",
       "      <td>0.0</td>\n",
       "      <td>0.0</td>\n",
       "      <td>0.0</td>\n",
       "      <td>0.000000e+00</td>\n",
       "    </tr>\n",
       "  </tbody>\n",
       "</table>\n",
       "</div>"
      ],
      "text/plain": [
       "  IMAGE Region Name                              type      1975      1980  \\\n",
       "0      Rest S. Asia                             grass  0.000186  0.000364   \n",
       "1      Rest S. Asia                             maize  0.000030  0.000000   \n",
       "2      Rest S. Asia                  oil & palm fruit  0.000000  0.000000   \n",
       "3      Rest S. Asia  other non-food & luxury & spices  0.005571  0.001914   \n",
       "4      Rest S. Asia           other temperate cereals  0.000000  0.000000   \n",
       "\n",
       "   1985  1990  1995  2000  2005  2010  2015          2020  \n",
       "0   0.0   0.0   0.0   0.0   0.0   0.0   0.0  1.704972e-05  \n",
       "1   0.0   0.0   0.0   0.0   0.0   0.0   0.0  0.000000e+00  \n",
       "2   0.0   0.0   0.0   0.0   0.0   0.0   0.0  0.000000e+00  \n",
       "3   0.0   0.0   0.0   0.0   0.0   0.0   0.0  5.489770e-07  \n",
       "4   0.0   0.0   0.0   0.0   0.0   0.0   0.0  0.000000e+00  "
      ]
     },
     "execution_count": 6,
     "metadata": {},
     "output_type": "execute_result"
    }
   ],
   "source": [
    "am1crop_emisioncrops_gfrac_merge_columns = am1crop_emisioncrops_gfrac_merge[[ 'IMAGE Region Name', 'type',                1975,\n",
    "                      1980,                1985,                1990,\n",
    "                      1995,                2000,                2005,\n",
    "                      2010,                2015,                2020]]\n",
    "am1crop_emisioncrops_gfrac_merge_columns.head()"
   ]
  },
  {
   "cell_type": "code",
   "execution_count": 7,
   "metadata": {},
   "outputs": [],
   "source": [
    "am1crop = am1crop_emisioncrops_gfrac_merge_columns.melt(id_vars=['IMAGE Region Name', 'type'], var_name='time', value_name='value')\n",
    "am1crop.to_csv(\"D:/kerja/asisten riset/code v/step 3/GbGlct/dataset/luc_agri_prop_crop_region.csv\", index=False)"
   ]
  },
  {
   "cell_type": "code",
   "execution_count": null,
   "metadata": {},
   "outputs": [],
   "source": [
    "# am1crop_emisioncrops_gfrac_merge_columns['RegionType'] = am1crop_emisioncrops_gfrac_merge_columns['IMAGE Region Name'] + \"-\" + am1crop_emisioncrops_gfrac_merge_columns['type']\n",
    "# am1crop_emisioncrops_gfrac_merge_columns.head()"
   ]
  },
  {
   "cell_type": "code",
   "execution_count": null,
   "metadata": {},
   "outputs": [],
   "source": [
    "am1crop_emisioncrops_gfrac_merge_columns = am1crop_emisioncrops_gfrac_merge_columns[['RegionType', 1975,\n",
    "                    1980,              1985,              1990,\n",
    "                    1995,              2000,              2005,2010,2015,2020]]\n",
    "# time  = list(range(1975, 2025, 5))\n",
    "# am1crop_emisioncrops_gfrac_merge_columns.rename(columns={am1crop_emisioncrops_gfrac_merge_columns.columns[2:] : time})\n",
    "am1crop_emisioncrops_gfrac_merge_columns"
   ]
  },
  {
   "cell_type": "code",
   "execution_count": null,
   "metadata": {},
   "outputs": [],
   "source": [
    "am1crop_emisioncrops_gfrac_merge_columns.to_excel(\"./emision_absolute_regionType.xlsx\", index=False)"
   ]
  }
 ],
 "metadata": {
  "kernelspec": {
   "display_name": "Python 3",
   "language": "python",
   "name": "python3"
  },
  "language_info": {
   "codemirror_mode": {
    "name": "ipython",
    "version": 3
   },
   "file_extension": ".py",
   "mimetype": "text/x-python",
   "name": "python",
   "nbconvert_exporter": "python",
   "pygments_lexer": "ipython3",
   "version": "3.9.7"
  }
 },
 "nbformat": 4,
 "nbformat_minor": 2
}
