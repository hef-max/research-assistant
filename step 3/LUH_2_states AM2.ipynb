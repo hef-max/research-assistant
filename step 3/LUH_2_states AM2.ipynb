{
 "cells": [
  {
   "cell_type": "code",
   "execution_count": 9,
   "metadata": {},
   "outputs": [],
   "source": [
    "import xarray\n",
    "import numpy as np\n",
    "import pandas as pd"
   ]
  },
  {
   "cell_type": "code",
   "execution_count": 10,
   "metadata": {},
   "outputs": [
    {
     "name": "stderr",
     "output_type": "stream",
     "text": [
      "c:\\Users\\HEFRY ANESTI\\AppData\\Local\\Programs\\Python\\Python39\\lib\\site-packages\\xarray\\coding\\times.py:167: SerializationWarning: Ambiguous reference date string: 850-01-01 0:0:0. The first value is assumed to be the year hence will be padded with zeros to remove the ambiguity (the padded reference date string is: 0850-01-01 0:0:0). To remove this message, remove the ambiguity by padding your reference date strings with zeros.\n",
      "  warnings.warn(warning_msg, SerializationWarning)\n"
     ]
    }
   ],
   "source": [
    "max_year = 12\n",
    "path_LUH2 = 'D:/kerja/asisten riset/vol/milkunC/achaidir/LUH2 2022/states.nc'\n",
    "luh2_states = xarray.open_dataset(path_LUH2, engine=\"netcdf4\", decode_times=False)\n",
    "\n",
    "luh2_states_worldwide = luh2_states.isel(time=slice(1120, 1133))\n",
    "luh2_states_worldwide['time'] = pd.date_range(start=\"1970-01-01\", end=\"1982-01-01\", freq='YS')"
   ]
  },
  {
   "cell_type": "code",
   "execution_count": 11,
   "metadata": {},
   "outputs": [],
   "source": [
    "## add the projection\n",
    "luh2_added_states_worldwide = xarray.open_dataset(\"D:/kerja/asisten riset/vol/milkunC/achaidir/LUH2 2022/multiple-states_input4MIPs_landState_ScenarioMIP_UofMD-IMAGE-ssp119-2-1-f_gn_2015-2100.nc\",\\\n",
    "                                        engine=\"netcdf4\", decode_times=False)\n",
    "luh2_added_trans = luh2_added_states_worldwide.drop_vars(['lat_bounds', 'lon_bounds', 'time_bnds'])\n",
    "luh2_added_trans.coords['time'] = pd.date_range(start='2015-01-01', end='2100-01-01', freq='YS')\n",
    "\n",
    "static = 'D:/kerja/asisten riset/vol/milkunC/achaidir/LUH2 2022/staticData_quarterdeg.nc'\n",
    "luh2_static = xarray.open_dataset(static, engine=\"netcdf4\")"
   ]
  },
  {
   "cell_type": "code",
   "execution_count": 12,
   "metadata": {},
   "outputs": [],
   "source": [
    "# # Equation Adaptation\n",
    "primf_carbon_density = xarray.open_dataset(\"D:/kerja/asisten riset/vol/milkunarc/cadlan/Analysis2b_interpolate/CARBON-STOCK-PRIMF-INTERPOLATION-WORLDWIDE-1970_2100.nc\", engine=\"netcdf4\",)\n",
    "secdf_carbon_density = xarray.open_dataset(\"D:/kerja/asisten riset/vol/milkunarc/cadlan/Analysis2b_interpolate/CARBON-STOCK-SECDF-INTERPOLATION-WORLDWIDE-1970_2100.nc\", engine=\"netcdf4\",)\n",
    "primn_carbon_density = xarray.open_dataset(\"D:/kerja/asisten riset/vol/milkunarc/cadlan/Analysis2b_interpolate/CARBON-STOCK-PRIMN-INTERPOLATION-WORLDWIDE-1970_2100.nc\", engine=\"netcdf4\",)\n",
    "secdn_carbon_density = xarray.open_dataset(\"D:/kerja/asisten riset/vol/milkunarc/cadlan/Analysis2b_interpolate/CARBON-STOCK-SECDN-INTERPOLATION-WORLDWIDE-1970_2100.nc\", engine=\"netcdf4\",)\n",
    "c3ann_carbon_density = xarray.open_dataset(\"D:/kerja/asisten riset/vol/milkunarc/cadlan/Analysis2b_interpolate/CARBON-STOCK-PRIMF-INTERPOLATION-WORLDWIDE-1970_2100.nc\", engine=\"netcdf4\",)\n",
    "c4ann_carbon_density = xarray.open_dataset(\"D:/kerja/asisten riset/vol/milkunarc/cadlan/Analysis2b_interpolate/CARBON-STOCK-PRIMF-INTERPOLATION-WORLDWIDE-1970_2100.nc\", engine=\"netcdf4\",)\n",
    "c3per_carbon_density = xarray.open_dataset(\"D:/kerja/asisten riset/vol/milkunarc/cadlan/Analysis2b_interpolate/CARBON-STOCK-PRIMF-INTERPOLATION-WORLDWIDE-1970_2100.nc\", engine=\"netcdf4\",)\n",
    "c4per_carbon_density = xarray.open_dataset(\"D:/kerja/asisten riset/vol/milkunarc/cadlan/Analysis2b_interpolate/CARBON-STOCK-PRIMF-INTERPOLATION-WORLDWIDE-1970_2100.nc\", engine=\"netcdf4\",)\n",
    "c3nfx_carbon_density = xarray.open_dataset(\"D:/kerja/asisten riset/vol/milkunarc/cadlan/Analysis2b_interpolate/CARBON-STOCK-PRIMF-INTERPOLATION-WORLDWIDE-1970_2100.nc\", engine=\"netcdf4\",)\n",
    "range_carbon_density = xarray.open_dataset(\"D:/kerja/asisten riset/vol/milkunarc/cadlan/Analysis2b_interpolate/CARBON-STOCK-PRIMF-INTERPOLATION-WORLDWIDE-1970_2100.nc\", engine=\"netcdf4\",)\n",
    "pastr_carbon_density = xarray.open_dataset(\"D:/kerja/asisten riset/vol/milkunarc/cadlan/Analysis2b_interpolate/CARBON-STOCK-PRIMF-INTERPOLATION-WORLDWIDE-1970_2100.nc\", engine=\"netcdf4\",)\n"
   ]
  },
  {
   "cell_type": "code",
   "execution_count": 13,
   "metadata": {},
   "outputs": [],
   "source": [
    "landuse_class_all = ['primf', 'primn', 'secdf', 'secdn', 'c3ann', 'c4ann', 'c3per', 'c4per', 'c3nfx', 'pastr', 'range']\n",
    "carstock_all = ['branches', 'stems', 'leaves', 'roots', 'litter', 'humus', 'charcoal']"
   ]
  },
  {
   "cell_type": "code",
   "execution_count": 14,
   "metadata": {},
   "outputs": [],
   "source": [
    "carbon_equ_c3ann_1970 = np.zeros((1, 7, 720, 1440), dtype=\"float32\")\n",
    "carbon_equ_c4ann_1970 = np.zeros((1, 7, 720, 1440), dtype=\"float32\")\n",
    "carbon_equ_c3per_1970 = np.zeros((1, 7, 720, 1440), dtype=\"float32\")\n",
    "carbon_equ_c4per_1970 = np.zeros((1, 7, 720, 1440), dtype=\"float32\")\n",
    "carbon_equ_c3nfx_1970 = np.zeros((1, 7, 720, 1440), dtype=\"float32\")\n",
    "carbon_equ_pastr_1970 = np.zeros((1, 7, 720, 1440), dtype=\"float32\")\n",
    "carbon_equ_range_1970 = np.zeros((1, 7, 720, 1440), dtype=\"float32\")\n",
    "carbon_equ_primf_1970 = np.zeros((1, 7, 720, 1440), dtype=\"float32\")\n",
    "carbon_equ_primn_1970 = np.zeros((1, 7, 720, 1440), dtype=\"float32\")\n",
    "carbon_equ_secdf_1970 = np.zeros((1, 7, 720, 1440), dtype=\"float32\")\n",
    "carbon_equ_secdn_1970 = np.zeros((1, 7, 720, 1440), dtype=\"float32\")\n",
    "carbon_equ_all_1970 = np.zeros((1, 11, 720, 1440), dtype=\"float32\")\n",
    "\n",
    "carbon_equ_c3ann_2021 = np.zeros((1, 7, 720, 1440), dtype=\"float32\")\n",
    "carbon_equ_c4ann_2021 = np.zeros((1, 7, 720, 1440), dtype=\"float32\")\n",
    "carbon_equ_c3per_2021 = np.zeros((1, 7, 720, 1440), dtype=\"float32\")\n",
    "carbon_equ_c4per_2021 = np.zeros((1, 7, 720, 1440), dtype=\"float32\")\n",
    "carbon_equ_c3nfx_2021 = np.zeros((1, 7, 720, 1440), dtype=\"float32\")\n",
    "carbon_equ_pastr_2021 = np.zeros((1, 7, 720, 1440), dtype=\"float32\")\n",
    "carbon_equ_range_2021 = np.zeros((1, 7, 720, 1440), dtype=\"float32\")\n",
    "carbon_equ_primf_2021 = np.zeros((1, 7, 720, 1440), dtype=\"float32\")\n",
    "carbon_equ_primn_2021 = np.zeros((1, 7, 720, 1440), dtype=\"float32\")\n",
    "carbon_equ_secdf_2021 = np.zeros((1, 7, 720, 1440), dtype=\"float32\")\n",
    "carbon_equ_secdn_2021 = np.zeros((1, 7, 720, 1440), dtype=\"float32\")\n",
    "carbon_equ_all_2021 = np.zeros((1, 11, 720, 1440), dtype=\"float32\")"
   ]
  },
  {
   "cell_type": "markdown",
   "metadata": {},
   "source": [
    "## 1970"
   ]
  },
  {
   "cell_type": "code",
   "execution_count": 15,
   "metadata": {},
   "outputs": [],
   "source": [
    "for index_corps, corps in enumerate(landuse_class_all):\n",
    "    for carstock_idx, carstock_class in enumerate(carstock_all):\n",
    "        #primf\n",
    "        if index_corps == 0:\n",
    "            carbon_equ_primf_1970[0][carstock_idx] += np.multiply.reduce((luh2_static['carea'].to_numpy(),\n",
    "                                                        np.nan_to_num(luh2_states_worldwide[corps].isel(time=0).to_numpy()),\n",
    "                                                                        primf_carbon_density['primf_interp'].isel(time=0).sel(NBP=carstock_class).to_numpy()))\n",
    "            carbon_equ_all_1970[0][index_corps] += carbon_equ_primf_1970[0][carstock_idx]\n",
    "        #primn\n",
    "        elif index_corps == 1:\n",
    "            carbon_equ_primn_1970[0][carstock_idx] += np.multiply.reduce((luh2_static['carea'].to_numpy(),\n",
    "                                                        np.nan_to_num(luh2_states_worldwide[corps].isel(time=0).to_numpy()),\n",
    "                                                                        primn_carbon_density['primn_interp'].isel(time=0).sel(NBP=carstock_class).to_numpy()))\n",
    "            carbon_equ_all_1970[0][index_corps] += carbon_equ_primn_1970[0][carstock_idx]\n",
    "        #secdf\n",
    "        elif index_corps == 2:\n",
    "            carbon_equ_secdf_1970[0][carstock_idx] += np.multiply.reduce((luh2_static['carea'].to_numpy(),\n",
    "                                                        np.nan_to_num(luh2_states_worldwide[corps].isel(time=0).to_numpy()),\n",
    "                                                                        secdf_carbon_density['secdf_interp'].isel(time=0).sel(NBP=carstock_class).to_numpy()))\n",
    "            carbon_equ_all_1970[0][index_corps] += carbon_equ_secdf_1970[0][carstock_idx]\n",
    "        #secdn\n",
    "        elif index_corps == 3:\n",
    "            carbon_equ_secdn_1970[0][carstock_idx] += np.multiply.reduce((luh2_static['carea'].to_numpy(),\n",
    "                                                        np.nan_to_num(luh2_states_worldwide[corps].isel(time=0).to_numpy()),\n",
    "                                                                        secdn_carbon_density['secdn_interp'].isel(time=0).sel(NBP=carstock_class).to_numpy()))\n",
    "            carbon_equ_all_1970[0][index_corps] += carbon_equ_secdn_1970[0][carstock_idx]\n",
    "        #c3ann\n",
    "        elif index_corps == 4:\n",
    "            carbon_equ_c3ann_1970[0][carstock_idx] += np.multiply.reduce((luh2_static['carea'].to_numpy(),\n",
    "                                                        np.nan_to_num(luh2_states_worldwide[corps].isel(time=0).to_numpy()),\n",
    "                                                                        c3ann_carbon_density['primf_interp'].isel(time=0).sel(NBP=carstock_class).to_numpy()))\n",
    "            carbon_equ_all_1970[0][index_corps] += carbon_equ_c3ann_1970[0][carstock_idx]\n",
    "        #c4ann\n",
    "        elif index_corps == 5:\n",
    "            carbon_equ_c4ann_1970[0][carstock_idx] += np.multiply.reduce((luh2_static['carea'].to_numpy(),\n",
    "                                                        np.nan_to_num(luh2_states_worldwide[corps].isel(time=0).to_numpy()),\n",
    "                                                                        c4ann_carbon_density['primf_interp'].isel(time=0).sel(NBP=carstock_class).to_numpy()))\n",
    "            carbon_equ_all_1970[0][index_corps] += carbon_equ_c4ann_1970[0][carstock_idx]\n",
    "        #c3per\n",
    "        elif index_corps == 6:\n",
    "            carbon_equ_c3per_1970[0][carstock_idx] += np.multiply.reduce((luh2_static['carea'].to_numpy(),\n",
    "                                                        np.nan_to_num(luh2_states_worldwide[corps].isel(time=0).to_numpy()),\n",
    "                                                                        c3per_carbon_density['primf_interp'].isel(time=0).sel(NBP=carstock_class).to_numpy()))\n",
    "            carbon_equ_all_1970[0][index_corps] += carbon_equ_c3per_1970[0][carstock_idx]\n",
    "        #c4per\n",
    "        elif index_corps == 7:\n",
    "            carbon_equ_c4per_1970[0][carstock_idx] += np.multiply.reduce((luh2_static['carea'].to_numpy(),\n",
    "                                                        np.nan_to_num(luh2_states_worldwide[corps].isel(time=0).to_numpy()),\n",
    "                                                                        c4per_carbon_density['primf_interp'].isel(time=0).sel(NBP=carstock_class).to_numpy()))\n",
    "            carbon_equ_all_1970[0][index_corps] += carbon_equ_c4per_1970[0][carstock_idx]\n",
    "        #c3nfx\n",
    "        elif index_corps == 8:\n",
    "            carbon_equ_c3nfx_1970[0][carstock_idx] += np.multiply.reduce((luh2_static['carea'].to_numpy(),\n",
    "                                                        np.nan_to_num(luh2_states_worldwide[corps].isel(time=0).to_numpy()),\n",
    "                                                                        c3nfx_carbon_density['primf_interp'].isel(time=0).sel(NBP=carstock_class).to_numpy()))\n",
    "            carbon_equ_all_1970[0][index_corps] += carbon_equ_c3nfx_1970[0][carstock_idx]\n",
    "        #pastr\n",
    "        elif index_corps == 9:\n",
    "            carbon_equ_pastr_1970[0][carstock_idx] += np.multiply.reduce((luh2_static['carea'].to_numpy(),\n",
    "                                                        np.nan_to_num(luh2_states_worldwide[corps].isel(time=0).to_numpy()),\n",
    "                                                                        pastr_carbon_density['primf_interp'].isel(time=0).sel(NBP=carstock_class).to_numpy()))\n",
    "            carbon_equ_all_1970[0][index_corps] += carbon_equ_pastr_1970[0][carstock_idx]\n",
    "        #range\n",
    "        elif index_corps == 10:\n",
    "            carbon_equ_range_1970[0][carstock_idx] += np.multiply.reduce((luh2_static['carea'].to_numpy(),\n",
    "                                                        np.nan_to_num(luh2_states_worldwide[corps].isel(time=0).to_numpy()),\n",
    "                                                                        range_carbon_density['primf_interp'].isel(time=0).sel(NBP=carstock_class).to_numpy()))\n",
    "            carbon_equ_all_1970[0][index_corps] += carbon_equ_range_1970[0][carstock_idx]\n"
   ]
  },
  {
   "cell_type": "code",
   "execution_count": 19,
   "metadata": {},
   "outputs": [
    {
     "data": {
      "text/plain": [
       "(11, 1, 720, 1440)"
      ]
     },
     "execution_count": 19,
     "metadata": {},
     "output_type": "execute_result"
    }
   ],
   "source": [
    "carbon_equ_all_1970 = carbon_equ_all_1970.reshape(11, 1, 720, 1440)\n",
    "carbon_equ_all_1970.shape"
   ]
  },
  {
   "cell_type": "code",
   "execution_count": 23,
   "metadata": {},
   "outputs": [
    {
     "data": {
      "text/plain": [
       "(25649080000.0, 25649080000.0)"
      ]
     },
     "execution_count": 23,
     "metadata": {},
     "output_type": "execute_result"
    }
   ],
   "source": [
    "carbon_equ_all_1970[10].sum(), carbon_equ_range_1970.sum()"
   ]
  },
  {
   "cell_type": "code",
   "execution_count": 25,
   "metadata": {},
   "outputs": [],
   "source": [
    "carbon_equ_total = xarray.Dataset(\n",
    "    coords={\n",
    "        \"time\": pd.to_datetime([\"1970-01-01\"]),\n",
    "        \"lon\": luh2_states_worldwide.coords[\"lon\"].to_numpy(),\n",
    "        \"lat\": luh2_states_worldwide.coords[\"lat\"].to_numpy()\n",
    "    }\n",
    ")\n",
    "data_vars = {\n",
    "    \"c_equ_primf\": ([\"time\", \"lat\", \"lon\"], carbon_equ_all_1970[0]),\n",
    "    \"c_equ_primn\": ([\"time\", \"lat\", \"lon\"], carbon_equ_all_1970[1]),\n",
    "    \"c_equ_secdf\": ([\"time\", \"lat\", \"lon\"], carbon_equ_all_1970[2]),\n",
    "    \"c_equ_secdn\": ([\"time\", \"lat\", \"lon\"], carbon_equ_all_1970[3]),\n",
    "    \"c_equ_c3ann\": ([\"time\", \"lat\", \"lon\"], carbon_equ_all_1970[4]),\n",
    "    \"c_equ_c4ann\": ([\"time\", \"lat\", \"lon\"], carbon_equ_all_1970[5]),\n",
    "    \"c_equ_c3per\": ([\"time\", \"lat\", \"lon\"], carbon_equ_all_1970[6]),\n",
    "    \"c_equ_c4per\": ([\"time\", \"lat\", \"lon\"], carbon_equ_all_1970[7]),\n",
    "    \"c_equ_c3nfx\": ([\"time\", \"lat\", \"lon\"], carbon_equ_all_1970[8]),\n",
    "    \"c_equ_pastr\": ([\"time\", \"lat\", \"lon\"], carbon_equ_all_1970[9]),\n",
    "    \"c_equ_range\": ([\"time\", \"lat\", \"lon\"], carbon_equ_all_1970[10])\n",
    "}\n",
    "carbon_equ_ntcdf_1970 = carbon_equ_total.assign(data_vars)\n",
    "# carbon_equ_ntcdf_1970\n",
    "carbon_equ_ntcdf_1970.to_netcdf(\"D:/kerja/asisten riset/vol/milkunarc/cadlan/Analysis3_LUC/CARBON_EMISSION-1970.nc\", mode='w', format=\"NETCDF4\") "
   ]
  },
  {
   "cell_type": "markdown",
   "metadata": {},
   "source": [
    "## 2021"
   ]
  },
  {
   "cell_type": "code",
   "execution_count": 26,
   "metadata": {},
   "outputs": [],
   "source": [
    "for index_corps, corps in enumerate(landuse_class_all):\n",
    "    for carstock_idx, biomass_class in enumerate(carstock_all):\n",
    "        #primf\n",
    "        if index_corps == 0:\n",
    "            carbon_equ_primf_2021[0][carstock_idx] += np.multiply.reduce((luh2_static['carea'].to_numpy(),\n",
    "                                                        np.nan_to_num(luh2_states_worldwide[corps].isel(time=max_year-1).to_numpy()),\n",
    "                                                                        primf_carbon_density['primf_interp'].isel(time=max_year-1).sel(NBP=biomass_class).to_numpy()))\n",
    "            carbon_equ_all_2021[0][index_corps] += carbon_equ_primf_2021[0][carstock_idx]\n",
    "        #primn\n",
    "        elif index_corps == 1:\n",
    "            carbon_equ_primn_2021[0][carstock_idx] += np.multiply.reduce((luh2_static['carea'].to_numpy(),\n",
    "                                                        np.nan_to_num(luh2_states_worldwide[corps].isel(time=max_year-1).to_numpy()),\n",
    "                                                                        np.where(primn_carbon_density['primn_interp'].isel(time=max_year-1).sel(NBP=biomass_class).to_numpy() < 0.0,\n",
    "                                                                                 0.0, primn_carbon_density['primn_interp'].isel(time=max_year-1).sel(NBP=biomass_class).to_numpy())))\n",
    "            carbon_equ_all_2021[0][index_corps] += carbon_equ_primn_2021[0][carstock_idx]\n",
    "        #secdf\n",
    "        elif index_corps == 2:\n",
    "            carbon_equ_secdf_2021[0][carstock_idx] += np.multiply.reduce((luh2_static['carea'].to_numpy(),\n",
    "                                                        np.nan_to_num(luh2_states_worldwide[corps].isel(time=max_year-1).to_numpy()),\n",
    "                                                                        secdf_carbon_density['secdf_interp'].isel(time=max_year-1).sel(NBP=biomass_class).to_numpy()))\n",
    "            carbon_equ_all_2021[0][index_corps] += carbon_equ_secdf_2021[0][carstock_idx]\n",
    "        #secdn\n",
    "        elif index_corps == 3:\n",
    "            carbon_equ_secdn_2021[0][carstock_idx] += np.multiply.reduce((luh2_static['carea'].to_numpy(),\n",
    "                                                        np.nan_to_num(luh2_states_worldwide[corps].isel(time=max_year-1).to_numpy()),\n",
    "                                                                        secdn_carbon_density['secdn_interp'].isel(time=max_year-1).sel(NBP=biomass_class).to_numpy()))\n",
    "            carbon_equ_all_2021[0][index_corps] += carbon_equ_secdn_2021[0][carstock_idx]\n",
    "        #c3ann\n",
    "        elif index_corps == 4:\n",
    "            carbon_equ_c3ann_2021[0][carstock_idx] += np.multiply.reduce((luh2_static['carea'].to_numpy(),\n",
    "                                                        np.nan_to_num(luh2_states_worldwide[corps].isel(time=max_year-1).to_numpy()),\n",
    "                                                                        c3ann_carbon_density['primf_interp'].isel(time=max_year-1).sel(NBP=biomass_class).to_numpy()))\n",
    "            carbon_equ_all_2021[0][index_corps] += carbon_equ_c3ann_2021[0][carstock_idx]\n",
    "        #c4ann\n",
    "        elif index_corps == 5:\n",
    "            carbon_equ_c4ann_2021[0][carstock_idx] += np.multiply.reduce((luh2_static['carea'].to_numpy(),\n",
    "                                                        np.nan_to_num(luh2_states_worldwide[corps].isel(time=max_year-1).to_numpy()),\n",
    "                                                                        c4ann_carbon_density['primf_interp'].isel(time=max_year-1).sel(NBP=biomass_class).to_numpy()))\n",
    "            carbon_equ_all_2021[0][index_corps] += carbon_equ_c4ann_2021[0][carstock_idx]\n",
    "        #c3per\n",
    "        elif index_corps == 6:\n",
    "            carbon_equ_c3per_2021[0][carstock_idx] += np.multiply.reduce((luh2_static['carea'].to_numpy(),\n",
    "                                                        np.nan_to_num(luh2_states_worldwide[corps].isel(time=max_year-1).to_numpy()),\n",
    "                                                                        c3per_carbon_density['primf_interp'].isel(time=max_year-1).sel(NBP=biomass_class).to_numpy()))\n",
    "            carbon_equ_all_2021[0][index_corps] += carbon_equ_c3per_2021[0][carstock_idx]\n",
    "        #c4per\n",
    "        elif index_corps == 7:\n",
    "            carbon_equ_c4per_2021[0][carstock_idx] += np.multiply.reduce((luh2_static['carea'].to_numpy(),\n",
    "                                                        np.nan_to_num(luh2_states_worldwide[corps].isel(time=max_year-1).to_numpy()),\n",
    "                                                                        c4per_carbon_density['primf_interp'].isel(time=max_year-1).sel(NBP=biomass_class).to_numpy()))\n",
    "            carbon_equ_all_2021[0][index_corps] += carbon_equ_c4per_2021[0][carstock_idx]\n",
    "        #c3nfx\n",
    "        elif index_corps == 8:\n",
    "            carbon_equ_c3nfx_2021[0][carstock_idx] += np.multiply.reduce((luh2_static['carea'].to_numpy(),\n",
    "                                                        np.nan_to_num(luh2_states_worldwide[corps].isel(time=max_year-1).to_numpy()),\n",
    "                                                                        c3nfx_carbon_density['primf_interp'].isel(time=max_year-1).sel(NBP=biomass_class).to_numpy()))\n",
    "            carbon_equ_all_2021[0][index_corps] += carbon_equ_c3nfx_2021[0][carstock_idx]\n",
    "        #pastr\n",
    "        elif index_corps == 9:\n",
    "            carbon_equ_pastr_2021[0][carstock_idx] += np.multiply.reduce((luh2_static['carea'].to_numpy(),\n",
    "                                                        np.nan_to_num(luh2_states_worldwide[corps].isel(time=max_year-1).to_numpy()),\n",
    "                                                                        pastr_carbon_density['primf_interp'].isel(time=max_year-1).sel(NBP=biomass_class).to_numpy()))\n",
    "            carbon_equ_all_2021[0][index_corps] += carbon_equ_pastr_2021[0][carstock_idx]\n",
    "        #range\n",
    "        elif index_corps == 10:\n",
    "            carbon_equ_range_2021[0][carstock_idx] += np.multiply.reduce((luh2_static['carea'].to_numpy(),\n",
    "                                                        np.nan_to_num(luh2_states_worldwide[corps].isel(time=max_year-1).to_numpy()),\n",
    "                                                                        range_carbon_density['primf_interp'].isel(time=max_year-1).sel(NBP=biomass_class).to_numpy()))\n",
    "            carbon_equ_all_2021[0][index_corps] += carbon_equ_range_2021[0][carstock_idx]\n"
   ]
  },
  {
   "cell_type": "code",
   "execution_count": 30,
   "metadata": {},
   "outputs": [
    {
     "data": {
      "text/plain": [
       "(11, 1, 720, 1440)"
      ]
     },
     "execution_count": 30,
     "metadata": {},
     "output_type": "execute_result"
    }
   ],
   "source": [
    "carbon_equ_all_2021 = carbon_equ_all_2021.reshape(11, 1, 720, 1440)\n",
    "carbon_equ_all_2021.shape"
   ]
  },
  {
   "cell_type": "code",
   "execution_count": 32,
   "metadata": {},
   "outputs": [],
   "source": [
    "carbon_equ_total = xarray.Dataset(\n",
    "    coords={\n",
    "        \"time\": pd.to_datetime([\"2021-01-01\"]),\n",
    "        \"carstock\": carstock_all,\n",
    "        \"lon\": luh2_states_worldwide.coords[\"lon\"].to_numpy(),\n",
    "        \"lat\": luh2_states_worldwide.coords[\"lat\"].to_numpy()\n",
    "    }\n",
    ")\n",
    "data_vars = {\n",
    "    \"c_equ_primf\": ([\"time\", \"lat\", \"lon\"], carbon_equ_all_2021[0]),\n",
    "    \"c_equ_primn\": ([\"time\", \"lat\", \"lon\"], carbon_equ_all_2021[1]),\n",
    "    \"c_equ_secdf\": ([\"time\", \"lat\", \"lon\"], carbon_equ_all_2021[2]),\n",
    "    \"c_equ_secdn\": ([\"time\", \"lat\", \"lon\"], carbon_equ_all_2021[3]),\n",
    "    \"c_equ_c3ann\": ([\"time\", \"lat\", \"lon\"], carbon_equ_all_2021[4]),\n",
    "    \"c_equ_c4ann\": ([\"time\", \"lat\", \"lon\"], carbon_equ_all_2021[5]),\n",
    "    \"c_equ_c3per\": ([\"time\", \"lat\", \"lon\"], carbon_equ_all_2021[6]),\n",
    "    \"c_equ_c4per\": ([\"time\", \"lat\", \"lon\"], carbon_equ_all_2021[7]),\n",
    "    \"c_equ_c3nfx\": ([\"time\", \"lat\", \"lon\"], carbon_equ_all_2021[8]),\n",
    "    \"c_equ_pastr\": ([\"time\", \"lat\", \"lon\"], carbon_equ_all_2021[9]),\n",
    "    \"c_equ_range\": ([\"time\", \"lat\", \"lon\"], carbon_equ_all_2021[10])\n",
    "}\n",
    "carbon_equ_ntcdf_2021 = carbon_equ_total.assign(data_vars)\n",
    "# carbon_equ_ntcdf_2021\n",
    "carbon_equ_ntcdf_2021.to_netcdf(\"D:/kerja/asisten riset/vol/milkunarc/cadlan/Analysis3_LUC/CARBON_EMISSION-2021.nc\", mode='w', format=\"NETCDF4\") "
   ]
  }
 ],
 "metadata": {
  "kernelspec": {
   "display_name": "Python 3",
   "language": "python",
   "name": "python3"
  },
  "language_info": {
   "codemirror_mode": {
    "name": "ipython",
    "version": 3
   },
   "file_extension": ".py",
   "mimetype": "text/x-python",
   "name": "python",
   "nbconvert_exporter": "python",
   "pygments_lexer": "ipython3",
   "version": "3.9.7"
  }
 },
 "nbformat": 4,
 "nbformat_minor": 2
}
