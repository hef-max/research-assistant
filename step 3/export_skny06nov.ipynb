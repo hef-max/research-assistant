{
 "cells": [
  {
   "cell_type": "code",
   "execution_count": 1,
   "metadata": {},
   "outputs": [],
   "source": [
    "import numpy as np\n",
    "import xarray as xr\n",
    "import pandas as pd\n",
    "from functools import reduces"
   ]
  },
  {
   "cell_type": "code",
   "execution_count": 2,
   "metadata": {},
   "outputs": [],
   "source": [
    "# import numpy as np\n",
    "# import pandas as pd\n",
    "# import xarray\n",
    "\n",
    "# glct = xarray.open_dataset(\"/vol/milkunC/achaidir/IMAGE PBL/SSP2/GLCT.NC\", engine=\"netcdf4\")\n",
    "\n",
    "# glct5mins_trans = np.zeros((26, 2160, 4320), dtype='<U64')\n",
    "\n",
    "# label_map = {\n",
    "#     1: 'agri', 2: 'grass', 3: 'carb', 4: 'rfab', 5: 'rftm',\n",
    "#     6: 'biof', 7: 'ice', 8: 'tund', 9: 'tuwd', 10: 'bore',\n",
    "#     11: 'ccfo', 12: 'tmfo', 13: 'tdfo', 14: 'wmfo', 15: 'stepp',\n",
    "#     16: 'dsrt', 17: 'scrb', 18: 'svna', 19: 'trow', 20: 'trof'\n",
    "# }\n",
    "\n",
    "# # Mengisi nilai NaN dengan nilai yang dapat diabaikan\n",
    "# glct_filled = glct['GLCT'].fillna(0)\n",
    "# glct_labels = glct_filled.values.astype(int)\n",
    "# glct_class = np.array([label_map.get(label_id, 'Ocean') for label_id in glct_labels.ravel()]).reshape(glct_labels.shape)\n",
    "\n",
    "# # for i in range(26):\n",
    "# #     prev_nicknames_with_to = np.char.add(glct_class[i], '_to_')\n",
    "# #     glct5mins_trans[i] = np.char.add(prev_nicknames_with_to, glct_class[i+1])\n",
    "\n",
    "# glct_trans_netcdf = xarray.Dataset({\n",
    "#         \"GLCT_trans\":([\"time\", \"latitude\", \"longitude\"], glct_class)\n",
    "#     },\n",
    "#     coords={\n",
    "#         \"time\": pd.date_range(start='1970-01-01', end='2100-01-01', freq='5YS'),\n",
    "#         \"latitude\": glct.coords[\"latitude\"].to_numpy(),\n",
    "#         \"longitude\": glct.coords[\"longitude\"].to_numpy()\n",
    "#     })\n",
    "\n",
    "# glct_trans_netcdf.to_netcdf(\"/vol/milkunC/achaidir/IMAGE PBL/SSP2/GLCT_nick.NC\", mode=\"w\", format=\"NETCDF4\")\n"
   ]
  },
  {
   "cell_type": "code",
   "execution_count": 3,
   "metadata": {},
   "outputs": [],
   "source": [
    "glct = xr.open_dataset(\"/vol/milkunC/achaidir/IMAGE PBL/SSP2/GLCT_nick.NC\", engine=\"netcdf4\")\n",
    "garea = xr.open_dataset(\"/vol/milkunC/achaidir/IMAGE PBL/SSP2/GAREA.NC\", engine=\"netcdf4\")\n",
    "df_sankey = pd.read_excel(\"/vol/milkunC/achaidir/IMAGE PBL/Konsep Sankey Diagram.xlsx\", sheet_name=\"color\")\n",
    "df_additional = pd.read_excel(\"/vol/milkunC/achaidir/IMAGE PBL/GLCT_sankey.xlsx\", sheet_name=\"sankey2\") "
   ]
  },
  {
   "cell_type": "code",
   "execution_count": 4,
   "metadata": {},
   "outputs": [
    {
     "data": {
      "text/html": [
       "<div>\n",
       "<style scoped>\n",
       "    .dataframe tbody tr th:only-of-type {\n",
       "        vertical-align: middle;\n",
       "    }\n",
       "\n",
       "    .dataframe tbody tr th {\n",
       "        vertical-align: top;\n",
       "    }\n",
       "\n",
       "    .dataframe thead th {\n",
       "        text-align: right;\n",
       "    }\n",
       "</style>\n",
       "<table border=\"1\" class=\"dataframe\">\n",
       "  <thead>\n",
       "    <tr style=\"text-align: right;\">\n",
       "      <th></th>\n",
       "      <th>GLCT_trans</th>\n",
       "      <th>color</th>\n",
       "    </tr>\n",
       "  </thead>\n",
       "  <tbody>\n",
       "    <tr>\n",
       "      <th>0</th>\n",
       "      <td>agri</td>\n",
       "      <td>#F3CA52</td>\n",
       "    </tr>\n",
       "    <tr>\n",
       "      <th>1</th>\n",
       "      <td>grass</td>\n",
       "      <td>#DC5F00</td>\n",
       "    </tr>\n",
       "    <tr>\n",
       "      <th>2</th>\n",
       "      <td>carb</td>\n",
       "      <td>#F6E9B2</td>\n",
       "    </tr>\n",
       "    <tr>\n",
       "      <th>3</th>\n",
       "      <td>rfab</td>\n",
       "      <td>#254336</td>\n",
       "    </tr>\n",
       "    <tr>\n",
       "      <th>4</th>\n",
       "      <td>rftm</td>\n",
       "      <td>#6B8A7A</td>\n",
       "    </tr>\n",
       "  </tbody>\n",
       "</table>\n",
       "</div>"
      ],
      "text/plain": [
       "  GLCT_trans    color\n",
       "0       agri  #F3CA52\n",
       "1      grass  #DC5F00\n",
       "2       carb  #F6E9B2\n",
       "3       rfab  #254336\n",
       "4       rftm  #6B8A7A"
      ]
     },
     "execution_count": 4,
     "metadata": {},
     "output_type": "execute_result"
    }
   ],
   "source": [
    "df_sankey['color'] = '#' + df_sankey['color'].astype(str)\n",
    "df_sankey.head()"
   ]
  },
  {
   "cell_type": "code",
   "execution_count": 5,
   "metadata": {},
   "outputs": [],
   "source": [
    "garea_2020 = garea.isel(time=slice(0, 11)) #slice 1975 to 2100\n",
    "garea_ha = np.nan_to_num(np.multiply(garea_2020['GAREA'].to_numpy(), 100))\n",
    "\n",
    "glct_2020 = glct.isel(time=slice(0, 11))"
   ]
  },
  {
   "cell_type": "code",
   "execution_count": 6,
   "metadata": {},
   "outputs": [],
   "source": [
    "country_code = pd.read_excel(\"/vol/milkunC/achaidir/Country Grids/ISO-3166-Country-Code_Final.xlsx\")\n",
    "luh_static = xr.open_dataset(\"/vol/milkunC/achaidir/Country Grids/gpw-v4-national-identifier-grid-rev11_2pt5_min_tif_NEW/CCODE_RASTER.nc\", engine=\"netcdf4\")"
   ]
  },
  {
   "cell_type": "code",
   "execution_count": 7,
   "metadata": {},
   "outputs": [],
   "source": [
    "ccode_iso = list(country_code['country-code'])\n",
    "cname_iso = list(country_code['ISO Country'])\n",
    "\n",
    "ccode_worldwide_int = luh_static['ccode'].to_numpy().astype('int64')\n",
    "ccode_convert = np.zeros((2160, 4320), dtype=\"<U64\") #rubah ke <U64"
   ]
  },
  {
   "cell_type": "code",
   "execution_count": 8,
   "metadata": {},
   "outputs": [],
   "source": [
    "ccode_dict = {}\n",
    "for i, ccode in enumerate(ccode_iso):\n",
    "    ccode_dict[ccode] = cname_iso[i]\n",
    "\n",
    "for i in range(2160):\n",
    "    for j in range(4320):\n",
    "        if (ccode_worldwide_int[i][j] in ccode_dict.keys()):\n",
    "            ccode_convert[i][j] = ccode_dict[ccode_worldwide_int[i][j]]\n",
    "        else:\n",
    "            ccode_convert[i][j] = \"ocean\"\n",
    "\n",
    "country = xr.Dataset({\"country\": ([\"latitude\", \"longitude\"], ccode_convert)},\n",
    "                         coords={ \"longitude\": glct_2020.coords[\"longitude\"].to_numpy(), \"latitude\": glct_2020.coords[\"latitude\"].to_numpy()})\n",
    "glct_2020_country = glct_2020.assign_coords(country=country.country)"
   ]
  },
  {
   "cell_type": "code",
   "execution_count": 9,
   "metadata": {},
   "outputs": [
    {
     "data": {
      "text/html": [
       "<div><svg style=\"position: absolute; width: 0; height: 0; overflow: hidden\">\n",
       "<defs>\n",
       "<symbol id=\"icon-database\" viewBox=\"0 0 32 32\">\n",
       "<path d=\"M16 0c-8.837 0-16 2.239-16 5v4c0 2.761 7.163 5 16 5s16-2.239 16-5v-4c0-2.761-7.163-5-16-5z\"></path>\n",
       "<path d=\"M16 17c-8.837 0-16-2.239-16-5v6c0 2.761 7.163 5 16 5s16-2.239 16-5v-6c0 2.761-7.163 5-16 5z\"></path>\n",
       "<path d=\"M16 26c-8.837 0-16-2.239-16-5v6c0 2.761 7.163 5 16 5s16-2.239 16-5v-6c0 2.761-7.163 5-16 5z\"></path>\n",
       "</symbol>\n",
       "<symbol id=\"icon-file-text2\" viewBox=\"0 0 32 32\">\n",
       "<path d=\"M28.681 7.159c-0.694-0.947-1.662-2.053-2.724-3.116s-2.169-2.030-3.116-2.724c-1.612-1.182-2.393-1.319-2.841-1.319h-15.5c-1.378 0-2.5 1.121-2.5 2.5v27c0 1.378 1.122 2.5 2.5 2.5h23c1.378 0 2.5-1.122 2.5-2.5v-19.5c0-0.448-0.137-1.23-1.319-2.841zM24.543 5.457c0.959 0.959 1.712 1.825 2.268 2.543h-4.811v-4.811c0.718 0.556 1.584 1.309 2.543 2.268zM28 29.5c0 0.271-0.229 0.5-0.5 0.5h-23c-0.271 0-0.5-0.229-0.5-0.5v-27c0-0.271 0.229-0.5 0.5-0.5 0 0 15.499-0 15.5 0v7c0 0.552 0.448 1 1 1h7v19.5z\"></path>\n",
       "<path d=\"M23 26h-14c-0.552 0-1-0.448-1-1s0.448-1 1-1h14c0.552 0 1 0.448 1 1s-0.448 1-1 1z\"></path>\n",
       "<path d=\"M23 22h-14c-0.552 0-1-0.448-1-1s0.448-1 1-1h14c0.552 0 1 0.448 1 1s-0.448 1-1 1z\"></path>\n",
       "<path d=\"M23 18h-14c-0.552 0-1-0.448-1-1s0.448-1 1-1h14c0.552 0 1 0.448 1 1s-0.448 1-1 1z\"></path>\n",
       "</symbol>\n",
       "</defs>\n",
       "</svg>\n",
       "<style>/* CSS stylesheet for displaying xarray objects in jupyterlab.\n",
       " *\n",
       " */\n",
       "\n",
       ":root {\n",
       "  --xr-font-color0: var(--jp-content-font-color0, rgba(0, 0, 0, 1));\n",
       "  --xr-font-color2: var(--jp-content-font-color2, rgba(0, 0, 0, 0.54));\n",
       "  --xr-font-color3: var(--jp-content-font-color3, rgba(0, 0, 0, 0.38));\n",
       "  --xr-border-color: var(--jp-border-color2, #e0e0e0);\n",
       "  --xr-disabled-color: var(--jp-layout-color3, #bdbdbd);\n",
       "  --xr-background-color: var(--jp-layout-color0, white);\n",
       "  --xr-background-color-row-even: var(--jp-layout-color1, white);\n",
       "  --xr-background-color-row-odd: var(--jp-layout-color2, #eeeeee);\n",
       "}\n",
       "\n",
       "html[theme=dark],\n",
       "body[data-theme=dark],\n",
       "body.vscode-dark {\n",
       "  --xr-font-color0: rgba(255, 255, 255, 1);\n",
       "  --xr-font-color2: rgba(255, 255, 255, 0.54);\n",
       "  --xr-font-color3: rgba(255, 255, 255, 0.38);\n",
       "  --xr-border-color: #1F1F1F;\n",
       "  --xr-disabled-color: #515151;\n",
       "  --xr-background-color: #111111;\n",
       "  --xr-background-color-row-even: #111111;\n",
       "  --xr-background-color-row-odd: #313131;\n",
       "}\n",
       "\n",
       ".xr-wrap {\n",
       "  display: block !important;\n",
       "  min-width: 300px;\n",
       "  max-width: 700px;\n",
       "}\n",
       "\n",
       ".xr-text-repr-fallback {\n",
       "  /* fallback to plain text repr when CSS is not injected (untrusted notebook) */\n",
       "  display: none;\n",
       "}\n",
       "\n",
       ".xr-header {\n",
       "  padding-top: 6px;\n",
       "  padding-bottom: 6px;\n",
       "  margin-bottom: 4px;\n",
       "  border-bottom: solid 1px var(--xr-border-color);\n",
       "}\n",
       "\n",
       ".xr-header > div,\n",
       ".xr-header > ul {\n",
       "  display: inline;\n",
       "  margin-top: 0;\n",
       "  margin-bottom: 0;\n",
       "}\n",
       "\n",
       ".xr-obj-type,\n",
       ".xr-array-name {\n",
       "  margin-left: 2px;\n",
       "  margin-right: 10px;\n",
       "}\n",
       "\n",
       ".xr-obj-type {\n",
       "  color: var(--xr-font-color2);\n",
       "}\n",
       "\n",
       ".xr-sections {\n",
       "  padding-left: 0 !important;\n",
       "  display: grid;\n",
       "  grid-template-columns: 150px auto auto 1fr 20px 20px;\n",
       "}\n",
       "\n",
       ".xr-section-item {\n",
       "  display: contents;\n",
       "}\n",
       "\n",
       ".xr-section-item input {\n",
       "  display: none;\n",
       "}\n",
       "\n",
       ".xr-section-item input + label {\n",
       "  color: var(--xr-disabled-color);\n",
       "}\n",
       "\n",
       ".xr-section-item input:enabled + label {\n",
       "  cursor: pointer;\n",
       "  color: var(--xr-font-color2);\n",
       "}\n",
       "\n",
       ".xr-section-item input:enabled + label:hover {\n",
       "  color: var(--xr-font-color0);\n",
       "}\n",
       "\n",
       ".xr-section-summary {\n",
       "  grid-column: 1;\n",
       "  color: var(--xr-font-color2);\n",
       "  font-weight: 500;\n",
       "}\n",
       "\n",
       ".xr-section-summary > span {\n",
       "  display: inline-block;\n",
       "  padding-left: 0.5em;\n",
       "}\n",
       "\n",
       ".xr-section-summary-in:disabled + label {\n",
       "  color: var(--xr-font-color2);\n",
       "}\n",
       "\n",
       ".xr-section-summary-in + label:before {\n",
       "  display: inline-block;\n",
       "  content: '►';\n",
       "  font-size: 11px;\n",
       "  width: 15px;\n",
       "  text-align: center;\n",
       "}\n",
       "\n",
       ".xr-section-summary-in:disabled + label:before {\n",
       "  color: var(--xr-disabled-color);\n",
       "}\n",
       "\n",
       ".xr-section-summary-in:checked + label:before {\n",
       "  content: '▼';\n",
       "}\n",
       "\n",
       ".xr-section-summary-in:checked + label > span {\n",
       "  display: none;\n",
       "}\n",
       "\n",
       ".xr-section-summary,\n",
       ".xr-section-inline-details {\n",
       "  padding-top: 4px;\n",
       "  padding-bottom: 4px;\n",
       "}\n",
       "\n",
       ".xr-section-inline-details {\n",
       "  grid-column: 2 / -1;\n",
       "}\n",
       "\n",
       ".xr-section-details {\n",
       "  display: none;\n",
       "  grid-column: 1 / -1;\n",
       "  margin-bottom: 5px;\n",
       "}\n",
       "\n",
       ".xr-section-summary-in:checked ~ .xr-section-details {\n",
       "  display: contents;\n",
       "}\n",
       "\n",
       ".xr-array-wrap {\n",
       "  grid-column: 1 / -1;\n",
       "  display: grid;\n",
       "  grid-template-columns: 20px auto;\n",
       "}\n",
       "\n",
       ".xr-array-wrap > label {\n",
       "  grid-column: 1;\n",
       "  vertical-align: top;\n",
       "}\n",
       "\n",
       ".xr-preview {\n",
       "  color: var(--xr-font-color3);\n",
       "}\n",
       "\n",
       ".xr-array-preview,\n",
       ".xr-array-data {\n",
       "  padding: 0 5px !important;\n",
       "  grid-column: 2;\n",
       "}\n",
       "\n",
       ".xr-array-data,\n",
       ".xr-array-in:checked ~ .xr-array-preview {\n",
       "  display: none;\n",
       "}\n",
       "\n",
       ".xr-array-in:checked ~ .xr-array-data,\n",
       ".xr-array-preview {\n",
       "  display: inline-block;\n",
       "}\n",
       "\n",
       ".xr-dim-list {\n",
       "  display: inline-block !important;\n",
       "  list-style: none;\n",
       "  padding: 0 !important;\n",
       "  margin: 0;\n",
       "}\n",
       "\n",
       ".xr-dim-list li {\n",
       "  display: inline-block;\n",
       "  padding: 0;\n",
       "  margin: 0;\n",
       "}\n",
       "\n",
       ".xr-dim-list:before {\n",
       "  content: '(';\n",
       "}\n",
       "\n",
       ".xr-dim-list:after {\n",
       "  content: ')';\n",
       "}\n",
       "\n",
       ".xr-dim-list li:not(:last-child):after {\n",
       "  content: ',';\n",
       "  padding-right: 5px;\n",
       "}\n",
       "\n",
       ".xr-has-index {\n",
       "  font-weight: bold;\n",
       "}\n",
       "\n",
       ".xr-var-list,\n",
       ".xr-var-item {\n",
       "  display: contents;\n",
       "}\n",
       "\n",
       ".xr-var-item > div,\n",
       ".xr-var-item label,\n",
       ".xr-var-item > .xr-var-name span {\n",
       "  background-color: var(--xr-background-color-row-even);\n",
       "  margin-bottom: 0;\n",
       "}\n",
       "\n",
       ".xr-var-item > .xr-var-name:hover span {\n",
       "  padding-right: 5px;\n",
       "}\n",
       "\n",
       ".xr-var-list > li:nth-child(odd) > div,\n",
       ".xr-var-list > li:nth-child(odd) > label,\n",
       ".xr-var-list > li:nth-child(odd) > .xr-var-name span {\n",
       "  background-color: var(--xr-background-color-row-odd);\n",
       "}\n",
       "\n",
       ".xr-var-name {\n",
       "  grid-column: 1;\n",
       "}\n",
       "\n",
       ".xr-var-dims {\n",
       "  grid-column: 2;\n",
       "}\n",
       "\n",
       ".xr-var-dtype {\n",
       "  grid-column: 3;\n",
       "  text-align: right;\n",
       "  color: var(--xr-font-color2);\n",
       "}\n",
       "\n",
       ".xr-var-preview {\n",
       "  grid-column: 4;\n",
       "}\n",
       "\n",
       ".xr-index-preview {\n",
       "  grid-column: 2 / 5;\n",
       "  color: var(--xr-font-color2);\n",
       "}\n",
       "\n",
       ".xr-var-name,\n",
       ".xr-var-dims,\n",
       ".xr-var-dtype,\n",
       ".xr-preview,\n",
       ".xr-attrs dt {\n",
       "  white-space: nowrap;\n",
       "  overflow: hidden;\n",
       "  text-overflow: ellipsis;\n",
       "  padding-right: 10px;\n",
       "}\n",
       "\n",
       ".xr-var-name:hover,\n",
       ".xr-var-dims:hover,\n",
       ".xr-var-dtype:hover,\n",
       ".xr-attrs dt:hover {\n",
       "  overflow: visible;\n",
       "  width: auto;\n",
       "  z-index: 1;\n",
       "}\n",
       "\n",
       ".xr-var-attrs,\n",
       ".xr-var-data,\n",
       ".xr-index-data {\n",
       "  display: none;\n",
       "  background-color: var(--xr-background-color) !important;\n",
       "  padding-bottom: 5px !important;\n",
       "}\n",
       "\n",
       ".xr-var-attrs-in:checked ~ .xr-var-attrs,\n",
       ".xr-var-data-in:checked ~ .xr-var-data,\n",
       ".xr-index-data-in:checked ~ .xr-index-data {\n",
       "  display: block;\n",
       "}\n",
       "\n",
       ".xr-var-data > table {\n",
       "  float: right;\n",
       "}\n",
       "\n",
       ".xr-var-name span,\n",
       ".xr-var-data,\n",
       ".xr-index-name div,\n",
       ".xr-index-data,\n",
       ".xr-attrs {\n",
       "  padding-left: 25px !important;\n",
       "}\n",
       "\n",
       ".xr-attrs,\n",
       ".xr-var-attrs,\n",
       ".xr-var-data,\n",
       ".xr-index-data {\n",
       "  grid-column: 1 / -1;\n",
       "}\n",
       "\n",
       "dl.xr-attrs {\n",
       "  padding: 0;\n",
       "  margin: 0;\n",
       "  display: grid;\n",
       "  grid-template-columns: 125px auto;\n",
       "}\n",
       "\n",
       ".xr-attrs dt,\n",
       ".xr-attrs dd {\n",
       "  padding: 0;\n",
       "  margin: 0;\n",
       "  float: left;\n",
       "  padding-right: 10px;\n",
       "  width: auto;\n",
       "}\n",
       "\n",
       ".xr-attrs dt {\n",
       "  font-weight: normal;\n",
       "  grid-column: 1;\n",
       "}\n",
       "\n",
       ".xr-attrs dt:hover span {\n",
       "  display: inline-block;\n",
       "  background: var(--xr-background-color);\n",
       "  padding-right: 10px;\n",
       "}\n",
       "\n",
       ".xr-attrs dd {\n",
       "  grid-column: 2;\n",
       "  white-space: pre-wrap;\n",
       "  word-break: break-all;\n",
       "}\n",
       "\n",
       ".xr-icon-database,\n",
       ".xr-icon-file-text2,\n",
       ".xr-no-icon {\n",
       "  display: inline-block;\n",
       "  vertical-align: middle;\n",
       "  width: 1em;\n",
       "  height: 1.5em !important;\n",
       "  stroke-width: 0;\n",
       "  stroke: currentColor;\n",
       "  fill: currentColor;\n",
       "}\n",
       "</style><pre class='xr-text-repr-fallback'>&lt;xarray.Dataset&gt;\n",
       "Dimensions:     (time: 11, latitude: 2160, longitude: 4320)\n",
       "Coordinates:\n",
       "  * time        (time) datetime64[ns] 1970-01-01 1975-01-01 ... 2020-01-01\n",
       "  * latitude    (latitude) float64 89.96 89.88 89.79 ... -89.79 -89.87 -89.96\n",
       "  * longitude   (longitude) float64 -180.0 -179.9 -179.8 ... 179.8 179.9 180.0\n",
       "    country     (latitude, longitude) &lt;U64 &#x27;ocean&#x27; &#x27;ocean&#x27; ... &#x27;ocean&#x27; &#x27;ocean&#x27;\n",
       "Data variables:\n",
       "    GLCT_trans  (time, latitude, longitude) object ...</pre><div class='xr-wrap' style='display:none'><div class='xr-header'><div class='xr-obj-type'>xarray.Dataset</div></div><ul class='xr-sections'><li class='xr-section-item'><input id='section-03168457-1fb2-4fe0-a184-e3630f76886c' class='xr-section-summary-in' type='checkbox' disabled ><label for='section-03168457-1fb2-4fe0-a184-e3630f76886c' class='xr-section-summary'  title='Expand/collapse section'>Dimensions:</label><div class='xr-section-inline-details'><ul class='xr-dim-list'><li><span class='xr-has-index'>time</span>: 11</li><li><span class='xr-has-index'>latitude</span>: 2160</li><li><span class='xr-has-index'>longitude</span>: 4320</li></ul></div><div class='xr-section-details'></div></li><li class='xr-section-item'><input id='section-8bda16ad-50a0-4bea-9563-db2bf70befc0' class='xr-section-summary-in' type='checkbox'  checked><label for='section-8bda16ad-50a0-4bea-9563-db2bf70befc0' class='xr-section-summary' >Coordinates: <span>(4)</span></label><div class='xr-section-inline-details'></div><div class='xr-section-details'><ul class='xr-var-list'><li class='xr-var-item'><div class='xr-var-name'><span class='xr-has-index'>time</span></div><div class='xr-var-dims'>(time)</div><div class='xr-var-dtype'>datetime64[ns]</div><div class='xr-var-preview xr-preview'>1970-01-01 ... 2020-01-01</div><input id='attrs-2fd2667b-d3f0-4bb1-af9c-b321b20b7440' class='xr-var-attrs-in' type='checkbox' disabled><label for='attrs-2fd2667b-d3f0-4bb1-af9c-b321b20b7440' title='Show/Hide attributes'><svg class='icon xr-icon-file-text2'><use xlink:href='#icon-file-text2'></use></svg></label><input id='data-19592045-46d9-4590-a016-fa9c5add1c0e' class='xr-var-data-in' type='checkbox'><label for='data-19592045-46d9-4590-a016-fa9c5add1c0e' title='Show/Hide data repr'><svg class='icon xr-icon-database'><use xlink:href='#icon-database'></use></svg></label><div class='xr-var-attrs'><dl class='xr-attrs'></dl></div><div class='xr-var-data'><pre>array([&#x27;1970-01-01T00:00:00.000000000&#x27;, &#x27;1975-01-01T00:00:00.000000000&#x27;,\n",
       "       &#x27;1980-01-01T00:00:00.000000000&#x27;, &#x27;1985-01-01T00:00:00.000000000&#x27;,\n",
       "       &#x27;1990-01-01T00:00:00.000000000&#x27;, &#x27;1995-01-01T00:00:00.000000000&#x27;,\n",
       "       &#x27;2000-01-01T00:00:00.000000000&#x27;, &#x27;2005-01-01T00:00:00.000000000&#x27;,\n",
       "       &#x27;2010-01-01T00:00:00.000000000&#x27;, &#x27;2015-01-01T00:00:00.000000000&#x27;,\n",
       "       &#x27;2020-01-01T00:00:00.000000000&#x27;], dtype=&#x27;datetime64[ns]&#x27;)</pre></div></li><li class='xr-var-item'><div class='xr-var-name'><span class='xr-has-index'>latitude</span></div><div class='xr-var-dims'>(latitude)</div><div class='xr-var-dtype'>float64</div><div class='xr-var-preview xr-preview'>89.96 89.88 89.79 ... -89.87 -89.96</div><input id='attrs-20f7fc65-3ac3-4fdf-8623-2d86673026f1' class='xr-var-attrs-in' type='checkbox' disabled><label for='attrs-20f7fc65-3ac3-4fdf-8623-2d86673026f1' title='Show/Hide attributes'><svg class='icon xr-icon-file-text2'><use xlink:href='#icon-file-text2'></use></svg></label><input id='data-0a3651c5-b7c3-43e7-b50f-c99fddbda0ed' class='xr-var-data-in' type='checkbox'><label for='data-0a3651c5-b7c3-43e7-b50f-c99fddbda0ed' title='Show/Hide data repr'><svg class='icon xr-icon-database'><use xlink:href='#icon-database'></use></svg></label><div class='xr-var-attrs'><dl class='xr-attrs'></dl></div><div class='xr-var-data'><pre>array([ 89.958333,  89.875   ,  89.791667, ..., -89.791666, -89.874999,\n",
       "       -89.958333])</pre></div></li><li class='xr-var-item'><div class='xr-var-name'><span class='xr-has-index'>longitude</span></div><div class='xr-var-dims'>(longitude)</div><div class='xr-var-dtype'>float64</div><div class='xr-var-preview xr-preview'>-180.0 -179.9 ... 179.9 180.0</div><input id='attrs-8a5af61b-a739-47a8-8a33-1a715e630d83' class='xr-var-attrs-in' type='checkbox' disabled><label for='attrs-8a5af61b-a739-47a8-8a33-1a715e630d83' title='Show/Hide attributes'><svg class='icon xr-icon-file-text2'><use xlink:href='#icon-file-text2'></use></svg></label><input id='data-7dde8fca-0c4a-4146-b902-7e3ac01b7ccd' class='xr-var-data-in' type='checkbox'><label for='data-7dde8fca-0c4a-4146-b902-7e3ac01b7ccd' title='Show/Hide data repr'><svg class='icon xr-icon-database'><use xlink:href='#icon-database'></use></svg></label><div class='xr-var-attrs'><dl class='xr-attrs'></dl></div><div class='xr-var-data'><pre>array([-179.958333, -179.875   , -179.791667, ...,  179.791665,  179.874999,\n",
       "        179.958332])</pre></div></li><li class='xr-var-item'><div class='xr-var-name'><span>country</span></div><div class='xr-var-dims'>(latitude, longitude)</div><div class='xr-var-dtype'>&lt;U64</div><div class='xr-var-preview xr-preview'>&#x27;ocean&#x27; &#x27;ocean&#x27; ... &#x27;ocean&#x27; &#x27;ocean&#x27;</div><input id='attrs-790b4c8a-a523-4627-8747-d0c8fa053ba8' class='xr-var-attrs-in' type='checkbox' disabled><label for='attrs-790b4c8a-a523-4627-8747-d0c8fa053ba8' title='Show/Hide attributes'><svg class='icon xr-icon-file-text2'><use xlink:href='#icon-file-text2'></use></svg></label><input id='data-92f87626-72a9-46c4-883b-5747dd75055c' class='xr-var-data-in' type='checkbox'><label for='data-92f87626-72a9-46c4-883b-5747dd75055c' title='Show/Hide data repr'><svg class='icon xr-icon-database'><use xlink:href='#icon-database'></use></svg></label><div class='xr-var-attrs'><dl class='xr-attrs'></dl></div><div class='xr-var-data'><pre>array([[&#x27;ocean&#x27;, &#x27;ocean&#x27;, &#x27;ocean&#x27;, ..., &#x27;ocean&#x27;, &#x27;ocean&#x27;, &#x27;ocean&#x27;],\n",
       "       [&#x27;ocean&#x27;, &#x27;ocean&#x27;, &#x27;ocean&#x27;, ..., &#x27;ocean&#x27;, &#x27;ocean&#x27;, &#x27;ocean&#x27;],\n",
       "       [&#x27;ocean&#x27;, &#x27;ocean&#x27;, &#x27;ocean&#x27;, ..., &#x27;ocean&#x27;, &#x27;ocean&#x27;, &#x27;ocean&#x27;],\n",
       "       ...,\n",
       "       [&#x27;ocean&#x27;, &#x27;ocean&#x27;, &#x27;ocean&#x27;, ..., &#x27;ocean&#x27;, &#x27;ocean&#x27;, &#x27;ocean&#x27;],\n",
       "       [&#x27;ocean&#x27;, &#x27;ocean&#x27;, &#x27;ocean&#x27;, ..., &#x27;ocean&#x27;, &#x27;ocean&#x27;, &#x27;ocean&#x27;],\n",
       "       [&#x27;ocean&#x27;, &#x27;ocean&#x27;, &#x27;ocean&#x27;, ..., &#x27;ocean&#x27;, &#x27;ocean&#x27;, &#x27;ocean&#x27;]],\n",
       "      dtype=&#x27;&lt;U64&#x27;)</pre></div></li></ul></div></li><li class='xr-section-item'><input id='section-29454418-3350-41ac-9eed-1d408a8611c3' class='xr-section-summary-in' type='checkbox'  checked><label for='section-29454418-3350-41ac-9eed-1d408a8611c3' class='xr-section-summary' >Data variables: <span>(1)</span></label><div class='xr-section-inline-details'></div><div class='xr-section-details'><ul class='xr-var-list'><li class='xr-var-item'><div class='xr-var-name'><span>GLCT_trans</span></div><div class='xr-var-dims'>(time, latitude, longitude)</div><div class='xr-var-dtype'>object</div><div class='xr-var-preview xr-preview'>...</div><input id='attrs-fad9190f-b679-4bf6-9e14-1bde7537508d' class='xr-var-attrs-in' type='checkbox' disabled><label for='attrs-fad9190f-b679-4bf6-9e14-1bde7537508d' title='Show/Hide attributes'><svg class='icon xr-icon-file-text2'><use xlink:href='#icon-file-text2'></use></svg></label><input id='data-5bd744dc-a708-432f-901e-741f011866c5' class='xr-var-data-in' type='checkbox'><label for='data-5bd744dc-a708-432f-901e-741f011866c5' title='Show/Hide data repr'><svg class='icon xr-icon-database'><use xlink:href='#icon-database'></use></svg></label><div class='xr-var-attrs'><dl class='xr-attrs'></dl></div><div class='xr-var-data'><pre>[102643200 values with dtype=object]</pre></div></li></ul></div></li><li class='xr-section-item'><input id='section-86d53843-076f-465b-a713-6f5bc0cacf2b' class='xr-section-summary-in' type='checkbox'  ><label for='section-86d53843-076f-465b-a713-6f5bc0cacf2b' class='xr-section-summary' >Indexes: <span>(3)</span></label><div class='xr-section-inline-details'></div><div class='xr-section-details'><ul class='xr-var-list'><li class='xr-var-item'><div class='xr-index-name'><div>time</div></div><div class='xr-index-preview'>PandasIndex</div><div></div><input id='index-e89695cf-4f79-410b-a175-7c9af09bd218' class='xr-index-data-in' type='checkbox'/><label for='index-e89695cf-4f79-410b-a175-7c9af09bd218' title='Show/Hide index repr'><svg class='icon xr-icon-database'><use xlink:href='#icon-database'></use></svg></label><div class='xr-index-data'><pre>PandasIndex(DatetimeIndex([&#x27;1970-01-01&#x27;, &#x27;1975-01-01&#x27;, &#x27;1980-01-01&#x27;, &#x27;1985-01-01&#x27;,\n",
       "               &#x27;1990-01-01&#x27;, &#x27;1995-01-01&#x27;, &#x27;2000-01-01&#x27;, &#x27;2005-01-01&#x27;,\n",
       "               &#x27;2010-01-01&#x27;, &#x27;2015-01-01&#x27;, &#x27;2020-01-01&#x27;],\n",
       "              dtype=&#x27;datetime64[ns]&#x27;, name=&#x27;time&#x27;, freq=None))</pre></div></li><li class='xr-var-item'><div class='xr-index-name'><div>latitude</div></div><div class='xr-index-preview'>PandasIndex</div><div></div><input id='index-20b4b851-0d4a-4558-87c0-5dcdb75c9aff' class='xr-index-data-in' type='checkbox'/><label for='index-20b4b851-0d4a-4558-87c0-5dcdb75c9aff' title='Show/Hide index repr'><svg class='icon xr-icon-database'><use xlink:href='#icon-database'></use></svg></label><div class='xr-index-data'><pre>PandasIndex(Index([     89.9583333335,      89.8750000005,      89.7916666675,\n",
       "            89.7083333345,      89.6250000015,      89.5416666685,\n",
       "        89.45833333549999,  89.37500000249999,  89.29166666949999,\n",
       "        89.20833333649999,\n",
       "       ...\n",
       "       -89.20833261649999,     -89.2916659495, -89.37499928249999,\n",
       "           -89.4583326155, -89.54166594850001,     -89.6249992815,\n",
       "       -89.70833261450001,     -89.7916659475,     -89.8749992805,\n",
       "       -89.95833261349999],\n",
       "      dtype=&#x27;float64&#x27;, name=&#x27;latitude&#x27;, length=2160))</pre></div></li><li class='xr-var-item'><div class='xr-index-name'><div>longitude</div></div><div class='xr-index-preview'>PandasIndex</div><div></div><input id='index-c05b6138-8c66-4790-8bf8-7b4e3379f01e' class='xr-index-data-in' type='checkbox'/><label for='index-c05b6138-8c66-4790-8bf8-7b4e3379f01e' title='Show/Hide index repr'><svg class='icon xr-icon-database'><use xlink:href='#icon-database'></use></svg></label><div class='xr-index-data'><pre>PandasIndex(Index([    -179.9583333335,     -179.8750000005,     -179.7916666675,\n",
       "           -179.7083333345,     -179.6250000015,     -179.5416666685,\n",
       "       -179.45833333550001,     -179.3750000025, -179.29166666950002,\n",
       "           -179.2083333365,\n",
       "       ...\n",
       "        179.20833189649997,  179.29166522949996,      179.3749985625,\n",
       "        179.45833189549998,  179.54166522849997,  179.62499856149995,\n",
       "            179.7083318945,  179.79166522749998,  179.87499856049996,\n",
       "        179.95833189349995],\n",
       "      dtype=&#x27;float64&#x27;, name=&#x27;longitude&#x27;, length=4320))</pre></div></li></ul></div></li><li class='xr-section-item'><input id='section-cdf77911-3aa4-4704-bca1-4294dd8d8ccf' class='xr-section-summary-in' type='checkbox' disabled ><label for='section-cdf77911-3aa4-4704-bca1-4294dd8d8ccf' class='xr-section-summary'  title='Expand/collapse section'>Attributes: <span>(0)</span></label><div class='xr-section-inline-details'></div><div class='xr-section-details'><dl class='xr-attrs'></dl></div></li></ul></div></div>"
      ],
      "text/plain": [
       "<xarray.Dataset>\n",
       "Dimensions:     (time: 11, latitude: 2160, longitude: 4320)\n",
       "Coordinates:\n",
       "  * time        (time) datetime64[ns] 1970-01-01 1975-01-01 ... 2020-01-01\n",
       "  * latitude    (latitude) float64 89.96 89.88 89.79 ... -89.79 -89.87 -89.96\n",
       "  * longitude   (longitude) float64 -180.0 -179.9 -179.8 ... 179.8 179.9 180.0\n",
       "    country     (latitude, longitude) <U64 'ocean' 'ocean' ... 'ocean' 'ocean'\n",
       "Data variables:\n",
       "    GLCT_trans  (time, latitude, longitude) object ..."
      ]
     },
     "execution_count": 9,
     "metadata": {},
     "output_type": "execute_result"
    }
   ],
   "source": [
    "glct_2020_country"
   ]
  },
  {
   "cell_type": "code",
   "execution_count": 10,
   "metadata": {},
   "outputs": [
    {
     "data": {
      "text/html": [
       "<div><svg style=\"position: absolute; width: 0; height: 0; overflow: hidden\">\n",
       "<defs>\n",
       "<symbol id=\"icon-database\" viewBox=\"0 0 32 32\">\n",
       "<path d=\"M16 0c-8.837 0-16 2.239-16 5v4c0 2.761 7.163 5 16 5s16-2.239 16-5v-4c0-2.761-7.163-5-16-5z\"></path>\n",
       "<path d=\"M16 17c-8.837 0-16-2.239-16-5v6c0 2.761 7.163 5 16 5s16-2.239 16-5v-6c0 2.761-7.163 5-16 5z\"></path>\n",
       "<path d=\"M16 26c-8.837 0-16-2.239-16-5v6c0 2.761 7.163 5 16 5s16-2.239 16-5v-6c0 2.761-7.163 5-16 5z\"></path>\n",
       "</symbol>\n",
       "<symbol id=\"icon-file-text2\" viewBox=\"0 0 32 32\">\n",
       "<path d=\"M28.681 7.159c-0.694-0.947-1.662-2.053-2.724-3.116s-2.169-2.030-3.116-2.724c-1.612-1.182-2.393-1.319-2.841-1.319h-15.5c-1.378 0-2.5 1.121-2.5 2.5v27c0 1.378 1.122 2.5 2.5 2.5h23c1.378 0 2.5-1.122 2.5-2.5v-19.5c0-0.448-0.137-1.23-1.319-2.841zM24.543 5.457c0.959 0.959 1.712 1.825 2.268 2.543h-4.811v-4.811c0.718 0.556 1.584 1.309 2.543 2.268zM28 29.5c0 0.271-0.229 0.5-0.5 0.5h-23c-0.271 0-0.5-0.229-0.5-0.5v-27c0-0.271 0.229-0.5 0.5-0.5 0 0 15.499-0 15.5 0v7c0 0.552 0.448 1 1 1h7v19.5z\"></path>\n",
       "<path d=\"M23 26h-14c-0.552 0-1-0.448-1-1s0.448-1 1-1h14c0.552 0 1 0.448 1 1s-0.448 1-1 1z\"></path>\n",
       "<path d=\"M23 22h-14c-0.552 0-1-0.448-1-1s0.448-1 1-1h14c0.552 0 1 0.448 1 1s-0.448 1-1 1z\"></path>\n",
       "<path d=\"M23 18h-14c-0.552 0-1-0.448-1-1s0.448-1 1-1h14c0.552 0 1 0.448 1 1s-0.448 1-1 1z\"></path>\n",
       "</symbol>\n",
       "</defs>\n",
       "</svg>\n",
       "<style>/* CSS stylesheet for displaying xarray objects in jupyterlab.\n",
       " *\n",
       " */\n",
       "\n",
       ":root {\n",
       "  --xr-font-color0: var(--jp-content-font-color0, rgba(0, 0, 0, 1));\n",
       "  --xr-font-color2: var(--jp-content-font-color2, rgba(0, 0, 0, 0.54));\n",
       "  --xr-font-color3: var(--jp-content-font-color3, rgba(0, 0, 0, 0.38));\n",
       "  --xr-border-color: var(--jp-border-color2, #e0e0e0);\n",
       "  --xr-disabled-color: var(--jp-layout-color3, #bdbdbd);\n",
       "  --xr-background-color: var(--jp-layout-color0, white);\n",
       "  --xr-background-color-row-even: var(--jp-layout-color1, white);\n",
       "  --xr-background-color-row-odd: var(--jp-layout-color2, #eeeeee);\n",
       "}\n",
       "\n",
       "html[theme=dark],\n",
       "body[data-theme=dark],\n",
       "body.vscode-dark {\n",
       "  --xr-font-color0: rgba(255, 255, 255, 1);\n",
       "  --xr-font-color2: rgba(255, 255, 255, 0.54);\n",
       "  --xr-font-color3: rgba(255, 255, 255, 0.38);\n",
       "  --xr-border-color: #1F1F1F;\n",
       "  --xr-disabled-color: #515151;\n",
       "  --xr-background-color: #111111;\n",
       "  --xr-background-color-row-even: #111111;\n",
       "  --xr-background-color-row-odd: #313131;\n",
       "}\n",
       "\n",
       ".xr-wrap {\n",
       "  display: block !important;\n",
       "  min-width: 300px;\n",
       "  max-width: 700px;\n",
       "}\n",
       "\n",
       ".xr-text-repr-fallback {\n",
       "  /* fallback to plain text repr when CSS is not injected (untrusted notebook) */\n",
       "  display: none;\n",
       "}\n",
       "\n",
       ".xr-header {\n",
       "  padding-top: 6px;\n",
       "  padding-bottom: 6px;\n",
       "  margin-bottom: 4px;\n",
       "  border-bottom: solid 1px var(--xr-border-color);\n",
       "}\n",
       "\n",
       ".xr-header > div,\n",
       ".xr-header > ul {\n",
       "  display: inline;\n",
       "  margin-top: 0;\n",
       "  margin-bottom: 0;\n",
       "}\n",
       "\n",
       ".xr-obj-type,\n",
       ".xr-array-name {\n",
       "  margin-left: 2px;\n",
       "  margin-right: 10px;\n",
       "}\n",
       "\n",
       ".xr-obj-type {\n",
       "  color: var(--xr-font-color2);\n",
       "}\n",
       "\n",
       ".xr-sections {\n",
       "  padding-left: 0 !important;\n",
       "  display: grid;\n",
       "  grid-template-columns: 150px auto auto 1fr 20px 20px;\n",
       "}\n",
       "\n",
       ".xr-section-item {\n",
       "  display: contents;\n",
       "}\n",
       "\n",
       ".xr-section-item input {\n",
       "  display: none;\n",
       "}\n",
       "\n",
       ".xr-section-item input + label {\n",
       "  color: var(--xr-disabled-color);\n",
       "}\n",
       "\n",
       ".xr-section-item input:enabled + label {\n",
       "  cursor: pointer;\n",
       "  color: var(--xr-font-color2);\n",
       "}\n",
       "\n",
       ".xr-section-item input:enabled + label:hover {\n",
       "  color: var(--xr-font-color0);\n",
       "}\n",
       "\n",
       ".xr-section-summary {\n",
       "  grid-column: 1;\n",
       "  color: var(--xr-font-color2);\n",
       "  font-weight: 500;\n",
       "}\n",
       "\n",
       ".xr-section-summary > span {\n",
       "  display: inline-block;\n",
       "  padding-left: 0.5em;\n",
       "}\n",
       "\n",
       ".xr-section-summary-in:disabled + label {\n",
       "  color: var(--xr-font-color2);\n",
       "}\n",
       "\n",
       ".xr-section-summary-in + label:before {\n",
       "  display: inline-block;\n",
       "  content: '►';\n",
       "  font-size: 11px;\n",
       "  width: 15px;\n",
       "  text-align: center;\n",
       "}\n",
       "\n",
       ".xr-section-summary-in:disabled + label:before {\n",
       "  color: var(--xr-disabled-color);\n",
       "}\n",
       "\n",
       ".xr-section-summary-in:checked + label:before {\n",
       "  content: '▼';\n",
       "}\n",
       "\n",
       ".xr-section-summary-in:checked + label > span {\n",
       "  display: none;\n",
       "}\n",
       "\n",
       ".xr-section-summary,\n",
       ".xr-section-inline-details {\n",
       "  padding-top: 4px;\n",
       "  padding-bottom: 4px;\n",
       "}\n",
       "\n",
       ".xr-section-inline-details {\n",
       "  grid-column: 2 / -1;\n",
       "}\n",
       "\n",
       ".xr-section-details {\n",
       "  display: none;\n",
       "  grid-column: 1 / -1;\n",
       "  margin-bottom: 5px;\n",
       "}\n",
       "\n",
       ".xr-section-summary-in:checked ~ .xr-section-details {\n",
       "  display: contents;\n",
       "}\n",
       "\n",
       ".xr-array-wrap {\n",
       "  grid-column: 1 / -1;\n",
       "  display: grid;\n",
       "  grid-template-columns: 20px auto;\n",
       "}\n",
       "\n",
       ".xr-array-wrap > label {\n",
       "  grid-column: 1;\n",
       "  vertical-align: top;\n",
       "}\n",
       "\n",
       ".xr-preview {\n",
       "  color: var(--xr-font-color3);\n",
       "}\n",
       "\n",
       ".xr-array-preview,\n",
       ".xr-array-data {\n",
       "  padding: 0 5px !important;\n",
       "  grid-column: 2;\n",
       "}\n",
       "\n",
       ".xr-array-data,\n",
       ".xr-array-in:checked ~ .xr-array-preview {\n",
       "  display: none;\n",
       "}\n",
       "\n",
       ".xr-array-in:checked ~ .xr-array-data,\n",
       ".xr-array-preview {\n",
       "  display: inline-block;\n",
       "}\n",
       "\n",
       ".xr-dim-list {\n",
       "  display: inline-block !important;\n",
       "  list-style: none;\n",
       "  padding: 0 !important;\n",
       "  margin: 0;\n",
       "}\n",
       "\n",
       ".xr-dim-list li {\n",
       "  display: inline-block;\n",
       "  padding: 0;\n",
       "  margin: 0;\n",
       "}\n",
       "\n",
       ".xr-dim-list:before {\n",
       "  content: '(';\n",
       "}\n",
       "\n",
       ".xr-dim-list:after {\n",
       "  content: ')';\n",
       "}\n",
       "\n",
       ".xr-dim-list li:not(:last-child):after {\n",
       "  content: ',';\n",
       "  padding-right: 5px;\n",
       "}\n",
       "\n",
       ".xr-has-index {\n",
       "  font-weight: bold;\n",
       "}\n",
       "\n",
       ".xr-var-list,\n",
       ".xr-var-item {\n",
       "  display: contents;\n",
       "}\n",
       "\n",
       ".xr-var-item > div,\n",
       ".xr-var-item label,\n",
       ".xr-var-item > .xr-var-name span {\n",
       "  background-color: var(--xr-background-color-row-even);\n",
       "  margin-bottom: 0;\n",
       "}\n",
       "\n",
       ".xr-var-item > .xr-var-name:hover span {\n",
       "  padding-right: 5px;\n",
       "}\n",
       "\n",
       ".xr-var-list > li:nth-child(odd) > div,\n",
       ".xr-var-list > li:nth-child(odd) > label,\n",
       ".xr-var-list > li:nth-child(odd) > .xr-var-name span {\n",
       "  background-color: var(--xr-background-color-row-odd);\n",
       "}\n",
       "\n",
       ".xr-var-name {\n",
       "  grid-column: 1;\n",
       "}\n",
       "\n",
       ".xr-var-dims {\n",
       "  grid-column: 2;\n",
       "}\n",
       "\n",
       ".xr-var-dtype {\n",
       "  grid-column: 3;\n",
       "  text-align: right;\n",
       "  color: var(--xr-font-color2);\n",
       "}\n",
       "\n",
       ".xr-var-preview {\n",
       "  grid-column: 4;\n",
       "}\n",
       "\n",
       ".xr-index-preview {\n",
       "  grid-column: 2 / 5;\n",
       "  color: var(--xr-font-color2);\n",
       "}\n",
       "\n",
       ".xr-var-name,\n",
       ".xr-var-dims,\n",
       ".xr-var-dtype,\n",
       ".xr-preview,\n",
       ".xr-attrs dt {\n",
       "  white-space: nowrap;\n",
       "  overflow: hidden;\n",
       "  text-overflow: ellipsis;\n",
       "  padding-right: 10px;\n",
       "}\n",
       "\n",
       ".xr-var-name:hover,\n",
       ".xr-var-dims:hover,\n",
       ".xr-var-dtype:hover,\n",
       ".xr-attrs dt:hover {\n",
       "  overflow: visible;\n",
       "  width: auto;\n",
       "  z-index: 1;\n",
       "}\n",
       "\n",
       ".xr-var-attrs,\n",
       ".xr-var-data,\n",
       ".xr-index-data {\n",
       "  display: none;\n",
       "  background-color: var(--xr-background-color) !important;\n",
       "  padding-bottom: 5px !important;\n",
       "}\n",
       "\n",
       ".xr-var-attrs-in:checked ~ .xr-var-attrs,\n",
       ".xr-var-data-in:checked ~ .xr-var-data,\n",
       ".xr-index-data-in:checked ~ .xr-index-data {\n",
       "  display: block;\n",
       "}\n",
       "\n",
       ".xr-var-data > table {\n",
       "  float: right;\n",
       "}\n",
       "\n",
       ".xr-var-name span,\n",
       ".xr-var-data,\n",
       ".xr-index-name div,\n",
       ".xr-index-data,\n",
       ".xr-attrs {\n",
       "  padding-left: 25px !important;\n",
       "}\n",
       "\n",
       ".xr-attrs,\n",
       ".xr-var-attrs,\n",
       ".xr-var-data,\n",
       ".xr-index-data {\n",
       "  grid-column: 1 / -1;\n",
       "}\n",
       "\n",
       "dl.xr-attrs {\n",
       "  padding: 0;\n",
       "  margin: 0;\n",
       "  display: grid;\n",
       "  grid-template-columns: 125px auto;\n",
       "}\n",
       "\n",
       ".xr-attrs dt,\n",
       ".xr-attrs dd {\n",
       "  padding: 0;\n",
       "  margin: 0;\n",
       "  float: left;\n",
       "  padding-right: 10px;\n",
       "  width: auto;\n",
       "}\n",
       "\n",
       ".xr-attrs dt {\n",
       "  font-weight: normal;\n",
       "  grid-column: 1;\n",
       "}\n",
       "\n",
       ".xr-attrs dt:hover span {\n",
       "  display: inline-block;\n",
       "  background: var(--xr-background-color);\n",
       "  padding-right: 10px;\n",
       "}\n",
       "\n",
       ".xr-attrs dd {\n",
       "  grid-column: 2;\n",
       "  white-space: pre-wrap;\n",
       "  word-break: break-all;\n",
       "}\n",
       "\n",
       ".xr-icon-database,\n",
       ".xr-icon-file-text2,\n",
       ".xr-no-icon {\n",
       "  display: inline-block;\n",
       "  vertical-align: middle;\n",
       "  width: 1em;\n",
       "  height: 1.5em !important;\n",
       "  stroke-width: 0;\n",
       "  stroke: currentColor;\n",
       "  fill: currentColor;\n",
       "}\n",
       "</style><pre class='xr-text-repr-fallback'>&lt;xarray.Dataset&gt;\n",
       "Dimensions:    (time: 11, latitude: 2160, longitude: 4320)\n",
       "Coordinates:\n",
       "  * time       (time) datetime64[ns] 1970-01-01 1975-01-01 ... 2020-01-01\n",
       "  * latitude   (latitude) float64 89.96 89.88 89.79 ... -89.79 -89.87 -89.96\n",
       "  * longitude  (longitude) float64 -180.0 -179.9 -179.8 ... 179.8 179.9 180.0\n",
       "Data variables:\n",
       "    GAREA_ha   (time, latitude, longitude) float32 0.0 0.0 0.0 ... 0.0 0.0 0.0</pre><div class='xr-wrap' style='display:none'><div class='xr-header'><div class='xr-obj-type'>xarray.Dataset</div></div><ul class='xr-sections'><li class='xr-section-item'><input id='section-d4cb0cdf-1cf0-45a8-b721-880eabc95215' class='xr-section-summary-in' type='checkbox' disabled ><label for='section-d4cb0cdf-1cf0-45a8-b721-880eabc95215' class='xr-section-summary'  title='Expand/collapse section'>Dimensions:</label><div class='xr-section-inline-details'><ul class='xr-dim-list'><li><span class='xr-has-index'>time</span>: 11</li><li><span class='xr-has-index'>latitude</span>: 2160</li><li><span class='xr-has-index'>longitude</span>: 4320</li></ul></div><div class='xr-section-details'></div></li><li class='xr-section-item'><input id='section-58badcb4-34f5-496a-b708-34698d9a8e08' class='xr-section-summary-in' type='checkbox'  checked><label for='section-58badcb4-34f5-496a-b708-34698d9a8e08' class='xr-section-summary' >Coordinates: <span>(3)</span></label><div class='xr-section-inline-details'></div><div class='xr-section-details'><ul class='xr-var-list'><li class='xr-var-item'><div class='xr-var-name'><span class='xr-has-index'>time</span></div><div class='xr-var-dims'>(time)</div><div class='xr-var-dtype'>datetime64[ns]</div><div class='xr-var-preview xr-preview'>1970-01-01 ... 2020-01-01</div><input id='attrs-6358902e-dedd-4300-a9ae-b6180957e0b0' class='xr-var-attrs-in' type='checkbox' disabled><label for='attrs-6358902e-dedd-4300-a9ae-b6180957e0b0' title='Show/Hide attributes'><svg class='icon xr-icon-file-text2'><use xlink:href='#icon-file-text2'></use></svg></label><input id='data-973e48ee-5a33-4e87-b2a4-c3ef58b914c4' class='xr-var-data-in' type='checkbox'><label for='data-973e48ee-5a33-4e87-b2a4-c3ef58b914c4' title='Show/Hide data repr'><svg class='icon xr-icon-database'><use xlink:href='#icon-database'></use></svg></label><div class='xr-var-attrs'><dl class='xr-attrs'></dl></div><div class='xr-var-data'><pre>array([&#x27;1970-01-01T00:00:00.000000000&#x27;, &#x27;1975-01-01T00:00:00.000000000&#x27;,\n",
       "       &#x27;1980-01-01T00:00:00.000000000&#x27;, &#x27;1985-01-01T00:00:00.000000000&#x27;,\n",
       "       &#x27;1990-01-01T00:00:00.000000000&#x27;, &#x27;1995-01-01T00:00:00.000000000&#x27;,\n",
       "       &#x27;2000-01-01T00:00:00.000000000&#x27;, &#x27;2005-01-01T00:00:00.000000000&#x27;,\n",
       "       &#x27;2010-01-01T00:00:00.000000000&#x27;, &#x27;2015-01-01T00:00:00.000000000&#x27;,\n",
       "       &#x27;2020-01-01T00:00:00.000000000&#x27;], dtype=&#x27;datetime64[ns]&#x27;)</pre></div></li><li class='xr-var-item'><div class='xr-var-name'><span class='xr-has-index'>latitude</span></div><div class='xr-var-dims'>(latitude)</div><div class='xr-var-dtype'>float64</div><div class='xr-var-preview xr-preview'>89.96 89.88 89.79 ... -89.87 -89.96</div><input id='attrs-a517c3ae-fd38-4e43-90c1-d9e97b00480c' class='xr-var-attrs-in' type='checkbox' disabled><label for='attrs-a517c3ae-fd38-4e43-90c1-d9e97b00480c' title='Show/Hide attributes'><svg class='icon xr-icon-file-text2'><use xlink:href='#icon-file-text2'></use></svg></label><input id='data-90f15a3d-0077-45e5-8fd0-c83b71ee8094' class='xr-var-data-in' type='checkbox'><label for='data-90f15a3d-0077-45e5-8fd0-c83b71ee8094' title='Show/Hide data repr'><svg class='icon xr-icon-database'><use xlink:href='#icon-database'></use></svg></label><div class='xr-var-attrs'><dl class='xr-attrs'></dl></div><div class='xr-var-data'><pre>array([ 89.958333,  89.875   ,  89.791667, ..., -89.791666, -89.874999,\n",
       "       -89.958333])</pre></div></li><li class='xr-var-item'><div class='xr-var-name'><span class='xr-has-index'>longitude</span></div><div class='xr-var-dims'>(longitude)</div><div class='xr-var-dtype'>float64</div><div class='xr-var-preview xr-preview'>-180.0 -179.9 ... 179.9 180.0</div><input id='attrs-76ebdadd-bce1-46a2-859c-6f0308326708' class='xr-var-attrs-in' type='checkbox' disabled><label for='attrs-76ebdadd-bce1-46a2-859c-6f0308326708' title='Show/Hide attributes'><svg class='icon xr-icon-file-text2'><use xlink:href='#icon-file-text2'></use></svg></label><input id='data-b75cba65-236a-452b-9cfe-a1cf84ec1405' class='xr-var-data-in' type='checkbox'><label for='data-b75cba65-236a-452b-9cfe-a1cf84ec1405' title='Show/Hide data repr'><svg class='icon xr-icon-database'><use xlink:href='#icon-database'></use></svg></label><div class='xr-var-attrs'><dl class='xr-attrs'></dl></div><div class='xr-var-data'><pre>array([-179.958333, -179.875   , -179.791667, ...,  179.791665,  179.874999,\n",
       "        179.958332])</pre></div></li></ul></div></li><li class='xr-section-item'><input id='section-7b27c6d1-70e5-4b55-86ad-e273d0dfda9b' class='xr-section-summary-in' type='checkbox'  checked><label for='section-7b27c6d1-70e5-4b55-86ad-e273d0dfda9b' class='xr-section-summary' >Data variables: <span>(1)</span></label><div class='xr-section-inline-details'></div><div class='xr-section-details'><ul class='xr-var-list'><li class='xr-var-item'><div class='xr-var-name'><span>GAREA_ha</span></div><div class='xr-var-dims'>(time, latitude, longitude)</div><div class='xr-var-dtype'>float32</div><div class='xr-var-preview xr-preview'>0.0 0.0 0.0 0.0 ... 0.0 0.0 0.0 0.0</div><input id='attrs-4181b5e0-54c8-46df-8f88-323039406ac3' class='xr-var-attrs-in' type='checkbox' disabled><label for='attrs-4181b5e0-54c8-46df-8f88-323039406ac3' title='Show/Hide attributes'><svg class='icon xr-icon-file-text2'><use xlink:href='#icon-file-text2'></use></svg></label><input id='data-fca3eea9-5945-47bc-bf89-ad8c6d6ee20a' class='xr-var-data-in' type='checkbox'><label for='data-fca3eea9-5945-47bc-bf89-ad8c6d6ee20a' title='Show/Hide data repr'><svg class='icon xr-icon-database'><use xlink:href='#icon-database'></use></svg></label><div class='xr-var-attrs'><dl class='xr-attrs'></dl></div><div class='xr-var-data'><pre>array([[[0., 0., 0., ..., 0., 0., 0.],\n",
       "        [0., 0., 0., ..., 0., 0., 0.],\n",
       "        [0., 0., 0., ..., 0., 0., 0.],\n",
       "        ...,\n",
       "        [0., 0., 0., ..., 0., 0., 0.],\n",
       "        [0., 0., 0., ..., 0., 0., 0.],\n",
       "        [0., 0., 0., ..., 0., 0., 0.]],\n",
       "\n",
       "       [[0., 0., 0., ..., 0., 0., 0.],\n",
       "        [0., 0., 0., ..., 0., 0., 0.],\n",
       "        [0., 0., 0., ..., 0., 0., 0.],\n",
       "        ...,\n",
       "        [0., 0., 0., ..., 0., 0., 0.],\n",
       "        [0., 0., 0., ..., 0., 0., 0.],\n",
       "        [0., 0., 0., ..., 0., 0., 0.]],\n",
       "\n",
       "       [[0., 0., 0., ..., 0., 0., 0.],\n",
       "        [0., 0., 0., ..., 0., 0., 0.],\n",
       "        [0., 0., 0., ..., 0., 0., 0.],\n",
       "        ...,\n",
       "...\n",
       "        ...,\n",
       "        [0., 0., 0., ..., 0., 0., 0.],\n",
       "        [0., 0., 0., ..., 0., 0., 0.],\n",
       "        [0., 0., 0., ..., 0., 0., 0.]],\n",
       "\n",
       "       [[0., 0., 0., ..., 0., 0., 0.],\n",
       "        [0., 0., 0., ..., 0., 0., 0.],\n",
       "        [0., 0., 0., ..., 0., 0., 0.],\n",
       "        ...,\n",
       "        [0., 0., 0., ..., 0., 0., 0.],\n",
       "        [0., 0., 0., ..., 0., 0., 0.],\n",
       "        [0., 0., 0., ..., 0., 0., 0.]],\n",
       "\n",
       "       [[0., 0., 0., ..., 0., 0., 0.],\n",
       "        [0., 0., 0., ..., 0., 0., 0.],\n",
       "        [0., 0., 0., ..., 0., 0., 0.],\n",
       "        ...,\n",
       "        [0., 0., 0., ..., 0., 0., 0.],\n",
       "        [0., 0., 0., ..., 0., 0., 0.],\n",
       "        [0., 0., 0., ..., 0., 0., 0.]]], dtype=float32)</pre></div></li></ul></div></li><li class='xr-section-item'><input id='section-4100f2d0-fff7-4afe-bc3c-cb91901e67b6' class='xr-section-summary-in' type='checkbox'  ><label for='section-4100f2d0-fff7-4afe-bc3c-cb91901e67b6' class='xr-section-summary' >Indexes: <span>(3)</span></label><div class='xr-section-inline-details'></div><div class='xr-section-details'><ul class='xr-var-list'><li class='xr-var-item'><div class='xr-index-name'><div>time</div></div><div class='xr-index-preview'>PandasIndex</div><div></div><input id='index-8351fc3e-9b36-425c-b4e6-e07e2c22bea5' class='xr-index-data-in' type='checkbox'/><label for='index-8351fc3e-9b36-425c-b4e6-e07e2c22bea5' title='Show/Hide index repr'><svg class='icon xr-icon-database'><use xlink:href='#icon-database'></use></svg></label><div class='xr-index-data'><pre>PandasIndex(DatetimeIndex([&#x27;1970-01-01&#x27;, &#x27;1975-01-01&#x27;, &#x27;1980-01-01&#x27;, &#x27;1985-01-01&#x27;,\n",
       "               &#x27;1990-01-01&#x27;, &#x27;1995-01-01&#x27;, &#x27;2000-01-01&#x27;, &#x27;2005-01-01&#x27;,\n",
       "               &#x27;2010-01-01&#x27;, &#x27;2015-01-01&#x27;, &#x27;2020-01-01&#x27;],\n",
       "              dtype=&#x27;datetime64[ns]&#x27;, name=&#x27;time&#x27;, freq=&#x27;5AS-JAN&#x27;))</pre></div></li><li class='xr-var-item'><div class='xr-index-name'><div>latitude</div></div><div class='xr-index-preview'>PandasIndex</div><div></div><input id='index-f4f7e966-a6fe-48d4-9211-d9ab48085d36' class='xr-index-data-in' type='checkbox'/><label for='index-f4f7e966-a6fe-48d4-9211-d9ab48085d36' title='Show/Hide index repr'><svg class='icon xr-icon-database'><use xlink:href='#icon-database'></use></svg></label><div class='xr-index-data'><pre>PandasIndex(Index([     89.9583333335,      89.8750000005,      89.7916666675,\n",
       "            89.7083333345,      89.6250000015,      89.5416666685,\n",
       "        89.45833333549999,  89.37500000249999,  89.29166666949999,\n",
       "        89.20833333649999,\n",
       "       ...\n",
       "       -89.20833261649999,     -89.2916659495, -89.37499928249999,\n",
       "           -89.4583326155, -89.54166594850001,     -89.6249992815,\n",
       "       -89.70833261450001,     -89.7916659475,     -89.8749992805,\n",
       "       -89.95833261349999],\n",
       "      dtype=&#x27;float64&#x27;, name=&#x27;latitude&#x27;, length=2160))</pre></div></li><li class='xr-var-item'><div class='xr-index-name'><div>longitude</div></div><div class='xr-index-preview'>PandasIndex</div><div></div><input id='index-8a684580-51ed-4594-b92a-a6ce8ddb2c0a' class='xr-index-data-in' type='checkbox'/><label for='index-8a684580-51ed-4594-b92a-a6ce8ddb2c0a' title='Show/Hide index repr'><svg class='icon xr-icon-database'><use xlink:href='#icon-database'></use></svg></label><div class='xr-index-data'><pre>PandasIndex(Index([    -179.9583333335,     -179.8750000005,     -179.7916666675,\n",
       "           -179.7083333345,     -179.6250000015,     -179.5416666685,\n",
       "       -179.45833333550001,     -179.3750000025, -179.29166666950002,\n",
       "           -179.2083333365,\n",
       "       ...\n",
       "        179.20833189649997,  179.29166522949996,      179.3749985625,\n",
       "        179.45833189549998,  179.54166522849997,  179.62499856149995,\n",
       "            179.7083318945,  179.79166522749998,  179.87499856049996,\n",
       "        179.95833189349995],\n",
       "      dtype=&#x27;float64&#x27;, name=&#x27;longitude&#x27;, length=4320))</pre></div></li></ul></div></li><li class='xr-section-item'><input id='section-cc82fec1-f5f6-4517-8cff-617232e008a8' class='xr-section-summary-in' type='checkbox' disabled ><label for='section-cc82fec1-f5f6-4517-8cff-617232e008a8' class='xr-section-summary'  title='Expand/collapse section'>Attributes: <span>(0)</span></label><div class='xr-section-inline-details'></div><div class='xr-section-details'><dl class='xr-attrs'></dl></div></li></ul></div></div>"
      ],
      "text/plain": [
       "<xarray.Dataset>\n",
       "Dimensions:    (time: 11, latitude: 2160, longitude: 4320)\n",
       "Coordinates:\n",
       "  * time       (time) datetime64[ns] 1970-01-01 1975-01-01 ... 2020-01-01\n",
       "  * latitude   (latitude) float64 89.96 89.88 89.79 ... -89.79 -89.87 -89.96\n",
       "  * longitude  (longitude) float64 -180.0 -179.9 -179.8 ... 179.8 179.9 180.0\n",
       "Data variables:\n",
       "    GAREA_ha   (time, latitude, longitude) float32 0.0 0.0 0.0 ... 0.0 0.0 0.0"
      ]
     },
     "execution_count": 10,
     "metadata": {},
     "output_type": "execute_result"
    }
   ],
   "source": [
    "garea_ha_netcdf = xr.Dataset({\n",
    "        \"GAREA_ha\":([\"time\", \"latitude\", \"longitude\"], garea_ha)\n",
    "    },\n",
    "    coords={\n",
    "        \"time\": pd.date_range(start='1970-01-01', end='2020-01-01', freq='5YS'),\n",
    "        \"latitude\": glct.coords[\"latitude\"].to_numpy(),\n",
    "        \"longitude\": glct.coords[\"longitude\"].to_numpy(),\n",
    "    })\n",
    "garea_ha_netcdf"
   ]
  },
  {
   "cell_type": "code",
   "execution_count": 11,
   "metadata": {},
   "outputs": [],
   "source": [
    "df = glct_2020_country['GLCT_trans'].isel(time=0).to_dataframe()\n",
    "df1 = glct_2020_country['GLCT_trans'].isel(time=1).to_dataframe()\n",
    "df2 = glct_2020_country['GLCT_trans'].isel(time=2).to_dataframe()\n",
    "df3 = glct_2020_country['GLCT_trans'].isel(time=3).to_dataframe()\n",
    "df4 = glct_2020_country['GLCT_trans'].isel(time=4).to_dataframe()\n",
    "df5 = glct_2020_country['GLCT_trans'].isel(time=5).to_dataframe()\n",
    "df6 = glct_2020_country['GLCT_trans'].isel(time=6).to_dataframe()\n",
    "df7 = glct_2020_country['GLCT_trans'].isel(time=7).to_dataframe()\n",
    "df8 = glct_2020_country['GLCT_trans'].isel(time=8).to_dataframe()\n",
    "df9 = glct_2020_country['GLCT_trans'].isel(time=9).to_dataframe()\n",
    "df10 = glct_2020_country['GLCT_trans'].isel(time=10).to_dataframe()"
   ]
  },
  {
   "cell_type": "code",
   "execution_count": 12,
   "metadata": {},
   "outputs": [],
   "source": [
    "df = df[df['GLCT_trans'] != 'ocean']\n",
    "df1 = df1[df1['GLCT_trans'] != 'ocean']\n",
    "df2 = df2[df2['GLCT_trans'] != 'ocean']\n",
    "df3 = df3[df3['GLCT_trans'] != 'ocean']\n",
    "df4 = df4[df4['GLCT_trans'] != 'ocean']\n",
    "df5 = df5[df5['GLCT_trans'] != 'ocean']\n",
    "df6 = df6[df6['GLCT_trans'] != 'ocean']\n",
    "df7 = df7[df7['GLCT_trans'] != 'ocean']\n",
    "df8 = df8[df8['GLCT_trans'] != 'ocean']\n",
    "df9 = df9[df9['GLCT_trans'] != 'ocean']\n",
    "df10 = df10[df10['GLCT_trans'] != 'ocean']"
   ]
  },
  {
   "cell_type": "code",
   "execution_count": 13,
   "metadata": {},
   "outputs": [],
   "source": [
    "df_value = garea_ha_netcdf['GAREA_ha'].isel(time=0).to_dataframe()\n",
    "df_value1 = garea_ha_netcdf['GAREA_ha'].isel(time=1).to_dataframe()\n",
    "df_value2 = garea_ha_netcdf['GAREA_ha'].isel(time=2).to_dataframe()\n",
    "df_value3 = garea_ha_netcdf['GAREA_ha'].isel(time=3).to_dataframe()\n",
    "df_value4 = garea_ha_netcdf['GAREA_ha'].isel(time=4).to_dataframe()\n",
    "df_value5 = garea_ha_netcdf['GAREA_ha'].isel(time=5).to_dataframe()\n",
    "df_value6 = garea_ha_netcdf['GAREA_ha'].isel(time=6).to_dataframe()\n",
    "df_value7 = garea_ha_netcdf['GAREA_ha'].isel(time=7).to_dataframe()\n",
    "df_value8 = garea_ha_netcdf['GAREA_ha'].isel(time=8).to_dataframe()\n",
    "df_value9 = garea_ha_netcdf['GAREA_ha'].isel(time=9).to_dataframe()\n",
    "df_value10 = garea_ha_netcdf['GAREA_ha'].isel(time=10).to_dataframe()"
   ]
  },
  {
   "cell_type": "code",
   "execution_count": 14,
   "metadata": {},
   "outputs": [],
   "source": [
    "table = df.pivot_table(index=['time', 'longitude', 'latitude', 'country'], values='GLCT_trans', aggfunc='sum') \n",
    "table1 = df1.pivot_table(index=['time', 'longitude', 'latitude', 'country'], values='GLCT_trans', aggfunc='sum') \n",
    "table2 = df2.pivot_table(index=['time', 'longitude', 'latitude', 'country'], values='GLCT_trans', aggfunc='sum') \n",
    "table3 = df3.pivot_table(index=['time', 'longitude', 'latitude', 'country'], values='GLCT_trans', aggfunc='sum') \n",
    "table4 = df4.pivot_table(index=['time', 'longitude', 'latitude', 'country'], values='GLCT_trans', aggfunc='sum') \n",
    "table5 = df5.pivot_table(index=['time', 'longitude', 'latitude', 'country'], values='GLCT_trans', aggfunc='sum') \n",
    "table6 = df6.pivot_table(index=['time', 'longitude', 'latitude', 'country'], values='GLCT_trans', aggfunc='sum') \n",
    "table7 = df7.pivot_table(index=['time', 'longitude', 'latitude', 'country'], values='GLCT_trans', aggfunc='sum') \n",
    "table8 = df8.pivot_table(index=['time', 'longitude', 'latitude', 'country'], values='GLCT_trans', aggfunc='sum') \n",
    "table9 = df9.pivot_table(index=['time', 'longitude', 'latitude', 'country'], values='GLCT_trans', aggfunc='sum')\n",
    "table10 = df10.pivot_table(index=['time', 'longitude', 'latitude', 'country'], values='GLCT_trans', aggfunc='sum')"
   ]
  },
  {
   "cell_type": "code",
   "execution_count": 15,
   "metadata": {},
   "outputs": [
    {
     "data": {
      "text/html": [
       "<div>\n",
       "<style scoped>\n",
       "    .dataframe tbody tr th:only-of-type {\n",
       "        vertical-align: middle;\n",
       "    }\n",
       "\n",
       "    .dataframe tbody tr th {\n",
       "        vertical-align: top;\n",
       "    }\n",
       "\n",
       "    .dataframe thead th {\n",
       "        text-align: right;\n",
       "    }\n",
       "</style>\n",
       "<table border=\"1\" class=\"dataframe\">\n",
       "  <thead>\n",
       "    <tr style=\"text-align: right;\">\n",
       "      <th></th>\n",
       "      <th></th>\n",
       "      <th></th>\n",
       "      <th></th>\n",
       "      <th>GLCT_trans</th>\n",
       "    </tr>\n",
       "    <tr>\n",
       "      <th>time</th>\n",
       "      <th>longitude</th>\n",
       "      <th>latitude</th>\n",
       "      <th>country</th>\n",
       "      <th></th>\n",
       "    </tr>\n",
       "  </thead>\n",
       "  <tbody>\n",
       "    <tr>\n",
       "      <th rowspan=\"11\" valign=\"top\">2020-01-01</th>\n",
       "      <th rowspan=\"5\" valign=\"top\">-179.958333</th>\n",
       "      <th>-89.958333</th>\n",
       "      <th>ocean</th>\n",
       "      <td>Ocean</td>\n",
       "    </tr>\n",
       "    <tr>\n",
       "      <th>-89.874999</th>\n",
       "      <th>ocean</th>\n",
       "      <td>Ocean</td>\n",
       "    </tr>\n",
       "    <tr>\n",
       "      <th>-89.791666</th>\n",
       "      <th>ocean</th>\n",
       "      <td>Ocean</td>\n",
       "    </tr>\n",
       "    <tr>\n",
       "      <th>-89.708333</th>\n",
       "      <th>ocean</th>\n",
       "      <td>Ocean</td>\n",
       "    </tr>\n",
       "    <tr>\n",
       "      <th>-89.624999</th>\n",
       "      <th>ocean</th>\n",
       "      <td>Ocean</td>\n",
       "    </tr>\n",
       "    <tr>\n",
       "      <th>...</th>\n",
       "      <th>...</th>\n",
       "      <th>...</th>\n",
       "      <td>...</td>\n",
       "    </tr>\n",
       "    <tr>\n",
       "      <th rowspan=\"5\" valign=\"top\">179.958332</th>\n",
       "      <th>89.625000</th>\n",
       "      <th>ocean</th>\n",
       "      <td>Ocean</td>\n",
       "    </tr>\n",
       "    <tr>\n",
       "      <th>89.708333</th>\n",
       "      <th>ocean</th>\n",
       "      <td>Ocean</td>\n",
       "    </tr>\n",
       "    <tr>\n",
       "      <th>89.791667</th>\n",
       "      <th>ocean</th>\n",
       "      <td>Ocean</td>\n",
       "    </tr>\n",
       "    <tr>\n",
       "      <th>89.875000</th>\n",
       "      <th>ocean</th>\n",
       "      <td>Ocean</td>\n",
       "    </tr>\n",
       "    <tr>\n",
       "      <th>89.958333</th>\n",
       "      <th>ocean</th>\n",
       "      <td>Ocean</td>\n",
       "    </tr>\n",
       "  </tbody>\n",
       "</table>\n",
       "<p>9331200 rows × 1 columns</p>\n",
       "</div>"
      ],
      "text/plain": [
       "                                          GLCT_trans\n",
       "time       longitude   latitude   country           \n",
       "2020-01-01 -179.958333 -89.958333 ocean        Ocean\n",
       "                       -89.874999 ocean        Ocean\n",
       "                       -89.791666 ocean        Ocean\n",
       "                       -89.708333 ocean        Ocean\n",
       "                       -89.624999 ocean        Ocean\n",
       "...                                              ...\n",
       "            179.958332  89.625000 ocean        Ocean\n",
       "                        89.708333 ocean        Ocean\n",
       "                        89.791667 ocean        Ocean\n",
       "                        89.875000 ocean        Ocean\n",
       "                        89.958333 ocean        Ocean\n",
       "\n",
       "[9331200 rows x 1 columns]"
      ]
     },
     "execution_count": 15,
     "metadata": {},
     "output_type": "execute_result"
    }
   ],
   "source": [
    "table10"
   ]
  },
  {
   "cell_type": "code",
   "execution_count": 16,
   "metadata": {},
   "outputs": [],
   "source": [
    "table_value = df_value.pivot_table(index=['time', 'longitude', 'latitude'], values='GAREA_ha', aggfunc='sum') \n",
    "table_value1 = df_value1.pivot_table(index=['time', 'longitude', 'latitude'], values='GAREA_ha', aggfunc='sum') \n",
    "table_value2 = df_value2.pivot_table(index=['time', 'longitude', 'latitude'], values='GAREA_ha', aggfunc='sum') \n",
    "table_value3 = df_value3.pivot_table(index=['time', 'longitude', 'latitude'], values='GAREA_ha', aggfunc='sum') \n",
    "table_value4 = df_value4.pivot_table(index=['time', 'longitude', 'latitude'], values='GAREA_ha', aggfunc='sum') \n",
    "table_value5 = df_value5.pivot_table(index=['time', 'longitude', 'latitude'], values='GAREA_ha', aggfunc='sum') \n",
    "table_value6 = df_value6.pivot_table(index=['time', 'longitude', 'latitude'], values='GAREA_ha', aggfunc='sum') \n",
    "table_value7 = df_value7.pivot_table(index=['time', 'longitude', 'latitude'], values='GAREA_ha', aggfunc='sum') \n",
    "table_value8 = df_value8.pivot_table(index=['time', 'longitude', 'latitude'], values='GAREA_ha', aggfunc='sum') \n",
    "table_value9 = df_value9.pivot_table(index=['time', 'longitude', 'latitude'], values='GAREA_ha', aggfunc='sum')\n",
    "table_value10 = df_value10.pivot_table(index=['time', 'longitude', 'latitude'], values='GAREA_ha', aggfunc='sum')"
   ]
  },
  {
   "cell_type": "code",
   "execution_count": 17,
   "metadata": {},
   "outputs": [],
   "source": [
    "table_index = table.reset_index()\n",
    "table1_index = table1.reset_index()\n",
    "table2_index = table2.reset_index()\n",
    "table3_index = table3.reset_index()\n",
    "table4_index = table4.reset_index()\n",
    "table5_index = table5.reset_index()\n",
    "table6_index = table6.reset_index()\n",
    "table7_index = table7.reset_index()\n",
    "table8_index = table8.reset_index()\n",
    "table9_index = table9.reset_index()\n",
    "table10_index = table10.reset_index()"
   ]
  },
  {
   "cell_type": "code",
   "execution_count": 18,
   "metadata": {},
   "outputs": [
    {
     "data": {
      "text/html": [
       "<div>\n",
       "<style scoped>\n",
       "    .dataframe tbody tr th:only-of-type {\n",
       "        vertical-align: middle;\n",
       "    }\n",
       "\n",
       "    .dataframe tbody tr th {\n",
       "        vertical-align: top;\n",
       "    }\n",
       "\n",
       "    .dataframe thead th {\n",
       "        text-align: right;\n",
       "    }\n",
       "</style>\n",
       "<table border=\"1\" class=\"dataframe\">\n",
       "  <thead>\n",
       "    <tr style=\"text-align: right;\">\n",
       "      <th></th>\n",
       "      <th>time</th>\n",
       "      <th>longitude</th>\n",
       "      <th>latitude</th>\n",
       "      <th>country</th>\n",
       "      <th>GLCT_trans</th>\n",
       "    </tr>\n",
       "  </thead>\n",
       "  <tbody>\n",
       "    <tr>\n",
       "      <th>0</th>\n",
       "      <td>1970-01-01</td>\n",
       "      <td>-179.958333</td>\n",
       "      <td>-89.958333</td>\n",
       "      <td>ocean</td>\n",
       "      <td>Ocean</td>\n",
       "    </tr>\n",
       "    <tr>\n",
       "      <th>1</th>\n",
       "      <td>1970-01-01</td>\n",
       "      <td>-179.958333</td>\n",
       "      <td>-89.874999</td>\n",
       "      <td>ocean</td>\n",
       "      <td>Ocean</td>\n",
       "    </tr>\n",
       "    <tr>\n",
       "      <th>2</th>\n",
       "      <td>1970-01-01</td>\n",
       "      <td>-179.958333</td>\n",
       "      <td>-89.791666</td>\n",
       "      <td>ocean</td>\n",
       "      <td>Ocean</td>\n",
       "    </tr>\n",
       "    <tr>\n",
       "      <th>3</th>\n",
       "      <td>1970-01-01</td>\n",
       "      <td>-179.958333</td>\n",
       "      <td>-89.708333</td>\n",
       "      <td>ocean</td>\n",
       "      <td>Ocean</td>\n",
       "    </tr>\n",
       "    <tr>\n",
       "      <th>4</th>\n",
       "      <td>1970-01-01</td>\n",
       "      <td>-179.958333</td>\n",
       "      <td>-89.624999</td>\n",
       "      <td>ocean</td>\n",
       "      <td>Ocean</td>\n",
       "    </tr>\n",
       "    <tr>\n",
       "      <th>...</th>\n",
       "      <td>...</td>\n",
       "      <td>...</td>\n",
       "      <td>...</td>\n",
       "      <td>...</td>\n",
       "      <td>...</td>\n",
       "    </tr>\n",
       "    <tr>\n",
       "      <th>9331195</th>\n",
       "      <td>1970-01-01</td>\n",
       "      <td>179.958332</td>\n",
       "      <td>89.625000</td>\n",
       "      <td>ocean</td>\n",
       "      <td>Ocean</td>\n",
       "    </tr>\n",
       "    <tr>\n",
       "      <th>9331196</th>\n",
       "      <td>1970-01-01</td>\n",
       "      <td>179.958332</td>\n",
       "      <td>89.708333</td>\n",
       "      <td>ocean</td>\n",
       "      <td>Ocean</td>\n",
       "    </tr>\n",
       "    <tr>\n",
       "      <th>9331197</th>\n",
       "      <td>1970-01-01</td>\n",
       "      <td>179.958332</td>\n",
       "      <td>89.791667</td>\n",
       "      <td>ocean</td>\n",
       "      <td>Ocean</td>\n",
       "    </tr>\n",
       "    <tr>\n",
       "      <th>9331198</th>\n",
       "      <td>1970-01-01</td>\n",
       "      <td>179.958332</td>\n",
       "      <td>89.875000</td>\n",
       "      <td>ocean</td>\n",
       "      <td>Ocean</td>\n",
       "    </tr>\n",
       "    <tr>\n",
       "      <th>9331199</th>\n",
       "      <td>1970-01-01</td>\n",
       "      <td>179.958332</td>\n",
       "      <td>89.958333</td>\n",
       "      <td>ocean</td>\n",
       "      <td>Ocean</td>\n",
       "    </tr>\n",
       "  </tbody>\n",
       "</table>\n",
       "<p>9331200 rows × 5 columns</p>\n",
       "</div>"
      ],
      "text/plain": [
       "              time   longitude   latitude country GLCT_trans\n",
       "0       1970-01-01 -179.958333 -89.958333   ocean      Ocean\n",
       "1       1970-01-01 -179.958333 -89.874999   ocean      Ocean\n",
       "2       1970-01-01 -179.958333 -89.791666   ocean      Ocean\n",
       "3       1970-01-01 -179.958333 -89.708333   ocean      Ocean\n",
       "4       1970-01-01 -179.958333 -89.624999   ocean      Ocean\n",
       "...            ...         ...        ...     ...        ...\n",
       "9331195 1970-01-01  179.958332  89.625000   ocean      Ocean\n",
       "9331196 1970-01-01  179.958332  89.708333   ocean      Ocean\n",
       "9331197 1970-01-01  179.958332  89.791667   ocean      Ocean\n",
       "9331198 1970-01-01  179.958332  89.875000   ocean      Ocean\n",
       "9331199 1970-01-01  179.958332  89.958333   ocean      Ocean\n",
       "\n",
       "[9331200 rows x 5 columns]"
      ]
     },
     "execution_count": 18,
     "metadata": {},
     "output_type": "execute_result"
    }
   ],
   "source": [
    "table_index"
   ]
  },
  {
   "cell_type": "code",
   "execution_count": 19,
   "metadata": {},
   "outputs": [],
   "source": [
    "table_value = table_value.reset_index()\n",
    "table1_value = table_value1.reset_index()\n",
    "table2_value = table_value2.reset_index()\n",
    "table3_value = table_value3.reset_index()\n",
    "table4_value = table_value4.reset_index()\n",
    "table5_value = table_value5.reset_index()\n",
    "table6_value = table_value6.reset_index()\n",
    "table7_value = table_value7.reset_index()\n",
    "table8_value = table_value8.reset_index()\n",
    "table9_value = table_value9.reset_index()\n",
    "table10_value = table_value10.reset_index()"
   ]
  },
  {
   "cell_type": "code",
   "execution_count": 20,
   "metadata": {},
   "outputs": [],
   "source": [
    "table_merge = pd.merge(left=table_index, right=table_value, left_on=['time', 'longitude', 'latitude'], right_on=['time', 'longitude', 'latitude'])\n",
    "table1_merge = pd.merge(left=table1_index, right=table1_value, left_on=['time', 'longitude', 'latitude'], right_on=['time', 'longitude', 'latitude'])\n",
    "table2_merge = pd.merge(left=table2_index, right=table2_value, left_on=['time', 'longitude', 'latitude'], right_on=['time', 'longitude', 'latitude'])\n",
    "table3_merge = pd.merge(left=table3_index, right=table3_value, left_on=['time', 'longitude', 'latitude'], right_on=['time', 'longitude', 'latitude'])\n",
    "table4_merge = pd.merge(left=table4_index, right=table4_value, left_on=['time', 'longitude', 'latitude'], right_on=['time', 'longitude', 'latitude'])\n",
    "table5_merge = pd.merge(left=table5_index, right=table5_value, left_on=['time', 'longitude', 'latitude'], right_on=['time', 'longitude', 'latitude'])\n",
    "table6_merge = pd.merge(left=table6_index, right=table6_value, left_on=['time', 'longitude', 'latitude'], right_on=['time', 'longitude', 'latitude'])\n",
    "table7_merge = pd.merge(left=table7_index, right=table7_value, left_on=['time', 'longitude', 'latitude'], right_on=['time', 'longitude', 'latitude'])\n",
    "table8_merge = pd.merge(left=table8_index, right=table8_value, left_on=['time', 'longitude', 'latitude'], right_on=['time', 'longitude', 'latitude'])\n",
    "table9_merge = pd.merge(left=table9_index, right=table9_value, left_on=['time', 'longitude', 'latitude'], right_on=['time', 'longitude', 'latitude'])\n",
    "table10_merge = pd.merge(left=table10_index, right=table10_value, left_on=['time', 'longitude', 'latitude'], right_on=['time', 'longitude', 'latitude'])"
   ]
  },
  {
   "cell_type": "code",
   "execution_count": 21,
   "metadata": {},
   "outputs": [
    {
     "data": {
      "text/html": [
       "<div>\n",
       "<style scoped>\n",
       "    .dataframe tbody tr th:only-of-type {\n",
       "        vertical-align: middle;\n",
       "    }\n",
       "\n",
       "    .dataframe tbody tr th {\n",
       "        vertical-align: top;\n",
       "    }\n",
       "\n",
       "    .dataframe thead th {\n",
       "        text-align: right;\n",
       "    }\n",
       "</style>\n",
       "<table border=\"1\" class=\"dataframe\">\n",
       "  <thead>\n",
       "    <tr style=\"text-align: right;\">\n",
       "      <th></th>\n",
       "      <th>time</th>\n",
       "      <th>longitude</th>\n",
       "      <th>latitude</th>\n",
       "      <th>country</th>\n",
       "      <th>GLCT_trans</th>\n",
       "      <th>GAREA_ha</th>\n",
       "    </tr>\n",
       "  </thead>\n",
       "  <tbody>\n",
       "    <tr>\n",
       "      <th>0</th>\n",
       "      <td>2020-01-01</td>\n",
       "      <td>-179.958333</td>\n",
       "      <td>-89.958333</td>\n",
       "      <td>ocean</td>\n",
       "      <td>Ocean</td>\n",
       "      <td>0.0</td>\n",
       "    </tr>\n",
       "    <tr>\n",
       "      <th>1</th>\n",
       "      <td>2020-01-01</td>\n",
       "      <td>-179.958333</td>\n",
       "      <td>-89.874999</td>\n",
       "      <td>ocean</td>\n",
       "      <td>Ocean</td>\n",
       "      <td>0.0</td>\n",
       "    </tr>\n",
       "    <tr>\n",
       "      <th>2</th>\n",
       "      <td>2020-01-01</td>\n",
       "      <td>-179.958333</td>\n",
       "      <td>-89.791666</td>\n",
       "      <td>ocean</td>\n",
       "      <td>Ocean</td>\n",
       "      <td>0.0</td>\n",
       "    </tr>\n",
       "    <tr>\n",
       "      <th>3</th>\n",
       "      <td>2020-01-01</td>\n",
       "      <td>-179.958333</td>\n",
       "      <td>-89.708333</td>\n",
       "      <td>ocean</td>\n",
       "      <td>Ocean</td>\n",
       "      <td>0.0</td>\n",
       "    </tr>\n",
       "    <tr>\n",
       "      <th>4</th>\n",
       "      <td>2020-01-01</td>\n",
       "      <td>-179.958333</td>\n",
       "      <td>-89.624999</td>\n",
       "      <td>ocean</td>\n",
       "      <td>Ocean</td>\n",
       "      <td>0.0</td>\n",
       "    </tr>\n",
       "    <tr>\n",
       "      <th>...</th>\n",
       "      <td>...</td>\n",
       "      <td>...</td>\n",
       "      <td>...</td>\n",
       "      <td>...</td>\n",
       "      <td>...</td>\n",
       "      <td>...</td>\n",
       "    </tr>\n",
       "    <tr>\n",
       "      <th>9331195</th>\n",
       "      <td>2020-01-01</td>\n",
       "      <td>179.958332</td>\n",
       "      <td>89.625000</td>\n",
       "      <td>ocean</td>\n",
       "      <td>Ocean</td>\n",
       "      <td>0.0</td>\n",
       "    </tr>\n",
       "    <tr>\n",
       "      <th>9331196</th>\n",
       "      <td>2020-01-01</td>\n",
       "      <td>179.958332</td>\n",
       "      <td>89.708333</td>\n",
       "      <td>ocean</td>\n",
       "      <td>Ocean</td>\n",
       "      <td>0.0</td>\n",
       "    </tr>\n",
       "    <tr>\n",
       "      <th>9331197</th>\n",
       "      <td>2020-01-01</td>\n",
       "      <td>179.958332</td>\n",
       "      <td>89.791667</td>\n",
       "      <td>ocean</td>\n",
       "      <td>Ocean</td>\n",
       "      <td>0.0</td>\n",
       "    </tr>\n",
       "    <tr>\n",
       "      <th>9331198</th>\n",
       "      <td>2020-01-01</td>\n",
       "      <td>179.958332</td>\n",
       "      <td>89.875000</td>\n",
       "      <td>ocean</td>\n",
       "      <td>Ocean</td>\n",
       "      <td>0.0</td>\n",
       "    </tr>\n",
       "    <tr>\n",
       "      <th>9331199</th>\n",
       "      <td>2020-01-01</td>\n",
       "      <td>179.958332</td>\n",
       "      <td>89.958333</td>\n",
       "      <td>ocean</td>\n",
       "      <td>Ocean</td>\n",
       "      <td>0.0</td>\n",
       "    </tr>\n",
       "  </tbody>\n",
       "</table>\n",
       "<p>9331200 rows × 6 columns</p>\n",
       "</div>"
      ],
      "text/plain": [
       "              time   longitude   latitude country GLCT_trans  GAREA_ha\n",
       "0       2020-01-01 -179.958333 -89.958333   ocean      Ocean       0.0\n",
       "1       2020-01-01 -179.958333 -89.874999   ocean      Ocean       0.0\n",
       "2       2020-01-01 -179.958333 -89.791666   ocean      Ocean       0.0\n",
       "3       2020-01-01 -179.958333 -89.708333   ocean      Ocean       0.0\n",
       "4       2020-01-01 -179.958333 -89.624999   ocean      Ocean       0.0\n",
       "...            ...         ...        ...     ...        ...       ...\n",
       "9331195 2020-01-01  179.958332  89.625000   ocean      Ocean       0.0\n",
       "9331196 2020-01-01  179.958332  89.708333   ocean      Ocean       0.0\n",
       "9331197 2020-01-01  179.958332  89.791667   ocean      Ocean       0.0\n",
       "9331198 2020-01-01  179.958332  89.875000   ocean      Ocean       0.0\n",
       "9331199 2020-01-01  179.958332  89.958333   ocean      Ocean       0.0\n",
       "\n",
       "[9331200 rows x 6 columns]"
      ]
     },
     "execution_count": 21,
     "metadata": {},
     "output_type": "execute_result"
    }
   ],
   "source": [
    "table10_merge"
   ]
  },
  {
   "cell_type": "code",
   "execution_count": 22,
   "metadata": {},
   "outputs": [],
   "source": [
    "table_color = pd.merge(left=table_merge, right=df_sankey, left_on=['GLCT_trans'], right_on=['GLCT_trans'])\n",
    "table1_color = pd.merge(left=table1_merge, right=df_sankey, left_on=['GLCT_trans'], right_on=['GLCT_trans'])\n",
    "table2_color = pd.merge(left=table2_merge, right=df_sankey, left_on=['GLCT_trans'], right_on=['GLCT_trans'])\n",
    "table3_color = pd.merge(left=table3_merge, right=df_sankey, left_on=['GLCT_trans'], right_on=['GLCT_trans'])\n",
    "table4_color = pd.merge(left=table4_merge, right=df_sankey, left_on=['GLCT_trans'], right_on=['GLCT_trans'])\n",
    "table5_color = pd.merge(left=table5_merge, right=df_sankey, left_on=['GLCT_trans'], right_on=['GLCT_trans'])\n",
    "table6_color = pd.merge(left=table6_merge, right=df_sankey, left_on=['GLCT_trans'], right_on=['GLCT_trans'])\n",
    "table7_color = pd.merge(left=table7_merge, right=df_sankey, left_on=['GLCT_trans'], right_on=['GLCT_trans'])\n",
    "table8_color = pd.merge(left=table8_merge, right=df_sankey, left_on=['GLCT_trans'], right_on=['GLCT_trans'])\n",
    "table9_color = pd.merge(left=table9_merge, right=df_sankey, left_on=['GLCT_trans'], right_on=['GLCT_trans'])\n",
    "table10_color = pd.merge(left=table10_merge, right=df_sankey, left_on=['GLCT_trans'], right_on=['GLCT_trans'])"
   ]
  },
  {
   "cell_type": "code",
   "execution_count": 23,
   "metadata": {},
   "outputs": [],
   "source": [
    "data = pd.to_datetime(table_color['time'].values, format='%d/%m/%Y %H.%M.%S')\n",
    "table_color['time'] = data.year\n",
    "\n",
    "data1 = pd.to_datetime(table1_color['time'].values, format='%d/%m/%Y %H.%M.%S')\n",
    "table1_color['time'] = data1.year\n",
    "\n",
    "data2 = pd.to_datetime(table2_color['time'].values, format='%d/%m/%Y %H.%M.%S')\n",
    "table2_color['time'] = data2.year\n",
    "\n",
    "data3 = pd.to_datetime(table3_color['time'].values, format='%d/%m/%Y %H.%M.%S')\n",
    "table3_color['time'] = data3.year\n",
    "\n",
    "data4 = pd.to_datetime(table4_color['time'].values, format='%d/%m/%Y %H.%M.%S')\n",
    "table4_color['time'] = data4.year\n",
    "\n",
    "data5 = pd.to_datetime(table5_color['time'].values, format='%d/%m/%Y %H.%M.%S')\n",
    "table5_color['time'] = data5.year\n",
    "\n",
    "data6 = pd.to_datetime(table6_color['time'].values, format='%d/%m/%Y %H.%M.%S')\n",
    "table6_color['time'] = data6.year\n",
    "\n",
    "data7 = pd.to_datetime(table7_color['time'].values, format='%d/%m/%Y %H.%M.%S')\n",
    "table7_color['time'] = data7.year\n",
    "\n",
    "data8 = pd.to_datetime(table8_color['time'].values, format='%d/%m/%Y %H.%M.%S')\n",
    "table8_color['time'] = data8.year\n",
    "\n",
    "data9 = pd.to_datetime(table9_color['time'].values, format='%d/%m/%Y %H.%M.%S')\n",
    "table9_color['time'] = data9.year\n",
    "\n",
    "data10 = pd.to_datetime(table10_color['time'].values, format='%d/%m/%Y %H.%M.%S')\n",
    "table10_color['time'] = data10.year"
   ]
  },
  {
   "cell_type": "code",
   "execution_count": 24,
   "metadata": {},
   "outputs": [],
   "source": [
    "table_color['GLCT_trans'] = table_color['GLCT_trans'] + table_color['time'].astype(str)\n",
    "table1_color['GLCT_trans'] = table1_color['GLCT_trans'] + table1_color['time'].astype(str)\n",
    "table2_color['GLCT_trans'] = table2_color['GLCT_trans'] + table2_color['time'].astype(str)\n",
    "table3_color['GLCT_trans'] = table3_color['GLCT_trans'] + table3_color['time'].astype(str)\n",
    "table4_color['GLCT_trans'] = table4_color['GLCT_trans'] + table4_color['time'].astype(str)\n",
    "table5_color['GLCT_trans'] = table5_color['GLCT_trans'] + table5_color['time'].astype(str)\n",
    "table6_color['GLCT_trans'] = table6_color['GLCT_trans'] + table6_color['time'].astype(str)\n",
    "table7_color['GLCT_trans'] = table7_color['GLCT_trans'] + table7_color['time'].astype(str)\n",
    "table8_color['GLCT_trans'] = table8_color['GLCT_trans'] + table8_color['time'].astype(str)\n",
    "table9_color['GLCT_trans'] = table9_color['GLCT_trans'] + table9_color['time'].astype(str)\n",
    "table10_color['GLCT_trans'] = table10_color['GLCT_trans'] + table10_color['time'].astype(str)"
   ]
  },
  {
   "cell_type": "code",
   "execution_count": 25,
   "metadata": {},
   "outputs": [],
   "source": [
    "table_columns = table_color.drop(columns=['time'])\n",
    "table1_columns = table1_color.drop(columns=['time'])\n",
    "table2_columns = table2_color.drop(columns=['time'])\n",
    "table3_columns = table3_color.drop(columns=['time'])\n",
    "table4_columns = table4_color.drop(columns=['time'])\n",
    "table5_columns = table5_color.drop(columns=['time'])\n",
    "table6_columns = table6_color.drop(columns=['time'])\n",
    "table7_columns = table7_color.drop(columns=['time'])\n",
    "table8_columns = table8_color.drop(columns=['time'])\n",
    "table9_columns = table9_color.drop(columns=['time'])\n",
    "table10_columns = table10_color.drop(columns=['time'])"
   ]
  },
  {
   "cell_type": "code",
   "execution_count": 26,
   "metadata": {},
   "outputs": [],
   "source": [
    "table_columns = table_columns.rename(columns={'GLCT_trans' : 'GLCT1970', \"color\" : \"color1970\", \"GAREA_ha\": \"GAREA1970\"})\n",
    "table1_columns = table1_columns.rename(columns={'GLCT_trans' : 'GLCT1975', \"color\" : \"color1975\", \"GAREA_ha\": \"GAREA1975\"})\n",
    "table2_columns = table2_columns.rename(columns={'GLCT_trans' : 'GLCT1980', \"color\" : \"color1980\", \"GAREA_ha\": \"GAREA1980\"})\n",
    "table3_columns = table3_columns.rename(columns={'GLCT_trans' : 'GLCT1985', \"color\" : \"color1985\", \"GAREA_ha\": \"GAREA1985\"})\n",
    "table4_columns = table4_columns.rename(columns={'GLCT_trans' : 'GLCT1990', \"color\" : \"color1990\", \"GAREA_ha\": \"GAREA1990\"})\n",
    "table5_columns = table5_columns.rename(columns={'GLCT_trans' : 'GLCT1995', \"color\" : \"color1995\", \"GAREA_ha\": \"GAREA1995\"})\n",
    "table6_columns = table6_columns.rename(columns={'GLCT_trans' : 'GLCT2000', \"color\" : \"color2000\", \"GAREA_ha\": \"GAREA2000\"})\n",
    "table7_columns = table7_columns.rename(columns={'GLCT_trans' : 'GLCT2005', \"color\" : \"color2005\", \"GAREA_ha\": \"GAREA2005\"})\n",
    "table8_columns = table8_columns.rename(columns={'GLCT_trans' : 'GLCT2010', \"color\" : \"color2010\", \"GAREA_ha\": \"GAREA2010\"})\n",
    "table9_columns = table9_columns.rename(columns={'GLCT_trans' : 'GLCT2015', \"color\" : \"color2015\", \"GAREA_ha\": \"GAREA2015\"})\n",
    "table10_columns = table10_columns.rename(columns={'GLCT_trans' : 'GLCT2020', \"color\" : \"color2020\", \"GAREA_ha\": \"GAREA2020\"})"
   ]
  },
  {
   "cell_type": "code",
   "execution_count": 27,
   "metadata": {},
   "outputs": [
    {
     "data": {
      "text/html": [
       "<div>\n",
       "<style scoped>\n",
       "    .dataframe tbody tr th:only-of-type {\n",
       "        vertical-align: middle;\n",
       "    }\n",
       "\n",
       "    .dataframe tbody tr th {\n",
       "        vertical-align: top;\n",
       "    }\n",
       "\n",
       "    .dataframe thead th {\n",
       "        text-align: right;\n",
       "    }\n",
       "</style>\n",
       "<table border=\"1\" class=\"dataframe\">\n",
       "  <thead>\n",
       "    <tr style=\"text-align: right;\">\n",
       "      <th></th>\n",
       "      <th>longitude</th>\n",
       "      <th>latitude</th>\n",
       "      <th>country</th>\n",
       "      <th>GLCT2020</th>\n",
       "      <th>GAREA2020</th>\n",
       "      <th>color2020</th>\n",
       "    </tr>\n",
       "  </thead>\n",
       "  <tbody>\n",
       "    <tr>\n",
       "      <th>0</th>\n",
       "      <td>-179.958333</td>\n",
       "      <td>-16.875000</td>\n",
       "      <td>Fiji</td>\n",
       "      <td>trof2020</td>\n",
       "      <td>0.000000</td>\n",
       "      <td>#799351</td>\n",
       "    </tr>\n",
       "    <tr>\n",
       "      <th>1</th>\n",
       "      <td>-179.958333</td>\n",
       "      <td>-16.791666</td>\n",
       "      <td>Fiji</td>\n",
       "      <td>trof2020</td>\n",
       "      <td>0.000000</td>\n",
       "      <td>#799351</td>\n",
       "    </tr>\n",
       "    <tr>\n",
       "      <th>2</th>\n",
       "      <td>-179.958333</td>\n",
       "      <td>-16.541666</td>\n",
       "      <td>Fiji</td>\n",
       "      <td>trof2020</td>\n",
       "      <td>2845.649902</td>\n",
       "      <td>#799351</td>\n",
       "    </tr>\n",
       "    <tr>\n",
       "      <th>3</th>\n",
       "      <td>-179.875000</td>\n",
       "      <td>-16.791666</td>\n",
       "      <td>Fiji</td>\n",
       "      <td>trof2020</td>\n",
       "      <td>0.000000</td>\n",
       "      <td>#799351</td>\n",
       "    </tr>\n",
       "    <tr>\n",
       "      <th>4</th>\n",
       "      <td>-179.875000</td>\n",
       "      <td>-16.708333</td>\n",
       "      <td>Fiji</td>\n",
       "      <td>trof2020</td>\n",
       "      <td>0.000000</td>\n",
       "      <td>#799351</td>\n",
       "    </tr>\n",
       "    <tr>\n",
       "      <th>...</th>\n",
       "      <td>...</td>\n",
       "      <td>...</td>\n",
       "      <td>...</td>\n",
       "      <td>...</td>\n",
       "      <td>...</td>\n",
       "      <td>...</td>\n",
       "    </tr>\n",
       "    <tr>\n",
       "      <th>2215824</th>\n",
       "      <td>122.541665</td>\n",
       "      <td>45.875000</td>\n",
       "      <td>China</td>\n",
       "      <td>biof2020</td>\n",
       "      <td>5978.029785</td>\n",
       "      <td>#F2613F</td>\n",
       "    </tr>\n",
       "    <tr>\n",
       "      <th>2215825</th>\n",
       "      <td>122.624999</td>\n",
       "      <td>43.541667</td>\n",
       "      <td>China</td>\n",
       "      <td>biof2020</td>\n",
       "      <td>6210.703125</td>\n",
       "      <td>#F2613F</td>\n",
       "    </tr>\n",
       "    <tr>\n",
       "      <th>2215826</th>\n",
       "      <td>122.624999</td>\n",
       "      <td>45.791667</td>\n",
       "      <td>China</td>\n",
       "      <td>biof2020</td>\n",
       "      <td>5986.979980</td>\n",
       "      <td>#F2613F</td>\n",
       "    </tr>\n",
       "    <tr>\n",
       "      <th>2215827</th>\n",
       "      <td>122.624999</td>\n",
       "      <td>45.875000</td>\n",
       "      <td>China</td>\n",
       "      <td>biof2020</td>\n",
       "      <td>5978.029785</td>\n",
       "      <td>#F2613F</td>\n",
       "    </tr>\n",
       "    <tr>\n",
       "      <th>2215828</th>\n",
       "      <td>123.124999</td>\n",
       "      <td>45.708334</td>\n",
       "      <td>China</td>\n",
       "      <td>biof2020</td>\n",
       "      <td>5995.930176</td>\n",
       "      <td>#F2613F</td>\n",
       "    </tr>\n",
       "  </tbody>\n",
       "</table>\n",
       "<p>2215829 rows × 6 columns</p>\n",
       "</div>"
      ],
      "text/plain": [
       "          longitude   latitude country  GLCT2020    GAREA2020 color2020\n",
       "0       -179.958333 -16.875000    Fiji  trof2020     0.000000   #799351\n",
       "1       -179.958333 -16.791666    Fiji  trof2020     0.000000   #799351\n",
       "2       -179.958333 -16.541666    Fiji  trof2020  2845.649902   #799351\n",
       "3       -179.875000 -16.791666    Fiji  trof2020     0.000000   #799351\n",
       "4       -179.875000 -16.708333    Fiji  trof2020     0.000000   #799351\n",
       "...             ...        ...     ...       ...          ...       ...\n",
       "2215824  122.541665  45.875000   China  biof2020  5978.029785   #F2613F\n",
       "2215825  122.624999  43.541667   China  biof2020  6210.703125   #F2613F\n",
       "2215826  122.624999  45.791667   China  biof2020  5986.979980   #F2613F\n",
       "2215827  122.624999  45.875000   China  biof2020  5978.029785   #F2613F\n",
       "2215828  123.124999  45.708334   China  biof2020  5995.930176   #F2613F\n",
       "\n",
       "[2215829 rows x 6 columns]"
      ]
     },
     "execution_count": 27,
     "metadata": {},
     "output_type": "execute_result"
    }
   ],
   "source": [
    "table10_columns"
   ]
  },
  {
   "cell_type": "code",
   "execution_count": 28,
   "metadata": {},
   "outputs": [
    {
     "data": {
      "text/html": [
       "<div>\n",
       "<style scoped>\n",
       "    .dataframe tbody tr th:only-of-type {\n",
       "        vertical-align: middle;\n",
       "    }\n",
       "\n",
       "    .dataframe tbody tr th {\n",
       "        vertical-align: top;\n",
       "    }\n",
       "\n",
       "    .dataframe thead th {\n",
       "        text-align: right;\n",
       "    }\n",
       "</style>\n",
       "<table border=\"1\" class=\"dataframe\">\n",
       "  <thead>\n",
       "    <tr style=\"text-align: right;\">\n",
       "      <th></th>\n",
       "      <th>longitude</th>\n",
       "      <th>latitude</th>\n",
       "      <th>country</th>\n",
       "      <th>GLCT1970</th>\n",
       "      <th>GAREA1970</th>\n",
       "      <th>color1970</th>\n",
       "      <th>GLCT1975</th>\n",
       "      <th>GAREA1975</th>\n",
       "      <th>color1975</th>\n",
       "      <th>GLCT1980</th>\n",
       "      <th>...</th>\n",
       "      <th>color2005</th>\n",
       "      <th>GLCT2010</th>\n",
       "      <th>GAREA2010</th>\n",
       "      <th>color2010</th>\n",
       "      <th>GLCT2015</th>\n",
       "      <th>GAREA2015</th>\n",
       "      <th>color2015</th>\n",
       "      <th>GLCT2020</th>\n",
       "      <th>GAREA2020</th>\n",
       "      <th>color2020</th>\n",
       "    </tr>\n",
       "  </thead>\n",
       "  <tbody>\n",
       "    <tr>\n",
       "      <th>0</th>\n",
       "      <td>-179.958333</td>\n",
       "      <td>-16.875000</td>\n",
       "      <td>Fiji</td>\n",
       "      <td>trof1970</td>\n",
       "      <td>0.000000</td>\n",
       "      <td>#799351</td>\n",
       "      <td>trof1975</td>\n",
       "      <td>0.000000</td>\n",
       "      <td>#799351</td>\n",
       "      <td>trof1980</td>\n",
       "      <td>...</td>\n",
       "      <td>#799351</td>\n",
       "      <td>trof2010</td>\n",
       "      <td>0.000000</td>\n",
       "      <td>#799351</td>\n",
       "      <td>trof2015</td>\n",
       "      <td>0.000000</td>\n",
       "      <td>#799351</td>\n",
       "      <td>trof2020</td>\n",
       "      <td>0.000000</td>\n",
       "      <td>#799351</td>\n",
       "    </tr>\n",
       "    <tr>\n",
       "      <th>1</th>\n",
       "      <td>-179.958333</td>\n",
       "      <td>-16.791666</td>\n",
       "      <td>Fiji</td>\n",
       "      <td>trof1970</td>\n",
       "      <td>0.000000</td>\n",
       "      <td>#799351</td>\n",
       "      <td>trof1975</td>\n",
       "      <td>0.000000</td>\n",
       "      <td>#799351</td>\n",
       "      <td>trof1980</td>\n",
       "      <td>...</td>\n",
       "      <td>#799351</td>\n",
       "      <td>trof2010</td>\n",
       "      <td>0.000000</td>\n",
       "      <td>#799351</td>\n",
       "      <td>trof2015</td>\n",
       "      <td>0.000000</td>\n",
       "      <td>#799351</td>\n",
       "      <td>trof2020</td>\n",
       "      <td>0.000000</td>\n",
       "      <td>#799351</td>\n",
       "    </tr>\n",
       "    <tr>\n",
       "      <th>2</th>\n",
       "      <td>-179.958333</td>\n",
       "      <td>-16.541666</td>\n",
       "      <td>Fiji</td>\n",
       "      <td>trof1970</td>\n",
       "      <td>2845.649902</td>\n",
       "      <td>#799351</td>\n",
       "      <td>trof1975</td>\n",
       "      <td>2845.649902</td>\n",
       "      <td>#799351</td>\n",
       "      <td>trof1980</td>\n",
       "      <td>...</td>\n",
       "      <td>#799351</td>\n",
       "      <td>trof2010</td>\n",
       "      <td>2845.649902</td>\n",
       "      <td>#799351</td>\n",
       "      <td>trof2015</td>\n",
       "      <td>2845.649902</td>\n",
       "      <td>#799351</td>\n",
       "      <td>trof2020</td>\n",
       "      <td>2845.649902</td>\n",
       "      <td>#799351</td>\n",
       "    </tr>\n",
       "    <tr>\n",
       "      <th>3</th>\n",
       "      <td>-179.875000</td>\n",
       "      <td>-16.791666</td>\n",
       "      <td>Fiji</td>\n",
       "      <td>trof1970</td>\n",
       "      <td>0.000000</td>\n",
       "      <td>#799351</td>\n",
       "      <td>trof1975</td>\n",
       "      <td>0.000000</td>\n",
       "      <td>#799351</td>\n",
       "      <td>trof1980</td>\n",
       "      <td>...</td>\n",
       "      <td>#799351</td>\n",
       "      <td>trof2010</td>\n",
       "      <td>0.000000</td>\n",
       "      <td>#799351</td>\n",
       "      <td>trof2015</td>\n",
       "      <td>0.000000</td>\n",
       "      <td>#799351</td>\n",
       "      <td>trof2020</td>\n",
       "      <td>0.000000</td>\n",
       "      <td>#799351</td>\n",
       "    </tr>\n",
       "    <tr>\n",
       "      <th>4</th>\n",
       "      <td>-179.875000</td>\n",
       "      <td>-16.708333</td>\n",
       "      <td>Fiji</td>\n",
       "      <td>trof1970</td>\n",
       "      <td>0.000000</td>\n",
       "      <td>#799351</td>\n",
       "      <td>trof1975</td>\n",
       "      <td>0.000000</td>\n",
       "      <td>#799351</td>\n",
       "      <td>trof1980</td>\n",
       "      <td>...</td>\n",
       "      <td>#799351</td>\n",
       "      <td>trof2010</td>\n",
       "      <td>0.000000</td>\n",
       "      <td>#799351</td>\n",
       "      <td>trof2015</td>\n",
       "      <td>0.000000</td>\n",
       "      <td>#799351</td>\n",
       "      <td>trof2020</td>\n",
       "      <td>0.000000</td>\n",
       "      <td>#799351</td>\n",
       "    </tr>\n",
       "    <tr>\n",
       "      <th>...</th>\n",
       "      <td>...</td>\n",
       "      <td>...</td>\n",
       "      <td>...</td>\n",
       "      <td>...</td>\n",
       "      <td>...</td>\n",
       "      <td>...</td>\n",
       "      <td>...</td>\n",
       "      <td>...</td>\n",
       "      <td>...</td>\n",
       "      <td>...</td>\n",
       "      <td>...</td>\n",
       "      <td>...</td>\n",
       "      <td>...</td>\n",
       "      <td>...</td>\n",
       "      <td>...</td>\n",
       "      <td>...</td>\n",
       "      <td>...</td>\n",
       "      <td>...</td>\n",
       "      <td>...</td>\n",
       "      <td>...</td>\n",
       "      <td>...</td>\n",
       "    </tr>\n",
       "    <tr>\n",
       "      <th>2215824</th>\n",
       "      <td>152.124999</td>\n",
       "      <td>-24.791666</td>\n",
       "      <td>Australia</td>\n",
       "      <td>svna1970</td>\n",
       "      <td>7794.999512</td>\n",
       "      <td>#D10363</td>\n",
       "      <td>svna1975</td>\n",
       "      <td>7794.999512</td>\n",
       "      <td>#D10363</td>\n",
       "      <td>svna1980</td>\n",
       "      <td>...</td>\n",
       "      <td>#F3CA52</td>\n",
       "      <td>agri2010</td>\n",
       "      <td>7794.999512</td>\n",
       "      <td>#F3CA52</td>\n",
       "      <td>agri2015</td>\n",
       "      <td>7794.999512</td>\n",
       "      <td>#F3CA52</td>\n",
       "      <td>agri2020</td>\n",
       "      <td>7794.999512</td>\n",
       "      <td>#F3CA52</td>\n",
       "    </tr>\n",
       "    <tr>\n",
       "      <th>2215825</th>\n",
       "      <td>152.124999</td>\n",
       "      <td>-24.708333</td>\n",
       "      <td>Australia</td>\n",
       "      <td>svna1970</td>\n",
       "      <td>7800.229492</td>\n",
       "      <td>#D10363</td>\n",
       "      <td>svna1975</td>\n",
       "      <td>7800.229492</td>\n",
       "      <td>#D10363</td>\n",
       "      <td>svna1980</td>\n",
       "      <td>...</td>\n",
       "      <td>#D10363</td>\n",
       "      <td>svna2010</td>\n",
       "      <td>7800.229492</td>\n",
       "      <td>#D10363</td>\n",
       "      <td>svna2015</td>\n",
       "      <td>7800.229492</td>\n",
       "      <td>#D10363</td>\n",
       "      <td>svna2020</td>\n",
       "      <td>7800.229492</td>\n",
       "      <td>#D10363</td>\n",
       "    </tr>\n",
       "    <tr>\n",
       "      <th>2215826</th>\n",
       "      <td>152.124999</td>\n",
       "      <td>-24.625000</td>\n",
       "      <td>Australia</td>\n",
       "      <td>svna1970</td>\n",
       "      <td>5697.569824</td>\n",
       "      <td>#D10363</td>\n",
       "      <td>svna1975</td>\n",
       "      <td>5697.569824</td>\n",
       "      <td>#D10363</td>\n",
       "      <td>svna1980</td>\n",
       "      <td>...</td>\n",
       "      <td>#D10363</td>\n",
       "      <td>svna2010</td>\n",
       "      <td>5697.569824</td>\n",
       "      <td>#D10363</td>\n",
       "      <td>svna2015</td>\n",
       "      <td>5697.569824</td>\n",
       "      <td>#D10363</td>\n",
       "      <td>svna2020</td>\n",
       "      <td>5697.569824</td>\n",
       "      <td>#D10363</td>\n",
       "    </tr>\n",
       "    <tr>\n",
       "      <th>2215827</th>\n",
       "      <td>152.374999</td>\n",
       "      <td>-24.708333</td>\n",
       "      <td>Australia</td>\n",
       "      <td>svna1970</td>\n",
       "      <td>606.515991</td>\n",
       "      <td>#D10363</td>\n",
       "      <td>svna1975</td>\n",
       "      <td>606.515991</td>\n",
       "      <td>#D10363</td>\n",
       "      <td>svna1980</td>\n",
       "      <td>...</td>\n",
       "      <td>#D10363</td>\n",
       "      <td>svna2010</td>\n",
       "      <td>606.515991</td>\n",
       "      <td>#D10363</td>\n",
       "      <td>svna2015</td>\n",
       "      <td>606.515991</td>\n",
       "      <td>#D10363</td>\n",
       "      <td>svna2020</td>\n",
       "      <td>606.515991</td>\n",
       "      <td>#D10363</td>\n",
       "    </tr>\n",
       "    <tr>\n",
       "      <th>2215828</th>\n",
       "      <td>152.458332</td>\n",
       "      <td>-24.958333</td>\n",
       "      <td>Australia</td>\n",
       "      <td>svna1970</td>\n",
       "      <td>6886.293945</td>\n",
       "      <td>#D10363</td>\n",
       "      <td>svna1975</td>\n",
       "      <td>6919.460449</td>\n",
       "      <td>#D10363</td>\n",
       "      <td>svna1980</td>\n",
       "      <td>...</td>\n",
       "      <td>#D10363</td>\n",
       "      <td>svna2010</td>\n",
       "      <td>6919.460449</td>\n",
       "      <td>#D10363</td>\n",
       "      <td>svna2015</td>\n",
       "      <td>6919.460449</td>\n",
       "      <td>#D10363</td>\n",
       "      <td>svna2020</td>\n",
       "      <td>6830.983887</td>\n",
       "      <td>#D10363</td>\n",
       "    </tr>\n",
       "  </tbody>\n",
       "</table>\n",
       "<p>2215829 rows × 36 columns</p>\n",
       "</div>"
      ],
      "text/plain": [
       "          longitude   latitude    country  GLCT1970    GAREA1970 color1970  \\\n",
       "0       -179.958333 -16.875000       Fiji  trof1970     0.000000   #799351   \n",
       "1       -179.958333 -16.791666       Fiji  trof1970     0.000000   #799351   \n",
       "2       -179.958333 -16.541666       Fiji  trof1970  2845.649902   #799351   \n",
       "3       -179.875000 -16.791666       Fiji  trof1970     0.000000   #799351   \n",
       "4       -179.875000 -16.708333       Fiji  trof1970     0.000000   #799351   \n",
       "...             ...        ...        ...       ...          ...       ...   \n",
       "2215824  152.124999 -24.791666  Australia  svna1970  7794.999512   #D10363   \n",
       "2215825  152.124999 -24.708333  Australia  svna1970  7800.229492   #D10363   \n",
       "2215826  152.124999 -24.625000  Australia  svna1970  5697.569824   #D10363   \n",
       "2215827  152.374999 -24.708333  Australia  svna1970   606.515991   #D10363   \n",
       "2215828  152.458332 -24.958333  Australia  svna1970  6886.293945   #D10363   \n",
       "\n",
       "         GLCT1975    GAREA1975 color1975  GLCT1980  ...  color2005  GLCT2010  \\\n",
       "0        trof1975     0.000000   #799351  trof1980  ...    #799351  trof2010   \n",
       "1        trof1975     0.000000   #799351  trof1980  ...    #799351  trof2010   \n",
       "2        trof1975  2845.649902   #799351  trof1980  ...    #799351  trof2010   \n",
       "3        trof1975     0.000000   #799351  trof1980  ...    #799351  trof2010   \n",
       "4        trof1975     0.000000   #799351  trof1980  ...    #799351  trof2010   \n",
       "...           ...          ...       ...       ...  ...        ...       ...   \n",
       "2215824  svna1975  7794.999512   #D10363  svna1980  ...    #F3CA52  agri2010   \n",
       "2215825  svna1975  7800.229492   #D10363  svna1980  ...    #D10363  svna2010   \n",
       "2215826  svna1975  5697.569824   #D10363  svna1980  ...    #D10363  svna2010   \n",
       "2215827  svna1975   606.515991   #D10363  svna1980  ...    #D10363  svna2010   \n",
       "2215828  svna1975  6919.460449   #D10363  svna1980  ...    #D10363  svna2010   \n",
       "\n",
       "           GAREA2010  color2010  GLCT2015    GAREA2015  color2015  GLCT2020  \\\n",
       "0           0.000000    #799351  trof2015     0.000000    #799351  trof2020   \n",
       "1           0.000000    #799351  trof2015     0.000000    #799351  trof2020   \n",
       "2        2845.649902    #799351  trof2015  2845.649902    #799351  trof2020   \n",
       "3           0.000000    #799351  trof2015     0.000000    #799351  trof2020   \n",
       "4           0.000000    #799351  trof2015     0.000000    #799351  trof2020   \n",
       "...              ...        ...       ...          ...        ...       ...   \n",
       "2215824  7794.999512    #F3CA52  agri2015  7794.999512    #F3CA52  agri2020   \n",
       "2215825  7800.229492    #D10363  svna2015  7800.229492    #D10363  svna2020   \n",
       "2215826  5697.569824    #D10363  svna2015  5697.569824    #D10363  svna2020   \n",
       "2215827   606.515991    #D10363  svna2015   606.515991    #D10363  svna2020   \n",
       "2215828  6919.460449    #D10363  svna2015  6919.460449    #D10363  svna2020   \n",
       "\n",
       "           GAREA2020  color2020  \n",
       "0           0.000000    #799351  \n",
       "1           0.000000    #799351  \n",
       "2        2845.649902    #799351  \n",
       "3           0.000000    #799351  \n",
       "4           0.000000    #799351  \n",
       "...              ...        ...  \n",
       "2215824  7794.999512    #F3CA52  \n",
       "2215825  7800.229492    #D10363  \n",
       "2215826  5697.569824    #D10363  \n",
       "2215827   606.515991    #D10363  \n",
       "2215828  6830.983887    #D10363  \n",
       "\n",
       "[2215829 rows x 36 columns]"
      ]
     },
     "execution_count": 28,
     "metadata": {},
     "output_type": "execute_result"
    }
   ],
   "source": [
    "frames = [table_columns, table1_columns, table2_columns, table3_columns, table4_columns, table5_columns, table6_columns, table7_columns, table8_columns, table9_columns, table10_columns]\n",
    "\n",
    "merged_df = reduce(lambda left, right: pd.merge(left, right, on=['longitude','latitude','country'], how='outer'), frames)\n",
    "merged_df = merged_df.replace([np.inf, -np.inf], np.nan)\n",
    "merged_df = merged_df.fillna(0)\n",
    "merged_df"
   ]
  },
  {
   "cell_type": "code",
   "execution_count": 29,
   "metadata": {},
   "outputs": [
    {
     "data": {
      "text/html": [
       "<div>\n",
       "<style scoped>\n",
       "    .dataframe tbody tr th:only-of-type {\n",
       "        vertical-align: middle;\n",
       "    }\n",
       "\n",
       "    .dataframe tbody tr th {\n",
       "        vertical-align: top;\n",
       "    }\n",
       "\n",
       "    .dataframe thead th {\n",
       "        text-align: right;\n",
       "    }\n",
       "</style>\n",
       "<table border=\"1\" class=\"dataframe\">\n",
       "  <thead>\n",
       "    <tr style=\"text-align: right;\">\n",
       "      <th></th>\n",
       "      <th>ISO Country</th>\n",
       "      <th>alpha-2</th>\n",
       "      <th>alpha-3</th>\n",
       "      <th>country-code</th>\n",
       "      <th>iso_3166-2</th>\n",
       "      <th>Sub Region</th>\n",
       "      <th>ISO Region</th>\n",
       "      <th>IMAGE Region Code</th>\n",
       "      <th>IMAGE Region Name</th>\n",
       "    </tr>\n",
       "  </thead>\n",
       "  <tbody>\n",
       "    <tr>\n",
       "      <th>0</th>\n",
       "      <td>Afghanistan</td>\n",
       "      <td>AF</td>\n",
       "      <td>AFG</td>\n",
       "      <td>4</td>\n",
       "      <td>ISO 3166-2:AF</td>\n",
       "      <td>South Asia</td>\n",
       "      <td>Asia</td>\n",
       "      <td>RSAS</td>\n",
       "      <td>Rest S. Asia</td>\n",
       "    </tr>\n",
       "    <tr>\n",
       "      <th>1</th>\n",
       "      <td>Albania</td>\n",
       "      <td>AL</td>\n",
       "      <td>ALB</td>\n",
       "      <td>8</td>\n",
       "      <td>ISO 3166-2:AL</td>\n",
       "      <td>Europe and Russia</td>\n",
       "      <td>Europe</td>\n",
       "      <td>CEU</td>\n",
       "      <td>C. Europe</td>\n",
       "    </tr>\n",
       "    <tr>\n",
       "      <th>2</th>\n",
       "      <td>Algeria</td>\n",
       "      <td>DZ</td>\n",
       "      <td>DZA</td>\n",
       "      <td>12</td>\n",
       "      <td>ISO 3166-2:DZ</td>\n",
       "      <td>Middle East</td>\n",
       "      <td>Africa</td>\n",
       "      <td>NAF</td>\n",
       "      <td>N. Africa</td>\n",
       "    </tr>\n",
       "    <tr>\n",
       "      <th>3</th>\n",
       "      <td>American Samoa</td>\n",
       "      <td>AS</td>\n",
       "      <td>ASM</td>\n",
       "      <td>16</td>\n",
       "      <td>ISO 3166-2:AS</td>\n",
       "      <td>Oceania</td>\n",
       "      <td>Oceania</td>\n",
       "      <td>OCE</td>\n",
       "      <td>Oceania</td>\n",
       "    </tr>\n",
       "    <tr>\n",
       "      <th>4</th>\n",
       "      <td>Andorra</td>\n",
       "      <td>AD</td>\n",
       "      <td>AND</td>\n",
       "      <td>20</td>\n",
       "      <td>ISO 3166-2:AD</td>\n",
       "      <td>Europe and Russia</td>\n",
       "      <td>Europe</td>\n",
       "      <td>WEU</td>\n",
       "      <td>W. Europe</td>\n",
       "    </tr>\n",
       "    <tr>\n",
       "      <th>...</th>\n",
       "      <td>...</td>\n",
       "      <td>...</td>\n",
       "      <td>...</td>\n",
       "      <td>...</td>\n",
       "      <td>...</td>\n",
       "      <td>...</td>\n",
       "      <td>...</td>\n",
       "      <td>...</td>\n",
       "      <td>...</td>\n",
       "    </tr>\n",
       "    <tr>\n",
       "      <th>232</th>\n",
       "      <td>Wallis and Futuna</td>\n",
       "      <td>WF</td>\n",
       "      <td>WLF</td>\n",
       "      <td>876</td>\n",
       "      <td>ISO 3166-2:WF</td>\n",
       "      <td>Oceania</td>\n",
       "      <td>Oceania</td>\n",
       "      <td>OCE</td>\n",
       "      <td>Oceania</td>\n",
       "    </tr>\n",
       "    <tr>\n",
       "      <th>233</th>\n",
       "      <td>Western Sahara</td>\n",
       "      <td>EH</td>\n",
       "      <td>ESH</td>\n",
       "      <td>732</td>\n",
       "      <td>ISO 3166-2:EH</td>\n",
       "      <td>Middle East</td>\n",
       "      <td>Africa</td>\n",
       "      <td>NAF</td>\n",
       "      <td>N. Africa</td>\n",
       "    </tr>\n",
       "    <tr>\n",
       "      <th>234</th>\n",
       "      <td>Yemen</td>\n",
       "      <td>YE</td>\n",
       "      <td>YEM</td>\n",
       "      <td>887</td>\n",
       "      <td>ISO 3166-2:YE</td>\n",
       "      <td>Middle East</td>\n",
       "      <td>Asia</td>\n",
       "      <td>ME</td>\n",
       "      <td>Middle East</td>\n",
       "    </tr>\n",
       "    <tr>\n",
       "      <th>235</th>\n",
       "      <td>Zambia</td>\n",
       "      <td>ZM</td>\n",
       "      <td>ZMB</td>\n",
       "      <td>894</td>\n",
       "      <td>ISO 3166-2:ZM</td>\n",
       "      <td>sub-Saharan Africa</td>\n",
       "      <td>Africa</td>\n",
       "      <td>RSAF</td>\n",
       "      <td>Rest S. Africa</td>\n",
       "    </tr>\n",
       "    <tr>\n",
       "      <th>236</th>\n",
       "      <td>Zimbabwe</td>\n",
       "      <td>ZW</td>\n",
       "      <td>ZWE</td>\n",
       "      <td>716</td>\n",
       "      <td>ISO 3166-2:ZW</td>\n",
       "      <td>sub-Saharan Africa</td>\n",
       "      <td>Africa</td>\n",
       "      <td>RSAF</td>\n",
       "      <td>Rest S. Africa</td>\n",
       "    </tr>\n",
       "  </tbody>\n",
       "</table>\n",
       "<p>237 rows × 9 columns</p>\n",
       "</div>"
      ],
      "text/plain": [
       "           ISO Country alpha-2 alpha-3  country-code     iso_3166-2  \\\n",
       "0          Afghanistan      AF     AFG             4  ISO 3166-2:AF   \n",
       "1              Albania      AL     ALB             8  ISO 3166-2:AL   \n",
       "2              Algeria      DZ     DZA            12  ISO 3166-2:DZ   \n",
       "3       American Samoa      AS     ASM            16  ISO 3166-2:AS   \n",
       "4              Andorra      AD     AND            20  ISO 3166-2:AD   \n",
       "..                 ...     ...     ...           ...            ...   \n",
       "232  Wallis and Futuna      WF     WLF           876  ISO 3166-2:WF   \n",
       "233     Western Sahara      EH     ESH           732  ISO 3166-2:EH   \n",
       "234              Yemen      YE     YEM           887  ISO 3166-2:YE   \n",
       "235             Zambia      ZM     ZMB           894  ISO 3166-2:ZM   \n",
       "236           Zimbabwe      ZW     ZWE           716  ISO 3166-2:ZW   \n",
       "\n",
       "             Sub Region ISO Region IMAGE Region Code IMAGE Region Name  \n",
       "0            South Asia       Asia              RSAS      Rest S. Asia  \n",
       "1     Europe and Russia     Europe               CEU         C. Europe  \n",
       "2           Middle East     Africa               NAF         N. Africa  \n",
       "3               Oceania    Oceania               OCE           Oceania  \n",
       "4     Europe and Russia     Europe               WEU         W. Europe  \n",
       "..                  ...        ...               ...               ...  \n",
       "232             Oceania    Oceania               OCE           Oceania  \n",
       "233         Middle East     Africa               NAF         N. Africa  \n",
       "234         Middle East       Asia                ME       Middle East  \n",
       "235  sub-Saharan Africa     Africa              RSAF    Rest S. Africa  \n",
       "236  sub-Saharan Africa     Africa              RSAF    Rest S. Africa  \n",
       "\n",
       "[237 rows x 9 columns]"
      ]
     },
     "execution_count": 29,
     "metadata": {},
     "output_type": "execute_result"
    }
   ],
   "source": [
    "ccode_iso = pd.read_excel(\"/vol/milkunC/achaidir/Country Grids/ISO-3166-Country-Code_Final.xlsx\", engine=\"openpyxl\")\n",
    "ccode_iso"
   ]
  },
  {
   "cell_type": "code",
   "execution_count": 30,
   "metadata": {},
   "outputs": [
    {
     "data": {
      "text/html": [
       "<div>\n",
       "<style scoped>\n",
       "    .dataframe tbody tr th:only-of-type {\n",
       "        vertical-align: middle;\n",
       "    }\n",
       "\n",
       "    .dataframe tbody tr th {\n",
       "        vertical-align: top;\n",
       "    }\n",
       "\n",
       "    .dataframe thead th {\n",
       "        text-align: right;\n",
       "    }\n",
       "</style>\n",
       "<table border=\"1\" class=\"dataframe\">\n",
       "  <thead>\n",
       "    <tr style=\"text-align: right;\">\n",
       "      <th></th>\n",
       "      <th>ISO Country</th>\n",
       "      <th>IMAGE Region Name</th>\n",
       "    </tr>\n",
       "  </thead>\n",
       "  <tbody>\n",
       "    <tr>\n",
       "      <th>0</th>\n",
       "      <td>Afghanistan</td>\n",
       "      <td>Rest S. Asia</td>\n",
       "    </tr>\n",
       "    <tr>\n",
       "      <th>1</th>\n",
       "      <td>Albania</td>\n",
       "      <td>C. Europe</td>\n",
       "    </tr>\n",
       "    <tr>\n",
       "      <th>2</th>\n",
       "      <td>Algeria</td>\n",
       "      <td>N. Africa</td>\n",
       "    </tr>\n",
       "    <tr>\n",
       "      <th>3</th>\n",
       "      <td>American Samoa</td>\n",
       "      <td>Oceania</td>\n",
       "    </tr>\n",
       "    <tr>\n",
       "      <th>4</th>\n",
       "      <td>Andorra</td>\n",
       "      <td>W. Europe</td>\n",
       "    </tr>\n",
       "    <tr>\n",
       "      <th>...</th>\n",
       "      <td>...</td>\n",
       "      <td>...</td>\n",
       "    </tr>\n",
       "    <tr>\n",
       "      <th>232</th>\n",
       "      <td>Wallis and Futuna</td>\n",
       "      <td>Oceania</td>\n",
       "    </tr>\n",
       "    <tr>\n",
       "      <th>233</th>\n",
       "      <td>Western Sahara</td>\n",
       "      <td>N. Africa</td>\n",
       "    </tr>\n",
       "    <tr>\n",
       "      <th>234</th>\n",
       "      <td>Yemen</td>\n",
       "      <td>Middle East</td>\n",
       "    </tr>\n",
       "    <tr>\n",
       "      <th>235</th>\n",
       "      <td>Zambia</td>\n",
       "      <td>Rest S. Africa</td>\n",
       "    </tr>\n",
       "    <tr>\n",
       "      <th>236</th>\n",
       "      <td>Zimbabwe</td>\n",
       "      <td>Rest S. Africa</td>\n",
       "    </tr>\n",
       "  </tbody>\n",
       "</table>\n",
       "<p>237 rows × 2 columns</p>\n",
       "</div>"
      ],
      "text/plain": [
       "           ISO Country IMAGE Region Name\n",
       "0          Afghanistan      Rest S. Asia\n",
       "1              Albania         C. Europe\n",
       "2              Algeria         N. Africa\n",
       "3       American Samoa           Oceania\n",
       "4              Andorra         W. Europe\n",
       "..                 ...               ...\n",
       "232  Wallis and Futuna           Oceania\n",
       "233     Western Sahara         N. Africa\n",
       "234              Yemen       Middle East\n",
       "235             Zambia    Rest S. Africa\n",
       "236           Zimbabwe    Rest S. Africa\n",
       "\n",
       "[237 rows x 2 columns]"
      ]
     },
     "execution_count": 30,
     "metadata": {},
     "output_type": "execute_result"
    }
   ],
   "source": [
    "ccode_iso_column = ccode_iso[['ISO Country','IMAGE Region Name']]\n",
    "ccode_iso_column"
   ]
  },
  {
   "cell_type": "code",
   "execution_count": 33,
   "metadata": {},
   "outputs": [
    {
     "data": {
      "text/html": [
       "<div>\n",
       "<style scoped>\n",
       "    .dataframe tbody tr th:only-of-type {\n",
       "        vertical-align: middle;\n",
       "    }\n",
       "\n",
       "    .dataframe tbody tr th {\n",
       "        vertical-align: top;\n",
       "    }\n",
       "\n",
       "    .dataframe thead th {\n",
       "        text-align: right;\n",
       "    }\n",
       "</style>\n",
       "<table border=\"1\" class=\"dataframe\">\n",
       "  <thead>\n",
       "    <tr style=\"text-align: right;\">\n",
       "      <th></th>\n",
       "      <th>longitude</th>\n",
       "      <th>latitude</th>\n",
       "      <th>country</th>\n",
       "      <th>GLCT1970</th>\n",
       "      <th>GAREA1970</th>\n",
       "      <th>color1970</th>\n",
       "      <th>GLCT1975</th>\n",
       "      <th>GAREA1975</th>\n",
       "      <th>color1975</th>\n",
       "      <th>GLCT1980</th>\n",
       "      <th>...</th>\n",
       "      <th>GAREA2010</th>\n",
       "      <th>color2010</th>\n",
       "      <th>GLCT2015</th>\n",
       "      <th>GAREA2015</th>\n",
       "      <th>color2015</th>\n",
       "      <th>GLCT2020</th>\n",
       "      <th>GAREA2020</th>\n",
       "      <th>color2020</th>\n",
       "      <th>ISO Country</th>\n",
       "      <th>IMAGE Region Name</th>\n",
       "    </tr>\n",
       "  </thead>\n",
       "  <tbody>\n",
       "    <tr>\n",
       "      <th>0</th>\n",
       "      <td>-179.958333</td>\n",
       "      <td>-16.875000</td>\n",
       "      <td>Fiji</td>\n",
       "      <td>trof1970</td>\n",
       "      <td>0.000000</td>\n",
       "      <td>#799351</td>\n",
       "      <td>trof1975</td>\n",
       "      <td>0.000000</td>\n",
       "      <td>#799351</td>\n",
       "      <td>trof1980</td>\n",
       "      <td>...</td>\n",
       "      <td>0.000000</td>\n",
       "      <td>#799351</td>\n",
       "      <td>trof2015</td>\n",
       "      <td>0.000000</td>\n",
       "      <td>#799351</td>\n",
       "      <td>trof2020</td>\n",
       "      <td>0.000000</td>\n",
       "      <td>#799351</td>\n",
       "      <td>Fiji</td>\n",
       "      <td>Oceania</td>\n",
       "    </tr>\n",
       "    <tr>\n",
       "      <th>1</th>\n",
       "      <td>-179.958333</td>\n",
       "      <td>-16.791666</td>\n",
       "      <td>Fiji</td>\n",
       "      <td>trof1970</td>\n",
       "      <td>0.000000</td>\n",
       "      <td>#799351</td>\n",
       "      <td>trof1975</td>\n",
       "      <td>0.000000</td>\n",
       "      <td>#799351</td>\n",
       "      <td>trof1980</td>\n",
       "      <td>...</td>\n",
       "      <td>0.000000</td>\n",
       "      <td>#799351</td>\n",
       "      <td>trof2015</td>\n",
       "      <td>0.000000</td>\n",
       "      <td>#799351</td>\n",
       "      <td>trof2020</td>\n",
       "      <td>0.000000</td>\n",
       "      <td>#799351</td>\n",
       "      <td>Fiji</td>\n",
       "      <td>Oceania</td>\n",
       "    </tr>\n",
       "    <tr>\n",
       "      <th>2</th>\n",
       "      <td>-179.958333</td>\n",
       "      <td>-16.541666</td>\n",
       "      <td>Fiji</td>\n",
       "      <td>trof1970</td>\n",
       "      <td>2845.649902</td>\n",
       "      <td>#799351</td>\n",
       "      <td>trof1975</td>\n",
       "      <td>2845.649902</td>\n",
       "      <td>#799351</td>\n",
       "      <td>trof1980</td>\n",
       "      <td>...</td>\n",
       "      <td>2845.649902</td>\n",
       "      <td>#799351</td>\n",
       "      <td>trof2015</td>\n",
       "      <td>2845.649902</td>\n",
       "      <td>#799351</td>\n",
       "      <td>trof2020</td>\n",
       "      <td>2845.649902</td>\n",
       "      <td>#799351</td>\n",
       "      <td>Fiji</td>\n",
       "      <td>Oceania</td>\n",
       "    </tr>\n",
       "    <tr>\n",
       "      <th>3</th>\n",
       "      <td>-179.875000</td>\n",
       "      <td>-16.791666</td>\n",
       "      <td>Fiji</td>\n",
       "      <td>trof1970</td>\n",
       "      <td>0.000000</td>\n",
       "      <td>#799351</td>\n",
       "      <td>trof1975</td>\n",
       "      <td>0.000000</td>\n",
       "      <td>#799351</td>\n",
       "      <td>trof1980</td>\n",
       "      <td>...</td>\n",
       "      <td>0.000000</td>\n",
       "      <td>#799351</td>\n",
       "      <td>trof2015</td>\n",
       "      <td>0.000000</td>\n",
       "      <td>#799351</td>\n",
       "      <td>trof2020</td>\n",
       "      <td>0.000000</td>\n",
       "      <td>#799351</td>\n",
       "      <td>Fiji</td>\n",
       "      <td>Oceania</td>\n",
       "    </tr>\n",
       "    <tr>\n",
       "      <th>4</th>\n",
       "      <td>-179.875000</td>\n",
       "      <td>-16.708333</td>\n",
       "      <td>Fiji</td>\n",
       "      <td>trof1970</td>\n",
       "      <td>0.000000</td>\n",
       "      <td>#799351</td>\n",
       "      <td>trof1975</td>\n",
       "      <td>0.000000</td>\n",
       "      <td>#799351</td>\n",
       "      <td>trof1980</td>\n",
       "      <td>...</td>\n",
       "      <td>0.000000</td>\n",
       "      <td>#799351</td>\n",
       "      <td>trof2015</td>\n",
       "      <td>0.000000</td>\n",
       "      <td>#799351</td>\n",
       "      <td>trof2020</td>\n",
       "      <td>0.000000</td>\n",
       "      <td>#799351</td>\n",
       "      <td>Fiji</td>\n",
       "      <td>Oceania</td>\n",
       "    </tr>\n",
       "    <tr>\n",
       "      <th>...</th>\n",
       "      <td>...</td>\n",
       "      <td>...</td>\n",
       "      <td>...</td>\n",
       "      <td>...</td>\n",
       "      <td>...</td>\n",
       "      <td>...</td>\n",
       "      <td>...</td>\n",
       "      <td>...</td>\n",
       "      <td>...</td>\n",
       "      <td>...</td>\n",
       "      <td>...</td>\n",
       "      <td>...</td>\n",
       "      <td>...</td>\n",
       "      <td>...</td>\n",
       "      <td>...</td>\n",
       "      <td>...</td>\n",
       "      <td>...</td>\n",
       "      <td>...</td>\n",
       "      <td>...</td>\n",
       "      <td>...</td>\n",
       "      <td>...</td>\n",
       "    </tr>\n",
       "    <tr>\n",
       "      <th>2215824</th>\n",
       "      <td>152.124999</td>\n",
       "      <td>-24.791666</td>\n",
       "      <td>Australia</td>\n",
       "      <td>svna1970</td>\n",
       "      <td>7794.999512</td>\n",
       "      <td>#D10363</td>\n",
       "      <td>svna1975</td>\n",
       "      <td>7794.999512</td>\n",
       "      <td>#D10363</td>\n",
       "      <td>svna1980</td>\n",
       "      <td>...</td>\n",
       "      <td>7794.999512</td>\n",
       "      <td>#F3CA52</td>\n",
       "      <td>agri2015</td>\n",
       "      <td>7794.999512</td>\n",
       "      <td>#F3CA52</td>\n",
       "      <td>agri2020</td>\n",
       "      <td>7794.999512</td>\n",
       "      <td>#F3CA52</td>\n",
       "      <td>Australia</td>\n",
       "      <td>Oceania</td>\n",
       "    </tr>\n",
       "    <tr>\n",
       "      <th>2215825</th>\n",
       "      <td>152.124999</td>\n",
       "      <td>-24.708333</td>\n",
       "      <td>Australia</td>\n",
       "      <td>svna1970</td>\n",
       "      <td>7800.229492</td>\n",
       "      <td>#D10363</td>\n",
       "      <td>svna1975</td>\n",
       "      <td>7800.229492</td>\n",
       "      <td>#D10363</td>\n",
       "      <td>svna1980</td>\n",
       "      <td>...</td>\n",
       "      <td>7800.229492</td>\n",
       "      <td>#D10363</td>\n",
       "      <td>svna2015</td>\n",
       "      <td>7800.229492</td>\n",
       "      <td>#D10363</td>\n",
       "      <td>svna2020</td>\n",
       "      <td>7800.229492</td>\n",
       "      <td>#D10363</td>\n",
       "      <td>Australia</td>\n",
       "      <td>Oceania</td>\n",
       "    </tr>\n",
       "    <tr>\n",
       "      <th>2215826</th>\n",
       "      <td>152.124999</td>\n",
       "      <td>-24.625000</td>\n",
       "      <td>Australia</td>\n",
       "      <td>svna1970</td>\n",
       "      <td>5697.569824</td>\n",
       "      <td>#D10363</td>\n",
       "      <td>svna1975</td>\n",
       "      <td>5697.569824</td>\n",
       "      <td>#D10363</td>\n",
       "      <td>svna1980</td>\n",
       "      <td>...</td>\n",
       "      <td>5697.569824</td>\n",
       "      <td>#D10363</td>\n",
       "      <td>svna2015</td>\n",
       "      <td>5697.569824</td>\n",
       "      <td>#D10363</td>\n",
       "      <td>svna2020</td>\n",
       "      <td>5697.569824</td>\n",
       "      <td>#D10363</td>\n",
       "      <td>Australia</td>\n",
       "      <td>Oceania</td>\n",
       "    </tr>\n",
       "    <tr>\n",
       "      <th>2215827</th>\n",
       "      <td>152.374999</td>\n",
       "      <td>-24.708333</td>\n",
       "      <td>Australia</td>\n",
       "      <td>svna1970</td>\n",
       "      <td>606.515991</td>\n",
       "      <td>#D10363</td>\n",
       "      <td>svna1975</td>\n",
       "      <td>606.515991</td>\n",
       "      <td>#D10363</td>\n",
       "      <td>svna1980</td>\n",
       "      <td>...</td>\n",
       "      <td>606.515991</td>\n",
       "      <td>#D10363</td>\n",
       "      <td>svna2015</td>\n",
       "      <td>606.515991</td>\n",
       "      <td>#D10363</td>\n",
       "      <td>svna2020</td>\n",
       "      <td>606.515991</td>\n",
       "      <td>#D10363</td>\n",
       "      <td>Australia</td>\n",
       "      <td>Oceania</td>\n",
       "    </tr>\n",
       "    <tr>\n",
       "      <th>2215828</th>\n",
       "      <td>152.458332</td>\n",
       "      <td>-24.958333</td>\n",
       "      <td>Australia</td>\n",
       "      <td>svna1970</td>\n",
       "      <td>6886.293945</td>\n",
       "      <td>#D10363</td>\n",
       "      <td>svna1975</td>\n",
       "      <td>6919.460449</td>\n",
       "      <td>#D10363</td>\n",
       "      <td>svna1980</td>\n",
       "      <td>...</td>\n",
       "      <td>6919.460449</td>\n",
       "      <td>#D10363</td>\n",
       "      <td>svna2015</td>\n",
       "      <td>6919.460449</td>\n",
       "      <td>#D10363</td>\n",
       "      <td>svna2020</td>\n",
       "      <td>6830.983887</td>\n",
       "      <td>#D10363</td>\n",
       "      <td>Australia</td>\n",
       "      <td>Oceania</td>\n",
       "    </tr>\n",
       "  </tbody>\n",
       "</table>\n",
       "<p>2215829 rows × 38 columns</p>\n",
       "</div>"
      ],
      "text/plain": [
       "          longitude   latitude    country  GLCT1970    GAREA1970 color1970  \\\n",
       "0       -179.958333 -16.875000       Fiji  trof1970     0.000000   #799351   \n",
       "1       -179.958333 -16.791666       Fiji  trof1970     0.000000   #799351   \n",
       "2       -179.958333 -16.541666       Fiji  trof1970  2845.649902   #799351   \n",
       "3       -179.875000 -16.791666       Fiji  trof1970     0.000000   #799351   \n",
       "4       -179.875000 -16.708333       Fiji  trof1970     0.000000   #799351   \n",
       "...             ...        ...        ...       ...          ...       ...   \n",
       "2215824  152.124999 -24.791666  Australia  svna1970  7794.999512   #D10363   \n",
       "2215825  152.124999 -24.708333  Australia  svna1970  7800.229492   #D10363   \n",
       "2215826  152.124999 -24.625000  Australia  svna1970  5697.569824   #D10363   \n",
       "2215827  152.374999 -24.708333  Australia  svna1970   606.515991   #D10363   \n",
       "2215828  152.458332 -24.958333  Australia  svna1970  6886.293945   #D10363   \n",
       "\n",
       "         GLCT1975    GAREA1975 color1975  GLCT1980  ...    GAREA2010  \\\n",
       "0        trof1975     0.000000   #799351  trof1980  ...     0.000000   \n",
       "1        trof1975     0.000000   #799351  trof1980  ...     0.000000   \n",
       "2        trof1975  2845.649902   #799351  trof1980  ...  2845.649902   \n",
       "3        trof1975     0.000000   #799351  trof1980  ...     0.000000   \n",
       "4        trof1975     0.000000   #799351  trof1980  ...     0.000000   \n",
       "...           ...          ...       ...       ...  ...          ...   \n",
       "2215824  svna1975  7794.999512   #D10363  svna1980  ...  7794.999512   \n",
       "2215825  svna1975  7800.229492   #D10363  svna1980  ...  7800.229492   \n",
       "2215826  svna1975  5697.569824   #D10363  svna1980  ...  5697.569824   \n",
       "2215827  svna1975   606.515991   #D10363  svna1980  ...   606.515991   \n",
       "2215828  svna1975  6919.460449   #D10363  svna1980  ...  6919.460449   \n",
       "\n",
       "        color2010  GLCT2015    GAREA2015 color2015  GLCT2020    GAREA2020  \\\n",
       "0         #799351  trof2015     0.000000   #799351  trof2020     0.000000   \n",
       "1         #799351  trof2015     0.000000   #799351  trof2020     0.000000   \n",
       "2         #799351  trof2015  2845.649902   #799351  trof2020  2845.649902   \n",
       "3         #799351  trof2015     0.000000   #799351  trof2020     0.000000   \n",
       "4         #799351  trof2015     0.000000   #799351  trof2020     0.000000   \n",
       "...           ...       ...          ...       ...       ...          ...   \n",
       "2215824   #F3CA52  agri2015  7794.999512   #F3CA52  agri2020  7794.999512   \n",
       "2215825   #D10363  svna2015  7800.229492   #D10363  svna2020  7800.229492   \n",
       "2215826   #D10363  svna2015  5697.569824   #D10363  svna2020  5697.569824   \n",
       "2215827   #D10363  svna2015   606.515991   #D10363  svna2020   606.515991   \n",
       "2215828   #D10363  svna2015  6919.460449   #D10363  svna2020  6830.983887   \n",
       "\n",
       "        color2020 ISO Country  IMAGE Region Name  \n",
       "0         #799351        Fiji            Oceania  \n",
       "1         #799351        Fiji            Oceania  \n",
       "2         #799351        Fiji            Oceania  \n",
       "3         #799351        Fiji            Oceania  \n",
       "4         #799351        Fiji            Oceania  \n",
       "...           ...         ...                ...  \n",
       "2215824   #F3CA52   Australia            Oceania  \n",
       "2215825   #D10363   Australia            Oceania  \n",
       "2215826   #D10363   Australia            Oceania  \n",
       "2215827   #D10363   Australia            Oceania  \n",
       "2215828   #D10363   Australia            Oceania  \n",
       "\n",
       "[2215829 rows x 38 columns]"
      ]
     },
     "execution_count": 33,
     "metadata": {},
     "output_type": "execute_result"
    }
   ],
   "source": [
    "merged_df_region = pd.merge(left=merged_df, right=ccode_iso_column, how=\"left\", left_on=\"country\", right_on=\"ISO Country\")\n",
    "merged_df_region"
   ]
  },
  {
   "cell_type": "code",
   "execution_count": 34,
   "metadata": {},
   "outputs": [
    {
     "data": {
      "text/html": [
       "<div>\n",
       "<style scoped>\n",
       "    .dataframe tbody tr th:only-of-type {\n",
       "        vertical-align: middle;\n",
       "    }\n",
       "\n",
       "    .dataframe tbody tr th {\n",
       "        vertical-align: top;\n",
       "    }\n",
       "\n",
       "    .dataframe thead th {\n",
       "        text-align: right;\n",
       "    }\n",
       "</style>\n",
       "<table border=\"1\" class=\"dataframe\">\n",
       "  <thead>\n",
       "    <tr style=\"text-align: right;\">\n",
       "      <th></th>\n",
       "      <th>longitude</th>\n",
       "      <th>latitude</th>\n",
       "      <th>country</th>\n",
       "      <th>IMAGE Region Name</th>\n",
       "      <th>GLCT1970</th>\n",
       "      <th>GAREA1970</th>\n",
       "      <th>color1970</th>\n",
       "      <th>GLCT1975</th>\n",
       "      <th>GAREA1975</th>\n",
       "      <th>color1975</th>\n",
       "      <th>...</th>\n",
       "      <th>color2005</th>\n",
       "      <th>GLCT2010</th>\n",
       "      <th>GAREA2010</th>\n",
       "      <th>color2010</th>\n",
       "      <th>GLCT2015</th>\n",
       "      <th>GAREA2015</th>\n",
       "      <th>color2015</th>\n",
       "      <th>GLCT2020</th>\n",
       "      <th>GAREA2020</th>\n",
       "      <th>color2020</th>\n",
       "    </tr>\n",
       "  </thead>\n",
       "  <tbody>\n",
       "    <tr>\n",
       "      <th>0</th>\n",
       "      <td>-179.958333</td>\n",
       "      <td>-16.875000</td>\n",
       "      <td>Fiji</td>\n",
       "      <td>Oceania</td>\n",
       "      <td>trof1970</td>\n",
       "      <td>0.000000</td>\n",
       "      <td>#799351</td>\n",
       "      <td>trof1975</td>\n",
       "      <td>0.000000</td>\n",
       "      <td>#799351</td>\n",
       "      <td>...</td>\n",
       "      <td>#799351</td>\n",
       "      <td>trof2010</td>\n",
       "      <td>0.000000</td>\n",
       "      <td>#799351</td>\n",
       "      <td>trof2015</td>\n",
       "      <td>0.000000</td>\n",
       "      <td>#799351</td>\n",
       "      <td>trof2020</td>\n",
       "      <td>0.000000</td>\n",
       "      <td>#799351</td>\n",
       "    </tr>\n",
       "    <tr>\n",
       "      <th>1</th>\n",
       "      <td>-179.958333</td>\n",
       "      <td>-16.791666</td>\n",
       "      <td>Fiji</td>\n",
       "      <td>Oceania</td>\n",
       "      <td>trof1970</td>\n",
       "      <td>0.000000</td>\n",
       "      <td>#799351</td>\n",
       "      <td>trof1975</td>\n",
       "      <td>0.000000</td>\n",
       "      <td>#799351</td>\n",
       "      <td>...</td>\n",
       "      <td>#799351</td>\n",
       "      <td>trof2010</td>\n",
       "      <td>0.000000</td>\n",
       "      <td>#799351</td>\n",
       "      <td>trof2015</td>\n",
       "      <td>0.000000</td>\n",
       "      <td>#799351</td>\n",
       "      <td>trof2020</td>\n",
       "      <td>0.000000</td>\n",
       "      <td>#799351</td>\n",
       "    </tr>\n",
       "    <tr>\n",
       "      <th>2</th>\n",
       "      <td>-179.958333</td>\n",
       "      <td>-16.541666</td>\n",
       "      <td>Fiji</td>\n",
       "      <td>Oceania</td>\n",
       "      <td>trof1970</td>\n",
       "      <td>2845.649902</td>\n",
       "      <td>#799351</td>\n",
       "      <td>trof1975</td>\n",
       "      <td>2845.649902</td>\n",
       "      <td>#799351</td>\n",
       "      <td>...</td>\n",
       "      <td>#799351</td>\n",
       "      <td>trof2010</td>\n",
       "      <td>2845.649902</td>\n",
       "      <td>#799351</td>\n",
       "      <td>trof2015</td>\n",
       "      <td>2845.649902</td>\n",
       "      <td>#799351</td>\n",
       "      <td>trof2020</td>\n",
       "      <td>2845.649902</td>\n",
       "      <td>#799351</td>\n",
       "    </tr>\n",
       "    <tr>\n",
       "      <th>3</th>\n",
       "      <td>-179.875000</td>\n",
       "      <td>-16.791666</td>\n",
       "      <td>Fiji</td>\n",
       "      <td>Oceania</td>\n",
       "      <td>trof1970</td>\n",
       "      <td>0.000000</td>\n",
       "      <td>#799351</td>\n",
       "      <td>trof1975</td>\n",
       "      <td>0.000000</td>\n",
       "      <td>#799351</td>\n",
       "      <td>...</td>\n",
       "      <td>#799351</td>\n",
       "      <td>trof2010</td>\n",
       "      <td>0.000000</td>\n",
       "      <td>#799351</td>\n",
       "      <td>trof2015</td>\n",
       "      <td>0.000000</td>\n",
       "      <td>#799351</td>\n",
       "      <td>trof2020</td>\n",
       "      <td>0.000000</td>\n",
       "      <td>#799351</td>\n",
       "    </tr>\n",
       "    <tr>\n",
       "      <th>4</th>\n",
       "      <td>-179.875000</td>\n",
       "      <td>-16.708333</td>\n",
       "      <td>Fiji</td>\n",
       "      <td>Oceania</td>\n",
       "      <td>trof1970</td>\n",
       "      <td>0.000000</td>\n",
       "      <td>#799351</td>\n",
       "      <td>trof1975</td>\n",
       "      <td>0.000000</td>\n",
       "      <td>#799351</td>\n",
       "      <td>...</td>\n",
       "      <td>#799351</td>\n",
       "      <td>trof2010</td>\n",
       "      <td>0.000000</td>\n",
       "      <td>#799351</td>\n",
       "      <td>trof2015</td>\n",
       "      <td>0.000000</td>\n",
       "      <td>#799351</td>\n",
       "      <td>trof2020</td>\n",
       "      <td>0.000000</td>\n",
       "      <td>#799351</td>\n",
       "    </tr>\n",
       "    <tr>\n",
       "      <th>...</th>\n",
       "      <td>...</td>\n",
       "      <td>...</td>\n",
       "      <td>...</td>\n",
       "      <td>...</td>\n",
       "      <td>...</td>\n",
       "      <td>...</td>\n",
       "      <td>...</td>\n",
       "      <td>...</td>\n",
       "      <td>...</td>\n",
       "      <td>...</td>\n",
       "      <td>...</td>\n",
       "      <td>...</td>\n",
       "      <td>...</td>\n",
       "      <td>...</td>\n",
       "      <td>...</td>\n",
       "      <td>...</td>\n",
       "      <td>...</td>\n",
       "      <td>...</td>\n",
       "      <td>...</td>\n",
       "      <td>...</td>\n",
       "      <td>...</td>\n",
       "    </tr>\n",
       "    <tr>\n",
       "      <th>2215824</th>\n",
       "      <td>152.124999</td>\n",
       "      <td>-24.791666</td>\n",
       "      <td>Australia</td>\n",
       "      <td>Oceania</td>\n",
       "      <td>svna1970</td>\n",
       "      <td>7794.999512</td>\n",
       "      <td>#D10363</td>\n",
       "      <td>svna1975</td>\n",
       "      <td>7794.999512</td>\n",
       "      <td>#D10363</td>\n",
       "      <td>...</td>\n",
       "      <td>#F3CA52</td>\n",
       "      <td>agri2010</td>\n",
       "      <td>7794.999512</td>\n",
       "      <td>#F3CA52</td>\n",
       "      <td>agri2015</td>\n",
       "      <td>7794.999512</td>\n",
       "      <td>#F3CA52</td>\n",
       "      <td>agri2020</td>\n",
       "      <td>7794.999512</td>\n",
       "      <td>#F3CA52</td>\n",
       "    </tr>\n",
       "    <tr>\n",
       "      <th>2215825</th>\n",
       "      <td>152.124999</td>\n",
       "      <td>-24.708333</td>\n",
       "      <td>Australia</td>\n",
       "      <td>Oceania</td>\n",
       "      <td>svna1970</td>\n",
       "      <td>7800.229492</td>\n",
       "      <td>#D10363</td>\n",
       "      <td>svna1975</td>\n",
       "      <td>7800.229492</td>\n",
       "      <td>#D10363</td>\n",
       "      <td>...</td>\n",
       "      <td>#D10363</td>\n",
       "      <td>svna2010</td>\n",
       "      <td>7800.229492</td>\n",
       "      <td>#D10363</td>\n",
       "      <td>svna2015</td>\n",
       "      <td>7800.229492</td>\n",
       "      <td>#D10363</td>\n",
       "      <td>svna2020</td>\n",
       "      <td>7800.229492</td>\n",
       "      <td>#D10363</td>\n",
       "    </tr>\n",
       "    <tr>\n",
       "      <th>2215826</th>\n",
       "      <td>152.124999</td>\n",
       "      <td>-24.625000</td>\n",
       "      <td>Australia</td>\n",
       "      <td>Oceania</td>\n",
       "      <td>svna1970</td>\n",
       "      <td>5697.569824</td>\n",
       "      <td>#D10363</td>\n",
       "      <td>svna1975</td>\n",
       "      <td>5697.569824</td>\n",
       "      <td>#D10363</td>\n",
       "      <td>...</td>\n",
       "      <td>#D10363</td>\n",
       "      <td>svna2010</td>\n",
       "      <td>5697.569824</td>\n",
       "      <td>#D10363</td>\n",
       "      <td>svna2015</td>\n",
       "      <td>5697.569824</td>\n",
       "      <td>#D10363</td>\n",
       "      <td>svna2020</td>\n",
       "      <td>5697.569824</td>\n",
       "      <td>#D10363</td>\n",
       "    </tr>\n",
       "    <tr>\n",
       "      <th>2215827</th>\n",
       "      <td>152.374999</td>\n",
       "      <td>-24.708333</td>\n",
       "      <td>Australia</td>\n",
       "      <td>Oceania</td>\n",
       "      <td>svna1970</td>\n",
       "      <td>606.515991</td>\n",
       "      <td>#D10363</td>\n",
       "      <td>svna1975</td>\n",
       "      <td>606.515991</td>\n",
       "      <td>#D10363</td>\n",
       "      <td>...</td>\n",
       "      <td>#D10363</td>\n",
       "      <td>svna2010</td>\n",
       "      <td>606.515991</td>\n",
       "      <td>#D10363</td>\n",
       "      <td>svna2015</td>\n",
       "      <td>606.515991</td>\n",
       "      <td>#D10363</td>\n",
       "      <td>svna2020</td>\n",
       "      <td>606.515991</td>\n",
       "      <td>#D10363</td>\n",
       "    </tr>\n",
       "    <tr>\n",
       "      <th>2215828</th>\n",
       "      <td>152.458332</td>\n",
       "      <td>-24.958333</td>\n",
       "      <td>Australia</td>\n",
       "      <td>Oceania</td>\n",
       "      <td>svna1970</td>\n",
       "      <td>6886.293945</td>\n",
       "      <td>#D10363</td>\n",
       "      <td>svna1975</td>\n",
       "      <td>6919.460449</td>\n",
       "      <td>#D10363</td>\n",
       "      <td>...</td>\n",
       "      <td>#D10363</td>\n",
       "      <td>svna2010</td>\n",
       "      <td>6919.460449</td>\n",
       "      <td>#D10363</td>\n",
       "      <td>svna2015</td>\n",
       "      <td>6919.460449</td>\n",
       "      <td>#D10363</td>\n",
       "      <td>svna2020</td>\n",
       "      <td>6830.983887</td>\n",
       "      <td>#D10363</td>\n",
       "    </tr>\n",
       "  </tbody>\n",
       "</table>\n",
       "<p>2215829 rows × 37 columns</p>\n",
       "</div>"
      ],
      "text/plain": [
       "          longitude   latitude    country IMAGE Region Name  GLCT1970  \\\n",
       "0       -179.958333 -16.875000       Fiji           Oceania  trof1970   \n",
       "1       -179.958333 -16.791666       Fiji           Oceania  trof1970   \n",
       "2       -179.958333 -16.541666       Fiji           Oceania  trof1970   \n",
       "3       -179.875000 -16.791666       Fiji           Oceania  trof1970   \n",
       "4       -179.875000 -16.708333       Fiji           Oceania  trof1970   \n",
       "...             ...        ...        ...               ...       ...   \n",
       "2215824  152.124999 -24.791666  Australia           Oceania  svna1970   \n",
       "2215825  152.124999 -24.708333  Australia           Oceania  svna1970   \n",
       "2215826  152.124999 -24.625000  Australia           Oceania  svna1970   \n",
       "2215827  152.374999 -24.708333  Australia           Oceania  svna1970   \n",
       "2215828  152.458332 -24.958333  Australia           Oceania  svna1970   \n",
       "\n",
       "           GAREA1970 color1970  GLCT1975    GAREA1975 color1975  ...  \\\n",
       "0           0.000000   #799351  trof1975     0.000000   #799351  ...   \n",
       "1           0.000000   #799351  trof1975     0.000000   #799351  ...   \n",
       "2        2845.649902   #799351  trof1975  2845.649902   #799351  ...   \n",
       "3           0.000000   #799351  trof1975     0.000000   #799351  ...   \n",
       "4           0.000000   #799351  trof1975     0.000000   #799351  ...   \n",
       "...              ...       ...       ...          ...       ...  ...   \n",
       "2215824  7794.999512   #D10363  svna1975  7794.999512   #D10363  ...   \n",
       "2215825  7800.229492   #D10363  svna1975  7800.229492   #D10363  ...   \n",
       "2215826  5697.569824   #D10363  svna1975  5697.569824   #D10363  ...   \n",
       "2215827   606.515991   #D10363  svna1975   606.515991   #D10363  ...   \n",
       "2215828  6886.293945   #D10363  svna1975  6919.460449   #D10363  ...   \n",
       "\n",
       "        color2005  GLCT2010    GAREA2010 color2010  GLCT2015    GAREA2015  \\\n",
       "0         #799351  trof2010     0.000000   #799351  trof2015     0.000000   \n",
       "1         #799351  trof2010     0.000000   #799351  trof2015     0.000000   \n",
       "2         #799351  trof2010  2845.649902   #799351  trof2015  2845.649902   \n",
       "3         #799351  trof2010     0.000000   #799351  trof2015     0.000000   \n",
       "4         #799351  trof2010     0.000000   #799351  trof2015     0.000000   \n",
       "...           ...       ...          ...       ...       ...          ...   \n",
       "2215824   #F3CA52  agri2010  7794.999512   #F3CA52  agri2015  7794.999512   \n",
       "2215825   #D10363  svna2010  7800.229492   #D10363  svna2015  7800.229492   \n",
       "2215826   #D10363  svna2010  5697.569824   #D10363  svna2015  5697.569824   \n",
       "2215827   #D10363  svna2010   606.515991   #D10363  svna2015   606.515991   \n",
       "2215828   #D10363  svna2010  6919.460449   #D10363  svna2015  6919.460449   \n",
       "\n",
       "        color2015  GLCT2020    GAREA2020 color2020  \n",
       "0         #799351  trof2020     0.000000   #799351  \n",
       "1         #799351  trof2020     0.000000   #799351  \n",
       "2         #799351  trof2020  2845.649902   #799351  \n",
       "3         #799351  trof2020     0.000000   #799351  \n",
       "4         #799351  trof2020     0.000000   #799351  \n",
       "...           ...       ...          ...       ...  \n",
       "2215824   #F3CA52  agri2020  7794.999512   #F3CA52  \n",
       "2215825   #D10363  svna2020  7800.229492   #D10363  \n",
       "2215826   #D10363  svna2020  5697.569824   #D10363  \n",
       "2215827   #D10363  svna2020   606.515991   #D10363  \n",
       "2215828   #D10363  svna2020  6830.983887   #D10363  \n",
       "\n",
       "[2215829 rows x 37 columns]"
      ]
     },
     "execution_count": 34,
     "metadata": {},
     "output_type": "execute_result"
    }
   ],
   "source": [
    "merged_df_region_columns = merged_df_region[['longitude', 'latitude', 'country','IMAGE Region Name',\n",
    "       'GLCT1970', 'GAREA1970', 'color1970', 'GLCT1975', 'GAREA1975',\n",
    "       'color1975', 'GLCT1980', 'GAREA1980', 'color1980', 'GLCT1985',\n",
    "       'GAREA1985', 'color1985', 'GLCT1990', 'GAREA1990', 'color1990',\n",
    "       'GLCT1995', 'GAREA1995', 'color1995', 'GLCT2000', 'GAREA2000',\n",
    "       'color2000', 'GLCT2005', 'GAREA2005', 'color2005', 'GLCT2010',\n",
    "       'GAREA2010', 'color2010', 'GLCT2015', 'GAREA2015', 'color2015',\n",
    "       'GLCT2020', 'GAREA2020', 'color2020']]\n",
    "merged_df_region_columns"
   ]
  },
  {
   "cell_type": "code",
   "execution_count": 35,
   "metadata": {},
   "outputs": [
    {
     "data": {
      "text/html": [
       "<div>\n",
       "<style scoped>\n",
       "    .dataframe tbody tr th:only-of-type {\n",
       "        vertical-align: middle;\n",
       "    }\n",
       "\n",
       "    .dataframe tbody tr th {\n",
       "        vertical-align: top;\n",
       "    }\n",
       "\n",
       "    .dataframe thead th {\n",
       "        text-align: right;\n",
       "    }\n",
       "</style>\n",
       "<table border=\"1\" class=\"dataframe\">\n",
       "  <thead>\n",
       "    <tr style=\"text-align: right;\">\n",
       "      <th></th>\n",
       "      <th>country</th>\n",
       "      <th>IMAGE Region Name</th>\n",
       "      <th>GLCT1970</th>\n",
       "      <th>GAREA1970</th>\n",
       "      <th>color1970</th>\n",
       "      <th>GLCT1975</th>\n",
       "      <th>GAREA1975</th>\n",
       "      <th>color1975</th>\n",
       "      <th>GLCT1980</th>\n",
       "      <th>GAREA1980</th>\n",
       "      <th>...</th>\n",
       "      <th>color2005</th>\n",
       "      <th>GLCT2010</th>\n",
       "      <th>GAREA2010</th>\n",
       "      <th>color2010</th>\n",
       "      <th>GLCT2015</th>\n",
       "      <th>GAREA2015</th>\n",
       "      <th>color2015</th>\n",
       "      <th>GLCT2020</th>\n",
       "      <th>GAREA2020</th>\n",
       "      <th>color2020</th>\n",
       "    </tr>\n",
       "  </thead>\n",
       "  <tbody>\n",
       "    <tr>\n",
       "      <th>0</th>\n",
       "      <td>Fiji</td>\n",
       "      <td>Oceania</td>\n",
       "      <td>trof1970</td>\n",
       "      <td>0.000000</td>\n",
       "      <td>#799351</td>\n",
       "      <td>trof1975</td>\n",
       "      <td>0.000000</td>\n",
       "      <td>#799351</td>\n",
       "      <td>trof1980</td>\n",
       "      <td>0.000000</td>\n",
       "      <td>...</td>\n",
       "      <td>#799351</td>\n",
       "      <td>trof2010</td>\n",
       "      <td>0.000000</td>\n",
       "      <td>#799351</td>\n",
       "      <td>trof2015</td>\n",
       "      <td>0.000000</td>\n",
       "      <td>#799351</td>\n",
       "      <td>trof2020</td>\n",
       "      <td>0.000000</td>\n",
       "      <td>#799351</td>\n",
       "    </tr>\n",
       "    <tr>\n",
       "      <th>1</th>\n",
       "      <td>Fiji</td>\n",
       "      <td>Oceania</td>\n",
       "      <td>trof1970</td>\n",
       "      <td>0.000000</td>\n",
       "      <td>#799351</td>\n",
       "      <td>trof1975</td>\n",
       "      <td>0.000000</td>\n",
       "      <td>#799351</td>\n",
       "      <td>trof1980</td>\n",
       "      <td>0.000000</td>\n",
       "      <td>...</td>\n",
       "      <td>#799351</td>\n",
       "      <td>trof2010</td>\n",
       "      <td>0.000000</td>\n",
       "      <td>#799351</td>\n",
       "      <td>trof2015</td>\n",
       "      <td>0.000000</td>\n",
       "      <td>#799351</td>\n",
       "      <td>trof2020</td>\n",
       "      <td>0.000000</td>\n",
       "      <td>#799351</td>\n",
       "    </tr>\n",
       "    <tr>\n",
       "      <th>2</th>\n",
       "      <td>Fiji</td>\n",
       "      <td>Oceania</td>\n",
       "      <td>trof1970</td>\n",
       "      <td>2845.649902</td>\n",
       "      <td>#799351</td>\n",
       "      <td>trof1975</td>\n",
       "      <td>2845.649902</td>\n",
       "      <td>#799351</td>\n",
       "      <td>trof1980</td>\n",
       "      <td>2845.649902</td>\n",
       "      <td>...</td>\n",
       "      <td>#799351</td>\n",
       "      <td>trof2010</td>\n",
       "      <td>2845.649902</td>\n",
       "      <td>#799351</td>\n",
       "      <td>trof2015</td>\n",
       "      <td>2845.649902</td>\n",
       "      <td>#799351</td>\n",
       "      <td>trof2020</td>\n",
       "      <td>2845.649902</td>\n",
       "      <td>#799351</td>\n",
       "    </tr>\n",
       "    <tr>\n",
       "      <th>3</th>\n",
       "      <td>Fiji</td>\n",
       "      <td>Oceania</td>\n",
       "      <td>trof1970</td>\n",
       "      <td>0.000000</td>\n",
       "      <td>#799351</td>\n",
       "      <td>trof1975</td>\n",
       "      <td>0.000000</td>\n",
       "      <td>#799351</td>\n",
       "      <td>trof1980</td>\n",
       "      <td>0.000000</td>\n",
       "      <td>...</td>\n",
       "      <td>#799351</td>\n",
       "      <td>trof2010</td>\n",
       "      <td>0.000000</td>\n",
       "      <td>#799351</td>\n",
       "      <td>trof2015</td>\n",
       "      <td>0.000000</td>\n",
       "      <td>#799351</td>\n",
       "      <td>trof2020</td>\n",
       "      <td>0.000000</td>\n",
       "      <td>#799351</td>\n",
       "    </tr>\n",
       "    <tr>\n",
       "      <th>4</th>\n",
       "      <td>Fiji</td>\n",
       "      <td>Oceania</td>\n",
       "      <td>trof1970</td>\n",
       "      <td>0.000000</td>\n",
       "      <td>#799351</td>\n",
       "      <td>trof1975</td>\n",
       "      <td>0.000000</td>\n",
       "      <td>#799351</td>\n",
       "      <td>trof1980</td>\n",
       "      <td>0.000000</td>\n",
       "      <td>...</td>\n",
       "      <td>#799351</td>\n",
       "      <td>trof2010</td>\n",
       "      <td>0.000000</td>\n",
       "      <td>#799351</td>\n",
       "      <td>trof2015</td>\n",
       "      <td>0.000000</td>\n",
       "      <td>#799351</td>\n",
       "      <td>trof2020</td>\n",
       "      <td>0.000000</td>\n",
       "      <td>#799351</td>\n",
       "    </tr>\n",
       "  </tbody>\n",
       "</table>\n",
       "<p>5 rows × 35 columns</p>\n",
       "</div>"
      ],
      "text/plain": [
       "  country IMAGE Region Name  GLCT1970    GAREA1970 color1970  GLCT1975  \\\n",
       "0    Fiji           Oceania  trof1970     0.000000   #799351  trof1975   \n",
       "1    Fiji           Oceania  trof1970     0.000000   #799351  trof1975   \n",
       "2    Fiji           Oceania  trof1970  2845.649902   #799351  trof1975   \n",
       "3    Fiji           Oceania  trof1970     0.000000   #799351  trof1975   \n",
       "4    Fiji           Oceania  trof1970     0.000000   #799351  trof1975   \n",
       "\n",
       "     GAREA1975 color1975  GLCT1980    GAREA1980  ... color2005  GLCT2010  \\\n",
       "0     0.000000   #799351  trof1980     0.000000  ...   #799351  trof2010   \n",
       "1     0.000000   #799351  trof1980     0.000000  ...   #799351  trof2010   \n",
       "2  2845.649902   #799351  trof1980  2845.649902  ...   #799351  trof2010   \n",
       "3     0.000000   #799351  trof1980     0.000000  ...   #799351  trof2010   \n",
       "4     0.000000   #799351  trof1980     0.000000  ...   #799351  trof2010   \n",
       "\n",
       "     GAREA2010 color2010  GLCT2015    GAREA2015 color2015  GLCT2020  \\\n",
       "0     0.000000   #799351  trof2015     0.000000   #799351  trof2020   \n",
       "1     0.000000   #799351  trof2015     0.000000   #799351  trof2020   \n",
       "2  2845.649902   #799351  trof2015  2845.649902   #799351  trof2020   \n",
       "3     0.000000   #799351  trof2015     0.000000   #799351  trof2020   \n",
       "4     0.000000   #799351  trof2015     0.000000   #799351  trof2020   \n",
       "\n",
       "     GAREA2020 color2020  \n",
       "0     0.000000   #799351  \n",
       "1     0.000000   #799351  \n",
       "2  2845.649902   #799351  \n",
       "3     0.000000   #799351  \n",
       "4     0.000000   #799351  \n",
       "\n",
       "[5 rows x 35 columns]"
      ]
     },
     "execution_count": 35,
     "metadata": {},
     "output_type": "execute_result"
    }
   ],
   "source": [
    "merged_df_columns = merged_df_region_columns.drop(columns=['longitude','latitude'])\n",
    "merged_df_columns.head()"
   ]
  },
  {
   "cell_type": "code",
   "execution_count": 36,
   "metadata": {},
   "outputs": [],
   "source": [
    "merged_df_columns.to_csv(\"/vol/milkunarc/cadlan/stream_2/Step5/sankey_garea_finall_region.csv\", index=False)"
   ]
  },
  {
   "cell_type": "code",
   "execution_count": 1,
   "metadata": {},
   "outputs": [
    {
     "data": {
      "text/html": [
       "<div>\n",
       "<style scoped>\n",
       "    .dataframe tbody tr th:only-of-type {\n",
       "        vertical-align: middle;\n",
       "    }\n",
       "\n",
       "    .dataframe tbody tr th {\n",
       "        vertical-align: top;\n",
       "    }\n",
       "\n",
       "    .dataframe thead th {\n",
       "        text-align: right;\n",
       "    }\n",
       "</style>\n",
       "<table border=\"1\" class=\"dataframe\">\n",
       "  <thead>\n",
       "    <tr style=\"text-align: right;\">\n",
       "      <th></th>\n",
       "      <th>country</th>\n",
       "      <th>IMAGE Region Name</th>\n",
       "      <th>GLCT1970</th>\n",
       "      <th>GAREA1970</th>\n",
       "      <th>color1970</th>\n",
       "      <th>GLCT1975</th>\n",
       "      <th>GAREA1975</th>\n",
       "      <th>color1975</th>\n",
       "      <th>GLCT1980</th>\n",
       "      <th>GAREA1980</th>\n",
       "      <th>...</th>\n",
       "      <th>color2005</th>\n",
       "      <th>GLCT2010</th>\n",
       "      <th>GAREA2010</th>\n",
       "      <th>color2010</th>\n",
       "      <th>GLCT2015</th>\n",
       "      <th>GAREA2015</th>\n",
       "      <th>color2015</th>\n",
       "      <th>GLCT2020</th>\n",
       "      <th>GAREA2020</th>\n",
       "      <th>color2020</th>\n",
       "    </tr>\n",
       "  </thead>\n",
       "  <tbody>\n",
       "    <tr>\n",
       "      <th>0</th>\n",
       "      <td>Fiji</td>\n",
       "      <td>Oceania</td>\n",
       "      <td>trof1970</td>\n",
       "      <td>0.00</td>\n",
       "      <td>#799351</td>\n",
       "      <td>trof1975</td>\n",
       "      <td>0.00</td>\n",
       "      <td>#799351</td>\n",
       "      <td>trof1980</td>\n",
       "      <td>0.00</td>\n",
       "      <td>...</td>\n",
       "      <td>#799351</td>\n",
       "      <td>trof2010</td>\n",
       "      <td>0.00</td>\n",
       "      <td>#799351</td>\n",
       "      <td>trof2015</td>\n",
       "      <td>0.00</td>\n",
       "      <td>#799351</td>\n",
       "      <td>trof2020</td>\n",
       "      <td>0.00</td>\n",
       "      <td>#799351</td>\n",
       "    </tr>\n",
       "    <tr>\n",
       "      <th>1</th>\n",
       "      <td>Fiji</td>\n",
       "      <td>Oceania</td>\n",
       "      <td>trof1970</td>\n",
       "      <td>0.00</td>\n",
       "      <td>#799351</td>\n",
       "      <td>trof1975</td>\n",
       "      <td>0.00</td>\n",
       "      <td>#799351</td>\n",
       "      <td>trof1980</td>\n",
       "      <td>0.00</td>\n",
       "      <td>...</td>\n",
       "      <td>#799351</td>\n",
       "      <td>trof2010</td>\n",
       "      <td>0.00</td>\n",
       "      <td>#799351</td>\n",
       "      <td>trof2015</td>\n",
       "      <td>0.00</td>\n",
       "      <td>#799351</td>\n",
       "      <td>trof2020</td>\n",
       "      <td>0.00</td>\n",
       "      <td>#799351</td>\n",
       "    </tr>\n",
       "    <tr>\n",
       "      <th>2</th>\n",
       "      <td>Fiji</td>\n",
       "      <td>Oceania</td>\n",
       "      <td>trof1970</td>\n",
       "      <td>2845.65</td>\n",
       "      <td>#799351</td>\n",
       "      <td>trof1975</td>\n",
       "      <td>2845.65</td>\n",
       "      <td>#799351</td>\n",
       "      <td>trof1980</td>\n",
       "      <td>2845.65</td>\n",
       "      <td>...</td>\n",
       "      <td>#799351</td>\n",
       "      <td>trof2010</td>\n",
       "      <td>2845.65</td>\n",
       "      <td>#799351</td>\n",
       "      <td>trof2015</td>\n",
       "      <td>2845.65</td>\n",
       "      <td>#799351</td>\n",
       "      <td>trof2020</td>\n",
       "      <td>2845.65</td>\n",
       "      <td>#799351</td>\n",
       "    </tr>\n",
       "    <tr>\n",
       "      <th>3</th>\n",
       "      <td>Fiji</td>\n",
       "      <td>Oceania</td>\n",
       "      <td>trof1970</td>\n",
       "      <td>0.00</td>\n",
       "      <td>#799351</td>\n",
       "      <td>trof1975</td>\n",
       "      <td>0.00</td>\n",
       "      <td>#799351</td>\n",
       "      <td>trof1980</td>\n",
       "      <td>0.00</td>\n",
       "      <td>...</td>\n",
       "      <td>#799351</td>\n",
       "      <td>trof2010</td>\n",
       "      <td>0.00</td>\n",
       "      <td>#799351</td>\n",
       "      <td>trof2015</td>\n",
       "      <td>0.00</td>\n",
       "      <td>#799351</td>\n",
       "      <td>trof2020</td>\n",
       "      <td>0.00</td>\n",
       "      <td>#799351</td>\n",
       "    </tr>\n",
       "    <tr>\n",
       "      <th>4</th>\n",
       "      <td>Fiji</td>\n",
       "      <td>Oceania</td>\n",
       "      <td>trof1970</td>\n",
       "      <td>0.00</td>\n",
       "      <td>#799351</td>\n",
       "      <td>trof1975</td>\n",
       "      <td>0.00</td>\n",
       "      <td>#799351</td>\n",
       "      <td>trof1980</td>\n",
       "      <td>0.00</td>\n",
       "      <td>...</td>\n",
       "      <td>#799351</td>\n",
       "      <td>trof2010</td>\n",
       "      <td>0.00</td>\n",
       "      <td>#799351</td>\n",
       "      <td>trof2015</td>\n",
       "      <td>0.00</td>\n",
       "      <td>#799351</td>\n",
       "      <td>trof2020</td>\n",
       "      <td>0.00</td>\n",
       "      <td>#799351</td>\n",
       "    </tr>\n",
       "  </tbody>\n",
       "</table>\n",
       "<p>5 rows × 35 columns</p>\n",
       "</div>"
      ],
      "text/plain": [
       "  country IMAGE Region Name  GLCT1970  GAREA1970 color1970  GLCT1975  \\\n",
       "0    Fiji           Oceania  trof1970       0.00   #799351  trof1975   \n",
       "1    Fiji           Oceania  trof1970       0.00   #799351  trof1975   \n",
       "2    Fiji           Oceania  trof1970    2845.65   #799351  trof1975   \n",
       "3    Fiji           Oceania  trof1970       0.00   #799351  trof1975   \n",
       "4    Fiji           Oceania  trof1970       0.00   #799351  trof1975   \n",
       "\n",
       "   GAREA1975 color1975  GLCT1980  GAREA1980  ... color2005  GLCT2010  \\\n",
       "0       0.00   #799351  trof1980       0.00  ...   #799351  trof2010   \n",
       "1       0.00   #799351  trof1980       0.00  ...   #799351  trof2010   \n",
       "2    2845.65   #799351  trof1980    2845.65  ...   #799351  trof2010   \n",
       "3       0.00   #799351  trof1980       0.00  ...   #799351  trof2010   \n",
       "4       0.00   #799351  trof1980       0.00  ...   #799351  trof2010   \n",
       "\n",
       "   GAREA2010 color2010  GLCT2015  GAREA2015 color2015  GLCT2020  GAREA2020  \\\n",
       "0       0.00   #799351  trof2015       0.00   #799351  trof2020       0.00   \n",
       "1       0.00   #799351  trof2015       0.00   #799351  trof2020       0.00   \n",
       "2    2845.65   #799351  trof2015    2845.65   #799351  trof2020    2845.65   \n",
       "3       0.00   #799351  trof2015       0.00   #799351  trof2020       0.00   \n",
       "4       0.00   #799351  trof2015       0.00   #799351  trof2020       0.00   \n",
       "\n",
       "  color2020  \n",
       "0   #799351  \n",
       "1   #799351  \n",
       "2   #799351  \n",
       "3   #799351  \n",
       "4   #799351  \n",
       "\n",
       "[5 rows x 35 columns]"
      ]
     },
     "execution_count": 1,
     "metadata": {},
     "output_type": "execute_result"
    }
   ],
   "source": [
    "import pandas as pd\n",
    "import numpy as np\n",
    "import matplotlib.pyplot as plt\n",
    "import plotly.graph_objects as go\n",
    "\n",
    "df_sankey_garea = pd.read_csv(\"D:/kerja/asisten riset/code v/review/sankey_garea_finall_region.csv\", low_memory=False)\n",
    "df_sankey_garea.head()"
   ]
  },
  {
   "cell_type": "code",
   "execution_count": 2,
   "metadata": {},
   "outputs": [],
   "source": [
    "# df_sankey_garea['GLCT1970'].value_counts()"
   ]
  },
  {
   "cell_type": "code",
   "execution_count": 3,
   "metadata": {},
   "outputs": [],
   "source": [
    "# df_sankey_garea['GLCT1975'].value_counts()"
   ]
  },
  {
   "cell_type": "code",
   "execution_count": 2,
   "metadata": {},
   "outputs": [
    {
     "data": {
      "text/html": [
       "<div>\n",
       "<style scoped>\n",
       "    .dataframe tbody tr th:only-of-type {\n",
       "        vertical-align: middle;\n",
       "    }\n",
       "\n",
       "    .dataframe tbody tr th {\n",
       "        vertical-align: top;\n",
       "    }\n",
       "\n",
       "    .dataframe thead th {\n",
       "        text-align: right;\n",
       "    }\n",
       "</style>\n",
       "<table border=\"1\" class=\"dataframe\">\n",
       "  <thead>\n",
       "    <tr style=\"text-align: right;\">\n",
       "      <th></th>\n",
       "      <th>IMAGE Region Name</th>\n",
       "      <th>GLCT1970</th>\n",
       "      <th>GAREA1970</th>\n",
       "      <th>color1970</th>\n",
       "      <th>GLCT1975</th>\n",
       "      <th>GAREA1975</th>\n",
       "      <th>color1975</th>\n",
       "      <th>GLCT1980</th>\n",
       "      <th>GAREA1980</th>\n",
       "      <th>color1980</th>\n",
       "      <th>...</th>\n",
       "      <th>color2005</th>\n",
       "      <th>GLCT2010</th>\n",
       "      <th>GAREA2010</th>\n",
       "      <th>color2010</th>\n",
       "      <th>GLCT2015</th>\n",
       "      <th>GAREA2015</th>\n",
       "      <th>color2015</th>\n",
       "      <th>GLCT2020</th>\n",
       "      <th>GAREA2020</th>\n",
       "      <th>color2020</th>\n",
       "    </tr>\n",
       "  </thead>\n",
       "  <tbody>\n",
       "    <tr>\n",
       "      <th>0</th>\n",
       "      <td>Oceania</td>\n",
       "      <td>forest1970</td>\n",
       "      <td>0.0000</td>\n",
       "      <td>#799351</td>\n",
       "      <td>forest1975</td>\n",
       "      <td>0.0000</td>\n",
       "      <td>#799351</td>\n",
       "      <td>forest1980</td>\n",
       "      <td>0.0000</td>\n",
       "      <td>#799351</td>\n",
       "      <td>...</td>\n",
       "      <td>#799351</td>\n",
       "      <td>forest2010</td>\n",
       "      <td>0.0000</td>\n",
       "      <td>#799351</td>\n",
       "      <td>forest2015</td>\n",
       "      <td>0.0000</td>\n",
       "      <td>#799351</td>\n",
       "      <td>forest2020</td>\n",
       "      <td>0.0000</td>\n",
       "      <td>#799351</td>\n",
       "    </tr>\n",
       "    <tr>\n",
       "      <th>1</th>\n",
       "      <td>Oceania</td>\n",
       "      <td>forest1970</td>\n",
       "      <td>0.0000</td>\n",
       "      <td>#799351</td>\n",
       "      <td>forest1975</td>\n",
       "      <td>0.0000</td>\n",
       "      <td>#799351</td>\n",
       "      <td>forest1980</td>\n",
       "      <td>0.0000</td>\n",
       "      <td>#799351</td>\n",
       "      <td>...</td>\n",
       "      <td>#799351</td>\n",
       "      <td>forest2010</td>\n",
       "      <td>0.0000</td>\n",
       "      <td>#799351</td>\n",
       "      <td>forest2015</td>\n",
       "      <td>0.0000</td>\n",
       "      <td>#799351</td>\n",
       "      <td>forest2020</td>\n",
       "      <td>0.0000</td>\n",
       "      <td>#799351</td>\n",
       "    </tr>\n",
       "    <tr>\n",
       "      <th>2</th>\n",
       "      <td>Oceania</td>\n",
       "      <td>forest1970</td>\n",
       "      <td>2845.6500</td>\n",
       "      <td>#799351</td>\n",
       "      <td>forest1975</td>\n",
       "      <td>2845.6500</td>\n",
       "      <td>#799351</td>\n",
       "      <td>forest1980</td>\n",
       "      <td>2845.6500</td>\n",
       "      <td>#799351</td>\n",
       "      <td>...</td>\n",
       "      <td>#799351</td>\n",
       "      <td>forest2010</td>\n",
       "      <td>2845.6500</td>\n",
       "      <td>#799351</td>\n",
       "      <td>forest2015</td>\n",
       "      <td>2845.6500</td>\n",
       "      <td>#799351</td>\n",
       "      <td>forest2020</td>\n",
       "      <td>2845.6500</td>\n",
       "      <td>#799351</td>\n",
       "    </tr>\n",
       "    <tr>\n",
       "      <th>3</th>\n",
       "      <td>Oceania</td>\n",
       "      <td>forest1970</td>\n",
       "      <td>0.0000</td>\n",
       "      <td>#799351</td>\n",
       "      <td>forest1975</td>\n",
       "      <td>0.0000</td>\n",
       "      <td>#799351</td>\n",
       "      <td>forest1980</td>\n",
       "      <td>0.0000</td>\n",
       "      <td>#799351</td>\n",
       "      <td>...</td>\n",
       "      <td>#799351</td>\n",
       "      <td>forest2010</td>\n",
       "      <td>0.0000</td>\n",
       "      <td>#799351</td>\n",
       "      <td>forest2015</td>\n",
       "      <td>0.0000</td>\n",
       "      <td>#799351</td>\n",
       "      <td>forest2020</td>\n",
       "      <td>0.0000</td>\n",
       "      <td>#799351</td>\n",
       "    </tr>\n",
       "    <tr>\n",
       "      <th>4</th>\n",
       "      <td>Oceania</td>\n",
       "      <td>forest1970</td>\n",
       "      <td>0.0000</td>\n",
       "      <td>#799351</td>\n",
       "      <td>forest1975</td>\n",
       "      <td>0.0000</td>\n",
       "      <td>#799351</td>\n",
       "      <td>forest1980</td>\n",
       "      <td>0.0000</td>\n",
       "      <td>#799351</td>\n",
       "      <td>...</td>\n",
       "      <td>#799351</td>\n",
       "      <td>forest2010</td>\n",
       "      <td>0.0000</td>\n",
       "      <td>#799351</td>\n",
       "      <td>forest2015</td>\n",
       "      <td>0.0000</td>\n",
       "      <td>#799351</td>\n",
       "      <td>forest2020</td>\n",
       "      <td>0.0000</td>\n",
       "      <td>#799351</td>\n",
       "    </tr>\n",
       "    <tr>\n",
       "      <th>...</th>\n",
       "      <td>...</td>\n",
       "      <td>...</td>\n",
       "      <td>...</td>\n",
       "      <td>...</td>\n",
       "      <td>...</td>\n",
       "      <td>...</td>\n",
       "      <td>...</td>\n",
       "      <td>...</td>\n",
       "      <td>...</td>\n",
       "      <td>...</td>\n",
       "      <td>...</td>\n",
       "      <td>...</td>\n",
       "      <td>...</td>\n",
       "      <td>...</td>\n",
       "      <td>...</td>\n",
       "      <td>...</td>\n",
       "      <td>...</td>\n",
       "      <td>...</td>\n",
       "      <td>...</td>\n",
       "      <td>...</td>\n",
       "      <td>...</td>\n",
       "    </tr>\n",
       "    <tr>\n",
       "      <th>2215824</th>\n",
       "      <td>Oceania</td>\n",
       "      <td>nonforest1970</td>\n",
       "      <td>7794.9995</td>\n",
       "      <td>#D10363</td>\n",
       "      <td>nonforest1975</td>\n",
       "      <td>7794.9995</td>\n",
       "      <td>#D10363</td>\n",
       "      <td>nonforest1980</td>\n",
       "      <td>7794.9995</td>\n",
       "      <td>#D10363</td>\n",
       "      <td>...</td>\n",
       "      <td>#F3CA52</td>\n",
       "      <td>agri2010</td>\n",
       "      <td>7794.9995</td>\n",
       "      <td>#F3CA52</td>\n",
       "      <td>agri2015</td>\n",
       "      <td>7794.9995</td>\n",
       "      <td>#F3CA52</td>\n",
       "      <td>agri2020</td>\n",
       "      <td>7794.9995</td>\n",
       "      <td>#F3CA52</td>\n",
       "    </tr>\n",
       "    <tr>\n",
       "      <th>2215825</th>\n",
       "      <td>Oceania</td>\n",
       "      <td>nonforest1970</td>\n",
       "      <td>7800.2295</td>\n",
       "      <td>#D10363</td>\n",
       "      <td>nonforest1975</td>\n",
       "      <td>7800.2295</td>\n",
       "      <td>#D10363</td>\n",
       "      <td>nonforest1980</td>\n",
       "      <td>7800.2295</td>\n",
       "      <td>#D10363</td>\n",
       "      <td>...</td>\n",
       "      <td>#D10363</td>\n",
       "      <td>nonforest2010</td>\n",
       "      <td>7800.2295</td>\n",
       "      <td>#D10363</td>\n",
       "      <td>nonforest2015</td>\n",
       "      <td>7800.2295</td>\n",
       "      <td>#D10363</td>\n",
       "      <td>nonforest2020</td>\n",
       "      <td>7800.2295</td>\n",
       "      <td>#D10363</td>\n",
       "    </tr>\n",
       "    <tr>\n",
       "      <th>2215826</th>\n",
       "      <td>Oceania</td>\n",
       "      <td>nonforest1970</td>\n",
       "      <td>5697.5700</td>\n",
       "      <td>#D10363</td>\n",
       "      <td>nonforest1975</td>\n",
       "      <td>5697.5700</td>\n",
       "      <td>#D10363</td>\n",
       "      <td>nonforest1980</td>\n",
       "      <td>5697.5700</td>\n",
       "      <td>#D10363</td>\n",
       "      <td>...</td>\n",
       "      <td>#D10363</td>\n",
       "      <td>nonforest2010</td>\n",
       "      <td>5697.5700</td>\n",
       "      <td>#D10363</td>\n",
       "      <td>nonforest2015</td>\n",
       "      <td>5697.5700</td>\n",
       "      <td>#D10363</td>\n",
       "      <td>nonforest2020</td>\n",
       "      <td>5697.5700</td>\n",
       "      <td>#D10363</td>\n",
       "    </tr>\n",
       "    <tr>\n",
       "      <th>2215827</th>\n",
       "      <td>Oceania</td>\n",
       "      <td>nonforest1970</td>\n",
       "      <td>606.5160</td>\n",
       "      <td>#D10363</td>\n",
       "      <td>nonforest1975</td>\n",
       "      <td>606.5160</td>\n",
       "      <td>#D10363</td>\n",
       "      <td>nonforest1980</td>\n",
       "      <td>606.5160</td>\n",
       "      <td>#D10363</td>\n",
       "      <td>...</td>\n",
       "      <td>#D10363</td>\n",
       "      <td>nonforest2010</td>\n",
       "      <td>606.5160</td>\n",
       "      <td>#D10363</td>\n",
       "      <td>nonforest2015</td>\n",
       "      <td>606.5160</td>\n",
       "      <td>#D10363</td>\n",
       "      <td>nonforest2020</td>\n",
       "      <td>606.5160</td>\n",
       "      <td>#D10363</td>\n",
       "    </tr>\n",
       "    <tr>\n",
       "      <th>2215828</th>\n",
       "      <td>Oceania</td>\n",
       "      <td>nonforest1970</td>\n",
       "      <td>6886.2940</td>\n",
       "      <td>#D10363</td>\n",
       "      <td>nonforest1975</td>\n",
       "      <td>6919.4604</td>\n",
       "      <td>#D10363</td>\n",
       "      <td>nonforest1980</td>\n",
       "      <td>6919.4604</td>\n",
       "      <td>#D10363</td>\n",
       "      <td>...</td>\n",
       "      <td>#D10363</td>\n",
       "      <td>nonforest2010</td>\n",
       "      <td>6919.4604</td>\n",
       "      <td>#D10363</td>\n",
       "      <td>nonforest2015</td>\n",
       "      <td>6919.4604</td>\n",
       "      <td>#D10363</td>\n",
       "      <td>nonforest2020</td>\n",
       "      <td>6830.9840</td>\n",
       "      <td>#D10363</td>\n",
       "    </tr>\n",
       "  </tbody>\n",
       "</table>\n",
       "<p>2215829 rows × 34 columns</p>\n",
       "</div>"
      ],
      "text/plain": [
       "        IMAGE Region Name       GLCT1970  GAREA1970 color1970       GLCT1975  \\\n",
       "0                 Oceania     forest1970     0.0000   #799351     forest1975   \n",
       "1                 Oceania     forest1970     0.0000   #799351     forest1975   \n",
       "2                 Oceania     forest1970  2845.6500   #799351     forest1975   \n",
       "3                 Oceania     forest1970     0.0000   #799351     forest1975   \n",
       "4                 Oceania     forest1970     0.0000   #799351     forest1975   \n",
       "...                   ...            ...        ...       ...            ...   \n",
       "2215824           Oceania  nonforest1970  7794.9995   #D10363  nonforest1975   \n",
       "2215825           Oceania  nonforest1970  7800.2295   #D10363  nonforest1975   \n",
       "2215826           Oceania  nonforest1970  5697.5700   #D10363  nonforest1975   \n",
       "2215827           Oceania  nonforest1970   606.5160   #D10363  nonforest1975   \n",
       "2215828           Oceania  nonforest1970  6886.2940   #D10363  nonforest1975   \n",
       "\n",
       "         GAREA1975 color1975       GLCT1980  GAREA1980 color1980  ...  \\\n",
       "0           0.0000   #799351     forest1980     0.0000   #799351  ...   \n",
       "1           0.0000   #799351     forest1980     0.0000   #799351  ...   \n",
       "2        2845.6500   #799351     forest1980  2845.6500   #799351  ...   \n",
       "3           0.0000   #799351     forest1980     0.0000   #799351  ...   \n",
       "4           0.0000   #799351     forest1980     0.0000   #799351  ...   \n",
       "...            ...       ...            ...        ...       ...  ...   \n",
       "2215824  7794.9995   #D10363  nonforest1980  7794.9995   #D10363  ...   \n",
       "2215825  7800.2295   #D10363  nonforest1980  7800.2295   #D10363  ...   \n",
       "2215826  5697.5700   #D10363  nonforest1980  5697.5700   #D10363  ...   \n",
       "2215827   606.5160   #D10363  nonforest1980   606.5160   #D10363  ...   \n",
       "2215828  6919.4604   #D10363  nonforest1980  6919.4604   #D10363  ...   \n",
       "\n",
       "        color2005       GLCT2010  GAREA2010 color2010       GLCT2015  \\\n",
       "0         #799351     forest2010     0.0000   #799351     forest2015   \n",
       "1         #799351     forest2010     0.0000   #799351     forest2015   \n",
       "2         #799351     forest2010  2845.6500   #799351     forest2015   \n",
       "3         #799351     forest2010     0.0000   #799351     forest2015   \n",
       "4         #799351     forest2010     0.0000   #799351     forest2015   \n",
       "...           ...            ...        ...       ...            ...   \n",
       "2215824   #F3CA52       agri2010  7794.9995   #F3CA52       agri2015   \n",
       "2215825   #D10363  nonforest2010  7800.2295   #D10363  nonforest2015   \n",
       "2215826   #D10363  nonforest2010  5697.5700   #D10363  nonforest2015   \n",
       "2215827   #D10363  nonforest2010   606.5160   #D10363  nonforest2015   \n",
       "2215828   #D10363  nonforest2010  6919.4604   #D10363  nonforest2015   \n",
       "\n",
       "         GAREA2015 color2015       GLCT2020  GAREA2020 color2020  \n",
       "0           0.0000   #799351     forest2020     0.0000   #799351  \n",
       "1           0.0000   #799351     forest2020     0.0000   #799351  \n",
       "2        2845.6500   #799351     forest2020  2845.6500   #799351  \n",
       "3           0.0000   #799351     forest2020     0.0000   #799351  \n",
       "4           0.0000   #799351     forest2020     0.0000   #799351  \n",
       "...            ...       ...            ...        ...       ...  \n",
       "2215824  7794.9995   #F3CA52       agri2020  7794.9995   #F3CA52  \n",
       "2215825  7800.2295   #D10363  nonforest2020  7800.2295   #D10363  \n",
       "2215826  5697.5700   #D10363  nonforest2020  5697.5700   #D10363  \n",
       "2215827   606.5160   #D10363  nonforest2020   606.5160   #D10363  \n",
       "2215828  6919.4604   #D10363  nonforest2020  6830.9840   #D10363  \n",
       "\n",
       "[2215829 rows x 34 columns]"
      ]
     },
     "execution_count": 2,
     "metadata": {},
     "output_type": "execute_result"
    }
   ],
   "source": [
    "df_sankey_garea_copy = df_sankey_garea.copy()\n",
    "# Assuming your dataframe is named 'df'\n",
    "\n",
    "# List of columns to modify\n",
    "glct_columns = [f\"GLCT{year}\" for year in range(1970, 2025, 5)]\n",
    "\n",
    "# List of text values to replace\n",
    "forested_text_to_replace  = ['rfab', 'rftm', 'tdfo', 'tmfo', 'trof', 'trow', 'wmfo', 'bore', 'ccfo']\n",
    "non_forested_text_to_replace = ['dsrt', 'scrb', 'stepp', 'svna', 'tund', 'tuwd']\n",
    "biofuel = ['biof']\n",
    "\n",
    "# Replace text in specified columns\n",
    "for column in glct_columns:\n",
    "    df_sankey_garea_copy[column] = df_sankey_garea_copy[column].str.replace('|'.join(forested_text_to_replace), 'forest', regex=True)\n",
    "    df_sankey_garea_copy[column] = df_sankey_garea_copy[column].str.replace('|'.join(non_forested_text_to_replace), 'nonforest', regex=True)\n",
    "    df_sankey_garea_copy[column] = df_sankey_garea_copy[column].str.replace('|'.join(biofuel), 'agri', regex=True)\n",
    "\n",
    "# Print the modified dataframe\n",
    "df_sankey_garea_drop = df_sankey_garea_copy.drop(columns=['country'])\n",
    "df_sankey_garea_drop"
   ]
  },
  {
   "cell_type": "code",
   "execution_count": 3,
   "metadata": {},
   "outputs": [
    {
     "data": {
      "text/html": [
       "<div>\n",
       "<style scoped>\n",
       "    .dataframe tbody tr th:only-of-type {\n",
       "        vertical-align: middle;\n",
       "    }\n",
       "\n",
       "    .dataframe tbody tr th {\n",
       "        vertical-align: top;\n",
       "    }\n",
       "\n",
       "    .dataframe thead th {\n",
       "        text-align: right;\n",
       "    }\n",
       "</style>\n",
       "<table border=\"1\" class=\"dataframe\">\n",
       "  <thead>\n",
       "    <tr style=\"text-align: right;\">\n",
       "      <th></th>\n",
       "      <th>IMAGE Region Name</th>\n",
       "      <th>GLCT1970</th>\n",
       "      <th>GAREA1970</th>\n",
       "      <th>color1970</th>\n",
       "      <th>GLCT1975</th>\n",
       "      <th>GAREA1975</th>\n",
       "      <th>color1975</th>\n",
       "      <th>GLCT1980</th>\n",
       "      <th>GAREA1980</th>\n",
       "      <th>color1980</th>\n",
       "      <th>...</th>\n",
       "      <th>color2005</th>\n",
       "      <th>GLCT2010</th>\n",
       "      <th>GAREA2010</th>\n",
       "      <th>color2010</th>\n",
       "      <th>GLCT2015</th>\n",
       "      <th>GAREA2015</th>\n",
       "      <th>color2015</th>\n",
       "      <th>GLCT2020</th>\n",
       "      <th>GAREA2020</th>\n",
       "      <th>color2020</th>\n",
       "    </tr>\n",
       "  </thead>\n",
       "  <tbody>\n",
       "    <tr>\n",
       "      <th>0</th>\n",
       "      <td>Oceania</td>\n",
       "      <td>forest1970</td>\n",
       "      <td>0.0000</td>\n",
       "      <td>#347928</td>\n",
       "      <td>forest1975</td>\n",
       "      <td>0.0000</td>\n",
       "      <td>#347928</td>\n",
       "      <td>forest1980</td>\n",
       "      <td>0.0000</td>\n",
       "      <td>#347928</td>\n",
       "      <td>...</td>\n",
       "      <td>#347928</td>\n",
       "      <td>forest2010</td>\n",
       "      <td>0.0000</td>\n",
       "      <td>#347928</td>\n",
       "      <td>forest2015</td>\n",
       "      <td>0.0000</td>\n",
       "      <td>#347928</td>\n",
       "      <td>forest2020</td>\n",
       "      <td>0.0000</td>\n",
       "      <td>#347928</td>\n",
       "    </tr>\n",
       "    <tr>\n",
       "      <th>1</th>\n",
       "      <td>Oceania</td>\n",
       "      <td>forest1970</td>\n",
       "      <td>0.0000</td>\n",
       "      <td>#347928</td>\n",
       "      <td>forest1975</td>\n",
       "      <td>0.0000</td>\n",
       "      <td>#347928</td>\n",
       "      <td>forest1980</td>\n",
       "      <td>0.0000</td>\n",
       "      <td>#347928</td>\n",
       "      <td>...</td>\n",
       "      <td>#347928</td>\n",
       "      <td>forest2010</td>\n",
       "      <td>0.0000</td>\n",
       "      <td>#347928</td>\n",
       "      <td>forest2015</td>\n",
       "      <td>0.0000</td>\n",
       "      <td>#347928</td>\n",
       "      <td>forest2020</td>\n",
       "      <td>0.0000</td>\n",
       "      <td>#347928</td>\n",
       "    </tr>\n",
       "    <tr>\n",
       "      <th>2</th>\n",
       "      <td>Oceania</td>\n",
       "      <td>forest1970</td>\n",
       "      <td>2845.6500</td>\n",
       "      <td>#347928</td>\n",
       "      <td>forest1975</td>\n",
       "      <td>2845.6500</td>\n",
       "      <td>#347928</td>\n",
       "      <td>forest1980</td>\n",
       "      <td>2845.6500</td>\n",
       "      <td>#347928</td>\n",
       "      <td>...</td>\n",
       "      <td>#347928</td>\n",
       "      <td>forest2010</td>\n",
       "      <td>2845.6500</td>\n",
       "      <td>#347928</td>\n",
       "      <td>forest2015</td>\n",
       "      <td>2845.6500</td>\n",
       "      <td>#347928</td>\n",
       "      <td>forest2020</td>\n",
       "      <td>2845.6500</td>\n",
       "      <td>#347928</td>\n",
       "    </tr>\n",
       "    <tr>\n",
       "      <th>3</th>\n",
       "      <td>Oceania</td>\n",
       "      <td>forest1970</td>\n",
       "      <td>0.0000</td>\n",
       "      <td>#347928</td>\n",
       "      <td>forest1975</td>\n",
       "      <td>0.0000</td>\n",
       "      <td>#347928</td>\n",
       "      <td>forest1980</td>\n",
       "      <td>0.0000</td>\n",
       "      <td>#347928</td>\n",
       "      <td>...</td>\n",
       "      <td>#347928</td>\n",
       "      <td>forest2010</td>\n",
       "      <td>0.0000</td>\n",
       "      <td>#347928</td>\n",
       "      <td>forest2015</td>\n",
       "      <td>0.0000</td>\n",
       "      <td>#347928</td>\n",
       "      <td>forest2020</td>\n",
       "      <td>0.0000</td>\n",
       "      <td>#347928</td>\n",
       "    </tr>\n",
       "    <tr>\n",
       "      <th>4</th>\n",
       "      <td>Oceania</td>\n",
       "      <td>forest1970</td>\n",
       "      <td>0.0000</td>\n",
       "      <td>#347928</td>\n",
       "      <td>forest1975</td>\n",
       "      <td>0.0000</td>\n",
       "      <td>#347928</td>\n",
       "      <td>forest1980</td>\n",
       "      <td>0.0000</td>\n",
       "      <td>#347928</td>\n",
       "      <td>...</td>\n",
       "      <td>#347928</td>\n",
       "      <td>forest2010</td>\n",
       "      <td>0.0000</td>\n",
       "      <td>#347928</td>\n",
       "      <td>forest2015</td>\n",
       "      <td>0.0000</td>\n",
       "      <td>#347928</td>\n",
       "      <td>forest2020</td>\n",
       "      <td>0.0000</td>\n",
       "      <td>#347928</td>\n",
       "    </tr>\n",
       "    <tr>\n",
       "      <th>...</th>\n",
       "      <td>...</td>\n",
       "      <td>...</td>\n",
       "      <td>...</td>\n",
       "      <td>...</td>\n",
       "      <td>...</td>\n",
       "      <td>...</td>\n",
       "      <td>...</td>\n",
       "      <td>...</td>\n",
       "      <td>...</td>\n",
       "      <td>...</td>\n",
       "      <td>...</td>\n",
       "      <td>...</td>\n",
       "      <td>...</td>\n",
       "      <td>...</td>\n",
       "      <td>...</td>\n",
       "      <td>...</td>\n",
       "      <td>...</td>\n",
       "      <td>...</td>\n",
       "      <td>...</td>\n",
       "      <td>...</td>\n",
       "      <td>...</td>\n",
       "    </tr>\n",
       "    <tr>\n",
       "      <th>2215824</th>\n",
       "      <td>Oceania</td>\n",
       "      <td>nonforest1970</td>\n",
       "      <td>7794.9995</td>\n",
       "      <td>#B7E0FF</td>\n",
       "      <td>nonforest1975</td>\n",
       "      <td>7794.9995</td>\n",
       "      <td>#B7E0FF</td>\n",
       "      <td>nonforest1980</td>\n",
       "      <td>7794.9995</td>\n",
       "      <td>#B7E0FF</td>\n",
       "      <td>...</td>\n",
       "      <td>#FF6600</td>\n",
       "      <td>agri2010</td>\n",
       "      <td>7794.9995</td>\n",
       "      <td>#FF6600</td>\n",
       "      <td>agri2015</td>\n",
       "      <td>7794.9995</td>\n",
       "      <td>#FF6600</td>\n",
       "      <td>agri2020</td>\n",
       "      <td>7794.9995</td>\n",
       "      <td>#FF6600</td>\n",
       "    </tr>\n",
       "    <tr>\n",
       "      <th>2215825</th>\n",
       "      <td>Oceania</td>\n",
       "      <td>nonforest1970</td>\n",
       "      <td>7800.2295</td>\n",
       "      <td>#B7E0FF</td>\n",
       "      <td>nonforest1975</td>\n",
       "      <td>7800.2295</td>\n",
       "      <td>#B7E0FF</td>\n",
       "      <td>nonforest1980</td>\n",
       "      <td>7800.2295</td>\n",
       "      <td>#B7E0FF</td>\n",
       "      <td>...</td>\n",
       "      <td>#B7E0FF</td>\n",
       "      <td>nonforest2010</td>\n",
       "      <td>7800.2295</td>\n",
       "      <td>#B7E0FF</td>\n",
       "      <td>nonforest2015</td>\n",
       "      <td>7800.2295</td>\n",
       "      <td>#B7E0FF</td>\n",
       "      <td>nonforest2020</td>\n",
       "      <td>7800.2295</td>\n",
       "      <td>#B7E0FF</td>\n",
       "    </tr>\n",
       "    <tr>\n",
       "      <th>2215826</th>\n",
       "      <td>Oceania</td>\n",
       "      <td>nonforest1970</td>\n",
       "      <td>5697.5700</td>\n",
       "      <td>#B7E0FF</td>\n",
       "      <td>nonforest1975</td>\n",
       "      <td>5697.5700</td>\n",
       "      <td>#B7E0FF</td>\n",
       "      <td>nonforest1980</td>\n",
       "      <td>5697.5700</td>\n",
       "      <td>#B7E0FF</td>\n",
       "      <td>...</td>\n",
       "      <td>#B7E0FF</td>\n",
       "      <td>nonforest2010</td>\n",
       "      <td>5697.5700</td>\n",
       "      <td>#B7E0FF</td>\n",
       "      <td>nonforest2015</td>\n",
       "      <td>5697.5700</td>\n",
       "      <td>#B7E0FF</td>\n",
       "      <td>nonforest2020</td>\n",
       "      <td>5697.5700</td>\n",
       "      <td>#B7E0FF</td>\n",
       "    </tr>\n",
       "    <tr>\n",
       "      <th>2215827</th>\n",
       "      <td>Oceania</td>\n",
       "      <td>nonforest1970</td>\n",
       "      <td>606.5160</td>\n",
       "      <td>#B7E0FF</td>\n",
       "      <td>nonforest1975</td>\n",
       "      <td>606.5160</td>\n",
       "      <td>#B7E0FF</td>\n",
       "      <td>nonforest1980</td>\n",
       "      <td>606.5160</td>\n",
       "      <td>#B7E0FF</td>\n",
       "      <td>...</td>\n",
       "      <td>#B7E0FF</td>\n",
       "      <td>nonforest2010</td>\n",
       "      <td>606.5160</td>\n",
       "      <td>#B7E0FF</td>\n",
       "      <td>nonforest2015</td>\n",
       "      <td>606.5160</td>\n",
       "      <td>#B7E0FF</td>\n",
       "      <td>nonforest2020</td>\n",
       "      <td>606.5160</td>\n",
       "      <td>#B7E0FF</td>\n",
       "    </tr>\n",
       "    <tr>\n",
       "      <th>2215828</th>\n",
       "      <td>Oceania</td>\n",
       "      <td>nonforest1970</td>\n",
       "      <td>6886.2940</td>\n",
       "      <td>#B7E0FF</td>\n",
       "      <td>nonforest1975</td>\n",
       "      <td>6919.4604</td>\n",
       "      <td>#B7E0FF</td>\n",
       "      <td>nonforest1980</td>\n",
       "      <td>6919.4604</td>\n",
       "      <td>#B7E0FF</td>\n",
       "      <td>...</td>\n",
       "      <td>#B7E0FF</td>\n",
       "      <td>nonforest2010</td>\n",
       "      <td>6919.4604</td>\n",
       "      <td>#B7E0FF</td>\n",
       "      <td>nonforest2015</td>\n",
       "      <td>6919.4604</td>\n",
       "      <td>#B7E0FF</td>\n",
       "      <td>nonforest2020</td>\n",
       "      <td>6830.9840</td>\n",
       "      <td>#B7E0FF</td>\n",
       "    </tr>\n",
       "  </tbody>\n",
       "</table>\n",
       "<p>2112194 rows × 34 columns</p>\n",
       "</div>"
      ],
      "text/plain": [
       "        IMAGE Region Name       GLCT1970  GAREA1970 color1970       GLCT1975  \\\n",
       "0                 Oceania     forest1970     0.0000   #347928     forest1975   \n",
       "1                 Oceania     forest1970     0.0000   #347928     forest1975   \n",
       "2                 Oceania     forest1970  2845.6500   #347928     forest1975   \n",
       "3                 Oceania     forest1970     0.0000   #347928     forest1975   \n",
       "4                 Oceania     forest1970     0.0000   #347928     forest1975   \n",
       "...                   ...            ...        ...       ...            ...   \n",
       "2215824           Oceania  nonforest1970  7794.9995   #B7E0FF  nonforest1975   \n",
       "2215825           Oceania  nonforest1970  7800.2295   #B7E0FF  nonforest1975   \n",
       "2215826           Oceania  nonforest1970  5697.5700   #B7E0FF  nonforest1975   \n",
       "2215827           Oceania  nonforest1970   606.5160   #B7E0FF  nonforest1975   \n",
       "2215828           Oceania  nonforest1970  6886.2940   #B7E0FF  nonforest1975   \n",
       "\n",
       "         GAREA1975 color1975       GLCT1980  GAREA1980 color1980  ...  \\\n",
       "0           0.0000   #347928     forest1980     0.0000   #347928  ...   \n",
       "1           0.0000   #347928     forest1980     0.0000   #347928  ...   \n",
       "2        2845.6500   #347928     forest1980  2845.6500   #347928  ...   \n",
       "3           0.0000   #347928     forest1980     0.0000   #347928  ...   \n",
       "4           0.0000   #347928     forest1980     0.0000   #347928  ...   \n",
       "...            ...       ...            ...        ...       ...  ...   \n",
       "2215824  7794.9995   #B7E0FF  nonforest1980  7794.9995   #B7E0FF  ...   \n",
       "2215825  7800.2295   #B7E0FF  nonforest1980  7800.2295   #B7E0FF  ...   \n",
       "2215826  5697.5700   #B7E0FF  nonforest1980  5697.5700   #B7E0FF  ...   \n",
       "2215827   606.5160   #B7E0FF  nonforest1980   606.5160   #B7E0FF  ...   \n",
       "2215828  6919.4604   #B7E0FF  nonforest1980  6919.4604   #B7E0FF  ...   \n",
       "\n",
       "        color2005       GLCT2010  GAREA2010 color2010       GLCT2015  \\\n",
       "0         #347928     forest2010     0.0000   #347928     forest2015   \n",
       "1         #347928     forest2010     0.0000   #347928     forest2015   \n",
       "2         #347928     forest2010  2845.6500   #347928     forest2015   \n",
       "3         #347928     forest2010     0.0000   #347928     forest2015   \n",
       "4         #347928     forest2010     0.0000   #347928     forest2015   \n",
       "...           ...            ...        ...       ...            ...   \n",
       "2215824   #FF6600       agri2010  7794.9995   #FF6600       agri2015   \n",
       "2215825   #B7E0FF  nonforest2010  7800.2295   #B7E0FF  nonforest2015   \n",
       "2215826   #B7E0FF  nonforest2010  5697.5700   #B7E0FF  nonforest2015   \n",
       "2215827   #B7E0FF  nonforest2010   606.5160   #B7E0FF  nonforest2015   \n",
       "2215828   #B7E0FF  nonforest2010  6919.4604   #B7E0FF  nonforest2015   \n",
       "\n",
       "         GAREA2015 color2015       GLCT2020  GAREA2020 color2020  \n",
       "0           0.0000   #347928     forest2020     0.0000   #347928  \n",
       "1           0.0000   #347928     forest2020     0.0000   #347928  \n",
       "2        2845.6500   #347928     forest2020  2845.6500   #347928  \n",
       "3           0.0000   #347928     forest2020     0.0000   #347928  \n",
       "4           0.0000   #347928     forest2020     0.0000   #347928  \n",
       "...            ...       ...            ...        ...       ...  \n",
       "2215824  7794.9995   #FF6600       agri2020  7794.9995   #FF6600  \n",
       "2215825  7800.2295   #B7E0FF  nonforest2020  7800.2295   #B7E0FF  \n",
       "2215826  5697.5700   #B7E0FF  nonforest2020  5697.5700   #B7E0FF  \n",
       "2215827   606.5160   #B7E0FF  nonforest2020   606.5160   #B7E0FF  \n",
       "2215828  6919.4604   #B7E0FF  nonforest2020  6830.9840   #B7E0FF  \n",
       "\n",
       "[2112194 rows x 34 columns]"
      ]
     },
     "execution_count": 3,
     "metadata": {},
     "output_type": "execute_result"
    }
   ],
   "source": [
    "for tahun in range(1970, 2021, 5):\n",
    "    color_mapping = {\n",
    "        f'agri{tahun}': '#FF6600',\n",
    "        f'forest{tahun}': '#347928',\n",
    "        f'nonforest{tahun}': '#B7E0FF',\n",
    "        f'grass{tahun}': '#FCCD2A'\n",
    "    }\n",
    "    df_sankey_garea_drop.loc[df_sankey_garea_drop[f'GLCT{tahun}'].isin(color_mapping.keys()), f'color{tahun}'] = df_sankey_garea_drop[f'GLCT{tahun}'].map(color_mapping)\n",
    "\n",
    "df_sankey_garea_copy_nan = df_sankey_garea_drop.dropna()\n",
    "df_sankey_garea_copy_nan"
   ]
  },
  {
   "cell_type": "markdown",
   "metadata": {},
   "source": [
    "df_sankey_garea_copy_nan = df_sankey_garea_copy[df_sankey_garea_copy['IMAGE Region Name'].isna()]\n",
    "df_sankey_garea_copy_nan"
   ]
  },
  {
   "cell_type": "code",
   "execution_count": 13,
   "metadata": {},
   "outputs": [
    {
     "data": {
      "text/html": [
       "<div>\n",
       "<style scoped>\n",
       "    .dataframe tbody tr th:only-of-type {\n",
       "        vertical-align: middle;\n",
       "    }\n",
       "\n",
       "    .dataframe tbody tr th {\n",
       "        vertical-align: top;\n",
       "    }\n",
       "\n",
       "    .dataframe thead th {\n",
       "        text-align: right;\n",
       "    }\n",
       "</style>\n",
       "<table border=\"1\" class=\"dataframe\">\n",
       "  <thead>\n",
       "    <tr style=\"text-align: right;\">\n",
       "      <th></th>\n",
       "      <th>IMAGE Region Name</th>\n",
       "      <th>GLCT1970</th>\n",
       "      <th>GAREA1970</th>\n",
       "      <th>color1970</th>\n",
       "      <th>GLCT2020</th>\n",
       "      <th>GAREA2020</th>\n",
       "      <th>color2020</th>\n",
       "    </tr>\n",
       "  </thead>\n",
       "  <tbody>\n",
       "    <tr>\n",
       "      <th>0</th>\n",
       "      <td>Oceania</td>\n",
       "      <td>forest1970</td>\n",
       "      <td>0.0000</td>\n",
       "      <td>#347928</td>\n",
       "      <td>forest2020</td>\n",
       "      <td>0.0000</td>\n",
       "      <td>#347928</td>\n",
       "    </tr>\n",
       "    <tr>\n",
       "      <th>1</th>\n",
       "      <td>Oceania</td>\n",
       "      <td>forest1970</td>\n",
       "      <td>0.0000</td>\n",
       "      <td>#347928</td>\n",
       "      <td>forest2020</td>\n",
       "      <td>0.0000</td>\n",
       "      <td>#347928</td>\n",
       "    </tr>\n",
       "    <tr>\n",
       "      <th>2</th>\n",
       "      <td>Oceania</td>\n",
       "      <td>forest1970</td>\n",
       "      <td>2845.6500</td>\n",
       "      <td>#347928</td>\n",
       "      <td>forest2020</td>\n",
       "      <td>2845.6500</td>\n",
       "      <td>#347928</td>\n",
       "    </tr>\n",
       "    <tr>\n",
       "      <th>3</th>\n",
       "      <td>Oceania</td>\n",
       "      <td>forest1970</td>\n",
       "      <td>0.0000</td>\n",
       "      <td>#347928</td>\n",
       "      <td>forest2020</td>\n",
       "      <td>0.0000</td>\n",
       "      <td>#347928</td>\n",
       "    </tr>\n",
       "    <tr>\n",
       "      <th>4</th>\n",
       "      <td>Oceania</td>\n",
       "      <td>forest1970</td>\n",
       "      <td>0.0000</td>\n",
       "      <td>#347928</td>\n",
       "      <td>forest2020</td>\n",
       "      <td>0.0000</td>\n",
       "      <td>#347928</td>\n",
       "    </tr>\n",
       "    <tr>\n",
       "      <th>...</th>\n",
       "      <td>...</td>\n",
       "      <td>...</td>\n",
       "      <td>...</td>\n",
       "      <td>...</td>\n",
       "      <td>...</td>\n",
       "      <td>...</td>\n",
       "      <td>...</td>\n",
       "    </tr>\n",
       "    <tr>\n",
       "      <th>2215824</th>\n",
       "      <td>Oceania</td>\n",
       "      <td>nonforest1970</td>\n",
       "      <td>7794.9995</td>\n",
       "      <td>#B7E0FF</td>\n",
       "      <td>agri2020</td>\n",
       "      <td>7794.9995</td>\n",
       "      <td>#FF6600</td>\n",
       "    </tr>\n",
       "    <tr>\n",
       "      <th>2215825</th>\n",
       "      <td>Oceania</td>\n",
       "      <td>nonforest1970</td>\n",
       "      <td>7800.2295</td>\n",
       "      <td>#B7E0FF</td>\n",
       "      <td>nonforest2020</td>\n",
       "      <td>7800.2295</td>\n",
       "      <td>#B7E0FF</td>\n",
       "    </tr>\n",
       "    <tr>\n",
       "      <th>2215826</th>\n",
       "      <td>Oceania</td>\n",
       "      <td>nonforest1970</td>\n",
       "      <td>5697.5700</td>\n",
       "      <td>#B7E0FF</td>\n",
       "      <td>nonforest2020</td>\n",
       "      <td>5697.5700</td>\n",
       "      <td>#B7E0FF</td>\n",
       "    </tr>\n",
       "    <tr>\n",
       "      <th>2215827</th>\n",
       "      <td>Oceania</td>\n",
       "      <td>nonforest1970</td>\n",
       "      <td>606.5160</td>\n",
       "      <td>#B7E0FF</td>\n",
       "      <td>nonforest2020</td>\n",
       "      <td>606.5160</td>\n",
       "      <td>#B7E0FF</td>\n",
       "    </tr>\n",
       "    <tr>\n",
       "      <th>2215828</th>\n",
       "      <td>Oceania</td>\n",
       "      <td>nonforest1970</td>\n",
       "      <td>6886.2940</td>\n",
       "      <td>#B7E0FF</td>\n",
       "      <td>nonforest2020</td>\n",
       "      <td>6830.9840</td>\n",
       "      <td>#B7E0FF</td>\n",
       "    </tr>\n",
       "  </tbody>\n",
       "</table>\n",
       "<p>2112194 rows × 7 columns</p>\n",
       "</div>"
      ],
      "text/plain": [
       "        IMAGE Region Name       GLCT1970  GAREA1970 color1970       GLCT2020  \\\n",
       "0                 Oceania     forest1970     0.0000   #347928     forest2020   \n",
       "1                 Oceania     forest1970     0.0000   #347928     forest2020   \n",
       "2                 Oceania     forest1970  2845.6500   #347928     forest2020   \n",
       "3                 Oceania     forest1970     0.0000   #347928     forest2020   \n",
       "4                 Oceania     forest1970     0.0000   #347928     forest2020   \n",
       "...                   ...            ...        ...       ...            ...   \n",
       "2215824           Oceania  nonforest1970  7794.9995   #B7E0FF       agri2020   \n",
       "2215825           Oceania  nonforest1970  7800.2295   #B7E0FF  nonforest2020   \n",
       "2215826           Oceania  nonforest1970  5697.5700   #B7E0FF  nonforest2020   \n",
       "2215827           Oceania  nonforest1970   606.5160   #B7E0FF  nonforest2020   \n",
       "2215828           Oceania  nonforest1970  6886.2940   #B7E0FF  nonforest2020   \n",
       "\n",
       "         GAREA2020 color2020  \n",
       "0           0.0000   #347928  \n",
       "1           0.0000   #347928  \n",
       "2        2845.6500   #347928  \n",
       "3           0.0000   #347928  \n",
       "4           0.0000   #347928  \n",
       "...            ...       ...  \n",
       "2215824  7794.9995   #FF6600  \n",
       "2215825  7800.2295   #B7E0FF  \n",
       "2215826  5697.5700   #B7E0FF  \n",
       "2215827   606.5160   #B7E0FF  \n",
       "2215828  6830.9840   #B7E0FF  \n",
       "\n",
       "[2112194 rows x 7 columns]"
      ]
     },
     "execution_count": 13,
     "metadata": {},
     "output_type": "execute_result"
    }
   ],
   "source": [
    "tahun = [1970, 2020]\n",
    "\n",
    "columns_to_select = []\n",
    "columns_groupby = []\n",
    "\n",
    "columns_to_select.append(\"IMAGE Region Name\")\n",
    "columns_groupby.append(\"IMAGE Region Name\")\n",
    "\n",
    "df_copy1 = df_sankey_garea_copy_nan.copy()\n",
    "for t in tahun:\n",
    "    columns_to_select.extend([f'GLCT{t}', f'GAREA{t}', f'color{t}'])\n",
    "    columns_groupby.extend([f'GLCT{t}', f'color{t}'])\n",
    "\n",
    "df_selected1 = df_copy1[columns_to_select]\n",
    "df_selected1"
   ]
  },
  {
   "cell_type": "code",
   "execution_count": 14,
   "metadata": {},
   "outputs": [
    {
     "data": {
      "text/html": [
       "<div>\n",
       "<style scoped>\n",
       "    .dataframe tbody tr th:only-of-type {\n",
       "        vertical-align: middle;\n",
       "    }\n",
       "\n",
       "    .dataframe tbody tr th {\n",
       "        vertical-align: top;\n",
       "    }\n",
       "\n",
       "    .dataframe thead th {\n",
       "        text-align: right;\n",
       "    }\n",
       "</style>\n",
       "<table border=\"1\" class=\"dataframe\">\n",
       "  <thead>\n",
       "    <tr style=\"text-align: right;\">\n",
       "      <th></th>\n",
       "      <th>IMAGE Region Name</th>\n",
       "      <th>GLCT1970</th>\n",
       "      <th>color1970</th>\n",
       "      <th>GLCT2020</th>\n",
       "      <th>color2020</th>\n",
       "      <th>GAREA1970</th>\n",
       "      <th>GAREA2020</th>\n",
       "    </tr>\n",
       "  </thead>\n",
       "  <tbody>\n",
       "    <tr>\n",
       "      <th>0</th>\n",
       "      <td>Brazil</td>\n",
       "      <td>agri1970</td>\n",
       "      <td>#FF6600</td>\n",
       "      <td>agri2020</td>\n",
       "      <td>#FF6600</td>\n",
       "      <td>1.953410e+08</td>\n",
       "      <td>1.938697e+08</td>\n",
       "    </tr>\n",
       "    <tr>\n",
       "      <th>1</th>\n",
       "      <td>Brazil</td>\n",
       "      <td>forest1970</td>\n",
       "      <td>#347928</td>\n",
       "      <td>agri2020</td>\n",
       "      <td>#FF6600</td>\n",
       "      <td>3.891960e+07</td>\n",
       "      <td>3.867473e+07</td>\n",
       "    </tr>\n",
       "    <tr>\n",
       "      <th>2</th>\n",
       "      <td>Brazil</td>\n",
       "      <td>forest1970</td>\n",
       "      <td>#347928</td>\n",
       "      <td>forest2020</td>\n",
       "      <td>#347928</td>\n",
       "      <td>4.160692e+08</td>\n",
       "      <td>4.154912e+08</td>\n",
       "    </tr>\n",
       "    <tr>\n",
       "      <th>3</th>\n",
       "      <td>Brazil</td>\n",
       "      <td>grass1970</td>\n",
       "      <td>#FCCD2A</td>\n",
       "      <td>forest2020</td>\n",
       "      <td>#347928</td>\n",
       "      <td>6.127858e+04</td>\n",
       "      <td>5.818165e+04</td>\n",
       "    </tr>\n",
       "    <tr>\n",
       "      <th>4</th>\n",
       "      <td>Brazil</td>\n",
       "      <td>grass1970</td>\n",
       "      <td>#FCCD2A</td>\n",
       "      <td>nonforest2020</td>\n",
       "      <td>#B7E0FF</td>\n",
       "      <td>1.518636e+05</td>\n",
       "      <td>1.513886e+05</td>\n",
       "    </tr>\n",
       "    <tr>\n",
       "      <th>...</th>\n",
       "      <td>...</td>\n",
       "      <td>...</td>\n",
       "      <td>...</td>\n",
       "      <td>...</td>\n",
       "      <td>...</td>\n",
       "      <td>...</td>\n",
       "      <td>...</td>\n",
       "    </tr>\n",
       "    <tr>\n",
       "      <th>225</th>\n",
       "      <td>W. Europe</td>\n",
       "      <td>grass1970</td>\n",
       "      <td>#FCCD2A</td>\n",
       "      <td>forest2020</td>\n",
       "      <td>#347928</td>\n",
       "      <td>4.339161e+04</td>\n",
       "      <td>4.275635e+04</td>\n",
       "    </tr>\n",
       "    <tr>\n",
       "      <th>226</th>\n",
       "      <td>W. Europe</td>\n",
       "      <td>grass1970</td>\n",
       "      <td>#FCCD2A</td>\n",
       "      <td>grass2020</td>\n",
       "      <td>#FCCD2A</td>\n",
       "      <td>2.025457e+05</td>\n",
       "      <td>2.029769e+05</td>\n",
       "    </tr>\n",
       "    <tr>\n",
       "      <th>227</th>\n",
       "      <td>W. Europe</td>\n",
       "      <td>grass1970</td>\n",
       "      <td>#FCCD2A</td>\n",
       "      <td>nonforest2020</td>\n",
       "      <td>#B7E0FF</td>\n",
       "      <td>8.464599e+04</td>\n",
       "      <td>8.431411e+04</td>\n",
       "    </tr>\n",
       "    <tr>\n",
       "      <th>228</th>\n",
       "      <td>W. Europe</td>\n",
       "      <td>nonforest1970</td>\n",
       "      <td>#B7E0FF</td>\n",
       "      <td>agri2020</td>\n",
       "      <td>#FF6600</td>\n",
       "      <td>7.885791e+05</td>\n",
       "      <td>7.720949e+05</td>\n",
       "    </tr>\n",
       "    <tr>\n",
       "      <th>229</th>\n",
       "      <td>W. Europe</td>\n",
       "      <td>nonforest1970</td>\n",
       "      <td>#B7E0FF</td>\n",
       "      <td>nonforest2020</td>\n",
       "      <td>#B7E0FF</td>\n",
       "      <td>2.768095e+07</td>\n",
       "      <td>2.762178e+07</td>\n",
       "    </tr>\n",
       "  </tbody>\n",
       "</table>\n",
       "<p>230 rows × 7 columns</p>\n",
       "</div>"
      ],
      "text/plain": [
       "    IMAGE Region Name       GLCT1970 color1970       GLCT2020 color2020  \\\n",
       "0              Brazil       agri1970   #FF6600       agri2020   #FF6600   \n",
       "1              Brazil     forest1970   #347928       agri2020   #FF6600   \n",
       "2              Brazil     forest1970   #347928     forest2020   #347928   \n",
       "3              Brazil      grass1970   #FCCD2A     forest2020   #347928   \n",
       "4              Brazil      grass1970   #FCCD2A  nonforest2020   #B7E0FF   \n",
       "..                ...            ...       ...            ...       ...   \n",
       "225         W. Europe      grass1970   #FCCD2A     forest2020   #347928   \n",
       "226         W. Europe      grass1970   #FCCD2A      grass2020   #FCCD2A   \n",
       "227         W. Europe      grass1970   #FCCD2A  nonforest2020   #B7E0FF   \n",
       "228         W. Europe  nonforest1970   #B7E0FF       agri2020   #FF6600   \n",
       "229         W. Europe  nonforest1970   #B7E0FF  nonforest2020   #B7E0FF   \n",
       "\n",
       "        GAREA1970     GAREA2020  \n",
       "0    1.953410e+08  1.938697e+08  \n",
       "1    3.891960e+07  3.867473e+07  \n",
       "2    4.160692e+08  4.154912e+08  \n",
       "3    6.127858e+04  5.818165e+04  \n",
       "4    1.518636e+05  1.513886e+05  \n",
       "..            ...           ...  \n",
       "225  4.339161e+04  4.275635e+04  \n",
       "226  2.025457e+05  2.029769e+05  \n",
       "227  8.464599e+04  8.431411e+04  \n",
       "228  7.885791e+05  7.720949e+05  \n",
       "229  2.768095e+07  2.762178e+07  \n",
       "\n",
       "[230 rows x 7 columns]"
      ]
     },
     "execution_count": 14,
     "metadata": {},
     "output_type": "execute_result"
    }
   ],
   "source": [
    "df_selected_group1 = df_selected1.groupby(columns_groupby).sum()\n",
    "df_selected_index1 = df_selected_group1.reset_index()\n",
    "df_selected_index1"
   ]
  },
  {
   "cell_type": "code",
   "execution_count": 15,
   "metadata": {},
   "outputs": [
    {
     "data": {
      "text/html": [
       "<div>\n",
       "<style scoped>\n",
       "    .dataframe tbody tr th:only-of-type {\n",
       "        vertical-align: middle;\n",
       "    }\n",
       "\n",
       "    .dataframe tbody tr th {\n",
       "        vertical-align: top;\n",
       "    }\n",
       "\n",
       "    .dataframe thead th {\n",
       "        text-align: right;\n",
       "    }\n",
       "</style>\n",
       "<table border=\"1\" class=\"dataframe\">\n",
       "  <thead>\n",
       "    <tr style=\"text-align: right;\">\n",
       "      <th></th>\n",
       "      <th>IMAGE Region Name</th>\n",
       "      <th>GLCT1970</th>\n",
       "      <th>color1970</th>\n",
       "      <th>GLCT2020</th>\n",
       "      <th>color2020</th>\n",
       "      <th>GAREA1970</th>\n",
       "      <th>GAREA2020</th>\n",
       "    </tr>\n",
       "  </thead>\n",
       "  <tbody>\n",
       "    <tr>\n",
       "      <th>0</th>\n",
       "      <td>Brazil</td>\n",
       "      <td>agri1970</td>\n",
       "      <td>#FF6600</td>\n",
       "      <td>agri2020</td>\n",
       "      <td>#FF6600</td>\n",
       "      <td>1.953410e+08</td>\n",
       "      <td>1.938697e+08</td>\n",
       "    </tr>\n",
       "    <tr>\n",
       "      <th>1</th>\n",
       "      <td>Brazil</td>\n",
       "      <td>forest1970</td>\n",
       "      <td>#347928</td>\n",
       "      <td>agri2020</td>\n",
       "      <td>#FF6600</td>\n",
       "      <td>3.891960e+07</td>\n",
       "      <td>3.867473e+07</td>\n",
       "    </tr>\n",
       "    <tr>\n",
       "      <th>2</th>\n",
       "      <td>Brazil</td>\n",
       "      <td>forest1970</td>\n",
       "      <td>#347928</td>\n",
       "      <td>forest2020</td>\n",
       "      <td>#347928</td>\n",
       "      <td>4.160692e+08</td>\n",
       "      <td>4.154912e+08</td>\n",
       "    </tr>\n",
       "    <tr>\n",
       "      <th>3</th>\n",
       "      <td>Brazil</td>\n",
       "      <td>grass1970</td>\n",
       "      <td>#FCCD2A</td>\n",
       "      <td>forest2020</td>\n",
       "      <td>#347928</td>\n",
       "      <td>6.127858e+04</td>\n",
       "      <td>5.818165e+04</td>\n",
       "    </tr>\n",
       "    <tr>\n",
       "      <th>4</th>\n",
       "      <td>Brazil</td>\n",
       "      <td>grass1970</td>\n",
       "      <td>#FCCD2A</td>\n",
       "      <td>nonforest2020</td>\n",
       "      <td>#B7E0FF</td>\n",
       "      <td>1.518636e+05</td>\n",
       "      <td>1.513886e+05</td>\n",
       "    </tr>\n",
       "    <tr>\n",
       "      <th>...</th>\n",
       "      <td>...</td>\n",
       "      <td>...</td>\n",
       "      <td>...</td>\n",
       "      <td>...</td>\n",
       "      <td>...</td>\n",
       "      <td>...</td>\n",
       "      <td>...</td>\n",
       "    </tr>\n",
       "    <tr>\n",
       "      <th>225</th>\n",
       "      <td>W. Europe</td>\n",
       "      <td>grass1970</td>\n",
       "      <td>#FCCD2A</td>\n",
       "      <td>forest2020</td>\n",
       "      <td>#347928</td>\n",
       "      <td>4.339161e+04</td>\n",
       "      <td>4.275635e+04</td>\n",
       "    </tr>\n",
       "    <tr>\n",
       "      <th>226</th>\n",
       "      <td>W. Europe</td>\n",
       "      <td>grass1970</td>\n",
       "      <td>#FCCD2A</td>\n",
       "      <td>grass2020</td>\n",
       "      <td>#FCCD2A</td>\n",
       "      <td>2.025457e+05</td>\n",
       "      <td>2.029769e+05</td>\n",
       "    </tr>\n",
       "    <tr>\n",
       "      <th>227</th>\n",
       "      <td>W. Europe</td>\n",
       "      <td>grass1970</td>\n",
       "      <td>#FCCD2A</td>\n",
       "      <td>nonforest2020</td>\n",
       "      <td>#B7E0FF</td>\n",
       "      <td>8.464599e+04</td>\n",
       "      <td>8.431411e+04</td>\n",
       "    </tr>\n",
       "    <tr>\n",
       "      <th>228</th>\n",
       "      <td>W. Europe</td>\n",
       "      <td>nonforest1970</td>\n",
       "      <td>#B7E0FF</td>\n",
       "      <td>agri2020</td>\n",
       "      <td>#FF6600</td>\n",
       "      <td>7.885791e+05</td>\n",
       "      <td>7.720949e+05</td>\n",
       "    </tr>\n",
       "    <tr>\n",
       "      <th>229</th>\n",
       "      <td>W. Europe</td>\n",
       "      <td>nonforest1970</td>\n",
       "      <td>#B7E0FF</td>\n",
       "      <td>nonforest2020</td>\n",
       "      <td>#B7E0FF</td>\n",
       "      <td>2.768095e+07</td>\n",
       "      <td>2.762178e+07</td>\n",
       "    </tr>\n",
       "  </tbody>\n",
       "</table>\n",
       "<p>224 rows × 7 columns</p>\n",
       "</div>"
      ],
      "text/plain": [
       "    IMAGE Region Name       GLCT1970 color1970       GLCT2020 color2020  \\\n",
       "0              Brazil       agri1970   #FF6600       agri2020   #FF6600   \n",
       "1              Brazil     forest1970   #347928       agri2020   #FF6600   \n",
       "2              Brazil     forest1970   #347928     forest2020   #347928   \n",
       "3              Brazil      grass1970   #FCCD2A     forest2020   #347928   \n",
       "4              Brazil      grass1970   #FCCD2A  nonforest2020   #B7E0FF   \n",
       "..                ...            ...       ...            ...       ...   \n",
       "225         W. Europe      grass1970   #FCCD2A     forest2020   #347928   \n",
       "226         W. Europe      grass1970   #FCCD2A      grass2020   #FCCD2A   \n",
       "227         W. Europe      grass1970   #FCCD2A  nonforest2020   #B7E0FF   \n",
       "228         W. Europe  nonforest1970   #B7E0FF       agri2020   #FF6600   \n",
       "229         W. Europe  nonforest1970   #B7E0FF  nonforest2020   #B7E0FF   \n",
       "\n",
       "        GAREA1970     GAREA2020  \n",
       "0    1.953410e+08  1.938697e+08  \n",
       "1    3.891960e+07  3.867473e+07  \n",
       "2    4.160692e+08  4.154912e+08  \n",
       "3    6.127858e+04  5.818165e+04  \n",
       "4    1.518636e+05  1.513886e+05  \n",
       "..            ...           ...  \n",
       "225  4.339161e+04  4.275635e+04  \n",
       "226  2.025457e+05  2.029769e+05  \n",
       "227  8.464599e+04  8.431411e+04  \n",
       "228  7.885791e+05  7.720949e+05  \n",
       "229  2.768095e+07  2.762178e+07  \n",
       "\n",
       "[224 rows x 7 columns]"
      ]
     },
     "execution_count": 15,
     "metadata": {},
     "output_type": "execute_result"
    }
   ],
   "source": [
    "df_filtered1 = df_selected_index1[~df_selected_index1.apply(lambda row: row.astype(str).str.contains('ice').any(), axis=1)]\n",
    "df_filtered1"
   ]
  },
  {
   "cell_type": "code",
   "execution_count": 54,
   "metadata": {},
   "outputs": [
    {
     "data": {
      "text/html": [
       "<div>\n",
       "<style scoped>\n",
       "    .dataframe tbody tr th:only-of-type {\n",
       "        vertical-align: middle;\n",
       "    }\n",
       "\n",
       "    .dataframe tbody tr th {\n",
       "        vertical-align: top;\n",
       "    }\n",
       "\n",
       "    .dataframe thead th {\n",
       "        text-align: right;\n",
       "    }\n",
       "</style>\n",
       "<table border=\"1\" class=\"dataframe\">\n",
       "  <thead>\n",
       "    <tr style=\"text-align: right;\">\n",
       "      <th></th>\n",
       "      <th>IMAGE Region Name</th>\n",
       "      <th>forest</th>\n",
       "      <th>panel_sum</th>\n",
       "    </tr>\n",
       "  </thead>\n",
       "  <tbody>\n",
       "    <tr>\n",
       "      <th>0</th>\n",
       "      <td>Brazil</td>\n",
       "      <td>forest</td>\n",
       "      <td>3.767912e+07</td>\n",
       "    </tr>\n",
       "    <tr>\n",
       "      <th>1</th>\n",
       "      <td>Brazil</td>\n",
       "      <td>nonforest</td>\n",
       "      <td>5.672303e+07</td>\n",
       "    </tr>\n",
       "    <tr>\n",
       "      <th>2</th>\n",
       "      <td>C. Europe</td>\n",
       "      <td>forest</td>\n",
       "      <td>4.452729e+05</td>\n",
       "    </tr>\n",
       "    <tr>\n",
       "      <th>3</th>\n",
       "      <td>C. Europe</td>\n",
       "      <td>nonforest</td>\n",
       "      <td>1.278727e+04</td>\n",
       "    </tr>\n",
       "    <tr>\n",
       "      <th>4</th>\n",
       "      <td>Canada</td>\n",
       "      <td>forest</td>\n",
       "      <td>1.231777e+06</td>\n",
       "    </tr>\n",
       "  </tbody>\n",
       "</table>\n",
       "</div>"
      ],
      "text/plain": [
       "  IMAGE Region Name     forest     panel_sum\n",
       "0            Brazil     forest  3.767912e+07\n",
       "1            Brazil  nonforest  5.672303e+07\n",
       "2         C. Europe     forest  4.452729e+05\n",
       "3         C. Europe  nonforest  1.278727e+04\n",
       "4            Canada     forest  1.231777e+06"
      ]
     },
     "execution_count": 54,
     "metadata": {},
     "output_type": "execute_result"
    }
   ],
   "source": [
    "new_dataA = pd.read_excel(\"D:/kerja/asisten riset/code v/review/panelA_clean.xlsx\")\n",
    "new_dataA.head()"
   ]
  },
  {
   "cell_type": "code",
   "execution_count": 55,
   "metadata": {},
   "outputs": [
    {
     "data": {
      "text/html": [
       "<div>\n",
       "<style scoped>\n",
       "    .dataframe tbody tr th:only-of-type {\n",
       "        vertical-align: middle;\n",
       "    }\n",
       "\n",
       "    .dataframe tbody tr th {\n",
       "        vertical-align: top;\n",
       "    }\n",
       "\n",
       "    .dataframe thead th {\n",
       "        text-align: right;\n",
       "    }\n",
       "</style>\n",
       "<table border=\"1\" class=\"dataframe\">\n",
       "  <thead>\n",
       "    <tr style=\"text-align: right;\">\n",
       "      <th></th>\n",
       "      <th>IMAGE Region Name</th>\n",
       "      <th>GLCT1970</th>\n",
       "      <th>color1970</th>\n",
       "      <th>GLCT2020</th>\n",
       "      <th>color2020</th>\n",
       "      <th>GAREA1970</th>\n",
       "      <th>GAREA2020</th>\n",
       "    </tr>\n",
       "  </thead>\n",
       "  <tbody>\n",
       "    <tr>\n",
       "      <th>1</th>\n",
       "      <td>Brazil</td>\n",
       "      <td>forest1970</td>\n",
       "      <td>#347928</td>\n",
       "      <td>agri2020</td>\n",
       "      <td>#FF6600</td>\n",
       "      <td>0.0</td>\n",
       "      <td>0.0</td>\n",
       "    </tr>\n",
       "    <tr>\n",
       "      <th>5</th>\n",
       "      <td>Brazil</td>\n",
       "      <td>nonforest1970</td>\n",
       "      <td>#B7E0FF</td>\n",
       "      <td>agri2020</td>\n",
       "      <td>#FF6600</td>\n",
       "      <td>0.0</td>\n",
       "      <td>0.0</td>\n",
       "    </tr>\n",
       "    <tr>\n",
       "      <th>11</th>\n",
       "      <td>C. Europe</td>\n",
       "      <td>forest1970</td>\n",
       "      <td>#347928</td>\n",
       "      <td>agri2020</td>\n",
       "      <td>#FF6600</td>\n",
       "      <td>0.0</td>\n",
       "      <td>0.0</td>\n",
       "    </tr>\n",
       "    <tr>\n",
       "      <th>13</th>\n",
       "      <td>C. Europe</td>\n",
       "      <td>nonforest1970</td>\n",
       "      <td>#B7E0FF</td>\n",
       "      <td>agri2020</td>\n",
       "      <td>#FF6600</td>\n",
       "      <td>0.0</td>\n",
       "      <td>0.0</td>\n",
       "    </tr>\n",
       "    <tr>\n",
       "      <th>18</th>\n",
       "      <td>Canada</td>\n",
       "      <td>forest1970</td>\n",
       "      <td>#347928</td>\n",
       "      <td>agri2020</td>\n",
       "      <td>#FF6600</td>\n",
       "      <td>0.0</td>\n",
       "      <td>0.0</td>\n",
       "    </tr>\n",
       "    <tr>\n",
       "      <th>21</th>\n",
       "      <td>Canada</td>\n",
       "      <td>nonforest1970</td>\n",
       "      <td>#B7E0FF</td>\n",
       "      <td>agri2020</td>\n",
       "      <td>#FF6600</td>\n",
       "      <td>0.0</td>\n",
       "      <td>0.0</td>\n",
       "    </tr>\n",
       "    <tr>\n",
       "      <th>25</th>\n",
       "      <td>China</td>\n",
       "      <td>forest1970</td>\n",
       "      <td>#347928</td>\n",
       "      <td>agri2020</td>\n",
       "      <td>#FF6600</td>\n",
       "      <td>0.0</td>\n",
       "      <td>0.0</td>\n",
       "    </tr>\n",
       "    <tr>\n",
       "      <th>31</th>\n",
       "      <td>China</td>\n",
       "      <td>nonforest1970</td>\n",
       "      <td>#B7E0FF</td>\n",
       "      <td>agri2020</td>\n",
       "      <td>#FF6600</td>\n",
       "      <td>0.0</td>\n",
       "      <td>0.0</td>\n",
       "    </tr>\n",
       "    <tr>\n",
       "      <th>36</th>\n",
       "      <td>E. Africa</td>\n",
       "      <td>forest1970</td>\n",
       "      <td>#347928</td>\n",
       "      <td>agri2020</td>\n",
       "      <td>#FF6600</td>\n",
       "      <td>0.0</td>\n",
       "      <td>0.0</td>\n",
       "    </tr>\n",
       "    <tr>\n",
       "      <th>40</th>\n",
       "      <td>E. Africa</td>\n",
       "      <td>nonforest1970</td>\n",
       "      <td>#B7E0FF</td>\n",
       "      <td>agri2020</td>\n",
       "      <td>#FF6600</td>\n",
       "      <td>0.0</td>\n",
       "      <td>0.0</td>\n",
       "    </tr>\n",
       "    <tr>\n",
       "      <th>46</th>\n",
       "      <td>India</td>\n",
       "      <td>forest1970</td>\n",
       "      <td>#347928</td>\n",
       "      <td>agri2020</td>\n",
       "      <td>#FF6600</td>\n",
       "      <td>0.0</td>\n",
       "      <td>0.0</td>\n",
       "    </tr>\n",
       "    <tr>\n",
       "      <th>50</th>\n",
       "      <td>India</td>\n",
       "      <td>nonforest1970</td>\n",
       "      <td>#B7E0FF</td>\n",
       "      <td>agri2020</td>\n",
       "      <td>#FF6600</td>\n",
       "      <td>0.0</td>\n",
       "      <td>0.0</td>\n",
       "    </tr>\n",
       "    <tr>\n",
       "      <th>55</th>\n",
       "      <td>Indonesia</td>\n",
       "      <td>forest1970</td>\n",
       "      <td>#347928</td>\n",
       "      <td>agri2020</td>\n",
       "      <td>#FF6600</td>\n",
       "      <td>0.0</td>\n",
       "      <td>0.0</td>\n",
       "    </tr>\n",
       "    <tr>\n",
       "      <th>59</th>\n",
       "      <td>Indonesia</td>\n",
       "      <td>nonforest1970</td>\n",
       "      <td>#B7E0FF</td>\n",
       "      <td>agri2020</td>\n",
       "      <td>#FF6600</td>\n",
       "      <td>0.0</td>\n",
       "      <td>0.0</td>\n",
       "    </tr>\n",
       "    <tr>\n",
       "      <th>64</th>\n",
       "      <td>Japan</td>\n",
       "      <td>forest1970</td>\n",
       "      <td>#347928</td>\n",
       "      <td>agri2020</td>\n",
       "      <td>#FF6600</td>\n",
       "      <td>0.0</td>\n",
       "      <td>0.0</td>\n",
       "    </tr>\n",
       "    <tr>\n",
       "      <th>69</th>\n",
       "      <td>Kazakhstan region</td>\n",
       "      <td>forest1970</td>\n",
       "      <td>#347928</td>\n",
       "      <td>agri2020</td>\n",
       "      <td>#FF6600</td>\n",
       "      <td>0.0</td>\n",
       "      <td>0.0</td>\n",
       "    </tr>\n",
       "    <tr>\n",
       "      <th>74</th>\n",
       "      <td>Kazakhstan region</td>\n",
       "      <td>nonforest1970</td>\n",
       "      <td>#B7E0FF</td>\n",
       "      <td>agri2020</td>\n",
       "      <td>#FF6600</td>\n",
       "      <td>0.0</td>\n",
       "      <td>0.0</td>\n",
       "    </tr>\n",
       "    <tr>\n",
       "      <th>79</th>\n",
       "      <td>Korea</td>\n",
       "      <td>forest1970</td>\n",
       "      <td>#347928</td>\n",
       "      <td>agri2020</td>\n",
       "      <td>#FF6600</td>\n",
       "      <td>0.0</td>\n",
       "      <td>0.0</td>\n",
       "    </tr>\n",
       "    <tr>\n",
       "      <th>83</th>\n",
       "      <td>Mexico</td>\n",
       "      <td>forest1970</td>\n",
       "      <td>#347928</td>\n",
       "      <td>agri2020</td>\n",
       "      <td>#FF6600</td>\n",
       "      <td>0.0</td>\n",
       "      <td>0.0</td>\n",
       "    </tr>\n",
       "    <tr>\n",
       "      <th>88</th>\n",
       "      <td>Mexico</td>\n",
       "      <td>nonforest1970</td>\n",
       "      <td>#B7E0FF</td>\n",
       "      <td>agri2020</td>\n",
       "      <td>#FF6600</td>\n",
       "      <td>0.0</td>\n",
       "      <td>0.0</td>\n",
       "    </tr>\n",
       "    <tr>\n",
       "      <th>96</th>\n",
       "      <td>Middle East</td>\n",
       "      <td>nonforest1970</td>\n",
       "      <td>#B7E0FF</td>\n",
       "      <td>agri2020</td>\n",
       "      <td>#FF6600</td>\n",
       "      <td>0.0</td>\n",
       "      <td>0.0</td>\n",
       "    </tr>\n",
       "    <tr>\n",
       "      <th>103</th>\n",
       "      <td>N. Africa</td>\n",
       "      <td>nonforest1970</td>\n",
       "      <td>#B7E0FF</td>\n",
       "      <td>agri2020</td>\n",
       "      <td>#FF6600</td>\n",
       "      <td>0.0</td>\n",
       "      <td>0.0</td>\n",
       "    </tr>\n",
       "    <tr>\n",
       "      <th>109</th>\n",
       "      <td>Oceania</td>\n",
       "      <td>forest1970</td>\n",
       "      <td>#347928</td>\n",
       "      <td>agri2020</td>\n",
       "      <td>#FF6600</td>\n",
       "      <td>0.0</td>\n",
       "      <td>0.0</td>\n",
       "    </tr>\n",
       "    <tr>\n",
       "      <th>114</th>\n",
       "      <td>Oceania</td>\n",
       "      <td>nonforest1970</td>\n",
       "      <td>#B7E0FF</td>\n",
       "      <td>agri2020</td>\n",
       "      <td>#FF6600</td>\n",
       "      <td>0.0</td>\n",
       "      <td>0.0</td>\n",
       "    </tr>\n",
       "    <tr>\n",
       "      <th>119</th>\n",
       "      <td>Rest C. America</td>\n",
       "      <td>forest1970</td>\n",
       "      <td>#347928</td>\n",
       "      <td>agri2020</td>\n",
       "      <td>#FF6600</td>\n",
       "      <td>0.0</td>\n",
       "      <td>0.0</td>\n",
       "    </tr>\n",
       "    <tr>\n",
       "      <th>123</th>\n",
       "      <td>Rest C. America</td>\n",
       "      <td>nonforest1970</td>\n",
       "      <td>#B7E0FF</td>\n",
       "      <td>agri2020</td>\n",
       "      <td>#FF6600</td>\n",
       "      <td>0.0</td>\n",
       "      <td>0.0</td>\n",
       "    </tr>\n",
       "    <tr>\n",
       "      <th>127</th>\n",
       "      <td>Rest S. Africa</td>\n",
       "      <td>forest1970</td>\n",
       "      <td>#347928</td>\n",
       "      <td>agri2020</td>\n",
       "      <td>#FF6600</td>\n",
       "      <td>0.0</td>\n",
       "      <td>0.0</td>\n",
       "    </tr>\n",
       "    <tr>\n",
       "      <th>131</th>\n",
       "      <td>Rest S. Africa</td>\n",
       "      <td>nonforest1970</td>\n",
       "      <td>#B7E0FF</td>\n",
       "      <td>agri2020</td>\n",
       "      <td>#FF6600</td>\n",
       "      <td>0.0</td>\n",
       "      <td>0.0</td>\n",
       "    </tr>\n",
       "    <tr>\n",
       "      <th>135</th>\n",
       "      <td>Rest S. America</td>\n",
       "      <td>forest1970</td>\n",
       "      <td>#347928</td>\n",
       "      <td>agri2020</td>\n",
       "      <td>#FF6600</td>\n",
       "      <td>0.0</td>\n",
       "      <td>0.0</td>\n",
       "    </tr>\n",
       "    <tr>\n",
       "      <th>141</th>\n",
       "      <td>Rest S. America</td>\n",
       "      <td>nonforest1970</td>\n",
       "      <td>#B7E0FF</td>\n",
       "      <td>agri2020</td>\n",
       "      <td>#FF6600</td>\n",
       "      <td>0.0</td>\n",
       "      <td>0.0</td>\n",
       "    </tr>\n",
       "    <tr>\n",
       "      <th>148</th>\n",
       "      <td>Rest S. Asia</td>\n",
       "      <td>forest1970</td>\n",
       "      <td>#347928</td>\n",
       "      <td>agri2020</td>\n",
       "      <td>#FF6600</td>\n",
       "      <td>0.0</td>\n",
       "      <td>0.0</td>\n",
       "    </tr>\n",
       "    <tr>\n",
       "      <th>152</th>\n",
       "      <td>Rest S. Asia</td>\n",
       "      <td>nonforest1970</td>\n",
       "      <td>#B7E0FF</td>\n",
       "      <td>agri2020</td>\n",
       "      <td>#FF6600</td>\n",
       "      <td>0.0</td>\n",
       "      <td>0.0</td>\n",
       "    </tr>\n",
       "    <tr>\n",
       "      <th>157</th>\n",
       "      <td>Russia</td>\n",
       "      <td>forest1970</td>\n",
       "      <td>#347928</td>\n",
       "      <td>agri2020</td>\n",
       "      <td>#FF6600</td>\n",
       "      <td>0.0</td>\n",
       "      <td>0.0</td>\n",
       "    </tr>\n",
       "    <tr>\n",
       "      <th>163</th>\n",
       "      <td>Russia</td>\n",
       "      <td>nonforest1970</td>\n",
       "      <td>#B7E0FF</td>\n",
       "      <td>agri2020</td>\n",
       "      <td>#FF6600</td>\n",
       "      <td>0.0</td>\n",
       "      <td>0.0</td>\n",
       "    </tr>\n",
       "    <tr>\n",
       "      <th>166</th>\n",
       "      <td>SE. Asia</td>\n",
       "      <td>forest1970</td>\n",
       "      <td>#347928</td>\n",
       "      <td>agri2020</td>\n",
       "      <td>#FF6600</td>\n",
       "      <td>0.0</td>\n",
       "      <td>0.0</td>\n",
       "    </tr>\n",
       "    <tr>\n",
       "      <th>170</th>\n",
       "      <td>SE. Asia</td>\n",
       "      <td>nonforest1970</td>\n",
       "      <td>#B7E0FF</td>\n",
       "      <td>agri2020</td>\n",
       "      <td>#FF6600</td>\n",
       "      <td>0.0</td>\n",
       "      <td>0.0</td>\n",
       "    </tr>\n",
       "    <tr>\n",
       "      <th>175</th>\n",
       "      <td>South Africa</td>\n",
       "      <td>forest1970</td>\n",
       "      <td>#347928</td>\n",
       "      <td>agri2020</td>\n",
       "      <td>#FF6600</td>\n",
       "      <td>0.0</td>\n",
       "      <td>0.0</td>\n",
       "    </tr>\n",
       "    <tr>\n",
       "      <th>179</th>\n",
       "      <td>South Africa</td>\n",
       "      <td>nonforest1970</td>\n",
       "      <td>#B7E0FF</td>\n",
       "      <td>agri2020</td>\n",
       "      <td>#FF6600</td>\n",
       "      <td>0.0</td>\n",
       "      <td>0.0</td>\n",
       "    </tr>\n",
       "    <tr>\n",
       "      <th>185</th>\n",
       "      <td>Turkey</td>\n",
       "      <td>forest1970</td>\n",
       "      <td>#347928</td>\n",
       "      <td>agri2020</td>\n",
       "      <td>#FF6600</td>\n",
       "      <td>0.0</td>\n",
       "      <td>0.0</td>\n",
       "    </tr>\n",
       "    <tr>\n",
       "      <th>188</th>\n",
       "      <td>Turkey</td>\n",
       "      <td>nonforest1970</td>\n",
       "      <td>#B7E0FF</td>\n",
       "      <td>agri2020</td>\n",
       "      <td>#FF6600</td>\n",
       "      <td>0.0</td>\n",
       "      <td>0.0</td>\n",
       "    </tr>\n",
       "    <tr>\n",
       "      <th>194</th>\n",
       "      <td>USA</td>\n",
       "      <td>forest1970</td>\n",
       "      <td>#347928</td>\n",
       "      <td>agri2020</td>\n",
       "      <td>#FF6600</td>\n",
       "      <td>0.0</td>\n",
       "      <td>0.0</td>\n",
       "    </tr>\n",
       "    <tr>\n",
       "      <th>200</th>\n",
       "      <td>USA</td>\n",
       "      <td>nonforest1970</td>\n",
       "      <td>#B7E0FF</td>\n",
       "      <td>agri2020</td>\n",
       "      <td>#FF6600</td>\n",
       "      <td>0.0</td>\n",
       "      <td>0.0</td>\n",
       "    </tr>\n",
       "    <tr>\n",
       "      <th>205</th>\n",
       "      <td>Ukraine region</td>\n",
       "      <td>forest1970</td>\n",
       "      <td>#347928</td>\n",
       "      <td>agri2020</td>\n",
       "      <td>#FF6600</td>\n",
       "      <td>0.0</td>\n",
       "      <td>0.0</td>\n",
       "    </tr>\n",
       "    <tr>\n",
       "      <th>208</th>\n",
       "      <td>Ukraine region</td>\n",
       "      <td>nonforest1970</td>\n",
       "      <td>#B7E0FF</td>\n",
       "      <td>agri2020</td>\n",
       "      <td>#FF6600</td>\n",
       "      <td>0.0</td>\n",
       "      <td>0.0</td>\n",
       "    </tr>\n",
       "    <tr>\n",
       "      <th>212</th>\n",
       "      <td>W. Africa</td>\n",
       "      <td>forest1970</td>\n",
       "      <td>#347928</td>\n",
       "      <td>agri2020</td>\n",
       "      <td>#FF6600</td>\n",
       "      <td>0.0</td>\n",
       "      <td>0.0</td>\n",
       "    </tr>\n",
       "    <tr>\n",
       "      <th>217</th>\n",
       "      <td>W. Africa</td>\n",
       "      <td>nonforest1970</td>\n",
       "      <td>#B7E0FF</td>\n",
       "      <td>agri2020</td>\n",
       "      <td>#FF6600</td>\n",
       "      <td>0.0</td>\n",
       "      <td>0.0</td>\n",
       "    </tr>\n",
       "    <tr>\n",
       "      <th>223</th>\n",
       "      <td>W. Europe</td>\n",
       "      <td>forest1970</td>\n",
       "      <td>#347928</td>\n",
       "      <td>agri2020</td>\n",
       "      <td>#FF6600</td>\n",
       "      <td>0.0</td>\n",
       "      <td>0.0</td>\n",
       "    </tr>\n",
       "    <tr>\n",
       "      <th>228</th>\n",
       "      <td>W. Europe</td>\n",
       "      <td>nonforest1970</td>\n",
       "      <td>#B7E0FF</td>\n",
       "      <td>agri2020</td>\n",
       "      <td>#FF6600</td>\n",
       "      <td>0.0</td>\n",
       "      <td>0.0</td>\n",
       "    </tr>\n",
       "  </tbody>\n",
       "</table>\n",
       "</div>"
      ],
      "text/plain": [
       "     IMAGE Region Name       GLCT1970 color1970  GLCT2020 color2020  \\\n",
       "1               Brazil     forest1970   #347928  agri2020   #FF6600   \n",
       "5               Brazil  nonforest1970   #B7E0FF  agri2020   #FF6600   \n",
       "11           C. Europe     forest1970   #347928  agri2020   #FF6600   \n",
       "13           C. Europe  nonforest1970   #B7E0FF  agri2020   #FF6600   \n",
       "18              Canada     forest1970   #347928  agri2020   #FF6600   \n",
       "21              Canada  nonforest1970   #B7E0FF  agri2020   #FF6600   \n",
       "25               China     forest1970   #347928  agri2020   #FF6600   \n",
       "31               China  nonforest1970   #B7E0FF  agri2020   #FF6600   \n",
       "36           E. Africa     forest1970   #347928  agri2020   #FF6600   \n",
       "40           E. Africa  nonforest1970   #B7E0FF  agri2020   #FF6600   \n",
       "46               India     forest1970   #347928  agri2020   #FF6600   \n",
       "50               India  nonforest1970   #B7E0FF  agri2020   #FF6600   \n",
       "55           Indonesia     forest1970   #347928  agri2020   #FF6600   \n",
       "59           Indonesia  nonforest1970   #B7E0FF  agri2020   #FF6600   \n",
       "64               Japan     forest1970   #347928  agri2020   #FF6600   \n",
       "69   Kazakhstan region     forest1970   #347928  agri2020   #FF6600   \n",
       "74   Kazakhstan region  nonforest1970   #B7E0FF  agri2020   #FF6600   \n",
       "79               Korea     forest1970   #347928  agri2020   #FF6600   \n",
       "83              Mexico     forest1970   #347928  agri2020   #FF6600   \n",
       "88              Mexico  nonforest1970   #B7E0FF  agri2020   #FF6600   \n",
       "96         Middle East  nonforest1970   #B7E0FF  agri2020   #FF6600   \n",
       "103          N. Africa  nonforest1970   #B7E0FF  agri2020   #FF6600   \n",
       "109            Oceania     forest1970   #347928  agri2020   #FF6600   \n",
       "114            Oceania  nonforest1970   #B7E0FF  agri2020   #FF6600   \n",
       "119    Rest C. America     forest1970   #347928  agri2020   #FF6600   \n",
       "123    Rest C. America  nonforest1970   #B7E0FF  agri2020   #FF6600   \n",
       "127     Rest S. Africa     forest1970   #347928  agri2020   #FF6600   \n",
       "131     Rest S. Africa  nonforest1970   #B7E0FF  agri2020   #FF6600   \n",
       "135    Rest S. America     forest1970   #347928  agri2020   #FF6600   \n",
       "141    Rest S. America  nonforest1970   #B7E0FF  agri2020   #FF6600   \n",
       "148       Rest S. Asia     forest1970   #347928  agri2020   #FF6600   \n",
       "152       Rest S. Asia  nonforest1970   #B7E0FF  agri2020   #FF6600   \n",
       "157             Russia     forest1970   #347928  agri2020   #FF6600   \n",
       "163             Russia  nonforest1970   #B7E0FF  agri2020   #FF6600   \n",
       "166           SE. Asia     forest1970   #347928  agri2020   #FF6600   \n",
       "170           SE. Asia  nonforest1970   #B7E0FF  agri2020   #FF6600   \n",
       "175       South Africa     forest1970   #347928  agri2020   #FF6600   \n",
       "179       South Africa  nonforest1970   #B7E0FF  agri2020   #FF6600   \n",
       "185             Turkey     forest1970   #347928  agri2020   #FF6600   \n",
       "188             Turkey  nonforest1970   #B7E0FF  agri2020   #FF6600   \n",
       "194                USA     forest1970   #347928  agri2020   #FF6600   \n",
       "200                USA  nonforest1970   #B7E0FF  agri2020   #FF6600   \n",
       "205     Ukraine region     forest1970   #347928  agri2020   #FF6600   \n",
       "208     Ukraine region  nonforest1970   #B7E0FF  agri2020   #FF6600   \n",
       "212          W. Africa     forest1970   #347928  agri2020   #FF6600   \n",
       "217          W. Africa  nonforest1970   #B7E0FF  agri2020   #FF6600   \n",
       "223          W. Europe     forest1970   #347928  agri2020   #FF6600   \n",
       "228          W. Europe  nonforest1970   #B7E0FF  agri2020   #FF6600   \n",
       "\n",
       "     GAREA1970  GAREA2020  \n",
       "1          0.0        0.0  \n",
       "5          0.0        0.0  \n",
       "11         0.0        0.0  \n",
       "13         0.0        0.0  \n",
       "18         0.0        0.0  \n",
       "21         0.0        0.0  \n",
       "25         0.0        0.0  \n",
       "31         0.0        0.0  \n",
       "36         0.0        0.0  \n",
       "40         0.0        0.0  \n",
       "46         0.0        0.0  \n",
       "50         0.0        0.0  \n",
       "55         0.0        0.0  \n",
       "59         0.0        0.0  \n",
       "64         0.0        0.0  \n",
       "69         0.0        0.0  \n",
       "74         0.0        0.0  \n",
       "79         0.0        0.0  \n",
       "83         0.0        0.0  \n",
       "88         0.0        0.0  \n",
       "96         0.0        0.0  \n",
       "103        0.0        0.0  \n",
       "109        0.0        0.0  \n",
       "114        0.0        0.0  \n",
       "119        0.0        0.0  \n",
       "123        0.0        0.0  \n",
       "127        0.0        0.0  \n",
       "131        0.0        0.0  \n",
       "135        0.0        0.0  \n",
       "141        0.0        0.0  \n",
       "148        0.0        0.0  \n",
       "152        0.0        0.0  \n",
       "157        0.0        0.0  \n",
       "163        0.0        0.0  \n",
       "166        0.0        0.0  \n",
       "170        0.0        0.0  \n",
       "175        0.0        0.0  \n",
       "179        0.0        0.0  \n",
       "185        0.0        0.0  \n",
       "188        0.0        0.0  \n",
       "194        0.0        0.0  \n",
       "200        0.0        0.0  \n",
       "205        0.0        0.0  \n",
       "208        0.0        0.0  \n",
       "212        0.0        0.0  \n",
       "217        0.0        0.0  \n",
       "223        0.0        0.0  \n",
       "228        0.0        0.0  "
      ]
     },
     "execution_count": 55,
     "metadata": {},
     "output_type": "execute_result"
    }
   ],
   "source": [
    "panelA = df_filtered1[(df_filtered1['GLCT1970'] != 'agri1970') & (df_filtered1['GLCT2020'] == 'agri2020')]\n",
    "panelA.loc[:, 'GAREA1970'] = 0\n",
    "panelA.loc[:, 'GAREA2020'] = 0\n",
    "panelA"
   ]
  },
  {
   "cell_type": "code",
   "execution_count": 69,
   "metadata": {},
   "outputs": [],
   "source": [
    "\n",
    "# jika pada data `panelA` memiliki IMAGE Region Name yang sama dengan IMAGE Region Name pada data `new_dataA`, dan memiliki `GLCT1970` yang sama pada data `panelA` dengan `forest` pada data `new_dataA`\n",
    "# contoh kolom `GLCT1970` pada data `panelA` berisi `forest1970` panelA[panelA.apply(lambda row: row.astype(str).str.contains('forest').any(), axis=1)], dan kolom  `forest` berisi `forest` pada data `new_dataA`\n",
    "\n",
    "def update_panel_data(panel, new_data, data):\n",
    "    \"\"\"\n",
    "    Update panel data based on matching conditions with new data.\n",
    "    \n",
    "    Parameters:\n",
    "    panel : pandas DataFrame\n",
    "        Panel data with GLCT1970, GLCT2020, and GAREA columns\n",
    "    new_data : pandas DataFrame\n",
    "        New data with forest type information and values\n",
    "        \n",
    "    Returns:\n",
    "    pandas DataFrame\n",
    "        Updated panel data with merged area values\n",
    "    \"\"\"\n",
    "    if data == \"A\":\n",
    "        # Create a copy of panel to avoid modifying original data\n",
    "        updated_panel = panel.copy()\n",
    "        \n",
    "        # Create mapping conditions\n",
    "        def map_values(row):\n",
    "            # Find matching rows in new_data\n",
    "            matching_row = new_data[\n",
    "                (new_data['IMAGE Region Name'] == row['IMAGE Region Name']) &\n",
    "                (new_data['forest'] == row['GLCT1970'].replace('1970', ''))\n",
    "            ]\n",
    "            \n",
    "            if not matching_row.empty:\n",
    "                # Update 1970 and 2020 values if match found\n",
    "                row['GAREA1970'] = matching_row['panel_sum'].values[0]\n",
    "                row['GAREA2020'] = matching_row['panel_sum'].values[0]\n",
    "                \n",
    "            return row\n",
    "        \n",
    "        # Apply the mapping\n",
    "        updated_panel = updated_panel.apply(map_values, axis=1)\n",
    "        \n",
    "        return updated_panel\n",
    "    \n",
    "    elif data == \"B\":\n",
    "        # Create a copy of panel to avoid modifying original data\n",
    "        updated_panel = panel.copy()\n",
    "        \n",
    "        # Create mapping conditions\n",
    "        def map_values(row):\n",
    "            # Find matching rows in new_data\n",
    "            matching_row = new_data[\n",
    "                (new_data['IMAGE Region Name'] == row['IMAGE Region Name']) &\n",
    "                (new_data['forest'] == row['GLCT2020'].replace('2020', ''))\n",
    "            ]\n",
    "            \n",
    "            if not matching_row.empty:\n",
    "                # Update 1970 and 2020 values if match found\n",
    "                row['GAREA1970'] = matching_row['panel_sum'].values[0]\n",
    "                row['GAREA2020'] = matching_row['panel_sum'].values[0]\n",
    "                \n",
    "            return row\n",
    "        \n",
    "        # Apply the mapping\n",
    "        updated_panel = updated_panel.apply(map_values, axis=1)\n",
    "        \n",
    "        return updated_panel\n"
   ]
  },
  {
   "cell_type": "code",
   "execution_count": 70,
   "metadata": {},
   "outputs": [
    {
     "data": {
      "text/html": [
       "<div>\n",
       "<style scoped>\n",
       "    .dataframe tbody tr th:only-of-type {\n",
       "        vertical-align: middle;\n",
       "    }\n",
       "\n",
       "    .dataframe tbody tr th {\n",
       "        vertical-align: top;\n",
       "    }\n",
       "\n",
       "    .dataframe thead th {\n",
       "        text-align: right;\n",
       "    }\n",
       "</style>\n",
       "<table border=\"1\" class=\"dataframe\">\n",
       "  <thead>\n",
       "    <tr style=\"text-align: right;\">\n",
       "      <th></th>\n",
       "      <th>IMAGE Region Name</th>\n",
       "      <th>GLCT1970</th>\n",
       "      <th>color1970</th>\n",
       "      <th>GLCT2020</th>\n",
       "      <th>color2020</th>\n",
       "      <th>GAREA1970</th>\n",
       "      <th>GAREA2020</th>\n",
       "    </tr>\n",
       "  </thead>\n",
       "  <tbody>\n",
       "    <tr>\n",
       "      <th>1</th>\n",
       "      <td>Brazil</td>\n",
       "      <td>forest1970</td>\n",
       "      <td>#347928</td>\n",
       "      <td>agri2020</td>\n",
       "      <td>#FF6600</td>\n",
       "      <td>3.767912e+07</td>\n",
       "      <td>3.767912e+07</td>\n",
       "    </tr>\n",
       "    <tr>\n",
       "      <th>5</th>\n",
       "      <td>Brazil</td>\n",
       "      <td>nonforest1970</td>\n",
       "      <td>#B7E0FF</td>\n",
       "      <td>agri2020</td>\n",
       "      <td>#FF6600</td>\n",
       "      <td>5.672303e+07</td>\n",
       "      <td>5.672303e+07</td>\n",
       "    </tr>\n",
       "    <tr>\n",
       "      <th>11</th>\n",
       "      <td>C. Europe</td>\n",
       "      <td>forest1970</td>\n",
       "      <td>#347928</td>\n",
       "      <td>agri2020</td>\n",
       "      <td>#FF6600</td>\n",
       "      <td>4.452729e+05</td>\n",
       "      <td>4.452729e+05</td>\n",
       "    </tr>\n",
       "    <tr>\n",
       "      <th>13</th>\n",
       "      <td>C. Europe</td>\n",
       "      <td>nonforest1970</td>\n",
       "      <td>#B7E0FF</td>\n",
       "      <td>agri2020</td>\n",
       "      <td>#FF6600</td>\n",
       "      <td>1.278727e+04</td>\n",
       "      <td>1.278727e+04</td>\n",
       "    </tr>\n",
       "    <tr>\n",
       "      <th>18</th>\n",
       "      <td>Canada</td>\n",
       "      <td>forest1970</td>\n",
       "      <td>#347928</td>\n",
       "      <td>agri2020</td>\n",
       "      <td>#FF6600</td>\n",
       "      <td>1.231777e+06</td>\n",
       "      <td>1.231777e+06</td>\n",
       "    </tr>\n",
       "    <tr>\n",
       "      <th>21</th>\n",
       "      <td>Canada</td>\n",
       "      <td>nonforest1970</td>\n",
       "      <td>#B7E0FF</td>\n",
       "      <td>agri2020</td>\n",
       "      <td>#FF6600</td>\n",
       "      <td>1.679671e+06</td>\n",
       "      <td>1.679671e+06</td>\n",
       "    </tr>\n",
       "    <tr>\n",
       "      <th>25</th>\n",
       "      <td>China</td>\n",
       "      <td>forest1970</td>\n",
       "      <td>#347928</td>\n",
       "      <td>agri2020</td>\n",
       "      <td>#FF6600</td>\n",
       "      <td>9.075342e+07</td>\n",
       "      <td>9.075342e+07</td>\n",
       "    </tr>\n",
       "    <tr>\n",
       "      <th>31</th>\n",
       "      <td>China</td>\n",
       "      <td>nonforest1970</td>\n",
       "      <td>#B7E0FF</td>\n",
       "      <td>agri2020</td>\n",
       "      <td>#FF6600</td>\n",
       "      <td>6.737439e+07</td>\n",
       "      <td>6.737439e+07</td>\n",
       "    </tr>\n",
       "    <tr>\n",
       "      <th>36</th>\n",
       "      <td>E. Africa</td>\n",
       "      <td>forest1970</td>\n",
       "      <td>#347928</td>\n",
       "      <td>agri2020</td>\n",
       "      <td>#FF6600</td>\n",
       "      <td>9.719229e+06</td>\n",
       "      <td>9.719229e+06</td>\n",
       "    </tr>\n",
       "    <tr>\n",
       "      <th>40</th>\n",
       "      <td>E. Africa</td>\n",
       "      <td>nonforest1970</td>\n",
       "      <td>#B7E0FF</td>\n",
       "      <td>agri2020</td>\n",
       "      <td>#FF6600</td>\n",
       "      <td>3.826849e+07</td>\n",
       "      <td>3.826849e+07</td>\n",
       "    </tr>\n",
       "    <tr>\n",
       "      <th>46</th>\n",
       "      <td>India</td>\n",
       "      <td>forest1970</td>\n",
       "      <td>#347928</td>\n",
       "      <td>agri2020</td>\n",
       "      <td>#FF6600</td>\n",
       "      <td>5.273212e+05</td>\n",
       "      <td>5.273212e+05</td>\n",
       "    </tr>\n",
       "    <tr>\n",
       "      <th>50</th>\n",
       "      <td>India</td>\n",
       "      <td>nonforest1970</td>\n",
       "      <td>#B7E0FF</td>\n",
       "      <td>agri2020</td>\n",
       "      <td>#FF6600</td>\n",
       "      <td>7.664571e+06</td>\n",
       "      <td>7.664571e+06</td>\n",
       "    </tr>\n",
       "    <tr>\n",
       "      <th>55</th>\n",
       "      <td>Indonesia</td>\n",
       "      <td>forest1970</td>\n",
       "      <td>#347928</td>\n",
       "      <td>agri2020</td>\n",
       "      <td>#FF6600</td>\n",
       "      <td>2.285258e+07</td>\n",
       "      <td>2.285258e+07</td>\n",
       "    </tr>\n",
       "    <tr>\n",
       "      <th>59</th>\n",
       "      <td>Indonesia</td>\n",
       "      <td>nonforest1970</td>\n",
       "      <td>#B7E0FF</td>\n",
       "      <td>agri2020</td>\n",
       "      <td>#FF6600</td>\n",
       "      <td>1.329301e+06</td>\n",
       "      <td>1.329301e+06</td>\n",
       "    </tr>\n",
       "    <tr>\n",
       "      <th>64</th>\n",
       "      <td>Japan</td>\n",
       "      <td>forest1970</td>\n",
       "      <td>#347928</td>\n",
       "      <td>agri2020</td>\n",
       "      <td>#FF6600</td>\n",
       "      <td>2.128624e+05</td>\n",
       "      <td>2.128624e+05</td>\n",
       "    </tr>\n",
       "    <tr>\n",
       "      <th>69</th>\n",
       "      <td>Kazakhstan region</td>\n",
       "      <td>forest1970</td>\n",
       "      <td>#347928</td>\n",
       "      <td>agri2020</td>\n",
       "      <td>#FF6600</td>\n",
       "      <td>2.634308e+06</td>\n",
       "      <td>2.634308e+06</td>\n",
       "    </tr>\n",
       "    <tr>\n",
       "      <th>74</th>\n",
       "      <td>Kazakhstan region</td>\n",
       "      <td>nonforest1970</td>\n",
       "      <td>#B7E0FF</td>\n",
       "      <td>agri2020</td>\n",
       "      <td>#FF6600</td>\n",
       "      <td>2.388146e+07</td>\n",
       "      <td>2.388146e+07</td>\n",
       "    </tr>\n",
       "    <tr>\n",
       "      <th>79</th>\n",
       "      <td>Korea</td>\n",
       "      <td>forest1970</td>\n",
       "      <td>#347928</td>\n",
       "      <td>agri2020</td>\n",
       "      <td>#FF6600</td>\n",
       "      <td>1.783044e+05</td>\n",
       "      <td>1.783044e+05</td>\n",
       "    </tr>\n",
       "    <tr>\n",
       "      <th>83</th>\n",
       "      <td>Mexico</td>\n",
       "      <td>forest1970</td>\n",
       "      <td>#347928</td>\n",
       "      <td>agri2020</td>\n",
       "      <td>#FF6600</td>\n",
       "      <td>2.165577e+06</td>\n",
       "      <td>2.165577e+06</td>\n",
       "    </tr>\n",
       "    <tr>\n",
       "      <th>88</th>\n",
       "      <td>Mexico</td>\n",
       "      <td>nonforest1970</td>\n",
       "      <td>#B7E0FF</td>\n",
       "      <td>agri2020</td>\n",
       "      <td>#FF6600</td>\n",
       "      <td>8.107722e+06</td>\n",
       "      <td>8.107722e+06</td>\n",
       "    </tr>\n",
       "    <tr>\n",
       "      <th>96</th>\n",
       "      <td>Middle East</td>\n",
       "      <td>nonforest1970</td>\n",
       "      <td>#B7E0FF</td>\n",
       "      <td>agri2020</td>\n",
       "      <td>#FF6600</td>\n",
       "      <td>1.448643e+07</td>\n",
       "      <td>1.448643e+07</td>\n",
       "    </tr>\n",
       "    <tr>\n",
       "      <th>103</th>\n",
       "      <td>N. Africa</td>\n",
       "      <td>nonforest1970</td>\n",
       "      <td>#B7E0FF</td>\n",
       "      <td>agri2020</td>\n",
       "      <td>#FF6600</td>\n",
       "      <td>1.019918e+07</td>\n",
       "      <td>1.019918e+07</td>\n",
       "    </tr>\n",
       "    <tr>\n",
       "      <th>109</th>\n",
       "      <td>Oceania</td>\n",
       "      <td>forest1970</td>\n",
       "      <td>#347928</td>\n",
       "      <td>agri2020</td>\n",
       "      <td>#FF6600</td>\n",
       "      <td>1.663799e+06</td>\n",
       "      <td>1.663799e+06</td>\n",
       "    </tr>\n",
       "    <tr>\n",
       "      <th>114</th>\n",
       "      <td>Oceania</td>\n",
       "      <td>nonforest1970</td>\n",
       "      <td>#B7E0FF</td>\n",
       "      <td>agri2020</td>\n",
       "      <td>#FF6600</td>\n",
       "      <td>4.945789e+06</td>\n",
       "      <td>4.945789e+06</td>\n",
       "    </tr>\n",
       "    <tr>\n",
       "      <th>119</th>\n",
       "      <td>Rest C. America</td>\n",
       "      <td>forest1970</td>\n",
       "      <td>#347928</td>\n",
       "      <td>agri2020</td>\n",
       "      <td>#FF6600</td>\n",
       "      <td>5.132824e+06</td>\n",
       "      <td>5.132824e+06</td>\n",
       "    </tr>\n",
       "    <tr>\n",
       "      <th>123</th>\n",
       "      <td>Rest C. America</td>\n",
       "      <td>nonforest1970</td>\n",
       "      <td>#B7E0FF</td>\n",
       "      <td>agri2020</td>\n",
       "      <td>#FF6600</td>\n",
       "      <td>1.377447e+06</td>\n",
       "      <td>1.377447e+06</td>\n",
       "    </tr>\n",
       "    <tr>\n",
       "      <th>127</th>\n",
       "      <td>Rest S. Africa</td>\n",
       "      <td>forest1970</td>\n",
       "      <td>#347928</td>\n",
       "      <td>agri2020</td>\n",
       "      <td>#FF6600</td>\n",
       "      <td>9.286606e+05</td>\n",
       "      <td>9.286606e+05</td>\n",
       "    </tr>\n",
       "    <tr>\n",
       "      <th>131</th>\n",
       "      <td>Rest S. Africa</td>\n",
       "      <td>nonforest1970</td>\n",
       "      <td>#B7E0FF</td>\n",
       "      <td>agri2020</td>\n",
       "      <td>#FF6600</td>\n",
       "      <td>3.030341e+07</td>\n",
       "      <td>3.030341e+07</td>\n",
       "    </tr>\n",
       "    <tr>\n",
       "      <th>135</th>\n",
       "      <td>Rest S. America</td>\n",
       "      <td>forest1970</td>\n",
       "      <td>#347928</td>\n",
       "      <td>agri2020</td>\n",
       "      <td>#FF6600</td>\n",
       "      <td>2.711063e+07</td>\n",
       "      <td>2.711063e+07</td>\n",
       "    </tr>\n",
       "    <tr>\n",
       "      <th>141</th>\n",
       "      <td>Rest S. America</td>\n",
       "      <td>nonforest1970</td>\n",
       "      <td>#B7E0FF</td>\n",
       "      <td>agri2020</td>\n",
       "      <td>#FF6600</td>\n",
       "      <td>3.521150e+07</td>\n",
       "      <td>3.521150e+07</td>\n",
       "    </tr>\n",
       "    <tr>\n",
       "      <th>148</th>\n",
       "      <td>Rest S. Asia</td>\n",
       "      <td>forest1970</td>\n",
       "      <td>#347928</td>\n",
       "      <td>agri2020</td>\n",
       "      <td>#FF6600</td>\n",
       "      <td>8.060907e+06</td>\n",
       "      <td>8.060907e+06</td>\n",
       "    </tr>\n",
       "    <tr>\n",
       "      <th>152</th>\n",
       "      <td>Rest S. Asia</td>\n",
       "      <td>nonforest1970</td>\n",
       "      <td>#B7E0FF</td>\n",
       "      <td>agri2020</td>\n",
       "      <td>#FF6600</td>\n",
       "      <td>6.619496e+06</td>\n",
       "      <td>6.619496e+06</td>\n",
       "    </tr>\n",
       "    <tr>\n",
       "      <th>157</th>\n",
       "      <td>Russia</td>\n",
       "      <td>forest1970</td>\n",
       "      <td>#347928</td>\n",
       "      <td>agri2020</td>\n",
       "      <td>#FF6600</td>\n",
       "      <td>1.070691e+07</td>\n",
       "      <td>1.070691e+07</td>\n",
       "    </tr>\n",
       "    <tr>\n",
       "      <th>163</th>\n",
       "      <td>Russia</td>\n",
       "      <td>nonforest1970</td>\n",
       "      <td>#B7E0FF</td>\n",
       "      <td>agri2020</td>\n",
       "      <td>#FF6600</td>\n",
       "      <td>6.911073e+06</td>\n",
       "      <td>6.911073e+06</td>\n",
       "    </tr>\n",
       "    <tr>\n",
       "      <th>166</th>\n",
       "      <td>SE. Asia</td>\n",
       "      <td>forest1970</td>\n",
       "      <td>#347928</td>\n",
       "      <td>agri2020</td>\n",
       "      <td>#FF6600</td>\n",
       "      <td>1.623400e+07</td>\n",
       "      <td>1.623400e+07</td>\n",
       "    </tr>\n",
       "    <tr>\n",
       "      <th>170</th>\n",
       "      <td>SE. Asia</td>\n",
       "      <td>nonforest1970</td>\n",
       "      <td>#B7E0FF</td>\n",
       "      <td>agri2020</td>\n",
       "      <td>#FF6600</td>\n",
       "      <td>1.579252e+07</td>\n",
       "      <td>1.579252e+07</td>\n",
       "    </tr>\n",
       "    <tr>\n",
       "      <th>175</th>\n",
       "      <td>South Africa</td>\n",
       "      <td>forest1970</td>\n",
       "      <td>#347928</td>\n",
       "      <td>agri2020</td>\n",
       "      <td>#FF6600</td>\n",
       "      <td>1.168809e+06</td>\n",
       "      <td>1.168809e+06</td>\n",
       "    </tr>\n",
       "    <tr>\n",
       "      <th>179</th>\n",
       "      <td>South Africa</td>\n",
       "      <td>nonforest1970</td>\n",
       "      <td>#B7E0FF</td>\n",
       "      <td>agri2020</td>\n",
       "      <td>#FF6600</td>\n",
       "      <td>3.729822e+06</td>\n",
       "      <td>3.729822e+06</td>\n",
       "    </tr>\n",
       "    <tr>\n",
       "      <th>185</th>\n",
       "      <td>Turkey</td>\n",
       "      <td>forest1970</td>\n",
       "      <td>#347928</td>\n",
       "      <td>agri2020</td>\n",
       "      <td>#FF6600</td>\n",
       "      <td>8.307908e+05</td>\n",
       "      <td>8.307908e+05</td>\n",
       "    </tr>\n",
       "    <tr>\n",
       "      <th>188</th>\n",
       "      <td>Turkey</td>\n",
       "      <td>nonforest1970</td>\n",
       "      <td>#B7E0FF</td>\n",
       "      <td>agri2020</td>\n",
       "      <td>#FF6600</td>\n",
       "      <td>5.647892e+06</td>\n",
       "      <td>5.647892e+06</td>\n",
       "    </tr>\n",
       "    <tr>\n",
       "      <th>194</th>\n",
       "      <td>USA</td>\n",
       "      <td>forest1970</td>\n",
       "      <td>#347928</td>\n",
       "      <td>agri2020</td>\n",
       "      <td>#FF6600</td>\n",
       "      <td>3.158292e+06</td>\n",
       "      <td>3.158292e+06</td>\n",
       "    </tr>\n",
       "    <tr>\n",
       "      <th>200</th>\n",
       "      <td>USA</td>\n",
       "      <td>nonforest1970</td>\n",
       "      <td>#B7E0FF</td>\n",
       "      <td>agri2020</td>\n",
       "      <td>#FF6600</td>\n",
       "      <td>4.551707e+06</td>\n",
       "      <td>4.551707e+06</td>\n",
       "    </tr>\n",
       "    <tr>\n",
       "      <th>205</th>\n",
       "      <td>Ukraine region</td>\n",
       "      <td>forest1970</td>\n",
       "      <td>#347928</td>\n",
       "      <td>agri2020</td>\n",
       "      <td>#FF6600</td>\n",
       "      <td>5.256506e+06</td>\n",
       "      <td>5.256506e+06</td>\n",
       "    </tr>\n",
       "    <tr>\n",
       "      <th>208</th>\n",
       "      <td>Ukraine region</td>\n",
       "      <td>nonforest1970</td>\n",
       "      <td>#B7E0FF</td>\n",
       "      <td>agri2020</td>\n",
       "      <td>#FF6600</td>\n",
       "      <td>2.872433e+06</td>\n",
       "      <td>2.872433e+06</td>\n",
       "    </tr>\n",
       "    <tr>\n",
       "      <th>212</th>\n",
       "      <td>W. Africa</td>\n",
       "      <td>forest1970</td>\n",
       "      <td>#347928</td>\n",
       "      <td>agri2020</td>\n",
       "      <td>#FF6600</td>\n",
       "      <td>2.393638e+07</td>\n",
       "      <td>2.393638e+07</td>\n",
       "    </tr>\n",
       "    <tr>\n",
       "      <th>217</th>\n",
       "      <td>W. Africa</td>\n",
       "      <td>nonforest1970</td>\n",
       "      <td>#B7E0FF</td>\n",
       "      <td>agri2020</td>\n",
       "      <td>#FF6600</td>\n",
       "      <td>5.362319e+07</td>\n",
       "      <td>5.362319e+07</td>\n",
       "    </tr>\n",
       "    <tr>\n",
       "      <th>223</th>\n",
       "      <td>W. Europe</td>\n",
       "      <td>forest1970</td>\n",
       "      <td>#347928</td>\n",
       "      <td>agri2020</td>\n",
       "      <td>#FF6600</td>\n",
       "      <td>2.061455e+06</td>\n",
       "      <td>2.061455e+06</td>\n",
       "    </tr>\n",
       "    <tr>\n",
       "      <th>228</th>\n",
       "      <td>W. Europe</td>\n",
       "      <td>nonforest1970</td>\n",
       "      <td>#B7E0FF</td>\n",
       "      <td>agri2020</td>\n",
       "      <td>#FF6600</td>\n",
       "      <td>1.520850e+05</td>\n",
       "      <td>1.520850e+05</td>\n",
       "    </tr>\n",
       "  </tbody>\n",
       "</table>\n",
       "</div>"
      ],
      "text/plain": [
       "     IMAGE Region Name       GLCT1970 color1970  GLCT2020 color2020  \\\n",
       "1               Brazil     forest1970   #347928  agri2020   #FF6600   \n",
       "5               Brazil  nonforest1970   #B7E0FF  agri2020   #FF6600   \n",
       "11           C. Europe     forest1970   #347928  agri2020   #FF6600   \n",
       "13           C. Europe  nonforest1970   #B7E0FF  agri2020   #FF6600   \n",
       "18              Canada     forest1970   #347928  agri2020   #FF6600   \n",
       "21              Canada  nonforest1970   #B7E0FF  agri2020   #FF6600   \n",
       "25               China     forest1970   #347928  agri2020   #FF6600   \n",
       "31               China  nonforest1970   #B7E0FF  agri2020   #FF6600   \n",
       "36           E. Africa     forest1970   #347928  agri2020   #FF6600   \n",
       "40           E. Africa  nonforest1970   #B7E0FF  agri2020   #FF6600   \n",
       "46               India     forest1970   #347928  agri2020   #FF6600   \n",
       "50               India  nonforest1970   #B7E0FF  agri2020   #FF6600   \n",
       "55           Indonesia     forest1970   #347928  agri2020   #FF6600   \n",
       "59           Indonesia  nonforest1970   #B7E0FF  agri2020   #FF6600   \n",
       "64               Japan     forest1970   #347928  agri2020   #FF6600   \n",
       "69   Kazakhstan region     forest1970   #347928  agri2020   #FF6600   \n",
       "74   Kazakhstan region  nonforest1970   #B7E0FF  agri2020   #FF6600   \n",
       "79               Korea     forest1970   #347928  agri2020   #FF6600   \n",
       "83              Mexico     forest1970   #347928  agri2020   #FF6600   \n",
       "88              Mexico  nonforest1970   #B7E0FF  agri2020   #FF6600   \n",
       "96         Middle East  nonforest1970   #B7E0FF  agri2020   #FF6600   \n",
       "103          N. Africa  nonforest1970   #B7E0FF  agri2020   #FF6600   \n",
       "109            Oceania     forest1970   #347928  agri2020   #FF6600   \n",
       "114            Oceania  nonforest1970   #B7E0FF  agri2020   #FF6600   \n",
       "119    Rest C. America     forest1970   #347928  agri2020   #FF6600   \n",
       "123    Rest C. America  nonforest1970   #B7E0FF  agri2020   #FF6600   \n",
       "127     Rest S. Africa     forest1970   #347928  agri2020   #FF6600   \n",
       "131     Rest S. Africa  nonforest1970   #B7E0FF  agri2020   #FF6600   \n",
       "135    Rest S. America     forest1970   #347928  agri2020   #FF6600   \n",
       "141    Rest S. America  nonforest1970   #B7E0FF  agri2020   #FF6600   \n",
       "148       Rest S. Asia     forest1970   #347928  agri2020   #FF6600   \n",
       "152       Rest S. Asia  nonforest1970   #B7E0FF  agri2020   #FF6600   \n",
       "157             Russia     forest1970   #347928  agri2020   #FF6600   \n",
       "163             Russia  nonforest1970   #B7E0FF  agri2020   #FF6600   \n",
       "166           SE. Asia     forest1970   #347928  agri2020   #FF6600   \n",
       "170           SE. Asia  nonforest1970   #B7E0FF  agri2020   #FF6600   \n",
       "175       South Africa     forest1970   #347928  agri2020   #FF6600   \n",
       "179       South Africa  nonforest1970   #B7E0FF  agri2020   #FF6600   \n",
       "185             Turkey     forest1970   #347928  agri2020   #FF6600   \n",
       "188             Turkey  nonforest1970   #B7E0FF  agri2020   #FF6600   \n",
       "194                USA     forest1970   #347928  agri2020   #FF6600   \n",
       "200                USA  nonforest1970   #B7E0FF  agri2020   #FF6600   \n",
       "205     Ukraine region     forest1970   #347928  agri2020   #FF6600   \n",
       "208     Ukraine region  nonforest1970   #B7E0FF  agri2020   #FF6600   \n",
       "212          W. Africa     forest1970   #347928  agri2020   #FF6600   \n",
       "217          W. Africa  nonforest1970   #B7E0FF  agri2020   #FF6600   \n",
       "223          W. Europe     forest1970   #347928  agri2020   #FF6600   \n",
       "228          W. Europe  nonforest1970   #B7E0FF  agri2020   #FF6600   \n",
       "\n",
       "        GAREA1970     GAREA2020  \n",
       "1    3.767912e+07  3.767912e+07  \n",
       "5    5.672303e+07  5.672303e+07  \n",
       "11   4.452729e+05  4.452729e+05  \n",
       "13   1.278727e+04  1.278727e+04  \n",
       "18   1.231777e+06  1.231777e+06  \n",
       "21   1.679671e+06  1.679671e+06  \n",
       "25   9.075342e+07  9.075342e+07  \n",
       "31   6.737439e+07  6.737439e+07  \n",
       "36   9.719229e+06  9.719229e+06  \n",
       "40   3.826849e+07  3.826849e+07  \n",
       "46   5.273212e+05  5.273212e+05  \n",
       "50   7.664571e+06  7.664571e+06  \n",
       "55   2.285258e+07  2.285258e+07  \n",
       "59   1.329301e+06  1.329301e+06  \n",
       "64   2.128624e+05  2.128624e+05  \n",
       "69   2.634308e+06  2.634308e+06  \n",
       "74   2.388146e+07  2.388146e+07  \n",
       "79   1.783044e+05  1.783044e+05  \n",
       "83   2.165577e+06  2.165577e+06  \n",
       "88   8.107722e+06  8.107722e+06  \n",
       "96   1.448643e+07  1.448643e+07  \n",
       "103  1.019918e+07  1.019918e+07  \n",
       "109  1.663799e+06  1.663799e+06  \n",
       "114  4.945789e+06  4.945789e+06  \n",
       "119  5.132824e+06  5.132824e+06  \n",
       "123  1.377447e+06  1.377447e+06  \n",
       "127  9.286606e+05  9.286606e+05  \n",
       "131  3.030341e+07  3.030341e+07  \n",
       "135  2.711063e+07  2.711063e+07  \n",
       "141  3.521150e+07  3.521150e+07  \n",
       "148  8.060907e+06  8.060907e+06  \n",
       "152  6.619496e+06  6.619496e+06  \n",
       "157  1.070691e+07  1.070691e+07  \n",
       "163  6.911073e+06  6.911073e+06  \n",
       "166  1.623400e+07  1.623400e+07  \n",
       "170  1.579252e+07  1.579252e+07  \n",
       "175  1.168809e+06  1.168809e+06  \n",
       "179  3.729822e+06  3.729822e+06  \n",
       "185  8.307908e+05  8.307908e+05  \n",
       "188  5.647892e+06  5.647892e+06  \n",
       "194  3.158292e+06  3.158292e+06  \n",
       "200  4.551707e+06  4.551707e+06  \n",
       "205  5.256506e+06  5.256506e+06  \n",
       "208  2.872433e+06  2.872433e+06  \n",
       "212  2.393638e+07  2.393638e+07  \n",
       "217  5.362319e+07  5.362319e+07  \n",
       "223  2.061455e+06  2.061455e+06  \n",
       "228  1.520850e+05  1.520850e+05  "
      ]
     },
     "execution_count": 70,
     "metadata": {},
     "output_type": "execute_result"
    }
   ],
   "source": [
    "# Update values based on new_dataA\n",
    "result_panelA = update_panel_data(panelA, new_dataA, data=\"A\")\n",
    "result_panelA"
   ]
  },
  {
   "cell_type": "code",
   "execution_count": 67,
   "metadata": {},
   "outputs": [
    {
     "data": {
      "text/html": [
       "<div>\n",
       "<style scoped>\n",
       "    .dataframe tbody tr th:only-of-type {\n",
       "        vertical-align: middle;\n",
       "    }\n",
       "\n",
       "    .dataframe tbody tr th {\n",
       "        vertical-align: top;\n",
       "    }\n",
       "\n",
       "    .dataframe thead th {\n",
       "        text-align: right;\n",
       "    }\n",
       "</style>\n",
       "<table border=\"1\" class=\"dataframe\">\n",
       "  <thead>\n",
       "    <tr style=\"text-align: right;\">\n",
       "      <th></th>\n",
       "      <th>IMAGE Region Name</th>\n",
       "      <th>forest</th>\n",
       "      <th>panel_sum</th>\n",
       "    </tr>\n",
       "  </thead>\n",
       "  <tbody>\n",
       "    <tr>\n",
       "      <th>0</th>\n",
       "      <td>C. Europe</td>\n",
       "      <td>forest</td>\n",
       "      <td>2.235258e+06</td>\n",
       "    </tr>\n",
       "    <tr>\n",
       "      <th>1</th>\n",
       "      <td>Middle East</td>\n",
       "      <td>nonforest</td>\n",
       "      <td>3.109413e+06</td>\n",
       "    </tr>\n",
       "    <tr>\n",
       "      <th>2</th>\n",
       "      <td>Oceania</td>\n",
       "      <td>nonforest</td>\n",
       "      <td>2.877151e+07</td>\n",
       "    </tr>\n",
       "    <tr>\n",
       "      <th>3</th>\n",
       "      <td>Russia</td>\n",
       "      <td>nonforest</td>\n",
       "      <td>5.140468e+06</td>\n",
       "    </tr>\n",
       "    <tr>\n",
       "      <th>4</th>\n",
       "      <td>Turkey</td>\n",
       "      <td>nonforest</td>\n",
       "      <td>4.072691e+06</td>\n",
       "    </tr>\n",
       "  </tbody>\n",
       "</table>\n",
       "</div>"
      ],
      "text/plain": [
       "  IMAGE Region Name     forest     panel_sum\n",
       "0         C. Europe     forest  2.235258e+06\n",
       "1       Middle East  nonforest  3.109413e+06\n",
       "2           Oceania  nonforest  2.877151e+07\n",
       "3            Russia  nonforest  5.140468e+06\n",
       "4            Turkey  nonforest  4.072691e+06"
      ]
     },
     "execution_count": 67,
     "metadata": {},
     "output_type": "execute_result"
    }
   ],
   "source": [
    "new_dataB = pd.read_excel(\"D:/kerja/asisten riset/code v/review/panelB_clean.xlsx\")\n",
    "new_dataB.head()"
   ]
  },
  {
   "cell_type": "code",
   "execution_count": 68,
   "metadata": {},
   "outputs": [
    {
     "data": {
      "text/html": [
       "<div>\n",
       "<style scoped>\n",
       "    .dataframe tbody tr th:only-of-type {\n",
       "        vertical-align: middle;\n",
       "    }\n",
       "\n",
       "    .dataframe tbody tr th {\n",
       "        vertical-align: top;\n",
       "    }\n",
       "\n",
       "    .dataframe thead th {\n",
       "        text-align: right;\n",
       "    }\n",
       "</style>\n",
       "<table border=\"1\" class=\"dataframe\">\n",
       "  <thead>\n",
       "    <tr style=\"text-align: right;\">\n",
       "      <th></th>\n",
       "      <th>IMAGE Region Name</th>\n",
       "      <th>GLCT1970</th>\n",
       "      <th>color1970</th>\n",
       "      <th>GLCT2020</th>\n",
       "      <th>color2020</th>\n",
       "      <th>GAREA1970</th>\n",
       "      <th>GAREA2020</th>\n",
       "    </tr>\n",
       "  </thead>\n",
       "  <tbody>\n",
       "    <tr>\n",
       "      <th>9</th>\n",
       "      <td>C. Europe</td>\n",
       "      <td>agri1970</td>\n",
       "      <td>#FF6600</td>\n",
       "      <td>forest2020</td>\n",
       "      <td>#347928</td>\n",
       "      <td>0.0</td>\n",
       "      <td>0.0</td>\n",
       "    </tr>\n",
       "    <tr>\n",
       "      <th>10</th>\n",
       "      <td>C. Europe</td>\n",
       "      <td>agri1970</td>\n",
       "      <td>#FF6600</td>\n",
       "      <td>nonforest2020</td>\n",
       "      <td>#B7E0FF</td>\n",
       "      <td>0.0</td>\n",
       "      <td>0.0</td>\n",
       "    </tr>\n",
       "    <tr>\n",
       "      <th>16</th>\n",
       "      <td>Canada</td>\n",
       "      <td>agri1970</td>\n",
       "      <td>#FF6600</td>\n",
       "      <td>forest2020</td>\n",
       "      <td>#347928</td>\n",
       "      <td>0.0</td>\n",
       "      <td>0.0</td>\n",
       "    </tr>\n",
       "    <tr>\n",
       "      <th>17</th>\n",
       "      <td>Canada</td>\n",
       "      <td>agri1970</td>\n",
       "      <td>#FF6600</td>\n",
       "      <td>nonforest2020</td>\n",
       "      <td>#B7E0FF</td>\n",
       "      <td>0.0</td>\n",
       "      <td>0.0</td>\n",
       "    </tr>\n",
       "    <tr>\n",
       "      <th>24</th>\n",
       "      <td>China</td>\n",
       "      <td>agri1970</td>\n",
       "      <td>#FF6600</td>\n",
       "      <td>nonforest2020</td>\n",
       "      <td>#B7E0FF</td>\n",
       "      <td>0.0</td>\n",
       "      <td>0.0</td>\n",
       "    </tr>\n",
       "    <tr>\n",
       "      <th>35</th>\n",
       "      <td>E. Africa</td>\n",
       "      <td>agri1970</td>\n",
       "      <td>#FF6600</td>\n",
       "      <td>nonforest2020</td>\n",
       "      <td>#B7E0FF</td>\n",
       "      <td>0.0</td>\n",
       "      <td>0.0</td>\n",
       "    </tr>\n",
       "    <tr>\n",
       "      <th>44</th>\n",
       "      <td>India</td>\n",
       "      <td>agri1970</td>\n",
       "      <td>#FF6600</td>\n",
       "      <td>forest2020</td>\n",
       "      <td>#347928</td>\n",
       "      <td>0.0</td>\n",
       "      <td>0.0</td>\n",
       "    </tr>\n",
       "    <tr>\n",
       "      <th>45</th>\n",
       "      <td>India</td>\n",
       "      <td>agri1970</td>\n",
       "      <td>#FF6600</td>\n",
       "      <td>nonforest2020</td>\n",
       "      <td>#B7E0FF</td>\n",
       "      <td>0.0</td>\n",
       "      <td>0.0</td>\n",
       "    </tr>\n",
       "    <tr>\n",
       "      <th>53</th>\n",
       "      <td>Indonesia</td>\n",
       "      <td>agri1970</td>\n",
       "      <td>#FF6600</td>\n",
       "      <td>forest2020</td>\n",
       "      <td>#347928</td>\n",
       "      <td>0.0</td>\n",
       "      <td>0.0</td>\n",
       "    </tr>\n",
       "    <tr>\n",
       "      <th>54</th>\n",
       "      <td>Indonesia</td>\n",
       "      <td>agri1970</td>\n",
       "      <td>#FF6600</td>\n",
       "      <td>nonforest2020</td>\n",
       "      <td>#B7E0FF</td>\n",
       "      <td>0.0</td>\n",
       "      <td>0.0</td>\n",
       "    </tr>\n",
       "    <tr>\n",
       "      <th>63</th>\n",
       "      <td>Japan</td>\n",
       "      <td>agri1970</td>\n",
       "      <td>#FF6600</td>\n",
       "      <td>forest2020</td>\n",
       "      <td>#347928</td>\n",
       "      <td>0.0</td>\n",
       "      <td>0.0</td>\n",
       "    </tr>\n",
       "    <tr>\n",
       "      <th>68</th>\n",
       "      <td>Kazakhstan region</td>\n",
       "      <td>agri1970</td>\n",
       "      <td>#FF6600</td>\n",
       "      <td>nonforest2020</td>\n",
       "      <td>#B7E0FF</td>\n",
       "      <td>0.0</td>\n",
       "      <td>0.0</td>\n",
       "    </tr>\n",
       "    <tr>\n",
       "      <th>78</th>\n",
       "      <td>Korea</td>\n",
       "      <td>agri1970</td>\n",
       "      <td>#FF6600</td>\n",
       "      <td>forest2020</td>\n",
       "      <td>#347928</td>\n",
       "      <td>0.0</td>\n",
       "      <td>0.0</td>\n",
       "    </tr>\n",
       "    <tr>\n",
       "      <th>82</th>\n",
       "      <td>Mexico</td>\n",
       "      <td>agri1970</td>\n",
       "      <td>#FF6600</td>\n",
       "      <td>nonforest2020</td>\n",
       "      <td>#B7E0FF</td>\n",
       "      <td>0.0</td>\n",
       "      <td>0.0</td>\n",
       "    </tr>\n",
       "    <tr>\n",
       "      <th>93</th>\n",
       "      <td>Middle East</td>\n",
       "      <td>agri1970</td>\n",
       "      <td>#FF6600</td>\n",
       "      <td>nonforest2020</td>\n",
       "      <td>#B7E0FF</td>\n",
       "      <td>0.0</td>\n",
       "      <td>0.0</td>\n",
       "    </tr>\n",
       "    <tr>\n",
       "      <th>100</th>\n",
       "      <td>N. Africa</td>\n",
       "      <td>agri1970</td>\n",
       "      <td>#FF6600</td>\n",
       "      <td>nonforest2020</td>\n",
       "      <td>#B7E0FF</td>\n",
       "      <td>0.0</td>\n",
       "      <td>0.0</td>\n",
       "    </tr>\n",
       "    <tr>\n",
       "      <th>107</th>\n",
       "      <td>Oceania</td>\n",
       "      <td>agri1970</td>\n",
       "      <td>#FF6600</td>\n",
       "      <td>forest2020</td>\n",
       "      <td>#347928</td>\n",
       "      <td>0.0</td>\n",
       "      <td>0.0</td>\n",
       "    </tr>\n",
       "    <tr>\n",
       "      <th>108</th>\n",
       "      <td>Oceania</td>\n",
       "      <td>agri1970</td>\n",
       "      <td>#FF6600</td>\n",
       "      <td>nonforest2020</td>\n",
       "      <td>#B7E0FF</td>\n",
       "      <td>0.0</td>\n",
       "      <td>0.0</td>\n",
       "    </tr>\n",
       "    <tr>\n",
       "      <th>117</th>\n",
       "      <td>Rest C. America</td>\n",
       "      <td>agri1970</td>\n",
       "      <td>#FF6600</td>\n",
       "      <td>forest2020</td>\n",
       "      <td>#347928</td>\n",
       "      <td>0.0</td>\n",
       "      <td>0.0</td>\n",
       "    </tr>\n",
       "    <tr>\n",
       "      <th>118</th>\n",
       "      <td>Rest C. America</td>\n",
       "      <td>agri1970</td>\n",
       "      <td>#FF6600</td>\n",
       "      <td>nonforest2020</td>\n",
       "      <td>#B7E0FF</td>\n",
       "      <td>0.0</td>\n",
       "      <td>0.0</td>\n",
       "    </tr>\n",
       "    <tr>\n",
       "      <th>146</th>\n",
       "      <td>Rest S. Asia</td>\n",
       "      <td>agri1970</td>\n",
       "      <td>#FF6600</td>\n",
       "      <td>forest2020</td>\n",
       "      <td>#347928</td>\n",
       "      <td>0.0</td>\n",
       "      <td>0.0</td>\n",
       "    </tr>\n",
       "    <tr>\n",
       "      <th>147</th>\n",
       "      <td>Rest S. Asia</td>\n",
       "      <td>agri1970</td>\n",
       "      <td>#FF6600</td>\n",
       "      <td>nonforest2020</td>\n",
       "      <td>#B7E0FF</td>\n",
       "      <td>0.0</td>\n",
       "      <td>0.0</td>\n",
       "    </tr>\n",
       "    <tr>\n",
       "      <th>155</th>\n",
       "      <td>Russia</td>\n",
       "      <td>agri1970</td>\n",
       "      <td>#FF6600</td>\n",
       "      <td>forest2020</td>\n",
       "      <td>#347928</td>\n",
       "      <td>0.0</td>\n",
       "      <td>0.0</td>\n",
       "    </tr>\n",
       "    <tr>\n",
       "      <th>156</th>\n",
       "      <td>Russia</td>\n",
       "      <td>agri1970</td>\n",
       "      <td>#FF6600</td>\n",
       "      <td>nonforest2020</td>\n",
       "      <td>#B7E0FF</td>\n",
       "      <td>0.0</td>\n",
       "      <td>0.0</td>\n",
       "    </tr>\n",
       "    <tr>\n",
       "      <th>174</th>\n",
       "      <td>South Africa</td>\n",
       "      <td>agri1970</td>\n",
       "      <td>#FF6600</td>\n",
       "      <td>nonforest2020</td>\n",
       "      <td>#B7E0FF</td>\n",
       "      <td>0.0</td>\n",
       "      <td>0.0</td>\n",
       "    </tr>\n",
       "    <tr>\n",
       "      <th>183</th>\n",
       "      <td>Turkey</td>\n",
       "      <td>agri1970</td>\n",
       "      <td>#FF6600</td>\n",
       "      <td>forest2020</td>\n",
       "      <td>#347928</td>\n",
       "      <td>0.0</td>\n",
       "      <td>0.0</td>\n",
       "    </tr>\n",
       "    <tr>\n",
       "      <th>184</th>\n",
       "      <td>Turkey</td>\n",
       "      <td>agri1970</td>\n",
       "      <td>#FF6600</td>\n",
       "      <td>nonforest2020</td>\n",
       "      <td>#B7E0FF</td>\n",
       "      <td>0.0</td>\n",
       "      <td>0.0</td>\n",
       "    </tr>\n",
       "    <tr>\n",
       "      <th>192</th>\n",
       "      <td>USA</td>\n",
       "      <td>agri1970</td>\n",
       "      <td>#FF6600</td>\n",
       "      <td>forest2020</td>\n",
       "      <td>#347928</td>\n",
       "      <td>0.0</td>\n",
       "      <td>0.0</td>\n",
       "    </tr>\n",
       "    <tr>\n",
       "      <th>193</th>\n",
       "      <td>USA</td>\n",
       "      <td>agri1970</td>\n",
       "      <td>#FF6600</td>\n",
       "      <td>nonforest2020</td>\n",
       "      <td>#B7E0FF</td>\n",
       "      <td>0.0</td>\n",
       "      <td>0.0</td>\n",
       "    </tr>\n",
       "    <tr>\n",
       "      <th>203</th>\n",
       "      <td>Ukraine region</td>\n",
       "      <td>agri1970</td>\n",
       "      <td>#FF6600</td>\n",
       "      <td>forest2020</td>\n",
       "      <td>#347928</td>\n",
       "      <td>0.0</td>\n",
       "      <td>0.0</td>\n",
       "    </tr>\n",
       "    <tr>\n",
       "      <th>204</th>\n",
       "      <td>Ukraine region</td>\n",
       "      <td>agri1970</td>\n",
       "      <td>#FF6600</td>\n",
       "      <td>nonforest2020</td>\n",
       "      <td>#B7E0FF</td>\n",
       "      <td>0.0</td>\n",
       "      <td>0.0</td>\n",
       "    </tr>\n",
       "    <tr>\n",
       "      <th>211</th>\n",
       "      <td>W. Africa</td>\n",
       "      <td>agri1970</td>\n",
       "      <td>#FF6600</td>\n",
       "      <td>nonforest2020</td>\n",
       "      <td>#B7E0FF</td>\n",
       "      <td>0.0</td>\n",
       "      <td>0.0</td>\n",
       "    </tr>\n",
       "    <tr>\n",
       "      <th>221</th>\n",
       "      <td>W. Europe</td>\n",
       "      <td>agri1970</td>\n",
       "      <td>#FF6600</td>\n",
       "      <td>forest2020</td>\n",
       "      <td>#347928</td>\n",
       "      <td>0.0</td>\n",
       "      <td>0.0</td>\n",
       "    </tr>\n",
       "    <tr>\n",
       "      <th>222</th>\n",
       "      <td>W. Europe</td>\n",
       "      <td>agri1970</td>\n",
       "      <td>#FF6600</td>\n",
       "      <td>nonforest2020</td>\n",
       "      <td>#B7E0FF</td>\n",
       "      <td>0.0</td>\n",
       "      <td>0.0</td>\n",
       "    </tr>\n",
       "  </tbody>\n",
       "</table>\n",
       "</div>"
      ],
      "text/plain": [
       "     IMAGE Region Name  GLCT1970 color1970       GLCT2020 color2020  \\\n",
       "9            C. Europe  agri1970   #FF6600     forest2020   #347928   \n",
       "10           C. Europe  agri1970   #FF6600  nonforest2020   #B7E0FF   \n",
       "16              Canada  agri1970   #FF6600     forest2020   #347928   \n",
       "17              Canada  agri1970   #FF6600  nonforest2020   #B7E0FF   \n",
       "24               China  agri1970   #FF6600  nonforest2020   #B7E0FF   \n",
       "35           E. Africa  agri1970   #FF6600  nonforest2020   #B7E0FF   \n",
       "44               India  agri1970   #FF6600     forest2020   #347928   \n",
       "45               India  agri1970   #FF6600  nonforest2020   #B7E0FF   \n",
       "53           Indonesia  agri1970   #FF6600     forest2020   #347928   \n",
       "54           Indonesia  agri1970   #FF6600  nonforest2020   #B7E0FF   \n",
       "63               Japan  agri1970   #FF6600     forest2020   #347928   \n",
       "68   Kazakhstan region  agri1970   #FF6600  nonforest2020   #B7E0FF   \n",
       "78               Korea  agri1970   #FF6600     forest2020   #347928   \n",
       "82              Mexico  agri1970   #FF6600  nonforest2020   #B7E0FF   \n",
       "93         Middle East  agri1970   #FF6600  nonforest2020   #B7E0FF   \n",
       "100          N. Africa  agri1970   #FF6600  nonforest2020   #B7E0FF   \n",
       "107            Oceania  agri1970   #FF6600     forest2020   #347928   \n",
       "108            Oceania  agri1970   #FF6600  nonforest2020   #B7E0FF   \n",
       "117    Rest C. America  agri1970   #FF6600     forest2020   #347928   \n",
       "118    Rest C. America  agri1970   #FF6600  nonforest2020   #B7E0FF   \n",
       "146       Rest S. Asia  agri1970   #FF6600     forest2020   #347928   \n",
       "147       Rest S. Asia  agri1970   #FF6600  nonforest2020   #B7E0FF   \n",
       "155             Russia  agri1970   #FF6600     forest2020   #347928   \n",
       "156             Russia  agri1970   #FF6600  nonforest2020   #B7E0FF   \n",
       "174       South Africa  agri1970   #FF6600  nonforest2020   #B7E0FF   \n",
       "183             Turkey  agri1970   #FF6600     forest2020   #347928   \n",
       "184             Turkey  agri1970   #FF6600  nonforest2020   #B7E0FF   \n",
       "192                USA  agri1970   #FF6600     forest2020   #347928   \n",
       "193                USA  agri1970   #FF6600  nonforest2020   #B7E0FF   \n",
       "203     Ukraine region  agri1970   #FF6600     forest2020   #347928   \n",
       "204     Ukraine region  agri1970   #FF6600  nonforest2020   #B7E0FF   \n",
       "211          W. Africa  agri1970   #FF6600  nonforest2020   #B7E0FF   \n",
       "221          W. Europe  agri1970   #FF6600     forest2020   #347928   \n",
       "222          W. Europe  agri1970   #FF6600  nonforest2020   #B7E0FF   \n",
       "\n",
       "     GAREA1970  GAREA2020  \n",
       "9          0.0        0.0  \n",
       "10         0.0        0.0  \n",
       "16         0.0        0.0  \n",
       "17         0.0        0.0  \n",
       "24         0.0        0.0  \n",
       "35         0.0        0.0  \n",
       "44         0.0        0.0  \n",
       "45         0.0        0.0  \n",
       "53         0.0        0.0  \n",
       "54         0.0        0.0  \n",
       "63         0.0        0.0  \n",
       "68         0.0        0.0  \n",
       "78         0.0        0.0  \n",
       "82         0.0        0.0  \n",
       "93         0.0        0.0  \n",
       "100        0.0        0.0  \n",
       "107        0.0        0.0  \n",
       "108        0.0        0.0  \n",
       "117        0.0        0.0  \n",
       "118        0.0        0.0  \n",
       "146        0.0        0.0  \n",
       "147        0.0        0.0  \n",
       "155        0.0        0.0  \n",
       "156        0.0        0.0  \n",
       "174        0.0        0.0  \n",
       "183        0.0        0.0  \n",
       "184        0.0        0.0  \n",
       "192        0.0        0.0  \n",
       "193        0.0        0.0  \n",
       "203        0.0        0.0  \n",
       "204        0.0        0.0  \n",
       "211        0.0        0.0  \n",
       "221        0.0        0.0  \n",
       "222        0.0        0.0  "
      ]
     },
     "execution_count": 68,
     "metadata": {},
     "output_type": "execute_result"
    }
   ],
   "source": [
    "panelB = df_filtered1[(df_filtered1['GLCT1970'] == 'agri1970') & (df_filtered1['GLCT2020'] != 'agri2020')]\n",
    "panelB = panelB[(panelB['GLCT1970'] == 'agri1970') &  (panelB['GLCT2020'] != 'grass2020')]\n",
    "panelB.loc[:, 'GAREA1970'] = 0\n",
    "panelB.loc[:, 'GAREA2020'] = 0\n",
    "panelB"
   ]
  },
  {
   "cell_type": "code",
   "execution_count": 71,
   "metadata": {},
   "outputs": [
    {
     "data": {
      "text/html": [
       "<div>\n",
       "<style scoped>\n",
       "    .dataframe tbody tr th:only-of-type {\n",
       "        vertical-align: middle;\n",
       "    }\n",
       "\n",
       "    .dataframe tbody tr th {\n",
       "        vertical-align: top;\n",
       "    }\n",
       "\n",
       "    .dataframe thead th {\n",
       "        text-align: right;\n",
       "    }\n",
       "</style>\n",
       "<table border=\"1\" class=\"dataframe\">\n",
       "  <thead>\n",
       "    <tr style=\"text-align: right;\">\n",
       "      <th></th>\n",
       "      <th>IMAGE Region Name</th>\n",
       "      <th>GLCT1970</th>\n",
       "      <th>color1970</th>\n",
       "      <th>GLCT2020</th>\n",
       "      <th>color2020</th>\n",
       "      <th>GAREA1970</th>\n",
       "      <th>GAREA2020</th>\n",
       "    </tr>\n",
       "  </thead>\n",
       "  <tbody>\n",
       "    <tr>\n",
       "      <th>9</th>\n",
       "      <td>C. Europe</td>\n",
       "      <td>agri1970</td>\n",
       "      <td>#FF6600</td>\n",
       "      <td>forest2020</td>\n",
       "      <td>#347928</td>\n",
       "      <td>2.235258e+06</td>\n",
       "      <td>2.235258e+06</td>\n",
       "    </tr>\n",
       "    <tr>\n",
       "      <th>10</th>\n",
       "      <td>C. Europe</td>\n",
       "      <td>agri1970</td>\n",
       "      <td>#FF6600</td>\n",
       "      <td>nonforest2020</td>\n",
       "      <td>#B7E0FF</td>\n",
       "      <td>0.000000e+00</td>\n",
       "      <td>0.000000e+00</td>\n",
       "    </tr>\n",
       "    <tr>\n",
       "      <th>16</th>\n",
       "      <td>Canada</td>\n",
       "      <td>agri1970</td>\n",
       "      <td>#FF6600</td>\n",
       "      <td>forest2020</td>\n",
       "      <td>#347928</td>\n",
       "      <td>0.000000e+00</td>\n",
       "      <td>0.000000e+00</td>\n",
       "    </tr>\n",
       "    <tr>\n",
       "      <th>17</th>\n",
       "      <td>Canada</td>\n",
       "      <td>agri1970</td>\n",
       "      <td>#FF6600</td>\n",
       "      <td>nonforest2020</td>\n",
       "      <td>#B7E0FF</td>\n",
       "      <td>0.000000e+00</td>\n",
       "      <td>0.000000e+00</td>\n",
       "    </tr>\n",
       "    <tr>\n",
       "      <th>24</th>\n",
       "      <td>China</td>\n",
       "      <td>agri1970</td>\n",
       "      <td>#FF6600</td>\n",
       "      <td>nonforest2020</td>\n",
       "      <td>#B7E0FF</td>\n",
       "      <td>0.000000e+00</td>\n",
       "      <td>0.000000e+00</td>\n",
       "    </tr>\n",
       "    <tr>\n",
       "      <th>35</th>\n",
       "      <td>E. Africa</td>\n",
       "      <td>agri1970</td>\n",
       "      <td>#FF6600</td>\n",
       "      <td>nonforest2020</td>\n",
       "      <td>#B7E0FF</td>\n",
       "      <td>0.000000e+00</td>\n",
       "      <td>0.000000e+00</td>\n",
       "    </tr>\n",
       "    <tr>\n",
       "      <th>44</th>\n",
       "      <td>India</td>\n",
       "      <td>agri1970</td>\n",
       "      <td>#FF6600</td>\n",
       "      <td>forest2020</td>\n",
       "      <td>#347928</td>\n",
       "      <td>0.000000e+00</td>\n",
       "      <td>0.000000e+00</td>\n",
       "    </tr>\n",
       "    <tr>\n",
       "      <th>45</th>\n",
       "      <td>India</td>\n",
       "      <td>agri1970</td>\n",
       "      <td>#FF6600</td>\n",
       "      <td>nonforest2020</td>\n",
       "      <td>#B7E0FF</td>\n",
       "      <td>0.000000e+00</td>\n",
       "      <td>0.000000e+00</td>\n",
       "    </tr>\n",
       "    <tr>\n",
       "      <th>53</th>\n",
       "      <td>Indonesia</td>\n",
       "      <td>agri1970</td>\n",
       "      <td>#FF6600</td>\n",
       "      <td>forest2020</td>\n",
       "      <td>#347928</td>\n",
       "      <td>0.000000e+00</td>\n",
       "      <td>0.000000e+00</td>\n",
       "    </tr>\n",
       "    <tr>\n",
       "      <th>54</th>\n",
       "      <td>Indonesia</td>\n",
       "      <td>agri1970</td>\n",
       "      <td>#FF6600</td>\n",
       "      <td>nonforest2020</td>\n",
       "      <td>#B7E0FF</td>\n",
       "      <td>0.000000e+00</td>\n",
       "      <td>0.000000e+00</td>\n",
       "    </tr>\n",
       "    <tr>\n",
       "      <th>63</th>\n",
       "      <td>Japan</td>\n",
       "      <td>agri1970</td>\n",
       "      <td>#FF6600</td>\n",
       "      <td>forest2020</td>\n",
       "      <td>#347928</td>\n",
       "      <td>0.000000e+00</td>\n",
       "      <td>0.000000e+00</td>\n",
       "    </tr>\n",
       "    <tr>\n",
       "      <th>68</th>\n",
       "      <td>Kazakhstan region</td>\n",
       "      <td>agri1970</td>\n",
       "      <td>#FF6600</td>\n",
       "      <td>nonforest2020</td>\n",
       "      <td>#B7E0FF</td>\n",
       "      <td>0.000000e+00</td>\n",
       "      <td>0.000000e+00</td>\n",
       "    </tr>\n",
       "    <tr>\n",
       "      <th>78</th>\n",
       "      <td>Korea</td>\n",
       "      <td>agri1970</td>\n",
       "      <td>#FF6600</td>\n",
       "      <td>forest2020</td>\n",
       "      <td>#347928</td>\n",
       "      <td>0.000000e+00</td>\n",
       "      <td>0.000000e+00</td>\n",
       "    </tr>\n",
       "    <tr>\n",
       "      <th>82</th>\n",
       "      <td>Mexico</td>\n",
       "      <td>agri1970</td>\n",
       "      <td>#FF6600</td>\n",
       "      <td>nonforest2020</td>\n",
       "      <td>#B7E0FF</td>\n",
       "      <td>0.000000e+00</td>\n",
       "      <td>0.000000e+00</td>\n",
       "    </tr>\n",
       "    <tr>\n",
       "      <th>93</th>\n",
       "      <td>Middle East</td>\n",
       "      <td>agri1970</td>\n",
       "      <td>#FF6600</td>\n",
       "      <td>nonforest2020</td>\n",
       "      <td>#B7E0FF</td>\n",
       "      <td>3.109413e+06</td>\n",
       "      <td>3.109413e+06</td>\n",
       "    </tr>\n",
       "    <tr>\n",
       "      <th>100</th>\n",
       "      <td>N. Africa</td>\n",
       "      <td>agri1970</td>\n",
       "      <td>#FF6600</td>\n",
       "      <td>nonforest2020</td>\n",
       "      <td>#B7E0FF</td>\n",
       "      <td>0.000000e+00</td>\n",
       "      <td>0.000000e+00</td>\n",
       "    </tr>\n",
       "    <tr>\n",
       "      <th>107</th>\n",
       "      <td>Oceania</td>\n",
       "      <td>agri1970</td>\n",
       "      <td>#FF6600</td>\n",
       "      <td>forest2020</td>\n",
       "      <td>#347928</td>\n",
       "      <td>0.000000e+00</td>\n",
       "      <td>0.000000e+00</td>\n",
       "    </tr>\n",
       "    <tr>\n",
       "      <th>108</th>\n",
       "      <td>Oceania</td>\n",
       "      <td>agri1970</td>\n",
       "      <td>#FF6600</td>\n",
       "      <td>nonforest2020</td>\n",
       "      <td>#B7E0FF</td>\n",
       "      <td>2.877151e+07</td>\n",
       "      <td>2.877151e+07</td>\n",
       "    </tr>\n",
       "    <tr>\n",
       "      <th>117</th>\n",
       "      <td>Rest C. America</td>\n",
       "      <td>agri1970</td>\n",
       "      <td>#FF6600</td>\n",
       "      <td>forest2020</td>\n",
       "      <td>#347928</td>\n",
       "      <td>0.000000e+00</td>\n",
       "      <td>0.000000e+00</td>\n",
       "    </tr>\n",
       "    <tr>\n",
       "      <th>118</th>\n",
       "      <td>Rest C. America</td>\n",
       "      <td>agri1970</td>\n",
       "      <td>#FF6600</td>\n",
       "      <td>nonforest2020</td>\n",
       "      <td>#B7E0FF</td>\n",
       "      <td>0.000000e+00</td>\n",
       "      <td>0.000000e+00</td>\n",
       "    </tr>\n",
       "    <tr>\n",
       "      <th>146</th>\n",
       "      <td>Rest S. Asia</td>\n",
       "      <td>agri1970</td>\n",
       "      <td>#FF6600</td>\n",
       "      <td>forest2020</td>\n",
       "      <td>#347928</td>\n",
       "      <td>0.000000e+00</td>\n",
       "      <td>0.000000e+00</td>\n",
       "    </tr>\n",
       "    <tr>\n",
       "      <th>147</th>\n",
       "      <td>Rest S. Asia</td>\n",
       "      <td>agri1970</td>\n",
       "      <td>#FF6600</td>\n",
       "      <td>nonforest2020</td>\n",
       "      <td>#B7E0FF</td>\n",
       "      <td>0.000000e+00</td>\n",
       "      <td>0.000000e+00</td>\n",
       "    </tr>\n",
       "    <tr>\n",
       "      <th>155</th>\n",
       "      <td>Russia</td>\n",
       "      <td>agri1970</td>\n",
       "      <td>#FF6600</td>\n",
       "      <td>forest2020</td>\n",
       "      <td>#347928</td>\n",
       "      <td>0.000000e+00</td>\n",
       "      <td>0.000000e+00</td>\n",
       "    </tr>\n",
       "    <tr>\n",
       "      <th>156</th>\n",
       "      <td>Russia</td>\n",
       "      <td>agri1970</td>\n",
       "      <td>#FF6600</td>\n",
       "      <td>nonforest2020</td>\n",
       "      <td>#B7E0FF</td>\n",
       "      <td>5.140468e+06</td>\n",
       "      <td>5.140468e+06</td>\n",
       "    </tr>\n",
       "    <tr>\n",
       "      <th>174</th>\n",
       "      <td>South Africa</td>\n",
       "      <td>agri1970</td>\n",
       "      <td>#FF6600</td>\n",
       "      <td>nonforest2020</td>\n",
       "      <td>#B7E0FF</td>\n",
       "      <td>0.000000e+00</td>\n",
       "      <td>0.000000e+00</td>\n",
       "    </tr>\n",
       "    <tr>\n",
       "      <th>183</th>\n",
       "      <td>Turkey</td>\n",
       "      <td>agri1970</td>\n",
       "      <td>#FF6600</td>\n",
       "      <td>forest2020</td>\n",
       "      <td>#347928</td>\n",
       "      <td>0.000000e+00</td>\n",
       "      <td>0.000000e+00</td>\n",
       "    </tr>\n",
       "    <tr>\n",
       "      <th>184</th>\n",
       "      <td>Turkey</td>\n",
       "      <td>agri1970</td>\n",
       "      <td>#FF6600</td>\n",
       "      <td>nonforest2020</td>\n",
       "      <td>#B7E0FF</td>\n",
       "      <td>4.072691e+06</td>\n",
       "      <td>4.072691e+06</td>\n",
       "    </tr>\n",
       "    <tr>\n",
       "      <th>192</th>\n",
       "      <td>USA</td>\n",
       "      <td>agri1970</td>\n",
       "      <td>#FF6600</td>\n",
       "      <td>forest2020</td>\n",
       "      <td>#347928</td>\n",
       "      <td>0.000000e+00</td>\n",
       "      <td>0.000000e+00</td>\n",
       "    </tr>\n",
       "    <tr>\n",
       "      <th>193</th>\n",
       "      <td>USA</td>\n",
       "      <td>agri1970</td>\n",
       "      <td>#FF6600</td>\n",
       "      <td>nonforest2020</td>\n",
       "      <td>#B7E0FF</td>\n",
       "      <td>1.317081e+07</td>\n",
       "      <td>1.317081e+07</td>\n",
       "    </tr>\n",
       "    <tr>\n",
       "      <th>203</th>\n",
       "      <td>Ukraine region</td>\n",
       "      <td>agri1970</td>\n",
       "      <td>#FF6600</td>\n",
       "      <td>forest2020</td>\n",
       "      <td>#347928</td>\n",
       "      <td>0.000000e+00</td>\n",
       "      <td>0.000000e+00</td>\n",
       "    </tr>\n",
       "    <tr>\n",
       "      <th>204</th>\n",
       "      <td>Ukraine region</td>\n",
       "      <td>agri1970</td>\n",
       "      <td>#FF6600</td>\n",
       "      <td>nonforest2020</td>\n",
       "      <td>#B7E0FF</td>\n",
       "      <td>0.000000e+00</td>\n",
       "      <td>0.000000e+00</td>\n",
       "    </tr>\n",
       "    <tr>\n",
       "      <th>211</th>\n",
       "      <td>W. Africa</td>\n",
       "      <td>agri1970</td>\n",
       "      <td>#FF6600</td>\n",
       "      <td>nonforest2020</td>\n",
       "      <td>#B7E0FF</td>\n",
       "      <td>0.000000e+00</td>\n",
       "      <td>0.000000e+00</td>\n",
       "    </tr>\n",
       "    <tr>\n",
       "      <th>221</th>\n",
       "      <td>W. Europe</td>\n",
       "      <td>agri1970</td>\n",
       "      <td>#FF6600</td>\n",
       "      <td>forest2020</td>\n",
       "      <td>#347928</td>\n",
       "      <td>1.023658e+07</td>\n",
       "      <td>1.023658e+07</td>\n",
       "    </tr>\n",
       "    <tr>\n",
       "      <th>222</th>\n",
       "      <td>W. Europe</td>\n",
       "      <td>agri1970</td>\n",
       "      <td>#FF6600</td>\n",
       "      <td>nonforest2020</td>\n",
       "      <td>#B7E0FF</td>\n",
       "      <td>8.864575e+06</td>\n",
       "      <td>8.864575e+06</td>\n",
       "    </tr>\n",
       "  </tbody>\n",
       "</table>\n",
       "</div>"
      ],
      "text/plain": [
       "     IMAGE Region Name  GLCT1970 color1970       GLCT2020 color2020  \\\n",
       "9            C. Europe  agri1970   #FF6600     forest2020   #347928   \n",
       "10           C. Europe  agri1970   #FF6600  nonforest2020   #B7E0FF   \n",
       "16              Canada  agri1970   #FF6600     forest2020   #347928   \n",
       "17              Canada  agri1970   #FF6600  nonforest2020   #B7E0FF   \n",
       "24               China  agri1970   #FF6600  nonforest2020   #B7E0FF   \n",
       "35           E. Africa  agri1970   #FF6600  nonforest2020   #B7E0FF   \n",
       "44               India  agri1970   #FF6600     forest2020   #347928   \n",
       "45               India  agri1970   #FF6600  nonforest2020   #B7E0FF   \n",
       "53           Indonesia  agri1970   #FF6600     forest2020   #347928   \n",
       "54           Indonesia  agri1970   #FF6600  nonforest2020   #B7E0FF   \n",
       "63               Japan  agri1970   #FF6600     forest2020   #347928   \n",
       "68   Kazakhstan region  agri1970   #FF6600  nonforest2020   #B7E0FF   \n",
       "78               Korea  agri1970   #FF6600     forest2020   #347928   \n",
       "82              Mexico  agri1970   #FF6600  nonforest2020   #B7E0FF   \n",
       "93         Middle East  agri1970   #FF6600  nonforest2020   #B7E0FF   \n",
       "100          N. Africa  agri1970   #FF6600  nonforest2020   #B7E0FF   \n",
       "107            Oceania  agri1970   #FF6600     forest2020   #347928   \n",
       "108            Oceania  agri1970   #FF6600  nonforest2020   #B7E0FF   \n",
       "117    Rest C. America  agri1970   #FF6600     forest2020   #347928   \n",
       "118    Rest C. America  agri1970   #FF6600  nonforest2020   #B7E0FF   \n",
       "146       Rest S. Asia  agri1970   #FF6600     forest2020   #347928   \n",
       "147       Rest S. Asia  agri1970   #FF6600  nonforest2020   #B7E0FF   \n",
       "155             Russia  agri1970   #FF6600     forest2020   #347928   \n",
       "156             Russia  agri1970   #FF6600  nonforest2020   #B7E0FF   \n",
       "174       South Africa  agri1970   #FF6600  nonforest2020   #B7E0FF   \n",
       "183             Turkey  agri1970   #FF6600     forest2020   #347928   \n",
       "184             Turkey  agri1970   #FF6600  nonforest2020   #B7E0FF   \n",
       "192                USA  agri1970   #FF6600     forest2020   #347928   \n",
       "193                USA  agri1970   #FF6600  nonforest2020   #B7E0FF   \n",
       "203     Ukraine region  agri1970   #FF6600     forest2020   #347928   \n",
       "204     Ukraine region  agri1970   #FF6600  nonforest2020   #B7E0FF   \n",
       "211          W. Africa  agri1970   #FF6600  nonforest2020   #B7E0FF   \n",
       "221          W. Europe  agri1970   #FF6600     forest2020   #347928   \n",
       "222          W. Europe  agri1970   #FF6600  nonforest2020   #B7E0FF   \n",
       "\n",
       "        GAREA1970     GAREA2020  \n",
       "9    2.235258e+06  2.235258e+06  \n",
       "10   0.000000e+00  0.000000e+00  \n",
       "16   0.000000e+00  0.000000e+00  \n",
       "17   0.000000e+00  0.000000e+00  \n",
       "24   0.000000e+00  0.000000e+00  \n",
       "35   0.000000e+00  0.000000e+00  \n",
       "44   0.000000e+00  0.000000e+00  \n",
       "45   0.000000e+00  0.000000e+00  \n",
       "53   0.000000e+00  0.000000e+00  \n",
       "54   0.000000e+00  0.000000e+00  \n",
       "63   0.000000e+00  0.000000e+00  \n",
       "68   0.000000e+00  0.000000e+00  \n",
       "78   0.000000e+00  0.000000e+00  \n",
       "82   0.000000e+00  0.000000e+00  \n",
       "93   3.109413e+06  3.109413e+06  \n",
       "100  0.000000e+00  0.000000e+00  \n",
       "107  0.000000e+00  0.000000e+00  \n",
       "108  2.877151e+07  2.877151e+07  \n",
       "117  0.000000e+00  0.000000e+00  \n",
       "118  0.000000e+00  0.000000e+00  \n",
       "146  0.000000e+00  0.000000e+00  \n",
       "147  0.000000e+00  0.000000e+00  \n",
       "155  0.000000e+00  0.000000e+00  \n",
       "156  5.140468e+06  5.140468e+06  \n",
       "174  0.000000e+00  0.000000e+00  \n",
       "183  0.000000e+00  0.000000e+00  \n",
       "184  4.072691e+06  4.072691e+06  \n",
       "192  0.000000e+00  0.000000e+00  \n",
       "193  1.317081e+07  1.317081e+07  \n",
       "203  0.000000e+00  0.000000e+00  \n",
       "204  0.000000e+00  0.000000e+00  \n",
       "211  0.000000e+00  0.000000e+00  \n",
       "221  1.023658e+07  1.023658e+07  \n",
       "222  8.864575e+06  8.864575e+06  "
      ]
     },
     "execution_count": 71,
     "metadata": {},
     "output_type": "execute_result"
    }
   ],
   "source": [
    "# Update values based on new_dataA\n",
    "result_panelB = update_panel_data(panelB, new_dataB, data=\"B\")\n",
    "result_panelB"
   ]
  },
  {
   "cell_type": "code",
   "execution_count": 72,
   "metadata": {},
   "outputs": [],
   "source": [
    "result_drop_overtime = pd.concat([result_panelA, result_panelB], ignore_index=True)"
   ]
  },
  {
   "cell_type": "code",
   "execution_count": 92,
   "metadata": {},
   "outputs": [
    {
     "data": {
      "text/html": [
       "<div>\n",
       "<style scoped>\n",
       "    .dataframe tbody tr th:only-of-type {\n",
       "        vertical-align: middle;\n",
       "    }\n",
       "\n",
       "    .dataframe tbody tr th {\n",
       "        vertical-align: top;\n",
       "    }\n",
       "\n",
       "    .dataframe thead th {\n",
       "        text-align: right;\n",
       "    }\n",
       "</style>\n",
       "<table border=\"1\" class=\"dataframe\">\n",
       "  <thead>\n",
       "    <tr style=\"text-align: right;\">\n",
       "      <th></th>\n",
       "      <th>IMAGE Region Name</th>\n",
       "      <th>GLCT1970</th>\n",
       "      <th>color1970</th>\n",
       "      <th>GLCT2020</th>\n",
       "      <th>color2020</th>\n",
       "      <th>GAREA1970</th>\n",
       "      <th>GAREA2020</th>\n",
       "    </tr>\n",
       "  </thead>\n",
       "  <tbody>\n",
       "    <tr>\n",
       "      <th>12</th>\n",
       "      <td>Indonesia</td>\n",
       "      <td>forest1970</td>\n",
       "      <td>#347928</td>\n",
       "      <td>agri2020</td>\n",
       "      <td>#FF6600</td>\n",
       "      <td>2.285258e+07</td>\n",
       "      <td>2.285258e+07</td>\n",
       "    </tr>\n",
       "    <tr>\n",
       "      <th>13</th>\n",
       "      <td>Indonesia</td>\n",
       "      <td>nonforest1970</td>\n",
       "      <td>#B7E0FF</td>\n",
       "      <td>agri2020</td>\n",
       "      <td>#FF6600</td>\n",
       "      <td>1.329301e+06</td>\n",
       "      <td>1.329301e+06</td>\n",
       "    </tr>\n",
       "    <tr>\n",
       "      <th>56</th>\n",
       "      <td>Indonesia</td>\n",
       "      <td>agri1970</td>\n",
       "      <td>#FF6600</td>\n",
       "      <td>forest2020</td>\n",
       "      <td>#347928</td>\n",
       "      <td>0.000000e+00</td>\n",
       "      <td>0.000000e+00</td>\n",
       "    </tr>\n",
       "    <tr>\n",
       "      <th>57</th>\n",
       "      <td>Indonesia</td>\n",
       "      <td>agri1970</td>\n",
       "      <td>#FF6600</td>\n",
       "      <td>nonforest2020</td>\n",
       "      <td>#B7E0FF</td>\n",
       "      <td>0.000000e+00</td>\n",
       "      <td>0.000000e+00</td>\n",
       "    </tr>\n",
       "  </tbody>\n",
       "</table>\n",
       "</div>"
      ],
      "text/plain": [
       "   IMAGE Region Name       GLCT1970 color1970       GLCT2020 color2020  \\\n",
       "12         Indonesia     forest1970   #347928       agri2020   #FF6600   \n",
       "13         Indonesia  nonforest1970   #B7E0FF       agri2020   #FF6600   \n",
       "56         Indonesia       agri1970   #FF6600     forest2020   #347928   \n",
       "57         Indonesia       agri1970   #FF6600  nonforest2020   #B7E0FF   \n",
       "\n",
       "       GAREA1970     GAREA2020  \n",
       "12  2.285258e+07  2.285258e+07  \n",
       "13  1.329301e+06  1.329301e+06  \n",
       "56  0.000000e+00  0.000000e+00  \n",
       "57  0.000000e+00  0.000000e+00  "
      ]
     },
     "execution_count": 92,
     "metadata": {},
     "output_type": "execute_result"
    }
   ],
   "source": [
    "result_drop_overtime[result_drop_overtime['IMAGE Region Name'] == \"Indonesia\"]"
   ]
  },
  {
   "cell_type": "code",
   "execution_count": 93,
   "metadata": {},
   "outputs": [
    {
     "data": {
      "text/html": [
       "<div>\n",
       "<style scoped>\n",
       "    .dataframe tbody tr th:only-of-type {\n",
       "        vertical-align: middle;\n",
       "    }\n",
       "\n",
       "    .dataframe tbody tr th {\n",
       "        vertical-align: top;\n",
       "    }\n",
       "\n",
       "    .dataframe thead th {\n",
       "        text-align: right;\n",
       "    }\n",
       "</style>\n",
       "<table border=\"1\" class=\"dataframe\">\n",
       "  <thead>\n",
       "    <tr style=\"text-align: right;\">\n",
       "      <th></th>\n",
       "      <th>IMAGE Region Name</th>\n",
       "      <th>GLCT1970</th>\n",
       "      <th>color1970</th>\n",
       "      <th>GLCT2020</th>\n",
       "      <th>color2020</th>\n",
       "      <th>GAREA1970</th>\n",
       "      <th>GAREA2020</th>\n",
       "      <th>percent</th>\n",
       "    </tr>\n",
       "  </thead>\n",
       "  <tbody>\n",
       "    <tr>\n",
       "      <th>12</th>\n",
       "      <td>Indonesia</td>\n",
       "      <td>forest1970</td>\n",
       "      <td>#347928</td>\n",
       "      <td>agri2020</td>\n",
       "      <td>#FF6600</td>\n",
       "      <td>2.285258e+07</td>\n",
       "      <td>2.285258e+07</td>\n",
       "      <td>94.5</td>\n",
       "    </tr>\n",
       "    <tr>\n",
       "      <th>13</th>\n",
       "      <td>Indonesia</td>\n",
       "      <td>nonforest1970</td>\n",
       "      <td>#B7E0FF</td>\n",
       "      <td>agri2020</td>\n",
       "      <td>#FF6600</td>\n",
       "      <td>1.329301e+06</td>\n",
       "      <td>1.329301e+06</td>\n",
       "      <td>5.5</td>\n",
       "    </tr>\n",
       "  </tbody>\n",
       "</table>\n",
       "</div>"
      ],
      "text/plain": [
       "   IMAGE Region Name       GLCT1970 color1970  GLCT2020 color2020  \\\n",
       "12         Indonesia     forest1970   #347928  agri2020   #FF6600   \n",
       "13         Indonesia  nonforest1970   #B7E0FF  agri2020   #FF6600   \n",
       "\n",
       "       GAREA1970     GAREA2020  percent  \n",
       "12  2.285258e+07  2.285258e+07     94.5  \n",
       "13  1.329301e+06  1.329301e+06      5.5  "
      ]
     },
     "execution_count": 93,
     "metadata": {},
     "output_type": "execute_result"
    }
   ],
   "source": [
    "# // v1/(v1 + v2) * 100 \n",
    "# // v2/(v1 + v2) * 100\n",
    "# // v3/(v3 + v4) * 100\n",
    "# // v4/(v3 + v4) * 100\n",
    "\n",
    "import pandas as pd\n",
    "import numpy as np\n",
    "\n",
    "def calculate_percentage(df, year_col='GAREA2020', group_size=2):\n",
    "    \"\"\"\n",
    "    Calculate percentages for pairs of rows based on a specified column.\n",
    "    \n",
    "    Parameters:\n",
    "    df : pandas DataFrame\n",
    "        Input DataFrame\n",
    "    year_col : str\n",
    "        Column name to use for percentage calculations\n",
    "    group_size : int\n",
    "        Size of groups to calculate percentages (default is 2 for pairs)\n",
    "        \n",
    "    Returns:\n",
    "    pandas DataFrame\n",
    "        DataFrame with added 'percent' column\n",
    "    \"\"\"\n",
    "    # Create a copy to avoid modifying the original DataFrame\n",
    "    df = df.copy()\n",
    "    \n",
    "    # Calculate group sums\n",
    "    group_indices = np.arange(len(df)) // group_size\n",
    "    group_sums = df.groupby(group_indices)[year_col].transform('sum')\n",
    "    \n",
    "    # Calculate percentages\n",
    "    df['percent'] = (df[year_col] / group_sums * 100).round(2)\n",
    "    \n",
    "    return df\n",
    "\n",
    "# Example usage:\n",
    "result = calculate_percentage(result_drop_overtime)\n",
    "result = result.dropna()\n",
    "result = result[(result['GAREA1970'] != 0) & (result['GAREA2020'] != 0)]\n",
    "\n",
    "result[result['IMAGE Region Name'] == \"Indonesia\"]"
   ]
  },
  {
   "cell_type": "code",
   "execution_count": 101,
   "metadata": {},
   "outputs": [],
   "source": [
    "import pandas as pd\n",
    "\n",
    "def split_by_region(df, region_col='IMAGE Region Name'):\n",
    "    \"\"\"\n",
    "    Split DataFrame into separate DataFrames by region.\n",
    "    \n",
    "    Parameters:\n",
    "    df : pandas DataFrame\n",
    "        Input DataFrame to be split\n",
    "    region_col : str\n",
    "        Name of the region column\n",
    "        \n",
    "    Returns:\n",
    "    dict : Dictionary of DataFrames where keys are region names\n",
    "    \"\"\"\n",
    "    # Split data into dictionary of DataFrames\n",
    "    region_dfs = {\n",
    "        region: group.copy() for region, group in df.groupby(region_col)\n",
    "    }\n",
    "    \n",
    "    return region_dfs\n",
    "\n",
    "def display_region_data(region_dfs):\n",
    "    \"\"\"\n",
    "    Display data for each region in a formatted way.\n",
    "    \n",
    "    Parameters:\n",
    "    region_dfs : dict\n",
    "        Dictionary of DataFrames split by region\n",
    "    \"\"\"\n",
    "    for region, df in region_dfs.items():\n",
    "        print(f\"\\n{'='*50}\")\n",
    "        print(f\"Region: {region}\")\n",
    "        print(f\"{'='*50}\")\n",
    "        print(df.to_string(index=False))\n",
    "        print(f\"\\nShape: {df.shape}\")\n",
    "        print(f\"Total GAREA1970: {df['GAREA1970'].sum():,.2f}\")\n",
    "        print(f\"Total GAREA2020: {df['GAREA2020'].sum():,.2f}\")\n",
    "\n",
    "# Split data by region\n",
    "region_data = split_by_region(result)\n",
    "\n",
    "\n",
    "# Access individual region data\n",
    "# Indonesia_data = region_data['Indonesia']\n",
    "# china_data = region_data['China']\n",
    "\n",
    "\n",
    "# Display all region data\n",
    "# display_region_data(region_data)\n",
    "\n",
    "# Save individual region data to CSV (optional)\n",
    "# for region, df in region_data.items():\n",
    "    # df.to_csv(f\"{region.lower().replace(' ', '_')}_data.csv\", index=False)\n"
   ]
  },
  {
   "cell_type": "code",
   "execution_count": null,
   "metadata": {},
   "outputs": [],
   "source": [
    "import json\n",
    "import pandas as pd\n",
    "\n",
    "def generate_sankey_data(df, years, glct_prefix='GLCT', garea_prefix='GAREA'):\n",
    "    \"\"\"\n",
    "    Generate Sankey diagram data from a DataFrame with percentages in nodes.\n",
    "    \n",
    "    Parameters:\n",
    "    df : pandas DataFrame\n",
    "        Input DataFrame containing GLCT and GAREA columns\n",
    "    years : list\n",
    "        List of years to process\n",
    "    glct_prefix : str\n",
    "        Prefix for GLCT columns\n",
    "    garea_prefix : str\n",
    "        Prefix for GAREA columns\n",
    "    \n",
    "    Returns:\n",
    "    dict : Sankey diagram data structure\n",
    "    \"\"\"\n",
    "    # Collect unique nodes and their percentages from all years\n",
    "    nodes = {}  # Dictionary to store node information including percentages\n",
    "    for year in years:\n",
    "        col_name = f\"{glct_prefix}{year}\"\n",
    "        # Group by GLCT and calculate percentage for each node\n",
    "        year_data = df.groupby(col_name).agg({\n",
    "            'percent': 'first'  # Mengambil nilai percent pertama untuk setiap node\n",
    "        }).reset_index()\n",
    "        \n",
    "        for _, row in year_data.iterrows():\n",
    "            node_name = row[col_name]\n",
    "            if node_name not in nodes:\n",
    "                # Format percent as string with % symbol\n",
    "                percent_str = f\"{float(row['percent']):.0f}%\" if 'percent' in row else None\n",
    "                nodes[node_name] = {\n",
    "                    'name': node_name,\n",
    "                    'percent': percent_str\n",
    "                }\n",
    "\n",
    "    # Create node dictionary with indices and create final nodes list\n",
    "    nodes_dict = {}  # For mapping node names to indices\n",
    "    nodes_data = []  # Final list of node objects\n",
    "    \n",
    "    for index, (node_name, node_info) in enumerate(nodes.items()):\n",
    "        nodes_dict[node_name] = index\n",
    "        node_data = {\n",
    "            \"node\": index,\n",
    "            \"name\": node_name,\n",
    "            \"percent\": node_info['percent']\n",
    "        }\n",
    "        nodes_data.append(node_data)\n",
    "\n",
    "    # Generate links between consecutive years\n",
    "    links = []\n",
    "    for i in range(len(years) - 1):\n",
    "        current_year = years[i]\n",
    "        next_year = years[i + 1]\n",
    "        \n",
    "        # Process each row in the DataFrame\n",
    "        for _, row in df.iterrows():\n",
    "            source = nodes_dict[row[f'{glct_prefix}{current_year}']]\n",
    "            target = nodes_dict[row[f'{glct_prefix}{next_year}']]\n",
    "            value = float(row[f'{garea_prefix}{current_year}'])\n",
    "            \n",
    "            # Only add link if source and target are different\n",
    "            if source != target:\n",
    "                link = {\n",
    "                    \"source\": source,\n",
    "                    \"target\": target,\n",
    "                    \"value\": value\n",
    "                }\n",
    "                links.append(link)\n",
    "\n",
    "    # Create final Sankey data structure\n",
    "    sankey_data = {\n",
    "        \"nodes\": nodes_data,\n",
    "        \"links\": links\n",
    "    }\n",
    "    \n",
    "    return sankey_data"
   ]
  },
  {
   "cell_type": "code",
   "execution_count": 102,
   "metadata": {},
   "outputs": [],
   "source": [
    "# Define years\n",
    "years = [1970, 2020]\n",
    "\n",
    "for region in result['IMAGE Region Name'].unique():\n",
    "\n",
    "    sankey_data = generate_sankey_data(region_data[region], years)\n",
    "    \n",
    "    # Save to JSON file\n",
    "    with open(f'D:/kerja/asisten riset/code v/review/data_json_new/sankey_data_{region}.json', 'w') as json_file:\n",
    "        json.dump(sankey_data, json_file, indent=4)"
   ]
  },
  {
   "cell_type": "code",
   "execution_count": 27,
   "metadata": {},
   "outputs": [
    {
     "data": {
      "application/vnd.plotly.v1+json": {
       "config": {
        "plotlyServerURL": "https://plot.ly"
       },
       "data": [
        {
         "link": {
          "color": [
           "#347928",
           "#B7E0FF",
           "#FF6600",
           "#FF6600"
          ],
          "source": [
           0,
           2,
           3,
           3
          ],
          "target": [
           1,
           1,
           4,
           5
          ],
          "value": [
           267795226.1462145,
           323971355.663311,
           38100819.444256,
           104378045.004916
          ]
         },
         "node": {
          "color": [
           "#347928",
           "#FF6600",
           "#B7E0FF",
           "#FF6600",
           "#347928",
           "#B7E0FF"
          ],
          "label": [
           "forest1970",
           "agri2020",
           "nonforest1970",
           "agri1970",
           "forest2020",
           "nonforest2020"
          ],
          "line": {
           "color": "white"
          },
          "pad": 10,
          "thickness": 30
         },
         "type": "sankey"
        },
        {
         "marker": {
          "color": "#347928",
          "size": 10,
          "symbol": "square"
         },
         "mode": "markers",
         "name": "Forested Natural Vegetation",
         "showlegend": true,
         "type": "scatter",
         "x": [
          null
         ],
         "y": [
          null
         ]
        },
        {
         "marker": {
          "color": "#B7E0FF",
          "size": 10,
          "symbol": "square"
         },
         "mode": "markers",
         "name": "Non-Forested Natural Vegetation",
         "showlegend": true,
         "type": "scatter",
         "x": [
          null
         ],
         "y": [
          null
         ]
        },
        {
         "marker": {
          "color": "#FF6600",
          "size": 10,
          "symbol": "square"
         },
         "mode": "markers",
         "name": "Agriculture",
         "showlegend": true,
         "type": "scatter",
         "x": [
          null
         ],
         "y": [
          null
         ]
        }
       ],
       "layout": {
        "annotations": [
         {
          "arrowhead": 2,
          "ax": 0,
          "ay": -40,
          "font": {
           "color": "black",
           "family": "Arial Black",
           "size": 16
          },
          "showarrow": false,
          "text": "Cropland Gain",
          "x": 0.2,
          "xref": "paper",
          "y": 1.1,
          "yref": "paper"
         },
         {
          "arrowhead": 2,
          "ax": 0,
          "ay": -40,
          "font": {
           "color": "black",
           "family": "Arial Black",
           "size": 16
          },
          "showarrow": false,
          "text": "Cropland Loss",
          "x": 0.5,
          "xref": "paper",
          "y": 1.1,
          "yref": "paper"
         }
        ],
        "height": 600,
        "legend": {
         "orientation": "h",
         "x": 0.5,
         "xanchor": "center",
         "y": -0.1,
         "yanchor": "bottom"
        },
        "plot_bgcolor": "rgba(0,0,0,0)",
        "showlegend": true,
        "template": {
         "data": {
          "bar": [
           {
            "error_x": {
             "color": "#2a3f5f"
            },
            "error_y": {
             "color": "#2a3f5f"
            },
            "marker": {
             "line": {
              "color": "#E5ECF6",
              "width": 0.5
             },
             "pattern": {
              "fillmode": "overlay",
              "size": 10,
              "solidity": 0.2
             }
            },
            "type": "bar"
           }
          ],
          "barpolar": [
           {
            "marker": {
             "line": {
              "color": "#E5ECF6",
              "width": 0.5
             },
             "pattern": {
              "fillmode": "overlay",
              "size": 10,
              "solidity": 0.2
             }
            },
            "type": "barpolar"
           }
          ],
          "carpet": [
           {
            "aaxis": {
             "endlinecolor": "#2a3f5f",
             "gridcolor": "white",
             "linecolor": "white",
             "minorgridcolor": "white",
             "startlinecolor": "#2a3f5f"
            },
            "baxis": {
             "endlinecolor": "#2a3f5f",
             "gridcolor": "white",
             "linecolor": "white",
             "minorgridcolor": "white",
             "startlinecolor": "#2a3f5f"
            },
            "type": "carpet"
           }
          ],
          "choropleth": [
           {
            "colorbar": {
             "outlinewidth": 0,
             "ticks": ""
            },
            "type": "choropleth"
           }
          ],
          "contour": [
           {
            "colorbar": {
             "outlinewidth": 0,
             "ticks": ""
            },
            "colorscale": [
             [
              0,
              "#0d0887"
             ],
             [
              0.1111111111111111,
              "#46039f"
             ],
             [
              0.2222222222222222,
              "#7201a8"
             ],
             [
              0.3333333333333333,
              "#9c179e"
             ],
             [
              0.4444444444444444,
              "#bd3786"
             ],
             [
              0.5555555555555556,
              "#d8576b"
             ],
             [
              0.6666666666666666,
              "#ed7953"
             ],
             [
              0.7777777777777778,
              "#fb9f3a"
             ],
             [
              0.8888888888888888,
              "#fdca26"
             ],
             [
              1,
              "#f0f921"
             ]
            ],
            "type": "contour"
           }
          ],
          "contourcarpet": [
           {
            "colorbar": {
             "outlinewidth": 0,
             "ticks": ""
            },
            "type": "contourcarpet"
           }
          ],
          "heatmap": [
           {
            "colorbar": {
             "outlinewidth": 0,
             "ticks": ""
            },
            "colorscale": [
             [
              0,
              "#0d0887"
             ],
             [
              0.1111111111111111,
              "#46039f"
             ],
             [
              0.2222222222222222,
              "#7201a8"
             ],
             [
              0.3333333333333333,
              "#9c179e"
             ],
             [
              0.4444444444444444,
              "#bd3786"
             ],
             [
              0.5555555555555556,
              "#d8576b"
             ],
             [
              0.6666666666666666,
              "#ed7953"
             ],
             [
              0.7777777777777778,
              "#fb9f3a"
             ],
             [
              0.8888888888888888,
              "#fdca26"
             ],
             [
              1,
              "#f0f921"
             ]
            ],
            "type": "heatmap"
           }
          ],
          "heatmapgl": [
           {
            "colorbar": {
             "outlinewidth": 0,
             "ticks": ""
            },
            "colorscale": [
             [
              0,
              "#0d0887"
             ],
             [
              0.1111111111111111,
              "#46039f"
             ],
             [
              0.2222222222222222,
              "#7201a8"
             ],
             [
              0.3333333333333333,
              "#9c179e"
             ],
             [
              0.4444444444444444,
              "#bd3786"
             ],
             [
              0.5555555555555556,
              "#d8576b"
             ],
             [
              0.6666666666666666,
              "#ed7953"
             ],
             [
              0.7777777777777778,
              "#fb9f3a"
             ],
             [
              0.8888888888888888,
              "#fdca26"
             ],
             [
              1,
              "#f0f921"
             ]
            ],
            "type": "heatmapgl"
           }
          ],
          "histogram": [
           {
            "marker": {
             "pattern": {
              "fillmode": "overlay",
              "size": 10,
              "solidity": 0.2
             }
            },
            "type": "histogram"
           }
          ],
          "histogram2d": [
           {
            "colorbar": {
             "outlinewidth": 0,
             "ticks": ""
            },
            "colorscale": [
             [
              0,
              "#0d0887"
             ],
             [
              0.1111111111111111,
              "#46039f"
             ],
             [
              0.2222222222222222,
              "#7201a8"
             ],
             [
              0.3333333333333333,
              "#9c179e"
             ],
             [
              0.4444444444444444,
              "#bd3786"
             ],
             [
              0.5555555555555556,
              "#d8576b"
             ],
             [
              0.6666666666666666,
              "#ed7953"
             ],
             [
              0.7777777777777778,
              "#fb9f3a"
             ],
             [
              0.8888888888888888,
              "#fdca26"
             ],
             [
              1,
              "#f0f921"
             ]
            ],
            "type": "histogram2d"
           }
          ],
          "histogram2dcontour": [
           {
            "colorbar": {
             "outlinewidth": 0,
             "ticks": ""
            },
            "colorscale": [
             [
              0,
              "#0d0887"
             ],
             [
              0.1111111111111111,
              "#46039f"
             ],
             [
              0.2222222222222222,
              "#7201a8"
             ],
             [
              0.3333333333333333,
              "#9c179e"
             ],
             [
              0.4444444444444444,
              "#bd3786"
             ],
             [
              0.5555555555555556,
              "#d8576b"
             ],
             [
              0.6666666666666666,
              "#ed7953"
             ],
             [
              0.7777777777777778,
              "#fb9f3a"
             ],
             [
              0.8888888888888888,
              "#fdca26"
             ],
             [
              1,
              "#f0f921"
             ]
            ],
            "type": "histogram2dcontour"
           }
          ],
          "mesh3d": [
           {
            "colorbar": {
             "outlinewidth": 0,
             "ticks": ""
            },
            "type": "mesh3d"
           }
          ],
          "parcoords": [
           {
            "line": {
             "colorbar": {
              "outlinewidth": 0,
              "ticks": ""
             }
            },
            "type": "parcoords"
           }
          ],
          "pie": [
           {
            "automargin": true,
            "type": "pie"
           }
          ],
          "scatter": [
           {
            "fillpattern": {
             "fillmode": "overlay",
             "size": 10,
             "solidity": 0.2
            },
            "type": "scatter"
           }
          ],
          "scatter3d": [
           {
            "line": {
             "colorbar": {
              "outlinewidth": 0,
              "ticks": ""
             }
            },
            "marker": {
             "colorbar": {
              "outlinewidth": 0,
              "ticks": ""
             }
            },
            "type": "scatter3d"
           }
          ],
          "scattercarpet": [
           {
            "marker": {
             "colorbar": {
              "outlinewidth": 0,
              "ticks": ""
             }
            },
            "type": "scattercarpet"
           }
          ],
          "scattergeo": [
           {
            "marker": {
             "colorbar": {
              "outlinewidth": 0,
              "ticks": ""
             }
            },
            "type": "scattergeo"
           }
          ],
          "scattergl": [
           {
            "marker": {
             "colorbar": {
              "outlinewidth": 0,
              "ticks": ""
             }
            },
            "type": "scattergl"
           }
          ],
          "scattermapbox": [
           {
            "marker": {
             "colorbar": {
              "outlinewidth": 0,
              "ticks": ""
             }
            },
            "type": "scattermapbox"
           }
          ],
          "scatterpolar": [
           {
            "marker": {
             "colorbar": {
              "outlinewidth": 0,
              "ticks": ""
             }
            },
            "type": "scatterpolar"
           }
          ],
          "scatterpolargl": [
           {
            "marker": {
             "colorbar": {
              "outlinewidth": 0,
              "ticks": ""
             }
            },
            "type": "scatterpolargl"
           }
          ],
          "scatterternary": [
           {
            "marker": {
             "colorbar": {
              "outlinewidth": 0,
              "ticks": ""
             }
            },
            "type": "scatterternary"
           }
          ],
          "surface": [
           {
            "colorbar": {
             "outlinewidth": 0,
             "ticks": ""
            },
            "colorscale": [
             [
              0,
              "#0d0887"
             ],
             [
              0.1111111111111111,
              "#46039f"
             ],
             [
              0.2222222222222222,
              "#7201a8"
             ],
             [
              0.3333333333333333,
              "#9c179e"
             ],
             [
              0.4444444444444444,
              "#bd3786"
             ],
             [
              0.5555555555555556,
              "#d8576b"
             ],
             [
              0.6666666666666666,
              "#ed7953"
             ],
             [
              0.7777777777777778,
              "#fb9f3a"
             ],
             [
              0.8888888888888888,
              "#fdca26"
             ],
             [
              1,
              "#f0f921"
             ]
            ],
            "type": "surface"
           }
          ],
          "table": [
           {
            "cells": {
             "fill": {
              "color": "#EBF0F8"
             },
             "line": {
              "color": "white"
             }
            },
            "header": {
             "fill": {
              "color": "#C8D4E3"
             },
             "line": {
              "color": "white"
             }
            },
            "type": "table"
           }
          ]
         },
         "layout": {
          "annotationdefaults": {
           "arrowcolor": "#2a3f5f",
           "arrowhead": 0,
           "arrowwidth": 1
          },
          "autotypenumbers": "strict",
          "coloraxis": {
           "colorbar": {
            "outlinewidth": 0,
            "ticks": ""
           }
          },
          "colorscale": {
           "diverging": [
            [
             0,
             "#8e0152"
            ],
            [
             0.1,
             "#c51b7d"
            ],
            [
             0.2,
             "#de77ae"
            ],
            [
             0.3,
             "#f1b6da"
            ],
            [
             0.4,
             "#fde0ef"
            ],
            [
             0.5,
             "#f7f7f7"
            ],
            [
             0.6,
             "#e6f5d0"
            ],
            [
             0.7,
             "#b8e186"
            ],
            [
             0.8,
             "#7fbc41"
            ],
            [
             0.9,
             "#4d9221"
            ],
            [
             1,
             "#276419"
            ]
           ],
           "sequential": [
            [
             0,
             "#0d0887"
            ],
            [
             0.1111111111111111,
             "#46039f"
            ],
            [
             0.2222222222222222,
             "#7201a8"
            ],
            [
             0.3333333333333333,
             "#9c179e"
            ],
            [
             0.4444444444444444,
             "#bd3786"
            ],
            [
             0.5555555555555556,
             "#d8576b"
            ],
            [
             0.6666666666666666,
             "#ed7953"
            ],
            [
             0.7777777777777778,
             "#fb9f3a"
            ],
            [
             0.8888888888888888,
             "#fdca26"
            ],
            [
             1,
             "#f0f921"
            ]
           ],
           "sequentialminus": [
            [
             0,
             "#0d0887"
            ],
            [
             0.1111111111111111,
             "#46039f"
            ],
            [
             0.2222222222222222,
             "#7201a8"
            ],
            [
             0.3333333333333333,
             "#9c179e"
            ],
            [
             0.4444444444444444,
             "#bd3786"
            ],
            [
             0.5555555555555556,
             "#d8576b"
            ],
            [
             0.6666666666666666,
             "#ed7953"
            ],
            [
             0.7777777777777778,
             "#fb9f3a"
            ],
            [
             0.8888888888888888,
             "#fdca26"
            ],
            [
             1,
             "#f0f921"
            ]
           ]
          },
          "colorway": [
           "#636efa",
           "#EF553B",
           "#00cc96",
           "#ab63fa",
           "#FFA15A",
           "#19d3f3",
           "#FF6692",
           "#B6E880",
           "#FF97FF",
           "#FECB52"
          ],
          "font": {
           "color": "#2a3f5f"
          },
          "geo": {
           "bgcolor": "white",
           "lakecolor": "white",
           "landcolor": "#E5ECF6",
           "showlakes": true,
           "showland": true,
           "subunitcolor": "white"
          },
          "hoverlabel": {
           "align": "left"
          },
          "hovermode": "closest",
          "mapbox": {
           "style": "light"
          },
          "paper_bgcolor": "white",
          "plot_bgcolor": "#E5ECF6",
          "polar": {
           "angularaxis": {
            "gridcolor": "white",
            "linecolor": "white",
            "ticks": ""
           },
           "bgcolor": "#E5ECF6",
           "radialaxis": {
            "gridcolor": "white",
            "linecolor": "white",
            "ticks": ""
           }
          },
          "scene": {
           "xaxis": {
            "backgroundcolor": "#E5ECF6",
            "gridcolor": "white",
            "gridwidth": 2,
            "linecolor": "white",
            "showbackground": true,
            "ticks": "",
            "zerolinecolor": "white"
           },
           "yaxis": {
            "backgroundcolor": "#E5ECF6",
            "gridcolor": "white",
            "gridwidth": 2,
            "linecolor": "white",
            "showbackground": true,
            "ticks": "",
            "zerolinecolor": "white"
           },
           "zaxis": {
            "backgroundcolor": "#E5ECF6",
            "gridcolor": "white",
            "gridwidth": 2,
            "linecolor": "white",
            "showbackground": true,
            "ticks": "",
            "zerolinecolor": "white"
           }
          },
          "shapedefaults": {
           "line": {
            "color": "#2a3f5f"
           }
          },
          "ternary": {
           "aaxis": {
            "gridcolor": "white",
            "linecolor": "white",
            "ticks": ""
           },
           "baxis": {
            "gridcolor": "white",
            "linecolor": "white",
            "ticks": ""
           },
           "bgcolor": "#E5ECF6",
           "caxis": {
            "gridcolor": "white",
            "linecolor": "white",
            "ticks": ""
           }
          },
          "title": {
           "x": 0.05
          },
          "xaxis": {
           "automargin": true,
           "gridcolor": "white",
           "linecolor": "white",
           "ticks": "",
           "title": {
            "standoff": 15
           },
           "zerolinecolor": "white",
           "zerolinewidth": 2
          },
          "yaxis": {
           "automargin": true,
           "gridcolor": "white",
           "linecolor": "white",
           "ticks": "",
           "title": {
            "standoff": 15
           },
           "zerolinecolor": "white",
           "zerolinewidth": 2
          }
         }
        },
        "width": 1000,
        "xaxis": {
         "visible": false
        },
        "yaxis": {
         "visible": false
        }
       }
      }
     },
     "metadata": {},
     "output_type": "display_data"
    }
   ],
   "source": [
    "import plotly.graph_objects as go\n",
    "\n",
    "nodes = {}\n",
    "links = []\n",
    "node_colors = []\n",
    "link_colors = []\n",
    "\n",
    "for i in range(len(tahun) - 1):\n",
    "    current_year = tahun[i]\n",
    "    next_year = tahun[i + 1]\n",
    "\n",
    "    gltct_current = f'GLCT{current_year}'\n",
    "    color_current = f'color{current_year}'\n",
    "    value_current = f'GAREA{current_year}'\n",
    "\n",
    "    gltct_next = f'GLCT{next_year}'\n",
    "    color_next = f'color{next_year}'\n",
    "    value_next = f'GAREA{next_year}'\n",
    "\n",
    "    for index, row in result_drop_overtime.iterrows():\n",
    "        source_node = row[gltct_current]\n",
    "        target_node = row[gltct_next]\n",
    "        color_source = row[color_current]\n",
    "\n",
    "        if source_node not in nodes:\n",
    "            nodes[source_node] = len(nodes)\n",
    "            node_colors.append(color_source)\n",
    "        if target_node not in nodes:\n",
    "            nodes[target_node] = len(nodes)\n",
    "            node_colors.append(row[color_next])\n",
    "\n",
    "        link = {\n",
    "            'source': nodes[source_node],\n",
    "            'target': nodes[target_node],\n",
    "            'value': row[value_next]\n",
    "        }\n",
    "        \n",
    "        links.append(link)\n",
    "        link_colors.append(color_source)\n",
    "\n",
    "fig = go.Figure(data=[go.Sankey(\n",
    "    node=dict(\n",
    "        pad=10,\n",
    "        thickness=30,\n",
    "        line=dict(color='white'),\n",
    "        label=list(nodes.keys()),\n",
    "        color=node_colors\n",
    "    ),\n",
    "    link=dict(\n",
    "        source=[link['source'] for link in links],\n",
    "        target=[link['target'] for link in links],\n",
    "        value=[link['value'] for link in links],\n",
    "        color=link_colors,\n",
    "    \n",
    "    )\n",
    ")])\n",
    "\n",
    "custom_labels = ['Agriculture', 'Forested Natural Vegetation', 'Non-Forested Natural Vegetation']\n",
    "\n",
    "nodes_1970 = [key for key in nodes.keys() if \"1970\" in key]\n",
    "nodes_2020 = [key for key in nodes.keys() if \"2020\" in key]\n",
    "\n",
    "label = ['Forested Natural Vegetation', 'Non-Forested Natural Vegetation','Agriculture', ]\n",
    "warna = ['#347928','#B7E0FF','#FF6600']\n",
    "\n",
    "legend_entries = []\n",
    "for color, node in zip(warna, label):\n",
    "    legend_entries.append([color, node])\n",
    "\n",
    "legend = []\n",
    "for i, entry in enumerate(legend_entries):\n",
    "    legend.append(\n",
    "        go.Scatter(\n",
    "            mode=\"markers\",\n",
    "            x=[None],\n",
    "            y=[None],\n",
    "            marker=dict(size=10, color=entry[0], symbol=\"square\"),\n",
    "            name=entry[1],\n",
    "            showlegend=True\n",
    "        )\n",
    "    )\n",
    "\n",
    "# Create traces\n",
    "traces = [fig.data[0]] + legend\n",
    "\n",
    "# Define the layout with annotations included\n",
    "layout = go.Layout(\n",
    "    showlegend=True,\n",
    "    plot_bgcolor=\"rgba(0,0,0,0)\",\n",
    "    legend=dict(\n",
    "        orientation=\"h\",\n",
    "        yanchor=\"bottom\",\n",
    "        y=-0.1,\n",
    "        xanchor=\"center\",\n",
    "        x=0.5\n",
    "    ),\n",
    "    annotations=[\n",
    "        # Simplified custom text\n",
    "        dict(\n",
    "            text=\"Cropland Gain\",\n",
    "            x=0.2,  # Centered for visibility\n",
    "            y=1.1,    # Adjust y to ensure it's within bounds\n",
    "            xref=\"paper\",\n",
    "            yref=\"paper\",\n",
    "            showarrow=False,\n",
    "            arrowhead=2,\n",
    "            ax=0,\n",
    "            ay=-40,\n",
    "            font=dict(size=16, color=\"black\",family=\"Arial Black\")\n",
    "        ),\n",
    "        dict(\n",
    "            text=\"Cropland Loss\",\n",
    "            x=0.5,\n",
    "            y=1.1,  # Adjusted for clarity\n",
    "            xref=\"paper\",\n",
    "            yref=\"paper\",\n",
    "            showarrow=False,\n",
    "            arrowhead=2,\n",
    "            ax=0,\n",
    "            ay=-40,\n",
    "            font=dict(size=16, color=\"black\",family=\"Arial Black\")\n",
    "        )\n",
    "    ]\n",
    ")\n",
    "\n",
    "# Update the figure with traces and layout\n",
    "fig = go.Figure(data=traces, layout=layout)\n",
    "fig.update_xaxes(visible=False)\n",
    "fig.update_yaxes(visible=False)\n",
    "fig.update_layout(\n",
    "    width=1000,\n",
    "    height=600\n",
    ")\n",
    "\n",
    "# Finally show the figure\n",
    "fig.show()"
   ]
  },
  {
   "cell_type": "code",
   "execution_count": null,
   "metadata": {},
   "outputs": [
    {
     "data": {
      "application/vnd.plotly.v1+json": {
       "config": {
        "plotlyServerURL": "https://plot.ly"
       },
       "data": [
        {
         "link": {
          "color": [
           "#347928",
           "#B7E0FF",
           "#FF6600",
           "#FF6600",
           "#FF6600"
          ],
          "source": [
           0,
           2,
           3,
           3,
           3
          ],
          "target": [
           1,
           1,
           4,
           5,
           6
          ],
          "value": [
           267795226.1462145,
           323971355.663311,
           38100819.444256,
           27909.994599999998,
           104378045.004916
          ]
         },
         "node": {
          "color": [
           "#347928",
           "#FF6600",
           "#B7E0FF",
           "#FF6600",
           "#347928",
           "#FCCD2A",
           "#B7E0FF"
          ],
          "line": {
           "color": "white"
          },
          "pad": 10,
          "thickness": 20
         },
         "type": "sankey"
        },
        {
         "marker": {
          "color": "#B7E0FF",
          "size": 10,
          "symbol": "square"
         },
         "mode": "markers",
         "name": "Non-Forested Natural Vegetation",
         "showlegend": true,
         "type": "scatter",
         "x": [
          null
         ],
         "y": [
          null
         ]
        },
        {
         "marker": {
          "color": "#347928",
          "size": 10,
          "symbol": "square"
         },
         "mode": "markers",
         "name": "Forested Natural Vegetation",
         "showlegend": true,
         "type": "scatter",
         "x": [
          null
         ],
         "y": [
          null
         ]
        },
        {
         "marker": {
          "color": "#FF6600",
          "size": 10,
          "symbol": "square"
         },
         "mode": "markers",
         "name": "Agriculture",
         "showlegend": true,
         "type": "scatter",
         "x": [
          null
         ],
         "y": [
          null
         ]
        }
       ],
       "layout": {
        "annotations": [
         {
          "arrowhead": 2,
          "ax": 0,
          "ay": -40,
          "font": {
           "color": "black",
           "family": "Arial Black",
           "size": 16
          },
          "showarrow": false,
          "text": "Agricultural Land Gain",
          "x": 0.2,
          "xref": "paper",
          "y": 1.25,
          "yref": "paper"
         },
         {
          "arrowhead": 2,
          "ax": 0,
          "ay": -40,
          "font": {
           "color": "Grey",
           "family": "Arial Black",
           "size": 12
          },
          "showarrow": false,
          "text": "676 Mha",
          "x": 0.405,
          "xref": "paper",
          "y": 1.15,
          "yref": "paper"
         },
         {
          "arrowhead": 2,
          "ax": 0,
          "ay": -40,
          "font": {
           "color": "black",
           "family": "Arial Black",
           "size": 16
          },
          "showarrow": false,
          "text": "Agricultural Land Loss",
          "x": 0.6,
          "xref": "paper",
          "y": 1.25,
          "yref": "paper"
         },
         {
          "arrowhead": 2,
          "ax": 0,
          "ay": -40,
          "font": {
           "color": "Grey",
           "family": "Arial Black",
           "size": 12
          },
          "showarrow": false,
          "text": "76 Mha",
          "x": 0.515,
          "xref": "paper",
          "y": 1.15,
          "yref": "paper"
         },
         {
          "arrowhead": 2,
          "ax": 0,
          "ay": -40,
          "font": {
           "color": "Black",
           "family": "Arial Black",
           "size": 12
          },
          "showarrow": false,
          "text": "59%",
          "x": 0.1,
          "xref": "paper",
          "y": 0.8,
          "yref": "paper"
         },
         {
          "arrowhead": 2,
          "ax": 0,
          "ay": -40,
          "font": {
           "color": "Black",
           "family": "Arial Black",
           "size": 12
          },
          "showarrow": false,
          "text": "41%",
          "x": 0.1,
          "xref": "paper",
          "y": 0.35,
          "yref": "paper"
         },
         {
          "arrowhead": 2,
          "ax": 0,
          "ay": -40,
          "font": {
           "color": "Black",
           "family": "Arial Black",
           "size": 12
          },
          "showarrow": false,
          "text": "84%",
          "x": 0.8,
          "xref": "paper",
          "y": 0.9,
          "yref": "paper"
         },
         {
          "arrowhead": 2,
          "ax": 0,
          "ay": -40,
          "font": {
           "color": "Black",
           "family": "Arial Black",
           "size": 12
          },
          "showarrow": false,
          "text": "16%",
          "x": 0.8,
          "xref": "paper",
          "y": 0.75,
          "yref": "paper"
         }
        ],
        "height": 400,
        "legend": {
         "orientation": "h",
         "x": 0.45,
         "xanchor": "center",
         "y": -0.1,
         "yanchor": "bottom"
        },
        "plot_bgcolor": "rgba(0,0,0,0)",
        "showlegend": true,
        "template": {
         "data": {
          "bar": [
           {
            "error_x": {
             "color": "#2a3f5f"
            },
            "error_y": {
             "color": "#2a3f5f"
            },
            "marker": {
             "line": {
              "color": "#E5ECF6",
              "width": 0.5
             },
             "pattern": {
              "fillmode": "overlay",
              "size": 10,
              "solidity": 0.2
             }
            },
            "type": "bar"
           }
          ],
          "barpolar": [
           {
            "marker": {
             "line": {
              "color": "#E5ECF6",
              "width": 0.5
             },
             "pattern": {
              "fillmode": "overlay",
              "size": 10,
              "solidity": 0.2
             }
            },
            "type": "barpolar"
           }
          ],
          "carpet": [
           {
            "aaxis": {
             "endlinecolor": "#2a3f5f",
             "gridcolor": "white",
             "linecolor": "white",
             "minorgridcolor": "white",
             "startlinecolor": "#2a3f5f"
            },
            "baxis": {
             "endlinecolor": "#2a3f5f",
             "gridcolor": "white",
             "linecolor": "white",
             "minorgridcolor": "white",
             "startlinecolor": "#2a3f5f"
            },
            "type": "carpet"
           }
          ],
          "choropleth": [
           {
            "colorbar": {
             "outlinewidth": 0,
             "ticks": ""
            },
            "type": "choropleth"
           }
          ],
          "contour": [
           {
            "colorbar": {
             "outlinewidth": 0,
             "ticks": ""
            },
            "colorscale": [
             [
              0,
              "#0d0887"
             ],
             [
              0.1111111111111111,
              "#46039f"
             ],
             [
              0.2222222222222222,
              "#7201a8"
             ],
             [
              0.3333333333333333,
              "#9c179e"
             ],
             [
              0.4444444444444444,
              "#bd3786"
             ],
             [
              0.5555555555555556,
              "#d8576b"
             ],
             [
              0.6666666666666666,
              "#ed7953"
             ],
             [
              0.7777777777777778,
              "#fb9f3a"
             ],
             [
              0.8888888888888888,
              "#fdca26"
             ],
             [
              1,
              "#f0f921"
             ]
            ],
            "type": "contour"
           }
          ],
          "contourcarpet": [
           {
            "colorbar": {
             "outlinewidth": 0,
             "ticks": ""
            },
            "type": "contourcarpet"
           }
          ],
          "heatmap": [
           {
            "colorbar": {
             "outlinewidth": 0,
             "ticks": ""
            },
            "colorscale": [
             [
              0,
              "#0d0887"
             ],
             [
              0.1111111111111111,
              "#46039f"
             ],
             [
              0.2222222222222222,
              "#7201a8"
             ],
             [
              0.3333333333333333,
              "#9c179e"
             ],
             [
              0.4444444444444444,
              "#bd3786"
             ],
             [
              0.5555555555555556,
              "#d8576b"
             ],
             [
              0.6666666666666666,
              "#ed7953"
             ],
             [
              0.7777777777777778,
              "#fb9f3a"
             ],
             [
              0.8888888888888888,
              "#fdca26"
             ],
             [
              1,
              "#f0f921"
             ]
            ],
            "type": "heatmap"
           }
          ],
          "heatmapgl": [
           {
            "colorbar": {
             "outlinewidth": 0,
             "ticks": ""
            },
            "colorscale": [
             [
              0,
              "#0d0887"
             ],
             [
              0.1111111111111111,
              "#46039f"
             ],
             [
              0.2222222222222222,
              "#7201a8"
             ],
             [
              0.3333333333333333,
              "#9c179e"
             ],
             [
              0.4444444444444444,
              "#bd3786"
             ],
             [
              0.5555555555555556,
              "#d8576b"
             ],
             [
              0.6666666666666666,
              "#ed7953"
             ],
             [
              0.7777777777777778,
              "#fb9f3a"
             ],
             [
              0.8888888888888888,
              "#fdca26"
             ],
             [
              1,
              "#f0f921"
             ]
            ],
            "type": "heatmapgl"
           }
          ],
          "histogram": [
           {
            "marker": {
             "pattern": {
              "fillmode": "overlay",
              "size": 10,
              "solidity": 0.2
             }
            },
            "type": "histogram"
           }
          ],
          "histogram2d": [
           {
            "colorbar": {
             "outlinewidth": 0,
             "ticks": ""
            },
            "colorscale": [
             [
              0,
              "#0d0887"
             ],
             [
              0.1111111111111111,
              "#46039f"
             ],
             [
              0.2222222222222222,
              "#7201a8"
             ],
             [
              0.3333333333333333,
              "#9c179e"
             ],
             [
              0.4444444444444444,
              "#bd3786"
             ],
             [
              0.5555555555555556,
              "#d8576b"
             ],
             [
              0.6666666666666666,
              "#ed7953"
             ],
             [
              0.7777777777777778,
              "#fb9f3a"
             ],
             [
              0.8888888888888888,
              "#fdca26"
             ],
             [
              1,
              "#f0f921"
             ]
            ],
            "type": "histogram2d"
           }
          ],
          "histogram2dcontour": [
           {
            "colorbar": {
             "outlinewidth": 0,
             "ticks": ""
            },
            "colorscale": [
             [
              0,
              "#0d0887"
             ],
             [
              0.1111111111111111,
              "#46039f"
             ],
             [
              0.2222222222222222,
              "#7201a8"
             ],
             [
              0.3333333333333333,
              "#9c179e"
             ],
             [
              0.4444444444444444,
              "#bd3786"
             ],
             [
              0.5555555555555556,
              "#d8576b"
             ],
             [
              0.6666666666666666,
              "#ed7953"
             ],
             [
              0.7777777777777778,
              "#fb9f3a"
             ],
             [
              0.8888888888888888,
              "#fdca26"
             ],
             [
              1,
              "#f0f921"
             ]
            ],
            "type": "histogram2dcontour"
           }
          ],
          "mesh3d": [
           {
            "colorbar": {
             "outlinewidth": 0,
             "ticks": ""
            },
            "type": "mesh3d"
           }
          ],
          "parcoords": [
           {
            "line": {
             "colorbar": {
              "outlinewidth": 0,
              "ticks": ""
             }
            },
            "type": "parcoords"
           }
          ],
          "pie": [
           {
            "automargin": true,
            "type": "pie"
           }
          ],
          "scatter": [
           {
            "fillpattern": {
             "fillmode": "overlay",
             "size": 10,
             "solidity": 0.2
            },
            "type": "scatter"
           }
          ],
          "scatter3d": [
           {
            "line": {
             "colorbar": {
              "outlinewidth": 0,
              "ticks": ""
             }
            },
            "marker": {
             "colorbar": {
              "outlinewidth": 0,
              "ticks": ""
             }
            },
            "type": "scatter3d"
           }
          ],
          "scattercarpet": [
           {
            "marker": {
             "colorbar": {
              "outlinewidth": 0,
              "ticks": ""
             }
            },
            "type": "scattercarpet"
           }
          ],
          "scattergeo": [
           {
            "marker": {
             "colorbar": {
              "outlinewidth": 0,
              "ticks": ""
             }
            },
            "type": "scattergeo"
           }
          ],
          "scattergl": [
           {
            "marker": {
             "colorbar": {
              "outlinewidth": 0,
              "ticks": ""
             }
            },
            "type": "scattergl"
           }
          ],
          "scattermapbox": [
           {
            "marker": {
             "colorbar": {
              "outlinewidth": 0,
              "ticks": ""
             }
            },
            "type": "scattermapbox"
           }
          ],
          "scatterpolar": [
           {
            "marker": {
             "colorbar": {
              "outlinewidth": 0,
              "ticks": ""
             }
            },
            "type": "scatterpolar"
           }
          ],
          "scatterpolargl": [
           {
            "marker": {
             "colorbar": {
              "outlinewidth": 0,
              "ticks": ""
             }
            },
            "type": "scatterpolargl"
           }
          ],
          "scatterternary": [
           {
            "marker": {
             "colorbar": {
              "outlinewidth": 0,
              "ticks": ""
             }
            },
            "type": "scatterternary"
           }
          ],
          "surface": [
           {
            "colorbar": {
             "outlinewidth": 0,
             "ticks": ""
            },
            "colorscale": [
             [
              0,
              "#0d0887"
             ],
             [
              0.1111111111111111,
              "#46039f"
             ],
             [
              0.2222222222222222,
              "#7201a8"
             ],
             [
              0.3333333333333333,
              "#9c179e"
             ],
             [
              0.4444444444444444,
              "#bd3786"
             ],
             [
              0.5555555555555556,
              "#d8576b"
             ],
             [
              0.6666666666666666,
              "#ed7953"
             ],
             [
              0.7777777777777778,
              "#fb9f3a"
             ],
             [
              0.8888888888888888,
              "#fdca26"
             ],
             [
              1,
              "#f0f921"
             ]
            ],
            "type": "surface"
           }
          ],
          "table": [
           {
            "cells": {
             "fill": {
              "color": "#EBF0F8"
             },
             "line": {
              "color": "white"
             }
            },
            "header": {
             "fill": {
              "color": "#C8D4E3"
             },
             "line": {
              "color": "white"
             }
            },
            "type": "table"
           }
          ]
         },
         "layout": {
          "annotationdefaults": {
           "arrowcolor": "#2a3f5f",
           "arrowhead": 0,
           "arrowwidth": 1
          },
          "autotypenumbers": "strict",
          "coloraxis": {
           "colorbar": {
            "outlinewidth": 0,
            "ticks": ""
           }
          },
          "colorscale": {
           "diverging": [
            [
             0,
             "#8e0152"
            ],
            [
             0.1,
             "#c51b7d"
            ],
            [
             0.2,
             "#de77ae"
            ],
            [
             0.3,
             "#f1b6da"
            ],
            [
             0.4,
             "#fde0ef"
            ],
            [
             0.5,
             "#f7f7f7"
            ],
            [
             0.6,
             "#e6f5d0"
            ],
            [
             0.7,
             "#b8e186"
            ],
            [
             0.8,
             "#7fbc41"
            ],
            [
             0.9,
             "#4d9221"
            ],
            [
             1,
             "#276419"
            ]
           ],
           "sequential": [
            [
             0,
             "#0d0887"
            ],
            [
             0.1111111111111111,
             "#46039f"
            ],
            [
             0.2222222222222222,
             "#7201a8"
            ],
            [
             0.3333333333333333,
             "#9c179e"
            ],
            [
             0.4444444444444444,
             "#bd3786"
            ],
            [
             0.5555555555555556,
             "#d8576b"
            ],
            [
             0.6666666666666666,
             "#ed7953"
            ],
            [
             0.7777777777777778,
             "#fb9f3a"
            ],
            [
             0.8888888888888888,
             "#fdca26"
            ],
            [
             1,
             "#f0f921"
            ]
           ],
           "sequentialminus": [
            [
             0,
             "#0d0887"
            ],
            [
             0.1111111111111111,
             "#46039f"
            ],
            [
             0.2222222222222222,
             "#7201a8"
            ],
            [
             0.3333333333333333,
             "#9c179e"
            ],
            [
             0.4444444444444444,
             "#bd3786"
            ],
            [
             0.5555555555555556,
             "#d8576b"
            ],
            [
             0.6666666666666666,
             "#ed7953"
            ],
            [
             0.7777777777777778,
             "#fb9f3a"
            ],
            [
             0.8888888888888888,
             "#fdca26"
            ],
            [
             1,
             "#f0f921"
            ]
           ]
          },
          "colorway": [
           "#636efa",
           "#EF553B",
           "#00cc96",
           "#ab63fa",
           "#FFA15A",
           "#19d3f3",
           "#FF6692",
           "#B6E880",
           "#FF97FF",
           "#FECB52"
          ],
          "font": {
           "color": "#2a3f5f"
          },
          "geo": {
           "bgcolor": "white",
           "lakecolor": "white",
           "landcolor": "#E5ECF6",
           "showlakes": true,
           "showland": true,
           "subunitcolor": "white"
          },
          "hoverlabel": {
           "align": "left"
          },
          "hovermode": "closest",
          "mapbox": {
           "style": "light"
          },
          "paper_bgcolor": "white",
          "plot_bgcolor": "#E5ECF6",
          "polar": {
           "angularaxis": {
            "gridcolor": "white",
            "linecolor": "white",
            "ticks": ""
           },
           "bgcolor": "#E5ECF6",
           "radialaxis": {
            "gridcolor": "white",
            "linecolor": "white",
            "ticks": ""
           }
          },
          "scene": {
           "xaxis": {
            "backgroundcolor": "#E5ECF6",
            "gridcolor": "white",
            "gridwidth": 2,
            "linecolor": "white",
            "showbackground": true,
            "ticks": "",
            "zerolinecolor": "white"
           },
           "yaxis": {
            "backgroundcolor": "#E5ECF6",
            "gridcolor": "white",
            "gridwidth": 2,
            "linecolor": "white",
            "showbackground": true,
            "ticks": "",
            "zerolinecolor": "white"
           },
           "zaxis": {
            "backgroundcolor": "#E5ECF6",
            "gridcolor": "white",
            "gridwidth": 2,
            "linecolor": "white",
            "showbackground": true,
            "ticks": "",
            "zerolinecolor": "white"
           }
          },
          "shapedefaults": {
           "line": {
            "color": "#2a3f5f"
           }
          },
          "ternary": {
           "aaxis": {
            "gridcolor": "white",
            "linecolor": "white",
            "ticks": ""
           },
           "baxis": {
            "gridcolor": "white",
            "linecolor": "white",
            "ticks": ""
           },
           "bgcolor": "#E5ECF6",
           "caxis": {
            "gridcolor": "white",
            "linecolor": "white",
            "ticks": ""
           }
          },
          "title": {
           "x": 0.05
          },
          "xaxis": {
           "automargin": true,
           "gridcolor": "white",
           "linecolor": "white",
           "ticks": "",
           "title": {
            "standoff": 15
           },
           "zerolinecolor": "white",
           "zerolinewidth": 2
          },
          "yaxis": {
           "automargin": true,
           "gridcolor": "white",
           "linecolor": "white",
           "ticks": "",
           "title": {
            "standoff": 15
           },
           "zerolinecolor": "white",
           "zerolinewidth": 2
          }
         }
        },
        "width": 1000,
        "xaxis": {
         "visible": false
        },
        "yaxis": {
         "visible": false
        }
       }
      }
     },
     "metadata": {},
     "output_type": "display_data"
    }
   ],
   "source": [
    "import plotly.graph_objects as go\n",
    "\n",
    "# Assuming result_drop is your DataFrame with the necessary data\n",
    "\n",
    "nodes = {}\n",
    "links = []\n",
    "node_colors = []\n",
    "link_colors = []\n",
    "\n",
    "# Create a mapping of nodes to their GAREA values\n",
    "node_labels = {}\n",
    "\n",
    "for i in range(len(tahun) - 1):\n",
    "    current_year = tahun[i]\n",
    "    next_year = tahun[i + 1]\n",
    "\n",
    "    gltct_current = f'GLCT{current_year}'\n",
    "    color_current = f'color{current_year}'\n",
    "    value_current = f'GAREA{current_year}'\n",
    "\n",
    "    gltct_next = f'GLCT{next_year}'\n",
    "\n",
    "    for index, row in result_drop_overtime.iterrows():\n",
    "        source_node = row[gltct_current]\n",
    "        target_node = row[gltct_next]\n",
    "        \n",
    "        # Assign GAREA values as node labels\n",
    "        node_labels[source_node] = row[value_current]\n",
    "        node_labels[target_node] = row[f'GAREA{next_year}']\n",
    "\n",
    "        # Assume color_source is a valid color code from your data\n",
    "        color_source = row[color_current]  # Make sure this is a valid color format\n",
    "\n",
    "        if source_node not in nodes:\n",
    "            nodes[source_node] = len(nodes)\n",
    "            node_colors.append(color_source)\n",
    "        if target_node not in nodes:\n",
    "            nodes[target_node] = len(nodes)\n",
    "            node_colors.append(row[f'color{next_year}'])  # Ensure this is also a valid color format\n",
    "\n",
    "        link = {\n",
    "            'source': nodes[source_node],\n",
    "            'target': nodes[target_node],\n",
    "            'value': row[f'GAREA{next_year}']  # Use the correct value\n",
    "        }\n",
    "        \n",
    "        links.append(link)\n",
    "        link_colors.append(color_source)\n",
    "\n",
    "# Prepare to create the Sankey figure\n",
    "fig = go.Figure(data=[go.Sankey(\n",
    "    node=dict(\n",
    "        pad=10,\n",
    "        thickness=20,\n",
    "        line=dict(color='white'),\n",
    "        label=[node_labels[key] for key in nodes.keys()],  # Use GAREA values as labels\n",
    "        color=node_colors  # Use your predefined colors here\n",
    "    ),\n",
    "    link=dict(\n",
    "        source=[link['source'] for link in links],\n",
    "        target=[link['target'] for link in links],\n",
    "        value=[link['value'] for link in links],\n",
    "        color=link_colors,\n",
    "    )\n",
    ")])\n",
    "\n",
    "# Create traces for the legend\n",
    "custom_labels = [ 'Non-Forested Natural Vegetation', 'Forested Natural Vegetation','Agriculture']\n",
    "warna = ['#B7E0FF', '#347928', '#FF6600']\n",
    "legend_entries = [[color, label] for color, label in zip(warna, custom_labels)]\n",
    "\n",
    "legend = []\n",
    "for i, entry in enumerate(legend_entries):\n",
    "    legend.append(\n",
    "        go.Scatter(\n",
    "            mode=\"markers\",\n",
    "            x=[None],\n",
    "            y=[None],\n",
    "            marker=dict(size=10, color=entry[0], symbol=\"square\"),\n",
    "            name=entry[1],\n",
    "            showlegend=True\n",
    "        )\n",
    "    )\n",
    "\n",
    "# Define the layout with annotations included\n",
    "layout = go.Layout(\n",
    "    showlegend=True,\n",
    "    plot_bgcolor=\"rgba(0,0,0,0)\",\n",
    "    legend=dict(\n",
    "        orientation=\"h\",\n",
    "        yanchor=\"bottom\",\n",
    "        y=-0.1,\n",
    "        xanchor=\"center\",\n",
    "        x=0.45\n",
    "    ),\n",
    "    annotations=[\n",
    "        dict(\n",
    "            text=\"Agricultural Land Gain\",\n",
    "            x=0.2,\n",
    "            y=1.25,\n",
    "            xref=\"paper\",\n",
    "            yref=\"paper\",\n",
    "            showarrow=False,\n",
    "            arrowhead=2,\n",
    "            ax=0,\n",
    "            ay=-40,\n",
    "            font=dict(size=16, color=\"black\", family=\"Arial Black\")\n",
    "        ),\n",
    "         dict(\n",
    "            text=\"676 Mha\",\n",
    "            x=0.405,\n",
    "            y=1.15,\n",
    "            xref=\"paper\",\n",
    "            yref=\"paper\",\n",
    "            showarrow=False,\n",
    "            arrowhead=2,\n",
    "            ax=0,\n",
    "            ay=-40,\n",
    "            font=dict(size=12, color=\"Grey\", family=\"Arial Black\")\n",
    "        ),\n",
    "        dict(\n",
    "            text=\"Agricultural Land Loss\",\n",
    "            x=0.6,\n",
    "            y=1.25,\n",
    "            xref=\"paper\",\n",
    "            yref=\"paper\",\n",
    "            showarrow=False,\n",
    "            arrowhead=2,\n",
    "            ax=0,\n",
    "            ay=-40,\n",
    "            font=dict(size=16, color=\"black\", family=\"Arial Black\")\n",
    "        ),\n",
    "        dict(\n",
    "            text=\"76 Mha\",\n",
    "            x=0.515,\n",
    "            y=1.15,\n",
    "            xref=\"paper\",\n",
    "            yref=\"paper\",\n",
    "            showarrow=False,\n",
    "            arrowhead=2,\n",
    "            ax=0,\n",
    "            ay=-40,\n",
    "            font=dict(size=12, color=\"Grey\", family=\"Arial Black\")\n",
    "        ),\n",
    "        dict(\n",
    "            text=\"59%\",\n",
    "            x=0.1,\n",
    "            y=0.8,\n",
    "            xref=\"paper\",\n",
    "            yref=\"paper\",\n",
    "            showarrow=False,\n",
    "            arrowhead=2,\n",
    "            ax=0,\n",
    "            ay=-40,\n",
    "            font=dict(size=12, color=\"Black\", family=\"Arial Black\")\n",
    "        )\n",
    "        ,\n",
    "        dict(\n",
    "            text=\"41%\",\n",
    "            x=0.1,\n",
    "            y=0.35,\n",
    "            xref=\"paper\",\n",
    "            yref=\"paper\",\n",
    "            showarrow=False,\n",
    "            arrowhead=2,\n",
    "            ax=0,\n",
    "            ay=-40,\n",
    "            font=dict(size=12, color=\"Black\", family=\"Arial Black\")\n",
    "        ),\n",
    "        dict(\n",
    "            text=\"84%\",\n",
    "            x=0.80,\n",
    "            y=0.9,\n",
    "            xref=\"paper\",\n",
    "            yref=\"paper\",\n",
    "            showarrow=False,\n",
    "            arrowhead=2,\n",
    "            ax=0,\n",
    "            ay=-40,\n",
    "            font=dict(size=12, color=\"Black\", family=\"Arial Black\")\n",
    "        ),\n",
    "        dict(\n",
    "            text=\"16%\",\n",
    "            x=0.80,\n",
    "            y=0.75,\n",
    "            xref=\"paper\",\n",
    "            yref=\"paper\",\n",
    "            showarrow=False,\n",
    "            arrowhead=2,\n",
    "            ax=0,\n",
    "            ay=-40,\n",
    "            font=dict(size=12, color=\"Black\", family=\"Arial Black\")\n",
    "        )\n",
    "    ]\n",
    ")\n",
    "\n",
    "# Update the figure with traces and layout\n",
    "fig = go.Figure(data=[fig.data[0]] + legend, layout=layout)\n",
    "fig.update_xaxes(visible=False)\n",
    "fig.update_yaxes(visible=False)\n",
    "fig.update_layout(\n",
    "    width=1000,\n",
    "    height=400\n",
    ")\n",
    "\n",
    "# Finally show the figure\n",
    "fig.show()"
   ]
  },
  {
   "cell_type": "code",
   "execution_count": null,
   "metadata": {},
   "outputs": [],
   "source": [
    "# import json\n",
    "\n",
    "# tahun = [1970, 2020]\n",
    "\n",
    "# regions = df_sankey_garea_copy_nan['IMAGE Region Name'].unique()\n",
    "\n",
    "# for region in regions:\n",
    "#     df_region = df_sankey_garea_copy_nan[df_sankey_garea_copy_nan['IMAGE Region Name'] == region]\n",
    "\n",
    "#     columns_to_select = []\n",
    "#     columns_groupby = []\n",
    "\n",
    "#     for t in tahun:\n",
    "#         columns_to_select.extend([f'GLCT{t}', f'GAREA{t}', f'color{t}'])\n",
    "#         columns_groupby.extend([f'GLCT{t}', f'color{t}'])\n",
    "\n",
    "#     df_copy = df_region.copy()\n",
    "#     df_selected = df_copy[columns_to_select]\n",
    "\n",
    "#     df_selected_group = df_selected.groupby(columns_groupby).sum()\n",
    "#     df_selected_index = df_selected_group.reset_index()\n",
    "#     df_filtered = df_selected_index[~df_selected_index.apply(lambda row: row.astype(str).str.contains('ice').any(), axis=1)]\n",
    "\n",
    "#     panel = df_filtered[(df_filtered['GLCT1970'] != 'agri1970') & (df_filtered['GLCT2020'] == 'agri2020')]\n",
    "\n",
    "#     # Kumpulkan semua node (nilai unik dari kolom GLCT setiap tahun)\n",
    "#     nodes = []\n",
    "\n",
    "#     for year_col in tahun:\n",
    "#         unique_values = panel[f\"GLCT{year_col}\"].unique()\n",
    "#         for val in unique_values:\n",
    "#             if val not in nodes:\n",
    "#                 nodes.append(val)\n",
    "\n",
    "#     # Membuat dictionary untuk menghubungkan node dengan indeksnya\n",
    "#     nodes_dict = {node: index for index, node in enumerate(nodes)}\n",
    "\n",
    "#     # Membuat links berdasarkan pasangan tahun berturut-turut\n",
    "#     links = []\n",
    "\n",
    "#     for i in range(len(tahun) - 1):\n",
    "#         current_year = tahun[i]\n",
    "#         next_year = tahun[i + 1]\n",
    "\n",
    "#         # Loop melalui setiap baris data\n",
    "#         for _, row in panel.iterrows():\n",
    "#             source = nodes_dict[row[f'GLCT{current_year}']]\n",
    "#             target = nodes_dict[row[f'GLCT{next_year}']]\n",
    "#             value = row[f'GAREA{current_year}']  # Anda bisa sesuaikan value dengan logika yang dibutuhkan\n",
    "            \n",
    "#             # Hanya tambahkan link jika source dan target berbeda\n",
    "#             if source != target:\n",
    "#                 links.append({\n",
    "#                     \"source\": source,\n",
    "#                     \"target\": target,\n",
    "#                     \"value\": value\n",
    "#                 })\n",
    "\n",
    "#     # Membuat data yang akan digunakan untuk Sankey diagram\n",
    "#     sankey_data = {\n",
    "#         \"nodes\": [{\"node\": index, \"name\": name} for name, index in nodes_dict.items()],\n",
    "#         \"links\": links\n",
    "#     }\n",
    "\n",
    "#     # Simpan ke file JSON\n",
    "#     with open(f'data_json/sankey_data_{region}_panelA.json', 'w') as json_file:\n",
    "#         json.dump(sankey_data, json_file, indent=4)\n"
   ]
  },
  {
   "cell_type": "code",
   "execution_count": null,
   "metadata": {},
   "outputs": [],
   "source": [
    "# import json\n",
    "\n",
    "# tahun = [1970, 2020]\n",
    "\n",
    "# regions = df_sankey_garea_copy_nan['IMAGE Region Name'].unique()\n",
    "\n",
    "# for region in regions:\n",
    "#     df_region = df_sankey_garea_copy_nan[df_sankey_garea_copy_nan['IMAGE Region Name'] == region]\n",
    "\n",
    "#     columns_to_select = []\n",
    "#     columns_groupby = []\n",
    "\n",
    "#     for t in tahun:\n",
    "#         columns_to_select.extend([f'GLCT{t}', f'GAREA{t}', f'color{t}'])\n",
    "#         columns_groupby.extend([f'GLCT{t}', f'color{t}'])\n",
    "\n",
    "#     df_copy = df_region.copy()\n",
    "#     df_selected = df_copy[columns_to_select]\n",
    "\n",
    "#     df_selected_group = df_selected.groupby(columns_groupby).sum()\n",
    "#     df_selected_index = df_selected_group.reset_index()\n",
    "#     df_filtered = df_selected_index[~df_selected_index.apply(lambda row: row.astype(str).str.contains('ice').any(), axis=1)]\n",
    "\n",
    "#     panel = df_filtered[(df_filtered['GLCT1970'] == 'agri1970') & (df_filtered['GLCT2020'] != 'agri2020')]\n",
    "\n",
    "#     # Kumpulkan semua node (nilai unik dari kolom GLCT setiap tahun)\n",
    "#     nodes = []\n",
    "\n",
    "#     for year_col in tahun:\n",
    "#         unique_values = panel[f\"GLCT{year_col}\"].unique()\n",
    "#         for val in unique_values:\n",
    "#             if val not in nodes:\n",
    "#                 nodes.append(val)\n",
    "\n",
    "#     # Membuat dictionary untuk menghubungkan node dengan indeksnya\n",
    "#     nodes_dict = {node: index for index, node in enumerate(nodes)}\n",
    "\n",
    "#     # Membuat links berdasarkan pasangan tahun berturut-turut\n",
    "#     links = []\n",
    "\n",
    "#     for i in range(len(tahun) - 1):\n",
    "#         current_year = tahun[i]\n",
    "#         next_year = tahun[i + 1]\n",
    "\n",
    "#         # Loop melalui setiap baris data\n",
    "#         for _, row in panel.iterrows():\n",
    "#             source = nodes_dict[row[f'GLCT{current_year}']]\n",
    "#             target = nodes_dict[row[f'GLCT{next_year}']]\n",
    "#             value = row[f'GAREA{current_year}']  # Anda bisa sesuaikan value dengan logika yang dibutuhkan\n",
    "            \n",
    "#             # Hanya tambahkan link jika source dan target berbeda\n",
    "#             if source != target:\n",
    "#                 links.append({\n",
    "#                     \"source\": source,\n",
    "#                     \"target\": target,\n",
    "#                     \"value\": value\n",
    "#                 })\n",
    "\n",
    "#     # Membuat data yang akan digunakan untuk Sankey diagram\n",
    "#     sankey_data = {\n",
    "#         \"nodes\": [{\"node\": index, \"name\": name} for name, index in nodes_dict.items()],\n",
    "#         \"links\": links\n",
    "#     }\n",
    "\n",
    "#     # Simpan ke file JSON\n",
    "#     with open(f'data_json/sankey_data_{region}_panelB.json', 'w') as json_file:\n",
    "#         json.dump(sankey_data, json_file, indent=4)\n"
   ]
  },
  {
   "cell_type": "code",
   "execution_count": 66,
   "metadata": {},
   "outputs": [],
   "source": [
    "# import json\n",
    "\n",
    "# # Daftar tahun yang dinamis\n",
    "# tahun = [1970, 2020]\n",
    "\n",
    "# # Kumpulkan semua node (nilai unik dari kolom GLCT setiap tahun)\n",
    "# nodes = []\n",
    "# for year_col in tahun:\n",
    "#     unique_values = result_drop_overtime[f\"GLCT{year_col}\"].unique()\n",
    "#     for val in unique_values:\n",
    "#         if val not in nodes:\n",
    "#             nodes.append(val)\n",
    "\n",
    "# # Membuat dictionary untuk menghubungkan node dengan indeksnya\n",
    "# nodes_dict = {node: index for index, node in enumerate(nodes)}\n",
    "\n",
    "# # Membuat links berdasarkan pasangan tahun berturut-turut\n",
    "# links = []\n",
    "\n",
    "# for i in range(len(tahun) - 1):\n",
    "#     current_year = tahun[i]\n",
    "#     next_year = tahun[i + 1]\n",
    "\n",
    "#     # Loop melalui setiap baris data\n",
    "#     for _, row in result_drop_overtime.iterrows():\n",
    "#         source = nodes_dict[row[f'GLCT{current_year}']]\n",
    "#         target = nodes_dict[row[f'GLCT{next_year}']]\n",
    "#         value = row[f'GAREA{current_year}']  # Anda bisa sesuaikan value dengan logika yang dibutuhkan\n",
    "#         # nodes_dict.append({\"percent\": row['percent']}) # menambahkan key dan value percent\n",
    "\n",
    "        \n",
    "#         # Hanya tambahkan link jika source dan target berbeda\n",
    "#         if source != target:\n",
    "#             link = {\n",
    "#                 \"source\": source,\n",
    "#                 \"target\": target,\n",
    "#                 \"value\": value\n",
    "#             }\n",
    "\n",
    "#             if 'percent' in row:\n",
    "#                 link[\"percent\"] = float(row['percent'])\n",
    "            \n",
    "#             links.append(link)\n",
    "\n",
    "# # Membuat data yang akan digunakan untuk Sankey diagram\n",
    "# sankey_data = {\n",
    "#     \"nodes\": [{\"node\": index, \"name\": name} for index, name in nodes_dict.items()],\n",
    "#     \"links\": links\n",
    "# }\n",
    "# sankey_data\n",
    "\n",
    "# # # Simpan ke file JSON\n",
    "# # with open('sankey_data_result_drop_overtime.json', 'w') as json_file:\n",
    "# #     json.dump(sankey_data, json_file, indent=4)\n"
   ]
  },
  {
   "cell_type": "code",
   "execution_count": 83,
   "metadata": {},
   "outputs": [],
   "source": [
    "import json\n",
    "import pandas as pd\n",
    "\n",
    "def generate_sankey_data(df, years, glct_prefix='GLCT', garea_prefix='GAREA'):\n",
    "    \"\"\"\n",
    "    Generate Sankey diagram data from a DataFrame with percentages in nodes.\n",
    "    \n",
    "    Parameters:\n",
    "    df : pandas DataFrame\n",
    "        Input DataFrame containing GLCT and GAREA columns\n",
    "    years : list\n",
    "        List of years to process\n",
    "    glct_prefix : str\n",
    "        Prefix for GLCT columns\n",
    "    garea_prefix : str\n",
    "        Prefix for GAREA columns\n",
    "    \n",
    "    Returns:\n",
    "    dict : Sankey diagram data structure\n",
    "    \"\"\"\n",
    "    # Collect unique nodes and their percentages from all years\n",
    "    nodes = {}  # Dictionary to store node information including percentages\n",
    "    for year in years:\n",
    "        col_name = f\"{glct_prefix}{year}\"\n",
    "        # Group by GLCT and calculate percentage for each node\n",
    "        year_data = df.groupby(col_name).agg({\n",
    "            'percent': 'first'  # Mengambil nilai percent pertama untuk setiap node\n",
    "        }).reset_index()\n",
    "        \n",
    "        for _, row in year_data.iterrows():\n",
    "            node_name = row[col_name]\n",
    "            if node_name not in nodes:\n",
    "                # Format percent as string with % symbol\n",
    "                percent_str = f\"{float(row['percent']):.0f}%\" if 'percent' in row else None\n",
    "                nodes[node_name] = {\n",
    "                    'name': node_name,\n",
    "                    'percent': percent_str\n",
    "                }\n",
    "\n",
    "    # Create node dictionary with indices and create final nodes list\n",
    "    nodes_dict = {}  # For mapping node names to indices\n",
    "    nodes_data = []  # Final list of node objects\n",
    "    \n",
    "    for index, (node_name, node_info) in enumerate(nodes.items()):\n",
    "        nodes_dict[node_name] = index\n",
    "        node_data = {\n",
    "            \"node\": index,\n",
    "            \"name\": node_name,\n",
    "            \"percent\": node_info['percent']\n",
    "        }\n",
    "        nodes_data.append(node_data)\n",
    "\n",
    "    # Generate links between consecutive years\n",
    "    links = []\n",
    "    for i in range(len(years) - 1):\n",
    "        current_year = years[i]\n",
    "        next_year = years[i + 1]\n",
    "        \n",
    "        # Process each row in the DataFrame\n",
    "        for _, row in df.iterrows():\n",
    "            source = nodes_dict[row[f'{glct_prefix}{current_year}']]\n",
    "            target = nodes_dict[row[f'{glct_prefix}{next_year}']]\n",
    "            value = float(row[f'{garea_prefix}{current_year}'])\n",
    "            \n",
    "            # Only add link if source and target are different\n",
    "            if source != target:\n",
    "                link = {\n",
    "                    \"source\": source,\n",
    "                    \"target\": target,\n",
    "                    \"value\": value\n",
    "                }\n",
    "                links.append(link)\n",
    "\n",
    "    # Create final Sankey data structure\n",
    "    sankey_data = {\n",
    "        \"nodes\": nodes_data,\n",
    "        \"links\": links\n",
    "    }\n",
    "    \n",
    "    return sankey_data\n",
    "\n",
    "\n",
    "# Define years\n",
    "years = [1970, 2020]\n",
    "\n",
    "# Generate Sankey data\n",
    "sankey_data = generate_sankey_data(result, years)\n",
    "# sankey_data\n",
    "\n",
    "# Save to JSON file\n",
    "with open('sankey_data_result_drop_overtime.json', 'w') as json_file:\n",
    "    json.dump(sankey_data, json_file, indent=4)"
   ]
  },
  {
   "cell_type": "code",
   "execution_count": null,
   "metadata": {},
   "outputs": [],
   "source": [
    "# import json\n",
    "\n",
    "# # Daftar tahun yang dinamis\n",
    "# tahun = [1970, 2020]\n",
    "\n",
    "# # Kumpulkan semua node (nilai unik dari kolom GLCT setiap tahun)\n",
    "# nodes = []\n",
    "# for year_col in tahun:\n",
    "#     unique_values = panelB[f\"GLCT{year_col}\"].unique()\n",
    "#     for val in unique_values:\n",
    "#         if val not in nodes:\n",
    "#             nodes.append(val)\n",
    "\n",
    "# # Membuat dictionary untuk menghubungkan node dengan indeksnya\n",
    "# nodes_dict = {node: index for index, node in enumerate(nodes)}\n",
    "\n",
    "# # Membuat links berdasarkan pasangan tahun berturut-turut\n",
    "# links = []\n",
    "\n",
    "# for i in range(len(tahun) - 1):\n",
    "#     current_year = tahun[i]\n",
    "#     next_year = tahun[i + 1]\n",
    "\n",
    "#     # Loop melalui setiap baris data\n",
    "#     for _, row in panelB.iterrows():\n",
    "#         source = nodes_dict[row[f'GLCT{current_year}']]\n",
    "#         target = nodes_dict[row[f'GLCT{next_year}']]\n",
    "#         value = row[f'GAREA{current_year}']  # Anda bisa sesuaikan value dengan logika yang dibutuhkan\n",
    "        \n",
    "#         # Hanya tambahkan link jika source dan target berbeda\n",
    "#         if source != target:\n",
    "#             links.append({\n",
    "#                 \"source\": source,\n",
    "#                 \"target\": target,\n",
    "#                 \"value\": value\n",
    "#             })\n",
    "\n",
    "# # Membuat data yang akan digunakan untuk Sankey diagram\n",
    "# sankey_data = {\n",
    "#     \"nodes\": [{\"node\": index, \"name\": name} for name, index in nodes_dict.items()],\n",
    "#     \"links\": links\n",
    "# }\n",
    "\n",
    "# # Simpan ke file JSON\n",
    "# with open('sankey_data_global_panelB.json', 'w') as json_file:\n",
    "#     json.dump(sankey_data, json_file, indent=4)\n"
   ]
  },
  {
   "cell_type": "code",
   "execution_count": 48,
   "metadata": {},
   "outputs": [
    {
     "data": {
      "application/vnd.plotly.v1+json": {
       "config": {
        "plotlyServerURL": "https://plot.ly"
       },
       "data": [
        {
         "domain": {
          "x": [
           0,
           0.45
          ],
          "y": [
           0,
           1
          ]
         },
         "link": {
          "color": [
           "#347928",
           "#B7E0FF"
          ],
          "source": [
           0,
           2
          ],
          "target": [
           1,
           1
          ],
          "value": [
           4.1330077715963585,
           5
          ]
         },
         "node": {
          "color": [
           "#347928",
           "#FF6600",
           "#B7E0FF"
          ],
          "label": [
           "forest1970",
           "agri2020",
           "nonforest1970"
          ],
          "line": {
           "color": "white"
          },
          "pad": 10,
          "thickness": 30
         },
         "type": "sankey"
        },
        {
         "domain": {
          "x": [
           0.55,
           1
          ],
          "y": [
           0,
           1
          ]
         },
         "link": {
          "color": [
           "#FF6600",
           "#FF6600",
           "#FF6600"
          ],
          "source": [
           0,
           0,
           0
          ],
          "target": [
           1,
           2,
           3
          ],
          "value": [
           0.5880275953138969,
           0.0004307478749603655,
           1.6109147179263503
          ]
         },
         "node": {
          "color": [
           "#FF6600",
           "#347928",
           "#FCCD2A",
           "#B7E0FF"
          ],
          "label": [
           "agri1970",
           "forest2020",
           "grass2020",
           "nonforest2020"
          ],
          "line": {
           "color": "white"
          },
          "pad": 10,
          "thickness": 30
         },
         "type": "sankey"
        }
       ],
       "layout": {
        "annotations": [
         {
          "arrowhead": 2,
          "ax": 0,
          "ay": -40,
          "font": {
           "color": "black",
           "family": "Arial Black",
           "size": 16
          },
          "showarrow": false,
          "text": "1970",
          "x": 0,
          "xref": "paper",
          "y": 1.1,
          "yref": "paper"
         },
         {
          "arrowhead": 2,
          "ax": 0,
          "ay": -40,
          "font": {
           "color": "black",
           "family": "Arial Black",
           "size": 16
          },
          "showarrow": false,
          "text": "2020",
          "x": 1,
          "xref": "paper",
          "y": 1.1,
          "yref": "paper"
         },
         {
          "align": "left",
          "font": {
           "size": 10
          },
          "showarrow": false,
          "text": "Note: Numbers may not sum to 100% due to rounding<br>Source: Potapov et al. 2021",
          "x": 0,
          "xref": "paper",
          "y": -0.2,
          "yref": "paper"
         }
        ],
        "height": 600,
        "legend": {
         "orientation": "h",
         "x": 0.5,
         "xanchor": "center",
         "y": -0.1,
         "yanchor": "bottom"
        },
        "plot_bgcolor": "rgba(0,0,0,0)",
        "showlegend": true,
        "template": {
         "data": {
          "bar": [
           {
            "error_x": {
             "color": "#2a3f5f"
            },
            "error_y": {
             "color": "#2a3f5f"
            },
            "marker": {
             "line": {
              "color": "#E5ECF6",
              "width": 0.5
             },
             "pattern": {
              "fillmode": "overlay",
              "size": 10,
              "solidity": 0.2
             }
            },
            "type": "bar"
           }
          ],
          "barpolar": [
           {
            "marker": {
             "line": {
              "color": "#E5ECF6",
              "width": 0.5
             },
             "pattern": {
              "fillmode": "overlay",
              "size": 10,
              "solidity": 0.2
             }
            },
            "type": "barpolar"
           }
          ],
          "carpet": [
           {
            "aaxis": {
             "endlinecolor": "#2a3f5f",
             "gridcolor": "white",
             "linecolor": "white",
             "minorgridcolor": "white",
             "startlinecolor": "#2a3f5f"
            },
            "baxis": {
             "endlinecolor": "#2a3f5f",
             "gridcolor": "white",
             "linecolor": "white",
             "minorgridcolor": "white",
             "startlinecolor": "#2a3f5f"
            },
            "type": "carpet"
           }
          ],
          "choropleth": [
           {
            "colorbar": {
             "outlinewidth": 0,
             "ticks": ""
            },
            "type": "choropleth"
           }
          ],
          "contour": [
           {
            "colorbar": {
             "outlinewidth": 0,
             "ticks": ""
            },
            "colorscale": [
             [
              0,
              "#0d0887"
             ],
             [
              0.1111111111111111,
              "#46039f"
             ],
             [
              0.2222222222222222,
              "#7201a8"
             ],
             [
              0.3333333333333333,
              "#9c179e"
             ],
             [
              0.4444444444444444,
              "#bd3786"
             ],
             [
              0.5555555555555556,
              "#d8576b"
             ],
             [
              0.6666666666666666,
              "#ed7953"
             ],
             [
              0.7777777777777778,
              "#fb9f3a"
             ],
             [
              0.8888888888888888,
              "#fdca26"
             ],
             [
              1,
              "#f0f921"
             ]
            ],
            "type": "contour"
           }
          ],
          "contourcarpet": [
           {
            "colorbar": {
             "outlinewidth": 0,
             "ticks": ""
            },
            "type": "contourcarpet"
           }
          ],
          "heatmap": [
           {
            "colorbar": {
             "outlinewidth": 0,
             "ticks": ""
            },
            "colorscale": [
             [
              0,
              "#0d0887"
             ],
             [
              0.1111111111111111,
              "#46039f"
             ],
             [
              0.2222222222222222,
              "#7201a8"
             ],
             [
              0.3333333333333333,
              "#9c179e"
             ],
             [
              0.4444444444444444,
              "#bd3786"
             ],
             [
              0.5555555555555556,
              "#d8576b"
             ],
             [
              0.6666666666666666,
              "#ed7953"
             ],
             [
              0.7777777777777778,
              "#fb9f3a"
             ],
             [
              0.8888888888888888,
              "#fdca26"
             ],
             [
              1,
              "#f0f921"
             ]
            ],
            "type": "heatmap"
           }
          ],
          "heatmapgl": [
           {
            "colorbar": {
             "outlinewidth": 0,
             "ticks": ""
            },
            "colorscale": [
             [
              0,
              "#0d0887"
             ],
             [
              0.1111111111111111,
              "#46039f"
             ],
             [
              0.2222222222222222,
              "#7201a8"
             ],
             [
              0.3333333333333333,
              "#9c179e"
             ],
             [
              0.4444444444444444,
              "#bd3786"
             ],
             [
              0.5555555555555556,
              "#d8576b"
             ],
             [
              0.6666666666666666,
              "#ed7953"
             ],
             [
              0.7777777777777778,
              "#fb9f3a"
             ],
             [
              0.8888888888888888,
              "#fdca26"
             ],
             [
              1,
              "#f0f921"
             ]
            ],
            "type": "heatmapgl"
           }
          ],
          "histogram": [
           {
            "marker": {
             "pattern": {
              "fillmode": "overlay",
              "size": 10,
              "solidity": 0.2
             }
            },
            "type": "histogram"
           }
          ],
          "histogram2d": [
           {
            "colorbar": {
             "outlinewidth": 0,
             "ticks": ""
            },
            "colorscale": [
             [
              0,
              "#0d0887"
             ],
             [
              0.1111111111111111,
              "#46039f"
             ],
             [
              0.2222222222222222,
              "#7201a8"
             ],
             [
              0.3333333333333333,
              "#9c179e"
             ],
             [
              0.4444444444444444,
              "#bd3786"
             ],
             [
              0.5555555555555556,
              "#d8576b"
             ],
             [
              0.6666666666666666,
              "#ed7953"
             ],
             [
              0.7777777777777778,
              "#fb9f3a"
             ],
             [
              0.8888888888888888,
              "#fdca26"
             ],
             [
              1,
              "#f0f921"
             ]
            ],
            "type": "histogram2d"
           }
          ],
          "histogram2dcontour": [
           {
            "colorbar": {
             "outlinewidth": 0,
             "ticks": ""
            },
            "colorscale": [
             [
              0,
              "#0d0887"
             ],
             [
              0.1111111111111111,
              "#46039f"
             ],
             [
              0.2222222222222222,
              "#7201a8"
             ],
             [
              0.3333333333333333,
              "#9c179e"
             ],
             [
              0.4444444444444444,
              "#bd3786"
             ],
             [
              0.5555555555555556,
              "#d8576b"
             ],
             [
              0.6666666666666666,
              "#ed7953"
             ],
             [
              0.7777777777777778,
              "#fb9f3a"
             ],
             [
              0.8888888888888888,
              "#fdca26"
             ],
             [
              1,
              "#f0f921"
             ]
            ],
            "type": "histogram2dcontour"
           }
          ],
          "mesh3d": [
           {
            "colorbar": {
             "outlinewidth": 0,
             "ticks": ""
            },
            "type": "mesh3d"
           }
          ],
          "parcoords": [
           {
            "line": {
             "colorbar": {
              "outlinewidth": 0,
              "ticks": ""
             }
            },
            "type": "parcoords"
           }
          ],
          "pie": [
           {
            "automargin": true,
            "type": "pie"
           }
          ],
          "scatter": [
           {
            "fillpattern": {
             "fillmode": "overlay",
             "size": 10,
             "solidity": 0.2
            },
            "type": "scatter"
           }
          ],
          "scatter3d": [
           {
            "line": {
             "colorbar": {
              "outlinewidth": 0,
              "ticks": ""
             }
            },
            "marker": {
             "colorbar": {
              "outlinewidth": 0,
              "ticks": ""
             }
            },
            "type": "scatter3d"
           }
          ],
          "scattercarpet": [
           {
            "marker": {
             "colorbar": {
              "outlinewidth": 0,
              "ticks": ""
             }
            },
            "type": "scattercarpet"
           }
          ],
          "scattergeo": [
           {
            "marker": {
             "colorbar": {
              "outlinewidth": 0,
              "ticks": ""
             }
            },
            "type": "scattergeo"
           }
          ],
          "scattergl": [
           {
            "marker": {
             "colorbar": {
              "outlinewidth": 0,
              "ticks": ""
             }
            },
            "type": "scattergl"
           }
          ],
          "scattermapbox": [
           {
            "marker": {
             "colorbar": {
              "outlinewidth": 0,
              "ticks": ""
             }
            },
            "type": "scattermapbox"
           }
          ],
          "scatterpolar": [
           {
            "marker": {
             "colorbar": {
              "outlinewidth": 0,
              "ticks": ""
             }
            },
            "type": "scatterpolar"
           }
          ],
          "scatterpolargl": [
           {
            "marker": {
             "colorbar": {
              "outlinewidth": 0,
              "ticks": ""
             }
            },
            "type": "scatterpolargl"
           }
          ],
          "scatterternary": [
           {
            "marker": {
             "colorbar": {
              "outlinewidth": 0,
              "ticks": ""
             }
            },
            "type": "scatterternary"
           }
          ],
          "surface": [
           {
            "colorbar": {
             "outlinewidth": 0,
             "ticks": ""
            },
            "colorscale": [
             [
              0,
              "#0d0887"
             ],
             [
              0.1111111111111111,
              "#46039f"
             ],
             [
              0.2222222222222222,
              "#7201a8"
             ],
             [
              0.3333333333333333,
              "#9c179e"
             ],
             [
              0.4444444444444444,
              "#bd3786"
             ],
             [
              0.5555555555555556,
              "#d8576b"
             ],
             [
              0.6666666666666666,
              "#ed7953"
             ],
             [
              0.7777777777777778,
              "#fb9f3a"
             ],
             [
              0.8888888888888888,
              "#fdca26"
             ],
             [
              1,
              "#f0f921"
             ]
            ],
            "type": "surface"
           }
          ],
          "table": [
           {
            "cells": {
             "fill": {
              "color": "#EBF0F8"
             },
             "line": {
              "color": "white"
             }
            },
            "header": {
             "fill": {
              "color": "#C8D4E3"
             },
             "line": {
              "color": "white"
             }
            },
            "type": "table"
           }
          ]
         },
         "layout": {
          "annotationdefaults": {
           "arrowcolor": "#2a3f5f",
           "arrowhead": 0,
           "arrowwidth": 1
          },
          "autotypenumbers": "strict",
          "coloraxis": {
           "colorbar": {
            "outlinewidth": 0,
            "ticks": ""
           }
          },
          "colorscale": {
           "diverging": [
            [
             0,
             "#8e0152"
            ],
            [
             0.1,
             "#c51b7d"
            ],
            [
             0.2,
             "#de77ae"
            ],
            [
             0.3,
             "#f1b6da"
            ],
            [
             0.4,
             "#fde0ef"
            ],
            [
             0.5,
             "#f7f7f7"
            ],
            [
             0.6,
             "#e6f5d0"
            ],
            [
             0.7,
             "#b8e186"
            ],
            [
             0.8,
             "#7fbc41"
            ],
            [
             0.9,
             "#4d9221"
            ],
            [
             1,
             "#276419"
            ]
           ],
           "sequential": [
            [
             0,
             "#0d0887"
            ],
            [
             0.1111111111111111,
             "#46039f"
            ],
            [
             0.2222222222222222,
             "#7201a8"
            ],
            [
             0.3333333333333333,
             "#9c179e"
            ],
            [
             0.4444444444444444,
             "#bd3786"
            ],
            [
             0.5555555555555556,
             "#d8576b"
            ],
            [
             0.6666666666666666,
             "#ed7953"
            ],
            [
             0.7777777777777778,
             "#fb9f3a"
            ],
            [
             0.8888888888888888,
             "#fdca26"
            ],
            [
             1,
             "#f0f921"
            ]
           ],
           "sequentialminus": [
            [
             0,
             "#0d0887"
            ],
            [
             0.1111111111111111,
             "#46039f"
            ],
            [
             0.2222222222222222,
             "#7201a8"
            ],
            [
             0.3333333333333333,
             "#9c179e"
            ],
            [
             0.4444444444444444,
             "#bd3786"
            ],
            [
             0.5555555555555556,
             "#d8576b"
            ],
            [
             0.6666666666666666,
             "#ed7953"
            ],
            [
             0.7777777777777778,
             "#fb9f3a"
            ],
            [
             0.8888888888888888,
             "#fdca26"
            ],
            [
             1,
             "#f0f921"
            ]
           ]
          },
          "colorway": [
           "#636efa",
           "#EF553B",
           "#00cc96",
           "#ab63fa",
           "#FFA15A",
           "#19d3f3",
           "#FF6692",
           "#B6E880",
           "#FF97FF",
           "#FECB52"
          ],
          "font": {
           "color": "#2a3f5f"
          },
          "geo": {
           "bgcolor": "white",
           "lakecolor": "white",
           "landcolor": "#E5ECF6",
           "showlakes": true,
           "showland": true,
           "subunitcolor": "white"
          },
          "hoverlabel": {
           "align": "left"
          },
          "hovermode": "closest",
          "mapbox": {
           "style": "light"
          },
          "paper_bgcolor": "white",
          "plot_bgcolor": "#E5ECF6",
          "polar": {
           "angularaxis": {
            "gridcolor": "white",
            "linecolor": "white",
            "ticks": ""
           },
           "bgcolor": "#E5ECF6",
           "radialaxis": {
            "gridcolor": "white",
            "linecolor": "white",
            "ticks": ""
           }
          },
          "scene": {
           "xaxis": {
            "backgroundcolor": "#E5ECF6",
            "gridcolor": "white",
            "gridwidth": 2,
            "linecolor": "white",
            "showbackground": true,
            "ticks": "",
            "zerolinecolor": "white"
           },
           "yaxis": {
            "backgroundcolor": "#E5ECF6",
            "gridcolor": "white",
            "gridwidth": 2,
            "linecolor": "white",
            "showbackground": true,
            "ticks": "",
            "zerolinecolor": "white"
           },
           "zaxis": {
            "backgroundcolor": "#E5ECF6",
            "gridcolor": "white",
            "gridwidth": 2,
            "linecolor": "white",
            "showbackground": true,
            "ticks": "",
            "zerolinecolor": "white"
           }
          },
          "shapedefaults": {
           "line": {
            "color": "#2a3f5f"
           }
          },
          "ternary": {
           "aaxis": {
            "gridcolor": "white",
            "linecolor": "white",
            "ticks": ""
           },
           "baxis": {
            "gridcolor": "white",
            "linecolor": "white",
            "ticks": ""
           },
           "bgcolor": "#E5ECF6",
           "caxis": {
            "gridcolor": "white",
            "linecolor": "white",
            "ticks": ""
           }
          },
          "title": {
           "x": 0.05
          },
          "xaxis": {
           "automargin": true,
           "gridcolor": "white",
           "linecolor": "white",
           "ticks": "",
           "title": {
            "standoff": 15
           },
           "zerolinecolor": "white",
           "zerolinewidth": 2
          },
          "yaxis": {
           "automargin": true,
           "gridcolor": "white",
           "linecolor": "white",
           "ticks": "",
           "title": {
            "standoff": 15
           },
           "zerolinecolor": "white",
           "zerolinewidth": 2
          }
         }
        },
        "width": 1000
       }
      }
     },
     "metadata": {},
     "output_type": "display_data"
    }
   ],
   "source": [
    "import plotly.graph_objects as go\n",
    "\n",
    "# Function to create a Sankey diagram from a dataframe\n",
    "def create_sankey(df, tahun, node_scaling_factor, x, y):\n",
    "    nodes = {}\n",
    "    links = []\n",
    "    node_colors = []\n",
    "    link_colors = []\n",
    "\n",
    "    for i in range(len(tahun) - 1):\n",
    "        current_year = tahun[i]\n",
    "        next_year = tahun[i + 1]\n",
    "\n",
    "        gltct_current = f'GLCT{current_year}'\n",
    "        color_current = f'color{current_year}'\n",
    "        value_current = f'GAREA{current_year}'\n",
    "\n",
    "        gltct_next = f'GLCT{next_year}'\n",
    "        color_next = f'color{next_year}'\n",
    "        value_next = f'GAREA{next_year}'\n",
    "\n",
    "        for index, row in df.iterrows():\n",
    "            source_node = row[gltct_current]\n",
    "            target_node = row[gltct_next]\n",
    "            color_source = row[color_current]\n",
    "\n",
    "            if source_node not in nodes:\n",
    "                nodes[source_node] = len(nodes)\n",
    "                node_colors.append(color_source)\n",
    "            if target_node not in nodes:\n",
    "                nodes[target_node] = len(nodes)\n",
    "                node_colors.append(row[color_next])\n",
    "\n",
    "            link = {\n",
    "                'source': nodes[source_node],\n",
    "                'target': nodes[target_node],\n",
    "                'value': row[value_next] * node_scaling_factor  # Scale node sizes\n",
    "            }\n",
    "\n",
    "            links.append(link)\n",
    "            link_colors.append(color_source)\n",
    "\n",
    "    return go.Sankey(\n",
    "        domain=dict(\n",
    "            x=x,  # Specify the x domain for positioning the plot\n",
    "            y=y   # Specify the y domain for positioning the plot\n",
    "        ),\n",
    "        node=dict(\n",
    "            pad=10,\n",
    "            thickness=30,\n",
    "            line=dict(color='white'),\n",
    "            label=list(nodes.keys()),\n",
    "            color=node_colors\n",
    "        ),\n",
    "        link=dict(\n",
    "            source=[link['source'] for link in links],\n",
    "            target=[link['target'] for link in links],\n",
    "            value=[link['value'] for link in links],\n",
    "            color=link_colors,\n",
    "        )\n",
    "    )\n",
    "\n",
    "# Define scaling factor (assumed based on max area)\n",
    "max_area = max(panelA[f'GAREA{tahun[-1]}'].max(), panelB[f'GAREA{tahun[-1]}'].max())\n",
    "scaling_factor = 5 / max_area  # 5-inch max node size for the largest node\n",
    "\n",
    "# Create a new figure\n",
    "fig = go.Figure()\n",
    "\n",
    "# Create Sankey plots for two different dataframes\n",
    "sankey_plot1 = create_sankey(panelA, tahun, scaling_factor, [0.0, 0.45], [0.0, 1.0])\n",
    "sankey_plot2 = create_sankey(panelB, tahun, scaling_factor, [0.55, 1.0], [0.0, 1.0])\n",
    "\n",
    "# Add the Sankey plots to the figure\n",
    "fig.add_trace(sankey_plot1)\n",
    "fig.add_trace(sankey_plot2)\n",
    "\n",
    "# Update layout with consistent annotations\n",
    "fig.update_layout(\n",
    "    showlegend=True,\n",
    "    plot_bgcolor=\"rgba(0,0,0,0)\",\n",
    "    width=1000,\n",
    "    height=600,\n",
    "    annotations=[\n",
    "        dict(\n",
    "            text=\"1970\", x=0, y=1.1, xref=\"paper\", yref=\"paper\",\n",
    "            showarrow=False, arrowhead=2, ax=0, ay=-40,\n",
    "            font=dict(size=16, color=\"black\", family=\"Arial Black\")\n",
    "        ),\n",
    "        dict(\n",
    "            text=\"2020\", x=1, y=1.1, xref=\"paper\", yref=\"paper\",\n",
    "            showarrow=False, arrowhead=2, ax=0, ay=-40,\n",
    "            font=dict(size=16, color=\"black\", family=\"Arial Black\")\n",
    "        )\n",
    "    ],\n",
    "    legend=dict(\n",
    "        orientation=\"h\",\n",
    "        yanchor=\"bottom\",\n",
    "        y=-0.1,\n",
    "        xanchor=\"center\",\n",
    "        x=0.5\n",
    "    )\n",
    ")\n",
    "\n",
    "note_text = \"Note: Numbers may not sum to 100% due to rounding<br>Source: Potapov et al. 2021\"\n",
    "fig.add_annotation(\n",
    "    text=note_text,\n",
    "    xref=\"paper\", yref=\"paper\",\n",
    "    x=0,\n",
    "    y=-0.2,\n",
    "    showarrow=False,\n",
    "    font=dict(size=10),\n",
    "    align=\"left\"\n",
    ")\n",
    "\n",
    "# Show the figure with subplots\n",
    "fig.show()\n"
   ]
  },
  {
   "cell_type": "code",
   "execution_count": 45,
   "metadata": {},
   "outputs": [
    {
     "data": {
      "application/vnd.plotly.v1+json": {
       "config": {
        "plotlyServerURL": "https://plot.ly"
       },
       "data": [
        {
         "link": {
          "color": [
           "#347928",
           "#B7E0FF"
          ],
          "source": [
           0,
           2
          ],
          "target": [
           1,
           1
          ],
          "value": [
           267795226.1462145,
           323971355.663311
          ]
         },
         "node": {
          "color": [
           "#347928",
           "#FF6600",
           "#B7E0FF"
          ],
          "label": [
           "forest1970",
           "agri2020",
           "nonforest1970"
          ],
          "line": {
           "color": "white",
           "width": 0.5
          },
          "pad": 20,
          "thickness": 20,
          "x": [
           0.01,
           0.01,
           0.01,
           0.99
          ],
          "y": [
           0.2,
           0.5,
           0.8,
           0.5
          ]
         },
         "type": "sankey"
        }
       ],
       "layout": {
        "annotations": [
         {
          "align": "left",
          "font": {
           "size": 10
          },
          "showarrow": false,
          "text": "Note: Numbers may not sum to 100% due to rounding<br>Source: Potapov et al. 2021",
          "x": 0,
          "xref": "paper",
          "y": -0.2,
          "yref": "paper"
         }
        ],
        "font": {
         "size": 12
        },
        "height": 400,
        "margin": {
         "b": 80,
         "l": 100,
         "r": 100,
         "t": 80
        },
        "paper_bgcolor": "white",
        "plot_bgcolor": "rgba(0,0,0,0)",
        "template": {
         "data": {
          "bar": [
           {
            "error_x": {
             "color": "#2a3f5f"
            },
            "error_y": {
             "color": "#2a3f5f"
            },
            "marker": {
             "line": {
              "color": "#E5ECF6",
              "width": 0.5
             },
             "pattern": {
              "fillmode": "overlay",
              "size": 10,
              "solidity": 0.2
             }
            },
            "type": "bar"
           }
          ],
          "barpolar": [
           {
            "marker": {
             "line": {
              "color": "#E5ECF6",
              "width": 0.5
             },
             "pattern": {
              "fillmode": "overlay",
              "size": 10,
              "solidity": 0.2
             }
            },
            "type": "barpolar"
           }
          ],
          "carpet": [
           {
            "aaxis": {
             "endlinecolor": "#2a3f5f",
             "gridcolor": "white",
             "linecolor": "white",
             "minorgridcolor": "white",
             "startlinecolor": "#2a3f5f"
            },
            "baxis": {
             "endlinecolor": "#2a3f5f",
             "gridcolor": "white",
             "linecolor": "white",
             "minorgridcolor": "white",
             "startlinecolor": "#2a3f5f"
            },
            "type": "carpet"
           }
          ],
          "choropleth": [
           {
            "colorbar": {
             "outlinewidth": 0,
             "ticks": ""
            },
            "type": "choropleth"
           }
          ],
          "contour": [
           {
            "colorbar": {
             "outlinewidth": 0,
             "ticks": ""
            },
            "colorscale": [
             [
              0,
              "#0d0887"
             ],
             [
              0.1111111111111111,
              "#46039f"
             ],
             [
              0.2222222222222222,
              "#7201a8"
             ],
             [
              0.3333333333333333,
              "#9c179e"
             ],
             [
              0.4444444444444444,
              "#bd3786"
             ],
             [
              0.5555555555555556,
              "#d8576b"
             ],
             [
              0.6666666666666666,
              "#ed7953"
             ],
             [
              0.7777777777777778,
              "#fb9f3a"
             ],
             [
              0.8888888888888888,
              "#fdca26"
             ],
             [
              1,
              "#f0f921"
             ]
            ],
            "type": "contour"
           }
          ],
          "contourcarpet": [
           {
            "colorbar": {
             "outlinewidth": 0,
             "ticks": ""
            },
            "type": "contourcarpet"
           }
          ],
          "heatmap": [
           {
            "colorbar": {
             "outlinewidth": 0,
             "ticks": ""
            },
            "colorscale": [
             [
              0,
              "#0d0887"
             ],
             [
              0.1111111111111111,
              "#46039f"
             ],
             [
              0.2222222222222222,
              "#7201a8"
             ],
             [
              0.3333333333333333,
              "#9c179e"
             ],
             [
              0.4444444444444444,
              "#bd3786"
             ],
             [
              0.5555555555555556,
              "#d8576b"
             ],
             [
              0.6666666666666666,
              "#ed7953"
             ],
             [
              0.7777777777777778,
              "#fb9f3a"
             ],
             [
              0.8888888888888888,
              "#fdca26"
             ],
             [
              1,
              "#f0f921"
             ]
            ],
            "type": "heatmap"
           }
          ],
          "heatmapgl": [
           {
            "colorbar": {
             "outlinewidth": 0,
             "ticks": ""
            },
            "colorscale": [
             [
              0,
              "#0d0887"
             ],
             [
              0.1111111111111111,
              "#46039f"
             ],
             [
              0.2222222222222222,
              "#7201a8"
             ],
             [
              0.3333333333333333,
              "#9c179e"
             ],
             [
              0.4444444444444444,
              "#bd3786"
             ],
             [
              0.5555555555555556,
              "#d8576b"
             ],
             [
              0.6666666666666666,
              "#ed7953"
             ],
             [
              0.7777777777777778,
              "#fb9f3a"
             ],
             [
              0.8888888888888888,
              "#fdca26"
             ],
             [
              1,
              "#f0f921"
             ]
            ],
            "type": "heatmapgl"
           }
          ],
          "histogram": [
           {
            "marker": {
             "pattern": {
              "fillmode": "overlay",
              "size": 10,
              "solidity": 0.2
             }
            },
            "type": "histogram"
           }
          ],
          "histogram2d": [
           {
            "colorbar": {
             "outlinewidth": 0,
             "ticks": ""
            },
            "colorscale": [
             [
              0,
              "#0d0887"
             ],
             [
              0.1111111111111111,
              "#46039f"
             ],
             [
              0.2222222222222222,
              "#7201a8"
             ],
             [
              0.3333333333333333,
              "#9c179e"
             ],
             [
              0.4444444444444444,
              "#bd3786"
             ],
             [
              0.5555555555555556,
              "#d8576b"
             ],
             [
              0.6666666666666666,
              "#ed7953"
             ],
             [
              0.7777777777777778,
              "#fb9f3a"
             ],
             [
              0.8888888888888888,
              "#fdca26"
             ],
             [
              1,
              "#f0f921"
             ]
            ],
            "type": "histogram2d"
           }
          ],
          "histogram2dcontour": [
           {
            "colorbar": {
             "outlinewidth": 0,
             "ticks": ""
            },
            "colorscale": [
             [
              0,
              "#0d0887"
             ],
             [
              0.1111111111111111,
              "#46039f"
             ],
             [
              0.2222222222222222,
              "#7201a8"
             ],
             [
              0.3333333333333333,
              "#9c179e"
             ],
             [
              0.4444444444444444,
              "#bd3786"
             ],
             [
              0.5555555555555556,
              "#d8576b"
             ],
             [
              0.6666666666666666,
              "#ed7953"
             ],
             [
              0.7777777777777778,
              "#fb9f3a"
             ],
             [
              0.8888888888888888,
              "#fdca26"
             ],
             [
              1,
              "#f0f921"
             ]
            ],
            "type": "histogram2dcontour"
           }
          ],
          "mesh3d": [
           {
            "colorbar": {
             "outlinewidth": 0,
             "ticks": ""
            },
            "type": "mesh3d"
           }
          ],
          "parcoords": [
           {
            "line": {
             "colorbar": {
              "outlinewidth": 0,
              "ticks": ""
             }
            },
            "type": "parcoords"
           }
          ],
          "pie": [
           {
            "automargin": true,
            "type": "pie"
           }
          ],
          "scatter": [
           {
            "fillpattern": {
             "fillmode": "overlay",
             "size": 10,
             "solidity": 0.2
            },
            "type": "scatter"
           }
          ],
          "scatter3d": [
           {
            "line": {
             "colorbar": {
              "outlinewidth": 0,
              "ticks": ""
             }
            },
            "marker": {
             "colorbar": {
              "outlinewidth": 0,
              "ticks": ""
             }
            },
            "type": "scatter3d"
           }
          ],
          "scattercarpet": [
           {
            "marker": {
             "colorbar": {
              "outlinewidth": 0,
              "ticks": ""
             }
            },
            "type": "scattercarpet"
           }
          ],
          "scattergeo": [
           {
            "marker": {
             "colorbar": {
              "outlinewidth": 0,
              "ticks": ""
             }
            },
            "type": "scattergeo"
           }
          ],
          "scattergl": [
           {
            "marker": {
             "colorbar": {
              "outlinewidth": 0,
              "ticks": ""
             }
            },
            "type": "scattergl"
           }
          ],
          "scattermapbox": [
           {
            "marker": {
             "colorbar": {
              "outlinewidth": 0,
              "ticks": ""
             }
            },
            "type": "scattermapbox"
           }
          ],
          "scatterpolar": [
           {
            "marker": {
             "colorbar": {
              "outlinewidth": 0,
              "ticks": ""
             }
            },
            "type": "scatterpolar"
           }
          ],
          "scatterpolargl": [
           {
            "marker": {
             "colorbar": {
              "outlinewidth": 0,
              "ticks": ""
             }
            },
            "type": "scatterpolargl"
           }
          ],
          "scatterternary": [
           {
            "marker": {
             "colorbar": {
              "outlinewidth": 0,
              "ticks": ""
             }
            },
            "type": "scatterternary"
           }
          ],
          "surface": [
           {
            "colorbar": {
             "outlinewidth": 0,
             "ticks": ""
            },
            "colorscale": [
             [
              0,
              "#0d0887"
             ],
             [
              0.1111111111111111,
              "#46039f"
             ],
             [
              0.2222222222222222,
              "#7201a8"
             ],
             [
              0.3333333333333333,
              "#9c179e"
             ],
             [
              0.4444444444444444,
              "#bd3786"
             ],
             [
              0.5555555555555556,
              "#d8576b"
             ],
             [
              0.6666666666666666,
              "#ed7953"
             ],
             [
              0.7777777777777778,
              "#fb9f3a"
             ],
             [
              0.8888888888888888,
              "#fdca26"
             ],
             [
              1,
              "#f0f921"
             ]
            ],
            "type": "surface"
           }
          ],
          "table": [
           {
            "cells": {
             "fill": {
              "color": "#EBF0F8"
             },
             "line": {
              "color": "white"
             }
            },
            "header": {
             "fill": {
              "color": "#C8D4E3"
             },
             "line": {
              "color": "white"
             }
            },
            "type": "table"
           }
          ]
         },
         "layout": {
          "annotationdefaults": {
           "arrowcolor": "#2a3f5f",
           "arrowhead": 0,
           "arrowwidth": 1
          },
          "autotypenumbers": "strict",
          "coloraxis": {
           "colorbar": {
            "outlinewidth": 0,
            "ticks": ""
           }
          },
          "colorscale": {
           "diverging": [
            [
             0,
             "#8e0152"
            ],
            [
             0.1,
             "#c51b7d"
            ],
            [
             0.2,
             "#de77ae"
            ],
            [
             0.3,
             "#f1b6da"
            ],
            [
             0.4,
             "#fde0ef"
            ],
            [
             0.5,
             "#f7f7f7"
            ],
            [
             0.6,
             "#e6f5d0"
            ],
            [
             0.7,
             "#b8e186"
            ],
            [
             0.8,
             "#7fbc41"
            ],
            [
             0.9,
             "#4d9221"
            ],
            [
             1,
             "#276419"
            ]
           ],
           "sequential": [
            [
             0,
             "#0d0887"
            ],
            [
             0.1111111111111111,
             "#46039f"
            ],
            [
             0.2222222222222222,
             "#7201a8"
            ],
            [
             0.3333333333333333,
             "#9c179e"
            ],
            [
             0.4444444444444444,
             "#bd3786"
            ],
            [
             0.5555555555555556,
             "#d8576b"
            ],
            [
             0.6666666666666666,
             "#ed7953"
            ],
            [
             0.7777777777777778,
             "#fb9f3a"
            ],
            [
             0.8888888888888888,
             "#fdca26"
            ],
            [
             1,
             "#f0f921"
            ]
           ],
           "sequentialminus": [
            [
             0,
             "#0d0887"
            ],
            [
             0.1111111111111111,
             "#46039f"
            ],
            [
             0.2222222222222222,
             "#7201a8"
            ],
            [
             0.3333333333333333,
             "#9c179e"
            ],
            [
             0.4444444444444444,
             "#bd3786"
            ],
            [
             0.5555555555555556,
             "#d8576b"
            ],
            [
             0.6666666666666666,
             "#ed7953"
            ],
            [
             0.7777777777777778,
             "#fb9f3a"
            ],
            [
             0.8888888888888888,
             "#fdca26"
            ],
            [
             1,
             "#f0f921"
            ]
           ]
          },
          "colorway": [
           "#636efa",
           "#EF553B",
           "#00cc96",
           "#ab63fa",
           "#FFA15A",
           "#19d3f3",
           "#FF6692",
           "#B6E880",
           "#FF97FF",
           "#FECB52"
          ],
          "font": {
           "color": "#2a3f5f"
          },
          "geo": {
           "bgcolor": "white",
           "lakecolor": "white",
           "landcolor": "#E5ECF6",
           "showlakes": true,
           "showland": true,
           "subunitcolor": "white"
          },
          "hoverlabel": {
           "align": "left"
          },
          "hovermode": "closest",
          "mapbox": {
           "style": "light"
          },
          "paper_bgcolor": "white",
          "plot_bgcolor": "#E5ECF6",
          "polar": {
           "angularaxis": {
            "gridcolor": "white",
            "linecolor": "white",
            "ticks": ""
           },
           "bgcolor": "#E5ECF6",
           "radialaxis": {
            "gridcolor": "white",
            "linecolor": "white",
            "ticks": ""
           }
          },
          "scene": {
           "xaxis": {
            "backgroundcolor": "#E5ECF6",
            "gridcolor": "white",
            "gridwidth": 2,
            "linecolor": "white",
            "showbackground": true,
            "ticks": "",
            "zerolinecolor": "white"
           },
           "yaxis": {
            "backgroundcolor": "#E5ECF6",
            "gridcolor": "white",
            "gridwidth": 2,
            "linecolor": "white",
            "showbackground": true,
            "ticks": "",
            "zerolinecolor": "white"
           },
           "zaxis": {
            "backgroundcolor": "#E5ECF6",
            "gridcolor": "white",
            "gridwidth": 2,
            "linecolor": "white",
            "showbackground": true,
            "ticks": "",
            "zerolinecolor": "white"
           }
          },
          "shapedefaults": {
           "line": {
            "color": "#2a3f5f"
           }
          },
          "ternary": {
           "aaxis": {
            "gridcolor": "white",
            "linecolor": "white",
            "ticks": ""
           },
           "baxis": {
            "gridcolor": "white",
            "linecolor": "white",
            "ticks": ""
           },
           "bgcolor": "#E5ECF6",
           "caxis": {
            "gridcolor": "white",
            "linecolor": "white",
            "ticks": ""
           }
          },
          "title": {
           "x": 0.05
          },
          "xaxis": {
           "automargin": true,
           "gridcolor": "white",
           "linecolor": "white",
           "ticks": "",
           "title": {
            "standoff": 15
           },
           "zerolinecolor": "white",
           "zerolinewidth": 2
          },
          "yaxis": {
           "automargin": true,
           "gridcolor": "white",
           "linecolor": "white",
           "ticks": "",
           "title": {
            "standoff": 15
           },
           "zerolinecolor": "white",
           "zerolinewidth": 2
          }
         }
        },
        "title": {
         "font": {
          "size": 16
         },
         "text": "Land Cover Change To Cropland (2003-2019)",
         "x": 0.5,
         "xanchor": "center",
         "y": 0.98,
         "yanchor": "top"
        },
        "width": 600
       }
      }
     },
     "metadata": {},
     "output_type": "display_data"
    },
    {
     "data": {
      "application/vnd.plotly.v1+json": {
       "config": {
        "plotlyServerURL": "https://plot.ly"
       },
       "data": [
        {
         "link": {
          "color": [
           "#FF6600",
           "#FF6600",
           "#FF6600"
          ],
          "source": [
           0,
           0,
           0
          ],
          "target": [
           1,
           2,
           3
          ],
          "value": [
           38100819.444256,
           27909.994599999998,
           104378045.004916
          ]
         },
         "node": {
          "color": [
           "#FF6600",
           "#347928",
           "#FCCD2A",
           "#B7E0FF"
          ],
          "label": [
           "agri1970",
           "forest2020",
           "grass2020",
           "nonforest2020"
          ],
          "line": {
           "color": "white",
           "width": 0.5
          },
          "pad": 20,
          "thickness": 20,
          "x": [
           0.01,
           0.99,
           0.99,
           0.99,
           0.99,
           0.99
          ],
          "y": [
           0.5,
           0.1,
           0.3,
           0.5,
           0.7,
           0.9
          ]
         },
         "type": "sankey"
        }
       ],
       "layout": {
        "annotations": [
         {
          "align": "left",
          "font": {
           "size": 10
          },
          "showarrow": false,
          "text": "Note: Numbers may not sum to 100% due to rounding<br>Source: Potapov et al. 2021",
          "x": 0,
          "xref": "paper",
          "y": -0.2,
          "yref": "paper"
         }
        ],
        "font": {
         "size": 12
        },
        "height": 400,
        "margin": {
         "b": 80,
         "l": 100,
         "r": 100,
         "t": 80
        },
        "paper_bgcolor": "white",
        "plot_bgcolor": "rgba(0,0,0,0)",
        "template": {
         "data": {
          "bar": [
           {
            "error_x": {
             "color": "#2a3f5f"
            },
            "error_y": {
             "color": "#2a3f5f"
            },
            "marker": {
             "line": {
              "color": "#E5ECF6",
              "width": 0.5
             },
             "pattern": {
              "fillmode": "overlay",
              "size": 10,
              "solidity": 0.2
             }
            },
            "type": "bar"
           }
          ],
          "barpolar": [
           {
            "marker": {
             "line": {
              "color": "#E5ECF6",
              "width": 0.5
             },
             "pattern": {
              "fillmode": "overlay",
              "size": 10,
              "solidity": 0.2
             }
            },
            "type": "barpolar"
           }
          ],
          "carpet": [
           {
            "aaxis": {
             "endlinecolor": "#2a3f5f",
             "gridcolor": "white",
             "linecolor": "white",
             "minorgridcolor": "white",
             "startlinecolor": "#2a3f5f"
            },
            "baxis": {
             "endlinecolor": "#2a3f5f",
             "gridcolor": "white",
             "linecolor": "white",
             "minorgridcolor": "white",
             "startlinecolor": "#2a3f5f"
            },
            "type": "carpet"
           }
          ],
          "choropleth": [
           {
            "colorbar": {
             "outlinewidth": 0,
             "ticks": ""
            },
            "type": "choropleth"
           }
          ],
          "contour": [
           {
            "colorbar": {
             "outlinewidth": 0,
             "ticks": ""
            },
            "colorscale": [
             [
              0,
              "#0d0887"
             ],
             [
              0.1111111111111111,
              "#46039f"
             ],
             [
              0.2222222222222222,
              "#7201a8"
             ],
             [
              0.3333333333333333,
              "#9c179e"
             ],
             [
              0.4444444444444444,
              "#bd3786"
             ],
             [
              0.5555555555555556,
              "#d8576b"
             ],
             [
              0.6666666666666666,
              "#ed7953"
             ],
             [
              0.7777777777777778,
              "#fb9f3a"
             ],
             [
              0.8888888888888888,
              "#fdca26"
             ],
             [
              1,
              "#f0f921"
             ]
            ],
            "type": "contour"
           }
          ],
          "contourcarpet": [
           {
            "colorbar": {
             "outlinewidth": 0,
             "ticks": ""
            },
            "type": "contourcarpet"
           }
          ],
          "heatmap": [
           {
            "colorbar": {
             "outlinewidth": 0,
             "ticks": ""
            },
            "colorscale": [
             [
              0,
              "#0d0887"
             ],
             [
              0.1111111111111111,
              "#46039f"
             ],
             [
              0.2222222222222222,
              "#7201a8"
             ],
             [
              0.3333333333333333,
              "#9c179e"
             ],
             [
              0.4444444444444444,
              "#bd3786"
             ],
             [
              0.5555555555555556,
              "#d8576b"
             ],
             [
              0.6666666666666666,
              "#ed7953"
             ],
             [
              0.7777777777777778,
              "#fb9f3a"
             ],
             [
              0.8888888888888888,
              "#fdca26"
             ],
             [
              1,
              "#f0f921"
             ]
            ],
            "type": "heatmap"
           }
          ],
          "heatmapgl": [
           {
            "colorbar": {
             "outlinewidth": 0,
             "ticks": ""
            },
            "colorscale": [
             [
              0,
              "#0d0887"
             ],
             [
              0.1111111111111111,
              "#46039f"
             ],
             [
              0.2222222222222222,
              "#7201a8"
             ],
             [
              0.3333333333333333,
              "#9c179e"
             ],
             [
              0.4444444444444444,
              "#bd3786"
             ],
             [
              0.5555555555555556,
              "#d8576b"
             ],
             [
              0.6666666666666666,
              "#ed7953"
             ],
             [
              0.7777777777777778,
              "#fb9f3a"
             ],
             [
              0.8888888888888888,
              "#fdca26"
             ],
             [
              1,
              "#f0f921"
             ]
            ],
            "type": "heatmapgl"
           }
          ],
          "histogram": [
           {
            "marker": {
             "pattern": {
              "fillmode": "overlay",
              "size": 10,
              "solidity": 0.2
             }
            },
            "type": "histogram"
           }
          ],
          "histogram2d": [
           {
            "colorbar": {
             "outlinewidth": 0,
             "ticks": ""
            },
            "colorscale": [
             [
              0,
              "#0d0887"
             ],
             [
              0.1111111111111111,
              "#46039f"
             ],
             [
              0.2222222222222222,
              "#7201a8"
             ],
             [
              0.3333333333333333,
              "#9c179e"
             ],
             [
              0.4444444444444444,
              "#bd3786"
             ],
             [
              0.5555555555555556,
              "#d8576b"
             ],
             [
              0.6666666666666666,
              "#ed7953"
             ],
             [
              0.7777777777777778,
              "#fb9f3a"
             ],
             [
              0.8888888888888888,
              "#fdca26"
             ],
             [
              1,
              "#f0f921"
             ]
            ],
            "type": "histogram2d"
           }
          ],
          "histogram2dcontour": [
           {
            "colorbar": {
             "outlinewidth": 0,
             "ticks": ""
            },
            "colorscale": [
             [
              0,
              "#0d0887"
             ],
             [
              0.1111111111111111,
              "#46039f"
             ],
             [
              0.2222222222222222,
              "#7201a8"
             ],
             [
              0.3333333333333333,
              "#9c179e"
             ],
             [
              0.4444444444444444,
              "#bd3786"
             ],
             [
              0.5555555555555556,
              "#d8576b"
             ],
             [
              0.6666666666666666,
              "#ed7953"
             ],
             [
              0.7777777777777778,
              "#fb9f3a"
             ],
             [
              0.8888888888888888,
              "#fdca26"
             ],
             [
              1,
              "#f0f921"
             ]
            ],
            "type": "histogram2dcontour"
           }
          ],
          "mesh3d": [
           {
            "colorbar": {
             "outlinewidth": 0,
             "ticks": ""
            },
            "type": "mesh3d"
           }
          ],
          "parcoords": [
           {
            "line": {
             "colorbar": {
              "outlinewidth": 0,
              "ticks": ""
             }
            },
            "type": "parcoords"
           }
          ],
          "pie": [
           {
            "automargin": true,
            "type": "pie"
           }
          ],
          "scatter": [
           {
            "fillpattern": {
             "fillmode": "overlay",
             "size": 10,
             "solidity": 0.2
            },
            "type": "scatter"
           }
          ],
          "scatter3d": [
           {
            "line": {
             "colorbar": {
              "outlinewidth": 0,
              "ticks": ""
             }
            },
            "marker": {
             "colorbar": {
              "outlinewidth": 0,
              "ticks": ""
             }
            },
            "type": "scatter3d"
           }
          ],
          "scattercarpet": [
           {
            "marker": {
             "colorbar": {
              "outlinewidth": 0,
              "ticks": ""
             }
            },
            "type": "scattercarpet"
           }
          ],
          "scattergeo": [
           {
            "marker": {
             "colorbar": {
              "outlinewidth": 0,
              "ticks": ""
             }
            },
            "type": "scattergeo"
           }
          ],
          "scattergl": [
           {
            "marker": {
             "colorbar": {
              "outlinewidth": 0,
              "ticks": ""
             }
            },
            "type": "scattergl"
           }
          ],
          "scattermapbox": [
           {
            "marker": {
             "colorbar": {
              "outlinewidth": 0,
              "ticks": ""
             }
            },
            "type": "scattermapbox"
           }
          ],
          "scatterpolar": [
           {
            "marker": {
             "colorbar": {
              "outlinewidth": 0,
              "ticks": ""
             }
            },
            "type": "scatterpolar"
           }
          ],
          "scatterpolargl": [
           {
            "marker": {
             "colorbar": {
              "outlinewidth": 0,
              "ticks": ""
             }
            },
            "type": "scatterpolargl"
           }
          ],
          "scatterternary": [
           {
            "marker": {
             "colorbar": {
              "outlinewidth": 0,
              "ticks": ""
             }
            },
            "type": "scatterternary"
           }
          ],
          "surface": [
           {
            "colorbar": {
             "outlinewidth": 0,
             "ticks": ""
            },
            "colorscale": [
             [
              0,
              "#0d0887"
             ],
             [
              0.1111111111111111,
              "#46039f"
             ],
             [
              0.2222222222222222,
              "#7201a8"
             ],
             [
              0.3333333333333333,
              "#9c179e"
             ],
             [
              0.4444444444444444,
              "#bd3786"
             ],
             [
              0.5555555555555556,
              "#d8576b"
             ],
             [
              0.6666666666666666,
              "#ed7953"
             ],
             [
              0.7777777777777778,
              "#fb9f3a"
             ],
             [
              0.8888888888888888,
              "#fdca26"
             ],
             [
              1,
              "#f0f921"
             ]
            ],
            "type": "surface"
           }
          ],
          "table": [
           {
            "cells": {
             "fill": {
              "color": "#EBF0F8"
             },
             "line": {
              "color": "white"
             }
            },
            "header": {
             "fill": {
              "color": "#C8D4E3"
             },
             "line": {
              "color": "white"
             }
            },
            "type": "table"
           }
          ]
         },
         "layout": {
          "annotationdefaults": {
           "arrowcolor": "#2a3f5f",
           "arrowhead": 0,
           "arrowwidth": 1
          },
          "autotypenumbers": "strict",
          "coloraxis": {
           "colorbar": {
            "outlinewidth": 0,
            "ticks": ""
           }
          },
          "colorscale": {
           "diverging": [
            [
             0,
             "#8e0152"
            ],
            [
             0.1,
             "#c51b7d"
            ],
            [
             0.2,
             "#de77ae"
            ],
            [
             0.3,
             "#f1b6da"
            ],
            [
             0.4,
             "#fde0ef"
            ],
            [
             0.5,
             "#f7f7f7"
            ],
            [
             0.6,
             "#e6f5d0"
            ],
            [
             0.7,
             "#b8e186"
            ],
            [
             0.8,
             "#7fbc41"
            ],
            [
             0.9,
             "#4d9221"
            ],
            [
             1,
             "#276419"
            ]
           ],
           "sequential": [
            [
             0,
             "#0d0887"
            ],
            [
             0.1111111111111111,
             "#46039f"
            ],
            [
             0.2222222222222222,
             "#7201a8"
            ],
            [
             0.3333333333333333,
             "#9c179e"
            ],
            [
             0.4444444444444444,
             "#bd3786"
            ],
            [
             0.5555555555555556,
             "#d8576b"
            ],
            [
             0.6666666666666666,
             "#ed7953"
            ],
            [
             0.7777777777777778,
             "#fb9f3a"
            ],
            [
             0.8888888888888888,
             "#fdca26"
            ],
            [
             1,
             "#f0f921"
            ]
           ],
           "sequentialminus": [
            [
             0,
             "#0d0887"
            ],
            [
             0.1111111111111111,
             "#46039f"
            ],
            [
             0.2222222222222222,
             "#7201a8"
            ],
            [
             0.3333333333333333,
             "#9c179e"
            ],
            [
             0.4444444444444444,
             "#bd3786"
            ],
            [
             0.5555555555555556,
             "#d8576b"
            ],
            [
             0.6666666666666666,
             "#ed7953"
            ],
            [
             0.7777777777777778,
             "#fb9f3a"
            ],
            [
             0.8888888888888888,
             "#fdca26"
            ],
            [
             1,
             "#f0f921"
            ]
           ]
          },
          "colorway": [
           "#636efa",
           "#EF553B",
           "#00cc96",
           "#ab63fa",
           "#FFA15A",
           "#19d3f3",
           "#FF6692",
           "#B6E880",
           "#FF97FF",
           "#FECB52"
          ],
          "font": {
           "color": "#2a3f5f"
          },
          "geo": {
           "bgcolor": "white",
           "lakecolor": "white",
           "landcolor": "#E5ECF6",
           "showlakes": true,
           "showland": true,
           "subunitcolor": "white"
          },
          "hoverlabel": {
           "align": "left"
          },
          "hovermode": "closest",
          "mapbox": {
           "style": "light"
          },
          "paper_bgcolor": "white",
          "plot_bgcolor": "#E5ECF6",
          "polar": {
           "angularaxis": {
            "gridcolor": "white",
            "linecolor": "white",
            "ticks": ""
           },
           "bgcolor": "#E5ECF6",
           "radialaxis": {
            "gridcolor": "white",
            "linecolor": "white",
            "ticks": ""
           }
          },
          "scene": {
           "xaxis": {
            "backgroundcolor": "#E5ECF6",
            "gridcolor": "white",
            "gridwidth": 2,
            "linecolor": "white",
            "showbackground": true,
            "ticks": "",
            "zerolinecolor": "white"
           },
           "yaxis": {
            "backgroundcolor": "#E5ECF6",
            "gridcolor": "white",
            "gridwidth": 2,
            "linecolor": "white",
            "showbackground": true,
            "ticks": "",
            "zerolinecolor": "white"
           },
           "zaxis": {
            "backgroundcolor": "#E5ECF6",
            "gridcolor": "white",
            "gridwidth": 2,
            "linecolor": "white",
            "showbackground": true,
            "ticks": "",
            "zerolinecolor": "white"
           }
          },
          "shapedefaults": {
           "line": {
            "color": "#2a3f5f"
           }
          },
          "ternary": {
           "aaxis": {
            "gridcolor": "white",
            "linecolor": "white",
            "ticks": ""
           },
           "baxis": {
            "gridcolor": "white",
            "linecolor": "white",
            "ticks": ""
           },
           "bgcolor": "#E5ECF6",
           "caxis": {
            "gridcolor": "white",
            "linecolor": "white",
            "ticks": ""
           }
          },
          "title": {
           "x": 0.05
          },
          "xaxis": {
           "automargin": true,
           "gridcolor": "white",
           "linecolor": "white",
           "ticks": "",
           "title": {
            "standoff": 15
           },
           "zerolinecolor": "white",
           "zerolinewidth": 2
          },
          "yaxis": {
           "automargin": true,
           "gridcolor": "white",
           "linecolor": "white",
           "ticks": "",
           "title": {
            "standoff": 15
           },
           "zerolinecolor": "white",
           "zerolinewidth": 2
          }
         }
        },
        "title": {
         "font": {
          "size": 16
         },
         "text": "Land Cover Change From Cropland (2003-2019)",
         "x": 0.5,
         "xanchor": "center",
         "y": 0.98,
         "yanchor": "top"
        },
        "width": 600
       }
      }
     },
     "metadata": {},
     "output_type": "display_data"
    }
   ],
   "source": [
    "import plotly.graph_objects as go\n",
    "from plotly.subplots import make_subplots\n",
    "\n",
    "def create_sankey_data(panel, tahun, period_start, period_end):\n",
    "    nodes = {}\n",
    "    links = []\n",
    "    node_colors = []\n",
    "    link_colors = []\n",
    "\n",
    "    for i in range(len(tahun) - 1):\n",
    "        current_year = tahun[i]\n",
    "        next_year = tahun[i + 1]\n",
    "\n",
    "        if not (current_year == period_start and next_year == period_end):\n",
    "            continue\n",
    "\n",
    "        gltct_current = f'GLCT{current_year}'\n",
    "        color_current = f'color{current_year}'\n",
    "        value_current = f'GAREA{current_year}'\n",
    "\n",
    "        gltct_next = f'GLCT{next_year}'\n",
    "        color_next = f'color{next_year}'\n",
    "        value_next = f'GAREA{next_year}'\n",
    "\n",
    "        for index, row in panel.iterrows():\n",
    "            source_node = row[gltct_current]\n",
    "            target_node = row[gltct_next]\n",
    "            color_source = row[color_current]\n",
    "\n",
    "            if source_node not in nodes:\n",
    "                nodes[source_node] = len(nodes)\n",
    "                node_colors.append(color_source)\n",
    "            if target_node not in nodes:\n",
    "                nodes[target_node] = len(nodes)\n",
    "                node_colors.append(row[color_next])\n",
    "\n",
    "            link = {\n",
    "                'source': nodes[source_node],\n",
    "                'target': nodes[target_node],\n",
    "                'value': row[value_next]\n",
    "            }\n",
    "            \n",
    "            links.append(link)\n",
    "            link_colors.append(color_source)\n",
    "    \n",
    "    return nodes, links, node_colors, link_colors\n",
    "\n",
    "# Membuat dua figure terpisah\n",
    "# Figure 1: 1970-1990\n",
    "fig1 = go.Figure()\n",
    "\n",
    "nodes1, links1, node_colors1, link_colors1 = create_sankey_data(panelA, tahun, 1970, 2020)\n",
    "\n",
    "sankey1 = go.Sankey(\n",
    "    node=dict(\n",
    "        pad=20,        # Increased padding\n",
    "        thickness=20,  # Adjusted thickness\n",
    "        line=dict(color='white', width=0.5),\n",
    "        label=list(nodes1.keys()),\n",
    "        color=node_colors1,\n",
    "        x=[0.01, 0.01, 0.01, 0.99],  # Positioned nodes more explicitly\n",
    "        y=[0.2, 0.5, 0.8, 0.5]       # Distributed vertically\n",
    "    ),\n",
    "    link=dict(\n",
    "        source=[link['source'] for link in links1],\n",
    "        target=[link['target'] for link in links1],\n",
    "        value=[link['value'] for link in links1],\n",
    "        color=link_colors1\n",
    "    )\n",
    ")\n",
    "\n",
    "fig1.add_trace(sankey1)\n",
    "\n",
    "# Figure 2: 2000-2020\n",
    "fig2 = go.Figure()\n",
    "\n",
    "nodes2, links2, node_colors2, link_colors2 = create_sankey_data(panelB, tahun, 1970, 2020)\n",
    "\n",
    "sankey2 = go.Sankey(\n",
    "    node=dict(\n",
    "        pad=20,        # Increased padding\n",
    "        thickness=20,  # Adjusted thickness\n",
    "        line=dict(color='white', width=0.5),\n",
    "        label=list(nodes2.keys()),\n",
    "        color=node_colors2,\n",
    "        x=[0.01, 0.99, 0.99, 0.99, 0.99, 0.99],  # Positioned nodes more explicitly\n",
    "        y=[0.5, 0.1, 0.3, 0.5, 0.7, 0.9]         # Distributed vertically\n",
    "    ),\n",
    "    link=dict(\n",
    "        source=[link['source'] for link in links2],\n",
    "        target=[link['target'] for link in links2],\n",
    "        value=[link['value'] for link in links2],\n",
    "        color=link_colors2\n",
    "    )\n",
    ")\n",
    "\n",
    "fig2.add_trace(sankey2)\n",
    "\n",
    "# Membuat legend items\n",
    "label = ['Agriculture', 'Forested Natural Vegetation', \"Grassland\", 'Non-Forested Natural Vegetation']\n",
    "warna = ['#FF6600','#347928','#FCCD2A','#B7E0FF']\n",
    "\n",
    "# Update layout untuk fig1\n",
    "fig1.update_layout(\n",
    "    title=dict(\n",
    "        text=\"Land Cover Change To Cropland (2003-2019)\",\n",
    "        x=0.5,\n",
    "        y=0.98,\n",
    "        xanchor='center',\n",
    "        yanchor='top',\n",
    "        font=dict(size=16)\n",
    "    ),\n",
    "    font_size=12,\n",
    "    plot_bgcolor=\"rgba(0,0,0,0)\",\n",
    "    width=600,     # Adjusted width\n",
    "    height=400,    # Adjusted height\n",
    "    margin=dict(\n",
    "        t=80,      # Top margin\n",
    "        l=100,     # Left margin\n",
    "        r=100,     # Right margin\n",
    "        b=80       # Bottom margin\n",
    "    ),\n",
    "    paper_bgcolor='white'\n",
    ")\n",
    "\n",
    "# Update layout untuk fig2\n",
    "fig2.update_layout(\n",
    "    title=dict(\n",
    "        text=\"Land Cover Change From Cropland (2003-2019)\",\n",
    "        x=0.5,\n",
    "        y=0.98,\n",
    "        xanchor='center',\n",
    "        yanchor='top',\n",
    "        font=dict(size=16)\n",
    "    ),\n",
    "    font_size=12,\n",
    "    plot_bgcolor=\"rgba(0,0,0,0)\",\n",
    "    width=600,     # Adjusted width\n",
    "    height=400,    # Adjusted height\n",
    "    margin=dict(\n",
    "        t=80,      # Top margin\n",
    "        l=100,     # Left margin\n",
    "        r=100,     # Right margin\n",
    "        b=80       # Bottom margin\n",
    "    ),\n",
    "    paper_bgcolor='white'\n",
    ")\n",
    "\n",
    "note_text = \"Note: Numbers may not sum to 100% due to rounding<br>Source: Potapov et al. 2021\"\n",
    "fig1.add_annotation(\n",
    "    text=note_text,\n",
    "    xref=\"paper\", yref=\"paper\",\n",
    "    x=0,\n",
    "    y=-0.2,\n",
    "    showarrow=False,\n",
    "    font=dict(size=10),\n",
    "    align=\"left\"\n",
    ")\n",
    "\n",
    "fig2.add_annotation(\n",
    "    text=note_text,\n",
    "    xref=\"paper\", yref=\"paper\",\n",
    "    x=0,\n",
    "    y=-0.2,\n",
    "    showarrow=False,\n",
    "    font=dict(size=10),\n",
    "    align=\"left\"\n",
    ")\n",
    "\n",
    "# Menampilkan kedua figure\n",
    "fig1.show()\n",
    "fig2.show()"
   ]
  },
  {
   "cell_type": "code",
   "execution_count": 15,
   "metadata": {},
   "outputs": [
    {
     "data": {
      "application/vnd.plotly.v1+json": {
       "config": {
        "plotlyServerURL": "https://plot.ly"
       },
       "data": [
        {
         "link": {
          "color": [
           "#FF6600",
           "#FF6600",
           "#FF6600",
           "#FF6600",
           "#347928",
           "#347928",
           "#FCCD2A",
           "#FCCD2A",
           "#FCCD2A",
           "#B7E0FF",
           "#B7E0FF",
           "#B7E0FF",
           "#B7E0FF"
          ],
          "source": [
           0,
           0,
           0,
           0,
           5,
           5,
           6,
           6,
           6,
           7,
           7,
           7,
           7
          ],
          "target": [
           1,
           2,
           3,
           4,
           1,
           2,
           2,
           3,
           4,
           1,
           2,
           3,
           4
          ],
          "value": [
           3138412504.820082,
           38100819.444256,
           27909.994599999998,
           104378045.004916,
           267795226.1462145,
           3911643208.2334113,
           1055102.71839,
           1135680937.295332,
           6951456.73503,
           323971355.663311,
           11386346.253385,
           488330.751,
           3873355821.5085
          ]
         },
         "node": {
          "color": [
           "#FF6600",
           "#FF6600",
           "#347928",
           "#FCCD2A",
           "#B7E0FF",
           "#347928",
           "#FCCD2A",
           "#B7E0FF"
          ],
          "line": {
           "color": "white"
          },
          "pad": 10,
          "thickness": 30
         },
         "type": "sankey"
        },
        {
         "marker": {
          "color": "#FF6600",
          "size": 10,
          "symbol": "square"
         },
         "mode": "markers",
         "name": "Agriculture",
         "showlegend": true,
         "type": "scatter",
         "x": [
          null
         ],
         "y": [
          null
         ]
        },
        {
         "marker": {
          "color": "#347928",
          "size": 10,
          "symbol": "square"
         },
         "mode": "markers",
         "name": "Forested Natural Vegetation",
         "showlegend": true,
         "type": "scatter",
         "x": [
          null
         ],
         "y": [
          null
         ]
        },
        {
         "marker": {
          "color": "#FCCD2A",
          "size": 10,
          "symbol": "square"
         },
         "mode": "markers",
         "name": "Grassland",
         "showlegend": true,
         "type": "scatter",
         "x": [
          null
         ],
         "y": [
          null
         ]
        },
        {
         "marker": {
          "color": "#B7E0FF",
          "size": 10,
          "symbol": "square"
         },
         "mode": "markers",
         "name": "Non-Forested Natural Vegetation",
         "showlegend": true,
         "type": "scatter",
         "x": [
          null
         ],
         "y": [
          null
         ]
        }
       ],
       "layout": {
        "annotations": [
         {
          "arrowhead": 2,
          "ax": 0,
          "ay": -40,
          "font": {
           "color": "black",
           "family": "Arial Black",
           "size": 16
          },
          "showarrow": false,
          "text": "1970",
          "x": 0,
          "xref": "paper",
          "y": 1.1,
          "yref": "paper"
         },
         {
          "arrowhead": 2,
          "ax": 0,
          "ay": -40,
          "font": {
           "color": "black",
           "family": "Arial Black",
           "size": 16
          },
          "showarrow": false,
          "text": "2020",
          "x": 1,
          "xref": "paper",
          "y": 1.1,
          "yref": "paper"
         }
        ],
        "height": 600,
        "legend": {
         "orientation": "h",
         "x": 0.5,
         "xanchor": "center",
         "y": -0.1,
         "yanchor": "bottom"
        },
        "plot_bgcolor": "rgba(0,0,0,0)",
        "showlegend": true,
        "template": {
         "data": {
          "bar": [
           {
            "error_x": {
             "color": "#2a3f5f"
            },
            "error_y": {
             "color": "#2a3f5f"
            },
            "marker": {
             "line": {
              "color": "#E5ECF6",
              "width": 0.5
             },
             "pattern": {
              "fillmode": "overlay",
              "size": 10,
              "solidity": 0.2
             }
            },
            "type": "bar"
           }
          ],
          "barpolar": [
           {
            "marker": {
             "line": {
              "color": "#E5ECF6",
              "width": 0.5
             },
             "pattern": {
              "fillmode": "overlay",
              "size": 10,
              "solidity": 0.2
             }
            },
            "type": "barpolar"
           }
          ],
          "carpet": [
           {
            "aaxis": {
             "endlinecolor": "#2a3f5f",
             "gridcolor": "white",
             "linecolor": "white",
             "minorgridcolor": "white",
             "startlinecolor": "#2a3f5f"
            },
            "baxis": {
             "endlinecolor": "#2a3f5f",
             "gridcolor": "white",
             "linecolor": "white",
             "minorgridcolor": "white",
             "startlinecolor": "#2a3f5f"
            },
            "type": "carpet"
           }
          ],
          "choropleth": [
           {
            "colorbar": {
             "outlinewidth": 0,
             "ticks": ""
            },
            "type": "choropleth"
           }
          ],
          "contour": [
           {
            "colorbar": {
             "outlinewidth": 0,
             "ticks": ""
            },
            "colorscale": [
             [
              0,
              "#0d0887"
             ],
             [
              0.1111111111111111,
              "#46039f"
             ],
             [
              0.2222222222222222,
              "#7201a8"
             ],
             [
              0.3333333333333333,
              "#9c179e"
             ],
             [
              0.4444444444444444,
              "#bd3786"
             ],
             [
              0.5555555555555556,
              "#d8576b"
             ],
             [
              0.6666666666666666,
              "#ed7953"
             ],
             [
              0.7777777777777778,
              "#fb9f3a"
             ],
             [
              0.8888888888888888,
              "#fdca26"
             ],
             [
              1,
              "#f0f921"
             ]
            ],
            "type": "contour"
           }
          ],
          "contourcarpet": [
           {
            "colorbar": {
             "outlinewidth": 0,
             "ticks": ""
            },
            "type": "contourcarpet"
           }
          ],
          "heatmap": [
           {
            "colorbar": {
             "outlinewidth": 0,
             "ticks": ""
            },
            "colorscale": [
             [
              0,
              "#0d0887"
             ],
             [
              0.1111111111111111,
              "#46039f"
             ],
             [
              0.2222222222222222,
              "#7201a8"
             ],
             [
              0.3333333333333333,
              "#9c179e"
             ],
             [
              0.4444444444444444,
              "#bd3786"
             ],
             [
              0.5555555555555556,
              "#d8576b"
             ],
             [
              0.6666666666666666,
              "#ed7953"
             ],
             [
              0.7777777777777778,
              "#fb9f3a"
             ],
             [
              0.8888888888888888,
              "#fdca26"
             ],
             [
              1,
              "#f0f921"
             ]
            ],
            "type": "heatmap"
           }
          ],
          "heatmapgl": [
           {
            "colorbar": {
             "outlinewidth": 0,
             "ticks": ""
            },
            "colorscale": [
             [
              0,
              "#0d0887"
             ],
             [
              0.1111111111111111,
              "#46039f"
             ],
             [
              0.2222222222222222,
              "#7201a8"
             ],
             [
              0.3333333333333333,
              "#9c179e"
             ],
             [
              0.4444444444444444,
              "#bd3786"
             ],
             [
              0.5555555555555556,
              "#d8576b"
             ],
             [
              0.6666666666666666,
              "#ed7953"
             ],
             [
              0.7777777777777778,
              "#fb9f3a"
             ],
             [
              0.8888888888888888,
              "#fdca26"
             ],
             [
              1,
              "#f0f921"
             ]
            ],
            "type": "heatmapgl"
           }
          ],
          "histogram": [
           {
            "marker": {
             "pattern": {
              "fillmode": "overlay",
              "size": 10,
              "solidity": 0.2
             }
            },
            "type": "histogram"
           }
          ],
          "histogram2d": [
           {
            "colorbar": {
             "outlinewidth": 0,
             "ticks": ""
            },
            "colorscale": [
             [
              0,
              "#0d0887"
             ],
             [
              0.1111111111111111,
              "#46039f"
             ],
             [
              0.2222222222222222,
              "#7201a8"
             ],
             [
              0.3333333333333333,
              "#9c179e"
             ],
             [
              0.4444444444444444,
              "#bd3786"
             ],
             [
              0.5555555555555556,
              "#d8576b"
             ],
             [
              0.6666666666666666,
              "#ed7953"
             ],
             [
              0.7777777777777778,
              "#fb9f3a"
             ],
             [
              0.8888888888888888,
              "#fdca26"
             ],
             [
              1,
              "#f0f921"
             ]
            ],
            "type": "histogram2d"
           }
          ],
          "histogram2dcontour": [
           {
            "colorbar": {
             "outlinewidth": 0,
             "ticks": ""
            },
            "colorscale": [
             [
              0,
              "#0d0887"
             ],
             [
              0.1111111111111111,
              "#46039f"
             ],
             [
              0.2222222222222222,
              "#7201a8"
             ],
             [
              0.3333333333333333,
              "#9c179e"
             ],
             [
              0.4444444444444444,
              "#bd3786"
             ],
             [
              0.5555555555555556,
              "#d8576b"
             ],
             [
              0.6666666666666666,
              "#ed7953"
             ],
             [
              0.7777777777777778,
              "#fb9f3a"
             ],
             [
              0.8888888888888888,
              "#fdca26"
             ],
             [
              1,
              "#f0f921"
             ]
            ],
            "type": "histogram2dcontour"
           }
          ],
          "mesh3d": [
           {
            "colorbar": {
             "outlinewidth": 0,
             "ticks": ""
            },
            "type": "mesh3d"
           }
          ],
          "parcoords": [
           {
            "line": {
             "colorbar": {
              "outlinewidth": 0,
              "ticks": ""
             }
            },
            "type": "parcoords"
           }
          ],
          "pie": [
           {
            "automargin": true,
            "type": "pie"
           }
          ],
          "scatter": [
           {
            "fillpattern": {
             "fillmode": "overlay",
             "size": 10,
             "solidity": 0.2
            },
            "type": "scatter"
           }
          ],
          "scatter3d": [
           {
            "line": {
             "colorbar": {
              "outlinewidth": 0,
              "ticks": ""
             }
            },
            "marker": {
             "colorbar": {
              "outlinewidth": 0,
              "ticks": ""
             }
            },
            "type": "scatter3d"
           }
          ],
          "scattercarpet": [
           {
            "marker": {
             "colorbar": {
              "outlinewidth": 0,
              "ticks": ""
             }
            },
            "type": "scattercarpet"
           }
          ],
          "scattergeo": [
           {
            "marker": {
             "colorbar": {
              "outlinewidth": 0,
              "ticks": ""
             }
            },
            "type": "scattergeo"
           }
          ],
          "scattergl": [
           {
            "marker": {
             "colorbar": {
              "outlinewidth": 0,
              "ticks": ""
             }
            },
            "type": "scattergl"
           }
          ],
          "scattermapbox": [
           {
            "marker": {
             "colorbar": {
              "outlinewidth": 0,
              "ticks": ""
             }
            },
            "type": "scattermapbox"
           }
          ],
          "scatterpolar": [
           {
            "marker": {
             "colorbar": {
              "outlinewidth": 0,
              "ticks": ""
             }
            },
            "type": "scatterpolar"
           }
          ],
          "scatterpolargl": [
           {
            "marker": {
             "colorbar": {
              "outlinewidth": 0,
              "ticks": ""
             }
            },
            "type": "scatterpolargl"
           }
          ],
          "scatterternary": [
           {
            "marker": {
             "colorbar": {
              "outlinewidth": 0,
              "ticks": ""
             }
            },
            "type": "scatterternary"
           }
          ],
          "surface": [
           {
            "colorbar": {
             "outlinewidth": 0,
             "ticks": ""
            },
            "colorscale": [
             [
              0,
              "#0d0887"
             ],
             [
              0.1111111111111111,
              "#46039f"
             ],
             [
              0.2222222222222222,
              "#7201a8"
             ],
             [
              0.3333333333333333,
              "#9c179e"
             ],
             [
              0.4444444444444444,
              "#bd3786"
             ],
             [
              0.5555555555555556,
              "#d8576b"
             ],
             [
              0.6666666666666666,
              "#ed7953"
             ],
             [
              0.7777777777777778,
              "#fb9f3a"
             ],
             [
              0.8888888888888888,
              "#fdca26"
             ],
             [
              1,
              "#f0f921"
             ]
            ],
            "type": "surface"
           }
          ],
          "table": [
           {
            "cells": {
             "fill": {
              "color": "#EBF0F8"
             },
             "line": {
              "color": "white"
             }
            },
            "header": {
             "fill": {
              "color": "#C8D4E3"
             },
             "line": {
              "color": "white"
             }
            },
            "type": "table"
           }
          ]
         },
         "layout": {
          "annotationdefaults": {
           "arrowcolor": "#2a3f5f",
           "arrowhead": 0,
           "arrowwidth": 1
          },
          "autotypenumbers": "strict",
          "coloraxis": {
           "colorbar": {
            "outlinewidth": 0,
            "ticks": ""
           }
          },
          "colorscale": {
           "diverging": [
            [
             0,
             "#8e0152"
            ],
            [
             0.1,
             "#c51b7d"
            ],
            [
             0.2,
             "#de77ae"
            ],
            [
             0.3,
             "#f1b6da"
            ],
            [
             0.4,
             "#fde0ef"
            ],
            [
             0.5,
             "#f7f7f7"
            ],
            [
             0.6,
             "#e6f5d0"
            ],
            [
             0.7,
             "#b8e186"
            ],
            [
             0.8,
             "#7fbc41"
            ],
            [
             0.9,
             "#4d9221"
            ],
            [
             1,
             "#276419"
            ]
           ],
           "sequential": [
            [
             0,
             "#0d0887"
            ],
            [
             0.1111111111111111,
             "#46039f"
            ],
            [
             0.2222222222222222,
             "#7201a8"
            ],
            [
             0.3333333333333333,
             "#9c179e"
            ],
            [
             0.4444444444444444,
             "#bd3786"
            ],
            [
             0.5555555555555556,
             "#d8576b"
            ],
            [
             0.6666666666666666,
             "#ed7953"
            ],
            [
             0.7777777777777778,
             "#fb9f3a"
            ],
            [
             0.8888888888888888,
             "#fdca26"
            ],
            [
             1,
             "#f0f921"
            ]
           ],
           "sequentialminus": [
            [
             0,
             "#0d0887"
            ],
            [
             0.1111111111111111,
             "#46039f"
            ],
            [
             0.2222222222222222,
             "#7201a8"
            ],
            [
             0.3333333333333333,
             "#9c179e"
            ],
            [
             0.4444444444444444,
             "#bd3786"
            ],
            [
             0.5555555555555556,
             "#d8576b"
            ],
            [
             0.6666666666666666,
             "#ed7953"
            ],
            [
             0.7777777777777778,
             "#fb9f3a"
            ],
            [
             0.8888888888888888,
             "#fdca26"
            ],
            [
             1,
             "#f0f921"
            ]
           ]
          },
          "colorway": [
           "#636efa",
           "#EF553B",
           "#00cc96",
           "#ab63fa",
           "#FFA15A",
           "#19d3f3",
           "#FF6692",
           "#B6E880",
           "#FF97FF",
           "#FECB52"
          ],
          "font": {
           "color": "#2a3f5f"
          },
          "geo": {
           "bgcolor": "white",
           "lakecolor": "white",
           "landcolor": "#E5ECF6",
           "showlakes": true,
           "showland": true,
           "subunitcolor": "white"
          },
          "hoverlabel": {
           "align": "left"
          },
          "hovermode": "closest",
          "mapbox": {
           "style": "light"
          },
          "paper_bgcolor": "white",
          "plot_bgcolor": "#E5ECF6",
          "polar": {
           "angularaxis": {
            "gridcolor": "white",
            "linecolor": "white",
            "ticks": ""
           },
           "bgcolor": "#E5ECF6",
           "radialaxis": {
            "gridcolor": "white",
            "linecolor": "white",
            "ticks": ""
           }
          },
          "scene": {
           "xaxis": {
            "backgroundcolor": "#E5ECF6",
            "gridcolor": "white",
            "gridwidth": 2,
            "linecolor": "white",
            "showbackground": true,
            "ticks": "",
            "zerolinecolor": "white"
           },
           "yaxis": {
            "backgroundcolor": "#E5ECF6",
            "gridcolor": "white",
            "gridwidth": 2,
            "linecolor": "white",
            "showbackground": true,
            "ticks": "",
            "zerolinecolor": "white"
           },
           "zaxis": {
            "backgroundcolor": "#E5ECF6",
            "gridcolor": "white",
            "gridwidth": 2,
            "linecolor": "white",
            "showbackground": true,
            "ticks": "",
            "zerolinecolor": "white"
           }
          },
          "shapedefaults": {
           "line": {
            "color": "#2a3f5f"
           }
          },
          "ternary": {
           "aaxis": {
            "gridcolor": "white",
            "linecolor": "white",
            "ticks": ""
           },
           "baxis": {
            "gridcolor": "white",
            "linecolor": "white",
            "ticks": ""
           },
           "bgcolor": "#E5ECF6",
           "caxis": {
            "gridcolor": "white",
            "linecolor": "white",
            "ticks": ""
           }
          },
          "title": {
           "x": 0.05
          },
          "xaxis": {
           "automargin": true,
           "gridcolor": "white",
           "linecolor": "white",
           "ticks": "",
           "title": {
            "standoff": 15
           },
           "zerolinecolor": "white",
           "zerolinewidth": 2
          },
          "yaxis": {
           "automargin": true,
           "gridcolor": "white",
           "linecolor": "white",
           "ticks": "",
           "title": {
            "standoff": 15
           },
           "zerolinecolor": "white",
           "zerolinewidth": 2
          }
         }
        },
        "width": 1000,
        "xaxis": {
         "visible": false
        },
        "yaxis": {
         "visible": false
        }
       }
      }
     },
     "metadata": {},
     "output_type": "display_data"
    }
   ],
   "source": [
    "nodes = {}\n",
    "links = []\n",
    "node_colors = []\n",
    "link_colors = []\n",
    "\n",
    "for i in range(len(tahun) - 1):\n",
    "    current_year = tahun[i]\n",
    "    next_year = tahun[i + 1]\n",
    "\n",
    "    gltct_current = f'GLCT{current_year}'\n",
    "    color_current = f'color{current_year}'\n",
    "    value_current = f'GAREA{current_year}'\n",
    "\n",
    "    gltct_next = f'GLCT{next_year}'\n",
    "    color_next = f'color{next_year}'\n",
    "    value_next = f'GAREA{next_year}'\n",
    "\n",
    "    for index, row in df_filtered1.iterrows():\n",
    "        source_node = row[gltct_current]\n",
    "        target_node = row[gltct_next]\n",
    "        color_source = row[color_current]\n",
    "\n",
    "        if source_node not in nodes:\n",
    "            nodes[source_node] = len(nodes)\n",
    "            node_colors.append(color_source)\n",
    "        if target_node not in nodes:\n",
    "            nodes[target_node] = len(nodes)\n",
    "            node_colors.append(row[color_next])\n",
    "\n",
    "        link = {\n",
    "            'source': nodes[source_node],\n",
    "            'target': nodes[target_node],\n",
    "            'value': row[value_next]\n",
    "        }\n",
    "        \n",
    "        links.append(link)\n",
    "        link_colors.append(color_source)\n",
    "\n",
    "fig = go.Figure(data=[go.Sankey(\n",
    "    node=dict(\n",
    "        pad=10,\n",
    "        thickness=30,\n",
    "        line=dict(color='white'),\n",
    "        #label=list(nodes.keys()),\n",
    "        color=node_colors\n",
    "    ),\n",
    "    link=dict(\n",
    "        source=[link['source'] for link in links],\n",
    "        target=[link['target'] for link in links],\n",
    "        value=[link['value'] for link in links],\n",
    "        color=link_colors,\n",
    "    \n",
    "    )\n",
    ")])\n",
    "\n",
    "custom_labels = ['Agriculture', 'Forested Natural Vegetation', 'Non-Forested Natural Vegetation', \"Grassland\"]\n",
    "\n",
    "nodes_1970 = [key for key in nodes.keys() if \"1970\" in key]\n",
    "nodes_2020 = [key for key in nodes.keys() if \"2020\" in key]\n",
    "\n",
    "label = ['Agriculture', 'Forested Natural Vegetation', \"Grassland\", 'Non-Forested Natural Vegetation']\n",
    "warna = ['#FF6600','#347928','#FCCD2A','#B7E0FF']\n",
    "\n",
    "legend_entries = []\n",
    "for color, node in zip(warna, label):\n",
    "    legend_entries.append([color, node])\n",
    "\n",
    "legend = []\n",
    "for i, entry in enumerate(legend_entries):\n",
    "    legend.append(\n",
    "        go.Scatter(\n",
    "            mode=\"markers\",\n",
    "            x=[None],\n",
    "            y=[None],\n",
    "            marker=dict(size=10, color=entry[0], symbol=\"square\"),\n",
    "            name=entry[1],\n",
    "            showlegend=True\n",
    "        )\n",
    "    )\n",
    "\n",
    "# Create traces\n",
    "traces = [fig.data[0]] + legend\n",
    "\n",
    "# Define the layout with annotations included\n",
    "layout = go.Layout(\n",
    "    showlegend=True,\n",
    "    plot_bgcolor=\"rgba(0,0,0,0)\",\n",
    "    legend=dict(\n",
    "        orientation=\"h\",\n",
    "        yanchor=\"bottom\",\n",
    "        y=-0.1,\n",
    "        xanchor=\"center\",\n",
    "        x=0.5\n",
    "    ),\n",
    "    annotations=[\n",
    "        # Simplified custom text\n",
    "        dict(\n",
    "            text=\"1970\",\n",
    "            x=0,  # Centered for visibility\n",
    "            y=1.1,    # Adjust y to ensure it's within bounds\n",
    "            xref=\"paper\",\n",
    "            yref=\"paper\",\n",
    "            showarrow=False,\n",
    "            arrowhead=2,\n",
    "            ax=0,\n",
    "            ay=-40,\n",
    "            font=dict(size=16, color=\"black\",family=\"Arial Black\")\n",
    "        ),\n",
    "        dict(\n",
    "            text=\"2020\",\n",
    "            x=1,\n",
    "            y=1.1,  # Adjusted for clarity\n",
    "            xref=\"paper\",\n",
    "            yref=\"paper\",\n",
    "            showarrow=False,\n",
    "            arrowhead=2,\n",
    "            ax=0,\n",
    "            ay=-40,\n",
    "            font=dict(size=16, color=\"black\",family=\"Arial Black\")\n",
    "        )\n",
    "    ]\n",
    ")\n",
    "\n",
    "# Update the figure with traces and layout\n",
    "fig = go.Figure(data=traces, layout=layout)\n",
    "fig.update_xaxes(visible=False)\n",
    "fig.update_yaxes(visible=False)\n",
    "fig.update_layout(\n",
    "    width=1000,\n",
    "    height=600\n",
    ")\n",
    "\n",
    "# Finally show the figure\n",
    "fig.show()\n"
   ]
  }
 ],
 "metadata": {
  "kernelspec": {
   "display_name": "Python 3",
   "language": "python",
   "name": "python3"
  },
  "language_info": {
   "codemirror_mode": {
    "name": "ipython",
    "version": 3
   },
   "file_extension": ".py",
   "mimetype": "text/x-python",
   "name": "python",
   "nbconvert_exporter": "python",
   "pygments_lexer": "ipython3",
   "version": "3.9.7"
  }
 },
 "nbformat": 4,
 "nbformat_minor": 2
}
