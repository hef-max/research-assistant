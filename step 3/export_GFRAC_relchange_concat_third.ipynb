{
 "cells": [
  {
   "cell_type": "code",
   "execution_count": 1,
   "metadata": {},
   "outputs": [],
   "source": [
    "import pandas as pd\n",
    "import numpy as np\n",
    "from functools import reduce"
   ]
  },
  {
   "cell_type": "code",
   "execution_count": 26,
   "metadata": {},
   "outputs": [],
   "source": [
    "gfrac_sheet_names = [\"grass\", \"Wheat\",\"Rice\",\"Maize\",\"Tropical cereals\",\n",
    "               \"Other temperate cereals\",\"Pulses\",\"Soybeans\",\n",
    "               \"Temperate oil crops\",\"Tropical oil crops\",\n",
    "               \"Temperate roots & tubers\",\"Tropical roots & tubers\",\n",
    "               \"Sugar crops\",\"Oil & palm fruit\",\"Vegetables & fruits\",\n",
    "               \"Other nonfood & luxury spices\",\"Plant based fibres\"]\n",
    "\n",
    "tahun = list(range(1970, 2025, 5))\n",
    "\n",
    "INPUT_FILE_PATH = \"D:/kerja/asisten riset/vol/milkunC/achaidir/IMAGE PBL/SSP2/GFRAC_area_per5years_maize.xlsx\"\n",
    "OUTPUT_FILE_PATH = \"D:/kerja/asisten riset/vol/milkunC/achaidir/IMAGE PBL/SSP2/GFRAC_area_relativechange_per5years_maize.xlsx\"\n",
    "\n",
    "with pd.ExcelWriter(OUTPUT_FILE_PATH) as writer:\n",
    "    for ngfbfc in gfrac_sheet_names:\n",
    "        gfrac_are_df = pd.read_excel(INPUT_FILE_PATH, sheet_name=ngfbfc)\n",
    "        gfrac_realitve_change = gfrac_are_df.copy()\n",
    "        \n",
    "        for x in range(len(tahun)):\n",
    "            if x < 10:\n",
    "                gfrac_realitve_change[tahun[x+1]] = ((gfrac_are_df[tahun[x+1]] - gfrac_are_df[tahun[x]])/gfrac_are_df[tahun[x]]) * 100\n",
    "\n",
    "        gfrac_realitve_change = gfrac_realitve_change.drop(columns=[tahun[0]])\n",
    "        # gfrac_realitve_change = gfrac_realitve_change.drop(columns=[tahun[-1]]) \n",
    "        gfrac_realitve_change.to_excel(writer, sheet_name=ngfbfc, index=False)"
   ]
  },
  {
   "cell_type": "code",
   "execution_count": 15,
   "metadata": {},
   "outputs": [],
   "source": [
    "gfrac_sheet_names = [\" Wheat\",\" Rice\",\" Maize\",\" Tropical cereals\",\n",
    "                     \" Other temperate cereals\",\" Pulses\",\" Soybeans\",\n",
    "                     \" Temperate oil crops\",\" Tropical oil crops\",\n",
    "                     \" Temperate roots & tubers\",\" Tropical roots & tubers\",\n",
    "                     \" Sugar crops\",\" Oil & palm fruit\",\" Vegetables & fruits\",\n",
    "                     \" Othernon-food&luxury spices\",\" Plant based fibres\"]\n",
    "\n",
    "INPUT_FILE_PATH = \"D:/kerja/asisten riset/code rev/GRAPC_area_full.xlsx\"\n",
    "OUTPUT_FILE_PATH = \"D:/kerja/asisten riset/code rev/GRAPC_area_concat.xlsx\"\n",
    "\n",
    "dataframes = []\n",
    "for sheet_name in gfrac_sheet_names:\n",
    "    df = pd.read_excel(INPUT_FILE_PATH, sheet_name=sheet_name)\n",
    "    dataframes.append(df)\n",
    "\n",
    "# tahun = list(range(1975, 2021, 5))\n",
    "# tahun.append('origin')\n",
    "# tahun.append('country')\n",
    "\n",
    "merged_df = pd.concat(dataframes, axis=0, ignore_index=True).fillna(0)\n",
    "merged_df.to_excel(OUTPUT_FILE_PATH, index=False)"
   ]
  },
  {
   "cell_type": "code",
   "execution_count": null,
   "metadata": {},
   "outputs": [],
   "source": [
    "# jalankan yang ini\n",
    "gfrac_sheet_names = [\"Wheat\",\"Rice\",\"Maize\",\"Tropical cereals\",\n",
    "                     \"Other temperate cereals\",\"Pulses\",\"Soybeans\",\n",
    "                     \"Temperate oil crops\",\"Tropical oil crops\",\n",
    "                     \"Temperate roots & tubers\",\"Tropical roots & tubers\",\n",
    "                     \"Sugar crops\",\"Oil & palm fruit\",\"Vegetables & fruits\",\n",
    "                     \"Othernon-food&luxury spices\",\"Plant based fibres\"]\n",
    "\n",
    "INPUT_FILE_PATH = \"D:/kerja/asisten riset/vol/milkunC/achaidir/IMAGE PBL/SSP2/natveg2crops_11thn.xlsx\"\n",
    "OUTPUT_FILE_PATH = \"D:/kerja/asisten riset/vol/milkunC/achaidir/IMAGE PBL/SSP2/natveg2crops_full.xlsx\"\n",
    "\n",
    "dataframes = []\n",
    "for sheet_name in gfrac_sheet_names:\n",
    "    for n_first in list([\"IR\", \"RF\"]):\n",
    "        df = pd.read_excel(INPUT_FILE_PATH, sheet_name=f\"{n_first} {sheet_name}\")\n",
    "        dataframes.append(df)\n",
    "\n",
    "tahun = list(range(1975, 1990, 5))\n",
    "tahun.append('country')\n",
    "\n",
    "merged_df = pd.concat(dataframes, axis=0, ignore_index=True).fillna(0)\n",
    "merged_df.to_excel(OUTPUT_FILE_PATH, index=False)"
   ]
  }
 ],
 "metadata": {
  "kernelspec": {
   "display_name": "Python 3",
   "language": "python",
   "name": "python3"
  },
  "language_info": {
   "codemirror_mode": {
    "name": "ipython",
    "version": 3
   },
   "file_extension": ".py",
   "mimetype": "text/x-python",
   "name": "python",
   "nbconvert_exporter": "python",
   "pygments_lexer": "ipython3",
   "version": "3.9.7"
  }
 },
 "nbformat": 4,
 "nbformat_minor": 2
}
