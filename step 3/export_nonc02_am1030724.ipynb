{
 "cells": [
  {
   "cell_type": "code",
   "execution_count": 1,
   "metadata": {},
   "outputs": [],
   "source": [
    "import numpy as np\n",
    "import pandas as pd\n",
    "import xarray"
   ]
  },
  {
   "cell_type": "code",
   "execution_count": 2,
   "metadata": {},
   "outputs": [],
   "source": [
    "emission_CO2_netcdf_AM1 = xarray.open_dataset(\"D:/emission_CO2_AM1_3tahun_v2.nc\", engine=\"netcdf4\")\n",
    "gfrac = xarray.open_dataset(\"D:/kerja/asisten riset/vol/milkunC/achaidir/IMAGE PBL/SSP2/GFRAC_NEW.nc\", engine=\"netcdf4\")\n",
    "garea = xarray.open_dataset(\"D:/kerja/asisten riset/vol/milkunarc/cadlan/Analysis1_slidingwindows/GAREA.NC\", engine=\"netcdf4\")\n",
    "gfrac_ngfbfc = [element.strip() for element in gfrac.coords['NGFBFC'].data.astype('str').tolist()]"
   ]
  },
  {
   "cell_type": "code",
   "execution_count": 3,
   "metadata": {},
   "outputs": [],
   "source": [
    "garea_7020 = garea.isel(time=slice(0, 4))\n",
    "garea_ha = np.nan_to_num(np.multiply(garea_7020['GAREA'].to_numpy(), 100))"
   ]
  },
  {
   "cell_type": "code",
   "execution_count": 4,
   "metadata": {},
   "outputs": [],
   "source": [
    "gfrac_7020 = gfrac.isel(time=slice(0, 4)) \n",
    "gfrac_area = np.zeros((4, 17, 2160, 4320), dtype=\"float32\")\n",
    "for n in range (4):\n",
    "    for i in range(17):\n",
    "        gfrac_area[n][i] = np.nan_to_num(np.multiply(gfrac_7020['GFRAC_new'].isel(time=n, NGFBFC=i), garea_ha[n]))"
   ]
  },
  {
   "cell_type": "code",
   "execution_count": 5,
   "metadata": {},
   "outputs": [],
   "source": [
    "gfrac_area_netcdf = xarray.Dataset({\n",
    "    \"GFRAC_combined\":([\"time\",\"NGFBFC\",\"latitude\", \"longitude\"], gfrac_area)\n",
    "},coords={\n",
    "        \"time\": pd.date_range(start='1970-01-01', end='1985-01-01', freq='5YS'),\n",
    "        \"NGFBFC\" : gfrac_ngfbfc,\n",
    "        \"latitude\": gfrac.coords[\"latitude\"].to_numpy(),\n",
    "        \"longitude\": gfrac.coords[\"longitude\"].to_numpy()\n",
    "})"
   ]
  },
  {
   "cell_type": "code",
   "execution_count": 8,
   "metadata": {},
   "outputs": [],
   "source": [
    "#1975-2020\n",
    "gfrac_area_netcdf_atribusi = gfrac_area_netcdf.isel(time=slice(1, 5))"
   ]
  },
  {
   "cell_type": "code",
   "execution_count": 12,
   "metadata": {},
   "outputs": [],
   "source": [
    "#LUC Crops\n",
    "#proporsi crops (untuk keperluan atribusi)\n",
    "def divide(arr1, arr2):\n",
    "    return np.divide(arr1, arr2)\n",
    "\n",
    "def multiple(arr1, arr2):\n",
    "    return np.multiply(arr1, arr2)"
   ]
  },
  {
   "cell_type": "code",
   "execution_count": 14,
   "metadata": {},
   "outputs": [
    {
     "name": "stderr",
     "output_type": "stream",
     "text": [
      "C:\\Users\\HEFRYA~1\\AppData\\Local\\Temp/ipykernel_15988/3646404374.py:4: RuntimeWarning: invalid value encountered in divide\n",
      "  return np.divide(arr1, arr2)\n",
      "C:\\Users\\HEFRYA~1\\AppData\\Local\\Temp/ipykernel_15988/3646404374.py:4: RuntimeWarning: invalid value encountered in divide\n",
      "  return np.divide(arr1, arr2)\n",
      "C:\\Users\\HEFRYA~1\\AppData\\Local\\Temp/ipykernel_15988/3646404374.py:4: RuntimeWarning: invalid value encountered in divide\n",
      "  return np.divide(arr1, arr2)\n",
      "C:\\Users\\HEFRYA~1\\AppData\\Local\\Temp/ipykernel_15988/3646404374.py:4: RuntimeWarning: invalid value encountered in divide\n",
      "  return np.divide(arr1, arr2)\n",
      "C:\\Users\\HEFRYA~1\\AppData\\Local\\Temp/ipykernel_15988/3646404374.py:4: RuntimeWarning: invalid value encountered in divide\n",
      "  return np.divide(arr1, arr2)\n",
      "C:\\Users\\HEFRYA~1\\AppData\\Local\\Temp/ipykernel_15988/3646404374.py:4: RuntimeWarning: invalid value encountered in divide\n",
      "  return np.divide(arr1, arr2)\n",
      "C:\\Users\\HEFRYA~1\\AppData\\Local\\Temp/ipykernel_15988/3646404374.py:4: RuntimeWarning: invalid value encountered in divide\n",
      "  return np.divide(arr1, arr2)\n",
      "C:\\Users\\HEFRYA~1\\AppData\\Local\\Temp/ipykernel_15988/3646404374.py:4: RuntimeWarning: invalid value encountered in divide\n",
      "  return np.divide(arr1, arr2)\n",
      "C:\\Users\\HEFRYA~1\\AppData\\Local\\Temp/ipykernel_15988/3646404374.py:4: RuntimeWarning: invalid value encountered in divide\n",
      "  return np.divide(arr1, arr2)\n",
      "C:\\Users\\HEFRYA~1\\AppData\\Local\\Temp/ipykernel_15988/3646404374.py:4: RuntimeWarning: invalid value encountered in divide\n",
      "  return np.divide(arr1, arr2)\n",
      "C:\\Users\\HEFRYA~1\\AppData\\Local\\Temp/ipykernel_15988/3646404374.py:4: RuntimeWarning: invalid value encountered in divide\n",
      "  return np.divide(arr1, arr2)\n",
      "C:\\Users\\HEFRYA~1\\AppData\\Local\\Temp/ipykernel_15988/3646404374.py:4: RuntimeWarning: invalid value encountered in divide\n",
      "  return np.divide(arr1, arr2)\n",
      "C:\\Users\\HEFRYA~1\\AppData\\Local\\Temp/ipykernel_15988/3646404374.py:4: RuntimeWarning: invalid value encountered in divide\n",
      "  return np.divide(arr1, arr2)\n",
      "C:\\Users\\HEFRYA~1\\AppData\\Local\\Temp/ipykernel_15988/3646404374.py:4: RuntimeWarning: invalid value encountered in divide\n",
      "  return np.divide(arr1, arr2)\n",
      "C:\\Users\\HEFRYA~1\\AppData\\Local\\Temp/ipykernel_15988/3646404374.py:4: RuntimeWarning: invalid value encountered in divide\n",
      "  return np.divide(arr1, arr2)\n",
      "C:\\Users\\HEFRYA~1\\AppData\\Local\\Temp/ipykernel_15988/3646404374.py:4: RuntimeWarning: invalid value encountered in divide\n",
      "  return np.divide(arr1, arr2)\n",
      "C:\\Users\\HEFRYA~1\\AppData\\Local\\Temp/ipykernel_15988/3646404374.py:4: RuntimeWarning: invalid value encountered in divide\n",
      "  return np.divide(arr1, arr2)\n",
      "C:\\Users\\HEFRYA~1\\AppData\\Local\\Temp/ipykernel_15988/3646404374.py:4: RuntimeWarning: invalid value encountered in divide\n",
      "  return np.divide(arr1, arr2)\n",
      "C:\\Users\\HEFRYA~1\\AppData\\Local\\Temp/ipykernel_15988/3646404374.py:4: RuntimeWarning: invalid value encountered in divide\n",
      "  return np.divide(arr1, arr2)\n",
      "C:\\Users\\HEFRYA~1\\AppData\\Local\\Temp/ipykernel_15988/3646404374.py:4: RuntimeWarning: invalid value encountered in divide\n",
      "  return np.divide(arr1, arr2)\n",
      "C:\\Users\\HEFRYA~1\\AppData\\Local\\Temp/ipykernel_15988/3646404374.py:4: RuntimeWarning: invalid value encountered in divide\n",
      "  return np.divide(arr1, arr2)\n",
      "C:\\Users\\HEFRYA~1\\AppData\\Local\\Temp/ipykernel_15988/3646404374.py:4: RuntimeWarning: invalid value encountered in divide\n",
      "  return np.divide(arr1, arr2)\n",
      "C:\\Users\\HEFRYA~1\\AppData\\Local\\Temp/ipykernel_15988/3646404374.py:4: RuntimeWarning: invalid value encountered in divide\n",
      "  return np.divide(arr1, arr2)\n",
      "C:\\Users\\HEFRYA~1\\AppData\\Local\\Temp/ipykernel_15988/3646404374.py:4: RuntimeWarning: invalid value encountered in divide\n",
      "  return np.divide(arr1, arr2)\n",
      "C:\\Users\\HEFRYA~1\\AppData\\Local\\Temp/ipykernel_15988/3646404374.py:4: RuntimeWarning: invalid value encountered in divide\n",
      "  return np.divide(arr1, arr2)\n",
      "C:\\Users\\HEFRYA~1\\AppData\\Local\\Temp/ipykernel_15988/3646404374.py:4: RuntimeWarning: invalid value encountered in divide\n",
      "  return np.divide(arr1, arr2)\n",
      "C:\\Users\\HEFRYA~1\\AppData\\Local\\Temp/ipykernel_15988/3646404374.py:4: RuntimeWarning: invalid value encountered in divide\n",
      "  return np.divide(arr1, arr2)\n",
      "C:\\Users\\HEFRYA~1\\AppData\\Local\\Temp/ipykernel_15988/3646404374.py:4: RuntimeWarning: invalid value encountered in divide\n",
      "  return np.divide(arr1, arr2)\n",
      "C:\\Users\\HEFRYA~1\\AppData\\Local\\Temp/ipykernel_15988/3646404374.py:4: RuntimeWarning: invalid value encountered in divide\n",
      "  return np.divide(arr1, arr2)\n",
      "C:\\Users\\HEFRYA~1\\AppData\\Local\\Temp/ipykernel_15988/3646404374.py:4: RuntimeWarning: invalid value encountered in divide\n",
      "  return np.divide(arr1, arr2)\n",
      "C:\\Users\\HEFRYA~1\\AppData\\Local\\Temp/ipykernel_15988/3646404374.py:4: RuntimeWarning: invalid value encountered in divide\n",
      "  return np.divide(arr1, arr2)\n",
      "C:\\Users\\HEFRYA~1\\AppData\\Local\\Temp/ipykernel_15988/3646404374.py:4: RuntimeWarning: invalid value encountered in divide\n",
      "  return np.divide(arr1, arr2)\n",
      "C:\\Users\\HEFRYA~1\\AppData\\Local\\Temp/ipykernel_15988/3646404374.py:4: RuntimeWarning: invalid value encountered in divide\n",
      "  return np.divide(arr1, arr2)\n",
      "C:\\Users\\HEFRYA~1\\AppData\\Local\\Temp/ipykernel_15988/3646404374.py:4: RuntimeWarning: invalid value encountered in divide\n",
      "  return np.divide(arr1, arr2)\n",
      "C:\\Users\\HEFRYA~1\\AppData\\Local\\Temp/ipykernel_15988/3646404374.py:4: RuntimeWarning: invalid value encountered in divide\n",
      "  return np.divide(arr1, arr2)\n",
      "C:\\Users\\HEFRYA~1\\AppData\\Local\\Temp/ipykernel_15988/3646404374.py:4: RuntimeWarning: invalid value encountered in divide\n",
      "  return np.divide(arr1, arr2)\n",
      "C:\\Users\\HEFRYA~1\\AppData\\Local\\Temp/ipykernel_15988/3646404374.py:4: RuntimeWarning: invalid value encountered in divide\n",
      "  return np.divide(arr1, arr2)\n",
      "C:\\Users\\HEFRYA~1\\AppData\\Local\\Temp/ipykernel_15988/3646404374.py:4: RuntimeWarning: invalid value encountered in divide\n",
      "  return np.divide(arr1, arr2)\n",
      "C:\\Users\\HEFRYA~1\\AppData\\Local\\Temp/ipykernel_15988/3646404374.py:4: RuntimeWarning: invalid value encountered in divide\n",
      "  return np.divide(arr1, arr2)\n",
      "C:\\Users\\HEFRYA~1\\AppData\\Local\\Temp/ipykernel_15988/3646404374.py:4: RuntimeWarning: invalid value encountered in divide\n",
      "  return np.divide(arr1, arr2)\n",
      "C:\\Users\\HEFRYA~1\\AppData\\Local\\Temp/ipykernel_15988/3646404374.py:4: RuntimeWarning: invalid value encountered in divide\n",
      "  return np.divide(arr1, arr2)\n",
      "C:\\Users\\HEFRYA~1\\AppData\\Local\\Temp/ipykernel_15988/3646404374.py:4: RuntimeWarning: invalid value encountered in divide\n",
      "  return np.divide(arr1, arr2)\n",
      "C:\\Users\\HEFRYA~1\\AppData\\Local\\Temp/ipykernel_15988/3646404374.py:4: RuntimeWarning: invalid value encountered in divide\n",
      "  return np.divide(arr1, arr2)\n",
      "C:\\Users\\HEFRYA~1\\AppData\\Local\\Temp/ipykernel_15988/3646404374.py:4: RuntimeWarning: invalid value encountered in divide\n",
      "  return np.divide(arr1, arr2)\n",
      "C:\\Users\\HEFRYA~1\\AppData\\Local\\Temp/ipykernel_15988/3646404374.py:4: RuntimeWarning: invalid value encountered in divide\n",
      "  return np.divide(arr1, arr2)\n",
      "C:\\Users\\HEFRYA~1\\AppData\\Local\\Temp/ipykernel_15988/3646404374.py:4: RuntimeWarning: invalid value encountered in divide\n",
      "  return np.divide(arr1, arr2)\n",
      "C:\\Users\\HEFRYA~1\\AppData\\Local\\Temp/ipykernel_15988/3646404374.py:4: RuntimeWarning: invalid value encountered in divide\n",
      "  return np.divide(arr1, arr2)\n",
      "C:\\Users\\HEFRYA~1\\AppData\\Local\\Temp/ipykernel_15988/3646404374.py:4: RuntimeWarning: invalid value encountered in divide\n",
      "  return np.divide(arr1, arr2)\n",
      "C:\\Users\\HEFRYA~1\\AppData\\Local\\Temp/ipykernel_15988/3646404374.py:4: RuntimeWarning: invalid value encountered in divide\n",
      "  return np.divide(arr1, arr2)\n",
      "C:\\Users\\HEFRYA~1\\AppData\\Local\\Temp/ipykernel_15988/3646404374.py:4: RuntimeWarning: invalid value encountered in divide\n",
      "  return np.divide(arr1, arr2)\n",
      "C:\\Users\\HEFRYA~1\\AppData\\Local\\Temp/ipykernel_15988/3646404374.py:4: RuntimeWarning: invalid value encountered in divide\n",
      "  return np.divide(arr1, arr2)\n"
     ]
    }
   ],
   "source": [
    "prop_crops_GFRAC = np.zeros((17, 3, 2160, 4320), dtype=\"float32\")\n",
    "for i, crop in enumerate(gfrac_ngfbfc):\n",
    "    for n in range(3):\n",
    "        prop_crops_GFRAC[i][n] = np.nan_to_num(divide(gfrac_area_netcdf_atribusi['GFRAC_combined'].isel(time=n).sel(NGFBFC=crop).to_numpy(), \n",
    "                                                            gfrac_area_netcdf_atribusi['GFRAC_combined'].isel(time=n).sum(dim='NGFBFC').to_numpy()))"
   ]
  },
  {
   "cell_type": "code",
   "execution_count": 15,
   "metadata": {},
   "outputs": [],
   "source": [
    "nama_lain = xarray.Dataset(\n",
    "coords={\n",
    "        \"time\": pd.date_range(start='1975-01-01', end='1985-01-01', freq='5YS'),\n",
    "        \"latitude\": gfrac.coords[\"latitude\"].to_numpy(),\n",
    "        \"longitude\": gfrac.coords[\"longitude\"].to_numpy()\n",
    "    })\n",
    "\n",
    "coords = (\"time\", \"latitude\", \"longitude\")\n",
    "data_vars = {\n",
    "    ngfbfc: (coords, prop_crops_GFRAC[i]) for i, ngfbfc in enumerate(gfrac_ngfbfc)\n",
    "}\n",
    "crop_prop = nama_lain.assign(data_vars)"
   ]
  },
  {
   "cell_type": "code",
   "execution_count": 9,
   "metadata": {},
   "outputs": [],
   "source": [
    "#import data\n",
    "\n",
    "data1 = xarray.open_dataset(\"D:/kerja/asisten riset/vol/milkunC/achaidir/nco2/GECH4AW.NC\", engine=\"netcdf4\")\n",
    "data2 = xarray.open_dataset(\"D:/kerja/asisten riset/vol/milkunC/achaidir/nco2/GECH4DF.NC\", engine=\"netcdf4\")\n",
    "data3 = xarray.open_dataset(\"D:/kerja/asisten riset/vol/milkunC/achaidir/nco2/GECH4RI.NC\", engine=\"netcdf4\") # belakang\n",
    "data4 = xarray.open_dataset(\"D:/kerja/asisten riset/vol/milkunC/achaidir/nco2/GECH4SB.NC\", engine=\"netcdf4\")\n",
    "data5 = xarray.open_dataset(\"D:/kerja/asisten riset/vol/milkunC/achaidir/nco2/GECO2AB.NC\", engine=\"netcdf4\")\n",
    "data6 = xarray.open_dataset(\"D:/kerja/asisten riset/vol/milkunC/achaidir/nco2/GECO2DF.NC\", engine=\"netcdf4\")\n",
    "data7 = xarray.open_dataset(\"D:/kerja/asisten riset/vol/milkunC/achaidir/nco2/GEN2ODF.NC\", engine=\"netcdf4\")\n",
    "data8 = xarray.open_dataset(\"D:/kerja/asisten riset/vol/milkunC/achaidir/nco2/GEN2OFE.NC\", engine=\"netcdf4\")\n",
    "data9 = xarray.open_dataset(\"D:/kerja/asisten riset/vol/milkunC/achaidir/nco2/GEN2OIF.NC\", engine=\"netcdf4\")\n",
    "data10 = xarray.open_dataset(\"D:/kerja/asisten riset/vol/milkunC/achaidir/nco2/GEN2OLC.NC\", engine=\"netcdf4\")\n",
    "data11 = xarray.open_dataset(\"D:/kerja/asisten riset/vol/milkunC/achaidir/nco2/GEN2ORE.NC\", engine=\"netcdf4\")\n",
    "data12 = xarray.open_dataset(\"D:/kerja/asisten riset/vol/milkunC/achaidir/nco2/GEN2OSB.NC\", engine=\"netcdf4\")"
   ]
  },
  {
   "cell_type": "code",
   "execution_count": 21,
   "metadata": {},
   "outputs": [],
   "source": [
    "#penjumlahan\n",
    "luc_crops_plus_plus = np.zeros((3, 2160, 4320), dtype=\"float32\")"
   ]
  },
  {
   "cell_type": "code",
   "execution_count": 23,
   "metadata": {},
   "outputs": [],
   "source": [
    "for n in range(3):\n",
    "    luc_crops_plus_plus[n] = np.nan_to_num(np.where(emission_CO2_netcdf_AM1['LUC Crops Emission'].isel(time=n).to_numpy() > 0,\n",
    "                                          emission_CO2_netcdf_AM1['LUC Crops Emission'].isel(time=n).to_numpy() + (data1['GECH4AW'].isel(time=n).to_numpy() + data2['GECH4DF'].isel(time=n).to_numpy() + data4['GECH4SB'].isel(time=n).to_numpy() + data5['GECO2AB'].isel(time=n).to_numpy() +\n",
    "                                                                                                                                                                      data6['GECO2DF'].isel(time=n).to_numpy() + data7['GEN2ODF'].isel(time=n).to_numpy() + data8['GEN2OFE'].isel(time=n).to_numpy() +\n",
    "                                                                                                                                                                        data9['GEN2OIF'].isel(time=n).to_numpy() + data10['GEN2OLC'].isel(time=n).to_numpy() + data11['GEN2ORE'].isel(time=n).to_numpy() +\n",
    "                                                                                                                                                                          data12['GEN2OSB'].isel(time=n).to_numpy()), 0))"
   ]
  },
  {
   "cell_type": "code",
   "execution_count": 15,
   "metadata": {},
   "outputs": [],
   "source": [
    "x = [-51.706, -55.974643, 101.457, 109.38, -96.6289, 48.966]\n",
    "y = [-22.698, -21.208333, 31.4420, -7.11, 18.549639, -18.07]\n",
    "\n",
    "# data2['GECH4DF'].isel(time=slice(0, 10)).sel(longitude=x[0], latitude=y[0], method='nearest').to_pandas()\n",
    "\n",
    "emission_CO2_netcdf_AM1['LUC Crops Emission'].sel(longitude=x[0], latitude=y[0], method='nearest').to_pandas()"
   ]
  },
  {
   "cell_type": "code",
   "execution_count": 30,
   "metadata": {},
   "outputs": [],
   "source": [
    "luc_crops_plus_plus_netcdf = xarray.Dataset({\n",
    "    \"luc_crops_plus_plus\":([\"time\",\"latitude\", \"longitude\"], luc_crops_plus_plus)\n",
    "},coords={\n",
    "        \"time\": pd.date_range(start='1975-01-01', end='1985-01-01', freq='5YS'),\n",
    "        \"latitude\": gfrac.coords[\"latitude\"].to_numpy(),\n",
    "        \"longitude\": gfrac.coords[\"longitude\"].to_numpy()\n",
    "    })"
   ]
  },
  {
   "cell_type": "code",
   "execution_count": 31,
   "metadata": {},
   "outputs": [
    {
     "data": {
      "text/plain": [
       "time\n",
       "1975-01-01    11533.989258\n",
       "1980-01-01        0.000000\n",
       "1985-01-01        0.000000\n",
       "Freq: 5YS-JAN, dtype: float32"
      ]
     },
     "execution_count": 31,
     "metadata": {},
     "output_type": "execute_result"
    }
   ],
   "source": [
    "luc_crops_plus_plus_netcdf['luc_crops_plus_plus'].sel(longitude=x[0], latitude=y[0], method='nearest').to_pandas()"
   ]
  },
  {
   "cell_type": "code",
   "execution_count": 43,
   "metadata": {},
   "outputs": [],
   "source": [
    "#Emisi per crops\n",
    "luc_crops_prop_crop = np.zeros((17, 3, 2160, 4320), dtype=\"float32\")\n",
    "for i, crop in enumerate(gfrac_ngfbfc):\n",
    "    for n in range(3):\n",
    "        luc_crops_prop_crop[i][n] = np.nan_to_num(multiple(luc_crops_plus_plus[n], prop_crops_GFRAC[i][n]))"
   ]
  },
  {
   "cell_type": "code",
   "execution_count": 44,
   "metadata": {},
   "outputs": [],
   "source": [
    "luc_crops_prop_netcdf = xarray.Dataset({\n",
    "    \"luc_crops_prop\":([\"NGFBFC\",\"time\", \"latitude\", \"longitude\"], luc_crops_prop_crop)\n",
    "},coords={\n",
    "        \"time\": pd.date_range(start='1975-01-01', end='1985-01-01', freq='5YS'),\n",
    "        \"NGFBFC\": gfrac_ngfbfc,\n",
    "        \"latitude\": gfrac.coords[\"latitude\"].to_numpy(),\n",
    "        \"longitude\": gfrac.coords[\"longitude\"].to_numpy()\n",
    "})"
   ]
  },
  {
   "cell_type": "code",
   "execution_count": 45,
   "metadata": {},
   "outputs": [
    {
     "data": {
      "text/plain": [
       "NGFBFC\n",
       "grass                               8946.953125\n",
       "Wheat                                368.103729\n",
       "Rice                                 274.992737\n",
       "Maize                                712.333069\n",
       "Tropical cereals                       4.723041\n",
       "Other temperate cereals               10.160518\n",
       "Pulses                               492.551910\n",
       "Soybeans                              58.744358\n",
       "Temperate oil crops                    0.842707\n",
       "Tropical oil crops                   141.254059\n",
       "Temperate roots & tubers               6.886007\n",
       "Tropical roots & tubers                6.426327\n",
       "Sugar crops                            1.376603\n",
       "Oil & palm fruit                       0.000069\n",
       "Vegetables & fruits                   27.340000\n",
       "Other non-food & luxury & spices     252.013809\n",
       "Plant based fibres                   229.287979\n",
       "dtype: float32"
      ]
     },
     "execution_count": 45,
     "metadata": {},
     "output_type": "execute_result"
    }
   ],
   "source": [
    "luc_crops_prop_netcdf[\"luc_crops_prop\"].isel(time=0).sel(longitude=x[0], latitude=y[0], method='nearest').to_pandas()"
   ]
  },
  {
   "cell_type": "code",
   "execution_count": 46,
   "metadata": {},
   "outputs": [],
   "source": [
    "for n in range(3):\n",
    "    luc_crops_prop_crop[2][n] = np.nan_to_num(np.where(luc_crops_plus_plus[n] > 0,\n",
    "               luc_crops_prop_netcdf[\"luc_crops_prop\"].isel(time=n, NGFBFC=2).to_numpy() + data3['GECH4RI'].isel(time=n).to_numpy(), 0))"
   ]
  },
  {
   "cell_type": "code",
   "execution_count": 47,
   "metadata": {},
   "outputs": [
    {
     "data": {
      "text/plain": [
       "NGFBFC\n",
       "grass                               8946.953125\n",
       "Wheat                                368.103729\n",
       "Rice                                1000.698486\n",
       "Maize                                712.333069\n",
       "Tropical cereals                       4.723041\n",
       "Other temperate cereals               10.160518\n",
       "Pulses                               492.551910\n",
       "Soybeans                              58.744358\n",
       "Temperate oil crops                    0.842707\n",
       "Tropical oil crops                   141.254059\n",
       "Temperate roots & tubers               6.886007\n",
       "Tropical roots & tubers                6.426327\n",
       "Sugar crops                            1.376603\n",
       "Oil & palm fruit                       0.000069\n",
       "Vegetables & fruits                   27.340000\n",
       "Other non-food & luxury & spices     252.013809\n",
       "Plant based fibres                   229.287979\n",
       "dtype: float32"
      ]
     },
     "execution_count": 47,
     "metadata": {},
     "output_type": "execute_result"
    }
   ],
   "source": [
    "luc_crops_prop_netcdf[\"luc_crops_prop\"].isel(time=0).sel(longitude=x[0], latitude=y[0], method='nearest').to_pandas()"
   ]
  },
  {
   "cell_type": "markdown",
   "metadata": {},
   "source": [
    "## Agri to Agri"
   ]
  },
  {
   "cell_type": "code",
   "execution_count": 6,
   "metadata": {},
   "outputs": [],
   "source": [
    "#Agri to Agri\n",
    "glct_trans_1st = xarray.open_dataset(\"D:/kerja/asisten riset/code v/step 3/GbGlct/GLCT_trans_to.nc\", engine=\"netcdf4\")"
   ]
  },
  {
   "cell_type": "code",
   "execution_count": 7,
   "metadata": {},
   "outputs": [],
   "source": [
    "selisih_gfrac = np.zeros((3, 17, 2160, 4320), dtype=\"float64\")"
   ]
  },
  {
   "cell_type": "code",
   "execution_count": 8,
   "metadata": {},
   "outputs": [],
   "source": [
    "max_year = 3\n",
    "for n in range(max_year):\n",
    "    for i, crop in enumerate(gfrac_ngfbfc):\n",
    "        selisih_gfrac[n][i] = np.where((glct_trans_1st['GLCT_trans'].isel(time=n).values == 'agri_to_agri') &\n",
    "                            (gfrac_area_netcdf['GFRAC_combined'].isel(time=n+1).sel(NGFBFC=crop).values > gfrac_area_netcdf['GFRAC_combined'].isel(time=n).sel(NGFBFC=crop).values),\n",
    "                            gfrac_area_netcdf['GFRAC_combined'].isel(time=n+1).sel(NGFBFC=crop).values - gfrac_area_netcdf['GFRAC_combined'].isel(time=n).sel(NGFBFC=crop).values, 0)"
   ]
  },
  {
   "cell_type": "code",
   "execution_count": 9,
   "metadata": {},
   "outputs": [],
   "source": [
    "selisih_gfrac_area_netcdf = xarray.Dataset({\n",
    "        \"selisih_gfrac\":([\"time\", \"NGFBFC\", \"latitude\", \"longitude\"], selisih_gfrac)\n",
    "    },\n",
    "    coords={\n",
    "        \"time\": pd.date_range(start='1975-01-01', end='1985-01-01', freq='5YS'),\n",
    "        \"NGFBFC\": gfrac_ngfbfc,\n",
    "        \"latitude\": gfrac.coords[\"latitude\"].to_numpy(),\n",
    "        \"longitude\": gfrac.coords[\"longitude\"].to_numpy()\n",
    "    })"
   ]
  },
  {
   "cell_type": "code",
   "execution_count": 10,
   "metadata": {},
   "outputs": [],
   "source": [
    "#B Menghitung proporsi dari selisih\n",
    "proporsi_delta = np.zeros((3, 17, 2160, 4320), dtype=\"float64\")"
   ]
  },
  {
   "cell_type": "code",
   "execution_count": 13,
   "metadata": {},
   "outputs": [
    {
     "name": "stderr",
     "output_type": "stream",
     "text": [
      "C:\\Users\\HEFRYA~1\\AppData\\Local\\Temp/ipykernel_7560/3489393209.py:4: RuntimeWarning: invalid value encountered in divide\n",
      "  return np.divide(arr1, arr2)\n",
      "C:\\Users\\HEFRYA~1\\AppData\\Local\\Temp/ipykernel_7560/3489393209.py:4: RuntimeWarning: invalid value encountered in divide\n",
      "  return np.divide(arr1, arr2)\n",
      "C:\\Users\\HEFRYA~1\\AppData\\Local\\Temp/ipykernel_7560/3489393209.py:4: RuntimeWarning: invalid value encountered in divide\n",
      "  return np.divide(arr1, arr2)\n",
      "C:\\Users\\HEFRYA~1\\AppData\\Local\\Temp/ipykernel_7560/3489393209.py:4: RuntimeWarning: invalid value encountered in divide\n",
      "  return np.divide(arr1, arr2)\n",
      "C:\\Users\\HEFRYA~1\\AppData\\Local\\Temp/ipykernel_7560/3489393209.py:4: RuntimeWarning: invalid value encountered in divide\n",
      "  return np.divide(arr1, arr2)\n",
      "C:\\Users\\HEFRYA~1\\AppData\\Local\\Temp/ipykernel_7560/3489393209.py:4: RuntimeWarning: invalid value encountered in divide\n",
      "  return np.divide(arr1, arr2)\n",
      "C:\\Users\\HEFRYA~1\\AppData\\Local\\Temp/ipykernel_7560/3489393209.py:4: RuntimeWarning: invalid value encountered in divide\n",
      "  return np.divide(arr1, arr2)\n",
      "C:\\Users\\HEFRYA~1\\AppData\\Local\\Temp/ipykernel_7560/3489393209.py:4: RuntimeWarning: invalid value encountered in divide\n",
      "  return np.divide(arr1, arr2)\n",
      "C:\\Users\\HEFRYA~1\\AppData\\Local\\Temp/ipykernel_7560/3489393209.py:4: RuntimeWarning: invalid value encountered in divide\n",
      "  return np.divide(arr1, arr2)\n",
      "C:\\Users\\HEFRYA~1\\AppData\\Local\\Temp/ipykernel_7560/3489393209.py:4: RuntimeWarning: invalid value encountered in divide\n",
      "  return np.divide(arr1, arr2)\n",
      "C:\\Users\\HEFRYA~1\\AppData\\Local\\Temp/ipykernel_7560/3489393209.py:4: RuntimeWarning: invalid value encountered in divide\n",
      "  return np.divide(arr1, arr2)\n",
      "C:\\Users\\HEFRYA~1\\AppData\\Local\\Temp/ipykernel_7560/3489393209.py:4: RuntimeWarning: invalid value encountered in divide\n",
      "  return np.divide(arr1, arr2)\n",
      "C:\\Users\\HEFRYA~1\\AppData\\Local\\Temp/ipykernel_7560/3489393209.py:4: RuntimeWarning: invalid value encountered in divide\n",
      "  return np.divide(arr1, arr2)\n",
      "C:\\Users\\HEFRYA~1\\AppData\\Local\\Temp/ipykernel_7560/3489393209.py:4: RuntimeWarning: invalid value encountered in divide\n",
      "  return np.divide(arr1, arr2)\n",
      "C:\\Users\\HEFRYA~1\\AppData\\Local\\Temp/ipykernel_7560/3489393209.py:4: RuntimeWarning: invalid value encountered in divide\n",
      "  return np.divide(arr1, arr2)\n",
      "C:\\Users\\HEFRYA~1\\AppData\\Local\\Temp/ipykernel_7560/3489393209.py:4: RuntimeWarning: invalid value encountered in divide\n",
      "  return np.divide(arr1, arr2)\n",
      "C:\\Users\\HEFRYA~1\\AppData\\Local\\Temp/ipykernel_7560/3489393209.py:4: RuntimeWarning: invalid value encountered in divide\n",
      "  return np.divide(arr1, arr2)\n",
      "C:\\Users\\HEFRYA~1\\AppData\\Local\\Temp/ipykernel_7560/3489393209.py:4: RuntimeWarning: invalid value encountered in divide\n",
      "  return np.divide(arr1, arr2)\n",
      "C:\\Users\\HEFRYA~1\\AppData\\Local\\Temp/ipykernel_7560/3489393209.py:4: RuntimeWarning: invalid value encountered in divide\n",
      "  return np.divide(arr1, arr2)\n",
      "C:\\Users\\HEFRYA~1\\AppData\\Local\\Temp/ipykernel_7560/3489393209.py:4: RuntimeWarning: invalid value encountered in divide\n",
      "  return np.divide(arr1, arr2)\n",
      "C:\\Users\\HEFRYA~1\\AppData\\Local\\Temp/ipykernel_7560/3489393209.py:4: RuntimeWarning: invalid value encountered in divide\n",
      "  return np.divide(arr1, arr2)\n",
      "C:\\Users\\HEFRYA~1\\AppData\\Local\\Temp/ipykernel_7560/3489393209.py:4: RuntimeWarning: invalid value encountered in divide\n",
      "  return np.divide(arr1, arr2)\n",
      "C:\\Users\\HEFRYA~1\\AppData\\Local\\Temp/ipykernel_7560/3489393209.py:4: RuntimeWarning: invalid value encountered in divide\n",
      "  return np.divide(arr1, arr2)\n",
      "C:\\Users\\HEFRYA~1\\AppData\\Local\\Temp/ipykernel_7560/3489393209.py:4: RuntimeWarning: invalid value encountered in divide\n",
      "  return np.divide(arr1, arr2)\n",
      "C:\\Users\\HEFRYA~1\\AppData\\Local\\Temp/ipykernel_7560/3489393209.py:4: RuntimeWarning: invalid value encountered in divide\n",
      "  return np.divide(arr1, arr2)\n",
      "C:\\Users\\HEFRYA~1\\AppData\\Local\\Temp/ipykernel_7560/3489393209.py:4: RuntimeWarning: invalid value encountered in divide\n",
      "  return np.divide(arr1, arr2)\n",
      "C:\\Users\\HEFRYA~1\\AppData\\Local\\Temp/ipykernel_7560/3489393209.py:4: RuntimeWarning: invalid value encountered in divide\n",
      "  return np.divide(arr1, arr2)\n",
      "C:\\Users\\HEFRYA~1\\AppData\\Local\\Temp/ipykernel_7560/3489393209.py:4: RuntimeWarning: invalid value encountered in divide\n",
      "  return np.divide(arr1, arr2)\n",
      "C:\\Users\\HEFRYA~1\\AppData\\Local\\Temp/ipykernel_7560/3489393209.py:4: RuntimeWarning: invalid value encountered in divide\n",
      "  return np.divide(arr1, arr2)\n",
      "C:\\Users\\HEFRYA~1\\AppData\\Local\\Temp/ipykernel_7560/3489393209.py:4: RuntimeWarning: invalid value encountered in divide\n",
      "  return np.divide(arr1, arr2)\n",
      "C:\\Users\\HEFRYA~1\\AppData\\Local\\Temp/ipykernel_7560/3489393209.py:4: RuntimeWarning: invalid value encountered in divide\n",
      "  return np.divide(arr1, arr2)\n",
      "C:\\Users\\HEFRYA~1\\AppData\\Local\\Temp/ipykernel_7560/3489393209.py:4: RuntimeWarning: invalid value encountered in divide\n",
      "  return np.divide(arr1, arr2)\n",
      "C:\\Users\\HEFRYA~1\\AppData\\Local\\Temp/ipykernel_7560/3489393209.py:4: RuntimeWarning: invalid value encountered in divide\n",
      "  return np.divide(arr1, arr2)\n",
      "C:\\Users\\HEFRYA~1\\AppData\\Local\\Temp/ipykernel_7560/3489393209.py:4: RuntimeWarning: invalid value encountered in divide\n",
      "  return np.divide(arr1, arr2)\n",
      "C:\\Users\\HEFRYA~1\\AppData\\Local\\Temp/ipykernel_7560/3489393209.py:4: RuntimeWarning: invalid value encountered in divide\n",
      "  return np.divide(arr1, arr2)\n",
      "C:\\Users\\HEFRYA~1\\AppData\\Local\\Temp/ipykernel_7560/3489393209.py:4: RuntimeWarning: invalid value encountered in divide\n",
      "  return np.divide(arr1, arr2)\n",
      "C:\\Users\\HEFRYA~1\\AppData\\Local\\Temp/ipykernel_7560/3489393209.py:4: RuntimeWarning: invalid value encountered in divide\n",
      "  return np.divide(arr1, arr2)\n",
      "C:\\Users\\HEFRYA~1\\AppData\\Local\\Temp/ipykernel_7560/3489393209.py:4: RuntimeWarning: invalid value encountered in divide\n",
      "  return np.divide(arr1, arr2)\n",
      "C:\\Users\\HEFRYA~1\\AppData\\Local\\Temp/ipykernel_7560/3489393209.py:4: RuntimeWarning: invalid value encountered in divide\n",
      "  return np.divide(arr1, arr2)\n",
      "C:\\Users\\HEFRYA~1\\AppData\\Local\\Temp/ipykernel_7560/3489393209.py:4: RuntimeWarning: invalid value encountered in divide\n",
      "  return np.divide(arr1, arr2)\n",
      "C:\\Users\\HEFRYA~1\\AppData\\Local\\Temp/ipykernel_7560/3489393209.py:4: RuntimeWarning: invalid value encountered in divide\n",
      "  return np.divide(arr1, arr2)\n",
      "C:\\Users\\HEFRYA~1\\AppData\\Local\\Temp/ipykernel_7560/3489393209.py:4: RuntimeWarning: invalid value encountered in divide\n",
      "  return np.divide(arr1, arr2)\n",
      "C:\\Users\\HEFRYA~1\\AppData\\Local\\Temp/ipykernel_7560/3489393209.py:4: RuntimeWarning: invalid value encountered in divide\n",
      "  return np.divide(arr1, arr2)\n",
      "C:\\Users\\HEFRYA~1\\AppData\\Local\\Temp/ipykernel_7560/3489393209.py:4: RuntimeWarning: invalid value encountered in divide\n",
      "  return np.divide(arr1, arr2)\n",
      "C:\\Users\\HEFRYA~1\\AppData\\Local\\Temp/ipykernel_7560/3489393209.py:4: RuntimeWarning: invalid value encountered in divide\n",
      "  return np.divide(arr1, arr2)\n",
      "C:\\Users\\HEFRYA~1\\AppData\\Local\\Temp/ipykernel_7560/3489393209.py:4: RuntimeWarning: invalid value encountered in divide\n",
      "  return np.divide(arr1, arr2)\n",
      "C:\\Users\\HEFRYA~1\\AppData\\Local\\Temp/ipykernel_7560/3489393209.py:4: RuntimeWarning: invalid value encountered in divide\n",
      "  return np.divide(arr1, arr2)\n",
      "C:\\Users\\HEFRYA~1\\AppData\\Local\\Temp/ipykernel_7560/3489393209.py:4: RuntimeWarning: invalid value encountered in divide\n",
      "  return np.divide(arr1, arr2)\n",
      "C:\\Users\\HEFRYA~1\\AppData\\Local\\Temp/ipykernel_7560/3489393209.py:4: RuntimeWarning: invalid value encountered in divide\n",
      "  return np.divide(arr1, arr2)\n",
      "C:\\Users\\HEFRYA~1\\AppData\\Local\\Temp/ipykernel_7560/3489393209.py:4: RuntimeWarning: invalid value encountered in divide\n",
      "  return np.divide(arr1, arr2)\n",
      "C:\\Users\\HEFRYA~1\\AppData\\Local\\Temp/ipykernel_7560/3489393209.py:4: RuntimeWarning: invalid value encountered in divide\n",
      "  return np.divide(arr1, arr2)\n"
     ]
    }
   ],
   "source": [
    "for n in range(3):\n",
    "    for i, crop in enumerate(gfrac_ngfbfc):\n",
    "        proporsi_delta[n][i] = np.nan_to_num(divide(selisih_gfrac_area_netcdf['selisih_gfrac'].isel(time=n).sel(NGFBFC=crop).to_numpy(),\n",
    "                                                    selisih_gfrac_area_netcdf['selisih_gfrac'].isel(time=n).sum(dim='NGFBFC').to_numpy()))\n"
   ]
  },
  {
   "cell_type": "code",
   "execution_count": null,
   "metadata": {},
   "outputs": [],
   "source": [
    "\n",
    "proporsi_delta_netcdf = xarray.Dataset({\n",
    "        \"selisih_gfrac\":([\"time\", \"NGFBFC\", \"latitude\", \"longitude\"], proporsi_delta)\n",
    "    },\n",
    "    coords={\n",
    "        \"time\": pd.date_range(start='1975-01-01', end='1985-01-01', freq='5YS'),\n",
    "        \"NGFBFC\": gfrac_ngfbfc,\n",
    "        \"latitude\": gfrac.coords[\"latitude\"].to_numpy(),\n",
    "        \"longitude\": gfrac.coords[\"longitude\"].to_numpy()\n",
    "    })"
   ]
  },
  {
   "cell_type": "code",
   "execution_count": 19,
   "metadata": {},
   "outputs": [],
   "source": [
    "agri_to_agri_plus_plus = np.zeros((3, 2160, 4320), dtype=\"float64\")"
   ]
  },
  {
   "cell_type": "code",
   "execution_count": 30,
   "metadata": {},
   "outputs": [],
   "source": [
    "for n in range(3):\n",
    "    agri_to_agri_plus_plus[n] = np.nan_to_num(np.where(glct_trans_1st['GLCT_trans'].isel(time=n).to_numpy() == 'agri_to_agri',\n",
    "                                          emission_CO2_netcdf_AM1['Agricultural Transition Emission'].isel(time=n).to_numpy() + (data1['GECH4AW'].isel(time=n).to_numpy() + data2['GECH4DF'].isel(time=n).to_numpy() + data4['GECH4SB'].isel(time=n).to_numpy() + data5['GECO2AB'].isel(time=n).to_numpy() +\n",
    "                                                                                                                                                                      data6['GECO2DF'].isel(time=n).to_numpy() + data7['GEN2ODF'].isel(time=n).to_numpy() + data8['GEN2OFE'].isel(time=n).to_numpy() +\n",
    "                                                                                                                                                                        data9['GEN2OIF'].isel(time=n).to_numpy() + data10['GEN2OLC'].isel(time=n).to_numpy() + data11['GEN2ORE'].isel(time=n).to_numpy() + data12['GEN2OSB'].isel(time=n).to_numpy()), 0))"
   ]
  },
  {
   "cell_type": "code",
   "execution_count": 31,
   "metadata": {},
   "outputs": [],
   "source": [
    "agri_to_agri_plus_plus_netcdf = xarray.Dataset({\n",
    "    \"agri_to_agri_plus_plus\":([\"time\",\"latitude\", \"longitude\"], agri_to_agri_plus_plus)\n",
    "},coords={\n",
    "        \"time\": pd.date_range(start='1975-01-01', end='1985-01-01', freq='5YS'),\n",
    "        \"latitude\": gfrac.coords[\"latitude\"].to_numpy(),\n",
    "        \"longitude\": gfrac.coords[\"longitude\"].to_numpy()\n",
    "})"
   ]
  },
  {
   "cell_type": "code",
   "execution_count": 32,
   "metadata": {},
   "outputs": [
    {
     "data": {
      "text/plain": [
       "time\n",
       "1975-01-01       0.000000\n",
       "1980-01-01      80.771004\n",
       "1985-01-01    2250.291016\n",
       "Freq: 5YS-JAN, dtype: float64"
      ]
     },
     "execution_count": 32,
     "metadata": {},
     "output_type": "execute_result"
    }
   ],
   "source": [
    "agri_to_agri_plus_plus_netcdf['agri_to_agri_plus_plus'].sel(longitude=x[0], latitude=y[0], method='nearest').to_pandas()"
   ]
  },
  {
   "cell_type": "code",
   "execution_count": 14,
   "metadata": {},
   "outputs": [],
   "source": [
    "agri_to_agri_prop_crop = np.zeros((17, 3, 2160, 4320), dtype=\"float64\")\n",
    "\n",
    "for i, crop in enumerate(gfrac_ngfbfc):\n",
    "    for n in range(3):\n",
    "        agri_to_agri_prop_crop[i][n] = np.nan_to_num(multiple(emission_CO2_netcdf_AM1['Agricultural Transition Emission'].isel(time=n).to_numpy(), proporsi_delta[n][i]))"
   ]
  },
  {
   "cell_type": "code",
   "execution_count": 21,
   "metadata": {},
   "outputs": [
    {
     "data": {
      "text/plain": [
       "time\n",
       "1975-01-01    0.000000\n",
       "1980-01-01    0.000000\n",
       "1985-01-01    0.000003\n",
       "dtype: float32"
      ]
     },
     "execution_count": 21,
     "metadata": {},
     "output_type": "execute_result"
    }
   ],
   "source": [
    "emission_CO2_netcdf_AM1['Agricultural Transition Emission'].sel(longitude=x[0], latitude=y[0], method='nearest').to_pandas()"
   ]
  },
  {
   "cell_type": "code",
   "execution_count": 16,
   "metadata": {},
   "outputs": [],
   "source": [
    "agri_to_agri_prop_crop_netcdf = xarray.Dataset({\n",
    "    \"agri_to_agri_prop\":([\"NGFBFC\", \"time\", \"latitude\", \"longitude\"], agri_to_agri_prop_crop)\n",
    "},coords={\n",
    "        \"time\": pd.date_range(start='1975-01-01', end='1985-01-01', freq='5YS'),\n",
    "        \"NGFBFC\": gfrac_ngfbfc,\n",
    "        \"latitude\": gfrac.coords[\"latitude\"].to_numpy(),\n",
    "        \"longitude\": gfrac.coords[\"longitude\"].to_numpy()\n",
    "})"
   ]
  },
  {
   "cell_type": "code",
   "execution_count": 19,
   "metadata": {},
   "outputs": [
    {
     "data": {
      "text/plain": [
       "time\n",
       "1975-01-01    0.000000\n",
       "1980-01-01    0.000000\n",
       "1985-01-01    0.000003\n",
       "Freq: 5YS-JAN, dtype: float64"
      ]
     },
     "execution_count": 19,
     "metadata": {},
     "output_type": "execute_result"
    }
   ],
   "source": [
    "agri_to_agri_prop_crop_netcdf[\"agri_to_agri_prop\"].sel(longitude=x[0], latitude=y[0], method='nearest').sum(dim='NGFBFC').to_pandas()"
   ]
  },
  {
   "cell_type": "code",
   "execution_count": 36,
   "metadata": {},
   "outputs": [
    {
     "data": {
      "text/plain": [
       "array(2250.29101562)"
      ]
     },
     "execution_count": 36,
     "metadata": {},
     "output_type": "execute_result"
    }
   ],
   "source": [
    "agri_to_agri_prop_crop_netcdf[\"agri_to_agri_prop\"].isel(time=2).sel(longitude=x[0], latitude=y[0], method='nearest').sum(dim='NGFBFC').to_pandas()"
   ]
  },
  {
   "cell_type": "code",
   "execution_count": 43,
   "metadata": {},
   "outputs": [
    {
     "data": {
      "text/plain": [
       "NGFBFC\n",
       "grass                                0.000000\n",
       "Wheat                                0.000000\n",
       "Rice                                 5.363795\n",
       "Maize                                7.877745\n",
       "Tropical cereals                     0.000000\n",
       "Other temperate cereals              2.064173\n",
       "Pulses                              28.679587\n",
       "Soybeans                            14.540305\n",
       "Temperate oil crops                  0.660742\n",
       "Tropical oil crops                   0.000000\n",
       "Temperate roots & tubers             0.000000\n",
       "Tropical roots & tubers              0.000000\n",
       "Sugar crops                          0.209109\n",
       "Oil & palm fruit                     0.000029\n",
       "Vegetables & fruits                  1.143944\n",
       "Other non-food & luxury & spices    20.231574\n",
       "Plant based fibres                   0.000000\n",
       "dtype: float64"
      ]
     },
     "execution_count": 43,
     "metadata": {},
     "output_type": "execute_result"
    }
   ],
   "source": [
    "agri_to_agri_prop_crop_netcdf[\"agri_to_agri_prop\"].isel(time=1).sel(longitude=x[0], latitude=y[0], method='nearest').to_pandas()"
   ]
  },
  {
   "cell_type": "code",
   "execution_count": 49,
   "metadata": {},
   "outputs": [
    {
     "data": {
      "text/plain": [
       "array(544.8376, dtype=float32)"
      ]
     },
     "execution_count": 49,
     "metadata": {},
     "output_type": "execute_result"
    }
   ],
   "source": [
    "data3['GECH4RI'].isel(time=2).sel(longitude=x[0], latitude=y[0], method='nearest').to_pandas()"
   ]
  },
  {
   "cell_type": "code",
   "execution_count": 44,
   "metadata": {},
   "outputs": [],
   "source": [
    "for n in range(3):\n",
    "    agri_to_agri_prop_crop[2][n] = np.nan_to_num(np.where(agri_to_agri_plus_plus[n] > 0,\n",
    "               agri_to_agri_prop_crop_netcdf[\"agri_to_agri_prop\"].isel(time=n, NGFBFC=2).to_numpy() + data3['GECH4RI'].isel(time=n).to_numpy(), 0))"
   ]
  },
  {
   "cell_type": "code",
   "execution_count": 50,
   "metadata": {},
   "outputs": [
    {
     "data": {
      "text/plain": [
       "NGFBFC\n",
       "grass                                 0.000000\n",
       "Wheat                                 0.000000\n",
       "Rice                                697.431117\n",
       "Maize                                 7.877745\n",
       "Tropical cereals                      0.000000\n",
       "Other temperate cereals               2.064173\n",
       "Pulses                               28.679587\n",
       "Soybeans                             14.540305\n",
       "Temperate oil crops                   0.660742\n",
       "Tropical oil crops                    0.000000\n",
       "Temperate roots & tubers              0.000000\n",
       "Tropical roots & tubers               0.000000\n",
       "Sugar crops                           0.209109\n",
       "Oil & palm fruit                      0.000029\n",
       "Vegetables & fruits                   1.143944\n",
       "Other non-food & luxury & spices     20.231574\n",
       "Plant based fibres                    0.000000\n",
       "dtype: float64"
      ]
     },
     "execution_count": 50,
     "metadata": {},
     "output_type": "execute_result"
    }
   ],
   "source": [
    "agri_to_agri_prop_crop_netcdf[\"agri_to_agri_prop\"].isel(time=1).sel(longitude=x[0], latitude=y[0], method='nearest').to_pandas()"
   ]
  }
 ],
 "metadata": {
  "kernelspec": {
   "display_name": "Python 3",
   "language": "python",
   "name": "python3"
  },
  "language_info": {
   "codemirror_mode": {
    "name": "ipython",
    "version": 3
   },
   "file_extension": ".py",
   "mimetype": "text/x-python",
   "name": "python",
   "nbconvert_exporter": "python",
   "pygments_lexer": "ipython3",
   "version": "3.9.7"
  }
 },
 "nbformat": 4,
 "nbformat_minor": 2
}
