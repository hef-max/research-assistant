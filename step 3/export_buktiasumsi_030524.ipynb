{
 "cells": [
  {
   "cell_type": "code",
   "execution_count": null,
   "metadata": {},
   "outputs": [],
   "source": [
    "import numpy as np\n",
    "import pandas as pd\n",
    "import xarray"
   ]
  },
  {
   "cell_type": "code",
   "execution_count": null,
   "metadata": {},
   "outputs": [],
   "source": [
    "gfrac = xarray.open_dataset(\"D:/kerja/asisten riset/vol/milkunC/achaidir/IMAGE PBL/SSP2/GFRAC_new.nc\", engine=\"netcdf4\")\n",
    "gbiomass_5min = xarray.open_dataset(\"D:/kerja/asisten riset/vol/milkunC/achaidir/IMAGE PBL/SSP2/GBIOMASS_new.nc\", engine=\"netcdf4\")\n",
    "\n",
    "trans_glct1st_netcdf = xarray.open_dataset(\"D:/kerja/asisten riset/vol/milkunC/achaidir/IMAGE PBL/SSP2/GLCT_trans1st.nc\", engine=\"netcdf4\")\n",
    "glct_trans = xarray.open_dataset(\"D:/kerja/asisten riset/vol/milkunC/achaidir/IMAGE PBL/SSP2/GLCT_trans.nc\", engine=\"netcdf4\")\n",
    "gfrac_ngfbfc = [element.strip() for element in gfrac.coords['NGFBFC'].data.astype('str').tolist()]"
   ]
  },
  {
   "cell_type": "code",
   "execution_count": null,
   "metadata": {},
   "outputs": [],
   "source": [
    "# tabel 1\n",
    "\n",
    "selisih_gfracarea_table1 = np.zeros((10, 2160, 4320), dtype=\"float32\")\n",
    "\n",
    "max_year = 10\n",
    "for time in range(max_year):\n",
    "    if time < max_year - 1: # 0 = 1975\n",
    "        selisih_gfracarea_table1[time+1] = np.where(trans_glct1st_netcdf['GLCT_1st'].isel(time=time).values == 'natveg_to_agri',\n",
    "                                                            np.where((trans_glct1st_netcdf['GLCT_1st'].isel(time=time+1).values == 'agri_to_agri') |\n",
    "                                                                    (trans_glct1st_netcdf['GLCT_1st'].isel(time=time+1).values == 'agri_to_natveg'), 1, 0), 0)"
   ]
  },
  {
   "cell_type": "code",
   "execution_count": null,
   "metadata": {},
   "outputs": [],
   "source": [
    "table1_netcdf = xarray.Dataset({\n",
    "        \"gfrac_selisih\":([\"time\", \"latitude\", \"longitude\"], selisih_gfracarea_table1)\n",
    "    },\n",
    "    coords={\n",
    "        \"time\": pd.date_range(start='1975-01-01', end='2020-01-01', freq='5YS'),\n",
    "        \"latitude\": glct_trans.coords[\"latitude\"].to_numpy(),\n",
    "        \"longitude\": glct_trans.coords[\"longitude\"].to_numpy()\n",
    "    })\n",
    "table1_netcdf"
   ]
  },
  {
   "cell_type": "code",
   "execution_count": null,
   "metadata": {},
   "outputs": [],
   "source": [
    "# tabel 2\n",
    "\n",
    "selisih_gfracarea_table2 = np.zeros((11, 2160, 4320), dtype=\"float32\")\n",
    "\n",
    "max_year = 10\n",
    "for i in range(max_year): #1970\n",
    "    selisih_gfracarea_table2[i+1] = np.where(glct_trans['GLCT_trans'].isel(time=i).values == \"agri\",\n",
    "     np.where(gbiomass_5min['GBIOMASS_new'].isel(time=i+1).values < 400,\n",
    "     np.where(gbiomass_5min['GBIOMASS_new'].isel(time=i).values > 400, 1, 0), 0), 0)"
   ]
  },
  {
   "cell_type": "code",
   "execution_count": null,
   "metadata": {},
   "outputs": [],
   "source": [
    "table2_netcdf = xarray.Dataset({\n",
    "        \"gfrac_selisih\":([\"time\", \"latitude\", \"longitude\"], selisih_gfracarea_table2)\n",
    "    },\n",
    "    coords={\n",
    "        \"time\": pd.date_range(start='1970-01-01', end='2020-01-01', freq='5YS'),\n",
    "        \"latitude\": glct_trans.coords[\"latitude\"].to_numpy(),\n",
    "        \"longitude\": glct_trans.coords[\"longitude\"].to_numpy(),\n",
    "    })\n",
    "table2_netcdf"
   ]
  },
  {
   "cell_type": "code",
   "execution_count": null,
   "metadata": {},
   "outputs": [],
   "source": [
    "data = table1_netcdf + table2_netcdf.isel(time=slice(1, 11))\n",
    "data"
   ]
  },
  {
   "cell_type": "code",
   "execution_count": null,
   "metadata": {},
   "outputs": [],
   "source": [
    "x = [-51.706, -55.974643, 101.457, 109.38, -96.6289, 48.966]\n",
    "y = [-22.698, -21.208333, 31.4420, -7.11, 18.549639, -18.07]\n",
    "\n",
    "data.sel(latitude=[0], longitude=[0]).to_dataframe()"
   ]
  }
 ],
 "metadata": {
  "language_info": {
   "name": "python"
  }
 },
 "nbformat": 4,
 "nbformat_minor": 2
}
