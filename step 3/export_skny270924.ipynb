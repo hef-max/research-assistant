{
 "cells": [
  {
   "cell_type": "code",
   "execution_count": 1,
   "metadata": {},
   "outputs": [],
   "source": [
    "import numpy as np\n",
    "import xarray as xr\n",
    "import pandas as pd\n",
    "from functools import reduce"
   ]
  },
  {
   "cell_type": "code",
   "execution_count": 2,
   "metadata": {},
   "outputs": [],
   "source": [
    "glct = xr.open_dataset(\"D:/kerja/asisten riset/vol/milkunC/achaidir/IMAGE PBL/SSP2/GLCT_trans.nc\", engine=\"netcdf4\")\n",
    "garea = xr.open_dataset(\"D:/kerja/asisten riset/vol/milkunarc/cadlan/Analysis1_slidingwindows/GAREA.NC\", engine=\"netcdf4\")\n",
    "df_sankey = pd.read_excel(\"D:/kerja/asisten riset/vol/milkunC/achaidir/FAO/Konsep Sankey Diagram.xlsx\", sheet_name=\"color\")\n",
    "df_additional = pd.read_excel(\"D:/kerja/asisten riset/vol/milkunC/achaidir/IMAGE PBL/SSP2/GLCT_sankey.xlsx\", sheet_name=\"sankey2\") "
   ]
  },
  {
   "cell_type": "code",
   "execution_count": null,
   "metadata": {},
   "outputs": [],
   "source": [
    "df_sankey['color'] = '#' + df_sankey['color'].astype(str)\n",
    "df_sankey.head()"
   ]
  },
  {
   "cell_type": "code",
   "execution_count": 4,
   "metadata": {},
   "outputs": [],
   "source": [
    "garea_2020 = garea.isel(time=slice(0, 11)) #slice 1975 to 2100\n",
    "garea_ha = np.nan_to_num(np.multiply(garea_2020['GAREA'].to_numpy(), 100))\n",
    "\n",
    "glct_2020 = glct.isel(time=slice(0, 11))"
   ]
  },
  {
   "cell_type": "code",
   "execution_count": null,
   "metadata": {},
   "outputs": [],
   "source": [
    "garea_ha_netcdf = xr.Dataset({\n",
    "        \"GAREA_ha\":([\"time\", \"latitude\", \"longitude\"], garea_ha)\n",
    "    },\n",
    "    coords={\n",
    "        \"time\": pd.date_range(start='1970-01-01', end='2020-01-01', freq='5YS'),\n",
    "        \"latitude\": glct.coords[\"latitude\"].to_numpy(),\n",
    "        \"longitude\": glct.coords[\"longitude\"].to_numpy(),\n",
    "    })\n",
    "garea_ha_netcdf"
   ]
  },
  {
   "cell_type": "code",
   "execution_count": 7,
   "metadata": {},
   "outputs": [],
   "source": [
    "df = glct_2020['GLCT_trans'].isel(time=0).to_dataframe()\n",
    "df1 = glct_2020['GLCT_trans'].isel(time=1).to_dataframe()\n",
    "df2 = glct_2020['GLCT_trans'].isel(time=2).to_dataframe()\n",
    "df3 = glct_2020['GLCT_trans'].isel(time=3).to_dataframe()\n",
    "df4 = glct_2020['GLCT_trans'].isel(time=4).to_dataframe()\n",
    "df5 = glct_2020['GLCT_trans'].isel(time=5).to_dataframe()\n",
    "df6 = glct_2020['GLCT_trans'].isel(time=6).to_dataframe()\n",
    "df7 = glct_2020['GLCT_trans'].isel(time=7).to_dataframe()\n",
    "df8 = glct_2020['GLCT_trans'].isel(time=8).to_dataframe()\n",
    "df9 = glct_2020['GLCT_trans'].isel(time=9).to_dataframe()\n",
    "df10 = glct_2020['GLCT_trans'].isel(time=10).to_dataframe()"
   ]
  },
  {
   "cell_type": "code",
   "execution_count": 11,
   "metadata": {},
   "outputs": [],
   "source": [
    "df = df[df['GLCT_trans'] != 'ocean']\n",
    "df1 = df1[df1['GLCT_trans'] != 'ocean']\n",
    "df2 = df2[df2['GLCT_trans'] != 'ocean']\n",
    "df3 = df3[df3['GLCT_trans'] != 'ocean']\n",
    "df4 = df4[df4['GLCT_trans'] != 'ocean']\n",
    "df5 = df5[df5['GLCT_trans'] != 'ocean']\n",
    "df6 = df6[df6['GLCT_trans'] != 'ocean']\n",
    "df7 = df7[df7['GLCT_trans'] != 'ocean']\n",
    "df8 = df8[df8['GLCT_trans'] != 'ocean']\n",
    "df9 = df9[df9['GLCT_trans'] != 'ocean']\n",
    "df10 = df10[df10['GLCT_trans'] != 'ocean']"
   ]
  },
  {
   "cell_type": "code",
   "execution_count": 9,
   "metadata": {},
   "outputs": [],
   "source": [
    "df_value = garea_ha_netcdf['GAREA_ha'].isel(time=0).to_dataframe()\n",
    "df_value1 = garea_ha_netcdf['GAREA_ha'].isel(time=1).to_dataframe()\n",
    "df_value2 = garea_ha_netcdf['GAREA_ha'].isel(time=2).to_dataframe()\n",
    "df_value3 = garea_ha_netcdf['GAREA_ha'].isel(time=3).to_dataframe()\n",
    "df_value4 = garea_ha_netcdf['GAREA_ha'].isel(time=4).to_dataframe()\n",
    "df_value5 = garea_ha_netcdf['GAREA_ha'].isel(time=5).to_dataframe()\n",
    "df_value6 = garea_ha_netcdf['GAREA_ha'].isel(time=6).to_dataframe()\n",
    "df_value7 = garea_ha_netcdf['GAREA_ha'].isel(time=7).to_dataframe()\n",
    "df_value8 = garea_ha_netcdf['GAREA_ha'].isel(time=8).to_dataframe()\n",
    "df_value9 = garea_ha_netcdf['GAREA_ha'].isel(time=9).to_dataframe()\n",
    "df_value10 = garea_ha_netcdf['GAREA_ha'].isel(time=10).to_dataframe()"
   ]
  },
  {
   "cell_type": "code",
   "execution_count": 12,
   "metadata": {},
   "outputs": [],
   "source": [
    "table = df.pivot_table(index=['time', 'longitude', 'latitude'], values='GLCT_trans', aggfunc='sum') \n",
    "table1 = df1.pivot_table(index=['time', 'longitude', 'latitude'], values='GLCT_trans', aggfunc='sum') \n",
    "table2 = df2.pivot_table(index=['time', 'longitude', 'latitude'], values='GLCT_trans', aggfunc='sum') \n",
    "table3 = df3.pivot_table(index=['time', 'longitude', 'latitude'], values='GLCT_trans', aggfunc='sum') \n",
    "table4 = df4.pivot_table(index=['time', 'longitude', 'latitude'], values='GLCT_trans', aggfunc='sum') \n",
    "table5 = df5.pivot_table(index=['time', 'longitude', 'latitude'], values='GLCT_trans', aggfunc='sum') \n",
    "table6 = df6.pivot_table(index=['time', 'longitude', 'latitude'], values='GLCT_trans', aggfunc='sum') \n",
    "table7 = df7.pivot_table(index=['time', 'longitude', 'latitude'], values='GLCT_trans', aggfunc='sum') \n",
    "table8 = df8.pivot_table(index=['time', 'longitude', 'latitude'], values='GLCT_trans', aggfunc='sum') \n",
    "table9 = df9.pivot_table(index=['time', 'longitude', 'latitude'], values='GLCT_trans', aggfunc='sum')\n",
    "table10 = df10.pivot_table(index=['time', 'longitude', 'latitude'], values='GLCT_trans', aggfunc='sum')"
   ]
  },
  {
   "cell_type": "code",
   "execution_count": 14,
   "metadata": {},
   "outputs": [],
   "source": [
    "table_value = df_value.pivot_table(index=['time', 'longitude', 'latitude'], values='GAREA_ha', aggfunc='sum') \n",
    "table_value1 = df_value1.pivot_table(index=['time', 'longitude', 'latitude'], values='GAREA_ha', aggfunc='sum') \n",
    "table_value2 = df_value2.pivot_table(index=['time', 'longitude', 'latitude'], values='GAREA_ha', aggfunc='sum') \n",
    "table_value3 = df_value3.pivot_table(index=['time', 'longitude', 'latitude'], values='GAREA_ha', aggfunc='sum') \n",
    "table_value4 = df_value4.pivot_table(index=['time', 'longitude', 'latitude'], values='GAREA_ha', aggfunc='sum') \n",
    "table_value5 = df_value5.pivot_table(index=['time', 'longitude', 'latitude'], values='GAREA_ha', aggfunc='sum') \n",
    "table_value6 = df_value6.pivot_table(index=['time', 'longitude', 'latitude'], values='GAREA_ha', aggfunc='sum') \n",
    "table_value7 = df_value7.pivot_table(index=['time', 'longitude', 'latitude'], values='GAREA_ha', aggfunc='sum') \n",
    "table_value8 = df_value8.pivot_table(index=['time', 'longitude', 'latitude'], values='GAREA_ha', aggfunc='sum') \n",
    "table_value9 = df_value9.pivot_table(index=['time', 'longitude', 'latitude'], values='GAREA_ha', aggfunc='sum')\n",
    "table_value10 = df_value10.pivot_table(index=['time', 'longitude', 'latitude'], values='GAREA_ha', aggfunc='sum')"
   ]
  },
  {
   "cell_type": "code",
   "execution_count": 15,
   "metadata": {},
   "outputs": [],
   "source": [
    "table_index = table.reset_index()\n",
    "table1_index = table1.reset_index()\n",
    "table2_index = table2.reset_index()\n",
    "table3_index = table3.reset_index()\n",
    "table4_index = table4.reset_index()\n",
    "table5_index = table5.reset_index()\n",
    "table6_index = table6.reset_index()\n",
    "table7_index = table7.reset_index()\n",
    "table8_index = table8.reset_index()\n",
    "table9_index = table9.reset_index()\n",
    "table10_index = table10.reset_index()"
   ]
  },
  {
   "cell_type": "code",
   "execution_count": 16,
   "metadata": {},
   "outputs": [],
   "source": [
    "table_value = table_value.reset_index()\n",
    "table1_value = table_value1.reset_index()\n",
    "table2_value = table_value2.reset_index()\n",
    "table3_value = table_value3.reset_index()\n",
    "table4_value = table_value4.reset_index()\n",
    "table5_value = table_value5.reset_index()\n",
    "table6_value = table_value6.reset_index()\n",
    "table7_value = table_value7.reset_index()\n",
    "table8_value = table_value8.reset_index()\n",
    "table9_value = table_value9.reset_index()\n",
    "table10_value = table_value10.reset_index()"
   ]
  },
  {
   "cell_type": "code",
   "execution_count": 17,
   "metadata": {},
   "outputs": [],
   "source": [
    "table_merge = pd.merge(left=table_index, right=table_value, left_on=['time', 'longitude', 'latitude'], right_on=['time', 'longitude', 'latitude'])\n",
    "table1_merge = pd.merge(left=table1_index, right=table1_value, left_on=['time', 'longitude', 'latitude'], right_on=['time', 'longitude', 'latitude'])\n",
    "table2_merge = pd.merge(left=table2_index, right=table2_value, left_on=['time', 'longitude', 'latitude'], right_on=['time', 'longitude', 'latitude'])\n",
    "table3_merge = pd.merge(left=table3_index, right=table3_value, left_on=['time', 'longitude', 'latitude'], right_on=['time', 'longitude', 'latitude'])\n",
    "table4_merge = pd.merge(left=table4_index, right=table4_value, left_on=['time', 'longitude', 'latitude'], right_on=['time', 'longitude', 'latitude'])\n",
    "table5_merge = pd.merge(left=table5_index, right=table5_value, left_on=['time', 'longitude', 'latitude'], right_on=['time', 'longitude', 'latitude'])\n",
    "table6_merge = pd.merge(left=table6_index, right=table6_value, left_on=['time', 'longitude', 'latitude'], right_on=['time', 'longitude', 'latitude'])\n",
    "table7_merge = pd.merge(left=table7_index, right=table7_value, left_on=['time', 'longitude', 'latitude'], right_on=['time', 'longitude', 'latitude'])\n",
    "table8_merge = pd.merge(left=table8_index, right=table8_value, left_on=['time', 'longitude', 'latitude'], right_on=['time', 'longitude', 'latitude'])\n",
    "table9_merge = pd.merge(left=table9_index, right=table9_value, left_on=['time', 'longitude', 'latitude'], right_on=['time', 'longitude', 'latitude'])\n",
    "table10_merge = pd.merge(left=table10_index, right=table10_value, left_on=['time', 'longitude', 'latitude'], right_on=['time', 'longitude', 'latitude'])"
   ]
  },
  {
   "cell_type": "code",
   "execution_count": 43,
   "metadata": {},
   "outputs": [],
   "source": [
    "table_color = pd.merge(left=table_merge, right=df_sankey, left_on=['GLCT_trans'], right_on=['GLCT_trans'])\n",
    "table1_color = pd.merge(left=table1_merge, right=df_sankey, left_on=['GLCT_trans'], right_on=['GLCT_trans'])\n",
    "table2_color = pd.merge(left=table2_merge, right=df_sankey, left_on=['GLCT_trans'], right_on=['GLCT_trans'])\n",
    "table3_color = pd.merge(left=table3_merge, right=df_sankey, left_on=['GLCT_trans'], right_on=['GLCT_trans'])\n",
    "table4_color = pd.merge(left=table4_merge, right=df_sankey, left_on=['GLCT_trans'], right_on=['GLCT_trans'])\n",
    "table5_color = pd.merge(left=table5_merge, right=df_sankey, left_on=['GLCT_trans'], right_on=['GLCT_trans'])\n",
    "table6_color = pd.merge(left=table6_merge, right=df_sankey, left_on=['GLCT_trans'], right_on=['GLCT_trans'])\n",
    "table7_color = pd.merge(left=table7_merge, right=df_sankey, left_on=['GLCT_trans'], right_on=['GLCT_trans'])\n",
    "table8_color = pd.merge(left=table8_merge, right=df_sankey, left_on=['GLCT_trans'], right_on=['GLCT_trans'])\n",
    "table9_color = pd.merge(left=table9_merge, right=df_sankey, left_on=['GLCT_trans'], right_on=['GLCT_trans'])\n",
    "table10_color = pd.merge(left=table10_merge, right=df_sankey, left_on=['GLCT_trans'], right_on=['GLCT_trans'])"
   ]
  },
  {
   "cell_type": "code",
   "execution_count": 44,
   "metadata": {},
   "outputs": [],
   "source": [
    "data = pd.to_datetime(table_color['time'].values, format='%d/%m/%Y %H.%M.%S')\n",
    "table_color['time'] = data.year\n",
    "\n",
    "data1 = pd.to_datetime(table1_color['time'].values, format='%d/%m/%Y %H.%M.%S')\n",
    "table1_color['time'] = data1.year\n",
    "\n",
    "data2 = pd.to_datetime(table2_color['time'].values, format='%d/%m/%Y %H.%M.%S')\n",
    "table2_color['time'] = data2.year\n",
    "\n",
    "data3 = pd.to_datetime(table3_color['time'].values, format='%d/%m/%Y %H.%M.%S')\n",
    "table3_color['time'] = data3.year\n",
    "\n",
    "data4 = pd.to_datetime(table4_color['time'].values, format='%d/%m/%Y %H.%M.%S')\n",
    "table4_color['time'] = data4.year\n",
    "\n",
    "data5 = pd.to_datetime(table5_color['time'].values, format='%d/%m/%Y %H.%M.%S')\n",
    "table5_color['time'] = data5.year\n",
    "\n",
    "data6 = pd.to_datetime(table6_color['time'].values, format='%d/%m/%Y %H.%M.%S')\n",
    "table6_color['time'] = data6.year\n",
    "\n",
    "data7 = pd.to_datetime(table7_color['time'].values, format='%d/%m/%Y %H.%M.%S')\n",
    "table7_color['time'] = data7.year\n",
    "\n",
    "data8 = pd.to_datetime(table8_color['time'].values, format='%d/%m/%Y %H.%M.%S')\n",
    "table8_color['time'] = data8.year\n",
    "\n",
    "data9 = pd.to_datetime(table9_color['time'].values, format='%d/%m/%Y %H.%M.%S')\n",
    "table9_color['time'] = data9.year\n",
    "\n",
    "data10 = pd.to_datetime(table10_color['time'].values, format='%d/%m/%Y %H.%M.%S')\n",
    "table10_color['time'] = data10.year"
   ]
  },
  {
   "cell_type": "code",
   "execution_count": 46,
   "metadata": {},
   "outputs": [],
   "source": [
    "table_color['GLCT_trans'] = table_color['GLCT_trans'] + table_color['time'].astype(str)\n",
    "table1_color['GLCT_trans'] = table1_color['GLCT_trans'] + table1_color['time'].astype(str)\n",
    "table2_color['GLCT_trans'] = table2_color['GLCT_trans'] + table2_color['time'].astype(str)\n",
    "table3_color['GLCT_trans'] = table3_color['GLCT_trans'] + table3_color['time'].astype(str)\n",
    "table4_color['GLCT_trans'] = table4_color['GLCT_trans'] + table4_color['time'].astype(str)\n",
    "table5_color['GLCT_trans'] = table5_color['GLCT_trans'] + table5_color['time'].astype(str)\n",
    "table6_color['GLCT_trans'] = table6_color['GLCT_trans'] + table6_color['time'].astype(str)\n",
    "table7_color['GLCT_trans'] = table7_color['GLCT_trans'] + table7_color['time'].astype(str)\n",
    "table8_color['GLCT_trans'] = table8_color['GLCT_trans'] + table8_color['time'].astype(str)\n",
    "table9_color['GLCT_trans'] = table9_color['GLCT_trans'] + table9_color['time'].astype(str)\n",
    "table10_color['GLCT_trans'] = table10_color['GLCT_trans'] + table10_color['time'].astype(str)"
   ]
  },
  {
   "cell_type": "code",
   "execution_count": 49,
   "metadata": {},
   "outputs": [],
   "source": [
    "table_columns = table_color.drop(columns=['time'])\n",
    "table1_columns = table1_color.drop(columns=['time'])\n",
    "table2_columns = table2_color.drop(columns=['time'])\n",
    "table3_columns = table3_color.drop(columns=['time'])\n",
    "table4_columns = table4_color.drop(columns=['time'])\n",
    "table5_columns = table5_color.drop(columns=['time'])\n",
    "table6_columns = table6_color.drop(columns=['time'])\n",
    "table7_columns = table7_color.drop(columns=['time'])\n",
    "table8_columns = table8_color.drop(columns=['time'])\n",
    "table9_columns = table9_color.drop(columns=['time'])\n",
    "table10_columns = table10_color.drop(columns=['time'])"
   ]
  },
  {
   "cell_type": "code",
   "execution_count": 52,
   "metadata": {},
   "outputs": [],
   "source": [
    "table_columns = table_columns.rename(columns={'GLCT_trans' : 'GLCT1970', \"color\" : \"color1970\", \"GAREA_ha\": \"GAREA1970\"})\n",
    "table1_columns = table1_columns.rename(columns={'GLCT_trans' : 'GLCT1975', \"color\" : \"color1975\", \"GAREA_ha\": \"GAREA1975\"})\n",
    "table2_columns = table2_columns.rename(columns={'GLCT_trans' : 'GLCT1980', \"color\" : \"color1980\", \"GAREA_ha\": \"GAREA1980\"})\n",
    "table3_columns = table3_columns.rename(columns={'GLCT_trans' : 'GLCT1985', \"color\" : \"color1985\", \"GAREA_ha\": \"GAREA1985\"})\n",
    "table4_columns = table4_columns.rename(columns={'GLCT_trans' : 'GLCT1990', \"color\" : \"color1990\", \"GAREA_ha\": \"GAREA1990\"})\n",
    "table5_columns = table5_columns.rename(columns={'GLCT_trans' : 'GLCT1995', \"color\" : \"color1995\", \"GAREA_ha\": \"GAREA1995\"})\n",
    "table6_columns = table6_columns.rename(columns={'GLCT_trans' : 'GLCT2000', \"color\" : \"color2000\", \"GAREA_ha\": \"GAREA2000\"})\n",
    "table7_columns = table7_columns.rename(columns={'GLCT_trans' : 'GLCT2005', \"color\" : \"color2005\", \"GAREA_ha\": \"GAREA2005\"})\n",
    "table8_columns = table8_columns.rename(columns={'GLCT_trans' : 'GLCT2010', \"color\" : \"color2010\", \"GAREA_ha\": \"GAREA2010\"})\n",
    "table9_columns = table9_columns.rename(columns={'GLCT_trans' : 'GLCT2015', \"color\" : \"color2015\", \"GAREA_ha\": \"GAREA2015\"})\n",
    "table10_columns = table10_columns.rename(columns={'GLCT_trans' : 'GLCT2020', \"color\" : \"color2020\", \"GAREA_ha\": \"GAREA2020\"})"
   ]
  },
  {
   "cell_type": "code",
   "execution_count": null,
   "metadata": {},
   "outputs": [],
   "source": [
    "frames = [table_columns, table1_columns, table2_columns, table3_columns, table4_columns, table5_columns, table6_columns, table7_columns, table8_columns, table9_columns, table10_columns]\n",
    "\n",
    "merged_df = reduce(lambda left, right: pd.merge(left, right, on=['longitude','latitude'], how='outer'), frames)\n",
    "merged_df = merged_df.replace([np.inf, -np.inf], np.nan)\n",
    "merged_df = merged_df.fillna(0)\n",
    "merged_df"
   ]
  },
  {
   "cell_type": "code",
   "execution_count": null,
   "metadata": {},
   "outputs": [],
   "source": [
    "merged_df_columns = merged_df.drop(columns=['longitude','latitude'])\n",
    "merged_df_columns.head()"
   ]
  },
  {
   "cell_type": "code",
   "execution_count": 57,
   "metadata": {},
   "outputs": [],
   "source": [
    "merged_df_columns.to_csv(\"D:/kerja/asisten riset/vol/milkunC/achaidir/IMAGE PBL/SSP2/sankey_garea_finall.csv\", index=False)"
   ]
  },
  {
   "cell_type": "code",
   "execution_count": 1,
   "metadata": {},
   "outputs": [],
   "source": [
    "import pandas as pd\n",
    "import numpy as np\n",
    "import matplotlib.pyplot as plt\n",
    "\n",
    "df_sankey_garea = pd.read_csv(\"D:/kerja/asisten riset/vol/milkunC/achaidir/IMAGE PBL/SSP2/sankey_garea_finall.csv\")"
   ]
  },
  {
   "cell_type": "code",
   "execution_count": 2,
   "metadata": {},
   "outputs": [
    {
     "data": {
      "text/plain": [
       "GLCT1970\n",
       "agri1970     488178\n",
       "bore1970     391099\n",
       "dsrt1970     210087\n",
       "grass1970    161629\n",
       "tund1970     155932\n",
       "svna1970     117929\n",
       "stepp1970    102992\n",
       "ice1970      102982\n",
       "trof1970      98061\n",
       "trow1970      73385\n",
       "tmfo1970      62572\n",
       "tuwd1970      57713\n",
       "ccfo1970      56441\n",
       "scrb1970      46061\n",
       "wmfo1970      44303\n",
       "tdfo1970      36049\n",
       "rftm1970      10416\n",
       "Name: count, dtype: int64"
      ]
     },
     "execution_count": 2,
     "metadata": {},
     "output_type": "execute_result"
    }
   ],
   "source": [
    "df_sankey_garea['GLCT1970'].value_counts()"
   ]
  },
  {
   "cell_type": "code",
   "execution_count": 15,
   "metadata": {},
   "outputs": [
    {
     "data": {
      "text/plain": [
       "GLCT1975\n",
       "agri1975     496657\n",
       "bore1975     389056\n",
       "dsrt1975     210358\n",
       "grass1975    160426\n",
       "tund1975     155963\n",
       "svna1975     115070\n",
       "ice1975      102982\n",
       "stepp1975    101806\n",
       "trof1975      96710\n",
       "trow1975      71360\n",
       "tmfo1975      59079\n",
       "tuwd1975      57649\n",
       "ccfo1975      55370\n",
       "scrb1975      45645\n",
       "wmfo1975      41840\n",
       "tdfo1975      33328\n",
       "rftm1975      20469\n",
       "rfab1975       1958\n",
       "biof1975        103\n",
       "Name: count, dtype: int64"
      ]
     },
     "execution_count": 15,
     "metadata": {},
     "output_type": "execute_result"
    }
   ],
   "source": [
    "df_sankey_garea['GLCT1975'].value_counts()"
   ]
  },
  {
   "cell_type": "code",
   "execution_count": 48,
   "metadata": {},
   "outputs": [],
   "source": [
    "# Define the list of years you want to select\n",
    "tahun = [1970, 1975]\n",
    "\n",
    "columns_to_select = []\n",
    "columns_groupby = []\n",
    "\n",
    "for t in tahun:\n",
    "    columns_to_select.extend([f'GLCT{t}', f'GAREA{t}', f'color{t}'])\n",
    "    columns_groupby.extend([f'GLCT{t}', f'color{t}'])\n",
    "\n",
    "df_copy = df_sankey_garea.copy()\n",
    "df_selected = df_copy[columns_to_select]"
   ]
  },
  {
   "cell_type": "code",
   "execution_count": 49,
   "metadata": {},
   "outputs": [
    {
     "data": {
      "text/html": [
       "<div>\n",
       "<style scoped>\n",
       "    .dataframe tbody tr th:only-of-type {\n",
       "        vertical-align: middle;\n",
       "    }\n",
       "\n",
       "    .dataframe tbody tr th {\n",
       "        vertical-align: top;\n",
       "    }\n",
       "\n",
       "    .dataframe thead th {\n",
       "        text-align: right;\n",
       "    }\n",
       "</style>\n",
       "<table border=\"1\" class=\"dataframe\">\n",
       "  <thead>\n",
       "    <tr style=\"text-align: right;\">\n",
       "      <th></th>\n",
       "      <th>GLCT1970</th>\n",
       "      <th>GAREA1970</th>\n",
       "      <th>color1970</th>\n",
       "      <th>GLCT1975</th>\n",
       "      <th>GAREA1975</th>\n",
       "      <th>color1975</th>\n",
       "    </tr>\n",
       "  </thead>\n",
       "  <tbody>\n",
       "    <tr>\n",
       "      <th>298419</th>\n",
       "      <td>trof1970</td>\n",
       "      <td>8288.8900</td>\n",
       "      <td>#799351</td>\n",
       "      <td>agri1975</td>\n",
       "      <td>8288.8900</td>\n",
       "      <td>#F3CA52</td>\n",
       "    </tr>\n",
       "    <tr>\n",
       "      <th>301099</th>\n",
       "      <td>trof1970</td>\n",
       "      <td>8282.3400</td>\n",
       "      <td>#799351</td>\n",
       "      <td>agri1975</td>\n",
       "      <td>8282.3400</td>\n",
       "      <td>#F3CA52</td>\n",
       "    </tr>\n",
       "    <tr>\n",
       "      <th>306377</th>\n",
       "      <td>trof1970</td>\n",
       "      <td>8279.0300</td>\n",
       "      <td>#799351</td>\n",
       "      <td>agri1975</td>\n",
       "      <td>8279.0300</td>\n",
       "      <td>#F3CA52</td>\n",
       "    </tr>\n",
       "    <tr>\n",
       "      <th>306395</th>\n",
       "      <td>trof1970</td>\n",
       "      <td>8216.6100</td>\n",
       "      <td>#799351</td>\n",
       "      <td>agri1975</td>\n",
       "      <td>8216.6100</td>\n",
       "      <td>#F3CA52</td>\n",
       "    </tr>\n",
       "    <tr>\n",
       "      <th>307453</th>\n",
       "      <td>trof1970</td>\n",
       "      <td>8234.5100</td>\n",
       "      <td>#799351</td>\n",
       "      <td>agri1975</td>\n",
       "      <td>8234.5100</td>\n",
       "      <td>#F3CA52</td>\n",
       "    </tr>\n",
       "    <tr>\n",
       "      <th>...</th>\n",
       "      <td>...</td>\n",
       "      <td>...</td>\n",
       "      <td>...</td>\n",
       "      <td>...</td>\n",
       "      <td>...</td>\n",
       "      <td>...</td>\n",
       "    </tr>\n",
       "    <tr>\n",
       "      <th>2214405</th>\n",
       "      <td>trof1970</td>\n",
       "      <td>8171.8496</td>\n",
       "      <td>#799351</td>\n",
       "      <td>agri1975</td>\n",
       "      <td>8171.8496</td>\n",
       "      <td>#F3CA52</td>\n",
       "    </tr>\n",
       "    <tr>\n",
       "      <th>2214406</th>\n",
       "      <td>trof1970</td>\n",
       "      <td>8074.7200</td>\n",
       "      <td>#799351</td>\n",
       "      <td>agri1975</td>\n",
       "      <td>8074.7200</td>\n",
       "      <td>#F3CA52</td>\n",
       "    </tr>\n",
       "    <tr>\n",
       "      <th>2214407</th>\n",
       "      <td>trof1970</td>\n",
       "      <td>8179.4897</td>\n",
       "      <td>#799351</td>\n",
       "      <td>agri1975</td>\n",
       "      <td>8179.4897</td>\n",
       "      <td>#F3CA52</td>\n",
       "    </tr>\n",
       "    <tr>\n",
       "      <th>2214498</th>\n",
       "      <td>trof1970</td>\n",
       "      <td>639.8260</td>\n",
       "      <td>#799351</td>\n",
       "      <td>agri1975</td>\n",
       "      <td>639.8260</td>\n",
       "      <td>#F3CA52</td>\n",
       "    </tr>\n",
       "    <tr>\n",
       "      <th>2215221</th>\n",
       "      <td>trof1970</td>\n",
       "      <td>7446.2800</td>\n",
       "      <td>#799351</td>\n",
       "      <td>agri1975</td>\n",
       "      <td>7436.5225</td>\n",
       "      <td>#F3CA52</td>\n",
       "    </tr>\n",
       "  </tbody>\n",
       "</table>\n",
       "<p>761 rows × 6 columns</p>\n",
       "</div>"
      ],
      "text/plain": [
       "         GLCT1970  GAREA1970 color1970  GLCT1975  GAREA1975 color1975\n",
       "298419   trof1970  8288.8900   #799351  agri1975  8288.8900   #F3CA52\n",
       "301099   trof1970  8282.3400   #799351  agri1975  8282.3400   #F3CA52\n",
       "306377   trof1970  8279.0300   #799351  agri1975  8279.0300   #F3CA52\n",
       "306395   trof1970  8216.6100   #799351  agri1975  8216.6100   #F3CA52\n",
       "307453   trof1970  8234.5100   #799351  agri1975  8234.5100   #F3CA52\n",
       "...           ...        ...       ...       ...        ...       ...\n",
       "2214405  trof1970  8171.8496   #799351  agri1975  8171.8496   #F3CA52\n",
       "2214406  trof1970  8074.7200   #799351  agri1975  8074.7200   #F3CA52\n",
       "2214407  trof1970  8179.4897   #799351  agri1975  8179.4897   #F3CA52\n",
       "2214498  trof1970   639.8260   #799351  agri1975   639.8260   #F3CA52\n",
       "2215221  trof1970  7446.2800   #799351  agri1975  7436.5225   #F3CA52\n",
       "\n",
       "[761 rows x 6 columns]"
      ]
     },
     "execution_count": 49,
     "metadata": {},
     "output_type": "execute_result"
    }
   ],
   "source": [
    "df_validasi1 = df_selected.loc[\n",
    "    (df_selected['GLCT1970'] == 'trof1970') &\n",
    "    (df_selected['GLCT1975'] == 'agri1975')\n",
    "]\n",
    "df_validasi1"
   ]
  },
  {
   "cell_type": "code",
   "execution_count": 50,
   "metadata": {},
   "outputs": [
    {
     "data": {
      "text/html": [
       "<div>\n",
       "<style scoped>\n",
       "    .dataframe tbody tr th:only-of-type {\n",
       "        vertical-align: middle;\n",
       "    }\n",
       "\n",
       "    .dataframe tbody tr th {\n",
       "        vertical-align: top;\n",
       "    }\n",
       "\n",
       "    .dataframe thead th {\n",
       "        text-align: right;\n",
       "    }\n",
       "</style>\n",
       "<table border=\"1\" class=\"dataframe\">\n",
       "  <thead>\n",
       "    <tr style=\"text-align: right;\">\n",
       "      <th></th>\n",
       "      <th>GLCT1970</th>\n",
       "      <th>color1970</th>\n",
       "      <th>GLCT1975</th>\n",
       "      <th>color1975</th>\n",
       "      <th>GAREA1970</th>\n",
       "      <th>GAREA1975</th>\n",
       "    </tr>\n",
       "  </thead>\n",
       "  <tbody>\n",
       "    <tr>\n",
       "      <th>0</th>\n",
       "      <td>agri1970</td>\n",
       "      <td>#F3CA52</td>\n",
       "      <td>agri1975</td>\n",
       "      <td>#F3CA52</td>\n",
       "      <td>3.312977e+09</td>\n",
       "      <td>3.311249e+09</td>\n",
       "    </tr>\n",
       "    <tr>\n",
       "      <th>1</th>\n",
       "      <td>agri1970</td>\n",
       "      <td>#F3CA52</td>\n",
       "      <td>biof1975</td>\n",
       "      <td>#F2613F</td>\n",
       "      <td>1.240002e+04</td>\n",
       "      <td>1.220063e+04</td>\n",
       "    </tr>\n",
       "    <tr>\n",
       "      <th>2</th>\n",
       "      <td>agri1970</td>\n",
       "      <td>#F3CA52</td>\n",
       "      <td>dsrt1975</td>\n",
       "      <td>#EE4E4E</td>\n",
       "      <td>6.875888e+04</td>\n",
       "      <td>6.852963e+04</td>\n",
       "    </tr>\n",
       "    <tr>\n",
       "      <th>3</th>\n",
       "      <td>agri1970</td>\n",
       "      <td>#F3CA52</td>\n",
       "      <td>rfab1975</td>\n",
       "      <td>#254336</td>\n",
       "      <td>7.685841e+06</td>\n",
       "      <td>7.677331e+06</td>\n",
       "    </tr>\n",
       "    <tr>\n",
       "      <th>4</th>\n",
       "      <td>agri1970</td>\n",
       "      <td>#F3CA52</td>\n",
       "      <td>scrb1975</td>\n",
       "      <td>#7AB2B2</td>\n",
       "      <td>5.738376e+06</td>\n",
       "      <td>5.736656e+06</td>\n",
       "    </tr>\n",
       "    <tr>\n",
       "      <th>5</th>\n",
       "      <td>agri1970</td>\n",
       "      <td>#F3CA52</td>\n",
       "      <td>stepp1975</td>\n",
       "      <td>#FFFDB5</td>\n",
       "      <td>3.585408e+06</td>\n",
       "      <td>3.583936e+06</td>\n",
       "    </tr>\n",
       "    <tr>\n",
       "      <th>6</th>\n",
       "      <td>agri1970</td>\n",
       "      <td>#F3CA52</td>\n",
       "      <td>svna1975</td>\n",
       "      <td>#D10363</td>\n",
       "      <td>2.976567e+05</td>\n",
       "      <td>2.976432e+05</td>\n",
       "    </tr>\n",
       "    <tr>\n",
       "      <th>7</th>\n",
       "      <td>agri1970</td>\n",
       "      <td>#F3CA52</td>\n",
       "      <td>tund1975</td>\n",
       "      <td>#9B3922</td>\n",
       "      <td>2.436157e+05</td>\n",
       "      <td>2.436157e+05</td>\n",
       "    </tr>\n",
       "    <tr>\n",
       "      <th>8</th>\n",
       "      <td>agri1970</td>\n",
       "      <td>#F3CA52</td>\n",
       "      <td>tuwd1975</td>\n",
       "      <td>#0C0C0C</td>\n",
       "      <td>1.705352e+05</td>\n",
       "      <td>1.705352e+05</td>\n",
       "    </tr>\n",
       "    <tr>\n",
       "      <th>9</th>\n",
       "      <td>bore1970</td>\n",
       "      <td>#51829B</td>\n",
       "      <td>agri1975</td>\n",
       "      <td>#F3CA52</td>\n",
       "      <td>3.936980e+06</td>\n",
       "      <td>3.940310e+06</td>\n",
       "    </tr>\n",
       "    <tr>\n",
       "      <th>10</th>\n",
       "      <td>bore1970</td>\n",
       "      <td>#51829B</td>\n",
       "      <td>bore1975</td>\n",
       "      <td>#51829B</td>\n",
       "      <td>1.581006e+09</td>\n",
       "      <td>1.580983e+09</td>\n",
       "    </tr>\n",
       "    <tr>\n",
       "      <th>11</th>\n",
       "      <td>bore1970</td>\n",
       "      <td>#51829B</td>\n",
       "      <td>rftm1975</td>\n",
       "      <td>#6B8A7A</td>\n",
       "      <td>7.365335e+06</td>\n",
       "      <td>7.364224e+06</td>\n",
       "    </tr>\n",
       "    <tr>\n",
       "      <th>12</th>\n",
       "      <td>ccfo1970</td>\n",
       "      <td>#344C64</td>\n",
       "      <td>agri1975</td>\n",
       "      <td>#F3CA52</td>\n",
       "      <td>1.471954e+06</td>\n",
       "      <td>1.495226e+06</td>\n",
       "    </tr>\n",
       "    <tr>\n",
       "      <th>13</th>\n",
       "      <td>ccfo1970</td>\n",
       "      <td>#344C64</td>\n",
       "      <td>ccfo1975</td>\n",
       "      <td>#344C64</td>\n",
       "      <td>2.571116e+08</td>\n",
       "      <td>2.570945e+08</td>\n",
       "    </tr>\n",
       "    <tr>\n",
       "      <th>14</th>\n",
       "      <td>ccfo1970</td>\n",
       "      <td>#344C64</td>\n",
       "      <td>rftm1975</td>\n",
       "      <td>#6B8A7A</td>\n",
       "      <td>3.764396e+06</td>\n",
       "      <td>3.762613e+06</td>\n",
       "    </tr>\n",
       "    <tr>\n",
       "      <th>15</th>\n",
       "      <td>dsrt1970</td>\n",
       "      <td>#EE4E4E</td>\n",
       "      <td>agri1975</td>\n",
       "      <td>#F3CA52</td>\n",
       "      <td>1.063592e+06</td>\n",
       "      <td>1.063530e+06</td>\n",
       "    </tr>\n",
       "    <tr>\n",
       "      <th>16</th>\n",
       "      <td>dsrt1970</td>\n",
       "      <td>#EE4E4E</td>\n",
       "      <td>dsrt1975</td>\n",
       "      <td>#EE4E4E</td>\n",
       "      <td>1.591307e+09</td>\n",
       "      <td>1.591247e+09</td>\n",
       "    </tr>\n",
       "    <tr>\n",
       "      <th>17</th>\n",
       "      <td>dsrt1970</td>\n",
       "      <td>#EE4E4E</td>\n",
       "      <td>grass1975</td>\n",
       "      <td>#DC5F00</td>\n",
       "      <td>2.145177e+04</td>\n",
       "      <td>2.145177e+04</td>\n",
       "    </tr>\n",
       "    <tr>\n",
       "      <th>18</th>\n",
       "      <td>grass1970</td>\n",
       "      <td>#DC5F00</td>\n",
       "      <td>dsrt1975</td>\n",
       "      <td>#EE4E4E</td>\n",
       "      <td>3.021422e+06</td>\n",
       "      <td>3.021333e+06</td>\n",
       "    </tr>\n",
       "    <tr>\n",
       "      <th>19</th>\n",
       "      <td>grass1970</td>\n",
       "      <td>#DC5F00</td>\n",
       "      <td>grass1975</td>\n",
       "      <td>#DC5F00</td>\n",
       "      <td>1.137516e+09</td>\n",
       "      <td>1.137452e+09</td>\n",
       "    </tr>\n",
       "    <tr>\n",
       "      <th>20</th>\n",
       "      <td>grass1970</td>\n",
       "      <td>#DC5F00</td>\n",
       "      <td>rfab1975</td>\n",
       "      <td>#254336</td>\n",
       "      <td>1.065622e+06</td>\n",
       "      <td>1.064351e+06</td>\n",
       "    </tr>\n",
       "    <tr>\n",
       "      <th>21</th>\n",
       "      <td>grass1970</td>\n",
       "      <td>#DC5F00</td>\n",
       "      <td>scrb1975</td>\n",
       "      <td>#7AB2B2</td>\n",
       "      <td>8.120896e+05</td>\n",
       "      <td>8.120469e+05</td>\n",
       "    </tr>\n",
       "    <tr>\n",
       "      <th>22</th>\n",
       "      <td>grass1970</td>\n",
       "      <td>#DC5F00</td>\n",
       "      <td>stepp1975</td>\n",
       "      <td>#FFFDB5</td>\n",
       "      <td>1.712483e+06</td>\n",
       "      <td>1.712282e+06</td>\n",
       "    </tr>\n",
       "    <tr>\n",
       "      <th>23</th>\n",
       "      <td>grass1970</td>\n",
       "      <td>#DC5F00</td>\n",
       "      <td>svna1975</td>\n",
       "      <td>#D10363</td>\n",
       "      <td>2.969468e+05</td>\n",
       "      <td>2.968313e+05</td>\n",
       "    </tr>\n",
       "    <tr>\n",
       "      <th>24</th>\n",
       "      <td>grass1970</td>\n",
       "      <td>#DC5F00</td>\n",
       "      <td>tund1975</td>\n",
       "      <td>#9B3922</td>\n",
       "      <td>6.754789e+05</td>\n",
       "      <td>6.754789e+05</td>\n",
       "    </tr>\n",
       "    <tr>\n",
       "      <th>25</th>\n",
       "      <td>ice1970</td>\n",
       "      <td>#EEEEEE</td>\n",
       "      <td>ice1975</td>\n",
       "      <td>#EEEEEE</td>\n",
       "      <td>2.580805e+07</td>\n",
       "      <td>2.580777e+07</td>\n",
       "    </tr>\n",
       "    <tr>\n",
       "      <th>26</th>\n",
       "      <td>rftm1970</td>\n",
       "      <td>#6B8A7A</td>\n",
       "      <td>agri1975</td>\n",
       "      <td>#F3CA52</td>\n",
       "      <td>1.048049e+06</td>\n",
       "      <td>1.028178e+06</td>\n",
       "    </tr>\n",
       "    <tr>\n",
       "      <th>27</th>\n",
       "      <td>rftm1970</td>\n",
       "      <td>#6B8A7A</td>\n",
       "      <td>rftm1975</td>\n",
       "      <td>#6B8A7A</td>\n",
       "      <td>5.636896e+07</td>\n",
       "      <td>5.623959e+07</td>\n",
       "    </tr>\n",
       "    <tr>\n",
       "      <th>28</th>\n",
       "      <td>rftm1970</td>\n",
       "      <td>#6B8A7A</td>\n",
       "      <td>trof1975</td>\n",
       "      <td>#799351</td>\n",
       "      <td>2.514241e+06</td>\n",
       "      <td>2.509276e+06</td>\n",
       "    </tr>\n",
       "    <tr>\n",
       "      <th>29</th>\n",
       "      <td>scrb1970</td>\n",
       "      <td>#7AB2B2</td>\n",
       "      <td>agri1975</td>\n",
       "      <td>#F3CA52</td>\n",
       "      <td>8.841916e+06</td>\n",
       "      <td>8.831695e+06</td>\n",
       "    </tr>\n",
       "    <tr>\n",
       "      <th>30</th>\n",
       "      <td>scrb1970</td>\n",
       "      <td>#7AB2B2</td>\n",
       "      <td>biof1975</td>\n",
       "      <td>#F2613F</td>\n",
       "      <td>2.145673e+05</td>\n",
       "      <td>2.134303e+05</td>\n",
       "    </tr>\n",
       "    <tr>\n",
       "      <th>31</th>\n",
       "      <td>scrb1970</td>\n",
       "      <td>#7AB2B2</td>\n",
       "      <td>grass1975</td>\n",
       "      <td>#DC5F00</td>\n",
       "      <td>7.184050e+03</td>\n",
       "      <td>7.184050e+03</td>\n",
       "    </tr>\n",
       "    <tr>\n",
       "      <th>32</th>\n",
       "      <td>scrb1970</td>\n",
       "      <td>#7AB2B2</td>\n",
       "      <td>scrb1975</td>\n",
       "      <td>#7AB2B2</td>\n",
       "      <td>3.434993e+08</td>\n",
       "      <td>3.433805e+08</td>\n",
       "    </tr>\n",
       "    <tr>\n",
       "      <th>33</th>\n",
       "      <td>stepp1970</td>\n",
       "      <td>#FFFDB5</td>\n",
       "      <td>agri1975</td>\n",
       "      <td>#F3CA52</td>\n",
       "      <td>1.270215e+07</td>\n",
       "      <td>1.269426e+07</td>\n",
       "    </tr>\n",
       "    <tr>\n",
       "      <th>34</th>\n",
       "      <td>stepp1970</td>\n",
       "      <td>#FFFDB5</td>\n",
       "      <td>grass1975</td>\n",
       "      <td>#DC5F00</td>\n",
       "      <td>9.548316e+04</td>\n",
       "      <td>9.548316e+04</td>\n",
       "    </tr>\n",
       "    <tr>\n",
       "      <th>35</th>\n",
       "      <td>stepp1970</td>\n",
       "      <td>#FFFDB5</td>\n",
       "      <td>stepp1975</td>\n",
       "      <td>#FFFDB5</td>\n",
       "      <td>6.660087e+08</td>\n",
       "      <td>6.659360e+08</td>\n",
       "    </tr>\n",
       "    <tr>\n",
       "      <th>36</th>\n",
       "      <td>svna1970</td>\n",
       "      <td>#D10363</td>\n",
       "      <td>agri1975</td>\n",
       "      <td>#F3CA52</td>\n",
       "      <td>2.314713e+07</td>\n",
       "      <td>2.314245e+07</td>\n",
       "    </tr>\n",
       "    <tr>\n",
       "      <th>37</th>\n",
       "      <td>svna1970</td>\n",
       "      <td>#D10363</td>\n",
       "      <td>biof1975</td>\n",
       "      <td>#F2613F</td>\n",
       "      <td>3.462401e+05</td>\n",
       "      <td>3.460396e+05</td>\n",
       "    </tr>\n",
       "    <tr>\n",
       "      <th>38</th>\n",
       "      <td>svna1970</td>\n",
       "      <td>#D10363</td>\n",
       "      <td>svna1975</td>\n",
       "      <td>#D10363</td>\n",
       "      <td>9.429937e+08</td>\n",
       "      <td>9.429253e+08</td>\n",
       "    </tr>\n",
       "    <tr>\n",
       "      <th>39</th>\n",
       "      <td>tdfo1970</td>\n",
       "      <td>#987070</td>\n",
       "      <td>agri1975</td>\n",
       "      <td>#F3CA52</td>\n",
       "      <td>3.266156e+06</td>\n",
       "      <td>3.256245e+06</td>\n",
       "    </tr>\n",
       "    <tr>\n",
       "      <th>40</th>\n",
       "      <td>tdfo1970</td>\n",
       "      <td>#987070</td>\n",
       "      <td>rftm1975</td>\n",
       "      <td>#6B8A7A</td>\n",
       "      <td>1.320549e+07</td>\n",
       "      <td>1.319697e+07</td>\n",
       "    </tr>\n",
       "    <tr>\n",
       "      <th>41</th>\n",
       "      <td>tdfo1970</td>\n",
       "      <td>#987070</td>\n",
       "      <td>tdfo1975</td>\n",
       "      <td>#987070</td>\n",
       "      <td>2.123263e+08</td>\n",
       "      <td>2.122166e+08</td>\n",
       "    </tr>\n",
       "    <tr>\n",
       "      <th>42</th>\n",
       "      <td>tmfo1970</td>\n",
       "      <td>#C39898</td>\n",
       "      <td>agri1975</td>\n",
       "      <td>#F3CA52</td>\n",
       "      <td>3.087197e+06</td>\n",
       "      <td>3.075415e+06</td>\n",
       "    </tr>\n",
       "    <tr>\n",
       "      <th>43</th>\n",
       "      <td>tmfo1970</td>\n",
       "      <td>#C39898</td>\n",
       "      <td>rftm1975</td>\n",
       "      <td>#6B8A7A</td>\n",
       "      <td>1.444793e+07</td>\n",
       "      <td>1.443855e+07</td>\n",
       "    </tr>\n",
       "    <tr>\n",
       "      <th>44</th>\n",
       "      <td>tmfo1970</td>\n",
       "      <td>#C39898</td>\n",
       "      <td>tmfo1975</td>\n",
       "      <td>#C39898</td>\n",
       "      <td>3.087519e+08</td>\n",
       "      <td>3.086450e+08</td>\n",
       "    </tr>\n",
       "    <tr>\n",
       "      <th>45</th>\n",
       "      <td>trof1970</td>\n",
       "      <td>#799351</td>\n",
       "      <td>agri1975</td>\n",
       "      <td>#F3CA52</td>\n",
       "      <td>5.818664e+06</td>\n",
       "      <td>5.815892e+06</td>\n",
       "    </tr>\n",
       "    <tr>\n",
       "      <th>46</th>\n",
       "      <td>trof1970</td>\n",
       "      <td>#799351</td>\n",
       "      <td>rftm1975</td>\n",
       "      <td>#6B8A7A</td>\n",
       "      <td>7.043530e+06</td>\n",
       "      <td>7.041700e+06</td>\n",
       "    </tr>\n",
       "    <tr>\n",
       "      <th>47</th>\n",
       "      <td>trof1970</td>\n",
       "      <td>#799351</td>\n",
       "      <td>trof1975</td>\n",
       "      <td>#799351</td>\n",
       "      <td>7.862954e+08</td>\n",
       "      <td>7.862182e+08</td>\n",
       "    </tr>\n",
       "    <tr>\n",
       "      <th>48</th>\n",
       "      <td>trow1970</td>\n",
       "      <td>#A1DD70</td>\n",
       "      <td>agri1975</td>\n",
       "      <td>#F3CA52</td>\n",
       "      <td>7.394865e+06</td>\n",
       "      <td>7.389765e+06</td>\n",
       "    </tr>\n",
       "    <tr>\n",
       "      <th>49</th>\n",
       "      <td>trow1970</td>\n",
       "      <td>#A1DD70</td>\n",
       "      <td>rftm1975</td>\n",
       "      <td>#6B8A7A</td>\n",
       "      <td>8.628679e+06</td>\n",
       "      <td>8.622902e+06</td>\n",
       "    </tr>\n",
       "    <tr>\n",
       "      <th>50</th>\n",
       "      <td>trow1970</td>\n",
       "      <td>#A1DD70</td>\n",
       "      <td>trow1975</td>\n",
       "      <td>#A1DD70</td>\n",
       "      <td>5.845031e+08</td>\n",
       "      <td>5.844450e+08</td>\n",
       "    </tr>\n",
       "    <tr>\n",
       "      <th>51</th>\n",
       "      <td>tund1970</td>\n",
       "      <td>#9B3922</td>\n",
       "      <td>agri1975</td>\n",
       "      <td>#F3CA52</td>\n",
       "      <td>7.883229e+05</td>\n",
       "      <td>7.883229e+05</td>\n",
       "    </tr>\n",
       "    <tr>\n",
       "      <th>52</th>\n",
       "      <td>tund1970</td>\n",
       "      <td>#9B3922</td>\n",
       "      <td>tund1975</td>\n",
       "      <td>#9B3922</td>\n",
       "      <td>4.743540e+08</td>\n",
       "      <td>4.743529e+08</td>\n",
       "    </tr>\n",
       "    <tr>\n",
       "      <th>53</th>\n",
       "      <td>tuwd1970</td>\n",
       "      <td>#0C0C0C</td>\n",
       "      <td>agri1975</td>\n",
       "      <td>#F3CA52</td>\n",
       "      <td>6.750384e+05</td>\n",
       "      <td>6.750281e+05</td>\n",
       "    </tr>\n",
       "    <tr>\n",
       "      <th>54</th>\n",
       "      <td>tuwd1970</td>\n",
       "      <td>#0C0C0C</td>\n",
       "      <td>tuwd1975</td>\n",
       "      <td>#0C0C0C</td>\n",
       "      <td>2.028153e+08</td>\n",
       "      <td>2.028147e+08</td>\n",
       "    </tr>\n",
       "    <tr>\n",
       "      <th>55</th>\n",
       "      <td>wmfo1970</td>\n",
       "      <td>#FF5F00</td>\n",
       "      <td>agri1975</td>\n",
       "      <td>#F3CA52</td>\n",
       "      <td>7.582969e+06</td>\n",
       "      <td>7.566248e+06</td>\n",
       "    </tr>\n",
       "    <tr>\n",
       "      <th>56</th>\n",
       "      <td>wmfo1970</td>\n",
       "      <td>#FF5F00</td>\n",
       "      <td>rftm1975</td>\n",
       "      <td>#6B8A7A</td>\n",
       "      <td>9.844627e+06</td>\n",
       "      <td>9.840013e+06</td>\n",
       "    </tr>\n",
       "    <tr>\n",
       "      <th>57</th>\n",
       "      <td>wmfo1970</td>\n",
       "      <td>#FF5F00</td>\n",
       "      <td>wmfo1975</td>\n",
       "      <td>#FF5F00</td>\n",
       "      <td>3.056839e+08</td>\n",
       "      <td>3.055635e+08</td>\n",
       "    </tr>\n",
       "  </tbody>\n",
       "</table>\n",
       "</div>"
      ],
      "text/plain": [
       "     GLCT1970 color1970   GLCT1975 color1975     GAREA1970     GAREA1975\n",
       "0    agri1970   #F3CA52   agri1975   #F3CA52  3.312977e+09  3.311249e+09\n",
       "1    agri1970   #F3CA52   biof1975   #F2613F  1.240002e+04  1.220063e+04\n",
       "2    agri1970   #F3CA52   dsrt1975   #EE4E4E  6.875888e+04  6.852963e+04\n",
       "3    agri1970   #F3CA52   rfab1975   #254336  7.685841e+06  7.677331e+06\n",
       "4    agri1970   #F3CA52   scrb1975   #7AB2B2  5.738376e+06  5.736656e+06\n",
       "5    agri1970   #F3CA52  stepp1975   #FFFDB5  3.585408e+06  3.583936e+06\n",
       "6    agri1970   #F3CA52   svna1975   #D10363  2.976567e+05  2.976432e+05\n",
       "7    agri1970   #F3CA52   tund1975   #9B3922  2.436157e+05  2.436157e+05\n",
       "8    agri1970   #F3CA52   tuwd1975   #0C0C0C  1.705352e+05  1.705352e+05\n",
       "9    bore1970   #51829B   agri1975   #F3CA52  3.936980e+06  3.940310e+06\n",
       "10   bore1970   #51829B   bore1975   #51829B  1.581006e+09  1.580983e+09\n",
       "11   bore1970   #51829B   rftm1975   #6B8A7A  7.365335e+06  7.364224e+06\n",
       "12   ccfo1970   #344C64   agri1975   #F3CA52  1.471954e+06  1.495226e+06\n",
       "13   ccfo1970   #344C64   ccfo1975   #344C64  2.571116e+08  2.570945e+08\n",
       "14   ccfo1970   #344C64   rftm1975   #6B8A7A  3.764396e+06  3.762613e+06\n",
       "15   dsrt1970   #EE4E4E   agri1975   #F3CA52  1.063592e+06  1.063530e+06\n",
       "16   dsrt1970   #EE4E4E   dsrt1975   #EE4E4E  1.591307e+09  1.591247e+09\n",
       "17   dsrt1970   #EE4E4E  grass1975   #DC5F00  2.145177e+04  2.145177e+04\n",
       "18  grass1970   #DC5F00   dsrt1975   #EE4E4E  3.021422e+06  3.021333e+06\n",
       "19  grass1970   #DC5F00  grass1975   #DC5F00  1.137516e+09  1.137452e+09\n",
       "20  grass1970   #DC5F00   rfab1975   #254336  1.065622e+06  1.064351e+06\n",
       "21  grass1970   #DC5F00   scrb1975   #7AB2B2  8.120896e+05  8.120469e+05\n",
       "22  grass1970   #DC5F00  stepp1975   #FFFDB5  1.712483e+06  1.712282e+06\n",
       "23  grass1970   #DC5F00   svna1975   #D10363  2.969468e+05  2.968313e+05\n",
       "24  grass1970   #DC5F00   tund1975   #9B3922  6.754789e+05  6.754789e+05\n",
       "25    ice1970   #EEEEEE    ice1975   #EEEEEE  2.580805e+07  2.580777e+07\n",
       "26   rftm1970   #6B8A7A   agri1975   #F3CA52  1.048049e+06  1.028178e+06\n",
       "27   rftm1970   #6B8A7A   rftm1975   #6B8A7A  5.636896e+07  5.623959e+07\n",
       "28   rftm1970   #6B8A7A   trof1975   #799351  2.514241e+06  2.509276e+06\n",
       "29   scrb1970   #7AB2B2   agri1975   #F3CA52  8.841916e+06  8.831695e+06\n",
       "30   scrb1970   #7AB2B2   biof1975   #F2613F  2.145673e+05  2.134303e+05\n",
       "31   scrb1970   #7AB2B2  grass1975   #DC5F00  7.184050e+03  7.184050e+03\n",
       "32   scrb1970   #7AB2B2   scrb1975   #7AB2B2  3.434993e+08  3.433805e+08\n",
       "33  stepp1970   #FFFDB5   agri1975   #F3CA52  1.270215e+07  1.269426e+07\n",
       "34  stepp1970   #FFFDB5  grass1975   #DC5F00  9.548316e+04  9.548316e+04\n",
       "35  stepp1970   #FFFDB5  stepp1975   #FFFDB5  6.660087e+08  6.659360e+08\n",
       "36   svna1970   #D10363   agri1975   #F3CA52  2.314713e+07  2.314245e+07\n",
       "37   svna1970   #D10363   biof1975   #F2613F  3.462401e+05  3.460396e+05\n",
       "38   svna1970   #D10363   svna1975   #D10363  9.429937e+08  9.429253e+08\n",
       "39   tdfo1970   #987070   agri1975   #F3CA52  3.266156e+06  3.256245e+06\n",
       "40   tdfo1970   #987070   rftm1975   #6B8A7A  1.320549e+07  1.319697e+07\n",
       "41   tdfo1970   #987070   tdfo1975   #987070  2.123263e+08  2.122166e+08\n",
       "42   tmfo1970   #C39898   agri1975   #F3CA52  3.087197e+06  3.075415e+06\n",
       "43   tmfo1970   #C39898   rftm1975   #6B8A7A  1.444793e+07  1.443855e+07\n",
       "44   tmfo1970   #C39898   tmfo1975   #C39898  3.087519e+08  3.086450e+08\n",
       "45   trof1970   #799351   agri1975   #F3CA52  5.818664e+06  5.815892e+06\n",
       "46   trof1970   #799351   rftm1975   #6B8A7A  7.043530e+06  7.041700e+06\n",
       "47   trof1970   #799351   trof1975   #799351  7.862954e+08  7.862182e+08\n",
       "48   trow1970   #A1DD70   agri1975   #F3CA52  7.394865e+06  7.389765e+06\n",
       "49   trow1970   #A1DD70   rftm1975   #6B8A7A  8.628679e+06  8.622902e+06\n",
       "50   trow1970   #A1DD70   trow1975   #A1DD70  5.845031e+08  5.844450e+08\n",
       "51   tund1970   #9B3922   agri1975   #F3CA52  7.883229e+05  7.883229e+05\n",
       "52   tund1970   #9B3922   tund1975   #9B3922  4.743540e+08  4.743529e+08\n",
       "53   tuwd1970   #0C0C0C   agri1975   #F3CA52  6.750384e+05  6.750281e+05\n",
       "54   tuwd1970   #0C0C0C   tuwd1975   #0C0C0C  2.028153e+08  2.028147e+08\n",
       "55   wmfo1970   #FF5F00   agri1975   #F3CA52  7.582969e+06  7.566248e+06\n",
       "56   wmfo1970   #FF5F00   rftm1975   #6B8A7A  9.844627e+06  9.840013e+06\n",
       "57   wmfo1970   #FF5F00   wmfo1975   #FF5F00  3.056839e+08  3.055635e+08"
      ]
     },
     "execution_count": 50,
     "metadata": {},
     "output_type": "execute_result"
    }
   ],
   "source": [
    "df_selected_group = df_selected.groupby(columns_groupby).sum()\n",
    "df_selected_index = df_selected_group.reset_index()\n",
    "df_selected_index"
   ]
  },
  {
   "cell_type": "code",
   "execution_count": 46,
   "metadata": {},
   "outputs": [
    {
     "data": {
      "text/html": [
       "<div>\n",
       "<style scoped>\n",
       "    .dataframe tbody tr th:only-of-type {\n",
       "        vertical-align: middle;\n",
       "    }\n",
       "\n",
       "    .dataframe tbody tr th {\n",
       "        vertical-align: top;\n",
       "    }\n",
       "\n",
       "    .dataframe thead th {\n",
       "        text-align: right;\n",
       "    }\n",
       "</style>\n",
       "<table border=\"1\" class=\"dataframe\">\n",
       "  <thead>\n",
       "    <tr style=\"text-align: right;\">\n",
       "      <th></th>\n",
       "      <th>GLCT1970</th>\n",
       "      <th>color1970</th>\n",
       "      <th>GLCT2005</th>\n",
       "      <th>color2005</th>\n",
       "      <th>GLCT2020</th>\n",
       "      <th>color2020</th>\n",
       "      <th>GAREA1970</th>\n",
       "      <th>GAREA2005</th>\n",
       "      <th>GAREA2020</th>\n",
       "    </tr>\n",
       "  </thead>\n",
       "  <tbody>\n",
       "    <tr>\n",
       "      <th>187</th>\n",
       "      <td>trof1970</td>\n",
       "      <td>#799351</td>\n",
       "      <td>agri2005</td>\n",
       "      <td>#F3CA52</td>\n",
       "      <td>agri2020</td>\n",
       "      <td>#F3CA52</td>\n",
       "      <td>4.119764e+07</td>\n",
       "      <td>4.092461e+07</td>\n",
       "      <td>4.078694e+07</td>\n",
       "    </tr>\n",
       "    <tr>\n",
       "      <th>188</th>\n",
       "      <td>trof1970</td>\n",
       "      <td>#799351</td>\n",
       "      <td>agri2005</td>\n",
       "      <td>#F3CA52</td>\n",
       "      <td>trof2020</td>\n",
       "      <td>#799351</td>\n",
       "      <td>3.335717e+04</td>\n",
       "      <td>3.315133e+04</td>\n",
       "      <td>3.347633e+04</td>\n",
       "    </tr>\n",
       "  </tbody>\n",
       "</table>\n",
       "</div>"
      ],
      "text/plain": [
       "     GLCT1970 color1970  GLCT2005 color2005  GLCT2020 color2020     GAREA1970  \\\n",
       "187  trof1970   #799351  agri2005   #F3CA52  agri2020   #F3CA52  4.119764e+07   \n",
       "188  trof1970   #799351  agri2005   #F3CA52  trof2020   #799351  3.335717e+04   \n",
       "\n",
       "        GAREA2005     GAREA2020  \n",
       "187  4.092461e+07  4.078694e+07  \n",
       "188  3.315133e+04  3.347633e+04  "
      ]
     },
     "execution_count": 46,
     "metadata": {},
     "output_type": "execute_result"
    }
   ],
   "source": [
    "df_validasi2 = df_selected_index.loc[\n",
    "    (df_selected_index['GLCT1970'] == 'trof1970') &\n",
    "    (df_selected_index['GLCT2005'] == 'agri2005')\n",
    "]\n",
    "df_validasi2"
   ]
  },
  {
   "cell_type": "code",
   "execution_count": 23,
   "metadata": {},
   "outputs": [],
   "source": [
    "import plotly.graph_objects as go"
   ]
  },
  {
   "cell_type": "code",
   "execution_count": 51,
   "metadata": {},
   "outputs": [
    {
     "data": {
      "application/vnd.plotly.v1+json": {
       "config": {
        "plotlyServerURL": "https://plot.ly"
       },
       "data": [
        {
         "link": {
          "color": [
           "#F3CA52",
           "#F3CA52",
           "#F3CA52",
           "#F3CA52",
           "#F3CA52",
           "#F3CA52",
           "#F3CA52",
           "#F3CA52",
           "#F3CA52",
           "#51829B",
           "#51829B",
           "#51829B",
           "#344C64",
           "#344C64",
           "#344C64",
           "#EE4E4E",
           "#EE4E4E",
           "#EE4E4E",
           "#DC5F00",
           "#DC5F00",
           "#DC5F00",
           "#DC5F00",
           "#DC5F00",
           "#DC5F00",
           "#DC5F00",
           "#EEEEEE",
           "#6B8A7A",
           "#6B8A7A",
           "#6B8A7A",
           "#7AB2B2",
           "#7AB2B2",
           "#7AB2B2",
           "#7AB2B2",
           "#FFFDB5",
           "#FFFDB5",
           "#FFFDB5",
           "#D10363",
           "#D10363",
           "#D10363",
           "#987070",
           "#987070",
           "#987070",
           "#C39898",
           "#C39898",
           "#C39898",
           "#799351",
           "#799351",
           "#799351",
           "#A1DD70",
           "#A1DD70",
           "#A1DD70",
           "#9B3922",
           "#9B3922",
           "#0C0C0C",
           "#0C0C0C",
           "#FF5F00",
           "#FF5F00",
           "#FF5F00"
          ],
          "source": [
           0,
           0,
           0,
           0,
           0,
           0,
           0,
           0,
           0,
           10,
           10,
           10,
           13,
           13,
           13,
           15,
           15,
           15,
           17,
           17,
           17,
           17,
           17,
           17,
           17,
           18,
           20,
           20,
           20,
           22,
           22,
           22,
           22,
           23,
           23,
           23,
           24,
           24,
           24,
           25,
           25,
           25,
           27,
           27,
           27,
           29,
           29,
           29,
           30,
           30,
           30,
           32,
           32,
           33,
           33,
           34,
           34,
           34
          ],
          "target": [
           1,
           2,
           3,
           4,
           5,
           6,
           7,
           8,
           9,
           1,
           11,
           12,
           1,
           14,
           12,
           1,
           3,
           16,
           3,
           16,
           4,
           5,
           6,
           7,
           8,
           19,
           1,
           12,
           21,
           1,
           2,
           16,
           5,
           1,
           16,
           6,
           1,
           2,
           7,
           1,
           12,
           26,
           1,
           12,
           28,
           1,
           12,
           21,
           1,
           12,
           31,
           1,
           8,
           1,
           9,
           1,
           12,
           35
          ],
          "value": [
           3311249041.276918,
           12200.6298,
           68529.6295,
           7677330.59459,
           5736655.61812,
           3583936.04801,
           297643.23161,
           243615.7119,
           170535.167,
           3940310.09929,
           1580983396.960989,
           7364224.300666,
           1495226.27399,
           257094549.926595,
           3762613.45781,
           1063529.7402000001,
           1591246844.256533,
           21451.77,
           3021332.6092,
           1137452090.618332,
           1064351.20005,
           812046.8624,
           1712281.97453,
           296831.25998,
           675478.9105,
           25807769.4779545,
           1028178.0353699999,
           56239588.1511273,
           2509275.623975,
           8831694.5978,
           213430.348,
           7184.05,
           343380537.564948,
           12694263.89428,
           95483.1611,
           665936048.2512506,
           23142445.60928,
           346039.64473,
           942925282.606071,
           3256244.942282,
           13196966.286212,
           212216619.075159,
           3075415.295206,
           14438547.295765,
           308645028.011193,
           5815892.22045,
           7041699.51742,
           786218241.566116,
           7389764.6377,
           8622901.66771,
           584445019.134638,
           788322.9424,
           474352857.33790797,
           675028.149,
           202814732.175671,
           7566247.86316,
           9840012.54952,
           305563547.273376
          ]
         },
         "node": {
          "color": [
           "#F3CA52",
           "#F3CA52",
           "#F2613F",
           "#EE4E4E",
           "#254336",
           "#7AB2B2",
           "#FFFDB5",
           "#D10363",
           "#9B3922",
           "#0C0C0C",
           "#51829B",
           "#51829B",
           "#6B8A7A",
           "#344C64",
           "#344C64",
           "#EE4E4E",
           "#DC5F00",
           "#DC5F00",
           "#EEEEEE",
           "#EEEEEE",
           "#6B8A7A",
           "#799351",
           "#7AB2B2",
           "#FFFDB5",
           "#D10363",
           "#987070",
           "#987070",
           "#C39898",
           "#C39898",
           "#799351",
           "#A1DD70",
           "#A1DD70",
           "#9B3922",
           "#0C0C0C",
           "#FF5F00",
           "#FF5F00"
          ],
          "label": [
           "agri1970",
           "agri1975",
           "biof1975",
           "dsrt1975",
           "rfab1975",
           "scrb1975",
           "stepp1975",
           "svna1975",
           "tund1975",
           "tuwd1975",
           "bore1970",
           "bore1975",
           "rftm1975",
           "ccfo1970",
           "ccfo1975",
           "dsrt1970",
           "grass1975",
           "grass1970",
           "ice1970",
           "ice1975",
           "rftm1970",
           "trof1975",
           "scrb1970",
           "stepp1970",
           "svna1970",
           "tdfo1970",
           "tdfo1975",
           "tmfo1970",
           "tmfo1975",
           "trof1970",
           "trow1970",
           "trow1975",
           "tund1970",
           "tuwd1970",
           "wmfo1970",
           "wmfo1975"
          ],
          "line": {
           "color": "white"
          },
          "pad": 0,
          "thickness": 70
         },
         "type": "sankey"
        }
       ],
       "layout": {
        "font": {
         "size": 10
        },
        "template": {
         "data": {
          "bar": [
           {
            "error_x": {
             "color": "#2a3f5f"
            },
            "error_y": {
             "color": "#2a3f5f"
            },
            "marker": {
             "line": {
              "color": "#E5ECF6",
              "width": 0.5
             },
             "pattern": {
              "fillmode": "overlay",
              "size": 10,
              "solidity": 0.2
             }
            },
            "type": "bar"
           }
          ],
          "barpolar": [
           {
            "marker": {
             "line": {
              "color": "#E5ECF6",
              "width": 0.5
             },
             "pattern": {
              "fillmode": "overlay",
              "size": 10,
              "solidity": 0.2
             }
            },
            "type": "barpolar"
           }
          ],
          "carpet": [
           {
            "aaxis": {
             "endlinecolor": "#2a3f5f",
             "gridcolor": "white",
             "linecolor": "white",
             "minorgridcolor": "white",
             "startlinecolor": "#2a3f5f"
            },
            "baxis": {
             "endlinecolor": "#2a3f5f",
             "gridcolor": "white",
             "linecolor": "white",
             "minorgridcolor": "white",
             "startlinecolor": "#2a3f5f"
            },
            "type": "carpet"
           }
          ],
          "choropleth": [
           {
            "colorbar": {
             "outlinewidth": 0,
             "ticks": ""
            },
            "type": "choropleth"
           }
          ],
          "contour": [
           {
            "colorbar": {
             "outlinewidth": 0,
             "ticks": ""
            },
            "colorscale": [
             [
              0,
              "#0d0887"
             ],
             [
              0.1111111111111111,
              "#46039f"
             ],
             [
              0.2222222222222222,
              "#7201a8"
             ],
             [
              0.3333333333333333,
              "#9c179e"
             ],
             [
              0.4444444444444444,
              "#bd3786"
             ],
             [
              0.5555555555555556,
              "#d8576b"
             ],
             [
              0.6666666666666666,
              "#ed7953"
             ],
             [
              0.7777777777777778,
              "#fb9f3a"
             ],
             [
              0.8888888888888888,
              "#fdca26"
             ],
             [
              1,
              "#f0f921"
             ]
            ],
            "type": "contour"
           }
          ],
          "contourcarpet": [
           {
            "colorbar": {
             "outlinewidth": 0,
             "ticks": ""
            },
            "type": "contourcarpet"
           }
          ],
          "heatmap": [
           {
            "colorbar": {
             "outlinewidth": 0,
             "ticks": ""
            },
            "colorscale": [
             [
              0,
              "#0d0887"
             ],
             [
              0.1111111111111111,
              "#46039f"
             ],
             [
              0.2222222222222222,
              "#7201a8"
             ],
             [
              0.3333333333333333,
              "#9c179e"
             ],
             [
              0.4444444444444444,
              "#bd3786"
             ],
             [
              0.5555555555555556,
              "#d8576b"
             ],
             [
              0.6666666666666666,
              "#ed7953"
             ],
             [
              0.7777777777777778,
              "#fb9f3a"
             ],
             [
              0.8888888888888888,
              "#fdca26"
             ],
             [
              1,
              "#f0f921"
             ]
            ],
            "type": "heatmap"
           }
          ],
          "heatmapgl": [
           {
            "colorbar": {
             "outlinewidth": 0,
             "ticks": ""
            },
            "colorscale": [
             [
              0,
              "#0d0887"
             ],
             [
              0.1111111111111111,
              "#46039f"
             ],
             [
              0.2222222222222222,
              "#7201a8"
             ],
             [
              0.3333333333333333,
              "#9c179e"
             ],
             [
              0.4444444444444444,
              "#bd3786"
             ],
             [
              0.5555555555555556,
              "#d8576b"
             ],
             [
              0.6666666666666666,
              "#ed7953"
             ],
             [
              0.7777777777777778,
              "#fb9f3a"
             ],
             [
              0.8888888888888888,
              "#fdca26"
             ],
             [
              1,
              "#f0f921"
             ]
            ],
            "type": "heatmapgl"
           }
          ],
          "histogram": [
           {
            "marker": {
             "pattern": {
              "fillmode": "overlay",
              "size": 10,
              "solidity": 0.2
             }
            },
            "type": "histogram"
           }
          ],
          "histogram2d": [
           {
            "colorbar": {
             "outlinewidth": 0,
             "ticks": ""
            },
            "colorscale": [
             [
              0,
              "#0d0887"
             ],
             [
              0.1111111111111111,
              "#46039f"
             ],
             [
              0.2222222222222222,
              "#7201a8"
             ],
             [
              0.3333333333333333,
              "#9c179e"
             ],
             [
              0.4444444444444444,
              "#bd3786"
             ],
             [
              0.5555555555555556,
              "#d8576b"
             ],
             [
              0.6666666666666666,
              "#ed7953"
             ],
             [
              0.7777777777777778,
              "#fb9f3a"
             ],
             [
              0.8888888888888888,
              "#fdca26"
             ],
             [
              1,
              "#f0f921"
             ]
            ],
            "type": "histogram2d"
           }
          ],
          "histogram2dcontour": [
           {
            "colorbar": {
             "outlinewidth": 0,
             "ticks": ""
            },
            "colorscale": [
             [
              0,
              "#0d0887"
             ],
             [
              0.1111111111111111,
              "#46039f"
             ],
             [
              0.2222222222222222,
              "#7201a8"
             ],
             [
              0.3333333333333333,
              "#9c179e"
             ],
             [
              0.4444444444444444,
              "#bd3786"
             ],
             [
              0.5555555555555556,
              "#d8576b"
             ],
             [
              0.6666666666666666,
              "#ed7953"
             ],
             [
              0.7777777777777778,
              "#fb9f3a"
             ],
             [
              0.8888888888888888,
              "#fdca26"
             ],
             [
              1,
              "#f0f921"
             ]
            ],
            "type": "histogram2dcontour"
           }
          ],
          "mesh3d": [
           {
            "colorbar": {
             "outlinewidth": 0,
             "ticks": ""
            },
            "type": "mesh3d"
           }
          ],
          "parcoords": [
           {
            "line": {
             "colorbar": {
              "outlinewidth": 0,
              "ticks": ""
             }
            },
            "type": "parcoords"
           }
          ],
          "pie": [
           {
            "automargin": true,
            "type": "pie"
           }
          ],
          "scatter": [
           {
            "fillpattern": {
             "fillmode": "overlay",
             "size": 10,
             "solidity": 0.2
            },
            "type": "scatter"
           }
          ],
          "scatter3d": [
           {
            "line": {
             "colorbar": {
              "outlinewidth": 0,
              "ticks": ""
             }
            },
            "marker": {
             "colorbar": {
              "outlinewidth": 0,
              "ticks": ""
             }
            },
            "type": "scatter3d"
           }
          ],
          "scattercarpet": [
           {
            "marker": {
             "colorbar": {
              "outlinewidth": 0,
              "ticks": ""
             }
            },
            "type": "scattercarpet"
           }
          ],
          "scattergeo": [
           {
            "marker": {
             "colorbar": {
              "outlinewidth": 0,
              "ticks": ""
             }
            },
            "type": "scattergeo"
           }
          ],
          "scattergl": [
           {
            "marker": {
             "colorbar": {
              "outlinewidth": 0,
              "ticks": ""
             }
            },
            "type": "scattergl"
           }
          ],
          "scattermapbox": [
           {
            "marker": {
             "colorbar": {
              "outlinewidth": 0,
              "ticks": ""
             }
            },
            "type": "scattermapbox"
           }
          ],
          "scatterpolar": [
           {
            "marker": {
             "colorbar": {
              "outlinewidth": 0,
              "ticks": ""
             }
            },
            "type": "scatterpolar"
           }
          ],
          "scatterpolargl": [
           {
            "marker": {
             "colorbar": {
              "outlinewidth": 0,
              "ticks": ""
             }
            },
            "type": "scatterpolargl"
           }
          ],
          "scatterternary": [
           {
            "marker": {
             "colorbar": {
              "outlinewidth": 0,
              "ticks": ""
             }
            },
            "type": "scatterternary"
           }
          ],
          "surface": [
           {
            "colorbar": {
             "outlinewidth": 0,
             "ticks": ""
            },
            "colorscale": [
             [
              0,
              "#0d0887"
             ],
             [
              0.1111111111111111,
              "#46039f"
             ],
             [
              0.2222222222222222,
              "#7201a8"
             ],
             [
              0.3333333333333333,
              "#9c179e"
             ],
             [
              0.4444444444444444,
              "#bd3786"
             ],
             [
              0.5555555555555556,
              "#d8576b"
             ],
             [
              0.6666666666666666,
              "#ed7953"
             ],
             [
              0.7777777777777778,
              "#fb9f3a"
             ],
             [
              0.8888888888888888,
              "#fdca26"
             ],
             [
              1,
              "#f0f921"
             ]
            ],
            "type": "surface"
           }
          ],
          "table": [
           {
            "cells": {
             "fill": {
              "color": "#EBF0F8"
             },
             "line": {
              "color": "white"
             }
            },
            "header": {
             "fill": {
              "color": "#C8D4E3"
             },
             "line": {
              "color": "white"
             }
            },
            "type": "table"
           }
          ]
         },
         "layout": {
          "annotationdefaults": {
           "arrowcolor": "#2a3f5f",
           "arrowhead": 0,
           "arrowwidth": 1
          },
          "autotypenumbers": "strict",
          "coloraxis": {
           "colorbar": {
            "outlinewidth": 0,
            "ticks": ""
           }
          },
          "colorscale": {
           "diverging": [
            [
             0,
             "#8e0152"
            ],
            [
             0.1,
             "#c51b7d"
            ],
            [
             0.2,
             "#de77ae"
            ],
            [
             0.3,
             "#f1b6da"
            ],
            [
             0.4,
             "#fde0ef"
            ],
            [
             0.5,
             "#f7f7f7"
            ],
            [
             0.6,
             "#e6f5d0"
            ],
            [
             0.7,
             "#b8e186"
            ],
            [
             0.8,
             "#7fbc41"
            ],
            [
             0.9,
             "#4d9221"
            ],
            [
             1,
             "#276419"
            ]
           ],
           "sequential": [
            [
             0,
             "#0d0887"
            ],
            [
             0.1111111111111111,
             "#46039f"
            ],
            [
             0.2222222222222222,
             "#7201a8"
            ],
            [
             0.3333333333333333,
             "#9c179e"
            ],
            [
             0.4444444444444444,
             "#bd3786"
            ],
            [
             0.5555555555555556,
             "#d8576b"
            ],
            [
             0.6666666666666666,
             "#ed7953"
            ],
            [
             0.7777777777777778,
             "#fb9f3a"
            ],
            [
             0.8888888888888888,
             "#fdca26"
            ],
            [
             1,
             "#f0f921"
            ]
           ],
           "sequentialminus": [
            [
             0,
             "#0d0887"
            ],
            [
             0.1111111111111111,
             "#46039f"
            ],
            [
             0.2222222222222222,
             "#7201a8"
            ],
            [
             0.3333333333333333,
             "#9c179e"
            ],
            [
             0.4444444444444444,
             "#bd3786"
            ],
            [
             0.5555555555555556,
             "#d8576b"
            ],
            [
             0.6666666666666666,
             "#ed7953"
            ],
            [
             0.7777777777777778,
             "#fb9f3a"
            ],
            [
             0.8888888888888888,
             "#fdca26"
            ],
            [
             1,
             "#f0f921"
            ]
           ]
          },
          "colorway": [
           "#636efa",
           "#EF553B",
           "#00cc96",
           "#ab63fa",
           "#FFA15A",
           "#19d3f3",
           "#FF6692",
           "#B6E880",
           "#FF97FF",
           "#FECB52"
          ],
          "font": {
           "color": "#2a3f5f"
          },
          "geo": {
           "bgcolor": "white",
           "lakecolor": "white",
           "landcolor": "#E5ECF6",
           "showlakes": true,
           "showland": true,
           "subunitcolor": "white"
          },
          "hoverlabel": {
           "align": "left"
          },
          "hovermode": "closest",
          "mapbox": {
           "style": "light"
          },
          "paper_bgcolor": "white",
          "plot_bgcolor": "#E5ECF6",
          "polar": {
           "angularaxis": {
            "gridcolor": "white",
            "linecolor": "white",
            "ticks": ""
           },
           "bgcolor": "#E5ECF6",
           "radialaxis": {
            "gridcolor": "white",
            "linecolor": "white",
            "ticks": ""
           }
          },
          "scene": {
           "xaxis": {
            "backgroundcolor": "#E5ECF6",
            "gridcolor": "white",
            "gridwidth": 2,
            "linecolor": "white",
            "showbackground": true,
            "ticks": "",
            "zerolinecolor": "white"
           },
           "yaxis": {
            "backgroundcolor": "#E5ECF6",
            "gridcolor": "white",
            "gridwidth": 2,
            "linecolor": "white",
            "showbackground": true,
            "ticks": "",
            "zerolinecolor": "white"
           },
           "zaxis": {
            "backgroundcolor": "#E5ECF6",
            "gridcolor": "white",
            "gridwidth": 2,
            "linecolor": "white",
            "showbackground": true,
            "ticks": "",
            "zerolinecolor": "white"
           }
          },
          "shapedefaults": {
           "line": {
            "color": "#2a3f5f"
           }
          },
          "ternary": {
           "aaxis": {
            "gridcolor": "white",
            "linecolor": "white",
            "ticks": ""
           },
           "baxis": {
            "gridcolor": "white",
            "linecolor": "white",
            "ticks": ""
           },
           "bgcolor": "#E5ECF6",
           "caxis": {
            "gridcolor": "white",
            "linecolor": "white",
            "ticks": ""
           }
          },
          "title": {
           "x": 0.05
          },
          "xaxis": {
           "automargin": true,
           "gridcolor": "white",
           "linecolor": "white",
           "ticks": "",
           "title": {
            "standoff": 15
           },
           "zerolinecolor": "white",
           "zerolinewidth": 2
          },
          "yaxis": {
           "automargin": true,
           "gridcolor": "white",
           "linecolor": "white",
           "ticks": "",
           "title": {
            "standoff": 15
           },
           "zerolinecolor": "white",
           "zerolinewidth": 2
          }
         }
        },
        "title": {
         "text": "Sankey Diagram from 1970 to 1975"
        }
       }
      }
     },
     "metadata": {},
     "output_type": "display_data"
    }
   ],
   "source": [
    "nodes = {}\n",
    "links = []\n",
    "node_colors = []\n",
    "link_colors = []\n",
    "\n",
    "for i in range(len(tahun) - 1):\n",
    "    current_year = tahun[i]\n",
    "    next_year = tahun[i + 1]\n",
    "\n",
    "    gltct_current = f'GLCT{current_year}'\n",
    "    color_current = f'color{current_year}'\n",
    "    value_current = f'GAREA{current_year}'\n",
    "\n",
    "    gltct_next = f'GLCT{next_year}'\n",
    "    color_next = f'color{next_year}'\n",
    "    value_next = f'GAREA{next_year}'\n",
    "\n",
    "    for index, row in df_selected_index.iterrows():\n",
    "        source_node = row[gltct_current]\n",
    "        target_node = row[gltct_next]\n",
    "        color_source = row[color_current]\n",
    "\n",
    "        if source_node not in nodes:\n",
    "            nodes[source_node] = len(nodes)\n",
    "            node_colors.append(color_source)\n",
    "        if target_node not in nodes:\n",
    "            nodes[target_node] = len(nodes)\n",
    "            node_colors.append(row[color_next])\n",
    "\n",
    "        link = {\n",
    "            'source': nodes[source_node],\n",
    "            'target': nodes[target_node],\n",
    "            'value': row[value_next]\n",
    "        }\n",
    "        \n",
    "        links.append(link)\n",
    "        link_colors.append(color_source)\n",
    "\n",
    "fig = go.Figure(data=[go.Sankey(\n",
    "    node=dict(\n",
    "        pad=0,\n",
    "        thickness=70,\n",
    "        line=dict(color='white'),\n",
    "        label=list(nodes.keys()),\n",
    "        color=node_colors\n",
    "    ),\n",
    "    link=dict(\n",
    "        source=[link['source'] for link in links],\n",
    "        target=[link['target'] for link in links],\n",
    "        value=[link['value'] for link in links],\n",
    "        color=link_colors\n",
    "    )\n",
    ")])\n",
    "\n",
    "fig.update_layout(title_text=f\"Sankey Diagram from {tahun[0]} to {tahun[1]}\", font_size=10)\n",
    "\n",
    "fig.show()"
   ]
  }
 ],
 "metadata": {
  "kernelspec": {
   "display_name": "Python 3",
   "language": "python",
   "name": "python3"
  },
  "language_info": {
   "codemirror_mode": {
    "name": "ipython",
    "version": 3
   },
   "file_extension": ".py",
   "mimetype": "text/x-python",
   "name": "python",
   "nbconvert_exporter": "python",
   "pygments_lexer": "ipython3",
   "version": "3.9.7"
  }
 },
 "nbformat": 4,
 "nbformat_minor": 2
}
