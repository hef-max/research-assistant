{
 "cells": [
  {
   "cell_type": "code",
   "execution_count": 1,
   "metadata": {},
   "outputs": [],
   "source": [
    "import xarray\n",
    "import numpy as np\n",
    "import pandas as pd\n",
    "\n",
    "emission_CO2_netcdf_AM2 = xarray.open_dataset(\"D:/emission_CO2_AM1_3tahun_v2.nc\", engine=\"netcdf4\")\n",
    "gfrac = xarray.open_dataset(\"D:/kerja/asisten riset/vol/milkunC/achaidir/IMAGE PBL/SSP2/GFRAC_NEW.nc\", engine=\"netcdf4\")\n",
    "garea = xarray.open_dataset(\"D:/kerja/asisten riset/vol/milkunarc/cadlan/Analysis1_slidingwindows/GAREA.NC\", engine=\"netcdf4\")\n",
    "gfrac_list = gfrac.coords['NGFBFC'].data.tolist()\n",
    "gfrac_ngfbfc = [element.strip() for element in gfrac.coords['NGFBFC'].data.astype('str').tolist()]"
   ]
  },
  {
   "cell_type": "code",
   "execution_count": 2,
   "metadata": {},
   "outputs": [],
   "source": [
    "garea_7020 = garea.isel(time=slice(0, 3))\n",
    "garea_ha = np.nan_to_num(np.multiply(garea_7020['GAREA'].to_numpy(), 100))\n",
    "\n",
    "gfrac_7020 = gfrac.isel(time=slice(0, 3)) \n",
    "gfrac_area = np.zeros((3, 17, 2160, 4320), dtype=\"float32\")"
   ]
  },
  {
   "cell_type": "code",
   "execution_count": 3,
   "metadata": {},
   "outputs": [],
   "source": [
    "for n in range(3):\n",
    "    for i in range(17):\n",
    "        gfrac_area[n][i] = np.nan_to_num(np.multiply(gfrac_7020['GFRAC_new'].isel(time=n, NGFBFC=i), garea_ha[n]))\n",
    "\n",
    "gfrac_list = gfrac.coords['NGFBFC'].data.tolist()\n",
    "\n",
    "gfrac_area_netcdf = xarray.Dataset({\n",
    "    \"GFRAC_combined\":([\"time\",\"NGFBFC\",\"latitude\", \"longitude\"], gfrac_area)\n",
    "},coords={\n",
    "        \"time\": pd.date_range(start='1970-01-01', end='1980-01-01', freq='5YS'),\n",
    "        \"NGFBFC\" : gfrac_list,\n",
    "        \"latitude\": gfrac.coords[\"latitude\"].to_numpy(),\n",
    "        \"longitude\": gfrac.coords[\"longitude\"].to_numpy()\n",
    "})"
   ]
  },
  {
   "cell_type": "code",
   "execution_count": 5,
   "metadata": {},
   "outputs": [
    {
     "data": {
      "text/plain": [
       "(array([], dtype=int64), array([], dtype=int64))"
      ]
     },
     "execution_count": 5,
     "metadata": {},
     "output_type": "execute_result"
    }
   ],
   "source": [
    "np.where(gfrac_area[0][1] < 0)"
   ]
  },
  {
   "cell_type": "markdown",
   "metadata": {},
   "source": [
    "## luc crops"
   ]
  },
  {
   "cell_type": "code",
   "execution_count": 5,
   "metadata": {},
   "outputs": [
    {
     "data": {
      "text/html": [
       "<div>\n",
       "<style scoped>\n",
       "    .dataframe tbody tr th:only-of-type {\n",
       "        vertical-align: middle;\n",
       "    }\n",
       "\n",
       "    .dataframe tbody tr th {\n",
       "        vertical-align: top;\n",
       "    }\n",
       "\n",
       "    .dataframe thead th {\n",
       "        text-align: right;\n",
       "    }\n",
       "</style>\n",
       "<table border=\"1\" class=\"dataframe\">\n",
       "  <thead>\n",
       "    <tr style=\"text-align: right;\">\n",
       "      <th>NGFBFC</th>\n",
       "      <th>b'grass                                             '</th>\n",
       "      <th>b'Wheat                                          '</th>\n",
       "      <th>b'Rice                                           '</th>\n",
       "      <th>b'Maize                                          '</th>\n",
       "      <th>b'Tropical cereals                               '</th>\n",
       "      <th>b'Other temperate cereals                        '</th>\n",
       "      <th>b'Pulses                                         '</th>\n",
       "      <th>b'Soybeans                                       '</th>\n",
       "      <th>b'Temperate oil crops                            '</th>\n",
       "      <th>b'Tropical oil crops                             '</th>\n",
       "      <th>b'Temperate roots &amp; tubers                       '</th>\n",
       "      <th>b'Tropical roots &amp; tubers                        '</th>\n",
       "      <th>b'Sugar crops                                    '</th>\n",
       "      <th>b'Oil &amp; palm fruit                               '</th>\n",
       "      <th>b'Vegetables &amp; fruits                            '</th>\n",
       "      <th>b'Other non-food &amp; luxury &amp; spices               '</th>\n",
       "      <th>b'Plant based fibres                             '</th>\n",
       "    </tr>\n",
       "    <tr>\n",
       "      <th>time</th>\n",
       "      <th></th>\n",
       "      <th></th>\n",
       "      <th></th>\n",
       "      <th></th>\n",
       "      <th></th>\n",
       "      <th></th>\n",
       "      <th></th>\n",
       "      <th></th>\n",
       "      <th></th>\n",
       "      <th></th>\n",
       "      <th></th>\n",
       "      <th></th>\n",
       "      <th></th>\n",
       "      <th></th>\n",
       "      <th></th>\n",
       "      <th></th>\n",
       "      <th></th>\n",
       "    </tr>\n",
       "  </thead>\n",
       "  <tbody>\n",
       "    <tr>\n",
       "      <th>1970-01-01</th>\n",
       "      <td>0.0</td>\n",
       "      <td>0.0</td>\n",
       "      <td>0.0</td>\n",
       "      <td>0.0</td>\n",
       "      <td>0.0</td>\n",
       "      <td>0.0</td>\n",
       "      <td>0.0</td>\n",
       "      <td>0.0</td>\n",
       "      <td>0.0</td>\n",
       "      <td>0.0</td>\n",
       "      <td>0.0</td>\n",
       "      <td>0.0</td>\n",
       "      <td>0.0</td>\n",
       "      <td>0.0</td>\n",
       "      <td>0.0</td>\n",
       "      <td>0.0</td>\n",
       "      <td>0.0</td>\n",
       "    </tr>\n",
       "    <tr>\n",
       "      <th>1975-01-01</th>\n",
       "      <td>0.0</td>\n",
       "      <td>0.0</td>\n",
       "      <td>0.0</td>\n",
       "      <td>0.0</td>\n",
       "      <td>0.0</td>\n",
       "      <td>0.0</td>\n",
       "      <td>0.0</td>\n",
       "      <td>0.0</td>\n",
       "      <td>0.0</td>\n",
       "      <td>0.0</td>\n",
       "      <td>0.0</td>\n",
       "      <td>0.0</td>\n",
       "      <td>0.0</td>\n",
       "      <td>0.0</td>\n",
       "      <td>0.0</td>\n",
       "      <td>0.0</td>\n",
       "      <td>0.0</td>\n",
       "    </tr>\n",
       "    <tr>\n",
       "      <th>1980-01-01</th>\n",
       "      <td>0.0</td>\n",
       "      <td>0.0</td>\n",
       "      <td>0.0</td>\n",
       "      <td>0.0</td>\n",
       "      <td>0.0</td>\n",
       "      <td>0.0</td>\n",
       "      <td>0.0</td>\n",
       "      <td>0.0</td>\n",
       "      <td>0.0</td>\n",
       "      <td>0.0</td>\n",
       "      <td>0.0</td>\n",
       "      <td>0.0</td>\n",
       "      <td>0.0</td>\n",
       "      <td>0.0</td>\n",
       "      <td>0.0</td>\n",
       "      <td>0.0</td>\n",
       "      <td>0.0</td>\n",
       "    </tr>\n",
       "  </tbody>\n",
       "</table>\n",
       "</div>"
      ],
      "text/plain": [
       "NGFBFC      b'grass                                             '  \\\n",
       "time                                                                \n",
       "1970-01-01                                                0.0       \n",
       "1975-01-01                                                0.0       \n",
       "1980-01-01                                                0.0       \n",
       "\n",
       "NGFBFC      b'Wheat                                          '  \\\n",
       "time                                                             \n",
       "1970-01-01                                                0.0    \n",
       "1975-01-01                                                0.0    \n",
       "1980-01-01                                                0.0    \n",
       "\n",
       "NGFBFC      b'Rice                                           '  \\\n",
       "time                                                             \n",
       "1970-01-01                                                0.0    \n",
       "1975-01-01                                                0.0    \n",
       "1980-01-01                                                0.0    \n",
       "\n",
       "NGFBFC      b'Maize                                          '  \\\n",
       "time                                                             \n",
       "1970-01-01                                                0.0    \n",
       "1975-01-01                                                0.0    \n",
       "1980-01-01                                                0.0    \n",
       "\n",
       "NGFBFC      b'Tropical cereals                               '  \\\n",
       "time                                                             \n",
       "1970-01-01                                                0.0    \n",
       "1975-01-01                                                0.0    \n",
       "1980-01-01                                                0.0    \n",
       "\n",
       "NGFBFC      b'Other temperate cereals                        '  \\\n",
       "time                                                             \n",
       "1970-01-01                                                0.0    \n",
       "1975-01-01                                                0.0    \n",
       "1980-01-01                                                0.0    \n",
       "\n",
       "NGFBFC      b'Pulses                                         '  \\\n",
       "time                                                             \n",
       "1970-01-01                                                0.0    \n",
       "1975-01-01                                                0.0    \n",
       "1980-01-01                                                0.0    \n",
       "\n",
       "NGFBFC      b'Soybeans                                       '  \\\n",
       "time                                                             \n",
       "1970-01-01                                                0.0    \n",
       "1975-01-01                                                0.0    \n",
       "1980-01-01                                                0.0    \n",
       "\n",
       "NGFBFC      b'Temperate oil crops                            '  \\\n",
       "time                                                             \n",
       "1970-01-01                                                0.0    \n",
       "1975-01-01                                                0.0    \n",
       "1980-01-01                                                0.0    \n",
       "\n",
       "NGFBFC      b'Tropical oil crops                             '  \\\n",
       "time                                                             \n",
       "1970-01-01                                                0.0    \n",
       "1975-01-01                                                0.0    \n",
       "1980-01-01                                                0.0    \n",
       "\n",
       "NGFBFC      b'Temperate roots & tubers                       '  \\\n",
       "time                                                             \n",
       "1970-01-01                                                0.0    \n",
       "1975-01-01                                                0.0    \n",
       "1980-01-01                                                0.0    \n",
       "\n",
       "NGFBFC      b'Tropical roots & tubers                        '  \\\n",
       "time                                                             \n",
       "1970-01-01                                                0.0    \n",
       "1975-01-01                                                0.0    \n",
       "1980-01-01                                                0.0    \n",
       "\n",
       "NGFBFC      b'Sugar crops                                    '  \\\n",
       "time                                                             \n",
       "1970-01-01                                                0.0    \n",
       "1975-01-01                                                0.0    \n",
       "1980-01-01                                                0.0    \n",
       "\n",
       "NGFBFC      b'Oil & palm fruit                               '  \\\n",
       "time                                                             \n",
       "1970-01-01                                                0.0    \n",
       "1975-01-01                                                0.0    \n",
       "1980-01-01                                                0.0    \n",
       "\n",
       "NGFBFC      b'Vegetables & fruits                            '  \\\n",
       "time                                                             \n",
       "1970-01-01                                                0.0    \n",
       "1975-01-01                                                0.0    \n",
       "1980-01-01                                                0.0    \n",
       "\n",
       "NGFBFC      b'Other non-food & luxury & spices               '  \\\n",
       "time                                                             \n",
       "1970-01-01                                                0.0    \n",
       "1975-01-01                                                0.0    \n",
       "1980-01-01                                                0.0    \n",
       "\n",
       "NGFBFC      b'Plant based fibres                             '  \n",
       "time                                                            \n",
       "1970-01-01                                                0.0   \n",
       "1975-01-01                                                0.0   \n",
       "1980-01-01                                                0.0   "
      ]
     },
     "execution_count": 5,
     "metadata": {},
     "output_type": "execute_result"
    }
   ],
   "source": [
    "x = [-51.706, -55.974643, 101.457, 109.38, -96.6289, 48.966]\n",
    "y = [-22.698, -21.208333, 31.4420, -7.11, 18.549639, -18.07]\n",
    "\n",
    "n = 4\n",
    "gfrac['GFRAC_new'].isel(time=slice(0, 3)).sel(latitude=y[n], longitude=x[n], method='nearest').to_pandas()"
   ]
  },
  {
   "cell_type": "code",
   "execution_count": 18,
   "metadata": {},
   "outputs": [],
   "source": [
    "akumulasi = np.zeros((1, 17, 2160, 4320))\n",
    "\n",
    "for time in range(3):\n",
    "    for i, crop in enumerate(gfrac_list):\n",
    "        temp = np.where(gfrac['GFRAC_new'].isel(time=time).sel(NGFBFC=crop).to_numpy() > 0, gfrac['GFRAC_new'].isel(time=time).sel(NGFBFC=crop).to_numpy(), 0)\n",
    "        akumulasi[0][i] += np.nan_to_num(temp) \n",
    "        akumulasi[0][i] = np.nan_to_num(akumulasi[0][i])"
   ]
  },
  {
   "cell_type": "code",
   "execution_count": 19,
   "metadata": {},
   "outputs": [
    {
     "data": {
      "text/plain": [
       "(array([], dtype=int64), array([], dtype=int64), array([], dtype=int64))"
      ]
     },
     "execution_count": 19,
     "metadata": {},
     "output_type": "execute_result"
    }
   ],
   "source": [
    "np.where(akumulasi[0] < 0)"
   ]
  },
  {
   "cell_type": "code",
   "execution_count": 24,
   "metadata": {},
   "outputs": [],
   "source": [
    "akumulasi_netcdf = xarray.Dataset({\n",
    "    \"akumulasi\":([\"time\", \"NGFBFC\",\"latitude\", \"longitude\"], akumulasi)\n",
    "},coords={\n",
    "        \"time\": pd.to_datetime([\"2020-01-01\"]),\n",
    "        \"NGFBFC\" : gfrac_ngfbfc,\n",
    "        \"latitude\": gfrac.coords[\"latitude\"].to_numpy(),\n",
    "        \"longitude\": gfrac.coords[\"longitude\"].to_numpy()\n",
    "})"
   ]
  },
  {
   "cell_type": "code",
   "execution_count": 7,
   "metadata": {},
   "outputs": [
    {
     "data": {
      "text/plain": [
       "array(0.)"
      ]
     },
     "execution_count": 7,
     "metadata": {},
     "output_type": "execute_result"
    }
   ],
   "source": [
    "akumulasi_netcdf['akumulasi'].isel(time=0, NGFBFC=0).sel(latitude=y[n], longitude=x[n], method='nearest').values"
   ]
  },
  {
   "cell_type": "code",
   "execution_count": 25,
   "metadata": {},
   "outputs": [],
   "source": [
    "#berapa tahun kemunculan\n",
    "kemunculan = np.zeros((1, 17, 2160, 4320))\n",
    "\n",
    "for time in range(3):\n",
    "    for i, crop in enumerate(gfrac_list):\n",
    "        kemunculan[0][i] += np.where(gfrac['GFRAC_new'].isel(time=time).sel(NGFBFC=crop).to_numpy() > 0, 1, 0)"
   ]
  },
  {
   "cell_type": "code",
   "execution_count": 26,
   "metadata": {},
   "outputs": [
    {
     "data": {
      "text/plain": [
       "(array([], dtype=int64),\n",
       " array([], dtype=int64),\n",
       " array([], dtype=int64),\n",
       " array([], dtype=int64))"
      ]
     },
     "execution_count": 26,
     "metadata": {},
     "output_type": "execute_result"
    }
   ],
   "source": [
    "np.where(kemunculan < 0)"
   ]
  },
  {
   "cell_type": "code",
   "execution_count": 8,
   "metadata": {},
   "outputs": [],
   "source": [
    "kemunculan_netcdf = xarray.Dataset({\n",
    "    \"kemunculan\":([\"time\", \"NGFBFC\",\"latitude\", \"longitude\"], kemunculan)\n",
    "},coords={\n",
    "        \"time\": pd.to_datetime([\"2020-01-01\"]),\n",
    "        \"NGFBFC\" : gfrac_ngfbfc,\n",
    "        \"latitude\": gfrac.coords[\"latitude\"].to_numpy(),\n",
    "        \"longitude\": gfrac.coords[\"longitude\"].to_numpy()\n",
    "})"
   ]
  },
  {
   "cell_type": "code",
   "execution_count": 10,
   "metadata": {},
   "outputs": [
    {
     "data": {
      "text/plain": [
       "array([0., 0.])"
      ]
     },
     "execution_count": 10,
     "metadata": {},
     "output_type": "execute_result"
    }
   ],
   "source": [
    "kemunculan_netcdf['kemunculan'].isel(time=0, NGFBFC=slice(0, 2)).sel(latitude=y[n], longitude=x[n], method='nearest').values"
   ]
  },
  {
   "cell_type": "code",
   "execution_count": 27,
   "metadata": {},
   "outputs": [
    {
     "name": "stderr",
     "output_type": "stream",
     "text": [
      "C:\\Users\\HEFRYA~1\\AppData\\Local\\Temp/ipykernel_2736/3424421911.py:4: RuntimeWarning: invalid value encountered in divide\n",
      "  temp = np.divide(akumulasi[0][i], kemunculan[0][i])\n"
     ]
    }
   ],
   "source": [
    "proporsi = np.zeros((17, 1, 2160, 4320))\n",
    "\n",
    "for i, crop in enumerate(gfrac_list):\n",
    "    temp = np.divide(akumulasi[0][i], kemunculan[0][i])\n",
    "    proporsi[i][0] = np.nan_to_num(temp)"
   ]
  },
  {
   "cell_type": "code",
   "execution_count": 28,
   "metadata": {},
   "outputs": [
    {
     "data": {
      "text/plain": [
       "(array([], dtype=int64),\n",
       " array([], dtype=int64),\n",
       " array([], dtype=int64),\n",
       " array([], dtype=int64))"
      ]
     },
     "execution_count": 28,
     "metadata": {},
     "output_type": "execute_result"
    }
   ],
   "source": [
    "np.where(proporsi < 0)"
   ]
  },
  {
   "cell_type": "code",
   "execution_count": 31,
   "metadata": {},
   "outputs": [],
   "source": [
    "proporsi_netcdf = xarray.Dataset({\n",
    "    \"proporsi\":([\"NGFBFC\", \"time\",\"latitude\", \"longitude\"], proporsi)\n",
    "},coords={\n",
    "        \"time\": pd.to_datetime([\"2020-01-01\"]),\n",
    "        \"NGFBFC\" : gfrac_ngfbfc,\n",
    "        \"latitude\": gfrac.coords[\"latitude\"].to_numpy(),\n",
    "        \"longitude\": gfrac.coords[\"longitude\"].to_numpy()\n",
    "})\n",
    "# proporsi_netcdf.to_netcdf(\"D:/kerja/asisten riset/code v/step 3/GbGlct/dataset/AM3/proporsi_AM3.NC\", mode=\"w\", format=\"NETCDF4\")"
   ]
  },
  {
   "cell_type": "code",
   "execution_count": 14,
   "metadata": {},
   "outputs": [],
   "source": [
    "proporsi2_netcdf = xarray.Dataset(\n",
    "coords={\n",
    "        \"time\": pd.to_datetime([\"2020-01-01\"]),\n",
    "        \"latitude\": gfrac.coords[\"latitude\"].to_numpy(),\n",
    "        \"longitude\": gfrac.coords[\"longitude\"].to_numpy()\n",
    "    })\n",
    "\n",
    "coords = (\"time\", \"latitude\", \"longitude\")\n",
    "data_vars = {\n",
    "    ngfbc: (coords, proporsi[i]) for i, ngfbc in enumerate(gfrac_ngfbfc)\n",
    "}\n",
    "proporsi2_netcdf = proporsi2_netcdf.assign(data_vars)\n",
    "proporsi2_netcdf.to_netcdf(\"D:/kerja/asisten riset/code v/step 3/GbGlct/dataset/AM3/proporsi2_AM3.NC\", mode=\"w\", format=\"NETCDF4\")"
   ]
  },
  {
   "cell_type": "code",
   "execution_count": 33,
   "metadata": {},
   "outputs": [
    {
     "data": {
      "text/plain": [
       "array(0.99999999)"
      ]
     },
     "execution_count": 33,
     "metadata": {},
     "output_type": "execute_result"
    }
   ],
   "source": [
    "n = 5\n",
    "proporsi_netcdf['proporsi'].isel(time=0).sel(latitude=y[n], longitude=x[n], method='nearest').sum(dim='NGFBFC').to_pandas()"
   ]
  },
  {
   "cell_type": "code",
   "execution_count": 32,
   "metadata": {},
   "outputs": [],
   "source": [
    "def divide(arr1, arr2):\n",
    "    return np.divide(arr1, arr2)\n",
    "\n",
    "def multiple(arr1, arr2):\n",
    "    return np.multiply(arr1, arr2)"
   ]
  },
  {
   "cell_type": "code",
   "execution_count": 35,
   "metadata": {},
   "outputs": [],
   "source": [
    "#2C Distribusi emisi sesuai delta\n",
    "luc_prop_crop = np.zeros((17, 1, 2160, 4320), dtype=\"float32\")\n",
    "\n",
    "for i, crop in enumerate(gfrac_list):\n",
    "    luc_prop_crop[i][0] = np.nan_to_num(multiple(emission_CO2_netcdf_AM2['LUC Crops Emission'].isel(time=0).to_numpy(), proporsi[i][0]))"
   ]
  },
  {
   "cell_type": "code",
   "execution_count": 36,
   "metadata": {},
   "outputs": [],
   "source": [
    "luccrop_emisi_netcdf = xarray.Dataset({\n",
    "    \"luc_crop\":([\"NGFBFC\", \"time\",\"latitude\", \"longitude\"], luc_prop_crop)\n",
    "},coords={\n",
    "        \"time\": pd.to_datetime([\"2020-01-01\"]),\n",
    "        \"NGFBFC\" : gfrac_ngfbfc,\n",
    "        \"latitude\": gfrac.coords[\"latitude\"].to_numpy(),\n",
    "        \"longitude\": gfrac.coords[\"longitude\"].to_numpy()\n",
    "})"
   ]
  },
  {
   "cell_type": "code",
   "execution_count": 37,
   "metadata": {},
   "outputs": [
    {
     "data": {
      "text/plain": [
       "array(0., dtype=float32)"
      ]
     },
     "execution_count": 37,
     "metadata": {},
     "output_type": "execute_result"
    }
   ],
   "source": [
    "emission_CO2_netcdf_AM2['LUC Crops Emission'].isel(time=0).sel(latitude=y[n], longitude=x[n], method='nearest').to_pandas()"
   ]
  },
  {
   "cell_type": "code",
   "execution_count": 19,
   "metadata": {},
   "outputs": [
    {
     "data": {
      "text/plain": [
       "0.0"
      ]
     },
     "execution_count": 19,
     "metadata": {},
     "output_type": "execute_result"
    }
   ],
   "source": [
    "luccrop_emisi_netcdf['luc_crop'].isel(time=0).sel(latitude=y[n], longitude=x[n], method='nearest').to_pandas().sum()"
   ]
  },
  {
   "cell_type": "code",
   "execution_count": 38,
   "metadata": {},
   "outputs": [],
   "source": [
    "\n",
    "#1C. Export emisi per crops dari kategori luc crops ke netcdf\n",
    "luc_crops_prop_crop_netcdf = xarray.Dataset(\n",
    "coords={\n",
    "        \"time\": pd.to_datetime([\"2020-01-01\"]),\n",
    "        \"latitude\": gfrac.coords[\"latitude\"].to_numpy(),\n",
    "        \"longitude\": gfrac.coords[\"longitude\"].to_numpy()\n",
    "    })\n",
    "\n",
    "coords = (\"time\", \"latitude\", \"longitude\")\n",
    "data_vars = {\n",
    "    ngfbc: (coords, luc_prop_crop[i]) for i, ngfbc in enumerate(gfrac_ngfbfc)\n",
    "}\n",
    "luc_crops_prop_crop_netcdf = luc_crops_prop_crop_netcdf.assign(data_vars)"
   ]
  },
  {
   "cell_type": "code",
   "execution_count": 39,
   "metadata": {},
   "outputs": [
    {
     "data": {
      "text/plain": [
       "9.610725"
      ]
     },
     "execution_count": 39,
     "metadata": {},
     "output_type": "execute_result"
    }
   ],
   "source": [
    "n = 0\n",
    "luc_crops_prop_crop_netcdf['grass'].isel(time=0).to_numpy().sum()"
   ]
  },
  {
   "cell_type": "code",
   "execution_count": 22,
   "metadata": {},
   "outputs": [],
   "source": [
    "luc_crops_prop_crop_netcdf.to_netcdf(\"D:/kerja/asisten riset/code v/step 3/GbGlct/dataset/AM3/crop_emission_from_luc_crops_AM3.NC\", mode=\"w\", format=\"NETCDF4\")"
   ]
  },
  {
   "cell_type": "markdown",
   "metadata": {},
   "source": [
    "## Agri to agri"
   ]
  },
  {
   "cell_type": "code",
   "execution_count": 40,
   "metadata": {},
   "outputs": [
    {
     "data": {
      "text/plain": [
       "time\n",
       "1975-01-01    0.000000\n",
       "1980-01-01    0.000000\n",
       "1985-01-01    0.000003\n",
       "dtype: float32"
      ]
     },
     "execution_count": 40,
     "metadata": {},
     "output_type": "execute_result"
    }
   ],
   "source": [
    "emission_CO2_netcdf_AM2['Agricultural Transition Emission'].sel(latitude=y[n], longitude=x[n], method='nearest').to_pandas()"
   ]
  },
  {
   "cell_type": "code",
   "execution_count": 24,
   "metadata": {},
   "outputs": [
    {
     "data": {
      "text/plain": [
       "1.005606"
      ]
     },
     "execution_count": 24,
     "metadata": {},
     "output_type": "execute_result"
    }
   ],
   "source": [
    "emission_CO2_netcdf_AM2['Agricultural Transition Emission'].isel(time=1).to_numpy().sum()"
   ]
  },
  {
   "cell_type": "code",
   "execution_count": 41,
   "metadata": {},
   "outputs": [],
   "source": [
    "emission_Agricultural = emission_CO2_netcdf_AM2['Agricultural Transition Emission'].isel(time=2).to_numpy()"
   ]
  },
  {
   "cell_type": "code",
   "execution_count": 42,
   "metadata": {},
   "outputs": [],
   "source": [
    "#2C Distribusi emisi sesuai delta\n",
    "agri_to_agri_prop_crop = np.zeros((17, 1, 2160, 4320))\n",
    "\n",
    "for i, crop in enumerate(gfrac_list):\n",
    "    agri_to_agri_prop_crop[i][0] = multiple(emission_Agricultural, proporsi[i][0])"
   ]
  },
  {
   "cell_type": "code",
   "execution_count": 43,
   "metadata": {},
   "outputs": [
    {
     "data": {
      "text/plain": [
       "0.47630453983547094"
      ]
     },
     "execution_count": 43,
     "metadata": {},
     "output_type": "execute_result"
    }
   ],
   "source": [
    "# np.count_nonzero(np.isinf(agri_to_agri_prop_crop))\n",
    "agri_to_agri_prop_crop = np.nan_to_num(agri_to_agri_prop_crop)\n",
    "agri_to_agri_prop_crop[0][0].sum()"
   ]
  },
  {
   "cell_type": "code",
   "execution_count": 99,
   "metadata": {},
   "outputs": [],
   "source": [
    "agri_to_agri_prop_crop_netcdf = xarray.Dataset({\n",
    "    \"agri_to_agri_prop\":([\"NGFBFC\",\"time\",\"latitude\", \"longitude\"], agri_to_agri_prop_crop)\n",
    "},coords={\n",
    "        \"time\": pd.to_datetime([\"2020-01-01\"]),\n",
    "        \"NGFBFC\" : gfrac_ngfbfc,\n",
    "        \"latitude\": gfrac.coords[\"latitude\"].to_numpy(),\n",
    "        \"longitude\": gfrac.coords[\"longitude\"].to_numpy()\n",
    "})"
   ]
  },
  {
   "cell_type": "code",
   "execution_count": 44,
   "metadata": {},
   "outputs": [],
   "source": [
    "#2D Export emisi per crops dari kategori agri2agri ke netcdf\n",
    "agri2agri_prop_crop_netcdf = xarray.Dataset(\n",
    "coords={\n",
    "        \"time\": pd.to_datetime([\"2020-01-01\"]),\n",
    "        \"latitude\": gfrac.coords[\"latitude\"].to_numpy(),\n",
    "        \"longitude\": gfrac.coords[\"longitude\"].to_numpy()\n",
    "    })\n",
    "\n",
    "coords = (\"time\", \"latitude\", \"longitude\")\n",
    "data_vars = {\n",
    "    ngfbc: (coords, agri_to_agri_prop_crop[i]) for i, ngfbc in enumerate(gfrac_ngfbfc)\n",
    "}\n",
    "agri2agri_prop_crop_netcdf = agri2agri_prop_crop_netcdf.assign(data_vars)\n",
    "agri2agri_prop_crop_netcdf.to_netcdf(\"D:/kerja/asisten riset/code v/step 3/GbGlct/dataset/AM3/crop_emission_from_agri2agri_AM3.NC\", mode=\"w\", format=\"NETCDF4\")"
   ]
  },
  {
   "cell_type": "code",
   "execution_count": 77,
   "metadata": {},
   "outputs": [
    {
     "data": {
      "text/plain": [
       "array(0., dtype=float32)"
      ]
     },
     "execution_count": 77,
     "metadata": {},
     "output_type": "execute_result"
    }
   ],
   "source": [
    "n = 5\n",
    "agri2agri_prop_crop_netcdf['grass'].isel(time=0).sel(latitude=2580, longitude=395, method='nearest').to_pandas()"
   ]
  },
  {
   "cell_type": "code",
   "execution_count": 45,
   "metadata": {},
   "outputs": [],
   "source": [
    "emisi_total = np.zeros((17, 1, 2160, 4320))\n",
    "\n",
    "for i, crop in enumerate(gfrac_list):\n",
    "    temp = agri_to_agri_prop_crop[i][0] + luc_prop_crop[i][0]\n",
    "    emisi_total[i][0] = np.where(np.isfinite(temp), temp, 0)"
   ]
  },
  {
   "cell_type": "code",
   "execution_count": 48,
   "metadata": {},
   "outputs": [
    {
     "data": {
      "text/plain": [
       "(10.087032328483524, 0.47630453983547094, 9.610725)"
      ]
     },
     "execution_count": 48,
     "metadata": {},
     "output_type": "execute_result"
    }
   ],
   "source": [
    "emisi_total[0][0].sum(), agri_to_agri_prop_crop[0][0].sum(), luc_prop_crop[0][0].sum()"
   ]
  },
  {
   "cell_type": "code",
   "execution_count": 50,
   "metadata": {},
   "outputs": [
    {
     "data": {
      "text/plain": [
       "10.087029942667503"
      ]
     },
     "execution_count": 50,
     "metadata": {},
     "output_type": "execute_result"
    }
   ],
   "source": [
    "agri_to_agri_prop_crop[0][0].sum() + luc_prop_crop[0][0].sum()"
   ]
  },
  {
   "cell_type": "code",
   "execution_count": 42,
   "metadata": {},
   "outputs": [],
   "source": [
    "emisi_total_netcdf = xarray.Dataset(\n",
    "coords={\n",
    "        \"time\": pd.to_datetime([\"2020-01-01\"]),\n",
    "        \"latitude\": gfrac.coords[\"latitude\"].to_numpy(),\n",
    "        \"longitude\": gfrac.coords[\"longitude\"].to_numpy()\n",
    "    })\n",
    "\n",
    "coords = (\"time\", \"latitude\", \"longitude\")\n",
    "data_vars = {\n",
    "    ngfbc: (coords, emisi_total[i]) for i, ngfbc in enumerate(gfrac_ngfbfc)\n",
    "}\n",
    "emisi_total_netcdf = agri2agri_prop_crop_netcdf.assign(data_vars)"
   ]
  },
  {
   "cell_type": "code",
   "execution_count": 48,
   "metadata": {},
   "outputs": [
    {
     "data": {
      "text/plain": [
       "1.3161383318749387e-06"
      ]
     },
     "execution_count": 48,
     "metadata": {},
     "output_type": "execute_result"
    }
   ],
   "source": [
    "emisi_total_netcdf.isel(time=0).sel(latitude=y[n], longitude=x[n], method='nearest').to_pandas().sum()"
   ]
  },
  {
   "cell_type": "code",
   "execution_count": null,
   "metadata": {},
   "outputs": [],
   "source": [
    "country_code = pd.read_excel(\"D:/kerja/asisten riset/vol/milkunC/achaidir/LUH2 2022/ISO-3166-Country-Code_Final.xlsx\")\n",
    "luh_static = xarray.open_dataset(\"D:/kerja/asisten riset/code v/step 3/GbGlct/gpw_v4_national_identifier_grid_rev11_5_min_finall.nc\", engine=\"netcdf4\")"
   ]
  },
  {
   "cell_type": "code",
   "execution_count": null,
   "metadata": {},
   "outputs": [],
   "source": [
    "ccode_iso = list(country_code['country-code'])\n",
    "cname_iso = list(country_code['IMAGE Region Name'])\n",
    "\n",
    "ccode_dict = {}\n",
    "for i, ccode in enumerate(ccode_iso):\n",
    "    ccode_dict[ccode] = cname_iso[i]\n",
    "\n",
    "ccode_worldwide_int = luh_static['ccode'].to_numpy().astype('int64')\n",
    "\n",
    "ccode_convert = np.zeros((2160, 4320), dtype=\"<U32\") #rubah ke <U14\n",
    "\n",
    "for i in range(2160):\n",
    "    for j in range(4320):\n",
    "        if (ccode_worldwide_int[i][j] in ccode_dict.keys()):\n",
    "            ccode_convert[i][j] = ccode_dict[ccode_worldwide_int[i][j]]\n",
    "        else:\n",
    "            ccode_convert[i][j] = \"ocean\"\n",
    "            \n",
    "region = xarray.Dataset({\"IMAGE Region Name\": ([\"latitude\", \"longitude\"], ccode_convert)},\n",
    "                         coords={ \"longitude\": gfrac.coords[\"longitude\"].to_numpy(), \"latitude\": gfrac.coords[\"latitude\"].to_numpy()})"
   ]
  },
  {
   "cell_type": "code",
   "execution_count": null,
   "metadata": {},
   "outputs": [],
   "source": [
    "emisi_total_am3_netcdf = xarray.Dataset(\n",
    "coords={\n",
    "        \"time\": pd.to_datetime([\"2020-01-01\"]),\n",
    "        \"latitude\": gfrac.coords[\"latitude\"].to_numpy(),\n",
    "        \"longitude\": gfrac.coords[\"longitude\"].to_numpy(),\n",
    "    })\n",
    "\n",
    "coords = (\"time\", \"latitude\", \"longitude\")\n",
    "data_vars = {\n",
    "    ngfbc: (coords, emisi_total[i]) for i, ngfbc in enumerate(gfrac_ngfbfc)\n",
    "}\n",
    "emisi_total_am3_netcdf = emisi_total_am3_netcdf.assign(data_vars)\n",
    "GFRAC_IMAGERegionName = emisi_total_am3_netcdf.assign_coords(IMAGE_Region_Name=region[\"IMAGE Region Name\"])"
   ]
  },
  {
   "cell_type": "code",
   "execution_count": null,
   "metadata": {},
   "outputs": [
    {
     "name": "stderr",
     "output_type": "stream",
     "text": [
      "C:\\Users\\HEFRYA~1\\AppData\\Local\\Temp/ipykernel_312/3303792535.py:1: SerializationWarning: coordinate 'IMAGE Region Name' has a space in its name, which means it cannot be marked as a coordinate on disk and will be saved as a data variable instead\n",
      "  emisi_total_am3_netcdf.to_netcdf(\"D:/kerja/asisten riset/code v/step 3/GbGlct/dataset/AM3/emisi_total_AM3.NC\", mode=\"w\", format=\"NETCDF4\")\n"
     ]
    }
   ],
   "source": [
    "GFRAC_IMAGERegionName.to_netcdf(\"D:/kerja/asisten riset/code v/step 3/GbGlct/dataset/AM3/emisi_total_AM3.NC\", mode=\"w\", format=\"NETCDF4\")"
   ]
  },
  {
   "cell_type": "code",
   "execution_count": null,
   "metadata": {},
   "outputs": [
    {
     "data": {
      "text/html": [
       "<div><svg style=\"position: absolute; width: 0; height: 0; overflow: hidden\">\n",
       "<defs>\n",
       "<symbol id=\"icon-database\" viewBox=\"0 0 32 32\">\n",
       "<path d=\"M16 0c-8.837 0-16 2.239-16 5v4c0 2.761 7.163 5 16 5s16-2.239 16-5v-4c0-2.761-7.163-5-16-5z\"></path>\n",
       "<path d=\"M16 17c-8.837 0-16-2.239-16-5v6c0 2.761 7.163 5 16 5s16-2.239 16-5v-6c0 2.761-7.163 5-16 5z\"></path>\n",
       "<path d=\"M16 26c-8.837 0-16-2.239-16-5v6c0 2.761 7.163 5 16 5s16-2.239 16-5v-6c0 2.761-7.163 5-16 5z\"></path>\n",
       "</symbol>\n",
       "<symbol id=\"icon-file-text2\" viewBox=\"0 0 32 32\">\n",
       "<path d=\"M28.681 7.159c-0.694-0.947-1.662-2.053-2.724-3.116s-2.169-2.030-3.116-2.724c-1.612-1.182-2.393-1.319-2.841-1.319h-15.5c-1.378 0-2.5 1.121-2.5 2.5v27c0 1.378 1.122 2.5 2.5 2.5h23c1.378 0 2.5-1.122 2.5-2.5v-19.5c0-0.448-0.137-1.23-1.319-2.841zM24.543 5.457c0.959 0.959 1.712 1.825 2.268 2.543h-4.811v-4.811c0.718 0.556 1.584 1.309 2.543 2.268zM28 29.5c0 0.271-0.229 0.5-0.5 0.5h-23c-0.271 0-0.5-0.229-0.5-0.5v-27c0-0.271 0.229-0.5 0.5-0.5 0 0 15.499-0 15.5 0v7c0 0.552 0.448 1 1 1h7v19.5z\"></path>\n",
       "<path d=\"M23 26h-14c-0.552 0-1-0.448-1-1s0.448-1 1-1h14c0.552 0 1 0.448 1 1s-0.448 1-1 1z\"></path>\n",
       "<path d=\"M23 22h-14c-0.552 0-1-0.448-1-1s0.448-1 1-1h14c0.552 0 1 0.448 1 1s-0.448 1-1 1z\"></path>\n",
       "<path d=\"M23 18h-14c-0.552 0-1-0.448-1-1s0.448-1 1-1h14c0.552 0 1 0.448 1 1s-0.448 1-1 1z\"></path>\n",
       "</symbol>\n",
       "</defs>\n",
       "</svg>\n",
       "<style>/* CSS stylesheet for displaying xarray objects in jupyterlab.\n",
       " *\n",
       " */\n",
       "\n",
       ":root {\n",
       "  --xr-font-color0: var(--jp-content-font-color0, rgba(0, 0, 0, 1));\n",
       "  --xr-font-color2: var(--jp-content-font-color2, rgba(0, 0, 0, 0.54));\n",
       "  --xr-font-color3: var(--jp-content-font-color3, rgba(0, 0, 0, 0.38));\n",
       "  --xr-border-color: var(--jp-border-color2, #e0e0e0);\n",
       "  --xr-disabled-color: var(--jp-layout-color3, #bdbdbd);\n",
       "  --xr-background-color: var(--jp-layout-color0, white);\n",
       "  --xr-background-color-row-even: var(--jp-layout-color1, white);\n",
       "  --xr-background-color-row-odd: var(--jp-layout-color2, #eeeeee);\n",
       "}\n",
       "\n",
       "html[theme=dark],\n",
       "body[data-theme=dark],\n",
       "body.vscode-dark {\n",
       "  --xr-font-color0: rgba(255, 255, 255, 1);\n",
       "  --xr-font-color2: rgba(255, 255, 255, 0.54);\n",
       "  --xr-font-color3: rgba(255, 255, 255, 0.38);\n",
       "  --xr-border-color: #1F1F1F;\n",
       "  --xr-disabled-color: #515151;\n",
       "  --xr-background-color: #111111;\n",
       "  --xr-background-color-row-even: #111111;\n",
       "  --xr-background-color-row-odd: #313131;\n",
       "}\n",
       "\n",
       ".xr-wrap {\n",
       "  display: block !important;\n",
       "  min-width: 300px;\n",
       "  max-width: 700px;\n",
       "}\n",
       "\n",
       ".xr-text-repr-fallback {\n",
       "  /* fallback to plain text repr when CSS is not injected (untrusted notebook) */\n",
       "  display: none;\n",
       "}\n",
       "\n",
       ".xr-header {\n",
       "  padding-top: 6px;\n",
       "  padding-bottom: 6px;\n",
       "  margin-bottom: 4px;\n",
       "  border-bottom: solid 1px var(--xr-border-color);\n",
       "}\n",
       "\n",
       ".xr-header > div,\n",
       ".xr-header > ul {\n",
       "  display: inline;\n",
       "  margin-top: 0;\n",
       "  margin-bottom: 0;\n",
       "}\n",
       "\n",
       ".xr-obj-type,\n",
       ".xr-array-name {\n",
       "  margin-left: 2px;\n",
       "  margin-right: 10px;\n",
       "}\n",
       "\n",
       ".xr-obj-type {\n",
       "  color: var(--xr-font-color2);\n",
       "}\n",
       "\n",
       ".xr-sections {\n",
       "  padding-left: 0 !important;\n",
       "  display: grid;\n",
       "  grid-template-columns: 150px auto auto 1fr 20px 20px;\n",
       "}\n",
       "\n",
       ".xr-section-item {\n",
       "  display: contents;\n",
       "}\n",
       "\n",
       ".xr-section-item input {\n",
       "  display: none;\n",
       "}\n",
       "\n",
       ".xr-section-item input + label {\n",
       "  color: var(--xr-disabled-color);\n",
       "}\n",
       "\n",
       ".xr-section-item input:enabled + label {\n",
       "  cursor: pointer;\n",
       "  color: var(--xr-font-color2);\n",
       "}\n",
       "\n",
       ".xr-section-item input:enabled + label:hover {\n",
       "  color: var(--xr-font-color0);\n",
       "}\n",
       "\n",
       ".xr-section-summary {\n",
       "  grid-column: 1;\n",
       "  color: var(--xr-font-color2);\n",
       "  font-weight: 500;\n",
       "}\n",
       "\n",
       ".xr-section-summary > span {\n",
       "  display: inline-block;\n",
       "  padding-left: 0.5em;\n",
       "}\n",
       "\n",
       ".xr-section-summary-in:disabled + label {\n",
       "  color: var(--xr-font-color2);\n",
       "}\n",
       "\n",
       ".xr-section-summary-in + label:before {\n",
       "  display: inline-block;\n",
       "  content: '►';\n",
       "  font-size: 11px;\n",
       "  width: 15px;\n",
       "  text-align: center;\n",
       "}\n",
       "\n",
       ".xr-section-summary-in:disabled + label:before {\n",
       "  color: var(--xr-disabled-color);\n",
       "}\n",
       "\n",
       ".xr-section-summary-in:checked + label:before {\n",
       "  content: '▼';\n",
       "}\n",
       "\n",
       ".xr-section-summary-in:checked + label > span {\n",
       "  display: none;\n",
       "}\n",
       "\n",
       ".xr-section-summary,\n",
       ".xr-section-inline-details {\n",
       "  padding-top: 4px;\n",
       "  padding-bottom: 4px;\n",
       "}\n",
       "\n",
       ".xr-section-inline-details {\n",
       "  grid-column: 2 / -1;\n",
       "}\n",
       "\n",
       ".xr-section-details {\n",
       "  display: none;\n",
       "  grid-column: 1 / -1;\n",
       "  margin-bottom: 5px;\n",
       "}\n",
       "\n",
       ".xr-section-summary-in:checked ~ .xr-section-details {\n",
       "  display: contents;\n",
       "}\n",
       "\n",
       ".xr-array-wrap {\n",
       "  grid-column: 1 / -1;\n",
       "  display: grid;\n",
       "  grid-template-columns: 20px auto;\n",
       "}\n",
       "\n",
       ".xr-array-wrap > label {\n",
       "  grid-column: 1;\n",
       "  vertical-align: top;\n",
       "}\n",
       "\n",
       ".xr-preview {\n",
       "  color: var(--xr-font-color3);\n",
       "}\n",
       "\n",
       ".xr-array-preview,\n",
       ".xr-array-data {\n",
       "  padding: 0 5px !important;\n",
       "  grid-column: 2;\n",
       "}\n",
       "\n",
       ".xr-array-data,\n",
       ".xr-array-in:checked ~ .xr-array-preview {\n",
       "  display: none;\n",
       "}\n",
       "\n",
       ".xr-array-in:checked ~ .xr-array-data,\n",
       ".xr-array-preview {\n",
       "  display: inline-block;\n",
       "}\n",
       "\n",
       ".xr-dim-list {\n",
       "  display: inline-block !important;\n",
       "  list-style: none;\n",
       "  padding: 0 !important;\n",
       "  margin: 0;\n",
       "}\n",
       "\n",
       ".xr-dim-list li {\n",
       "  display: inline-block;\n",
       "  padding: 0;\n",
       "  margin: 0;\n",
       "}\n",
       "\n",
       ".xr-dim-list:before {\n",
       "  content: '(';\n",
       "}\n",
       "\n",
       ".xr-dim-list:after {\n",
       "  content: ')';\n",
       "}\n",
       "\n",
       ".xr-dim-list li:not(:last-child):after {\n",
       "  content: ',';\n",
       "  padding-right: 5px;\n",
       "}\n",
       "\n",
       ".xr-has-index {\n",
       "  font-weight: bold;\n",
       "}\n",
       "\n",
       ".xr-var-list,\n",
       ".xr-var-item {\n",
       "  display: contents;\n",
       "}\n",
       "\n",
       ".xr-var-item > div,\n",
       ".xr-var-item label,\n",
       ".xr-var-item > .xr-var-name span {\n",
       "  background-color: var(--xr-background-color-row-even);\n",
       "  margin-bottom: 0;\n",
       "}\n",
       "\n",
       ".xr-var-item > .xr-var-name:hover span {\n",
       "  padding-right: 5px;\n",
       "}\n",
       "\n",
       ".xr-var-list > li:nth-child(odd) > div,\n",
       ".xr-var-list > li:nth-child(odd) > label,\n",
       ".xr-var-list > li:nth-child(odd) > .xr-var-name span {\n",
       "  background-color: var(--xr-background-color-row-odd);\n",
       "}\n",
       "\n",
       ".xr-var-name {\n",
       "  grid-column: 1;\n",
       "}\n",
       "\n",
       ".xr-var-dims {\n",
       "  grid-column: 2;\n",
       "}\n",
       "\n",
       ".xr-var-dtype {\n",
       "  grid-column: 3;\n",
       "  text-align: right;\n",
       "  color: var(--xr-font-color2);\n",
       "}\n",
       "\n",
       ".xr-var-preview {\n",
       "  grid-column: 4;\n",
       "}\n",
       "\n",
       ".xr-index-preview {\n",
       "  grid-column: 2 / 5;\n",
       "  color: var(--xr-font-color2);\n",
       "}\n",
       "\n",
       ".xr-var-name,\n",
       ".xr-var-dims,\n",
       ".xr-var-dtype,\n",
       ".xr-preview,\n",
       ".xr-attrs dt {\n",
       "  white-space: nowrap;\n",
       "  overflow: hidden;\n",
       "  text-overflow: ellipsis;\n",
       "  padding-right: 10px;\n",
       "}\n",
       "\n",
       ".xr-var-name:hover,\n",
       ".xr-var-dims:hover,\n",
       ".xr-var-dtype:hover,\n",
       ".xr-attrs dt:hover {\n",
       "  overflow: visible;\n",
       "  width: auto;\n",
       "  z-index: 1;\n",
       "}\n",
       "\n",
       ".xr-var-attrs,\n",
       ".xr-var-data,\n",
       ".xr-index-data {\n",
       "  display: none;\n",
       "  background-color: var(--xr-background-color) !important;\n",
       "  padding-bottom: 5px !important;\n",
       "}\n",
       "\n",
       ".xr-var-attrs-in:checked ~ .xr-var-attrs,\n",
       ".xr-var-data-in:checked ~ .xr-var-data,\n",
       ".xr-index-data-in:checked ~ .xr-index-data {\n",
       "  display: block;\n",
       "}\n",
       "\n",
       ".xr-var-data > table {\n",
       "  float: right;\n",
       "}\n",
       "\n",
       ".xr-var-name span,\n",
       ".xr-var-data,\n",
       ".xr-index-name div,\n",
       ".xr-index-data,\n",
       ".xr-attrs {\n",
       "  padding-left: 25px !important;\n",
       "}\n",
       "\n",
       ".xr-attrs,\n",
       ".xr-var-attrs,\n",
       ".xr-var-data,\n",
       ".xr-index-data {\n",
       "  grid-column: 1 / -1;\n",
       "}\n",
       "\n",
       "dl.xr-attrs {\n",
       "  padding: 0;\n",
       "  margin: 0;\n",
       "  display: grid;\n",
       "  grid-template-columns: 125px auto;\n",
       "}\n",
       "\n",
       ".xr-attrs dt,\n",
       ".xr-attrs dd {\n",
       "  padding: 0;\n",
       "  margin: 0;\n",
       "  float: left;\n",
       "  padding-right: 10px;\n",
       "  width: auto;\n",
       "}\n",
       "\n",
       ".xr-attrs dt {\n",
       "  font-weight: normal;\n",
       "  grid-column: 1;\n",
       "}\n",
       "\n",
       ".xr-attrs dt:hover span {\n",
       "  display: inline-block;\n",
       "  background: var(--xr-background-color);\n",
       "  padding-right: 10px;\n",
       "}\n",
       "\n",
       ".xr-attrs dd {\n",
       "  grid-column: 2;\n",
       "  white-space: pre-wrap;\n",
       "  word-break: break-all;\n",
       "}\n",
       "\n",
       ".xr-icon-database,\n",
       ".xr-icon-file-text2,\n",
       ".xr-no-icon {\n",
       "  display: inline-block;\n",
       "  vertical-align: middle;\n",
       "  width: 1em;\n",
       "  height: 1.5em !important;\n",
       "  stroke-width: 0;\n",
       "  stroke: currentColor;\n",
       "  fill: currentColor;\n",
       "}\n",
       "</style><pre class='xr-text-repr-fallback'>&lt;xarray.Dataset&gt;\n",
       "Dimensions:                           (longitude: 4320, latitude: 2160, time: 1)\n",
       "Coordinates:\n",
       "  * longitude                         (longitude) float64 -180.0 ... 180.0\n",
       "  * latitude                          (latitude) float64 89.96 89.88 ... -89.96\n",
       "  * time                              (time) datetime64[ns] 2020-01-01\n",
       "Data variables: (12/18)\n",
       "    IMAGE Region Name                 (latitude, longitude) &lt;U17 ...\n",
       "    grass                             (time, latitude, longitude) float64 ...\n",
       "    Wheat                             (time, latitude, longitude) float64 ...\n",
       "    Rice                              (time, latitude, longitude) float64 ...\n",
       "    Maize                             (time, latitude, longitude) float64 ...\n",
       "    Tropical cereals                  (time, latitude, longitude) float64 ...\n",
       "    ...                                ...\n",
       "    Tropical roots &amp; tubers           (time, latitude, longitude) float64 ...\n",
       "    Sugar crops                       (time, latitude, longitude) float64 ...\n",
       "    Oil &amp; palm fruit                  (time, latitude, longitude) float64 ...\n",
       "    Vegetables &amp; fruits               (time, latitude, longitude) float64 ...\n",
       "    Other non-food &amp; luxury &amp; spices  (time, latitude, longitude) float64 ...\n",
       "    Plant based fibres                (time, latitude, longitude) float64 ...</pre><div class='xr-wrap' style='display:none'><div class='xr-header'><div class='xr-obj-type'>xarray.Dataset</div></div><ul class='xr-sections'><li class='xr-section-item'><input id='section-e199b33b-dd79-46ff-b456-782beac5257e' class='xr-section-summary-in' type='checkbox' disabled ><label for='section-e199b33b-dd79-46ff-b456-782beac5257e' class='xr-section-summary'  title='Expand/collapse section'>Dimensions:</label><div class='xr-section-inline-details'><ul class='xr-dim-list'><li><span class='xr-has-index'>longitude</span>: 4320</li><li><span class='xr-has-index'>latitude</span>: 2160</li><li><span class='xr-has-index'>time</span>: 1</li></ul></div><div class='xr-section-details'></div></li><li class='xr-section-item'><input id='section-c6ef1d66-a9e5-4b81-8ec6-5c9b51f6c97e' class='xr-section-summary-in' type='checkbox'  checked><label for='section-c6ef1d66-a9e5-4b81-8ec6-5c9b51f6c97e' class='xr-section-summary' >Coordinates: <span>(3)</span></label><div class='xr-section-inline-details'></div><div class='xr-section-details'><ul class='xr-var-list'><li class='xr-var-item'><div class='xr-var-name'><span class='xr-has-index'>longitude</span></div><div class='xr-var-dims'>(longitude)</div><div class='xr-var-dtype'>float64</div><div class='xr-var-preview xr-preview'>-180.0 -179.9 ... 179.9 180.0</div><input id='attrs-7f11cce7-16b8-49ba-98da-c427fe65638a' class='xr-var-attrs-in' type='checkbox' disabled><label for='attrs-7f11cce7-16b8-49ba-98da-c427fe65638a' title='Show/Hide attributes'><svg class='icon xr-icon-file-text2'><use xlink:href='#icon-file-text2'></use></svg></label><input id='data-57507395-e3ae-4680-8530-35b60625cbc7' class='xr-var-data-in' type='checkbox'><label for='data-57507395-e3ae-4680-8530-35b60625cbc7' title='Show/Hide data repr'><svg class='icon xr-icon-database'><use xlink:href='#icon-database'></use></svg></label><div class='xr-var-attrs'><dl class='xr-attrs'></dl></div><div class='xr-var-data'><pre>array([-179.958333, -179.875   , -179.791667, ...,  179.791665,  179.874999,\n",
       "        179.958332])</pre></div></li><li class='xr-var-item'><div class='xr-var-name'><span class='xr-has-index'>latitude</span></div><div class='xr-var-dims'>(latitude)</div><div class='xr-var-dtype'>float64</div><div class='xr-var-preview xr-preview'>89.96 89.88 89.79 ... -89.87 -89.96</div><input id='attrs-62f10d79-a5cb-4f58-a63f-3c88a01dc7e3' class='xr-var-attrs-in' type='checkbox' disabled><label for='attrs-62f10d79-a5cb-4f58-a63f-3c88a01dc7e3' title='Show/Hide attributes'><svg class='icon xr-icon-file-text2'><use xlink:href='#icon-file-text2'></use></svg></label><input id='data-48f62bb5-8dba-4f1f-8dee-44643d482e95' class='xr-var-data-in' type='checkbox'><label for='data-48f62bb5-8dba-4f1f-8dee-44643d482e95' title='Show/Hide data repr'><svg class='icon xr-icon-database'><use xlink:href='#icon-database'></use></svg></label><div class='xr-var-attrs'><dl class='xr-attrs'></dl></div><div class='xr-var-data'><pre>array([ 89.958333,  89.875   ,  89.791667, ..., -89.791666, -89.874999,\n",
       "       -89.958333])</pre></div></li><li class='xr-var-item'><div class='xr-var-name'><span class='xr-has-index'>time</span></div><div class='xr-var-dims'>(time)</div><div class='xr-var-dtype'>datetime64[ns]</div><div class='xr-var-preview xr-preview'>2020-01-01</div><input id='attrs-637b5599-4747-414b-b28a-51aeb8488c35' class='xr-var-attrs-in' type='checkbox' disabled><label for='attrs-637b5599-4747-414b-b28a-51aeb8488c35' title='Show/Hide attributes'><svg class='icon xr-icon-file-text2'><use xlink:href='#icon-file-text2'></use></svg></label><input id='data-179778d8-af8c-4988-9314-5259e0214ef9' class='xr-var-data-in' type='checkbox'><label for='data-179778d8-af8c-4988-9314-5259e0214ef9' title='Show/Hide data repr'><svg class='icon xr-icon-database'><use xlink:href='#icon-database'></use></svg></label><div class='xr-var-attrs'><dl class='xr-attrs'></dl></div><div class='xr-var-data'><pre>array([&#x27;2020-01-01T00:00:00.000000000&#x27;], dtype=&#x27;datetime64[ns]&#x27;)</pre></div></li></ul></div></li><li class='xr-section-item'><input id='section-e221dbbd-9cf8-477f-b292-3563d572b63b' class='xr-section-summary-in' type='checkbox'  ><label for='section-e221dbbd-9cf8-477f-b292-3563d572b63b' class='xr-section-summary' >Data variables: <span>(18)</span></label><div class='xr-section-inline-details'></div><div class='xr-section-details'><ul class='xr-var-list'><li class='xr-var-item'><div class='xr-var-name'><span>IMAGE Region Name</span></div><div class='xr-var-dims'>(latitude, longitude)</div><div class='xr-var-dtype'>&lt;U17</div><div class='xr-var-preview xr-preview'>...</div><input id='attrs-a3cc03dd-1c78-4748-8c65-5017e6017458' class='xr-var-attrs-in' type='checkbox' disabled><label for='attrs-a3cc03dd-1c78-4748-8c65-5017e6017458' title='Show/Hide attributes'><svg class='icon xr-icon-file-text2'><use xlink:href='#icon-file-text2'></use></svg></label><input id='data-b8db620c-bfe9-4e45-a0d5-90e043d7cc20' class='xr-var-data-in' type='checkbox'><label for='data-b8db620c-bfe9-4e45-a0d5-90e043d7cc20' title='Show/Hide data repr'><svg class='icon xr-icon-database'><use xlink:href='#icon-database'></use></svg></label><div class='xr-var-attrs'><dl class='xr-attrs'></dl></div><div class='xr-var-data'><pre>[9331200 values with dtype=&lt;U17]</pre></div></li><li class='xr-var-item'><div class='xr-var-name'><span>grass</span></div><div class='xr-var-dims'>(time, latitude, longitude)</div><div class='xr-var-dtype'>float64</div><div class='xr-var-preview xr-preview'>...</div><input id='attrs-b7d7636a-d345-49dd-aeb2-60cd32143715' class='xr-var-attrs-in' type='checkbox' disabled><label for='attrs-b7d7636a-d345-49dd-aeb2-60cd32143715' title='Show/Hide attributes'><svg class='icon xr-icon-file-text2'><use xlink:href='#icon-file-text2'></use></svg></label><input id='data-d7a58220-6df2-4ead-917e-eedd099b5bd8' class='xr-var-data-in' type='checkbox'><label for='data-d7a58220-6df2-4ead-917e-eedd099b5bd8' title='Show/Hide data repr'><svg class='icon xr-icon-database'><use xlink:href='#icon-database'></use></svg></label><div class='xr-var-attrs'><dl class='xr-attrs'></dl></div><div class='xr-var-data'><pre>[9331200 values with dtype=float64]</pre></div></li><li class='xr-var-item'><div class='xr-var-name'><span>Wheat</span></div><div class='xr-var-dims'>(time, latitude, longitude)</div><div class='xr-var-dtype'>float64</div><div class='xr-var-preview xr-preview'>...</div><input id='attrs-2e1c62ff-e38f-43e4-93bf-c152bd2a29ff' class='xr-var-attrs-in' type='checkbox' disabled><label for='attrs-2e1c62ff-e38f-43e4-93bf-c152bd2a29ff' title='Show/Hide attributes'><svg class='icon xr-icon-file-text2'><use xlink:href='#icon-file-text2'></use></svg></label><input id='data-45bc3f37-4748-4018-8a43-9d05e82d7002' class='xr-var-data-in' type='checkbox'><label for='data-45bc3f37-4748-4018-8a43-9d05e82d7002' title='Show/Hide data repr'><svg class='icon xr-icon-database'><use xlink:href='#icon-database'></use></svg></label><div class='xr-var-attrs'><dl class='xr-attrs'></dl></div><div class='xr-var-data'><pre>[9331200 values with dtype=float64]</pre></div></li><li class='xr-var-item'><div class='xr-var-name'><span>Rice</span></div><div class='xr-var-dims'>(time, latitude, longitude)</div><div class='xr-var-dtype'>float64</div><div class='xr-var-preview xr-preview'>...</div><input id='attrs-3fe92d87-2118-4283-9901-37b0c55a4666' class='xr-var-attrs-in' type='checkbox' disabled><label for='attrs-3fe92d87-2118-4283-9901-37b0c55a4666' title='Show/Hide attributes'><svg class='icon xr-icon-file-text2'><use xlink:href='#icon-file-text2'></use></svg></label><input id='data-2215a4f0-2fe6-4353-91c3-c82cb7e0f27d' class='xr-var-data-in' type='checkbox'><label for='data-2215a4f0-2fe6-4353-91c3-c82cb7e0f27d' title='Show/Hide data repr'><svg class='icon xr-icon-database'><use xlink:href='#icon-database'></use></svg></label><div class='xr-var-attrs'><dl class='xr-attrs'></dl></div><div class='xr-var-data'><pre>[9331200 values with dtype=float64]</pre></div></li><li class='xr-var-item'><div class='xr-var-name'><span>Maize</span></div><div class='xr-var-dims'>(time, latitude, longitude)</div><div class='xr-var-dtype'>float64</div><div class='xr-var-preview xr-preview'>...</div><input id='attrs-d0de6420-7900-4c0a-af6f-d07f74008fde' class='xr-var-attrs-in' type='checkbox' disabled><label for='attrs-d0de6420-7900-4c0a-af6f-d07f74008fde' title='Show/Hide attributes'><svg class='icon xr-icon-file-text2'><use xlink:href='#icon-file-text2'></use></svg></label><input id='data-b1695327-1524-4c19-b9f2-bbf7bbbacbfd' class='xr-var-data-in' type='checkbox'><label for='data-b1695327-1524-4c19-b9f2-bbf7bbbacbfd' title='Show/Hide data repr'><svg class='icon xr-icon-database'><use xlink:href='#icon-database'></use></svg></label><div class='xr-var-attrs'><dl class='xr-attrs'></dl></div><div class='xr-var-data'><pre>[9331200 values with dtype=float64]</pre></div></li><li class='xr-var-item'><div class='xr-var-name'><span>Tropical cereals</span></div><div class='xr-var-dims'>(time, latitude, longitude)</div><div class='xr-var-dtype'>float64</div><div class='xr-var-preview xr-preview'>...</div><input id='attrs-c4cb78ae-4294-49b2-ab66-5f4fda32f459' class='xr-var-attrs-in' type='checkbox' disabled><label for='attrs-c4cb78ae-4294-49b2-ab66-5f4fda32f459' title='Show/Hide attributes'><svg class='icon xr-icon-file-text2'><use xlink:href='#icon-file-text2'></use></svg></label><input id='data-a99e9007-32ec-4606-bdfb-af1daa103f3e' class='xr-var-data-in' type='checkbox'><label for='data-a99e9007-32ec-4606-bdfb-af1daa103f3e' title='Show/Hide data repr'><svg class='icon xr-icon-database'><use xlink:href='#icon-database'></use></svg></label><div class='xr-var-attrs'><dl class='xr-attrs'></dl></div><div class='xr-var-data'><pre>[9331200 values with dtype=float64]</pre></div></li><li class='xr-var-item'><div class='xr-var-name'><span>Other temperate cereals</span></div><div class='xr-var-dims'>(time, latitude, longitude)</div><div class='xr-var-dtype'>float64</div><div class='xr-var-preview xr-preview'>...</div><input id='attrs-2c3a4d04-6ebb-4a3b-a796-b674885c8818' class='xr-var-attrs-in' type='checkbox' disabled><label for='attrs-2c3a4d04-6ebb-4a3b-a796-b674885c8818' title='Show/Hide attributes'><svg class='icon xr-icon-file-text2'><use xlink:href='#icon-file-text2'></use></svg></label><input id='data-214615a6-8eaa-4df9-a480-5ddeaaf5807f' class='xr-var-data-in' type='checkbox'><label for='data-214615a6-8eaa-4df9-a480-5ddeaaf5807f' title='Show/Hide data repr'><svg class='icon xr-icon-database'><use xlink:href='#icon-database'></use></svg></label><div class='xr-var-attrs'><dl class='xr-attrs'></dl></div><div class='xr-var-data'><pre>[9331200 values with dtype=float64]</pre></div></li><li class='xr-var-item'><div class='xr-var-name'><span>Pulses</span></div><div class='xr-var-dims'>(time, latitude, longitude)</div><div class='xr-var-dtype'>float64</div><div class='xr-var-preview xr-preview'>...</div><input id='attrs-eade4e2c-cabc-491e-a58a-a60ff3fd6e01' class='xr-var-attrs-in' type='checkbox' disabled><label for='attrs-eade4e2c-cabc-491e-a58a-a60ff3fd6e01' title='Show/Hide attributes'><svg class='icon xr-icon-file-text2'><use xlink:href='#icon-file-text2'></use></svg></label><input id='data-d247a103-c379-4f5a-9998-0b7df290cf99' class='xr-var-data-in' type='checkbox'><label for='data-d247a103-c379-4f5a-9998-0b7df290cf99' title='Show/Hide data repr'><svg class='icon xr-icon-database'><use xlink:href='#icon-database'></use></svg></label><div class='xr-var-attrs'><dl class='xr-attrs'></dl></div><div class='xr-var-data'><pre>[9331200 values with dtype=float64]</pre></div></li><li class='xr-var-item'><div class='xr-var-name'><span>Soybeans</span></div><div class='xr-var-dims'>(time, latitude, longitude)</div><div class='xr-var-dtype'>float64</div><div class='xr-var-preview xr-preview'>...</div><input id='attrs-6d011aa9-7807-4cda-acdc-a1ad06b9522c' class='xr-var-attrs-in' type='checkbox' disabled><label for='attrs-6d011aa9-7807-4cda-acdc-a1ad06b9522c' title='Show/Hide attributes'><svg class='icon xr-icon-file-text2'><use xlink:href='#icon-file-text2'></use></svg></label><input id='data-b17590dd-5585-4876-883d-112284e2d6d5' class='xr-var-data-in' type='checkbox'><label for='data-b17590dd-5585-4876-883d-112284e2d6d5' title='Show/Hide data repr'><svg class='icon xr-icon-database'><use xlink:href='#icon-database'></use></svg></label><div class='xr-var-attrs'><dl class='xr-attrs'></dl></div><div class='xr-var-data'><pre>[9331200 values with dtype=float64]</pre></div></li><li class='xr-var-item'><div class='xr-var-name'><span>Temperate oil crops</span></div><div class='xr-var-dims'>(time, latitude, longitude)</div><div class='xr-var-dtype'>float64</div><div class='xr-var-preview xr-preview'>...</div><input id='attrs-7706db6e-bb30-472e-b804-5231f0920c9d' class='xr-var-attrs-in' type='checkbox' disabled><label for='attrs-7706db6e-bb30-472e-b804-5231f0920c9d' title='Show/Hide attributes'><svg class='icon xr-icon-file-text2'><use xlink:href='#icon-file-text2'></use></svg></label><input id='data-8cfdbcf8-71de-4108-a09d-1bf8df96db79' class='xr-var-data-in' type='checkbox'><label for='data-8cfdbcf8-71de-4108-a09d-1bf8df96db79' title='Show/Hide data repr'><svg class='icon xr-icon-database'><use xlink:href='#icon-database'></use></svg></label><div class='xr-var-attrs'><dl class='xr-attrs'></dl></div><div class='xr-var-data'><pre>[9331200 values with dtype=float64]</pre></div></li><li class='xr-var-item'><div class='xr-var-name'><span>Tropical oil crops</span></div><div class='xr-var-dims'>(time, latitude, longitude)</div><div class='xr-var-dtype'>float64</div><div class='xr-var-preview xr-preview'>...</div><input id='attrs-4d456274-3c61-4e52-8b64-7a6edbffa90e' class='xr-var-attrs-in' type='checkbox' disabled><label for='attrs-4d456274-3c61-4e52-8b64-7a6edbffa90e' title='Show/Hide attributes'><svg class='icon xr-icon-file-text2'><use xlink:href='#icon-file-text2'></use></svg></label><input id='data-5d06baff-810b-4ca6-9341-24ebdbae7027' class='xr-var-data-in' type='checkbox'><label for='data-5d06baff-810b-4ca6-9341-24ebdbae7027' title='Show/Hide data repr'><svg class='icon xr-icon-database'><use xlink:href='#icon-database'></use></svg></label><div class='xr-var-attrs'><dl class='xr-attrs'></dl></div><div class='xr-var-data'><pre>[9331200 values with dtype=float64]</pre></div></li><li class='xr-var-item'><div class='xr-var-name'><span>Temperate roots &amp; tubers</span></div><div class='xr-var-dims'>(time, latitude, longitude)</div><div class='xr-var-dtype'>float64</div><div class='xr-var-preview xr-preview'>...</div><input id='attrs-d30a4e03-37d0-4133-ac74-e52329deaaa0' class='xr-var-attrs-in' type='checkbox' disabled><label for='attrs-d30a4e03-37d0-4133-ac74-e52329deaaa0' title='Show/Hide attributes'><svg class='icon xr-icon-file-text2'><use xlink:href='#icon-file-text2'></use></svg></label><input id='data-4d6ccf54-45de-4019-a78f-fa322580109b' class='xr-var-data-in' type='checkbox'><label for='data-4d6ccf54-45de-4019-a78f-fa322580109b' title='Show/Hide data repr'><svg class='icon xr-icon-database'><use xlink:href='#icon-database'></use></svg></label><div class='xr-var-attrs'><dl class='xr-attrs'></dl></div><div class='xr-var-data'><pre>[9331200 values with dtype=float64]</pre></div></li><li class='xr-var-item'><div class='xr-var-name'><span>Tropical roots &amp; tubers</span></div><div class='xr-var-dims'>(time, latitude, longitude)</div><div class='xr-var-dtype'>float64</div><div class='xr-var-preview xr-preview'>...</div><input id='attrs-875e6d78-574e-4cc3-83cd-996c7bef0bd1' class='xr-var-attrs-in' type='checkbox' disabled><label for='attrs-875e6d78-574e-4cc3-83cd-996c7bef0bd1' title='Show/Hide attributes'><svg class='icon xr-icon-file-text2'><use xlink:href='#icon-file-text2'></use></svg></label><input id='data-9d09ca98-b9cb-412d-8c72-10a9975948e9' class='xr-var-data-in' type='checkbox'><label for='data-9d09ca98-b9cb-412d-8c72-10a9975948e9' title='Show/Hide data repr'><svg class='icon xr-icon-database'><use xlink:href='#icon-database'></use></svg></label><div class='xr-var-attrs'><dl class='xr-attrs'></dl></div><div class='xr-var-data'><pre>[9331200 values with dtype=float64]</pre></div></li><li class='xr-var-item'><div class='xr-var-name'><span>Sugar crops</span></div><div class='xr-var-dims'>(time, latitude, longitude)</div><div class='xr-var-dtype'>float64</div><div class='xr-var-preview xr-preview'>...</div><input id='attrs-03136873-7a7f-4971-b3a5-9662fc3a96ec' class='xr-var-attrs-in' type='checkbox' disabled><label for='attrs-03136873-7a7f-4971-b3a5-9662fc3a96ec' title='Show/Hide attributes'><svg class='icon xr-icon-file-text2'><use xlink:href='#icon-file-text2'></use></svg></label><input id='data-4f3eb1f7-acc1-4fe0-9add-55b918c8f4db' class='xr-var-data-in' type='checkbox'><label for='data-4f3eb1f7-acc1-4fe0-9add-55b918c8f4db' title='Show/Hide data repr'><svg class='icon xr-icon-database'><use xlink:href='#icon-database'></use></svg></label><div class='xr-var-attrs'><dl class='xr-attrs'></dl></div><div class='xr-var-data'><pre>[9331200 values with dtype=float64]</pre></div></li><li class='xr-var-item'><div class='xr-var-name'><span>Oil &amp; palm fruit</span></div><div class='xr-var-dims'>(time, latitude, longitude)</div><div class='xr-var-dtype'>float64</div><div class='xr-var-preview xr-preview'>...</div><input id='attrs-4eed9067-f0ac-43ab-ac5b-15810069e607' class='xr-var-attrs-in' type='checkbox' disabled><label for='attrs-4eed9067-f0ac-43ab-ac5b-15810069e607' title='Show/Hide attributes'><svg class='icon xr-icon-file-text2'><use xlink:href='#icon-file-text2'></use></svg></label><input id='data-a0e3a65e-55e9-413e-9691-4a3730e27b0c' class='xr-var-data-in' type='checkbox'><label for='data-a0e3a65e-55e9-413e-9691-4a3730e27b0c' title='Show/Hide data repr'><svg class='icon xr-icon-database'><use xlink:href='#icon-database'></use></svg></label><div class='xr-var-attrs'><dl class='xr-attrs'></dl></div><div class='xr-var-data'><pre>[9331200 values with dtype=float64]</pre></div></li><li class='xr-var-item'><div class='xr-var-name'><span>Vegetables &amp; fruits</span></div><div class='xr-var-dims'>(time, latitude, longitude)</div><div class='xr-var-dtype'>float64</div><div class='xr-var-preview xr-preview'>...</div><input id='attrs-f498094a-6dc6-4b05-b8d8-6dab14c3b14b' class='xr-var-attrs-in' type='checkbox' disabled><label for='attrs-f498094a-6dc6-4b05-b8d8-6dab14c3b14b' title='Show/Hide attributes'><svg class='icon xr-icon-file-text2'><use xlink:href='#icon-file-text2'></use></svg></label><input id='data-c7f9dcc5-029d-4b40-acf7-1a174ccbbbc1' class='xr-var-data-in' type='checkbox'><label for='data-c7f9dcc5-029d-4b40-acf7-1a174ccbbbc1' title='Show/Hide data repr'><svg class='icon xr-icon-database'><use xlink:href='#icon-database'></use></svg></label><div class='xr-var-attrs'><dl class='xr-attrs'></dl></div><div class='xr-var-data'><pre>[9331200 values with dtype=float64]</pre></div></li><li class='xr-var-item'><div class='xr-var-name'><span>Other non-food &amp; luxury &amp; spices</span></div><div class='xr-var-dims'>(time, latitude, longitude)</div><div class='xr-var-dtype'>float64</div><div class='xr-var-preview xr-preview'>...</div><input id='attrs-0c752a2e-921d-42fe-b0fa-6d18373d4beb' class='xr-var-attrs-in' type='checkbox' disabled><label for='attrs-0c752a2e-921d-42fe-b0fa-6d18373d4beb' title='Show/Hide attributes'><svg class='icon xr-icon-file-text2'><use xlink:href='#icon-file-text2'></use></svg></label><input id='data-43402476-7030-47d7-a254-50443f6e314d' class='xr-var-data-in' type='checkbox'><label for='data-43402476-7030-47d7-a254-50443f6e314d' title='Show/Hide data repr'><svg class='icon xr-icon-database'><use xlink:href='#icon-database'></use></svg></label><div class='xr-var-attrs'><dl class='xr-attrs'></dl></div><div class='xr-var-data'><pre>[9331200 values with dtype=float64]</pre></div></li><li class='xr-var-item'><div class='xr-var-name'><span>Plant based fibres</span></div><div class='xr-var-dims'>(time, latitude, longitude)</div><div class='xr-var-dtype'>float64</div><div class='xr-var-preview xr-preview'>...</div><input id='attrs-8a2ef533-2337-4566-9254-036ab169d5ef' class='xr-var-attrs-in' type='checkbox' disabled><label for='attrs-8a2ef533-2337-4566-9254-036ab169d5ef' title='Show/Hide attributes'><svg class='icon xr-icon-file-text2'><use xlink:href='#icon-file-text2'></use></svg></label><input id='data-c76e56aa-9683-401e-9af1-d283e10446fb' class='xr-var-data-in' type='checkbox'><label for='data-c76e56aa-9683-401e-9af1-d283e10446fb' title='Show/Hide data repr'><svg class='icon xr-icon-database'><use xlink:href='#icon-database'></use></svg></label><div class='xr-var-attrs'><dl class='xr-attrs'></dl></div><div class='xr-var-data'><pre>[9331200 values with dtype=float64]</pre></div></li></ul></div></li><li class='xr-section-item'><input id='section-67e087a1-5daf-4433-b5b7-47fc884aaf6d' class='xr-section-summary-in' type='checkbox'  ><label for='section-67e087a1-5daf-4433-b5b7-47fc884aaf6d' class='xr-section-summary' >Indexes: <span>(3)</span></label><div class='xr-section-inline-details'></div><div class='xr-section-details'><ul class='xr-var-list'><li class='xr-var-item'><div class='xr-index-name'><div>longitude</div></div><div class='xr-index-preview'>PandasIndex</div><div></div><input id='index-e0e15f98-e4fc-47a1-8932-e09297529221' class='xr-index-data-in' type='checkbox'/><label for='index-e0e15f98-e4fc-47a1-8932-e09297529221' title='Show/Hide index repr'><svg class='icon xr-icon-database'><use xlink:href='#icon-database'></use></svg></label><div class='xr-index-data'><pre>PandasIndex(Index([    -179.9583333335,     -179.8750000005,     -179.7916666675,\n",
       "           -179.7083333345,     -179.6250000015,     -179.5416666685,\n",
       "       -179.45833333550001,     -179.3750000025, -179.29166666950002,\n",
       "           -179.2083333365,\n",
       "       ...\n",
       "        179.20833189649997,  179.29166522949996,      179.3749985625,\n",
       "        179.45833189549998,  179.54166522849997,  179.62499856149995,\n",
       "            179.7083318945,  179.79166522749998,  179.87499856049996,\n",
       "        179.95833189349995],\n",
       "      dtype=&#x27;float64&#x27;, name=&#x27;longitude&#x27;, length=4320))</pre></div></li><li class='xr-var-item'><div class='xr-index-name'><div>latitude</div></div><div class='xr-index-preview'>PandasIndex</div><div></div><input id='index-e78371b3-2428-478f-a125-15c56b732ae5' class='xr-index-data-in' type='checkbox'/><label for='index-e78371b3-2428-478f-a125-15c56b732ae5' title='Show/Hide index repr'><svg class='icon xr-icon-database'><use xlink:href='#icon-database'></use></svg></label><div class='xr-index-data'><pre>PandasIndex(Index([     89.9583333335,      89.8750000005,      89.7916666675,\n",
       "            89.7083333345,      89.6250000015,      89.5416666685,\n",
       "        89.45833333549999,  89.37500000249999,  89.29166666949999,\n",
       "        89.20833333649999,\n",
       "       ...\n",
       "       -89.20833261649999,     -89.2916659495, -89.37499928249999,\n",
       "           -89.4583326155, -89.54166594850001,     -89.6249992815,\n",
       "       -89.70833261450001,     -89.7916659475,     -89.8749992805,\n",
       "       -89.95833261349999],\n",
       "      dtype=&#x27;float64&#x27;, name=&#x27;latitude&#x27;, length=2160))</pre></div></li><li class='xr-var-item'><div class='xr-index-name'><div>time</div></div><div class='xr-index-preview'>PandasIndex</div><div></div><input id='index-b4636a2b-790e-4dae-9d30-b0349a7972f7' class='xr-index-data-in' type='checkbox'/><label for='index-b4636a2b-790e-4dae-9d30-b0349a7972f7' title='Show/Hide index repr'><svg class='icon xr-icon-database'><use xlink:href='#icon-database'></use></svg></label><div class='xr-index-data'><pre>PandasIndex(DatetimeIndex([&#x27;2020-01-01&#x27;], dtype=&#x27;datetime64[ns]&#x27;, name=&#x27;time&#x27;, freq=None))</pre></div></li></ul></div></li><li class='xr-section-item'><input id='section-7137969d-a3c0-4e38-9d63-889478ee4bd1' class='xr-section-summary-in' type='checkbox' disabled ><label for='section-7137969d-a3c0-4e38-9d63-889478ee4bd1' class='xr-section-summary'  title='Expand/collapse section'>Attributes: <span>(0)</span></label><div class='xr-section-inline-details'></div><div class='xr-section-details'><dl class='xr-attrs'></dl></div></li></ul></div></div>"
      ],
      "text/plain": [
       "<xarray.Dataset>\n",
       "Dimensions:                           (longitude: 4320, latitude: 2160, time: 1)\n",
       "Coordinates:\n",
       "  * longitude                         (longitude) float64 -180.0 ... 180.0\n",
       "  * latitude                          (latitude) float64 89.96 89.88 ... -89.96\n",
       "  * time                              (time) datetime64[ns] 2020-01-01\n",
       "Data variables: (12/18)\n",
       "    IMAGE Region Name                 (latitude, longitude) <U17 ...\n",
       "    grass                             (time, latitude, longitude) float64 ...\n",
       "    Wheat                             (time, latitude, longitude) float64 ...\n",
       "    Rice                              (time, latitude, longitude) float64 ...\n",
       "    Maize                             (time, latitude, longitude) float64 ...\n",
       "    Tropical cereals                  (time, latitude, longitude) float64 ...\n",
       "    ...                                ...\n",
       "    Tropical roots & tubers           (time, latitude, longitude) float64 ...\n",
       "    Sugar crops                       (time, latitude, longitude) float64 ...\n",
       "    Oil & palm fruit                  (time, latitude, longitude) float64 ...\n",
       "    Vegetables & fruits               (time, latitude, longitude) float64 ...\n",
       "    Other non-food & luxury & spices  (time, latitude, longitude) float64 ...\n",
       "    Plant based fibres                (time, latitude, longitude) float64 ..."
      ]
     },
     "execution_count": 1,
     "metadata": {},
     "output_type": "execute_result"
    }
   ],
   "source": [
    "import xarray\n",
    "\n",
    "emisi_total_am3_netcdf = xarray.open_dataset(\"D:/kerja/asisten riset/code v/step 3/GbGlct/dataset/AM3/emisi_total_AM3.NC\", engine=\"netcdf4\")"
   ]
  },
  {
   "cell_type": "code",
   "execution_count": null,
   "metadata": {},
   "outputs": [
    {
     "name": "stderr",
     "output_type": "stream",
     "text": [
      "C:\\Users\\HEFRYA~1\\AppData\\Local\\Temp/ipykernel_17388/1129014085.py:3: FutureWarning: The previous implementation of stack is deprecated and will be removed in a future version of pandas. See the What's New notes for pandas 2.1.0 for details. Specify future_stack=True to adopt the new implementation and silence this warning.\n",
      "  df_index = table.stack(level=0)\n"
     ]
    },
    {
     "data": {
      "text/html": [
       "<div>\n",
       "<style scoped>\n",
       "    .dataframe tbody tr th:only-of-type {\n",
       "        vertical-align: middle;\n",
       "    }\n",
       "\n",
       "    .dataframe tbody tr th {\n",
       "        vertical-align: top;\n",
       "    }\n",
       "\n",
       "    .dataframe thead th {\n",
       "        text-align: right;\n",
       "    }\n",
       "</style>\n",
       "<table border=\"1\" class=\"dataframe\">\n",
       "  <thead>\n",
       "    <tr style=\"text-align: right;\">\n",
       "      <th>time</th>\n",
       "      <th>region_name</th>\n",
       "      <th>type</th>\n",
       "      <th>2020</th>\n",
       "    </tr>\n",
       "  </thead>\n",
       "  <tbody>\n",
       "    <tr>\n",
       "      <th>0</th>\n",
       "      <td>Brazil</td>\n",
       "      <td>Maize</td>\n",
       "      <td>0.417519</td>\n",
       "    </tr>\n",
       "    <tr>\n",
       "      <th>1</th>\n",
       "      <td>Brazil</td>\n",
       "      <td>Oil &amp; palm fruit</td>\n",
       "      <td>0.000319</td>\n",
       "    </tr>\n",
       "    <tr>\n",
       "      <th>2</th>\n",
       "      <td>Brazil</td>\n",
       "      <td>Other non-food &amp; luxury &amp; spices</td>\n",
       "      <td>0.116713</td>\n",
       "    </tr>\n",
       "    <tr>\n",
       "      <th>3</th>\n",
       "      <td>Brazil</td>\n",
       "      <td>Other temperate cereals</td>\n",
       "      <td>0.013949</td>\n",
       "    </tr>\n",
       "    <tr>\n",
       "      <th>4</th>\n",
       "      <td>Brazil</td>\n",
       "      <td>Plant based fibres</td>\n",
       "      <td>0.194890</td>\n",
       "    </tr>\n",
       "    <tr>\n",
       "      <th>...</th>\n",
       "      <td>...</td>\n",
       "      <td>...</td>\n",
       "      <td>...</td>\n",
       "    </tr>\n",
       "    <tr>\n",
       "      <th>471</th>\n",
       "      <td>ocean</td>\n",
       "      <td>Tropical oil crops</td>\n",
       "      <td>0.003549</td>\n",
       "    </tr>\n",
       "    <tr>\n",
       "      <th>472</th>\n",
       "      <td>ocean</td>\n",
       "      <td>Tropical roots &amp; tubers</td>\n",
       "      <td>0.000670</td>\n",
       "    </tr>\n",
       "    <tr>\n",
       "      <th>473</th>\n",
       "      <td>ocean</td>\n",
       "      <td>Vegetables &amp; fruits</td>\n",
       "      <td>0.001246</td>\n",
       "    </tr>\n",
       "    <tr>\n",
       "      <th>474</th>\n",
       "      <td>ocean</td>\n",
       "      <td>Wheat</td>\n",
       "      <td>0.000560</td>\n",
       "    </tr>\n",
       "    <tr>\n",
       "      <th>475</th>\n",
       "      <td>ocean</td>\n",
       "      <td>grass</td>\n",
       "      <td>-inf</td>\n",
       "    </tr>\n",
       "  </tbody>\n",
       "</table>\n",
       "<p>476 rows × 3 columns</p>\n",
       "</div>"
      ],
      "text/plain": [
       "time region_name                              type      2020\n",
       "0         Brazil                             Maize  0.417519\n",
       "1         Brazil                  Oil & palm fruit  0.000319\n",
       "2         Brazil  Other non-food & luxury & spices  0.116713\n",
       "3         Brazil           Other temperate cereals  0.013949\n",
       "4         Brazil                Plant based fibres  0.194890\n",
       "..           ...                               ...       ...\n",
       "471        ocean                Tropical oil crops  0.003549\n",
       "472        ocean           Tropical roots & tubers  0.000670\n",
       "473        ocean               Vegetables & fruits  0.001246\n",
       "474        ocean                             Wheat  0.000560\n",
       "475        ocean                             grass      -inf\n",
       "\n",
       "[476 rows x 3 columns]"
      ]
     },
     "execution_count": 7,
     "metadata": {},
     "output_type": "execute_result"
    }
   ],
   "source": [
    "df = GFRAC_IMAGERegionName.isel(time=0).to_dataframe()\n",
    "table = pd.pivot_table(df, values=gfrac_ngfbfc, index=[\"region_name\"], columns=['time'], aggfunc=\"sum\", fill_value=0)"
   ]
  },
  {
   "cell_type": "code",
   "execution_count": null,
   "metadata": {},
   "outputs": [],
   "source": [
    "df_index = table.stack(level=0, future_stack=True)\n",
    "data = pd.to_datetime(df_index.columns, format='%d/%m/%Y %H.%M.%S')\n",
    "df_index.columns = data.year\n",
    "df_index = df_index.reset_index()\n",
    "df_index.rename(columns={'level_1': \"type\"}, inplace=True)\n",
    "df_index = df_index.replace([np.inf, -np.inf], np.nan)\n",
    "df_index = df_index.fillna(0)\n",
    "df_index.to_excel(\"D:/kerja/asisten riset/code v/step 3/GbGlct/dataset/AM3/Emisitotal_RegionType_AM3.xlsx\", index=False)"
   ]
  }
 ],
 "metadata": {
  "kernelspec": {
   "display_name": "Python 3",
   "language": "python",
   "name": "python3"
  },
  "language_info": {
   "codemirror_mode": {
    "name": "ipython",
    "version": 3
   },
   "file_extension": ".py",
   "mimetype": "text/x-python",
   "name": "python",
   "nbconvert_exporter": "python",
   "pygments_lexer": "ipython3",
   "version": "3.9.7"
  }
 },
 "nbformat": 4,
 "nbformat_minor": 2
}
