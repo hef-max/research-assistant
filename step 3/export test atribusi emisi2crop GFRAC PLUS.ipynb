{
 "cells": [
  {
   "cell_type": "code",
   "execution_count": 3,
   "metadata": {},
   "outputs": [],
   "source": [
    "import numpy as np\n",
    "import pandas as pd\n",
    "import xarray"
   ]
  },
  {
   "cell_type": "code",
   "execution_count": 4,
   "metadata": {},
   "outputs": [],
   "source": [
    "# glct_trans_1st = xarray.open_dataset(\"D:/kerja/asisten riset/code v/step 3/GbGlct/GLCT_trans_to.nc\", engine=\"netcdf4\")\n",
    "gfrac = xarray.open_dataset(\"D:/kerja/asisten riset/vol/milkunC/achaidir/IMAGE PBL/SSP2/GFRAC_NEW.NC\", engine=\"netcdf4\")\n",
    "gfrac_ngfbfc = [element.strip() for element in gfrac.coords['NGFBFC'].data.astype('str').tolist()]"
   ]
  },
  {
   "cell_type": "code",
   "execution_count": 5,
   "metadata": {},
   "outputs": [],
   "source": [
    "emission_CO2_netcdf = xarray.open_dataset(\"D:/emission_CO2_AM1_3tahun_v2.NC\", engine=\"netcdf4\")\n",
    "garea = xarray.open_dataset(\"D:/kerja/asisten riset/vol/milkunarc/cadlan/Analysis1_slidingwindows/GAREA.NC\", engine=\"netcdf4\")"
   ]
  },
  {
   "cell_type": "code",
   "execution_count": 6,
   "metadata": {},
   "outputs": [],
   "source": [
    "def divide(arr1, arr2):\n",
    "    return np.divide(arr1, arr2)\n",
    "\n",
    "def multiple(arr1, arr2):\n",
    "    return np.multiply(arr1, arr2)"
   ]
  },
  {
   "cell_type": "code",
   "execution_count": 7,
   "metadata": {},
   "outputs": [],
   "source": [
    "garea_ha = np.nan_to_num(np.multiply(garea['GAREA'].isel(time=slice(0, 5)), 100))\n",
    "gfrac_area = np.zeros((5, 17, 2160, 4320), dtype=\"float32\")\n",
    "\n",
    "for n in range(5):\n",
    "    for i in range(17):\n",
    "        gfrac_area[n][i] = np.nan_to_num(np.multiply(gfrac['GFRAC_new'].isel(time=n, NGFBFC=i).to_numpy(), garea_ha[n]))"
   ]
  },
  {
   "cell_type": "code",
   "execution_count": 6,
   "metadata": {},
   "outputs": [],
   "source": [
    "gfrac_area_netcdf = xarray.Dataset({\n",
    "    \"GFRAC_combined\":([\"time\",\"NGFBFC\",\"latitude\", \"longitude\"], gfrac_area)\n",
    "},coords={\n",
    "        \"time\": pd.date_range(start='1970-01-01', end='1990-01-01', freq='5YS'),\n",
    "        \"NGFBFC\" : gfrac_ngfbfc,\n",
    "        \"latitude\": gfrac.coords[\"latitude\"].to_numpy(),\n",
    "        \"longitude\": gfrac.coords[\"longitude\"].to_numpy()\n",
    "    })"
   ]
  },
  {
   "cell_type": "code",
   "execution_count": 8,
   "metadata": {},
   "outputs": [],
   "source": [
    "selisih_gfrac = np.zeros((4, 17, 2160, 4320), dtype=\"float32\")"
   ]
  },
  {
   "cell_type": "code",
   "execution_count": 152,
   "metadata": {},
   "outputs": [],
   "source": [
    "# max_year = 3\n",
    "\n",
    "# for n in range(max_year):\n",
    "#     for i, crop in enumerate(gfrac_ngfbfc):\n",
    "#         if n < max_year - 1:\n",
    "#             selisih_gfrac[n+1][i] = np.where((gfrac_area_netcdf[\"GFRAC_combined\"][n+1][i] > gfrac_area_netcdf[\"GFRAC_combined\"][n][i]),\n",
    "#                                             gfrac_area_netcdf[\"GFRAC_combined\"][n+1][i] - gfrac_area_netcdf[\"GFRAC_combined\"][n][i], 0)"
   ]
  },
  {
   "cell_type": "code",
   "execution_count": 9,
   "metadata": {},
   "outputs": [],
   "source": [
    "# =IF(AE3-AD3>0;AE3-AD3;0)\n",
    "max_year = 3\n",
    "\n",
    "for n in range(max_year):\n",
    "    for i, crop in enumerate(gfrac_ngfbfc):\n",
    "        selisih_gfrac[n+1][i] = np.where(gfrac_area[n+1][i] > gfrac_area[n][i], gfrac_area[n+1][i] - gfrac_area[n][i], 0)"
   ]
  },
  {
   "cell_type": "code",
   "execution_count": 12,
   "metadata": {},
   "outputs": [
    {
     "data": {
      "text/plain": [
       "227397710.0"
      ]
     },
     "execution_count": 12,
     "metadata": {},
     "output_type": "execute_result"
    }
   ],
   "source": [
    "selisih_gfrac[1].sum()"
   ]
  },
  {
   "cell_type": "code",
   "execution_count": null,
   "metadata": {},
   "outputs": [],
   "source": [
    "# max_year = 2\n",
    "# for i, crop in enumerate(gfrac_ngfbfc):\n",
    "#     for n in range(max_year):\n",
    "#         # if n < max_year - 1:\n",
    "#         selisih_gfrac[i][n] = np.where(selisih_gfrac[i][n+1] >= selisih_gfrac[i][n], selisih_gfrac[i][n+1] - selisih_gfrac[i][n], 0)"
   ]
  },
  {
   "cell_type": "code",
   "execution_count": 13,
   "metadata": {},
   "outputs": [],
   "source": [
    "selisih_gfrac_area_netcdf = xarray.Dataset({\n",
    "        \"selisih_gfrac\":([\"time\", \"NGFBFC\", \"latitude\", \"longitude\"], selisih_gfrac)\n",
    "    },\n",
    "    coords={\n",
    "        \"NGFBFC\": gfrac_ngfbfc,\n",
    "        \"time\": pd.date_range(start='1970-01-01', end='1985-01-01', freq='5YS'),\n",
    "        \"latitude\": gfrac.coords[\"latitude\"].to_numpy(),\n",
    "        \"longitude\": gfrac.coords[\"longitude\"].to_numpy(),\n",
    "    })"
   ]
  },
  {
   "cell_type": "code",
   "execution_count": 14,
   "metadata": {},
   "outputs": [],
   "source": [
    "proporsi_delta = np.zeros((3, 17, 2160, 4320), dtype=\"float32\")"
   ]
  },
  {
   "cell_type": "code",
   "execution_count": 16,
   "metadata": {},
   "outputs": [
    {
     "name": "stderr",
     "output_type": "stream",
     "text": [
      "C:\\Users\\HEFRYA~1\\AppData\\Local\\Temp/ipykernel_12024/3062683060.py:2: RuntimeWarning: invalid value encountered in divide\n",
      "  return np.divide(arr1, arr2)\n",
      "C:\\Users\\HEFRYA~1\\AppData\\Local\\Temp/ipykernel_12024/3062683060.py:2: RuntimeWarning: invalid value encountered in divide\n",
      "  return np.divide(arr1, arr2)\n",
      "C:\\Users\\HEFRYA~1\\AppData\\Local\\Temp/ipykernel_12024/3062683060.py:2: RuntimeWarning: invalid value encountered in divide\n",
      "  return np.divide(arr1, arr2)\n",
      "C:\\Users\\HEFRYA~1\\AppData\\Local\\Temp/ipykernel_12024/3062683060.py:2: RuntimeWarning: invalid value encountered in divide\n",
      "  return np.divide(arr1, arr2)\n",
      "C:\\Users\\HEFRYA~1\\AppData\\Local\\Temp/ipykernel_12024/3062683060.py:2: RuntimeWarning: invalid value encountered in divide\n",
      "  return np.divide(arr1, arr2)\n",
      "C:\\Users\\HEFRYA~1\\AppData\\Local\\Temp/ipykernel_12024/3062683060.py:2: RuntimeWarning: invalid value encountered in divide\n",
      "  return np.divide(arr1, arr2)\n",
      "C:\\Users\\HEFRYA~1\\AppData\\Local\\Temp/ipykernel_12024/3062683060.py:2: RuntimeWarning: invalid value encountered in divide\n",
      "  return np.divide(arr1, arr2)\n",
      "C:\\Users\\HEFRYA~1\\AppData\\Local\\Temp/ipykernel_12024/3062683060.py:2: RuntimeWarning: invalid value encountered in divide\n",
      "  return np.divide(arr1, arr2)\n",
      "C:\\Users\\HEFRYA~1\\AppData\\Local\\Temp/ipykernel_12024/3062683060.py:2: RuntimeWarning: invalid value encountered in divide\n",
      "  return np.divide(arr1, arr2)\n",
      "C:\\Users\\HEFRYA~1\\AppData\\Local\\Temp/ipykernel_12024/3062683060.py:2: RuntimeWarning: invalid value encountered in divide\n",
      "  return np.divide(arr1, arr2)\n",
      "C:\\Users\\HEFRYA~1\\AppData\\Local\\Temp/ipykernel_12024/3062683060.py:2: RuntimeWarning: invalid value encountered in divide\n",
      "  return np.divide(arr1, arr2)\n",
      "C:\\Users\\HEFRYA~1\\AppData\\Local\\Temp/ipykernel_12024/3062683060.py:2: RuntimeWarning: invalid value encountered in divide\n",
      "  return np.divide(arr1, arr2)\n",
      "C:\\Users\\HEFRYA~1\\AppData\\Local\\Temp/ipykernel_12024/3062683060.py:2: RuntimeWarning: invalid value encountered in divide\n",
      "  return np.divide(arr1, arr2)\n",
      "C:\\Users\\HEFRYA~1\\AppData\\Local\\Temp/ipykernel_12024/3062683060.py:2: RuntimeWarning: invalid value encountered in divide\n",
      "  return np.divide(arr1, arr2)\n",
      "C:\\Users\\HEFRYA~1\\AppData\\Local\\Temp/ipykernel_12024/3062683060.py:2: RuntimeWarning: invalid value encountered in divide\n",
      "  return np.divide(arr1, arr2)\n",
      "C:\\Users\\HEFRYA~1\\AppData\\Local\\Temp/ipykernel_12024/3062683060.py:2: RuntimeWarning: invalid value encountered in divide\n",
      "  return np.divide(arr1, arr2)\n",
      "C:\\Users\\HEFRYA~1\\AppData\\Local\\Temp/ipykernel_12024/3062683060.py:2: RuntimeWarning: invalid value encountered in divide\n",
      "  return np.divide(arr1, arr2)\n",
      "C:\\Users\\HEFRYA~1\\AppData\\Local\\Temp/ipykernel_12024/3062683060.py:2: RuntimeWarning: invalid value encountered in divide\n",
      "  return np.divide(arr1, arr2)\n",
      "C:\\Users\\HEFRYA~1\\AppData\\Local\\Temp/ipykernel_12024/3062683060.py:2: RuntimeWarning: invalid value encountered in divide\n",
      "  return np.divide(arr1, arr2)\n",
      "C:\\Users\\HEFRYA~1\\AppData\\Local\\Temp/ipykernel_12024/3062683060.py:2: RuntimeWarning: invalid value encountered in divide\n",
      "  return np.divide(arr1, arr2)\n",
      "C:\\Users\\HEFRYA~1\\AppData\\Local\\Temp/ipykernel_12024/3062683060.py:2: RuntimeWarning: invalid value encountered in divide\n",
      "  return np.divide(arr1, arr2)\n",
      "C:\\Users\\HEFRYA~1\\AppData\\Local\\Temp/ipykernel_12024/3062683060.py:2: RuntimeWarning: invalid value encountered in divide\n",
      "  return np.divide(arr1, arr2)\n",
      "C:\\Users\\HEFRYA~1\\AppData\\Local\\Temp/ipykernel_12024/3062683060.py:2: RuntimeWarning: invalid value encountered in divide\n",
      "  return np.divide(arr1, arr2)\n",
      "C:\\Users\\HEFRYA~1\\AppData\\Local\\Temp/ipykernel_12024/3062683060.py:2: RuntimeWarning: invalid value encountered in divide\n",
      "  return np.divide(arr1, arr2)\n",
      "C:\\Users\\HEFRYA~1\\AppData\\Local\\Temp/ipykernel_12024/3062683060.py:2: RuntimeWarning: invalid value encountered in divide\n",
      "  return np.divide(arr1, arr2)\n",
      "C:\\Users\\HEFRYA~1\\AppData\\Local\\Temp/ipykernel_12024/3062683060.py:2: RuntimeWarning: invalid value encountered in divide\n",
      "  return np.divide(arr1, arr2)\n",
      "C:\\Users\\HEFRYA~1\\AppData\\Local\\Temp/ipykernel_12024/3062683060.py:2: RuntimeWarning: invalid value encountered in divide\n",
      "  return np.divide(arr1, arr2)\n",
      "C:\\Users\\HEFRYA~1\\AppData\\Local\\Temp/ipykernel_12024/3062683060.py:2: RuntimeWarning: invalid value encountered in divide\n",
      "  return np.divide(arr1, arr2)\n",
      "C:\\Users\\HEFRYA~1\\AppData\\Local\\Temp/ipykernel_12024/3062683060.py:2: RuntimeWarning: invalid value encountered in divide\n",
      "  return np.divide(arr1, arr2)\n",
      "C:\\Users\\HEFRYA~1\\AppData\\Local\\Temp/ipykernel_12024/3062683060.py:2: RuntimeWarning: invalid value encountered in divide\n",
      "  return np.divide(arr1, arr2)\n",
      "C:\\Users\\HEFRYA~1\\AppData\\Local\\Temp/ipykernel_12024/3062683060.py:2: RuntimeWarning: invalid value encountered in divide\n",
      "  return np.divide(arr1, arr2)\n",
      "C:\\Users\\HEFRYA~1\\AppData\\Local\\Temp/ipykernel_12024/3062683060.py:2: RuntimeWarning: invalid value encountered in divide\n",
      "  return np.divide(arr1, arr2)\n",
      "C:\\Users\\HEFRYA~1\\AppData\\Local\\Temp/ipykernel_12024/3062683060.py:2: RuntimeWarning: invalid value encountered in divide\n",
      "  return np.divide(arr1, arr2)\n",
      "C:\\Users\\HEFRYA~1\\AppData\\Local\\Temp/ipykernel_12024/3062683060.py:2: RuntimeWarning: invalid value encountered in divide\n",
      "  return np.divide(arr1, arr2)\n",
      "C:\\Users\\HEFRYA~1\\AppData\\Local\\Temp/ipykernel_12024/3062683060.py:2: RuntimeWarning: invalid value encountered in divide\n",
      "  return np.divide(arr1, arr2)\n",
      "C:\\Users\\HEFRYA~1\\AppData\\Local\\Temp/ipykernel_12024/3062683060.py:2: RuntimeWarning: invalid value encountered in divide\n",
      "  return np.divide(arr1, arr2)\n",
      "C:\\Users\\HEFRYA~1\\AppData\\Local\\Temp/ipykernel_12024/3062683060.py:2: RuntimeWarning: invalid value encountered in divide\n",
      "  return np.divide(arr1, arr2)\n",
      "C:\\Users\\HEFRYA~1\\AppData\\Local\\Temp/ipykernel_12024/3062683060.py:2: RuntimeWarning: invalid value encountered in divide\n",
      "  return np.divide(arr1, arr2)\n",
      "C:\\Users\\HEFRYA~1\\AppData\\Local\\Temp/ipykernel_12024/3062683060.py:2: RuntimeWarning: invalid value encountered in divide\n",
      "  return np.divide(arr1, arr2)\n",
      "C:\\Users\\HEFRYA~1\\AppData\\Local\\Temp/ipykernel_12024/3062683060.py:2: RuntimeWarning: invalid value encountered in divide\n",
      "  return np.divide(arr1, arr2)\n",
      "C:\\Users\\HEFRYA~1\\AppData\\Local\\Temp/ipykernel_12024/3062683060.py:2: RuntimeWarning: invalid value encountered in divide\n",
      "  return np.divide(arr1, arr2)\n",
      "C:\\Users\\HEFRYA~1\\AppData\\Local\\Temp/ipykernel_12024/3062683060.py:2: RuntimeWarning: invalid value encountered in divide\n",
      "  return np.divide(arr1, arr2)\n",
      "C:\\Users\\HEFRYA~1\\AppData\\Local\\Temp/ipykernel_12024/3062683060.py:2: RuntimeWarning: invalid value encountered in divide\n",
      "  return np.divide(arr1, arr2)\n",
      "C:\\Users\\HEFRYA~1\\AppData\\Local\\Temp/ipykernel_12024/3062683060.py:2: RuntimeWarning: invalid value encountered in divide\n",
      "  return np.divide(arr1, arr2)\n",
      "C:\\Users\\HEFRYA~1\\AppData\\Local\\Temp/ipykernel_12024/3062683060.py:2: RuntimeWarning: invalid value encountered in divide\n",
      "  return np.divide(arr1, arr2)\n",
      "C:\\Users\\HEFRYA~1\\AppData\\Local\\Temp/ipykernel_12024/3062683060.py:2: RuntimeWarning: invalid value encountered in divide\n",
      "  return np.divide(arr1, arr2)\n",
      "C:\\Users\\HEFRYA~1\\AppData\\Local\\Temp/ipykernel_12024/3062683060.py:2: RuntimeWarning: invalid value encountered in divide\n",
      "  return np.divide(arr1, arr2)\n",
      "C:\\Users\\HEFRYA~1\\AppData\\Local\\Temp/ipykernel_12024/3062683060.py:2: RuntimeWarning: invalid value encountered in divide\n",
      "  return np.divide(arr1, arr2)\n",
      "C:\\Users\\HEFRYA~1\\AppData\\Local\\Temp/ipykernel_12024/3062683060.py:2: RuntimeWarning: invalid value encountered in divide\n",
      "  return np.divide(arr1, arr2)\n",
      "C:\\Users\\HEFRYA~1\\AppData\\Local\\Temp/ipykernel_12024/3062683060.py:2: RuntimeWarning: invalid value encountered in divide\n",
      "  return np.divide(arr1, arr2)\n",
      "C:\\Users\\HEFRYA~1\\AppData\\Local\\Temp/ipykernel_12024/3062683060.py:2: RuntimeWarning: invalid value encountered in divide\n",
      "  return np.divide(arr1, arr2)\n"
     ]
    }
   ],
   "source": [
    "for n in range(1, 4):\n",
    "    for i, crop in enumerate(gfrac_ngfbfc):\n",
    "        proporsi_delta[n-1][i] = np.nan_to_num(divide(selisih_gfrac_area_netcdf['selisih_gfrac'].isel(time=n, NGFBFC=i).to_numpy(), selisih_gfrac_area_netcdf['selisih_gfrac'].isel(time=n).sum(dim='NGFBFC').to_numpy()))"
   ]
  },
  {
   "cell_type": "code",
   "execution_count": null,
   "metadata": {},
   "outputs": [],
   "source": [
    "# proporsi_delta_netcdf = xarray.Dataset(\n",
    "# coords={\n",
    "#         \"time\": pd.date_range(start='1975-01-01', end='1985-01-01', freq='5YS'),\n",
    "#         \"latitude\": gfrac.coords[\"latitude\"].to_numpy(),\n",
    "#         \"longitude\": gfrac.coords[\"longitude\"].to_numpy()\n",
    "#     })\n",
    "\n",
    "# coords = (\"time\", \"latitude\", \"longitude\")\n",
    "# data_vars = {\n",
    "#     ngfbc: (coords, proporsi_delta[i]) for i, ngfbc in enumerate(gfrac_ngfbfc)\n",
    "# }\n",
    "# proporsi_delta_netcdf = proporsi_delta_netcdf.assign(data_vars)"
   ]
  },
  {
   "cell_type": "code",
   "execution_count": 17,
   "metadata": {},
   "outputs": [],
   "source": [
    "agri_to_agri_prop_crop = np.zeros((17, 3, 2160, 4320), dtype=\"float32\")"
   ]
  },
  {
   "cell_type": "code",
   "execution_count": 18,
   "metadata": {},
   "outputs": [],
   "source": [
    "for i, crop in enumerate(gfrac_ngfbfc):\n",
    "    for n in range(3):\n",
    "        agri_to_agri_prop_crop[i][n] = np.nan_to_num(multiple(emission_CO2_netcdf['Agricultural Transition Emission'].isel(time=n).to_numpy(), proporsi_delta[n][i]))"
   ]
  },
  {
   "cell_type": "code",
   "execution_count": 19,
   "metadata": {},
   "outputs": [],
   "source": [
    "luc_agri_prop_crop_netcdf = xarray.Dataset(\n",
    "coords={\n",
    "        \"time\": pd.date_range(start='1975-01-01', end='1985-01-01', freq='5YS'),\n",
    "        \"latitude\": gfrac.coords[\"latitude\"].to_numpy(),\n",
    "        \"longitude\": gfrac.coords[\"longitude\"].to_numpy(),\n",
    "    })\n",
    "\n",
    "coords = (\"time\", \"latitude\", \"longitude\")\n",
    "data_vars = {\n",
    "    ngfbc: (coords, agri_to_agri_prop_crop[i]) for i, ngfbc in enumerate(gfrac_ngfbfc)\n",
    "}\n",
    "luc_agri_prop_crop_netcdf = luc_agri_prop_crop_netcdf.assign(data_vars)"
   ]
  },
  {
   "cell_type": "code",
   "execution_count": null,
   "metadata": {},
   "outputs": [],
   "source": [
    "x = [-51.706, -55.974643, 101.457, 109.38, -96.6289, 48.966]\n",
    "y = [-22.698, -21.208333, 31.4420, -7.11, 18.549639, -18.07]"
   ]
  },
  {
   "cell_type": "code",
   "execution_count": null,
   "metadata": {},
   "outputs": [],
   "source": [
    "# luc_agri_prop_crop_netcdf.isel(time=0).where(luc_agri_prop_crop_netcdf.isel(time=0)['country'] == \"Brazil\").sum().to_pandas().sum()"
   ]
  },
  {
   "cell_type": "code",
   "execution_count": 27,
   "metadata": {},
   "outputs": [],
   "source": [
    "# x = np.random.randint(1, 2160)\n",
    "# y = np.random.randint(1, 4320)\n",
    "# luc_agri_prop_crop_netcdf.isel(time=2, latitude=x, longitude=y).to_pandas().sum(), emission_CO2_netcdf['Agricultural Transition Emission'].isel(time=2, latitude=x, longitude=y).sum().to_pandas().sum()"
   ]
  },
  {
   "cell_type": "code",
   "execution_count": 28,
   "metadata": {},
   "outputs": [
    {
     "data": {
      "text/plain": [
       "0.6162067553959787"
      ]
     },
     "execution_count": 28,
     "metadata": {},
     "output_type": "execute_result"
    }
   ],
   "source": [
    "luc_agri_prop_crop_netcdf.isel(time=2).sum().to_pandas().sum()"
   ]
  },
  {
   "cell_type": "code",
   "execution_count": 169,
   "metadata": {},
   "outputs": [
    {
     "data": {
      "text/plain": [
       "array(1.005606, dtype=float32)"
      ]
     },
     "execution_count": 169,
     "metadata": {},
     "output_type": "execute_result"
    }
   ],
   "source": [
    "emission_CO2_netcdf['Agricultural Transition Emission'].isel(time=1).sum().to_pandas()"
   ]
  },
  {
   "cell_type": "code",
   "execution_count": null,
   "metadata": {},
   "outputs": [],
   "source": [
    "emission_CO2_netcdf['Agricultural Transition Emission'].isel(time=0).where(emission_CO2_netcdf['Agricultural Transition Emission'].isel(time=0)['country_name'] == \"Brazil\").sum()"
   ]
  }
 ],
 "metadata": {
  "kernelspec": {
   "display_name": "Python 3",
   "language": "python",
   "name": "python3"
  },
  "language_info": {
   "codemirror_mode": {
    "name": "ipython",
    "version": 3
   },
   "file_extension": ".py",
   "mimetype": "text/x-python",
   "name": "python",
   "nbconvert_exporter": "python",
   "pygments_lexer": "ipython3",
   "version": "3.9.7"
  }
 },
 "nbformat": 4,
 "nbformat_minor": 2
}
